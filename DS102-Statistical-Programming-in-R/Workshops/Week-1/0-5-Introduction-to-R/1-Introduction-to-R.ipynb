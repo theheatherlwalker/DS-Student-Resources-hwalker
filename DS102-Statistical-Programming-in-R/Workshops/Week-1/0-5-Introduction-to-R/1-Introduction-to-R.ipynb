{
 "cells": [
  {
   "cell_type": "markdown",
   "id": "2bbd0409-3c1e-4ee7-8972-69980840094d",
   "metadata": {},
   "source": [
    "# Introduction to R"
   ]
  },
  {
   "cell_type": "code",
   "execution_count": 1,
   "id": "a7a6afb0-3f78-4a9b-9e29-8360be6775c9",
   "metadata": {},
   "outputs": [
    {
     "name": "stdout",
     "output_type": "stream",
     "text": [
      "\n",
      "The downloaded binary packages are in\n",
      "\t/var/folders/wk/6why77bn1kn0l0pkd4vd3zl00000gn/T//Rtmp0V0zbu/downloaded_packages\n"
     ]
    },
    {
     "data": {
      "text/html": [
       "<!doctype html>\n",
       "<html>\n",
       "\t<head>\n",
       "\t\t<meta charset=\"utf-8\">\n",
       "\t\t<link href=\"data:text/css;charset-utf-8;base64,LnZlbWJlZHIgewogIG1hcmdpbi1ib3R0b206IDEwcHg7Cn0KCi52ZW1iZWRyLXJvdW5kZWQgewogIGRpc3BsYXk6IGlubGluZS1ibG9jazsKICBib3JkZXItcmFkaXVzOiAxNXB4OwogIG92ZXJmbG93OiBoaWRkZW47Cn0KCi52ZW1iZWRyLXJvdW5kZWQgaWZyYW1lIHsKICBkaXNwbGF5OiBibG9jazsKICBib3JkZXI6IG5vbmU7Cn0K\" rel=\"stylesheet\" />\n",
       "\t</head>\n",
       "\t<body>\n",
       "\t\t<div class=\"vembedr\">\n",
       "  <div>\n",
       "    <iframe class=\"vimeo-embed\" src=\"https://player.vimeo.com/video/715793781\" width=\"533\" height=\"300\" frameborder=\"0\" webkitallowfullscreen=\"\" mozallowfullscreen=\"\" allowfullscreen=\"\" data-external=\"1\"></iframe>\n",
       "  </div>\n",
       "</div>\n",
       "\t</body>\n",
       "</html>\n"
      ],
      "text/plain": [
       "Shiny tags cannot be represented in plain text (need html)"
      ]
     },
     "metadata": {
      "text/html": {
       "isolated": true
      }
     },
     "output_type": "display_data"
    }
   ],
   "source": [
    "install.packages(\"vembedr\")\n",
    "library(\"vembedr\")\n",
    "embed_vimeo(\"715793781\")"
   ]
  },
  {
   "cell_type": "markdown",
   "id": "b522e61e-90f3-4b23-9abf-7b32673ea7ee",
   "metadata": {},
   "source": [
    "https://vimeo.com/715793781"
   ]
  },
  {
   "cell_type": "markdown",
   "id": "4306ec19-7539-4760-b999-93b0dbf55456",
   "metadata": {},
   "source": [
    "### Table of Contents <a class=\"anchor\" id=\"DS102L1-WS.5_toc\"></a>\n",
    "\n",
    "* [Table of Contents](#DS102L1-WS.5_toc)\n",
    "    * [Page 1 - The R application is an interactive R interpreter](#DS102L1-WS.5_page_1)\n",
    "    * [Page 2 - Help](#DS102L1-WS.5_page_2)\n",
    "    * [Page 3 - Vectors](#DS102L1-WS.5_page_3)\n",
    "    * [Page 4 - Subsetting](#DS102L1-WS.5_page_4)\n",
    "    * [Page 5 - Vectorized functions](#DS102L1-WS.5_page_5)\n",
    "    * [Page 6 - Recycling](#DS102L1-WS.5_page_6)\n",
    "    * [Page 7 - Functions](#DS102L1-WS.5_page_7)\n",
    "    * [Page 8 - Matrices](#DS102L1-WS.5_page_8)\n",
    "    * [Page 9 - Loading data into R](#DS102L1-WS.5_page_9)\n",
    "    * [Page 10 - Working with Packages](#DS102L1-WS.5_page_10)\n",
    "    * [Page 11 - Summary](#DS102L1-WS.5_page_11)"
   ]
  },
  {
   "cell_type": "markdown",
   "id": "925f6cbc-8947-4c41-87fc-78254c43ec4f",
   "metadata": {},
   "source": [
    "<hr style=\"height:10px;border-width:0;color:gray;background-color:gray\">\n",
    "\n",
    "# Page 1 - The R application is an interactive R interpreter <a class=\"anchor\" id=\"DS102L1-WS.5_page_1\"></a>\n",
    "\n",
    "[Back to Top](#DS102L1-WS.5_toc)\n",
    "\n",
    "<hr style=\"height:10px;border-width:0;color:gray;background-color:gray\">"
   ]
  },
  {
   "cell_type": "markdown",
   "id": "1883cf90-8561-455e-8f42-accb2f0ec811",
   "metadata": {},
   "source": [
    "\n",
    "Basically any line starting with a **>** character is R asking for input. \n",
    "\n",
    "If you see a **+** prompt, it means that you didn't finish typing a statement at the R prompt and R is asking you to provide the rest of the expression. \n",
    "\n",
    "Hitting the return key will send your input to R to be evaluated. \n",
    "\n",
    "R's response is then spit back at you in the line immediately following your input, after which R asks for more input. \n",
    "\n",
    "This is called a **REPL (Read-Evaluate-Print-Loop)**. \n",
    "\n",
    "It is also possible for R to read a batch of commands saved in a file called **batch mode**. \n",
    "\n",
    "As you might imagine, R supports most of all mathematical operators as with most other languages.\n",
    "\n",
    "<p style=\"text-align: center\">\n",
    "  <img  src=\"../../../Media/R-Terminal.png\" width=\"600\" alt=\"R-Terminal\">\n",
    "</p>"
   ]
  },
  {
   "cell_type": "markdown",
   "id": "cb96128d-9bf6-403a-afa1-4baca8ccd1bb",
   "metadata": {},
   "source": [
    "If you path is set for R, then you'll be able to just type R in a terminal. The above example is on a MacOS."
   ]
  },
  {
   "cell_type": "markdown",
   "id": "25f44495-7902-4f3d-9504-f89461885509",
   "metadata": {},
   "source": [
    "Another way to start R is by double click R application shown below\n",
    "\n",
    "<p style=\"text-align: center\">\n",
    "  <img  src=\"../../../Media/R-Application-Icon.png\" width=\"100\" alt=\"R-App-Icon\">\n",
    "</p>\n",
    "\n",
    "This in turn opens an R console application\n",
    "\n",
    "<p style=\"text-align: center\">\n",
    "  <img  src=\"../../../Media/R-Console.png\" width=\"600\" alt=\"R-App\">\n",
    "</p>\n",
    "\n",
    "Another way to interact with R is through the RStudio Application, yet another way, but this application is a little more feature rich.\n",
    "\n",
    "<p style=\"text-align: center\">\n",
    "  <img  src=\"../../../Media/RStudio-Icon.png\" width=\"100\" alt=\"R-Studio-Icon\">\n",
    "</p>\n",
    "\n",
    "<p style=\"text-align: center\">\n",
    "  <img  src=\"../../../Media/RStudio.png\" width=\"800\" alt=\"R-Studio\">\n",
    "</p>"
   ]
  },
  {
   "cell_type": "markdown",
   "id": "3bef1d6a-2588-4d42-8d82-13affdfd7d5c",
   "metadata": {},
   "source": [
    "Lastly, you can create an R notebook in Jupyter Lab if you have follow the instructions correctly in our Homebrew or Chocolatey instructions.\n",
    "\n",
    "<p style=\"text-align: center\">\n",
    "  <img  src=\"../../../Media/Jupyter-R-Kernel.png\" width=\"800\" alt=\"Jupyter-R\">\n",
    "</p>"
   ]
  },
  {
   "cell_type": "markdown",
   "id": "50d58073-63a3-497d-87c3-d9c42d051f30",
   "metadata": {},
   "source": [
    "<hr style=\"height:10px;border-width:0;color:gray;background-color:gray\">\n",
    "\n",
    "# Page 2 - Help <a class=\"anchor\" id=\"DS102L1-WS.5_page_2\"></a>\n",
    "\n",
    "[Back to Top](#DS102L1-WS.5_toc)\n",
    "\n",
    "<hr style=\"height:10px;border-width:0;color:gray;background-color:gray\">"
   ]
  },
  {
   "cell_type": "markdown",
   "id": "906c7b30-bba4-49a5-9bd6-b6fad662c155",
   "metadata": {},
   "source": [
    "Okay, we've covered some of the ways we can run R instructions. Let's next go over how we can obtain help."
   ]
  },
  {
   "cell_type": "markdown",
   "id": "d9b825ba-5931-40ac-8dd3-933498005174",
   "metadata": {},
   "source": [
    "## HELP!\n",
    "\n",
    "There is a nice Help function contained in the R language and you can get help on any other function by running one of two commands:\n",
    "\n",
    "```r\n",
    "help(function)\n",
    "?function\n",
    "```\n",
    "\n",
    "let's try it out \"gsub\" which is a function to conduct Pattern Matching and Replacement"
   ]
  },
  {
   "cell_type": "code",
   "execution_count": 1,
   "id": "62f36850-6a63-43e2-ab8f-c9aacec4e992",
   "metadata": {},
   "outputs": [],
   "source": [
    "#help(gsub)"
   ]
  },
  {
   "cell_type": "markdown",
   "id": "522d7186-80ec-40ed-b80b-8eeb1e62d11d",
   "metadata": {},
   "source": [
    "A lot of times, you won't remember the exact name of a function, but you'll have sort of an idea in your memory. For this, you can use the help.search() function:\n",
    "\n",
    "```r\n",
    "\n",
    "help.search(ggpl)\n",
    "\n",
    "??ggpl\n",
    "```\n"
   ]
  },
  {
   "cell_type": "code",
   "execution_count": 2,
   "id": "ceb16abd-e191-443f-84ae-dd4e4338b301",
   "metadata": {},
   "outputs": [],
   "source": [
    "#??ggpl"
   ]
  },
  {
   "cell_type": "code",
   "execution_count": 4,
   "id": "c8df187e-efb4-49c6-92fe-334e7aa516de",
   "metadata": {},
   "outputs": [],
   "source": [
    "# if you want a little bit of light reading try \n",
    "# ??statistics"
   ]
  },
  {
   "cell_type": "markdown",
   "id": "c63b013b-3b4f-464f-be4a-09ca62e4d2eb",
   "metadata": {},
   "source": [
    "<hr style=\"height:10px;border-width:0;color:gray;background-color:gray\">\n",
    "\n",
    "# Page 3 - Vectors <a class=\"anchor\" id=\"DS102L1-WS.5_page_3\"></a>\n",
    "\n",
    "[Back to Top](#DS102L1-WS.5_toc)\n",
    "\n",
    "<hr style=\"height:10px;border-width:0;color:gray;background-color:gray\">"
   ]
  },
  {
   "cell_type": "markdown",
   "id": "f13656cd-df6c-40b9-a9e6-2c1a49ff546d",
   "metadata": {},
   "source": [
    "Vectors are the most basic data structures in R, and they are ubiquitous indeed. In fact, even the single values that we've been working with thus far were actually vectors of length 1. \n",
    "\n",
    "Vectors are essentially an ordered collection of values of the same atomic data type. Vectors can be arbitrarily large (with some limitations) or they can be just one single value.\n",
    "\n",
    "The canonical way of building vectors manually is using the c() function (which stands for combine):"
   ]
  },
  {
   "cell_type": "code",
   "execution_count": 6,
   "id": "ac99d9d3-5278-4dfe-8825-fc85825354d5",
   "metadata": {},
   "outputs": [],
   "source": [
    "phone.number.vector <- c(5, 5, 5, 1, 2, 1, 2) "
   ]
  },
  {
   "cell_type": "code",
   "execution_count": 6,
   "id": "1c97ce1d-ef18-45c7-bc15-065bf69887c6",
   "metadata": {},
   "outputs": [
    {
     "data": {
      "text/html": [
       "<style>\n",
       ".list-inline {list-style: none; margin:0; padding: 0}\n",
       ".list-inline>li {display: inline-block}\n",
       ".list-inline>li:not(:last-child)::after {content: \"\\00b7\"; padding: 0 .5ex}\n",
       "</style>\n",
       "<ol class=list-inline><li>5</li><li>5</li><li>5</li><li>1</li><li>2</li><li>1</li><li>2</li></ol>\n"
      ],
      "text/latex": [
       "\\begin{enumerate*}\n",
       "\\item 5\n",
       "\\item 5\n",
       "\\item 5\n",
       "\\item 1\n",
       "\\item 2\n",
       "\\item 1\n",
       "\\item 2\n",
       "\\end{enumerate*}\n"
      ],
      "text/markdown": [
       "1. 5\n",
       "2. 5\n",
       "3. 5\n",
       "4. 1\n",
       "5. 2\n",
       "6. 1\n",
       "7. 2\n",
       "\n",
       "\n"
      ],
      "text/plain": [
       "[1] 5 5 5 1 2 1 2"
      ]
     },
     "metadata": {},
     "output_type": "display_data"
    }
   ],
   "source": [
    "phone.number.vector"
   ]
  },
  {
   "cell_type": "markdown",
   "id": "9585f696-cff1-4dab-8fac-e0ba8d6de13e",
   "metadata": {},
   "source": [
    "We've created a phone number with just numbers\n",
    "\n",
    "Let's add a hyphen"
   ]
  },
  {
   "cell_type": "code",
   "execution_count": 7,
   "id": "9292befe-818a-4bdb-9218-fc1d4477081b",
   "metadata": {},
   "outputs": [],
   "source": [
    "phone.number.vector2 <- c(5, 5, 5, \"-\", 1, 2, 1, 2) "
   ]
  },
  {
   "cell_type": "code",
   "execution_count": 8,
   "id": "e5909846-0495-4cb1-be83-e626f8b90f85",
   "metadata": {},
   "outputs": [
    {
     "data": {
      "text/html": [
       "<style>\n",
       ".list-inline {list-style: none; margin:0; padding: 0}\n",
       ".list-inline>li {display: inline-block}\n",
       ".list-inline>li:not(:last-child)::after {content: \"\\00b7\"; padding: 0 .5ex}\n",
       "</style>\n",
       "<ol class=list-inline><li>'5'</li><li>'5'</li><li>'5'</li><li>'-'</li><li>'1'</li><li>'2'</li><li>'1'</li><li>'2'</li></ol>\n"
      ],
      "text/latex": [
       "\\begin{enumerate*}\n",
       "\\item '5'\n",
       "\\item '5'\n",
       "\\item '5'\n",
       "\\item '-'\n",
       "\\item '1'\n",
       "\\item '2'\n",
       "\\item '1'\n",
       "\\item '2'\n",
       "\\end{enumerate*}\n"
      ],
      "text/markdown": [
       "1. '5'\n",
       "2. '5'\n",
       "3. '5'\n",
       "4. '-'\n",
       "5. '1'\n",
       "6. '2'\n",
       "7. '1'\n",
       "8. '2'\n",
       "\n",
       "\n"
      ],
      "text/plain": [
       "[1] \"5\" \"5\" \"5\" \"-\" \"1\" \"2\" \"1\" \"2\""
      ]
     },
     "metadata": {},
     "output_type": "display_data"
    }
   ],
   "source": [
    "phone.number.vector2"
   ]
  },
  {
   "cell_type": "markdown",
   "id": "2f945a45-fb83-4ec0-bcb6-0159f6755655",
   "metadata": {},
   "source": [
    "Notice the single quotes now as R converts all the items in the vector (called elements) into character data types to satisfy the condition that all elements of a vector must be of the same type."
   ]
  },
  {
   "cell_type": "markdown",
   "id": "3fcea83d-cea9-464c-a5e0-edeb25fb718e",
   "metadata": {},
   "source": [
    "<hr style=\"height:10px;border-width:0;color:gray;background-color:gray\">\n",
    "\n",
    "# Page 4 - Subsetting <a class=\"anchor\" id=\"DS102L1-WS.5_page_4\"></a>\n",
    "\n",
    "[Back to Top](#DS102L1-WS.5_toc)\n",
    "\n",
    "<hr style=\"height:10px;border-width:0;color:gray;background-color:gray\">"
   ]
  },
  {
   "cell_type": "markdown",
   "id": "f2aab429-009e-4d8e-971c-1a60c20a0efd",
   "metadata": {},
   "source": [
    "It is very common to want to extract one or more elements from a vector. For this, we use a technique called indexing or subsetting. After the vector, we put an integer in square brackets ```([])``` called the subscript operator. This instructs R to return the element at that index."
   ]
  },
  {
   "cell_type": "code",
   "execution_count": 9,
   "id": "04c26bb1-8435-408d-8298-7acff68dfb31",
   "metadata": {},
   "outputs": [
    {
     "data": {
      "text/html": [
       "2"
      ],
      "text/latex": [
       "2"
      ],
      "text/markdown": [
       "2"
      ],
      "text/plain": [
       "[1] 2"
      ]
     },
     "metadata": {},
     "output_type": "display_data"
    }
   ],
   "source": [
    "phone.number.vector[5]"
   ]
  },
  {
   "cell_type": "code",
   "execution_count": 10,
   "id": "baaec087-6155-4c11-b32d-f336490cba9a",
   "metadata": {},
   "outputs": [
    {
     "data": {
      "text/html": [
       "<style>\n",
       ".list-inline {list-style: none; margin:0; padding: 0}\n",
       ".list-inline>li {display: inline-block}\n",
       ".list-inline>li:not(:last-child)::after {content: \"\\00b7\"; padding: 0 .5ex}\n",
       "</style>\n",
       "<ol class=list-inline><li>5</li><li>5</li><li>5</li><li>1</li><li>2</li><li>1</li><li>2</li></ol>\n"
      ],
      "text/latex": [
       "\\begin{enumerate*}\n",
       "\\item 5\n",
       "\\item 5\n",
       "\\item 5\n",
       "\\item 1\n",
       "\\item 2\n",
       "\\item 1\n",
       "\\item 2\n",
       "\\end{enumerate*}\n"
      ],
      "text/markdown": [
       "1. 5\n",
       "2. 5\n",
       "3. 5\n",
       "4. 1\n",
       "5. 2\n",
       "6. 1\n",
       "7. 2\n",
       "\n",
       "\n"
      ],
      "text/plain": [
       "[1] 5 5 5 1 2 1 2"
      ]
     },
     "metadata": {},
     "output_type": "display_data"
    }
   ],
   "source": [
    "phone.number.vector[1:7]"
   ]
  },
  {
   "cell_type": "markdown",
   "id": "d0a33e20-757c-41ae-b9a0-0d0cc3407852",
   "metadata": {},
   "source": [
    "Look what happens when we try to index outside of the vector"
   ]
  },
  {
   "cell_type": "code",
   "execution_count": 11,
   "id": "f05b2b01-58de-4c88-a681-a17d588d212b",
   "metadata": {},
   "outputs": [
    {
     "data": {
      "text/html": [
       "&lt;NA&gt;"
      ],
      "text/latex": [
       "<NA>"
      ],
      "text/markdown": [
       "&lt;NA&gt;"
      ],
      "text/plain": [
       "[1] NA"
      ]
     },
     "metadata": {},
     "output_type": "display_data"
    }
   ],
   "source": [
    "phone.number.vector[8]"
   ]
  },
  {
   "cell_type": "markdown",
   "id": "d2863a4b-e371-40a5-b4e6-74e7dc200c0b",
   "metadata": {},
   "source": [
    "Let's extract the first, third, fifth, and seventh element from our vector "
   ]
  },
  {
   "cell_type": "code",
   "execution_count": 12,
   "id": "af1861ab-d3f9-4ba2-a281-84a49f10db18",
   "metadata": {},
   "outputs": [
    {
     "data": {
      "text/html": [
       "<style>\n",
       ".list-inline {list-style: none; margin:0; padding: 0}\n",
       ".list-inline>li {display: inline-block}\n",
       ".list-inline>li:not(:last-child)::after {content: \"\\00b7\"; padding: 0 .5ex}\n",
       "</style>\n",
       "<ol class=list-inline><li>5</li><li>5</li><li>2</li><li>2</li></ol>\n"
      ],
      "text/latex": [
       "\\begin{enumerate*}\n",
       "\\item 5\n",
       "\\item 5\n",
       "\\item 2\n",
       "\\item 2\n",
       "\\end{enumerate*}\n"
      ],
      "text/markdown": [
       "1. 5\n",
       "2. 5\n",
       "3. 2\n",
       "4. 2\n",
       "\n",
       "\n"
      ],
      "text/plain": [
       "[1] 5 5 2 2"
      ]
     },
     "metadata": {},
     "output_type": "display_data"
    }
   ],
   "source": [
    "phone.number.vector[c(1,3,5,7)]"
   ]
  },
  {
   "cell_type": "markdown",
   "id": "0bddea7b-f75c-4da3-8ebc-2a9ab2d465bd",
   "metadata": {},
   "source": [
    "The ability to use vectors to index other vectors may not seem like much now, but its usefulness will become clear soon.\n",
    "\n",
    "Another way to create vectors is using sequences:"
   ]
  },
  {
   "cell_type": "code",
   "execution_count": 13,
   "id": "2a4da6f8-5df8-4c73-bc96-cfc8cf4d06ed",
   "metadata": {},
   "outputs": [],
   "source": [
    "new.vector <- 1:10 "
   ]
  },
  {
   "cell_type": "code",
   "execution_count": 14,
   "id": "ba8b068c-418d-4c17-9d8e-47e3b2a8066d",
   "metadata": {},
   "outputs": [
    {
     "data": {
      "text/html": [
       "<style>\n",
       ".list-inline {list-style: none; margin:0; padding: 0}\n",
       ".list-inline>li {display: inline-block}\n",
       ".list-inline>li:not(:last-child)::after {content: \"\\00b7\"; padding: 0 .5ex}\n",
       "</style>\n",
       "<ol class=list-inline><li>1</li><li>2</li><li>3</li><li>4</li><li>5</li><li>6</li><li>7</li><li>8</li><li>9</li><li>10</li></ol>\n"
      ],
      "text/latex": [
       "\\begin{enumerate*}\n",
       "\\item 1\n",
       "\\item 2\n",
       "\\item 3\n",
       "\\item 4\n",
       "\\item 5\n",
       "\\item 6\n",
       "\\item 7\n",
       "\\item 8\n",
       "\\item 9\n",
       "\\item 10\n",
       "\\end{enumerate*}\n"
      ],
      "text/markdown": [
       "1. 1\n",
       "2. 2\n",
       "3. 3\n",
       "4. 4\n",
       "5. 5\n",
       "6. 6\n",
       "7. 7\n",
       "8. 8\n",
       "9. 9\n",
       "10. 10\n",
       "\n",
       "\n"
      ],
      "text/plain": [
       " [1]  1  2  3  4  5  6  7  8  9 10"
      ]
     },
     "metadata": {},
     "output_type": "display_data"
    }
   ],
   "source": [
    "new.vector"
   ]
  },
  {
   "cell_type": "code",
   "execution_count": 15,
   "id": "3d152e13-8546-4976-8777-435752052f6a",
   "metadata": {},
   "outputs": [],
   "source": [
    "decrement.50.30.by2.vector <- seq(50, 30, by=-2)"
   ]
  },
  {
   "cell_type": "code",
   "execution_count": 16,
   "id": "cece4dec-af1d-4381-aa75-5853229282ff",
   "metadata": {},
   "outputs": [
    {
     "data": {
      "text/html": [
       "<style>\n",
       ".list-inline {list-style: none; margin:0; padding: 0}\n",
       ".list-inline>li {display: inline-block}\n",
       ".list-inline>li:not(:last-child)::after {content: \"\\00b7\"; padding: 0 .5ex}\n",
       "</style>\n",
       "<ol class=list-inline><li>50</li><li>48</li><li>46</li><li>44</li><li>42</li><li>40</li><li>38</li><li>36</li><li>34</li><li>32</li><li>30</li></ol>\n"
      ],
      "text/latex": [
       "\\begin{enumerate*}\n",
       "\\item 50\n",
       "\\item 48\n",
       "\\item 46\n",
       "\\item 44\n",
       "\\item 42\n",
       "\\item 40\n",
       "\\item 38\n",
       "\\item 36\n",
       "\\item 34\n",
       "\\item 32\n",
       "\\item 30\n",
       "\\end{enumerate*}\n"
      ],
      "text/markdown": [
       "1. 50\n",
       "2. 48\n",
       "3. 46\n",
       "4. 44\n",
       "5. 42\n",
       "6. 40\n",
       "7. 38\n",
       "8. 36\n",
       "9. 34\n",
       "10. 32\n",
       "11. 30\n",
       "\n",
       "\n"
      ],
      "text/plain": [
       " [1] 50 48 46 44 42 40 38 36 34 32 30"
      ]
     },
     "metadata": {},
     "output_type": "display_data"
    }
   ],
   "source": [
    "decrement.50.30.by2.vector "
   ]
  },
  {
   "cell_type": "code",
   "execution_count": 3,
   "id": "c2b7af85-6e78-46c8-bc1d-d12017c45c28",
   "metadata": {},
   "outputs": [],
   "source": [
    "#?seq"
   ]
  },
  {
   "cell_type": "markdown",
   "id": "6838a6c9-e6fb-4915-965f-35fb07669a52",
   "metadata": {},
   "source": [
    "<hr style=\"height:10px;border-width:0;color:gray;background-color:gray\">\n",
    "\n",
    "# Page 5 - Vectorized functions <a class=\"anchor\" id=\"DS102L1-WS.5_page_5\"></a>\n",
    "\n",
    "[Back to Top](#DS102L1-WS.5_toc)\n",
    "\n",
    "<hr style=\"height:10px;border-width:0;color:gray;background-color:gray\">"
   ]
  },
  {
   "cell_type": "markdown",
   "id": "1c521a56-d38b-4e3d-9703-2838b7021597",
   "metadata": {},
   "source": [
    "Something that makes R so powerful is that many of R's functions take vectors as arguments. These vectorized functions are usually extremely fast and efficient. "
   ]
  },
  {
   "cell_type": "code",
   "execution_count": 10,
   "id": "8cd87c9a-95ea-410c-b209-2a97f42cf951",
   "metadata": {},
   "outputs": [
    {
     "data": {
      "text/html": [
       "3"
      ],
      "text/latex": [
       "3"
      ],
      "text/markdown": [
       "3"
      ],
      "text/plain": [
       "[1] 3"
      ]
     },
     "metadata": {},
     "output_type": "display_data"
    }
   ],
   "source": [
    "mean(phone.number.vector)"
   ]
  },
  {
   "cell_type": "code",
   "execution_count": 11,
   "id": "14f95b33-a27f-4ad3-98ea-f25b60315342",
   "metadata": {},
   "outputs": [
    {
     "data": {
      "text/html": [
       "7"
      ],
      "text/latex": [
       "7"
      ],
      "text/markdown": [
       "7"
      ],
      "text/plain": [
       "[1] 7"
      ]
     },
     "metadata": {},
     "output_type": "display_data"
    }
   ],
   "source": [
    "length(phone.number.vector)"
   ]
  },
  {
   "cell_type": "code",
   "execution_count": 12,
   "id": "5de111e5-f49b-40b8-a6ca-2b24345b21e7",
   "metadata": {},
   "outputs": [
    {
     "data": {
      "text/html": [
       "1"
      ],
      "text/latex": [
       "1"
      ],
      "text/markdown": [
       "1"
      ],
      "text/plain": [
       "[1] 1"
      ]
     },
     "metadata": {},
     "output_type": "display_data"
    }
   ],
   "source": [
    "min(phone.number.vector)"
   ]
  },
  {
   "cell_type": "code",
   "execution_count": 13,
   "id": "cbd5600f-243a-4820-b91b-bbf98f05554c",
   "metadata": {},
   "outputs": [
    {
     "data": {
      "text/html": [
       "5"
      ],
      "text/latex": [
       "5"
      ],
      "text/markdown": [
       "5"
      ],
      "text/plain": [
       "[1] 5"
      ]
     },
     "metadata": {},
     "output_type": "display_data"
    }
   ],
   "source": [
    "max(phone.number.vector)"
   ]
  },
  {
   "cell_type": "code",
   "execution_count": 14,
   "id": "b9f960e0-5865-45ba-b5d2-e76e481bdfe4",
   "metadata": {},
   "outputs": [
    {
     "data": {
      "text/html": [
       "1.91485421551268"
      ],
      "text/latex": [
       "1.91485421551268"
      ],
      "text/markdown": [
       "1.91485421551268"
      ],
      "text/plain": [
       "[1] 1.914854"
      ]
     },
     "metadata": {},
     "output_type": "display_data"
    }
   ],
   "source": [
    "sd(phone.number.vector)"
   ]
  },
  {
   "cell_type": "code",
   "execution_count": 15,
   "id": "0e5d7170-35d8-4ec5-b313-6f01dc26d543",
   "metadata": {},
   "outputs": [
    {
     "data": {
      "text/html": [
       "3.5"
      ],
      "text/latex": [
       "3.5"
      ],
      "text/markdown": [
       "3.5"
      ],
      "text/plain": [
       "[1] 3.5"
      ]
     },
     "metadata": {},
     "output_type": "display_data"
    }
   ],
   "source": [
    "# Interquartile Range = max - min\n",
    "IQR(phone.number.vector)"
   ]
  },
  {
   "cell_type": "code",
   "execution_count": 23,
   "id": "d10c0d61-cc98-4695-af60-55bbd91a34d2",
   "metadata": {},
   "outputs": [
    {
     "data": {
      "text/html": [
       "6"
      ],
      "text/latex": [
       "6"
      ],
      "text/markdown": [
       "6"
      ],
      "text/plain": [
       "[1] 6"
      ]
     },
     "metadata": {},
     "output_type": "display_data"
    }
   ],
   "source": [
    "sum(c(1, 2, 3)) "
   ]
  },
  {
   "cell_type": "markdown",
   "id": "ce6c380d-5e86-4c6b-8e03-3de50c518a0c",
   "metadata": {},
   "source": [
    "In practical settings, such as when reading data from files, it is common to have NA values in vectors"
   ]
  },
  {
   "cell_type": "code",
   "execution_count": 24,
   "id": "27c29440-7577-4372-b183-fb7cc6b26c33",
   "metadata": {},
   "outputs": [],
   "source": [
    "messy.vector <- c(8, 6, NA, 7, 5, NA, 3, 0, 9)"
   ]
  },
  {
   "cell_type": "code",
   "execution_count": 25,
   "id": "f6d836ed-f2aa-4312-ab89-de237dd54a55",
   "metadata": {},
   "outputs": [
    {
     "data": {
      "text/html": [
       "<style>\n",
       ".list-inline {list-style: none; margin:0; padding: 0}\n",
       ".list-inline>li {display: inline-block}\n",
       ".list-inline>li:not(:last-child)::after {content: \"\\00b7\"; padding: 0 .5ex}\n",
       "</style>\n",
       "<ol class=list-inline><li>8</li><li>6</li><li>&lt;NA&gt;</li><li>7</li><li>5</li><li>&lt;NA&gt;</li><li>3</li><li>0</li><li>9</li></ol>\n"
      ],
      "text/latex": [
       "\\begin{enumerate*}\n",
       "\\item 8\n",
       "\\item 6\n",
       "\\item <NA>\n",
       "\\item 7\n",
       "\\item 5\n",
       "\\item <NA>\n",
       "\\item 3\n",
       "\\item 0\n",
       "\\item 9\n",
       "\\end{enumerate*}\n"
      ],
      "text/markdown": [
       "1. 8\n",
       "2. 6\n",
       "3. &lt;NA&gt;\n",
       "4. 7\n",
       "5. 5\n",
       "6. &lt;NA&gt;\n",
       "7. 3\n",
       "8. 0\n",
       "9. 9\n",
       "\n",
       "\n"
      ],
      "text/plain": [
       "[1]  8  6 NA  7  5 NA  3  0  9"
      ]
     },
     "metadata": {},
     "output_type": "display_data"
    }
   ],
   "source": [
    "messy.vector"
   ]
  },
  {
   "cell_type": "code",
   "execution_count": 26,
   "id": "91b7e13f-d723-4015-a289-0c6bf60747f8",
   "metadata": {},
   "outputs": [
    {
     "data": {
      "text/html": [
       "9"
      ],
      "text/latex": [
       "9"
      ],
      "text/markdown": [
       "9"
      ],
      "text/plain": [
       "[1] 9"
      ]
     },
     "metadata": {},
     "output_type": "display_data"
    }
   ],
   "source": [
    "length(messy.vector)"
   ]
  },
  {
   "cell_type": "code",
   "execution_count": 27,
   "id": "dc727184-913e-40ee-80f9-5f5ea1f9f018",
   "metadata": {},
   "outputs": [
    {
     "data": {
      "text/html": [
       "&lt;NA&gt;"
      ],
      "text/latex": [
       "<NA>"
      ],
      "text/markdown": [
       "&lt;NA&gt;"
      ],
      "text/plain": [
       "[1] NA"
      ]
     },
     "metadata": {},
     "output_type": "display_data"
    }
   ],
   "source": [
    "#notice an NA when trying to run a function on this vector\n",
    "mean(messy.vector) "
   ]
  },
  {
   "cell_type": "code",
   "execution_count": 28,
   "id": "deec6564-2baf-477b-ad8e-986f2e3cc990",
   "metadata": {},
   "outputs": [
    {
     "data": {
      "text/html": [
       "5.42857142857143"
      ],
      "text/latex": [
       "5.42857142857143"
      ],
      "text/markdown": [
       "5.42857142857143"
      ],
      "text/plain": [
       "[1] 5.428571"
      ]
     },
     "metadata": {},
     "output_type": "display_data"
    }
   ],
   "source": [
    "#let's remove those vectors\n",
    "mean(messy.vector, na.rm=TRUE)"
   ]
  },
  {
   "cell_type": "code",
   "execution_count": 29,
   "id": "f61e9ab5-be4d-4041-b338-f47733617b94",
   "metadata": {},
   "outputs": [
    {
     "data": {
      "text/html": [
       "&lt;NA&gt;"
      ],
      "text/latex": [
       "<NA>"
      ],
      "text/markdown": [
       "&lt;NA&gt;"
      ],
      "text/plain": [
       "[1] NA"
      ]
     },
     "metadata": {},
     "output_type": "display_data"
    }
   ],
   "source": [
    "# here again notice the NA when trying to run a function on this vector\n",
    "sum(messy.vector, na.rm=FALSE)"
   ]
  },
  {
   "cell_type": "code",
   "execution_count": 30,
   "id": "3fc9305a-0fc4-4f8b-8d96-7af9f1a8b047",
   "metadata": {},
   "outputs": [
    {
     "data": {
      "text/html": [
       "38"
      ],
      "text/latex": [
       "38"
      ],
      "text/markdown": [
       "38"
      ],
      "text/plain": [
       "[1] 38"
      ]
     },
     "metadata": {},
     "output_type": "display_data"
    }
   ],
   "source": [
    "sum(messy.vector, na.rm=TRUE)"
   ]
  },
  {
   "cell_type": "markdown",
   "id": "64fae83d-ca49-41fc-9360-6d4ee79e59e1",
   "metadata": {},
   "source": [
    "Vectors can be constructed from logical values as well"
   ]
  },
  {
   "cell_type": "code",
   "execution_count": 31,
   "id": "0f7f8cdd-e4f9-4161-a731-b246e9a41d08",
   "metadata": {},
   "outputs": [],
   "source": [
    "log.vector <- c(TRUE, TRUE, FALSE) "
   ]
  },
  {
   "cell_type": "code",
   "execution_count": 32,
   "id": "7241f6c1-92da-428c-b104-223b1e1b2d4e",
   "metadata": {},
   "outputs": [
    {
     "data": {
      "text/html": [
       "<style>\n",
       ".list-inline {list-style: none; margin:0; padding: 0}\n",
       ".list-inline>li {display: inline-block}\n",
       ".list-inline>li:not(:last-child)::after {content: \"\\00b7\"; padding: 0 .5ex}\n",
       "</style>\n",
       "<ol class=list-inline><li>TRUE</li><li>TRUE</li><li>FALSE</li></ol>\n"
      ],
      "text/latex": [
       "\\begin{enumerate*}\n",
       "\\item TRUE\n",
       "\\item TRUE\n",
       "\\item FALSE\n",
       "\\end{enumerate*}\n"
      ],
      "text/markdown": [
       "1. TRUE\n",
       "2. TRUE\n",
       "3. FALSE\n",
       "\n",
       "\n"
      ],
      "text/plain": [
       "[1]  TRUE  TRUE FALSE"
      ]
     },
     "metadata": {},
     "output_type": "display_data"
    }
   ],
   "source": [
    "log.vector"
   ]
  },
  {
   "cell_type": "markdown",
   "id": "2520906e-621e-424c-8718-3dd1acd66b47",
   "metadata": {},
   "source": [
    "Since logical values can be coerced into behaving like numerics, as we saw earlier, if we try to sum a logical vector as follows"
   ]
  },
  {
   "cell_type": "code",
   "execution_count": 33,
   "id": "6d8f16a2-c79f-42a0-b011-ea5b54c59dfb",
   "metadata": {},
   "outputs": [
    {
     "data": {
      "text/html": [
       "2"
      ],
      "text/latex": [
       "2"
      ],
      "text/markdown": [
       "2"
      ],
      "text/plain": [
       "[1] 2"
      ]
     },
     "metadata": {},
     "output_type": "display_data"
    }
   ],
   "source": [
    "sum(log.vector)"
   ]
  },
  {
   "cell_type": "code",
   "execution_count": 34,
   "id": "658a16d1-22f3-4448-b1f1-4a802824f609",
   "metadata": {},
   "outputs": [
    {
     "data": {
      "text/html": [
       "<style>\n",
       ".list-inline {list-style: none; margin:0; padding: 0}\n",
       ".list-inline>li {display: inline-block}\n",
       ".list-inline>li:not(:last-child)::after {content: \"\\00b7\"; padding: 0 .5ex}\n",
       "</style>\n",
       "<ol class=list-inline><li>TRUE</li><li>TRUE</li><li>FALSE</li></ol>\n"
      ],
      "text/latex": [
       "\\begin{enumerate*}\n",
       "\\item TRUE\n",
       "\\item TRUE\n",
       "\\item FALSE\n",
       "\\end{enumerate*}\n"
      ],
      "text/markdown": [
       "1. TRUE\n",
       "2. TRUE\n",
       "3. FALSE\n",
       "\n",
       "\n"
      ],
      "text/plain": [
       "[1]  TRUE  TRUE FALSE"
      ]
     },
     "metadata": {},
     "output_type": "display_data"
    }
   ],
   "source": [
    "log.vector[c(1,2,3)]"
   ]
  },
  {
   "cell_type": "code",
   "execution_count": 35,
   "id": "db09c13a-3a9a-4f26-ab49-796125e9d020",
   "metadata": {},
   "outputs": [
    {
     "data": {
      "text/html": [
       "TRUE"
      ],
      "text/latex": [
       "TRUE"
      ],
      "text/markdown": [
       "TRUE"
      ],
      "text/plain": [
       "[1] TRUE"
      ]
     },
     "metadata": {},
     "output_type": "display_data"
    }
   ],
   "source": [
    "log.vector[1]"
   ]
  },
  {
   "cell_type": "code",
   "execution_count": 36,
   "id": "a3c75c87-3718-48c3-9310-c0f054c73325",
   "metadata": {},
   "outputs": [
    {
     "data": {
      "text/html": [
       "<style>\n",
       ".list-inline {list-style: none; margin:0; padding: 0}\n",
       ".list-inline>li {display: inline-block}\n",
       ".list-inline>li:not(:last-child)::after {content: \"\\00b7\"; padding: 0 .5ex}\n",
       "</style>\n",
       "<ol class=list-inline><li>8</li><li>6</li><li>&lt;NA&gt;</li><li>7</li><li>5</li><li>&lt;NA&gt;</li><li>3</li><li>0</li><li>9</li></ol>\n"
      ],
      "text/latex": [
       "\\begin{enumerate*}\n",
       "\\item 8\n",
       "\\item 6\n",
       "\\item <NA>\n",
       "\\item 7\n",
       "\\item 5\n",
       "\\item <NA>\n",
       "\\item 3\n",
       "\\item 0\n",
       "\\item 9\n",
       "\\end{enumerate*}\n"
      ],
      "text/markdown": [
       "1. 8\n",
       "2. 6\n",
       "3. &lt;NA&gt;\n",
       "4. 7\n",
       "5. 5\n",
       "6. &lt;NA&gt;\n",
       "7. 3\n",
       "8. 0\n",
       "9. 9\n",
       "\n",
       "\n"
      ],
      "text/plain": [
       "[1]  8  6 NA  7  5 NA  3  0  9"
      ]
     },
     "metadata": {},
     "output_type": "display_data"
    }
   ],
   "source": [
    "#let's go back to our messy.vector\n",
    "messy.vector"
   ]
  },
  {
   "cell_type": "code",
   "execution_count": 37,
   "id": "474e478e-365f-4908-af86-1d0664294e4f",
   "metadata": {},
   "outputs": [
    {
     "data": {
      "text/html": [
       "<style>\n",
       ".list-inline {list-style: none; margin:0; padding: 0}\n",
       ".list-inline>li {display: inline-block}\n",
       ".list-inline>li:not(:last-child)::after {content: \"\\00b7\"; padding: 0 .5ex}\n",
       "</style>\n",
       "<ol class=list-inline><li>FALSE</li><li>FALSE</li><li>TRUE</li><li>FALSE</li><li>FALSE</li><li>TRUE</li><li>FALSE</li><li>FALSE</li><li>FALSE</li></ol>\n"
      ],
      "text/latex": [
       "\\begin{enumerate*}\n",
       "\\item FALSE\n",
       "\\item FALSE\n",
       "\\item TRUE\n",
       "\\item FALSE\n",
       "\\item FALSE\n",
       "\\item TRUE\n",
       "\\item FALSE\n",
       "\\item FALSE\n",
       "\\item FALSE\n",
       "\\end{enumerate*}\n"
      ],
      "text/markdown": [
       "1. FALSE\n",
       "2. FALSE\n",
       "3. TRUE\n",
       "4. FALSE\n",
       "5. FALSE\n",
       "6. TRUE\n",
       "7. FALSE\n",
       "8. FALSE\n",
       "9. FALSE\n",
       "\n",
       "\n"
      ],
      "text/plain": [
       "[1] FALSE FALSE  TRUE FALSE FALSE  TRUE FALSE FALSE FALSE"
      ]
     },
     "metadata": {},
     "output_type": "display_data"
    }
   ],
   "source": [
    "# we can run a boolean isna to check to see which ones are NA\n",
    "is.na(messy.vector)"
   ]
  },
  {
   "cell_type": "code",
   "execution_count": 38,
   "id": "bc232a62-fc39-45fb-a377-391422c9d678",
   "metadata": {},
   "outputs": [
    {
     "data": {
      "text/html": [
       "2"
      ],
      "text/latex": [
       "2"
      ],
      "text/markdown": [
       "2"
      ],
      "text/plain": [
       "[1] 2"
      ]
     },
     "metadata": {},
     "output_type": "display_data"
    }
   ],
   "source": [
    "# then we can also count how many we have\n",
    "sum(is.na(messy.vector)) "
   ]
  },
  {
   "cell_type": "markdown",
   "id": "049e446c-3d13-42d1-b1e8-77a855acadff",
   "metadata": {},
   "source": [
    "When you use Boolean operators on vectors, they also return logical vectors of the same length as the vector being operated on"
   ]
  },
  {
   "cell_type": "code",
   "execution_count": 39,
   "id": "43ccae89-813d-469c-b863-0881cb66ef0a",
   "metadata": {},
   "outputs": [
    {
     "data": {
      "text/html": [
       "<style>\n",
       ".list-inline {list-style: none; margin:0; padding: 0}\n",
       ".list-inline>li {display: inline-block}\n",
       ".list-inline>li:not(:last-child)::after {content: \"\\00b7\"; padding: 0 .5ex}\n",
       "</style>\n",
       "<ol class=list-inline><li>TRUE</li><li>TRUE</li><li>TRUE</li><li>FALSE</li><li>FALSE</li><li>FALSE</li><li>FALSE</li></ol>\n"
      ],
      "text/latex": [
       "\\begin{enumerate*}\n",
       "\\item TRUE\n",
       "\\item TRUE\n",
       "\\item TRUE\n",
       "\\item FALSE\n",
       "\\item FALSE\n",
       "\\item FALSE\n",
       "\\item FALSE\n",
       "\\end{enumerate*}\n"
      ],
      "text/markdown": [
       "1. TRUE\n",
       "2. TRUE\n",
       "3. TRUE\n",
       "4. FALSE\n",
       "5. FALSE\n",
       "6. FALSE\n",
       "7. FALSE\n",
       "\n",
       "\n"
      ],
      "text/plain": [
       "[1]  TRUE  TRUE  TRUE FALSE FALSE FALSE FALSE"
      ]
     },
     "metadata": {},
     "output_type": "display_data"
    }
   ],
   "source": [
    "phone.number.vector > 4"
   ]
  },
  {
   "cell_type": "code",
   "execution_count": 40,
   "id": "0637b15c-3111-4e7d-9f65-ffed81b60f7e",
   "metadata": {},
   "outputs": [
    {
     "data": {
      "text/html": [
       "3"
      ],
      "text/latex": [
       "3"
      ],
      "text/markdown": [
       "3"
      ],
      "text/plain": [
       "[1] 3"
      ]
     },
     "metadata": {},
     "output_type": "display_data"
    }
   ],
   "source": [
    "sum(phone.number.vector > 4) "
   ]
  },
  {
   "cell_type": "markdown",
   "id": "1e1bb896-e837-43c0-b818-e7720489b37d",
   "metadata": {},
   "source": [
    "We can use vectors to subset other vectors. When we subset vectors using logical vectors of the same length, only the elements corresponding to the TRUE values are extracted. Hopefully, light bulbs are starting to go off in your head. If we wanted to extract only the legitimate non-NA digits from our messy.vector, we can do it as follows:"
   ]
  },
  {
   "cell_type": "code",
   "execution_count": 41,
   "id": "dd375710-c061-4cb3-ac11-4cca23960617",
   "metadata": {},
   "outputs": [
    {
     "data": {
      "text/html": [
       "<style>\n",
       ".list-inline {list-style: none; margin:0; padding: 0}\n",
       ".list-inline>li {display: inline-block}\n",
       ".list-inline>li:not(:last-child)::after {content: \"\\00b7\"; padding: 0 .5ex}\n",
       "</style>\n",
       "<ol class=list-inline><li>8</li><li>6</li><li>&lt;NA&gt;</li><li>7</li><li>5</li><li>&lt;NA&gt;</li><li>3</li><li>0</li><li>9</li></ol>\n"
      ],
      "text/latex": [
       "\\begin{enumerate*}\n",
       "\\item 8\n",
       "\\item 6\n",
       "\\item <NA>\n",
       "\\item 7\n",
       "\\item 5\n",
       "\\item <NA>\n",
       "\\item 3\n",
       "\\item 0\n",
       "\\item 9\n",
       "\\end{enumerate*}\n"
      ],
      "text/markdown": [
       "1. 8\n",
       "2. 6\n",
       "3. &lt;NA&gt;\n",
       "4. 7\n",
       "5. 5\n",
       "6. &lt;NA&gt;\n",
       "7. 3\n",
       "8. 0\n",
       "9. 9\n",
       "\n",
       "\n"
      ],
      "text/plain": [
       "[1]  8  6 NA  7  5 NA  3  0  9"
      ]
     },
     "metadata": {},
     "output_type": "display_data"
    }
   ],
   "source": [
    "messy.vector"
   ]
  },
  {
   "cell_type": "code",
   "execution_count": 42,
   "id": "4742c394-f982-4334-9a62-e8d57dde1010",
   "metadata": {},
   "outputs": [
    {
     "data": {
      "text/html": [
       "<style>\n",
       ".list-inline {list-style: none; margin:0; padding: 0}\n",
       ".list-inline>li {display: inline-block}\n",
       ".list-inline>li:not(:last-child)::after {content: \"\\00b7\"; padding: 0 .5ex}\n",
       "</style>\n",
       "<ol class=list-inline><li>8</li><li>6</li><li>7</li><li>5</li><li>3</li><li>0</li><li>9</li></ol>\n"
      ],
      "text/latex": [
       "\\begin{enumerate*}\n",
       "\\item 8\n",
       "\\item 6\n",
       "\\item 7\n",
       "\\item 5\n",
       "\\item 3\n",
       "\\item 0\n",
       "\\item 9\n",
       "\\end{enumerate*}\n"
      ],
      "text/markdown": [
       "1. 8\n",
       "2. 6\n",
       "3. 7\n",
       "4. 5\n",
       "5. 3\n",
       "6. 0\n",
       "7. 9\n",
       "\n",
       "\n"
      ],
      "text/plain": [
       "[1] 8 6 7 5 3 0 9"
      ]
     },
     "metadata": {},
     "output_type": "display_data"
    }
   ],
   "source": [
    "messy.vector[!is.na(messy.vector)] "
   ]
  },
  {
   "cell_type": "markdown",
   "id": "3bec4db5-72d2-411c-a6b0-2681d7ff049c",
   "metadata": {},
   "source": [
    "Voila' we have a vector without NAs just by subsetting using a boolean function :)"
   ]
  },
  {
   "cell_type": "markdown",
   "id": "489227be-227b-4979-9256-fa3da30ee2ca",
   "metadata": {},
   "source": [
    "Similarly, we can show all the digits in our phone number that are greater than four as follows:"
   ]
  },
  {
   "cell_type": "code",
   "execution_count": 43,
   "id": "b18e3c4a-a456-4c3f-94b4-61194cf93429",
   "metadata": {},
   "outputs": [
    {
     "data": {
      "text/html": [
       "<style>\n",
       ".list-inline {list-style: none; margin:0; padding: 0}\n",
       ".list-inline>li {display: inline-block}\n",
       ".list-inline>li:not(:last-child)::after {content: \"\\00b7\"; padding: 0 .5ex}\n",
       "</style>\n",
       "<ol class=list-inline><li>5</li><li>5</li><li>5</li></ol>\n"
      ],
      "text/latex": [
       "\\begin{enumerate*}\n",
       "\\item 5\n",
       "\\item 5\n",
       "\\item 5\n",
       "\\end{enumerate*}\n"
      ],
      "text/markdown": [
       "1. 5\n",
       "2. 5\n",
       "3. 5\n",
       "\n",
       "\n"
      ],
      "text/plain": [
       "[1] 5 5 5"
      ]
     },
     "metadata": {},
     "output_type": "display_data"
    }
   ],
   "source": [
    "phone.number.vector[phone.number.vector> 4]"
   ]
  },
  {
   "cell_type": "markdown",
   "id": "1b3ab160-0d50-4cc2-83db-f1aba38950a8",
   "metadata": {},
   "source": [
    "So far, we've only been displaying elements that have been extracted from a vector. However, just as we've been assigning and reassigning variables, we can assign values to various indices of a vector and change the vector as a result. For example, if we changed our phone number and we have a change in the first digit of our number (it's really 8), we can reassign just that element without modifying the others:"
   ]
  },
  {
   "cell_type": "code",
   "execution_count": 44,
   "id": "7992f98c-9eae-4dd1-b7d2-6b5b4171284d",
   "metadata": {},
   "outputs": [
    {
     "data": {
      "text/html": [
       "<style>\n",
       ".list-inline {list-style: none; margin:0; padding: 0}\n",
       ".list-inline>li {display: inline-block}\n",
       ".list-inline>li:not(:last-child)::after {content: \"\\00b7\"; padding: 0 .5ex}\n",
       "</style>\n",
       "<ol class=list-inline><li>5</li><li>5</li><li>5</li><li>1</li><li>2</li><li>1</li><li>2</li></ol>\n"
      ],
      "text/latex": [
       "\\begin{enumerate*}\n",
       "\\item 5\n",
       "\\item 5\n",
       "\\item 5\n",
       "\\item 1\n",
       "\\item 2\n",
       "\\item 1\n",
       "\\item 2\n",
       "\\end{enumerate*}\n"
      ],
      "text/markdown": [
       "1. 5\n",
       "2. 5\n",
       "3. 5\n",
       "4. 1\n",
       "5. 2\n",
       "6. 1\n",
       "7. 2\n",
       "\n",
       "\n"
      ],
      "text/plain": [
       "[1] 5 5 5 1 2 1 2"
      ]
     },
     "metadata": {},
     "output_type": "display_data"
    }
   ],
   "source": [
    "phone.number.vector"
   ]
  },
  {
   "cell_type": "code",
   "execution_count": 45,
   "id": "a814ec0a-2555-4dfb-b46a-a8d47bfb71e8",
   "metadata": {},
   "outputs": [],
   "source": [
    "phone.number.vector[1] <- 8"
   ]
  },
  {
   "cell_type": "code",
   "execution_count": 46,
   "id": "be607aeb-5fbc-4d3d-ac56-2ab9a7642826",
   "metadata": {},
   "outputs": [
    {
     "data": {
      "text/html": [
       "<style>\n",
       ".list-inline {list-style: none; margin:0; padding: 0}\n",
       ".list-inline>li {display: inline-block}\n",
       ".list-inline>li:not(:last-child)::after {content: \"\\00b7\"; padding: 0 .5ex}\n",
       "</style>\n",
       "<ol class=list-inline><li>8</li><li>5</li><li>5</li><li>1</li><li>2</li><li>1</li><li>2</li></ol>\n"
      ],
      "text/latex": [
       "\\begin{enumerate*}\n",
       "\\item 8\n",
       "\\item 5\n",
       "\\item 5\n",
       "\\item 1\n",
       "\\item 2\n",
       "\\item 1\n",
       "\\item 2\n",
       "\\end{enumerate*}\n"
      ],
      "text/markdown": [
       "1. 8\n",
       "2. 5\n",
       "3. 5\n",
       "4. 1\n",
       "5. 2\n",
       "6. 1\n",
       "7. 2\n",
       "\n",
       "\n"
      ],
      "text/plain": [
       "[1] 8 5 5 1 2 1 2"
      ]
     },
     "metadata": {},
     "output_type": "display_data"
    }
   ],
   "source": [
    "phone.number.vector"
   ]
  },
  {
   "cell_type": "markdown",
   "id": "22951cec-20cf-412a-b9d4-7f657b4eb9bf",
   "metadata": {},
   "source": [
    "Sometimes, it may be required to replace all the NA values in a vector with the value 0. To do this with our messy vector, we can execute the following command:"
   ]
  },
  {
   "cell_type": "code",
   "execution_count": 47,
   "id": "8fd7951d-9042-4baa-ae59-ecc5981e4429",
   "metadata": {},
   "outputs": [],
   "source": [
    "messy.vector[is.na(messy.vector)] <- 0"
   ]
  },
  {
   "cell_type": "code",
   "execution_count": 48,
   "id": "7faddab3-5ac8-4085-b909-c09d08ecb20f",
   "metadata": {},
   "outputs": [
    {
     "data": {
      "text/html": [
       "<style>\n",
       ".list-inline {list-style: none; margin:0; padding: 0}\n",
       ".list-inline>li {display: inline-block}\n",
       ".list-inline>li:not(:last-child)::after {content: \"\\00b7\"; padding: 0 .5ex}\n",
       "</style>\n",
       "<ol class=list-inline><li>8</li><li>6</li><li>0</li><li>7</li><li>5</li><li>0</li><li>3</li><li>0</li><li>9</li></ol>\n"
      ],
      "text/latex": [
       "\\begin{enumerate*}\n",
       "\\item 8\n",
       "\\item 6\n",
       "\\item 0\n",
       "\\item 7\n",
       "\\item 5\n",
       "\\item 0\n",
       "\\item 3\n",
       "\\item 0\n",
       "\\item 9\n",
       "\\end{enumerate*}\n"
      ],
      "text/markdown": [
       "1. 8\n",
       "2. 6\n",
       "3. 0\n",
       "4. 7\n",
       "5. 5\n",
       "6. 0\n",
       "7. 3\n",
       "8. 0\n",
       "9. 9\n",
       "\n",
       "\n"
      ],
      "text/plain": [
       "[1] 8 6 0 7 5 0 3 0 9"
      ]
     },
     "metadata": {},
     "output_type": "display_data"
    }
   ],
   "source": [
    "messy.vector"
   ]
  },
  {
   "cell_type": "markdown",
   "id": "4aaa1ed6-6c99-4ea1-a243-8508ca34694c",
   "metadata": {},
   "source": [
    "Elegant though the preceding solution is, modifying a vector in place is usually discouraged in favor of creating a copy of the original vector and modifying the copy. One such technique to perform this is using the ifelse() function."
   ]
  },
  {
   "cell_type": "markdown",
   "id": "13d04839-8dca-4d8e-bf8c-8b3d1b6c8341",
   "metadata": {},
   "source": [
    "Not to be confused with the if/else control construct, ifelse() is a function that takes three arguments: a test that returns a logical/Boolean value, a value to use if the element passes the test, and one to return if the element fails the test.\n",
    "\n",
    "The preceding in-place modification solution could be reimplemented with ifelse as follows:"
   ]
  },
  {
   "cell_type": "code",
   "execution_count": 49,
   "id": "4d16156c-4722-41c3-bfd6-6632cea47b1f",
   "metadata": {},
   "outputs": [],
   "source": [
    "messy.vector <- c(8, 6, NA, 7, 5, NA, 3, 0, 9)"
   ]
  },
  {
   "cell_type": "code",
   "execution_count": 50,
   "id": "dcb58a7c-3d6a-4268-aad2-bdd6f276ca19",
   "metadata": {},
   "outputs": [
    {
     "data": {
      "text/html": [
       "<style>\n",
       ".list-inline {list-style: none; margin:0; padding: 0}\n",
       ".list-inline>li {display: inline-block}\n",
       ".list-inline>li:not(:last-child)::after {content: \"\\00b7\"; padding: 0 .5ex}\n",
       "</style>\n",
       "<ol class=list-inline><li>8</li><li>6</li><li>&lt;NA&gt;</li><li>7</li><li>5</li><li>&lt;NA&gt;</li><li>3</li><li>0</li><li>9</li></ol>\n"
      ],
      "text/latex": [
       "\\begin{enumerate*}\n",
       "\\item 8\n",
       "\\item 6\n",
       "\\item <NA>\n",
       "\\item 7\n",
       "\\item 5\n",
       "\\item <NA>\n",
       "\\item 3\n",
       "\\item 0\n",
       "\\item 9\n",
       "\\end{enumerate*}\n"
      ],
      "text/markdown": [
       "1. 8\n",
       "2. 6\n",
       "3. &lt;NA&gt;\n",
       "4. 7\n",
       "5. 5\n",
       "6. &lt;NA&gt;\n",
       "7. 3\n",
       "8. 0\n",
       "9. 9\n",
       "\n",
       "\n"
      ],
      "text/plain": [
       "[1]  8  6 NA  7  5 NA  3  0  9"
      ]
     },
     "metadata": {},
     "output_type": "display_data"
    }
   ],
   "source": [
    "messy.vector"
   ]
  },
  {
   "cell_type": "code",
   "execution_count": 51,
   "id": "76f6df9b-ca68-47d7-9fa8-cfc210e47d03",
   "metadata": {},
   "outputs": [
    {
     "data": {
      "text/html": [
       "<style>\n",
       ".list-inline {list-style: none; margin:0; padding: 0}\n",
       ".list-inline>li {display: inline-block}\n",
       ".list-inline>li:not(:last-child)::after {content: \"\\00b7\"; padding: 0 .5ex}\n",
       "</style>\n",
       "<ol class=list-inline><li>8</li><li>6</li><li>0</li><li>7</li><li>5</li><li>0</li><li>3</li><li>0</li><li>9</li></ol>\n"
      ],
      "text/latex": [
       "\\begin{enumerate*}\n",
       "\\item 8\n",
       "\\item 6\n",
       "\\item 0\n",
       "\\item 7\n",
       "\\item 5\n",
       "\\item 0\n",
       "\\item 3\n",
       "\\item 0\n",
       "\\item 9\n",
       "\\end{enumerate*}\n"
      ],
      "text/markdown": [
       "1. 8\n",
       "2. 6\n",
       "3. 0\n",
       "4. 7\n",
       "5. 5\n",
       "6. 0\n",
       "7. 3\n",
       "8. 0\n",
       "9. 9\n",
       "\n",
       "\n"
      ],
      "text/plain": [
       "[1] 8 6 0 7 5 0 3 0 9"
      ]
     },
     "metadata": {},
     "output_type": "display_data"
    }
   ],
   "source": [
    "ifelse(is.na(messy.vector), 0, messy.vector) "
   ]
  },
  {
   "cell_type": "markdown",
   "id": "f2c73348-aef8-4276-941f-79b08074bd79",
   "metadata": {},
   "source": [
    "<hr style=\"height:10px;border-width:0;color:gray;background-color:gray\">\n",
    "\n",
    "# Page 6 - Recycling <a class=\"anchor\" id=\"DS102L1-WS.5_page_6\"></a>\n",
    "\n",
    "[Back to Top](#DS102L1-WS.5_toc)\n",
    "\n",
    "<hr style=\"height:10px;border-width:0;color:gray;background-color:gray\">"
   ]
  },
  {
   "cell_type": "markdown",
   "id": "49d92038-6e93-4566-93cf-42762685c791",
   "metadata": {},
   "source": [
    "One last important property of vectors and vector operations in R is that they can be recycled. To understand what I mean, examine the following expression:"
   ]
  },
  {
   "cell_type": "code",
   "execution_count": 52,
   "id": "dd66cd0b-568d-4fda-bd23-07a476840534",
   "metadata": {},
   "outputs": [
    {
     "data": {
      "text/html": [
       "<style>\n",
       ".list-inline {list-style: none; margin:0; padding: 0}\n",
       ".list-inline>li {display: inline-block}\n",
       ".list-inline>li:not(:last-child)::after {content: \"\\00b7\"; padding: 0 .5ex}\n",
       "</style>\n",
       "<ol class=list-inline><li>9</li><li>6</li><li>6</li><li>2</li><li>3</li><li>2</li><li>3</li></ol>\n"
      ],
      "text/latex": [
       "\\begin{enumerate*}\n",
       "\\item 9\n",
       "\\item 6\n",
       "\\item 6\n",
       "\\item 2\n",
       "\\item 3\n",
       "\\item 2\n",
       "\\item 3\n",
       "\\end{enumerate*}\n"
      ],
      "text/markdown": [
       "1. 9\n",
       "2. 6\n",
       "3. 6\n",
       "4. 2\n",
       "5. 3\n",
       "6. 2\n",
       "7. 3\n",
       "\n",
       "\n"
      ],
      "text/plain": [
       "[1] 9 6 6 2 3 2 3"
      ]
     },
     "metadata": {},
     "output_type": "display_data"
    }
   ],
   "source": [
    "phone.number.vector + 1"
   ]
  },
  {
   "cell_type": "markdown",
   "id": "87646287-4ff0-45a0-9b9b-bc443ab50934",
   "metadata": {},
   "source": [
    "This expression adds 1 to each digit in the phone number. Although it may look so, R is not performing this operation between a vector and a single value. What is really happening here is that R is told to perform element-wise addition on a vector of length 7 and a vector of length 1. As element-wise addition is not defined for vectors of differing lengths, R recycles the smaller vector until it reaches the same length as that of the bigger vector. Once both the vectors are the same size, then R, element by element, performs the addition and returns the result. This is the same as below:"
   ]
  },
  {
   "cell_type": "code",
   "execution_count": 53,
   "id": "c24d6844-8e65-4f0c-ab2e-125fb8a7f2a1",
   "metadata": {},
   "outputs": [
    {
     "data": {
      "text/html": [
       "<style>\n",
       ".list-inline {list-style: none; margin:0; padding: 0}\n",
       ".list-inline>li {display: inline-block}\n",
       ".list-inline>li:not(:last-child)::after {content: \"\\00b7\"; padding: 0 .5ex}\n",
       "</style>\n",
       "<ol class=list-inline><li>9</li><li>6</li><li>6</li><li>2</li><li>3</li><li>2</li><li>3</li></ol>\n"
      ],
      "text/latex": [
       "\\begin{enumerate*}\n",
       "\\item 9\n",
       "\\item 6\n",
       "\\item 6\n",
       "\\item 2\n",
       "\\item 3\n",
       "\\item 2\n",
       "\\item 3\n",
       "\\end{enumerate*}\n"
      ],
      "text/markdown": [
       "1. 9\n",
       "2. 6\n",
       "3. 6\n",
       "4. 2\n",
       "5. 3\n",
       "6. 2\n",
       "7. 3\n",
       "\n",
       "\n"
      ],
      "text/plain": [
       "[1] 9 6 6 2 3 2 3"
      ]
     },
     "metadata": {},
     "output_type": "display_data"
    }
   ],
   "source": [
    "phone.number.vector + c(1, 1, 1, 1, 1, 1, 1) "
   ]
  },
  {
   "cell_type": "markdown",
   "id": "9dd0e46c-c85c-461d-b510-c889d0211660",
   "metadata": {},
   "source": [
    "<hr style=\"height:10px;border-width:0;color:gray;background-color:gray\">\n",
    "\n",
    "# Page 7 - Functions <a class=\"anchor\" id=\"DS102L1-WS.5_page_7\"></a>\n",
    "\n",
    "[Back to Top](#DS102L1-WS.5_toc)\n",
    "\n",
    "<hr style=\"height:10px;border-width:0;color:gray;background-color:gray\">"
   ]
  },
  {
   "cell_type": "markdown",
   "id": "d45bf8c5-72c5-4d95-88d2-e087820d13ee",
   "metadata": {},
   "source": [
    "If we need to perform some computation that isn't already a function in R a multiple number of times, we usually do so by defining our own functions. A custom function in R is defined using the following syntax:\n",
    "\n",
    "```r\n",
    "function.name <- function(argument1, argument2, ...){ \n",
    "   # some functionality \n",
    "}\n",
    "```"
   ]
  },
  {
   "cell_type": "code",
   "execution_count": 54,
   "id": "28327ead-995b-4827-a5d6-ef8218d0b3fc",
   "metadata": {},
   "outputs": [],
   "source": [
    "# function to determine if number is even\n",
    "is.even <- function(a.number){ \n",
    "  remainder <- a.number %% 2 \n",
    "  if(remainder==0) \n",
    "   return(TRUE) \n",
    "   return(FALSE) \n",
    "} "
   ]
  },
  {
   "cell_type": "code",
   "execution_count": 55,
   "id": "b6d34655-1406-4fad-aded-0ac3cd3a0835",
   "metadata": {},
   "outputs": [
    {
     "data": {
      "text/html": [
       "FALSE"
      ],
      "text/latex": [
       "FALSE"
      ],
      "text/markdown": [
       "FALSE"
      ],
      "text/plain": [
       "[1] FALSE"
      ]
     },
     "metadata": {},
     "output_type": "display_data"
    }
   ],
   "source": [
    "is.even(9)"
   ]
  },
  {
   "cell_type": "code",
   "execution_count": 56,
   "id": "fa859c31-4fd4-4cff-9dfb-cd7eab728a0c",
   "metadata": {},
   "outputs": [
    {
     "data": {
      "text/html": [
       "TRUE"
      ],
      "text/latex": [
       "TRUE"
      ],
      "text/markdown": [
       "TRUE"
      ],
      "text/plain": [
       "[1] TRUE"
      ]
     },
     "metadata": {},
     "output_type": "display_data"
    }
   ],
   "source": [
    "is.even(10)"
   ]
  },
  {
   "cell_type": "markdown",
   "id": "b2960654-312b-4e91-8823-4285a5073253",
   "metadata": {},
   "source": [
    "As an example of a function that takes more than one argument, let's generalize the preceding function by creating a function that determines whether the first argument is divisible by its second argument:"
   ]
  },
  {
   "cell_type": "code",
   "execution_count": 57,
   "id": "2c9e63c0-7e5e-4f09-9cde-dc5d54122d99",
   "metadata": {},
   "outputs": [],
   "source": [
    "is.divisible.by <- function(large.number, smaller.number){ \n",
    "   if(large.number %% smaller.number != 0) \n",
    "   return(FALSE) \n",
    "   return(TRUE) \n",
    "} "
   ]
  },
  {
   "cell_type": "code",
   "execution_count": 58,
   "id": "7492a15d-be0d-4ec9-804a-c9aa65770e43",
   "metadata": {},
   "outputs": [
    {
     "data": {
      "text/html": [
       "TRUE"
      ],
      "text/latex": [
       "TRUE"
      ],
      "text/markdown": [
       "TRUE"
      ],
      "text/plain": [
       "[1] TRUE"
      ]
     },
     "metadata": {},
     "output_type": "display_data"
    }
   ],
   "source": [
    "is.divisible.by(10,2)"
   ]
  },
  {
   "cell_type": "code",
   "execution_count": 59,
   "id": "3d56b7ba-315c-4124-8b4e-3d921c85ec6d",
   "metadata": {},
   "outputs": [
    {
     "data": {
      "text/html": [
       "FALSE"
      ],
      "text/latex": [
       "FALSE"
      ],
      "text/markdown": [
       "FALSE"
      ],
      "text/plain": [
       "[1] FALSE"
      ]
     },
     "metadata": {},
     "output_type": "display_data"
    }
   ],
   "source": [
    "is.divisible.by(10,3)"
   ]
  },
  {
   "cell_type": "code",
   "execution_count": 60,
   "id": "de136360-d994-4179-a6de-7d4e2eaf5780",
   "metadata": {},
   "outputs": [
    {
     "data": {
      "text/html": [
       "TRUE"
      ],
      "text/latex": [
       "TRUE"
      ],
      "text/markdown": [
       "TRUE"
      ],
      "text/plain": [
       "[1] TRUE"
      ]
     },
     "metadata": {},
     "output_type": "display_data"
    }
   ],
   "source": [
    "is.divisible.by(9,3)"
   ]
  },
  {
   "cell_type": "markdown",
   "id": "38280a3f-10dc-476a-913b-25decbe46e77",
   "metadata": {},
   "source": [
    "It is very common in R to want to apply a particular function to every element of a vector. Instead of using a loop to iterate over the elements of a vector, as we would do in many other languages, we use a function called sapply() to perform this. sapply() takes a vector and a function as its arguments. It then applies the function to every element and returns a vector of results. "
   ]
  },
  {
   "cell_type": "code",
   "execution_count": 61,
   "id": "285c9a8f-8722-4537-a545-efa9f1250d23",
   "metadata": {},
   "outputs": [
    {
     "data": {
      "text/html": [
       "\n",
       "<table style=\"width: 100%;\"><tr><td>lapply {base}</td><td style=\"text-align: right;\">R Documentation</td></tr></table>\n",
       "\n",
       "<h2>Apply a Function over a List or Vector</h2>\n",
       "\n",
       "<h3>Description</h3>\n",
       "\n",
       "<p><code>lapply</code> returns a list of the same length as <code>X</code>, each\n",
       "element of which is the result of applying <code>FUN</code> to the\n",
       "corresponding element of <code>X</code>.\n",
       "</p>\n",
       "<p><code>sapply</code> is a user-friendly version and wrapper of <code>lapply</code>\n",
       "by default returning a vector, matrix or, if <code>simplify = \"array\"</code>, an\n",
       "array if appropriate, by applying <code>simplify2array()</code>.\n",
       "<code>sapply(x, f, simplify = FALSE, USE.NAMES = FALSE)</code> is the same as\n",
       "<code>lapply(x, f)</code>.\n",
       "</p>\n",
       "<p><code>vapply</code> is similar to <code>sapply</code>, but has a pre-specified\n",
       "type of return value, so it can be safer (and sometimes faster) to\n",
       "use.\n",
       "</p>\n",
       "<p><code>replicate</code> is a wrapper for the common use of <code>sapply</code> for\n",
       "repeated evaluation of an expression (which will usually involve\n",
       "random number generation).\n",
       "</p>\n",
       "<p><code>simplify2array()</code> is the utility called from <code>sapply()</code>\n",
       "when <code>simplify</code> is not false and is similarly called from\n",
       "<code>mapply()</code>.\n",
       "</p>\n",
       "\n",
       "\n",
       "<h3>Usage</h3>\n",
       "\n",
       "<pre><code class='language-R'>lapply(X, FUN, ...)\n",
       "\n",
       "sapply(X, FUN, ..., simplify = TRUE, USE.NAMES = TRUE)\n",
       "\n",
       "vapply(X, FUN, FUN.VALUE, ..., USE.NAMES = TRUE)\n",
       "\n",
       "replicate(n, expr, simplify = \"array\")\n",
       "\n",
       "simplify2array(x, higher = TRUE, except = c(0L, 1L))\n",
       "</code></pre>\n",
       "\n",
       "\n",
       "<h3>Arguments</h3>\n",
       "\n",
       "<table>\n",
       "<tr style=\"vertical-align: top;\"><td><code>X</code></td>\n",
       "<td>\n",
       "<p>a vector (atomic or list) or an <code>expression</code>\n",
       "object.  Other objects (including classed objects) will be coerced\n",
       "by <code>base::as.list</code>.</p>\n",
       "</td></tr>\n",
       "<tr style=\"vertical-align: top;\"><td><code>FUN</code></td>\n",
       "<td>\n",
       "<p>the function to be applied to each element of <code>X</code>:\n",
       "see &lsquo;Details&rsquo;.  In the case of functions like\n",
       "<code>+</code>, <code>%*%</code>, the function name must be backquoted or quoted.</p>\n",
       "</td></tr>\n",
       "<tr style=\"vertical-align: top;\"><td><code>...</code></td>\n",
       "<td>\n",
       "<p>optional arguments to <code>FUN</code>.</p>\n",
       "</td></tr>\n",
       "<tr style=\"vertical-align: top;\"><td><code>simplify</code></td>\n",
       "<td>\n",
       "<p>logical or character string; should the result be\n",
       "simplified to a vector, matrix or higher dimensional array if\n",
       "possible?  For <code>sapply</code> it must be named and not abbreviated.\n",
       "The default value, <code>TRUE</code>, returns a vector or matrix if appropriate,\n",
       "whereas if <code>simplify = \"array\"</code> the result may be an\n",
       "<code>array</code> of &ldquo;rank&rdquo;\n",
       "(<code class=\"reqn\">=</code><code>length(dim(.))</code>) one higher than the result\n",
       "of <code>FUN(X[[i]])</code>.</p>\n",
       "</td></tr>\n",
       "<tr style=\"vertical-align: top;\"><td><code>USE.NAMES</code></td>\n",
       "<td>\n",
       "<p>logical; if <code>TRUE</code> and if <code>X</code> is character,\n",
       "use <code>X</code> as <code>names</code> for the result unless it had names\n",
       "already.  Since this argument follows <code>...</code> its name cannot\n",
       "be abbreviated.</p>\n",
       "</td></tr>\n",
       "<tr style=\"vertical-align: top;\"><td><code>FUN.VALUE</code></td>\n",
       "<td>\n",
       "<p>a (generalized) vector; a template for the return\n",
       "value from FUN.  See &lsquo;Details&rsquo;.</p>\n",
       "</td></tr>\n",
       "<tr style=\"vertical-align: top;\"><td><code>n</code></td>\n",
       "<td>\n",
       "<p>integer: the number of replications.</p>\n",
       "</td></tr>\n",
       "<tr style=\"vertical-align: top;\"><td><code>expr</code></td>\n",
       "<td>\n",
       "<p>the expression (a language object, usually a call)\n",
       "to evaluate repeatedly.</p>\n",
       "</td></tr>\n",
       "<tr style=\"vertical-align: top;\"><td><code>x</code></td>\n",
       "<td>\n",
       "<p>a list, typically returned from <code>lapply()</code>.</p>\n",
       "</td></tr>\n",
       "<tr style=\"vertical-align: top;\"><td><code>higher</code></td>\n",
       "<td>\n",
       "<p>logical; if true, <code>simplify2array()</code> will produce a\n",
       "(&ldquo;higher rank&rdquo;) array when appropriate, whereas\n",
       "<code>higher = FALSE</code> would return a matrix (or vector) only.\n",
       "These two cases correspond to <code>sapply(*, simplify = \"array\")</code> or\n",
       "<code>simplify = TRUE</code>, respectively.</p>\n",
       "</td></tr>\n",
       "<tr style=\"vertical-align: top;\"><td><code>except</code></td>\n",
       "<td>\n",
       "<p>integer vector or <code>NULL</code>; the default <code>c(0L,\n",
       "      1L)</code> corresponds to the exceptions used by <code>sapply</code>: a list\n",
       "with elements of common length 0 or 1 is not simplified to an array\n",
       "but is returned, respectively, as is or unlisted.\n",
       "These exceptions can be disabled by specifying only a subset of\n",
       "<code>0:1</code>, or <code>NULL</code> to always simplify to an array (if\n",
       "possible).\n",
       "</p>\n",
       "</td></tr>\n",
       "</table>\n",
       "\n",
       "\n",
       "<h3>Details</h3>\n",
       "\n",
       "<p><code>FUN</code> is found by a call to <code>match.fun</code> and typically\n",
       "is specified as a function or a symbol (e.g., a backquoted name) or a\n",
       "character string specifying a function to be searched for from the\n",
       "environment of the call to <code>lapply</code>.\n",
       "</p>\n",
       "<p>Function <code>FUN</code> must be able to accept as input any of the\n",
       "elements of <code>X</code>.  If the latter is an atomic vector, <code>FUN</code>\n",
       "will always be passed a length-one vector of the same type as <code>X</code>.\n",
       "</p>\n",
       "<p>Arguments in <code>...</code> cannot have the same name as any of the\n",
       "other arguments, and care may be needed to avoid partial matching to\n",
       "<code>FUN</code>.  In general-purpose code it is good practice to name the\n",
       "first two arguments <code>X</code> and <code>FUN</code> if <code>...</code> is passed\n",
       "through: this both avoids partial matching to <code>FUN</code> and ensures\n",
       "that a sensible error message is given if arguments named <code>X</code> or\n",
       "<code>FUN</code> are passed through <code>...</code>.\n",
       "</p>\n",
       "<p>Simplification in <code>sapply</code> is only attempted if <code>X</code> has\n",
       "length greater than zero and if the return values from all elements\n",
       "of <code>X</code> are all of the same (positive) length.  If the common\n",
       "length is one the result is a vector, and if greater than one is a\n",
       "matrix with a column corresponding to each element of <code>X</code>.\n",
       "</p>\n",
       "<p>Simplification is always done in <code>vapply</code>.  This function\n",
       "checks that all values of <code>FUN</code> are compatible with the\n",
       "<code>FUN.VALUE</code>, in that they must have the same length and type.\n",
       "(Types may be promoted to a higher type within the ordering logical\n",
       "&lt; integer &lt; double &lt; complex, but not demoted.)\n",
       "</p>\n",
       "<p>Users of S4 classes should pass a list to <code>lapply</code> and\n",
       "<code>vapply</code>: the internal coercion is done by the <code>as.list</code> in\n",
       "the base namespace and not one defined by a user (e.g., by setting S4\n",
       "methods on the base function).\n",
       "\n",
       "</p>\n",
       "\n",
       "\n",
       "<h3>Value</h3>\n",
       "\n",
       "<p>For <code>lapply</code>, <code>sapply(simplify = FALSE)</code> and\n",
       "<code>replicate(simplify = FALSE)</code>, a list.\n",
       "</p>\n",
       "<p>For <code>sapply(simplify = TRUE)</code> and <code>replicate(simplify =\n",
       "  TRUE)</code>: if <code>X</code> has length zero or <code>n = 0</code>, an empty list.\n",
       "Otherwise an atomic vector or matrix or list of the same length as\n",
       "<code>X</code> (of length <code>n</code> for <code>replicate</code>).  If simplification\n",
       "occurs, the output type is determined from the highest type of the\n",
       "return values in the hierarchy NULL &lt; raw &lt; logical &lt; integer &lt; double &lt;\n",
       "complex &lt; character &lt; list &lt; expression, after coercion of pairlists\n",
       "to lists.\n",
       "</p>\n",
       "<p><code>vapply</code> returns a vector or array of type matching the\n",
       "<code>FUN.VALUE</code>.  If <code>length(FUN.VALUE) == 1</code> a\n",
       "vector of the same length as <code>X</code> is returned, otherwise\n",
       "an array.  If <code>FUN.VALUE</code> is not an <code>array</code>, the\n",
       "result is a matrix   with <code>length(FUN.VALUE)</code> rows and\n",
       "<code>length(X)</code> columns, otherwise an array <code>a</code> with\n",
       "<code>dim(a) == c(dim(FUN.VALUE), length(X))</code>.\n",
       "</p>\n",
       "<p>The (Dim)names of the array value are taken from the <code>FUN.VALUE</code>\n",
       "if it is named, otherwise from the result of the first function call.\n",
       "Column names of the matrix or more generally the names of the last\n",
       "dimension of the array value or names of the vector value are set from\n",
       "<code>X</code> as in <code>sapply</code>.\n",
       "</p>\n",
       "\n",
       "\n",
       "<h3>Note</h3>\n",
       "\n",
       "<p><code>sapply(*, simplify = FALSE, USE.NAMES = FALSE)</code> is\n",
       "equivalent to <code>lapply(*)</code>.\n",
       "</p>\n",
       "<p>For historical reasons, the calls created by <code>lapply</code> are\n",
       "unevaluated, and code has been written (e.g., <code>bquote</code>) that\n",
       "relies on this.  This means that the recorded call is always of the\n",
       "form <code>FUN(X[[i]], ...)</code>, with <code>i</code> replaced by the current\n",
       "(integer or double) index.  This is not normally a problem, but it can\n",
       "be if <code>FUN</code> uses <code>sys.call</code> or\n",
       "<code>match.call</code> or if it is a primitive function that makes\n",
       "use of the call.  This means that it is often safer to call primitive\n",
       "functions with a wrapper, so that e.g. <code>lapply(ll, function(x)\n",
       "  is.numeric(x))</code> is required to ensure that method dispatch for\n",
       "<code>is.numeric</code> occurs correctly.\n",
       "</p>\n",
       "<p>If <code>expr</code> is a function call, be aware of assumptions about where\n",
       "it is evaluated, and in particular what <code>...</code> might refer to.\n",
       "You can pass additional named arguments to a function call as\n",
       "additional named arguments to <code>replicate</code>: see &lsquo;Examples&rsquo;.\n",
       "</p>\n",
       "\n",
       "\n",
       "<h3>References</h3>\n",
       "\n",
       "<p>Becker, R. A., Chambers, J. M. and Wilks, A. R. (1988)\n",
       "<em>The New S Language</em>.\n",
       "Wadsworth &amp; Brooks/Cole.\n",
       "</p>\n",
       "\n",
       "\n",
       "<h3>See Also</h3>\n",
       "\n",
       "<p><code>apply</code>, <code>tapply</code>,\n",
       "<code>mapply</code> for applying a function to <b>m</b>ultiple\n",
       "arguments, and <code>rapply</code> for a <b>r</b>ecursive version of\n",
       "<code>lapply()</code>, <code>eapply</code> for applying a function to each\n",
       "entry in an <code>environment</code>.\n",
       "</p>\n",
       "\n",
       "\n",
       "<h3>Examples</h3>\n",
       "\n",
       "<pre><code class='language-R'>require(stats); require(graphics)\n",
       "\n",
       "x &lt;- list(a = 1:10, beta = exp(-3:3), logic = c(TRUE,FALSE,FALSE,TRUE))\n",
       "# compute the list mean for each list element\n",
       "lapply(x, mean)\n",
       "# median and quartiles for each list element\n",
       "lapply(x, quantile, probs = 1:3/4)\n",
       "sapply(x, quantile)\n",
       "i39 &lt;- sapply(3:9, seq) # list of vectors\n",
       "sapply(i39, fivenum)\n",
       "vapply(i39, fivenum,\n",
       "       c(Min. = 0, \"1st Qu.\" = 0, Median = 0, \"3rd Qu.\" = 0, Max. = 0))\n",
       "\n",
       "## sapply(*, \"array\") -- artificial example\n",
       "(v &lt;- structure(10*(5:8), names = LETTERS[1:4]))\n",
       "f2 &lt;- function(x, y) outer(rep(x, length.out = 3), y)\n",
       "(a2 &lt;- sapply(v, f2, y = 2*(1:5), simplify = \"array\"))\n",
       "a.2 &lt;- vapply(v, f2, outer(1:3, 1:5), y = 2*(1:5))\n",
       "stopifnot(dim(a2) == c(3,5,4), all.equal(a2, a.2),\n",
       "          identical(dimnames(a2), list(NULL,NULL,LETTERS[1:4])))\n",
       "\n",
       "hist(replicate(100, mean(rexp(10))))\n",
       "\n",
       "## use of replicate() with parameters:\n",
       "foo &lt;- function(x = 1, y = 2) c(x, y)\n",
       "# does not work: bar &lt;- function(n, ...) replicate(n, foo(...))\n",
       "bar &lt;- function(n, x) replicate(n, foo(x = x))\n",
       "bar(5, x = 3)\n",
       "</code></pre>\n",
       "\n",
       "<hr /><div style=\"text-align: center;\">[Package <em>base</em> version 4.2.1 ]</div>\n",
       "</div>"
      ],
      "text/latex": [
       "\\inputencoding{utf8}\n",
       "\\HeaderA{lapply}{Apply a Function over a List or Vector}{lapply}\n",
       "\\aliasA{replicate}{lapply}{replicate}\n",
       "\\aliasA{sapply}{lapply}{sapply}\n",
       "\\aliasA{simplify2array}{lapply}{simplify2array}\n",
       "\\aliasA{vapply}{lapply}{vapply}\n",
       "\\keyword{iteration}{lapply}\n",
       "\\keyword{list}{lapply}\n",
       "%\n",
       "\\begin{Description}\\relax\n",
       "\\code{lapply} returns a list of the same length as \\code{X}, each\n",
       "element of which is the result of applying \\code{FUN} to the\n",
       "corresponding element of \\code{X}.\n",
       "\n",
       "\\code{sapply} is a user-friendly version and wrapper of \\code{lapply}\n",
       "by default returning a vector, matrix or, if \\code{simplify = \"array\"}, an\n",
       "array if appropriate, by applying \\code{simplify2array()}.\n",
       "\\code{sapply(x, f, simplify = FALSE, USE.NAMES = FALSE)} is the same as\n",
       "\\code{lapply(x, f)}.\n",
       "\n",
       "\\code{vapply} is similar to \\code{sapply}, but has a pre-specified\n",
       "type of return value, so it can be safer (and sometimes faster) to\n",
       "use.\n",
       "\n",
       "\\code{replicate} is a wrapper for the common use of \\code{sapply} for\n",
       "repeated evaluation of an expression (which will usually involve\n",
       "random number generation).\n",
       "\n",
       "\\code{simplify2array()} is the utility called from \\code{sapply()}\n",
       "when \\code{simplify} is not false and is similarly called from\n",
       "\\code{\\LinkA{mapply}{mapply}()}.\n",
       "\\end{Description}\n",
       "%\n",
       "\\begin{Usage}\n",
       "\\begin{verbatim}\n",
       "lapply(X, FUN, ...)\n",
       "\n",
       "sapply(X, FUN, ..., simplify = TRUE, USE.NAMES = TRUE)\n",
       "\n",
       "vapply(X, FUN, FUN.VALUE, ..., USE.NAMES = TRUE)\n",
       "\n",
       "replicate(n, expr, simplify = \"array\")\n",
       "\n",
       "simplify2array(x, higher = TRUE, except = c(0L, 1L))\n",
       "\\end{verbatim}\n",
       "\\end{Usage}\n",
       "%\n",
       "\\begin{Arguments}\n",
       "\\begin{ldescription}\n",
       "\\item[\\code{X}] a vector (atomic or list) or an \\code{\\LinkA{expression}{expression}}\n",
       "object.  Other objects (including classed objects) will be coerced\n",
       "by \\code{base::\\LinkA{as.list}{as.list}}.\n",
       "\\item[\\code{FUN}] the function to be applied to each element of \\code{X}:\n",
       "see `Details'.  In the case of functions like\n",
       "\\code{+}, \\code{\\%*\\%}, the function name must be backquoted or quoted.\n",
       "\\item[\\code{...}] optional arguments to \\code{FUN}.\n",
       "\\item[\\code{simplify}] logical or character string; should the result be\n",
       "simplified to a vector, matrix or higher dimensional array if\n",
       "possible?  For \\code{sapply} it must be named and not abbreviated.\n",
       "The default value, \\code{TRUE}, returns a vector or matrix if appropriate,\n",
       "whereas if \\code{simplify = \"array\"} the result may be an\n",
       "\\code{\\LinkA{array}{array}} of ``rank''\n",
       "(\\eqn{=}{}\\code{length(dim(.))}) one higher than the result\n",
       "of \\code{FUN(X[[i]])}.\n",
       "\\item[\\code{USE.NAMES}] logical; if \\code{TRUE} and if \\code{X} is character,\n",
       "use \\code{X} as \\code{\\LinkA{names}{names}} for the result unless it had names\n",
       "already.  Since this argument follows \\code{...} its name cannot\n",
       "be abbreviated.\n",
       "\\item[\\code{FUN.VALUE}] a (generalized) vector; a template for the return\n",
       "value from FUN.  See `Details'.\n",
       "\\item[\\code{n}] integer: the number of replications.\n",
       "\\item[\\code{expr}] the expression (a \\LinkA{language object}{language object}, usually a call)\n",
       "to evaluate repeatedly.\n",
       "\n",
       "\\item[\\code{x}] a list, typically returned from \\code{lapply()}.\n",
       "\\item[\\code{higher}] logical; if true, \\code{simplify2array()} will produce a\n",
       "(``higher rank'') array when appropriate, whereas\n",
       "\\code{higher = FALSE} would return a matrix (or vector) only.\n",
       "These two cases correspond to \\code{sapply(*, simplify = \"array\")} or\n",
       "\\code{simplify = TRUE}, respectively.\n",
       "\\item[\\code{except}] integer vector or \\code{NULL}; the default \\code{c(0L,\n",
       "      1L)} corresponds to the exceptions used by \\code{sapply}: a list\n",
       "with elements of common length 0 or 1 is not simplified to an array\n",
       "but is returned, respectively, as is or unlisted.\n",
       "These exceptions can be disabled by specifying only a subset of\n",
       "\\code{0:1}, or \\code{NULL} to always simplify to an array (if\n",
       "possible).\n",
       "\n",
       "\\end{ldescription}\n",
       "\\end{Arguments}\n",
       "%\n",
       "\\begin{Details}\\relax\n",
       "\\code{FUN} is found by a call to \\code{\\LinkA{match.fun}{match.fun}} and typically\n",
       "is specified as a function or a symbol (e.g., a backquoted name) or a\n",
       "character string specifying a function to be searched for from the\n",
       "environment of the call to \\code{lapply}.\n",
       "\n",
       "Function \\code{FUN} must be able to accept as input any of the\n",
       "elements of \\code{X}.  If the latter is an atomic vector, \\code{FUN}\n",
       "will always be passed a length-one vector of the same type as \\code{X}.\n",
       "\n",
       "Arguments in \\code{...} cannot have the same name as any of the\n",
       "other arguments, and care may be needed to avoid partial matching to\n",
       "\\code{FUN}.  In general-purpose code it is good practice to name the\n",
       "first two arguments \\code{X} and \\code{FUN} if \\code{...} is passed\n",
       "through: this both avoids partial matching to \\code{FUN} and ensures\n",
       "that a sensible error message is given if arguments named \\code{X} or\n",
       "\\code{FUN} are passed through \\code{...}.\n",
       "\n",
       "Simplification in \\code{sapply} is only attempted if \\code{X} has\n",
       "length greater than zero and if the return values from all elements\n",
       "of \\code{X} are all of the same (positive) length.  If the common\n",
       "length is one the result is a vector, and if greater than one is a\n",
       "matrix with a column corresponding to each element of \\code{X}.\n",
       "\n",
       "Simplification is always done in \\code{vapply}.  This function\n",
       "checks that all values of \\code{FUN} are compatible with the\n",
       "\\code{FUN.VALUE}, in that they must have the same length and type.\n",
       "(Types may be promoted to a higher type within the ordering logical\n",
       "< integer < double < complex, but not demoted.)\n",
       "\n",
       "Users of S4 classes should pass a list to \\code{lapply} and\n",
       "\\code{vapply}: the internal coercion is done by the \\code{as.list} in\n",
       "the base namespace and not one defined by a user (e.g., by setting S4\n",
       "methods on the base function).\n",
       "\n",
       "\\end{Details}\n",
       "%\n",
       "\\begin{Value}\n",
       "For \\code{lapply}, \\code{sapply(simplify = FALSE)} and\n",
       "\\code{replicate(simplify = FALSE)}, a list.\n",
       "\n",
       "For \\code{sapply(simplify = TRUE)} and \\code{replicate(simplify =\n",
       "  TRUE)}: if \\code{X} has length zero or \\code{n = 0}, an empty list.\n",
       "Otherwise an atomic vector or matrix or list of the same length as\n",
       "\\code{X} (of length \\code{n} for \\code{replicate}).  If simplification\n",
       "occurs, the output type is determined from the highest type of the\n",
       "return values in the hierarchy NULL < raw < logical < integer < double <\n",
       "complex < character < list < expression, after coercion of pairlists\n",
       "to lists.\n",
       "\n",
       "\\code{vapply} returns a vector or array of type matching the\n",
       "\\code{FUN.VALUE}.  If \\code{length(FUN.VALUE) == 1} a\n",
       "vector of the same length as \\code{X} is returned, otherwise\n",
       "an array.  If \\code{FUN.VALUE} is not an \\code{\\LinkA{array}{array}}, the\n",
       "result is a matrix   with \\code{length(FUN.VALUE)} rows and\n",
       "\\code{length(X)} columns, otherwise an array \\code{a} with\n",
       "\\code{\\LinkA{dim}{dim}(a) == c(dim(FUN.VALUE), length(X))}.\n",
       "\n",
       "The (Dim)names of the array value are taken from the \\code{FUN.VALUE}\n",
       "if it is named, otherwise from the result of the first function call.\n",
       "Column names of the matrix or more generally the names of the last\n",
       "dimension of the array value or names of the vector value are set from\n",
       "\\code{X} as in \\code{sapply}.\n",
       "\\end{Value}\n",
       "%\n",
       "\\begin{Note}\\relax\n",
       "\\code{sapply(*, simplify = FALSE, USE.NAMES = FALSE)} is\n",
       "equivalent to \\code{lapply(*)}.\n",
       "\n",
       "For historical reasons, the calls created by \\code{lapply} are\n",
       "unevaluated, and code has been written (e.g., \\code{bquote}) that\n",
       "relies on this.  This means that the recorded call is always of the\n",
       "form \\code{FUN(X[[i]], ...)}, with \\code{i} replaced by the current\n",
       "(integer or double) index.  This is not normally a problem, but it can\n",
       "be if \\code{FUN} uses \\code{\\LinkA{sys.call}{sys.call}} or\n",
       "\\code{\\LinkA{match.call}{match.call}} or if it is a primitive function that makes\n",
       "use of the call.  This means that it is often safer to call primitive\n",
       "functions with a wrapper, so that e.g.~\\code{lapply(ll, function(x)\n",
       "  is.numeric(x))} is required to ensure that method dispatch for\n",
       "\\code{is.numeric} occurs correctly.\n",
       "\n",
       "If \\code{expr} is a function call, be aware of assumptions about where\n",
       "it is evaluated, and in particular what \\code{...} might refer to.\n",
       "You can pass additional named arguments to a function call as\n",
       "additional named arguments to \\code{replicate}: see `Examples'.\n",
       "\\end{Note}\n",
       "%\n",
       "\\begin{References}\\relax\n",
       "Becker, R. A., Chambers, J. M. and Wilks, A. R. (1988)\n",
       "\\emph{The New S Language}.\n",
       "Wadsworth \\& Brooks/Cole.\n",
       "\\end{References}\n",
       "%\n",
       "\\begin{SeeAlso}\\relax\n",
       "\\code{\\LinkA{apply}{apply}}, \\code{\\LinkA{tapply}{tapply}},\n",
       "\\code{\\LinkA{mapply}{mapply}} for applying a function to \\bold{m}ultiple\n",
       "arguments, and \\code{\\LinkA{rapply}{rapply}} for a \\bold{r}ecursive version of\n",
       "\\code{lapply()}, \\code{\\LinkA{eapply}{eapply}} for applying a function to each\n",
       "entry in an \\code{\\LinkA{environment}{environment}}.\n",
       "\\end{SeeAlso}\n",
       "%\n",
       "\\begin{Examples}\n",
       "\\begin{ExampleCode}\n",
       "require(stats); require(graphics)\n",
       "\n",
       "x <- list(a = 1:10, beta = exp(-3:3), logic = c(TRUE,FALSE,FALSE,TRUE))\n",
       "# compute the list mean for each list element\n",
       "lapply(x, mean)\n",
       "# median and quartiles for each list element\n",
       "lapply(x, quantile, probs = 1:3/4)\n",
       "sapply(x, quantile)\n",
       "i39 <- sapply(3:9, seq) # list of vectors\n",
       "sapply(i39, fivenum)\n",
       "vapply(i39, fivenum,\n",
       "       c(Min. = 0, \"1st Qu.\" = 0, Median = 0, \"3rd Qu.\" = 0, Max. = 0))\n",
       "\n",
       "## sapply(*, \"array\") -- artificial example\n",
       "(v <- structure(10*(5:8), names = LETTERS[1:4]))\n",
       "f2 <- function(x, y) outer(rep(x, length.out = 3), y)\n",
       "(a2 <- sapply(v, f2, y = 2*(1:5), simplify = \"array\"))\n",
       "a.2 <- vapply(v, f2, outer(1:3, 1:5), y = 2*(1:5))\n",
       "stopifnot(dim(a2) == c(3,5,4), all.equal(a2, a.2),\n",
       "          identical(dimnames(a2), list(NULL,NULL,LETTERS[1:4])))\n",
       "\n",
       "hist(replicate(100, mean(rexp(10))))\n",
       "\n",
       "## use of replicate() with parameters:\n",
       "foo <- function(x = 1, y = 2) c(x, y)\n",
       "# does not work: bar <- function(n, ...) replicate(n, foo(...))\n",
       "bar <- function(n, x) replicate(n, foo(x = x))\n",
       "bar(5, x = 3)\n",
       "\\end{ExampleCode}\n",
       "\\end{Examples}"
      ],
      "text/plain": [
       "lapply                  package:base                   R Documentation\n",
       "\n",
       "_\bA_\bp_\bp_\bl_\by _\ba _\bF_\bu_\bn_\bc_\bt_\bi_\bo_\bn _\bo_\bv_\be_\br _\ba _\bL_\bi_\bs_\bt _\bo_\br _\bV_\be_\bc_\bt_\bo_\br\n",
       "\n",
       "_\bD_\be_\bs_\bc_\br_\bi_\bp_\bt_\bi_\bo_\bn:\n",
       "\n",
       "     ‘lapply’ returns a list of the same length as ‘X’, each element of\n",
       "     which is the result of applying ‘FUN’ to the corresponding element\n",
       "     of ‘X’.\n",
       "\n",
       "     ‘sapply’ is a user-friendly version and wrapper of ‘lapply’ by\n",
       "     default returning a vector, matrix or, if ‘simplify = \"array\"’, an\n",
       "     array if appropriate, by applying ‘simplify2array()’.  ‘sapply(x,\n",
       "     f, simplify = FALSE, USE.NAMES = FALSE)’ is the same as ‘lapply(x,\n",
       "     f)’.\n",
       "\n",
       "     ‘vapply’ is similar to ‘sapply’, but has a pre-specified type of\n",
       "     return value, so it can be safer (and sometimes faster) to use.\n",
       "\n",
       "     ‘replicate’ is a wrapper for the common use of ‘sapply’ for\n",
       "     repeated evaluation of an expression (which will usually involve\n",
       "     random number generation).\n",
       "\n",
       "     ‘simplify2array()’ is the utility called from ‘sapply()’ when\n",
       "     ‘simplify’ is not false and is similarly called from ‘mapply()’.\n",
       "\n",
       "_\bU_\bs_\ba_\bg_\be:\n",
       "\n",
       "     lapply(X, FUN, ...)\n",
       "     \n",
       "     sapply(X, FUN, ..., simplify = TRUE, USE.NAMES = TRUE)\n",
       "     \n",
       "     vapply(X, FUN, FUN.VALUE, ..., USE.NAMES = TRUE)\n",
       "     \n",
       "     replicate(n, expr, simplify = \"array\")\n",
       "     \n",
       "     simplify2array(x, higher = TRUE, except = c(0L, 1L))\n",
       "     \n",
       "_\bA_\br_\bg_\bu_\bm_\be_\bn_\bt_\bs:\n",
       "\n",
       "       X: a vector (atomic or list) or an ‘expression’ object.  Other\n",
       "          objects (including classed objects) will be coerced by\n",
       "          ‘base::as.list’.\n",
       "\n",
       "     FUN: the function to be applied to each element of ‘X’: see\n",
       "          ‘Details’.  In the case of functions like ‘+’, ‘%*%’, the\n",
       "          function name must be backquoted or quoted.\n",
       "\n",
       "     ...: optional arguments to ‘FUN’.\n",
       "\n",
       "simplify: logical or character string; should the result be simplified\n",
       "          to a vector, matrix or higher dimensional array if possible?\n",
       "          For ‘sapply’ it must be named and not abbreviated.  The\n",
       "          default value, ‘TRUE’, returns a vector or matrix if\n",
       "          appropriate, whereas if ‘simplify = \"array\"’ the result may\n",
       "          be an ‘array’ of “rank” (=‘length(dim(.))’) one higher than\n",
       "          the result of ‘FUN(X[[i]])’.\n",
       "\n",
       "USE.NAMES: logical; if ‘TRUE’ and if ‘X’ is character, use ‘X’ as\n",
       "          ‘names’ for the result unless it had names already.  Since\n",
       "          this argument follows ‘...’ its name cannot be abbreviated.\n",
       "\n",
       "FUN.VALUE: a (generalized) vector; a template for the return value from\n",
       "          FUN.  See ‘Details’.\n",
       "\n",
       "       n: integer: the number of replications.\n",
       "\n",
       "    expr: the expression (a language object, usually a call) to\n",
       "          evaluate repeatedly.\n",
       "\n",
       "       x: a list, typically returned from ‘lapply()’.\n",
       "\n",
       "  higher: logical; if true, ‘simplify2array()’ will produce a (“higher\n",
       "          rank”) array when appropriate, whereas ‘higher = FALSE’ would\n",
       "          return a matrix (or vector) only.  These two cases correspond\n",
       "          to ‘sapply(*, simplify = \"array\")’ or ‘simplify = TRUE’,\n",
       "          respectively.\n",
       "\n",
       "  except: integer vector or ‘NULL’; the default ‘c(0L, 1L)’ corresponds\n",
       "          to the exceptions used by ‘sapply’: a list with elements of\n",
       "          common length 0 or 1 is not simplified to an array but is\n",
       "          returned, respectively, as is or unlisted.  These exceptions\n",
       "          can be disabled by specifying only a subset of ‘0:1’, or\n",
       "          ‘NULL’ to always simplify to an array (if possible).\n",
       "\n",
       "_\bD_\be_\bt_\ba_\bi_\bl_\bs:\n",
       "\n",
       "     ‘FUN’ is found by a call to ‘match.fun’ and typically is specified\n",
       "     as a function or a symbol (e.g., a backquoted name) or a character\n",
       "     string specifying a function to be searched for from the\n",
       "     environment of the call to ‘lapply’.\n",
       "\n",
       "     Function ‘FUN’ must be able to accept as input any of the elements\n",
       "     of ‘X’.  If the latter is an atomic vector, ‘FUN’ will always be\n",
       "     passed a length-one vector of the same type as ‘X’.\n",
       "\n",
       "     Arguments in ‘...’ cannot have the same name as any of the other\n",
       "     arguments, and care may be needed to avoid partial matching to\n",
       "     ‘FUN’.  In general-purpose code it is good practice to name the\n",
       "     first two arguments ‘X’ and ‘FUN’ if ‘...’ is passed through: this\n",
       "     both avoids partial matching to ‘FUN’ and ensures that a sensible\n",
       "     error message is given if arguments named ‘X’ or ‘FUN’ are passed\n",
       "     through ‘...’.\n",
       "\n",
       "     Simplification in ‘sapply’ is only attempted if ‘X’ has length\n",
       "     greater than zero and if the return values from all elements of\n",
       "     ‘X’ are all of the same (positive) length.  If the common length\n",
       "     is one the result is a vector, and if greater than one is a matrix\n",
       "     with a column corresponding to each element of ‘X’.\n",
       "\n",
       "     Simplification is always done in ‘vapply’.  This function checks\n",
       "     that all values of ‘FUN’ are compatible with the ‘FUN.VALUE’, in\n",
       "     that they must have the same length and type.  (Types may be\n",
       "     promoted to a higher type within the ordering logical < integer <\n",
       "     double < complex, but not demoted.)\n",
       "\n",
       "     Users of S4 classes should pass a list to ‘lapply’ and ‘vapply’:\n",
       "     the internal coercion is done by the ‘as.list’ in the base\n",
       "     namespace and not one defined by a user (e.g., by setting S4\n",
       "     methods on the base function).\n",
       "\n",
       "_\bV_\ba_\bl_\bu_\be:\n",
       "\n",
       "     For ‘lapply’, ‘sapply(simplify = FALSE)’ and ‘replicate(simplify =\n",
       "     FALSE)’, a list.\n",
       "\n",
       "     For ‘sapply(simplify = TRUE)’ and ‘replicate(simplify = TRUE)’: if\n",
       "     ‘X’ has length zero or ‘n = 0’, an empty list.  Otherwise an\n",
       "     atomic vector or matrix or list of the same length as ‘X’ (of\n",
       "     length ‘n’ for ‘replicate’).  If simplification occurs, the output\n",
       "     type is determined from the highest type of the return values in\n",
       "     the hierarchy NULL < raw < logical < integer < double < complex <\n",
       "     character < list < expression, after coercion of pairlists to\n",
       "     lists.\n",
       "\n",
       "     ‘vapply’ returns a vector or array of type matching the\n",
       "     ‘FUN.VALUE’.  If ‘length(FUN.VALUE) == 1’ a vector of the same\n",
       "     length as ‘X’ is returned, otherwise an array.  If ‘FUN.VALUE’ is\n",
       "     not an ‘array’, the result is a matrix with ‘length(FUN.VALUE)’\n",
       "     rows and ‘length(X)’ columns, otherwise an array ‘a’ with ‘dim(a)\n",
       "     == c(dim(FUN.VALUE), length(X))’.\n",
       "\n",
       "     The (Dim)names of the array value are taken from the ‘FUN.VALUE’\n",
       "     if it is named, otherwise from the result of the first function\n",
       "     call.  Column names of the matrix or more generally the names of\n",
       "     the last dimension of the array value or names of the vector value\n",
       "     are set from ‘X’ as in ‘sapply’.\n",
       "\n",
       "_\bN_\bo_\bt_\be:\n",
       "\n",
       "     ‘sapply(*, simplify = FALSE, USE.NAMES = FALSE)’ is equivalent to\n",
       "     ‘lapply(*)’.\n",
       "\n",
       "     For historical reasons, the calls created by ‘lapply’ are\n",
       "     unevaluated, and code has been written (e.g., ‘bquote’) that\n",
       "     relies on this.  This means that the recorded call is always of\n",
       "     the form ‘FUN(X[[i]], ...)’, with ‘i’ replaced by the current\n",
       "     (integer or double) index.  This is not normally a problem, but it\n",
       "     can be if ‘FUN’ uses ‘sys.call’ or ‘match.call’ or if it is a\n",
       "     primitive function that makes use of the call.  This means that it\n",
       "     is often safer to call primitive functions with a wrapper, so that\n",
       "     e.g. ‘lapply(ll, function(x) is.numeric(x))’ is required to ensure\n",
       "     that method dispatch for ‘is.numeric’ occurs correctly.\n",
       "\n",
       "     If ‘expr’ is a function call, be aware of assumptions about where\n",
       "     it is evaluated, and in particular what ‘...’ might refer to.  You\n",
       "     can pass additional named arguments to a function call as\n",
       "     additional named arguments to ‘replicate’: see ‘Examples’.\n",
       "\n",
       "_\bR_\be_\bf_\be_\br_\be_\bn_\bc_\be_\bs:\n",
       "\n",
       "     Becker, R. A., Chambers, J. M. and Wilks, A. R. (1988) _The New S\n",
       "     Language_.  Wadsworth & Brooks/Cole.\n",
       "\n",
       "_\bS_\be_\be _\bA_\bl_\bs_\bo:\n",
       "\n",
       "     ‘apply’, ‘tapply’, ‘mapply’ for applying a function to *m*ultiple\n",
       "     arguments, and ‘rapply’ for a *r*ecursive version of ‘lapply()’,\n",
       "     ‘eapply’ for applying a function to each entry in an\n",
       "     ‘environment’.\n",
       "\n",
       "_\bE_\bx_\ba_\bm_\bp_\bl_\be_\bs:\n",
       "\n",
       "     require(stats); require(graphics)\n",
       "     \n",
       "     x <- list(a = 1:10, beta = exp(-3:3), logic = c(TRUE,FALSE,FALSE,TRUE))\n",
       "     # compute the list mean for each list element\n",
       "     lapply(x, mean)\n",
       "     # median and quartiles for each list element\n",
       "     lapply(x, quantile, probs = 1:3/4)\n",
       "     sapply(x, quantile)\n",
       "     i39 <- sapply(3:9, seq) # list of vectors\n",
       "     sapply(i39, fivenum)\n",
       "     vapply(i39, fivenum,\n",
       "            c(Min. = 0, \"1st Qu.\" = 0, Median = 0, \"3rd Qu.\" = 0, Max. = 0))\n",
       "     \n",
       "     ## sapply(*, \"array\") -- artificial example\n",
       "     (v <- structure(10*(5:8), names = LETTERS[1:4]))\n",
       "     f2 <- function(x, y) outer(rep(x, length.out = 3), y)\n",
       "     (a2 <- sapply(v, f2, y = 2*(1:5), simplify = \"array\"))\n",
       "     a.2 <- vapply(v, f2, outer(1:3, 1:5), y = 2*(1:5))\n",
       "     stopifnot(dim(a2) == c(3,5,4), all.equal(a2, a.2),\n",
       "               identical(dimnames(a2), list(NULL,NULL,LETTERS[1:4])))\n",
       "     \n",
       "     hist(replicate(100, mean(rexp(10))))\n",
       "     \n",
       "     ## use of replicate() with parameters:\n",
       "     foo <- function(x = 1, y = 2) c(x, y)\n",
       "     # does not work: bar <- function(n, ...) replicate(n, foo(...))\n",
       "     bar <- function(n, x) replicate(n, foo(x = x))\n",
       "     bar(5, x = 3)\n",
       "     "
      ]
     },
     "metadata": {},
     "output_type": "display_data"
    }
   ],
   "source": [
    "?sapply"
   ]
  },
  {
   "cell_type": "code",
   "execution_count": 62,
   "id": "33b47721-529d-4141-97a5-4bec607cc9c8",
   "metadata": {},
   "outputs": [
    {
     "data": {
      "text/html": [
       "<style>\n",
       ".list-inline {list-style: none; margin:0; padding: 0}\n",
       ".list-inline>li {display: inline-block}\n",
       ".list-inline>li:not(:last-child)::after {content: \"\\00b7\"; padding: 0 .5ex}\n",
       "</style>\n",
       "<ol class=list-inline><li>TRUE</li><li>FALSE</li><li>FALSE</li><li>FALSE</li><li>TRUE</li><li>FALSE</li><li>TRUE</li></ol>\n"
      ],
      "text/latex": [
       "\\begin{enumerate*}\n",
       "\\item TRUE\n",
       "\\item FALSE\n",
       "\\item FALSE\n",
       "\\item FALSE\n",
       "\\item TRUE\n",
       "\\item FALSE\n",
       "\\item TRUE\n",
       "\\end{enumerate*}\n"
      ],
      "text/markdown": [
       "1. TRUE\n",
       "2. FALSE\n",
       "3. FALSE\n",
       "4. FALSE\n",
       "5. TRUE\n",
       "6. FALSE\n",
       "7. TRUE\n",
       "\n",
       "\n"
      ],
      "text/plain": [
       "[1]  TRUE FALSE FALSE FALSE  TRUE FALSE  TRUE"
      ]
     },
     "metadata": {},
     "output_type": "display_data"
    }
   ],
   "source": [
    "sapply(phone.number.vector, is.even) "
   ]
  },
  {
   "cell_type": "markdown",
   "id": "2c29d348-f303-4e16-92f3-8149256de2af",
   "metadata": {},
   "source": [
    "This worked great because sapply takes each element and uses it as the argument in is.even(), which takes only one argument. If you wanted to find the digits that are divisible by three, it would require a little bit more work.\n",
    "\n",
    "One option is just to define a function,  is.divisible.by.three(), that takes only one argument and use this in sapply. The more common solution, however, is to define an unnamed function that does just that in the body of the sapply function call:"
   ]
  },
  {
   "cell_type": "code",
   "execution_count": 63,
   "id": "49f16fc0-2100-40a6-8397-eaf4b9a81b0c",
   "metadata": {},
   "outputs": [
    {
     "data": {
      "text/html": [
       "<style>\n",
       ".list-inline {list-style: none; margin:0; padding: 0}\n",
       ".list-inline>li {display: inline-block}\n",
       ".list-inline>li:not(:last-child)::after {content: \"\\00b7\"; padding: 0 .5ex}\n",
       "</style>\n",
       "<ol class=list-inline><li>TRUE</li><li>FALSE</li><li>FALSE</li><li>FALSE</li><li>TRUE</li><li>FALSE</li><li>TRUE</li></ol>\n"
      ],
      "text/latex": [
       "\\begin{enumerate*}\n",
       "\\item TRUE\n",
       "\\item FALSE\n",
       "\\item FALSE\n",
       "\\item FALSE\n",
       "\\item TRUE\n",
       "\\item FALSE\n",
       "\\item TRUE\n",
       "\\end{enumerate*}\n"
      ],
      "text/markdown": [
       "1. TRUE\n",
       "2. FALSE\n",
       "3. FALSE\n",
       "4. FALSE\n",
       "5. TRUE\n",
       "6. FALSE\n",
       "7. TRUE\n",
       "\n",
       "\n"
      ],
      "text/plain": [
       "[1]  TRUE FALSE FALSE FALSE  TRUE FALSE  TRUE"
      ]
     },
     "metadata": {},
     "output_type": "display_data"
    }
   ],
   "source": [
    "sapply(phone.number.vector, function(num){is.divisible.by(num, 2)}) "
   ]
  },
  {
   "cell_type": "code",
   "execution_count": 64,
   "id": "eb32bfcf-1789-4dd3-a41e-a1896020446f",
   "metadata": {},
   "outputs": [
    {
     "data": {
      "text/html": [
       "<style>\n",
       ".list-inline {list-style: none; margin:0; padding: 0}\n",
       ".list-inline>li {display: inline-block}\n",
       ".list-inline>li:not(:last-child)::after {content: \"\\00b7\"; padding: 0 .5ex}\n",
       "</style>\n",
       "<ol class=list-inline><li>8</li><li>5</li><li>5</li><li>1</li><li>2</li><li>1</li><li>2</li></ol>\n"
      ],
      "text/latex": [
       "\\begin{enumerate*}\n",
       "\\item 8\n",
       "\\item 5\n",
       "\\item 5\n",
       "\\item 1\n",
       "\\item 2\n",
       "\\item 1\n",
       "\\item 2\n",
       "\\end{enumerate*}\n"
      ],
      "text/markdown": [
       "1. 8\n",
       "2. 5\n",
       "3. 5\n",
       "4. 1\n",
       "5. 2\n",
       "6. 1\n",
       "7. 2\n",
       "\n",
       "\n"
      ],
      "text/plain": [
       "[1] 8 5 5 1 2 1 2"
      ]
     },
     "metadata": {},
     "output_type": "display_data"
    }
   ],
   "source": [
    "phone.number.vector"
   ]
  },
  {
   "cell_type": "markdown",
   "id": "7480aa87-358e-4ef6-a669-d92906c96262",
   "metadata": {},
   "source": [
    "Here, we essentially created a function that checks whether its argument is divisible by three, except we don't assign it to a variable and use it directly in the sapply body instead. These one-time-use unnamed functions are called anonymous functions or lambda functions. (The name comes from [Alonzo Church](https://en.wikipedia.org/wiki/Alonzo_Church)'s invention of the [lambda calculus](https://en.wikipedia.org/wiki/Lambda_calculus))"
   ]
  },
  {
   "cell_type": "markdown",
   "id": "66f0561b-f014-4393-873a-39cb8a117e0a",
   "metadata": {},
   "source": [
    "<hr style=\"height:10px;border-width:0;color:gray;background-color:gray\">\n",
    "\n",
    "# Page 8 - Matrices <a class=\"anchor\" id=\"DS102L1-WS.5_page_8\"></a>\n",
    "\n",
    "[Back to Top](#DS102L1-WS.5_toc)\n",
    "\n",
    "<hr style=\"height:10px;border-width:0;color:gray;background-color:gray\">"
   ]
  },
  {
   "cell_type": "markdown",
   "id": "00e4fd18-2457-4e60-a624-777b4e5686dc",
   "metadata": {},
   "source": [
    "In addition to the vector data structure, R has the matrix, data frame, list, and array data structures. \n",
    "\n",
    "A matrix in R, like in math, is a rectangular array of values (of one type) arranged in rows and columns and can be manipulated as a whole. Operations on matrices are fundamental to data analysis.\n",
    "\n",
    "One way of creating a matrix is to just supply a vector to the matrix() function:"
   ]
  },
  {
   "cell_type": "code",
   "execution_count": 65,
   "id": "6456a142-0891-47eb-8df3-f93a4d37e925",
   "metadata": {},
   "outputs": [
    {
     "data": {
      "text/html": [
       "<table class=\"dataframe\">\n",
       "<caption>A matrix: 6 × 1 of type dbl</caption>\n",
       "<tbody>\n",
       "\t<tr><td>1</td></tr>\n",
       "\t<tr><td>2</td></tr>\n",
       "\t<tr><td>3</td></tr>\n",
       "\t<tr><td>4</td></tr>\n",
       "\t<tr><td>5</td></tr>\n",
       "\t<tr><td>6</td></tr>\n",
       "</tbody>\n",
       "</table>\n"
      ],
      "text/latex": [
       "A matrix: 6 × 1 of type dbl\n",
       "\\begin{tabular}{l}\n",
       "\t 1\\\\\n",
       "\t 2\\\\\n",
       "\t 3\\\\\n",
       "\t 4\\\\\n",
       "\t 5\\\\\n",
       "\t 6\\\\\n",
       "\\end{tabular}\n"
      ],
      "text/markdown": [
       "\n",
       "A matrix: 6 × 1 of type dbl\n",
       "\n",
       "| 1 |\n",
       "| 2 |\n",
       "| 3 |\n",
       "| 4 |\n",
       "| 5 |\n",
       "| 6 |\n",
       "\n"
      ],
      "text/plain": [
       "     [,1]\n",
       "[1,] 1   \n",
       "[2,] 2   \n",
       "[3,] 3   \n",
       "[4,] 4   \n",
       "[5,] 5   \n",
       "[6,] 6   "
      ]
     },
     "metadata": {},
     "output_type": "display_data"
    }
   ],
   "source": [
    "a.matrix <- matrix(c(1, 2, 3, 4, 5, 6)) \n",
    "a.matrix"
   ]
  },
  {
   "cell_type": "markdown",
   "id": "a78c4f45-c3e7-43db-9d76-e99514ec6b64",
   "metadata": {},
   "source": [
    "This produces a matrix with all the supplied values in a single column. We can make a similar matrix with two columns by supplying matrix() with an optional argument, ncol, that specifies the number of columns:"
   ]
  },
  {
   "cell_type": "code",
   "execution_count": 66,
   "id": "1fd82f19-3335-4e7d-bba5-84481753411a",
   "metadata": {},
   "outputs": [
    {
     "data": {
      "text/html": [
       "<table class=\"dataframe\">\n",
       "<caption>A matrix: 3 × 2 of type dbl</caption>\n",
       "<tbody>\n",
       "\t<tr><td>1</td><td>4</td></tr>\n",
       "\t<tr><td>2</td><td>5</td></tr>\n",
       "\t<tr><td>3</td><td>6</td></tr>\n",
       "</tbody>\n",
       "</table>\n"
      ],
      "text/latex": [
       "A matrix: 3 × 2 of type dbl\n",
       "\\begin{tabular}{ll}\n",
       "\t 1 & 4\\\\\n",
       "\t 2 & 5\\\\\n",
       "\t 3 & 6\\\\\n",
       "\\end{tabular}\n"
      ],
      "text/markdown": [
       "\n",
       "A matrix: 3 × 2 of type dbl\n",
       "\n",
       "| 1 | 4 |\n",
       "| 2 | 5 |\n",
       "| 3 | 6 |\n",
       "\n"
      ],
      "text/plain": [
       "     [,1] [,2]\n",
       "[1,] 1    4   \n",
       "[2,] 2    5   \n",
       "[3,] 3    6   "
      ]
     },
     "metadata": {},
     "output_type": "display_data"
    }
   ],
   "source": [
    "a.matrix <- matrix(c(1, 2, 3, 4, 5, 6), ncol=2) \n",
    "a.matrix "
   ]
  },
  {
   "cell_type": "markdown",
   "id": "a73a6482-6acd-4df4-9ad5-046f7e8a3617",
   "metadata": {},
   "source": [
    "We could have produced the same matrix by binding two vectors, c(1, 2, 3) and c(4, 5, 6), by columns using the cbind() function as follows:"
   ]
  },
  {
   "cell_type": "code",
   "execution_count": 67,
   "id": "7f5125d6-e6fd-4606-927b-13fcc2f9d04c",
   "metadata": {},
   "outputs": [
    {
     "data": {
      "text/html": [
       "<table class=\"dataframe\">\n",
       "<caption>A matrix: 3 × 2 of type dbl</caption>\n",
       "<tbody>\n",
       "\t<tr><td>1</td><td>4</td></tr>\n",
       "\t<tr><td>2</td><td>5</td></tr>\n",
       "\t<tr><td>3</td><td>6</td></tr>\n",
       "</tbody>\n",
       "</table>\n"
      ],
      "text/latex": [
       "A matrix: 3 × 2 of type dbl\n",
       "\\begin{tabular}{ll}\n",
       "\t 1 & 4\\\\\n",
       "\t 2 & 5\\\\\n",
       "\t 3 & 6\\\\\n",
       "\\end{tabular}\n"
      ],
      "text/markdown": [
       "\n",
       "A matrix: 3 × 2 of type dbl\n",
       "\n",
       "| 1 | 4 |\n",
       "| 2 | 5 |\n",
       "| 3 | 6 |\n",
       "\n"
      ],
      "text/plain": [
       "     [,1] [,2]\n",
       "[1,] 1    4   \n",
       "[2,] 2    5   \n",
       "[3,] 3    6   "
      ]
     },
     "metadata": {},
     "output_type": "display_data"
    }
   ],
   "source": [
    "a2.matrix <- cbind(c(1, 2, 3), c(4, 5, 6)) \n",
    "a2.matrix"
   ]
  },
  {
   "cell_type": "markdown",
   "id": "cee721e1-d207-47e5-b5d5-a68783a9cb4f",
   "metadata": {},
   "source": [
    "We could create the transposition of this matrix (where rows and columns are switched) by binding these vectors by row instead:"
   ]
  },
  {
   "cell_type": "code",
   "execution_count": 68,
   "id": "ae28f076-294f-436e-b189-2be84c8d6db8",
   "metadata": {},
   "outputs": [
    {
     "data": {
      "text/html": [
       "<table class=\"dataframe\">\n",
       "<caption>A matrix: 2 × 3 of type dbl</caption>\n",
       "<tbody>\n",
       "\t<tr><td>1</td><td>2</td><td>3</td></tr>\n",
       "\t<tr><td>4</td><td>5</td><td>6</td></tr>\n",
       "</tbody>\n",
       "</table>\n"
      ],
      "text/latex": [
       "A matrix: 2 × 3 of type dbl\n",
       "\\begin{tabular}{lll}\n",
       "\t 1 & 2 & 3\\\\\n",
       "\t 4 & 5 & 6\\\\\n",
       "\\end{tabular}\n"
      ],
      "text/markdown": [
       "\n",
       "A matrix: 2 × 3 of type dbl\n",
       "\n",
       "| 1 | 2 | 3 |\n",
       "| 4 | 5 | 6 |\n",
       "\n"
      ],
      "text/plain": [
       "     [,1] [,2] [,3]\n",
       "[1,] 1    2    3   \n",
       "[2,] 4    5    6   "
      ]
     },
     "metadata": {},
     "output_type": "display_data"
    }
   ],
   "source": [
    "a3.matrix <- rbind(c(1, 2, 3), c(4, 5, 6)) \n",
    "a3.matrix "
   ]
  },
  {
   "cell_type": "markdown",
   "id": "9a1749af-21e8-4047-9b01-f941abe2b08e",
   "metadata": {},
   "source": [
    "We can do this by just using the matrix transposition function in R, t():"
   ]
  },
  {
   "cell_type": "code",
   "execution_count": 69,
   "id": "608ce28b-7848-49cd-aa19-a4ffe09b5872",
   "metadata": {},
   "outputs": [
    {
     "data": {
      "text/html": [
       "<table class=\"dataframe\">\n",
       "<caption>A matrix: 2 × 3 of type dbl</caption>\n",
       "<tbody>\n",
       "\t<tr><td>1</td><td>2</td><td>3</td></tr>\n",
       "\t<tr><td>4</td><td>5</td><td>6</td></tr>\n",
       "</tbody>\n",
       "</table>\n"
      ],
      "text/latex": [
       "A matrix: 2 × 3 of type dbl\n",
       "\\begin{tabular}{lll}\n",
       "\t 1 & 2 & 3\\\\\n",
       "\t 4 & 5 & 6\\\\\n",
       "\\end{tabular}\n"
      ],
      "text/markdown": [
       "\n",
       "A matrix: 2 × 3 of type dbl\n",
       "\n",
       "| 1 | 2 | 3 |\n",
       "| 4 | 5 | 6 |\n",
       "\n"
      ],
      "text/plain": [
       "     [,1] [,2] [,3]\n",
       "[1,] 1    2    3   \n",
       "[2,] 4    5    6   "
      ]
     },
     "metadata": {},
     "output_type": "display_data"
    }
   ],
   "source": [
    "t(a2.matrix)"
   ]
  },
  {
   "cell_type": "markdown",
   "id": "74aafe32-74fb-4811-8fb6-76890bd5114d",
   "metadata": {},
   "source": [
    "Some other functions that operate on whole vectors are rowSums()/colSums() and rowMeans()/colMeans():"
   ]
  },
  {
   "cell_type": "code",
   "execution_count": 70,
   "id": "0a31d4f8-7b51-4a8f-ba58-a81343002090",
   "metadata": {},
   "outputs": [
    {
     "data": {
      "text/html": [
       "<table class=\"dataframe\">\n",
       "<caption>A matrix: 3 × 2 of type dbl</caption>\n",
       "<tbody>\n",
       "\t<tr><td>1</td><td>4</td></tr>\n",
       "\t<tr><td>2</td><td>5</td></tr>\n",
       "\t<tr><td>3</td><td>6</td></tr>\n",
       "</tbody>\n",
       "</table>\n"
      ],
      "text/latex": [
       "A matrix: 3 × 2 of type dbl\n",
       "\\begin{tabular}{ll}\n",
       "\t 1 & 4\\\\\n",
       "\t 2 & 5\\\\\n",
       "\t 3 & 6\\\\\n",
       "\\end{tabular}\n"
      ],
      "text/markdown": [
       "\n",
       "A matrix: 3 × 2 of type dbl\n",
       "\n",
       "| 1 | 4 |\n",
       "| 2 | 5 |\n",
       "| 3 | 6 |\n",
       "\n"
      ],
      "text/plain": [
       "     [,1] [,2]\n",
       "[1,] 1    4   \n",
       "[2,] 2    5   \n",
       "[3,] 3    6   "
      ]
     },
     "metadata": {},
     "output_type": "display_data"
    }
   ],
   "source": [
    "a2.matrix"
   ]
  },
  {
   "cell_type": "code",
   "execution_count": 71,
   "id": "d004219b-8731-4bca-b1da-f06e3adfa1c5",
   "metadata": {},
   "outputs": [
    {
     "data": {
      "text/html": [
       "<style>\n",
       ".list-inline {list-style: none; margin:0; padding: 0}\n",
       ".list-inline>li {display: inline-block}\n",
       ".list-inline>li:not(:last-child)::after {content: \"\\00b7\"; padding: 0 .5ex}\n",
       "</style>\n",
       "<ol class=list-inline><li>6</li><li>15</li></ol>\n"
      ],
      "text/latex": [
       "\\begin{enumerate*}\n",
       "\\item 6\n",
       "\\item 15\n",
       "\\end{enumerate*}\n"
      ],
      "text/markdown": [
       "1. 6\n",
       "2. 15\n",
       "\n",
       "\n"
      ],
      "text/plain": [
       "[1]  6 15"
      ]
     },
     "metadata": {},
     "output_type": "display_data"
    }
   ],
   "source": [
    "colSums(a2.matrix)"
   ]
  },
  {
   "cell_type": "code",
   "execution_count": 72,
   "id": "00d71f0a-2e84-499a-aa5c-2841d6077322",
   "metadata": {},
   "outputs": [
    {
     "data": {
      "text/html": [
       "<style>\n",
       ".list-inline {list-style: none; margin:0; padding: 0}\n",
       ".list-inline>li {display: inline-block}\n",
       ".list-inline>li:not(:last-child)::after {content: \"\\00b7\"; padding: 0 .5ex}\n",
       "</style>\n",
       "<ol class=list-inline><li>2.5</li><li>3.5</li><li>4.5</li></ol>\n"
      ],
      "text/latex": [
       "\\begin{enumerate*}\n",
       "\\item 2.5\n",
       "\\item 3.5\n",
       "\\item 4.5\n",
       "\\end{enumerate*}\n"
      ],
      "text/markdown": [
       "1. 2.5\n",
       "2. 3.5\n",
       "3. 4.5\n",
       "\n",
       "\n"
      ],
      "text/plain": [
       "[1] 2.5 3.5 4.5"
      ]
     },
     "metadata": {},
     "output_type": "display_data"
    }
   ],
   "source": [
    "rowMeans(a2.matrix)"
   ]
  },
  {
   "cell_type": "markdown",
   "id": "76ed0992-a044-460c-9d65-be52e2d2ca39",
   "metadata": {},
   "source": [
    "If vectors have sapply(), then matrices have apply(). The preceding two functions could have been written, more verbosely, as follows:"
   ]
  },
  {
   "cell_type": "code",
   "execution_count": 73,
   "id": "923fc186-5276-4fc1-9f6c-3bd8493c1db8",
   "metadata": {},
   "outputs": [
    {
     "data": {
      "text/html": [
       "<style>\n",
       ".list-inline {list-style: none; margin:0; padding: 0}\n",
       ".list-inline>li {display: inline-block}\n",
       ".list-inline>li:not(:last-child)::after {content: \"\\00b7\"; padding: 0 .5ex}\n",
       "</style>\n",
       "<ol class=list-inline><li>6</li><li>15</li></ol>\n"
      ],
      "text/latex": [
       "\\begin{enumerate*}\n",
       "\\item 6\n",
       "\\item 15\n",
       "\\end{enumerate*}\n"
      ],
      "text/markdown": [
       "1. 6\n",
       "2. 15\n",
       "\n",
       "\n"
      ],
      "text/plain": [
       "[1]  6 15"
      ]
     },
     "metadata": {},
     "output_type": "display_data"
    }
   ],
   "source": [
    "apply(a2.matrix, 2, sum) "
   ]
  },
  {
   "cell_type": "code",
   "execution_count": 74,
   "id": "f509539d-1d68-4f44-9272-c5946feb84dc",
   "metadata": {},
   "outputs": [
    {
     "data": {
      "text/html": [
       "<style>\n",
       ".list-inline {list-style: none; margin:0; padding: 0}\n",
       ".list-inline>li {display: inline-block}\n",
       ".list-inline>li:not(:last-child)::after {content: \"\\00b7\"; padding: 0 .5ex}\n",
       "</style>\n",
       "<ol class=list-inline><li>2.5</li><li>3.5</li><li>4.5</li></ol>\n"
      ],
      "text/latex": [
       "\\begin{enumerate*}\n",
       "\\item 2.5\n",
       "\\item 3.5\n",
       "\\item 4.5\n",
       "\\end{enumerate*}\n"
      ],
      "text/markdown": [
       "1. 2.5\n",
       "2. 3.5\n",
       "3. 4.5\n",
       "\n",
       "\n"
      ],
      "text/plain": [
       "[1] 2.5 3.5 4.5"
      ]
     },
     "metadata": {},
     "output_type": "display_data"
    }
   ],
   "source": [
    "apply(a2.matrix, 1, mean) "
   ]
  },
  {
   "cell_type": "markdown",
   "id": "63ef632c-039d-4038-9eaa-b88dee945e3a",
   "metadata": {},
   "source": [
    "Here, 1 instructs R to perform the supplied function over its rows, and 2, over its columns.\n",
    "\n",
    "The matrix multiplication operator in R is *:"
   ]
  },
  {
   "cell_type": "code",
   "execution_count": 75,
   "id": "85d9aeb1-1c27-4628-bad6-0ee12bda6aa8",
   "metadata": {},
   "outputs": [
    {
     "data": {
      "text/html": [
       "<table class=\"dataframe\">\n",
       "<caption>A matrix: 3 × 2 of type dbl</caption>\n",
       "<tbody>\n",
       "\t<tr><td>1</td><td>16</td></tr>\n",
       "\t<tr><td>4</td><td>25</td></tr>\n",
       "\t<tr><td>9</td><td>36</td></tr>\n",
       "</tbody>\n",
       "</table>\n"
      ],
      "text/latex": [
       "A matrix: 3 × 2 of type dbl\n",
       "\\begin{tabular}{ll}\n",
       "\t 1 & 16\\\\\n",
       "\t 4 & 25\\\\\n",
       "\t 9 & 36\\\\\n",
       "\\end{tabular}\n"
      ],
      "text/markdown": [
       "\n",
       "A matrix: 3 × 2 of type dbl\n",
       "\n",
       "| 1 | 16 |\n",
       "| 4 | 25 |\n",
       "| 9 | 36 |\n",
       "\n"
      ],
      "text/plain": [
       "     [,1] [,2]\n",
       "[1,] 1    16  \n",
       "[2,] 4    25  \n",
       "[3,] 9    36  "
      ]
     },
     "metadata": {},
     "output_type": "display_data"
    }
   ],
   "source": [
    "a2.matrix * a2.matrix"
   ]
  },
  {
   "cell_type": "markdown",
   "id": "9cd8ec05-c309-4772-8ff1-7c45425d8149",
   "metadata": {},
   "source": [
    "Remember, matrix multiplication is only defined for matrices where the number of columns in the first matrix is equal to the number of rows in the second:"
   ]
  },
  {
   "cell_type": "code",
   "execution_count": 76,
   "id": "2a26b834-5a1c-44f2-9a4c-38494b012b68",
   "metadata": {},
   "outputs": [
    {
     "data": {
      "text/html": [
       "<table class=\"dataframe\">\n",
       "<caption>A matrix: 3 × 2 of type dbl</caption>\n",
       "<tbody>\n",
       "\t<tr><td>1</td><td>4</td></tr>\n",
       "\t<tr><td>2</td><td>5</td></tr>\n",
       "\t<tr><td>3</td><td>6</td></tr>\n",
       "</tbody>\n",
       "</table>\n"
      ],
      "text/latex": [
       "A matrix: 3 × 2 of type dbl\n",
       "\\begin{tabular}{ll}\n",
       "\t 1 & 4\\\\\n",
       "\t 2 & 5\\\\\n",
       "\t 3 & 6\\\\\n",
       "\\end{tabular}\n"
      ],
      "text/markdown": [
       "\n",
       "A matrix: 3 × 2 of type dbl\n",
       "\n",
       "| 1 | 4 |\n",
       "| 2 | 5 |\n",
       "| 3 | 6 |\n",
       "\n"
      ],
      "text/plain": [
       "     [,1] [,2]\n",
       "[1,] 1    4   \n",
       "[2,] 2    5   \n",
       "[3,] 3    6   "
      ]
     },
     "metadata": {},
     "output_type": "display_data"
    }
   ],
   "source": [
    "a2.matrix"
   ]
  },
  {
   "cell_type": "code",
   "execution_count": 77,
   "id": "f08ef10f-730f-47a9-be53-6e4d23750f45",
   "metadata": {},
   "outputs": [
    {
     "data": {
      "text/html": [
       "<table class=\"dataframe\">\n",
       "<caption>A matrix: 2 × 3 of type dbl</caption>\n",
       "<tbody>\n",
       "\t<tr><td>1</td><td>2</td><td>3</td></tr>\n",
       "\t<tr><td>4</td><td>5</td><td>6</td></tr>\n",
       "</tbody>\n",
       "</table>\n"
      ],
      "text/latex": [
       "A matrix: 2 × 3 of type dbl\n",
       "\\begin{tabular}{lll}\n",
       "\t 1 & 2 & 3\\\\\n",
       "\t 4 & 5 & 6\\\\\n",
       "\\end{tabular}\n"
      ],
      "text/markdown": [
       "\n",
       "A matrix: 2 × 3 of type dbl\n",
       "\n",
       "| 1 | 2 | 3 |\n",
       "| 4 | 5 | 6 |\n",
       "\n"
      ],
      "text/plain": [
       "     [,1] [,2] [,3]\n",
       "[1,] 1    2    3   \n",
       "[2,] 4    5    6   "
      ]
     },
     "metadata": {},
     "output_type": "display_data"
    }
   ],
   "source": [
    "a3.matrix "
   ]
  },
  {
   "cell_type": "code",
   "execution_count": 78,
   "id": "d6853081-d8ab-4901-a2df-666dec897093",
   "metadata": {},
   "outputs": [],
   "source": [
    "#a2.matrix * a3.matrix"
   ]
  },
  {
   "cell_type": "code",
   "execution_count": 79,
   "id": "e60eaafd-b1f3-4ef5-83a2-a8cf35f97851",
   "metadata": {},
   "outputs": [
    {
     "data": {
      "text/html": [
       "<style>\n",
       ".list-inline {list-style: none; margin:0; padding: 0}\n",
       ".list-inline>li {display: inline-block}\n",
       ".list-inline>li:not(:last-child)::after {content: \"\\00b7\"; padding: 0 .5ex}\n",
       "</style>\n",
       "<ol class=list-inline><li>3</li><li>2</li></ol>\n"
      ],
      "text/latex": [
       "\\begin{enumerate*}\n",
       "\\item 3\n",
       "\\item 2\n",
       "\\end{enumerate*}\n"
      ],
      "text/markdown": [
       "1. 3\n",
       "2. 2\n",
       "\n",
       "\n"
      ],
      "text/plain": [
       "[1] 3 2"
      ]
     },
     "metadata": {},
     "output_type": "display_data"
    }
   ],
   "source": [
    "#dim() function shows us the dimensions of the matrix\n",
    "dim(a2.matrix)"
   ]
  },
  {
   "cell_type": "code",
   "execution_count": 80,
   "id": "0d583e87-5ca1-4597-8fdf-74ff35d88b3c",
   "metadata": {},
   "outputs": [
    {
     "data": {
      "text/html": [
       "<style>\n",
       ".list-inline {list-style: none; margin:0; padding: 0}\n",
       ".list-inline>li {display: inline-block}\n",
       ".list-inline>li:not(:last-child)::after {content: \"\\00b7\"; padding: 0 .5ex}\n",
       "</style>\n",
       "<ol class=list-inline><li>2</li><li>3</li></ol>\n"
      ],
      "text/latex": [
       "\\begin{enumerate*}\n",
       "\\item 2\n",
       "\\item 3\n",
       "\\end{enumerate*}\n"
      ],
      "text/markdown": [
       "1. 2\n",
       "2. 3\n",
       "\n",
       "\n"
      ],
      "text/plain": [
       "[1] 2 3"
      ]
     },
     "metadata": {},
     "output_type": "display_data"
    }
   ],
   "source": [
    "dim(a3.matrix)"
   ]
  },
  {
   "cell_type": "markdown",
   "id": "75f30089-004f-4ecb-be17-6dec152ed00a",
   "metadata": {},
   "source": [
    "To index the element of a matrix at the second row and first column, you need to supply both of these numbers into the subscripting operator:"
   ]
  },
  {
   "cell_type": "code",
   "execution_count": 81,
   "id": "0bbf291d-62b4-48bd-a2a1-fb564c7a4e8b",
   "metadata": {},
   "outputs": [
    {
     "data": {
      "text/html": [
       "2"
      ],
      "text/latex": [
       "2"
      ],
      "text/markdown": [
       "2"
      ],
      "text/plain": [
       "[1] 2"
      ]
     },
     "metadata": {},
     "output_type": "display_data"
    }
   ],
   "source": [
    "a2.matrix[2,1]"
   ]
  },
  {
   "cell_type": "markdown",
   "id": "8471ab55-50c8-480b-8a6c-1b6085f6e860",
   "metadata": {},
   "source": [
    "Many useRs get confused and forget the order in which the indices must appear; remember, it's row first, then columns!\n",
    "\n",
    "If you leave one of the spaces empty, R will assume that you want that whole dimension:"
   ]
  },
  {
   "cell_type": "code",
   "execution_count": 82,
   "id": "829db660-be20-404b-824b-f94ba83a3929",
   "metadata": {},
   "outputs": [
    {
     "data": {
      "text/html": [
       "<style>\n",
       ".list-inline {list-style: none; margin:0; padding: 0}\n",
       ".list-inline>li {display: inline-block}\n",
       ".list-inline>li:not(:last-child)::after {content: \"\\00b7\"; padding: 0 .5ex}\n",
       "</style>\n",
       "<ol class=list-inline><li>1</li><li>4</li></ol>\n"
      ],
      "text/latex": [
       "\\begin{enumerate*}\n",
       "\\item 1\n",
       "\\item 4\n",
       "\\end{enumerate*}\n"
      ],
      "text/markdown": [
       "1. 1\n",
       "2. 4\n",
       "\n",
       "\n"
      ],
      "text/plain": [
       "[1] 1 4"
      ]
     },
     "metadata": {},
     "output_type": "display_data"
    }
   ],
   "source": [
    "# returns the first row \n",
    "a2.matrix[1,]"
   ]
  },
  {
   "cell_type": "code",
   "execution_count": 83,
   "id": "7becea0b-c5c8-4e26-ac21-f3a8507c209e",
   "metadata": {},
   "outputs": [
    {
     "data": {
      "text/html": [
       "<style>\n",
       ".list-inline {list-style: none; margin:0; padding: 0}\n",
       ".list-inline>li {display: inline-block}\n",
       ".list-inline>li:not(:last-child)::after {content: \"\\00b7\"; padding: 0 .5ex}\n",
       "</style>\n",
       "<ol class=list-inline><li>4</li><li>5</li><li>6</li></ol>\n"
      ],
      "text/latex": [
       "\\begin{enumerate*}\n",
       "\\item 4\n",
       "\\item 5\n",
       "\\item 6\n",
       "\\end{enumerate*}\n"
      ],
      "text/markdown": [
       "1. 4\n",
       "2. 5\n",
       "3. 6\n",
       "\n",
       "\n"
      ],
      "text/plain": [
       "[1] 4 5 6"
      ]
     },
     "metadata": {},
     "output_type": "display_data"
    }
   ],
   "source": [
    "# returns the whole second column \n",
    "a2.matrix[,2] "
   ]
  },
  {
   "cell_type": "code",
   "execution_count": 84,
   "id": "8e8ba9db-453e-409b-9e7f-cb5aed60831e",
   "metadata": {},
   "outputs": [
    {
     "data": {
      "text/html": [
       "<style>\n",
       ".list-inline {list-style: none; margin:0; padding: 0}\n",
       ".list-inline>li {display: inline-block}\n",
       ".list-inline>li:not(:last-child)::after {content: \"\\00b7\"; padding: 0 .5ex}\n",
       "</style>\n",
       "<ol class=list-inline><li>4</li><li>6</li></ol>\n"
      ],
      "text/latex": [
       "\\begin{enumerate*}\n",
       "\\item 4\n",
       "\\item 6\n",
       "\\end{enumerate*}\n"
      ],
      "text/markdown": [
       "1. 4\n",
       "2. 6\n",
       "\n",
       "\n"
      ],
      "text/plain": [
       "[1] 4 6"
      ]
     },
     "metadata": {},
     "output_type": "display_data"
    }
   ],
   "source": [
    "#we can use vectors in our subscript operator:\n",
    "# give me element in column 2 at the first and third row \n",
    "a2.matrix[c(1, 3), 2] "
   ]
  },
  {
   "cell_type": "markdown",
   "id": "1a3e6c3b-a9f1-46ba-9c31-b9cdce160545",
   "metadata": {},
   "source": [
    "<hr style=\"height:10px;border-width:0;color:gray;background-color:gray\">\n",
    "\n",
    "# Page 9 - Loading data into R <a class=\"anchor\" id=\"DS102L1-WS.5_page_9\"></a>\n",
    "\n",
    "[Back to Top](#DS102L1-WS.5_toc)\n",
    "\n",
    "<hr style=\"height:10px;border-width:0;color:gray;background-color:gray\">"
   ]
  },
  {
   "cell_type": "markdown",
   "id": "569c3a1e-64c8-4871-b968-c791533f6255",
   "metadata": {},
   "source": [
    "Thus far, we've only been entering data directly into the interactive R console of this Jupyter notebook. For any dataset of non-trivial size, this is, obviously, not an option. Fortunately for us, R has a robust suite of functions to read data directly from external files.\n",
    "\n",
    "Go ahead and create a file on your hard disk called favorites.txt that looks like this:\n",
    "\n",
    "```text\n",
    "flavor,number \n",
    "pistachio,6 \n",
    "mint chocolate chip,7 \n",
    "vanilla,5\n",
    "chocolate,10 \n",
    "strawberry,2 \n",
    "neopolitan,4 \n",
    "```\n",
    "\n",
    "or just read it in from a file location used in this companion notebook."
   ]
  },
  {
   "cell_type": "code",
   "execution_count": 85,
   "id": "c0e5f26d-d8cd-4f24-b7ef-3e52d47ab808",
   "metadata": {},
   "outputs": [],
   "source": [
    "favs <- read.table(\"../../../Data/favorites.txt\", sep=\",\", header=TRUE) "
   ]
  },
  {
   "cell_type": "code",
   "execution_count": 86,
   "id": "d70a9942-8b9b-46f7-b055-d791e996b14f",
   "metadata": {},
   "outputs": [
    {
     "data": {
      "text/html": [
       "<table class=\"dataframe\">\n",
       "<caption>A data.frame: 6 × 2</caption>\n",
       "<thead>\n",
       "\t<tr><th scope=col>flavor</th><th scope=col>number</th></tr>\n",
       "\t<tr><th scope=col>&lt;chr&gt;</th><th scope=col>&lt;dbl&gt;</th></tr>\n",
       "</thead>\n",
       "<tbody>\n",
       "\t<tr><td>pistachio          </td><td> 6</td></tr>\n",
       "\t<tr><td>mint chocolate chip</td><td> 7</td></tr>\n",
       "\t<tr><td>vanilla            </td><td> 5</td></tr>\n",
       "\t<tr><td>chocolate          </td><td>10</td></tr>\n",
       "\t<tr><td>strawberry         </td><td> 2</td></tr>\n",
       "\t<tr><td>neopolitan         </td><td> 4</td></tr>\n",
       "</tbody>\n",
       "</table>\n"
      ],
      "text/latex": [
       "A data.frame: 6 × 2\n",
       "\\begin{tabular}{ll}\n",
       " flavor & number\\\\\n",
       " <chr> & <dbl>\\\\\n",
       "\\hline\n",
       "\t pistachio           &  6\\\\\n",
       "\t mint chocolate chip &  7\\\\\n",
       "\t vanilla             &  5\\\\\n",
       "\t chocolate           & 10\\\\\n",
       "\t strawberry          &  2\\\\\n",
       "\t neopolitan          &  4\\\\\n",
       "\\end{tabular}\n"
      ],
      "text/markdown": [
       "\n",
       "A data.frame: 6 × 2\n",
       "\n",
       "| flavor &lt;chr&gt; | number &lt;dbl&gt; |\n",
       "|---|---|\n",
       "| pistachio           |  6 |\n",
       "| mint chocolate chip |  7 |\n",
       "| vanilla             |  5 |\n",
       "| chocolate           | 10 |\n",
       "| strawberry          |  2 |\n",
       "| neopolitan          |  4 |\n",
       "\n"
      ],
      "text/plain": [
       "  flavor              number\n",
       "1 pistachio            6    \n",
       "2 mint chocolate chip  7    \n",
       "3 vanilla              5    \n",
       "4 chocolate           10    \n",
       "5 strawberry           2    \n",
       "6 neopolitan           4    "
      ]
     },
     "metadata": {},
     "output_type": "display_data"
    }
   ],
   "source": [
    "favs"
   ]
  },
  {
   "cell_type": "markdown",
   "id": "4d90698e-5616-4b75-a8d8-f828248ed861",
   "metadata": {},
   "source": [
    "If you get an error that there is no such file or directory, give R the full path name to your dataset or, alternatively, run the following command in an R console/terminal as the below will not work in Jupyter:"
   ]
  },
  {
   "cell_type": "markdown",
   "id": "96892b3f-5073-401d-b59a-147a2590f423",
   "metadata": {},
   "source": [
    "\n",
    "```r\n",
    "favs <- read.table(file.choose(), sep=\",\", header=TRUE)\n",
    "```\n",
    "\n",
    "Note this can only be performed in the R console/Terminal with the full absolute path shown below\n",
    "\n",
    "<p style=\"text-align: center\">\n",
    "  <img  src=\"../../../Media/R-File-Choose.png\" width=\"600\" alt=\"R-Terminal\">\n",
    "</p>\n"
   ]
  },
  {
   "cell_type": "markdown",
   "id": "6cb4d9ad-cf3d-4ffe-b16c-7f9daffb56e5",
   "metadata": {},
   "source": [
    "The sep=\",\" argument tells R that each data element in a row is separated by a comma. Other common data formats have values separated by tabs and pipes (\"|\"). The value of sep should then be \"\\t\" and \"|\", respectively.\n",
    "\n",
    "The header=TRUE argument tells R that the first row of the file should be interpreted as the names of the columns. Remember, you can enter ?read.table at the console to learn more about these options.\n",
    "\n",
    "Reading from files in this comma-separated values format (usually with the .csv file extension) is so common that R has a more specific function just for it. The preceding data import expression can be best written simply as follows:"
   ]
  },
  {
   "cell_type": "code",
   "execution_count": 87,
   "id": "0401de85-e78d-4661-8e3f-0f19fc06cd72",
   "metadata": {},
   "outputs": [],
   "source": [
    "favs <- read.csv(\"../../../Data/favorites.txt\") "
   ]
  },
  {
   "cell_type": "markdown",
   "id": "789d617f-7077-40db-a215-c46ac5ae5eec",
   "metadata": {},
   "source": [
    "Now, we have the data in the file held in a variable of the data.frame class. A data frame can be thought of as a rectangular array of data that you might see in a spreadsheet application. In this way, a data frame can also be thought of as a matrix; indeed, we can use matrix-style indexing to extract elements from it. A data frame differs from a matrix, though, in that a data frame may have columns of differing types. For example, whereas a matrix would only allow one of these types, the dataset that we just loaded contains character data in its first column and numeric data in its second column.\n",
    "\n",
    "Let's check out what we have using the head() command, which will show us the first few lines of a data frame:"
   ]
  },
  {
   "cell_type": "code",
   "execution_count": 88,
   "id": "17d6a133-d0a0-44a2-9a76-3c3f00a218d1",
   "metadata": {},
   "outputs": [
    {
     "data": {
      "text/html": [
       "<table class=\"dataframe\">\n",
       "<caption>A data.frame: 6 × 2</caption>\n",
       "<thead>\n",
       "\t<tr><th></th><th scope=col>flavor</th><th scope=col>number</th></tr>\n",
       "\t<tr><th></th><th scope=col>&lt;chr&gt;</th><th scope=col>&lt;dbl&gt;</th></tr>\n",
       "</thead>\n",
       "<tbody>\n",
       "\t<tr><th scope=row>1</th><td>pistachio          </td><td> 6</td></tr>\n",
       "\t<tr><th scope=row>2</th><td>mint chocolate chip</td><td> 7</td></tr>\n",
       "\t<tr><th scope=row>3</th><td>vanilla            </td><td> 5</td></tr>\n",
       "\t<tr><th scope=row>4</th><td>chocolate          </td><td>10</td></tr>\n",
       "\t<tr><th scope=row>5</th><td>strawberry         </td><td> 2</td></tr>\n",
       "\t<tr><th scope=row>6</th><td>neopolitan         </td><td> 4</td></tr>\n",
       "</tbody>\n",
       "</table>\n"
      ],
      "text/latex": [
       "A data.frame: 6 × 2\n",
       "\\begin{tabular}{r|ll}\n",
       "  & flavor & number\\\\\n",
       "  & <chr> & <dbl>\\\\\n",
       "\\hline\n",
       "\t1 & pistachio           &  6\\\\\n",
       "\t2 & mint chocolate chip &  7\\\\\n",
       "\t3 & vanilla             &  5\\\\\n",
       "\t4 & chocolate           & 10\\\\\n",
       "\t5 & strawberry          &  2\\\\\n",
       "\t6 & neopolitan          &  4\\\\\n",
       "\\end{tabular}\n"
      ],
      "text/markdown": [
       "\n",
       "A data.frame: 6 × 2\n",
       "\n",
       "| <!--/--> | flavor &lt;chr&gt; | number &lt;dbl&gt; |\n",
       "|---|---|---|\n",
       "| 1 | pistachio           |  6 |\n",
       "| 2 | mint chocolate chip |  7 |\n",
       "| 3 | vanilla             |  5 |\n",
       "| 4 | chocolate           | 10 |\n",
       "| 5 | strawberry          |  2 |\n",
       "| 6 | neopolitan          |  4 |\n",
       "\n"
      ],
      "text/plain": [
       "  flavor              number\n",
       "1 pistachio            6    \n",
       "2 mint chocolate chip  7    \n",
       "3 vanilla              5    \n",
       "4 chocolate           10    \n",
       "5 strawberry           2    \n",
       "6 neopolitan           4    "
      ]
     },
     "metadata": {},
     "output_type": "display_data"
    }
   ],
   "source": [
    "head(favs)"
   ]
  },
  {
   "cell_type": "markdown",
   "id": "74241447-576f-426b-8c72-b734e43d82e1",
   "metadata": {},
   "source": [
    "Let's take a look at the class to ensure what I'm thinking is correct "
   ]
  },
  {
   "cell_type": "code",
   "execution_count": 89,
   "id": "63bfe793-1f2f-4f06-916f-adf07cfb4304",
   "metadata": {},
   "outputs": [
    {
     "data": {
      "text/html": [
       "'data.frame'"
      ],
      "text/latex": [
       "'data.frame'"
      ],
      "text/markdown": [
       "'data.frame'"
      ],
      "text/plain": [
       "[1] \"data.frame\""
      ]
     },
     "metadata": {},
     "output_type": "display_data"
    }
   ],
   "source": [
    "class(favs)"
   ]
  },
  {
   "cell_type": "markdown",
   "id": "ea08fd99-9d2b-4adc-a099-9bd60c64a5f6",
   "metadata": {},
   "source": [
    "next lets address each column to see what type they are"
   ]
  },
  {
   "cell_type": "code",
   "execution_count": 90,
   "id": "62abb067-73c1-492f-986f-87e60f02709b",
   "metadata": {},
   "outputs": [
    {
     "data": {
      "text/html": [
       "'character'"
      ],
      "text/latex": [
       "'character'"
      ],
      "text/markdown": [
       "'character'"
      ],
      "text/plain": [
       "[1] \"character\""
      ]
     },
     "metadata": {},
     "output_type": "display_data"
    }
   ],
   "source": [
    "class(favs$flavor)"
   ]
  },
  {
   "cell_type": "code",
   "execution_count": 91,
   "id": "c8a3f446-568d-42de-a2a1-75762281a213",
   "metadata": {},
   "outputs": [
    {
     "data": {
      "text/html": [
       "'numeric'"
      ],
      "text/latex": [
       "'numeric'"
      ],
      "text/markdown": [
       "'numeric'"
      ],
      "text/plain": [
       "[1] \"numeric\""
      ]
     },
     "metadata": {},
     "output_type": "display_data"
    }
   ],
   "source": [
    "class(favs$number)"
   ]
  },
  {
   "cell_type": "markdown",
   "id": "93d8d35e-abae-49c4-886b-f76febb880b3",
   "metadata": {},
   "source": [
    "Technically, flavor is a factor data type, not a character type.\n",
    "\n",
    "We haven't seen factors yet, but the idea behind them is really simple. Essentially, factors are codings for categorical variables, which are variables that take on one of a finite number of categories--think {\"high\", \"medium\", and \"low\"} or {\"control\", \"experimental\"}."
   ]
  },
  {
   "cell_type": "markdown",
   "id": "9d17d452-d428-4c46-ae8e-5e7595e6db7e",
   "metadata": {},
   "source": [
    "Though factors are extremely useful in statistical modeling in R, the fact that R, by default, automatically interprets a column from the data read from disk as a type factor if it contains characters is something that trips up novices and seasoned useRs alike. Due to this, we will primarily prevent this behavior manually by adding the stringsAsFactors optional keyword argument to the read.* commands:"
   ]
  },
  {
   "cell_type": "markdown",
   "id": "4e4e2756-de80-4e86-8b14-6b301421ec90",
   "metadata": {},
   "source": [
    "new operator on you **$**, the extract operator. You can extract each column using it. But there also several other ways to extract a single column of data"
   ]
  },
  {
   "cell_type": "code",
   "execution_count": 92,
   "id": "6376b25f-9bb3-4e6a-aab2-19eb2ea66309",
   "metadata": {},
   "outputs": [
    {
     "data": {
      "text/html": [
       "<style>\n",
       ".list-inline {list-style: none; margin:0; padding: 0}\n",
       ".list-inline>li {display: inline-block}\n",
       ".list-inline>li:not(:last-child)::after {content: \"\\00b7\"; padding: 0 .5ex}\n",
       "</style>\n",
       "<ol class=list-inline><li>'pistachio'</li><li>'mint chocolate chip'</li><li>'vanilla'</li><li>'chocolate'</li><li>'strawberry'</li><li>'neopolitan'</li></ol>\n"
      ],
      "text/latex": [
       "\\begin{enumerate*}\n",
       "\\item 'pistachio'\n",
       "\\item 'mint chocolate chip'\n",
       "\\item 'vanilla'\n",
       "\\item 'chocolate'\n",
       "\\item 'strawberry'\n",
       "\\item 'neopolitan'\n",
       "\\end{enumerate*}\n"
      ],
      "text/markdown": [
       "1. 'pistachio'\n",
       "2. 'mint chocolate chip'\n",
       "3. 'vanilla'\n",
       "4. 'chocolate'\n",
       "5. 'strawberry'\n",
       "6. 'neopolitan'\n",
       "\n",
       "\n"
      ],
      "text/plain": [
       "[1] \"pistachio\"           \"mint chocolate chip\" \"vanilla\"            \n",
       "[4] \"chocolate\"           \"strawberry\"          \"neopolitan\"         "
      ]
     },
     "metadata": {},
     "output_type": "display_data"
    }
   ],
   "source": [
    "favs$flavor"
   ]
  },
  {
   "cell_type": "code",
   "execution_count": 93,
   "id": "faf1e179-222d-4c37-8b3e-14057b147559",
   "metadata": {},
   "outputs": [
    {
     "data": {
      "text/html": [
       "<style>\n",
       ".list-inline {list-style: none; margin:0; padding: 0}\n",
       ".list-inline>li {display: inline-block}\n",
       ".list-inline>li:not(:last-child)::after {content: \"\\00b7\"; padding: 0 .5ex}\n",
       "</style>\n",
       "<ol class=list-inline><li>'pistachio'</li><li>'mint chocolate chip'</li><li>'vanilla'</li><li>'chocolate'</li><li>'strawberry'</li><li>'neopolitan'</li></ol>\n"
      ],
      "text/latex": [
       "\\begin{enumerate*}\n",
       "\\item 'pistachio'\n",
       "\\item 'mint chocolate chip'\n",
       "\\item 'vanilla'\n",
       "\\item 'chocolate'\n",
       "\\item 'strawberry'\n",
       "\\item 'neopolitan'\n",
       "\\end{enumerate*}\n"
      ],
      "text/markdown": [
       "1. 'pistachio'\n",
       "2. 'mint chocolate chip'\n",
       "3. 'vanilla'\n",
       "4. 'chocolate'\n",
       "5. 'strawberry'\n",
       "6. 'neopolitan'\n",
       "\n",
       "\n"
      ],
      "text/plain": [
       "[1] \"pistachio\"           \"mint chocolate chip\" \"vanilla\"            \n",
       "[4] \"chocolate\"           \"strawberry\"          \"neopolitan\"         "
      ]
     },
     "metadata": {},
     "output_type": "display_data"
    }
   ],
   "source": [
    "favs[[\"flavor\"]] "
   ]
  },
  {
   "cell_type": "code",
   "execution_count": 94,
   "id": "476acc10-d8a3-42fb-bbf4-dbd871065e6d",
   "metadata": {},
   "outputs": [
    {
     "data": {
      "text/html": [
       "<style>\n",
       ".list-inline {list-style: none; margin:0; padding: 0}\n",
       ".list-inline>li {display: inline-block}\n",
       ".list-inline>li:not(:last-child)::after {content: \"\\00b7\"; padding: 0 .5ex}\n",
       "</style>\n",
       "<ol class=list-inline><li>'pistachio'</li><li>'mint chocolate chip'</li><li>'vanilla'</li><li>'chocolate'</li><li>'strawberry'</li><li>'neopolitan'</li></ol>\n"
      ],
      "text/latex": [
       "\\begin{enumerate*}\n",
       "\\item 'pistachio'\n",
       "\\item 'mint chocolate chip'\n",
       "\\item 'vanilla'\n",
       "\\item 'chocolate'\n",
       "\\item 'strawberry'\n",
       "\\item 'neopolitan'\n",
       "\\end{enumerate*}\n"
      ],
      "text/markdown": [
       "1. 'pistachio'\n",
       "2. 'mint chocolate chip'\n",
       "3. 'vanilla'\n",
       "4. 'chocolate'\n",
       "5. 'strawberry'\n",
       "6. 'neopolitan'\n",
       "\n",
       "\n"
      ],
      "text/plain": [
       "[1] \"pistachio\"           \"mint chocolate chip\" \"vanilla\"            \n",
       "[4] \"chocolate\"           \"strawberry\"          \"neopolitan\"         "
      ]
     },
     "metadata": {},
     "output_type": "display_data"
    }
   ],
   "source": [
    "favs[,1] "
   ]
  },
  {
   "cell_type": "markdown",
   "id": "a6681b89-61d4-42ee-9b6d-5d072301d7ab",
   "metadata": {},
   "source": [
    "You can use the names() function to get a list of the columns available in a data frame. You can even reassign names using the same:"
   ]
  },
  {
   "cell_type": "code",
   "execution_count": 95,
   "id": "a105e39c-7354-455f-a62f-2956e0e4c8fa",
   "metadata": {},
   "outputs": [
    {
     "data": {
      "text/html": [
       "<style>\n",
       ".list-inline {list-style: none; margin:0; padding: 0}\n",
       ".list-inline>li {display: inline-block}\n",
       ".list-inline>li:not(:last-child)::after {content: \"\\00b7\"; padding: 0 .5ex}\n",
       "</style>\n",
       "<ol class=list-inline><li>'flavor'</li><li>'number'</li></ol>\n"
      ],
      "text/latex": [
       "\\begin{enumerate*}\n",
       "\\item 'flavor'\n",
       "\\item 'number'\n",
       "\\end{enumerate*}\n"
      ],
      "text/markdown": [
       "1. 'flavor'\n",
       "2. 'number'\n",
       "\n",
       "\n"
      ],
      "text/plain": [
       "[1] \"flavor\" \"number\""
      ]
     },
     "metadata": {},
     "output_type": "display_data"
    }
   ],
   "source": [
    "names(favs)"
   ]
  },
  {
   "cell_type": "code",
   "execution_count": 96,
   "id": "b7184aad-f25b-443e-88e1-c98bc39950c9",
   "metadata": {},
   "outputs": [],
   "source": [
    "names(favs)[1] <- \"flav\" "
   ]
  },
  {
   "cell_type": "code",
   "execution_count": 97,
   "id": "9e575e39-d7c5-48d0-b9e9-30ceb103c2f6",
   "metadata": {},
   "outputs": [
    {
     "data": {
      "text/html": [
       "<style>\n",
       ".list-inline {list-style: none; margin:0; padding: 0}\n",
       ".list-inline>li {display: inline-block}\n",
       ".list-inline>li:not(:last-child)::after {content: \"\\00b7\"; padding: 0 .5ex}\n",
       "</style>\n",
       "<ol class=list-inline><li>'flav'</li><li>'number'</li></ol>\n"
      ],
      "text/latex": [
       "\\begin{enumerate*}\n",
       "\\item 'flav'\n",
       "\\item 'number'\n",
       "\\end{enumerate*}\n"
      ],
      "text/markdown": [
       "1. 'flav'\n",
       "2. 'number'\n",
       "\n",
       "\n"
      ],
      "text/plain": [
       "[1] \"flav\"   \"number\""
      ]
     },
     "metadata": {},
     "output_type": "display_data"
    }
   ],
   "source": [
    "names(favs)"
   ]
  },
  {
   "cell_type": "markdown",
   "id": "46b45325-e4e7-464b-b310-4465068e137a",
   "metadata": {},
   "source": [
    "Lastly, we can get a compact display of the structure of a data frame using the str() function on it:"
   ]
  },
  {
   "cell_type": "code",
   "execution_count": 98,
   "id": "d40a409e-1343-4cca-9869-8bba7a6bdee0",
   "metadata": {},
   "outputs": [
    {
     "name": "stdout",
     "output_type": "stream",
     "text": [
      "'data.frame':\t6 obs. of  2 variables:\n",
      " $ flav  : chr  \"pistachio\" \"mint chocolate chip\" \"vanilla\" \"chocolate\" ...\n",
      " $ number: num  6 7 5 10 2 4\n"
     ]
    }
   ],
   "source": [
    "#str is Structure for short\n",
    "str(favs) "
   ]
  },
  {
   "cell_type": "markdown",
   "id": "ea1d9735-8914-4832-8205-de88427a5b19",
   "metadata": {},
   "source": [
    "Actually, you can use this function on any R structure--the property of functions that change their behavior based on the type of input is called polymorphism."
   ]
  },
  {
   "cell_type": "markdown",
   "id": "21895fa6-52d5-47dc-b88f-9aabff84306f",
   "metadata": {},
   "source": [
    "<hr style=\"height:10px;border-width:0;color:gray;background-color:gray\">\n",
    "\n",
    "# Page 10 - Working with Packages <a class=\"anchor\" id=\"DS102L1-WS.5_page_10\"></a>\n",
    "\n",
    "[Back to Top](#DS102L1-WS.5_toc)\n",
    "\n",
    "<hr style=\"height:10px;border-width:0;color:gray;background-color:gray\">"
   ]
  },
  {
   "cell_type": "markdown",
   "id": "8562e66b-8749-4068-88fd-e21c759ff150",
   "metadata": {},
   "source": [
    "Robust and numerous though base R functions are, we are by no means limited to them. Additional functionality is available in the form of packages. In fact, what makes R such a formidable statistics platform is the astonishing wealth of packages available (over 10,000). R's ecosystem is huge!\n",
    "\n",
    "Most of these myriad packages exist on the [Comprehensive R Archive Network (CRAN)](https://cran.r-project.org/). CRAN is the primary repository for user-created packages.\n",
    "\n",
    "One package that we are going to start using right away is the ggplot2 package. ggplot2 is a plotting system for R. Base R has sophisticated and advanced mechanisms to plot data, but many find ggplot2 more consistent and easier to use. Further, the plots are often more aesthetically pleasing by default."
   ]
  },
  {
   "cell_type": "code",
   "execution_count": 99,
   "id": "d12d0a2f-fd98-4d78-8a0c-fba9d9eeb5d1",
   "metadata": {},
   "outputs": [
    {
     "name": "stdout",
     "output_type": "stream",
     "text": [
      "\n",
      "The downloaded binary packages are in\n",
      "\t/var/folders/wk/6why77bn1kn0l0pkd4vd3zl00000gn/T//Rtmp0V0zbu/downloaded_packages\n"
     ]
    }
   ],
   "source": [
    "# downloads and installs from CRAN \n",
    "install.packages(\"ggplot2\") "
   ]
  },
  {
   "cell_type": "markdown",
   "id": "2288a87a-0d8c-469e-8610-a108cc2c0966",
   "metadata": {},
   "source": [
    "Now that we have the package downloaded, we need to load it into the R session."
   ]
  },
  {
   "cell_type": "code",
   "execution_count": 100,
   "id": "78f5440f-ee4d-402f-9f8a-4070ffce4abf",
   "metadata": {},
   "outputs": [],
   "source": [
    "# load library\n",
    "library(ggplot2)"
   ]
  },
  {
   "cell_type": "code",
   "execution_count": 101,
   "id": "9692d3dd-812c-4b2c-8164-7245c7b70ef7",
   "metadata": {},
   "outputs": [
    {
     "data": {
      "image/png": "[encoded data removed]",
      "text/plain": [
       "plot without title"
      ]
     },
     "metadata": {
      "image/png": {
       "height": 420,
       "width": 420
      }
     },
     "output_type": "display_data"
    }
   ],
   "source": [
    "ggplot(favs, aes(x=flav, y=number)) +  geom_bar(stat=\"identity\") + ggtitle(\"Soy ice cream flavor preferences\") "
   ]
  },
  {
   "cell_type": "markdown",
   "id": "60b9c9e1-9bf9-45fb-8e74-3ea86b0104de",
   "metadata": {},
   "source": [
    "<hr style=\"height:10px;border-width:0;color:gray;background-color:gray\">\n",
    "\n",
    "# Page 11 - Summary <a class=\"anchor\" id=\"DS102L1-WS.5_page_11\"></a>\n",
    "\n",
    "[Back to Top](#DS102L1-WS.5_toc)\n",
    "\n",
    "<hr style=\"height:10px;border-width:0;color:gray;background-color:gray\">"
   ]
  },
  {
   "cell_type": "markdown",
   "id": "9a102344-29b9-4a70-8621-7c15b558fd56",
   "metadata": {},
   "source": [
    "\n",
    "In this session, you learned about one of the world's greatest free analytics platform, R. \n",
    "\n",
    "You now know how to:\n",
    "\n",
    "- Use R as a calculator to do arithmetic\n",
    "- Make vectors, operate on them, and subset them expressively\n",
    "- Load data from disk\n",
    "- Install packages\n",
    "\n",
    "You have by no means finished learning about R; indeed, we have gone over mostly just the basics. However, we have enough to continue ahead, and you'll pick up more along the way. Onward to statistics land!\n",
    "\n",
    "[reference](https://learning.oreilly.com/library/view/data-analysis-with/9781788393720/)"
   ]
  },
  {
   "cell_type": "code",
   "execution_count": null,
   "id": "f587d963-0bad-4a41-a29e-61afa64773e1",
   "metadata": {},
   "outputs": [],
   "source": []
  }
 ],
 "metadata": {
  "kernelspec": {
   "display_name": "R",
   "language": "R",
   "name": "ir"
  },
  "language_info": {
   "codemirror_mode": "r",
   "file_extension": ".r",
   "mimetype": "text/x-r-source",
   "name": "R",
   "pygments_lexer": "r",
   "version": "4.2.1"
  }
 },
 "nbformat": 4,
 "nbformat_minor": 5
}
