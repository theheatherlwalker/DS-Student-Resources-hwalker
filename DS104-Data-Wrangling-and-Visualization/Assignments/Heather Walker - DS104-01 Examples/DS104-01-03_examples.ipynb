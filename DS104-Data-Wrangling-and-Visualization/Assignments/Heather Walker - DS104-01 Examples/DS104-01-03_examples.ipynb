{
 "cells": [
  {
   "cell_type": "code",
   "execution_count": 2,
   "id": "d3dcd780",
   "metadata": {},
   "outputs": [],
   "source": [
    "# Python package: pandas\n",
    "import pandas as pd"
   ]
  },
  {
   "cell_type": "code",
   "execution_count": 8,
   "id": "a26763f7",
   "metadata": {},
   "outputs": [
    {
     "name": "stdout",
     "output_type": "stream",
     "text": [
      "        Name        First   Birthday                       StreetAddress  \\\n",
      "0     Potter      Alec J. 2017-11-06            229-8390 Dignissim. Road   \n",
      "1    Mcclure    Lucius S. 2018-08-14         P.O. Box 593, 7892 Nunc St.   \n",
      "2     Farley     Hilel Y. 2017-12-07                     3859 Tellus Rd.   \n",
      "3   Cummings   Randall W. 2018-03-07        Ap #293-6684 Lobortis Street   \n",
      "4     Lester     Bruce I. 2018-01-14                 495-3192 Dictum St.   \n",
      "..       ...          ...        ...                                 ...   \n",
      "95     Walls    Judith G. 2018-03-04             Ap #870-3273 Tempor Rd.   \n",
      "96     Cantu    Xandra X. 2018-06-08                      4937 Justo Ave   \n",
      "97   Griffin    Curran I. 2018-04-15  P.O. Box 408, 9749 Posuere, Avenue   \n",
      "98  Hamilton   Mufutau R. 2019-06-01      P.O. Box 609, 3807 Cursus, St.   \n",
      "99      Owen    Lucian L. 2017-12-07       P.O. Box 868, 7319 Cursus Rd.   \n",
      "\n",
      "        City  Zipcode  Weight  Height     HospitalID ParentPhoneNumber  \\\n",
      "0   Ucluelet    36170       1       9  1672053023999    1-180-978-6309   \n",
      "1   Licantén    47279       5      19  1609023064699    1-667-136-7396   \n",
      "2       Alva    78490       6       5  1664012354399    1-914-735-7605   \n",
      "3     Vicuña    36395       9       9  1669072896099    1-568-861-3669   \n",
      "4    Bonnert    25130      10      15  1603101020999    1-494-905-3888   \n",
      "..       ...      ...     ...     ...            ...               ...   \n",
      "95  Poulseur    56636       5      20  1672011532799    1-677-337-9550   \n",
      "96     Ururi    53340       2       1  1645121821499    1-814-182-3412   \n",
      "97   Mundare    29651       6       4  1624011363899    1-884-337-8152   \n",
      "98    Inuvik    29044      11       5  1651073012999    1-941-605-0697   \n",
      "99  Branchon    87374      15      15  1683030784599    1-407-251-3092   \n",
      "\n",
      "                              ParentEmail  \n",
      "0                        ut@nisiAenean.ca  \n",
      "1               Donec.luctus@Maecenas.edu  \n",
      "2        Aenean@imperdietnonvestibulum.ca  \n",
      "3                velit.eu.sem@Aliquam.com  \n",
      "4        dolor.Donec@miAliquamgravida.com  \n",
      "..                                    ...  \n",
      "95        lobortis.quam@sollicitudina.edu  \n",
      "96              nisl@malesuadafames.co.uk  \n",
      "97    arcu.Nunc.mauris@dolornonummyac.com  \n",
      "98  Vivamus.euismod@inceptoshymenaeos.org  \n",
      "99       nonummy.ipsum@metusInlorem.co.uk  \n",
      "\n",
      "[100 rows x 11 columns]\n"
     ]
    }
   ],
   "source": [
    "babies = pd.read_excel (r'/Users/heather/Documents/GitHub/DS-Student-Resources/DS104-Data-Wrangling-and-Visualization/Assignments/Heather Walker - DS104-01 Examples/babies.xlsx')\n",
    "print (babies)"
   ]
  },
  {
   "cell_type": "code",
   "execution_count": 9,
   "id": "e14a87b6",
   "metadata": {},
   "outputs": [],
   "source": [
    "# Call the data frame, add new column with name 'Footprint'\n",
    "# Fill the column with value `Y` for \"yes\"\n",
    "babies['Footprint'] = 'Y'"
   ]
  },
  {
   "cell_type": "code",
   "execution_count": 12,
   "id": "ec6d91b5",
   "metadata": {},
   "outputs": [
    {
     "data": {
      "text/html": [
       "<div>\n",
       "<style scoped>\n",
       "    .dataframe tbody tr th:only-of-type {\n",
       "        vertical-align: middle;\n",
       "    }\n",
       "\n",
       "    .dataframe tbody tr th {\n",
       "        vertical-align: top;\n",
       "    }\n",
       "\n",
       "    .dataframe thead th {\n",
       "        text-align: right;\n",
       "    }\n",
       "</style>\n",
       "<table border=\"1\" class=\"dataframe\">\n",
       "  <thead>\n",
       "    <tr style=\"text-align: right;\">\n",
       "      <th></th>\n",
       "      <th>Name</th>\n",
       "      <th>First</th>\n",
       "      <th>Birthday</th>\n",
       "      <th>StreetAddress</th>\n",
       "      <th>City</th>\n",
       "      <th>Zipcode</th>\n",
       "      <th>Weight</th>\n",
       "      <th>Height</th>\n",
       "      <th>HospitalID</th>\n",
       "      <th>ParentPhoneNumber</th>\n",
       "      <th>ParentEmail</th>\n",
       "      <th>Footprint</th>\n",
       "    </tr>\n",
       "  </thead>\n",
       "  <tbody>\n",
       "    <tr>\n",
       "      <th>0</th>\n",
       "      <td>Potter</td>\n",
       "      <td>Alec J.</td>\n",
       "      <td>2017-11-06</td>\n",
       "      <td>229-8390 Dignissim. Road</td>\n",
       "      <td>Ucluelet</td>\n",
       "      <td>36170</td>\n",
       "      <td>1</td>\n",
       "      <td>9</td>\n",
       "      <td>1672053023999</td>\n",
       "      <td>1-180-978-6309</td>\n",
       "      <td>ut@nisiAenean.ca</td>\n",
       "      <td>Y</td>\n",
       "    </tr>\n",
       "    <tr>\n",
       "      <th>1</th>\n",
       "      <td>Mcclure</td>\n",
       "      <td>Lucius S.</td>\n",
       "      <td>2018-08-14</td>\n",
       "      <td>P.O. Box 593, 7892 Nunc St.</td>\n",
       "      <td>Licantén</td>\n",
       "      <td>47279</td>\n",
       "      <td>5</td>\n",
       "      <td>19</td>\n",
       "      <td>1609023064699</td>\n",
       "      <td>1-667-136-7396</td>\n",
       "      <td>Donec.luctus@Maecenas.edu</td>\n",
       "      <td>Y</td>\n",
       "    </tr>\n",
       "    <tr>\n",
       "      <th>2</th>\n",
       "      <td>Farley</td>\n",
       "      <td>Hilel Y.</td>\n",
       "      <td>2017-12-07</td>\n",
       "      <td>3859 Tellus Rd.</td>\n",
       "      <td>Alva</td>\n",
       "      <td>78490</td>\n",
       "      <td>6</td>\n",
       "      <td>5</td>\n",
       "      <td>1664012354399</td>\n",
       "      <td>1-914-735-7605</td>\n",
       "      <td>Aenean@imperdietnonvestibulum.ca</td>\n",
       "      <td>Y</td>\n",
       "    </tr>\n",
       "    <tr>\n",
       "      <th>3</th>\n",
       "      <td>Cummings</td>\n",
       "      <td>Randall W.</td>\n",
       "      <td>2018-03-07</td>\n",
       "      <td>Ap #293-6684 Lobortis Street</td>\n",
       "      <td>Vicuña</td>\n",
       "      <td>36395</td>\n",
       "      <td>9</td>\n",
       "      <td>9</td>\n",
       "      <td>1669072896099</td>\n",
       "      <td>1-568-861-3669</td>\n",
       "      <td>velit.eu.sem@Aliquam.com</td>\n",
       "      <td>Y</td>\n",
       "    </tr>\n",
       "    <tr>\n",
       "      <th>4</th>\n",
       "      <td>Lester</td>\n",
       "      <td>Bruce I.</td>\n",
       "      <td>2018-01-14</td>\n",
       "      <td>495-3192 Dictum St.</td>\n",
       "      <td>Bonnert</td>\n",
       "      <td>25130</td>\n",
       "      <td>10</td>\n",
       "      <td>15</td>\n",
       "      <td>1603101020999</td>\n",
       "      <td>1-494-905-3888</td>\n",
       "      <td>dolor.Donec@miAliquamgravida.com</td>\n",
       "      <td>Y</td>\n",
       "    </tr>\n",
       "  </tbody>\n",
       "</table>\n",
       "</div>"
      ],
      "text/plain": [
       "       Name        First   Birthday                 StreetAddress      City  \\\n",
       "0    Potter      Alec J. 2017-11-06      229-8390 Dignissim. Road  Ucluelet   \n",
       "1   Mcclure    Lucius S. 2018-08-14   P.O. Box 593, 7892 Nunc St.  Licantén   \n",
       "2    Farley     Hilel Y. 2017-12-07               3859 Tellus Rd.      Alva   \n",
       "3  Cummings   Randall W. 2018-03-07  Ap #293-6684 Lobortis Street    Vicuña   \n",
       "4    Lester     Bruce I. 2018-01-14           495-3192 Dictum St.   Bonnert   \n",
       "\n",
       "   Zipcode  Weight  Height     HospitalID ParentPhoneNumber  \\\n",
       "0    36170       1       9  1672053023999    1-180-978-6309   \n",
       "1    47279       5      19  1609023064699    1-667-136-7396   \n",
       "2    78490       6       5  1664012354399    1-914-735-7605   \n",
       "3    36395       9       9  1669072896099    1-568-861-3669   \n",
       "4    25130      10      15  1603101020999    1-494-905-3888   \n",
       "\n",
       "                        ParentEmail Footprint  \n",
       "0                  ut@nisiAenean.ca         Y  \n",
       "1         Donec.luctus@Maecenas.edu         Y  \n",
       "2  Aenean@imperdietnonvestibulum.ca         Y  \n",
       "3          velit.eu.sem@Aliquam.com         Y  \n",
       "4  dolor.Donec@miAliquamgravida.com         Y  "
      ]
     },
     "execution_count": 12,
     "metadata": {},
     "output_type": "execute_result"
    }
   ],
   "source": [
    "babies.head()"
   ]
  },
  {
   "cell_type": "code",
   "execution_count": null,
   "id": "0cb90c0b",
   "metadata": {},
   "outputs": [],
   "source": [
    "# Rename a column\n",
    "babies.rename(columns={'ParentPhoneNumber' : 'Phone'}, inplace=True)"
   ]
  },
  {
   "cell_type": "code",
   "execution_count": null,
   "id": "4a5748fc",
   "metadata": {},
   "outputs": [],
   "source": [
    "# DS104-01-08 - Combining Columns in Python\n",
    "# Combining 2 columns - combines into a new column and leaves the 2 originals\n",
    "babies['FullName'] = babies[\"Name\"] + \" \" + babies[\"First\"].map(str)"
   ]
  },
  {
   "cell_type": "code",
   "execution_count": null,
   "id": "b10726b1",
   "metadata": {},
   "outputs": [],
   "source": [
    "# Comginging 3+ columns - messier syntax\n",
    "babies['Address'] = babies[\"Street Address\"] + \" / \" + babies[\"City\"] + \" / \" + babies[\"Zipcode\"].map(str) "
   ]
  },
  {
   "cell_type": "code",
   "execution_count": null,
   "id": "a404abaa",
   "metadata": {},
   "outputs": [],
   "source": [
    "# DS104-01-09 - Splitting Columns in Python\n",
    "# First, split (where it puts it into it's own dataframe)\n",
    "# VERSION 1\n",
    "babies1 = babies['Address'].str.split('/', expand=True)\n",
    "\n",
    "# VERSION 2 - with `rename` to give the columns a name\n",
    "babies2 = babies['Address'].str.split('/', expand=True).rename(columns = lambda x: \"Address\"+str(x+1))"
   ]
  },
  {
   "cell_type": "code",
   "execution_count": null,
   "id": "8b502485",
   "metadata": {},
   "outputs": [],
   "source": [
    "# Add the columns back into the dataset\n",
    "babies3 = pd.concat([babies, babies2], axis=1)"
   ]
  },
  {
   "cell_type": "code",
   "execution_count": null,
   "id": "161ad155",
   "metadata": {},
   "outputs": [],
   "source": [
    "# DS104-01-11 - Subsetting Data in Python\n",
    "# Keep only the first 3 rows\n",
    "babies7 = babies[:3]"
   ]
  },
  {
   "cell_type": "code",
   "execution_count": null,
   "id": "a816864a",
   "metadata": {},
   "outputs": [],
   "source": [
    "# Keep columns with column names\n",
    "babies8 = babies[['Name', 'Birthday', 'ParentEmail']]"
   ]
  },
  {
   "cell_type": "code",
   "execution_count": null,
   "id": "b1719d41",
   "metadata": {},
   "outputs": [],
   "source": [
    "# Dropping columns by name (axis=1 tells Python to apply to columns, rather than rows (the default))\n",
    "babies.drop(['ParentPhone'], axis=1)"
   ]
  },
  {
   "cell_type": "code",
   "execution_count": null,
   "id": "890702e4",
   "metadata": {},
   "outputs": [],
   "source": []
  }
 ],
 "metadata": {
  "kernelspec": {
   "display_name": "Python 3.10.6 64-bit",
   "language": "python",
   "name": "python3"
  },
  "language_info": {
   "codemirror_mode": {
    "name": "ipython",
    "version": 3
   },
   "file_extension": ".py",
   "mimetype": "text/x-python",
   "name": "python",
   "nbconvert_exporter": "python",
   "pygments_lexer": "ipython3",
   "version": "3.10.6"
  },
  "vscode": {
   "interpreter": {
    "hash": "b0fa6594d8f4cbf19f97940f81e996739fb7646882a419484c72d19e05852a7e"
   }
  }
 },
 "nbformat": 4,
 "nbformat_minor": 5
}
