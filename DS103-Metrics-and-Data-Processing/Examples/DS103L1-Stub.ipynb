{
 "cells": [
  {
   "cell_type": "code",
   "execution_count": null,
   "id": "7378d6e9-8383-4b93-9927-443d322f84b0",
   "metadata": {},
   "outputs": [],
   "source": []
  }
 ],
 "metadata": {
  "kernelspec": {
   "display_name": "",
   "name": ""
  },
  "language_info": {
   "name": ""
  }
 },
 "nbformat": 4,
 "nbformat_minor": 5
}
