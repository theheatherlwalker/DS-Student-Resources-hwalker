{
 "cells": [
  {
   "cell_type": "markdown",
   "id": "940ccbfd",
   "metadata": {},
   "source": [
    "# DS106-04-04-ML - Parts of Bayes Theorem\n",
    "---"
   ]
  },
  {
   "cell_type": "markdown",
   "id": "f37dc320",
   "metadata": {},
   "source": [
    "## Question: \n",
    "> Calculate the probability that your instructor's a dork, given that she cuddles her statistics book at night. \n",
    "- \"your instructor is a dork\" = `A`\n",
    "- \"cuddling statistics books\" = `B`"
   ]
  },
  {
   "cell_type": "markdown",
   "id": "5755dc65",
   "metadata": {},
   "source": [
    "## Find the Likelihood\n",
    "> The **likelihood** is the probability of the data given your current beliefs. i.e. How likely is it that x happens? "
   ]
  },
  {
   "cell_type": "code",
   "execution_count": 1,
   "id": "683bea71",
   "metadata": {},
   "outputs": [
    {
     "ename": "SyntaxError",
     "evalue": "cannot assign to function call (2699997274.py, line 2)",
     "output_type": "error",
     "traceback": [
      "\u001b[0;36m  Input \u001b[0;32mIn [1]\u001b[0;36m\u001b[0m\n\u001b[0;31m    P(B|A) = 8/10\u001b[0m\n\u001b[0m    ^\u001b[0m\n\u001b[0;31mSyntaxError\u001b[0m\u001b[0;31m:\u001b[0m cannot assign to function call\n"
     ]
    }
   ],
   "source": [
    "# Guessing... that she's a dork\n",
    "# P(B|A) = 8/10"
   ]
  },
  {
   "cell_type": "markdown",
   "id": "fcad8302",
   "metadata": {},
   "source": [
    "## Find the Prior\n",
    "> The **prior probability** is all about the strength of your belief before you see the data, or the probability of `A`"
   ]
  },
  {
   "cell_type": "code",
   "execution_count": 2,
   "id": "58a6c525",
   "metadata": {},
   "outputs": [
    {
     "ename": "SyntaxError",
     "evalue": "cannot assign to function call (4128546259.py, line 2)",
     "output_type": "error",
     "traceback": [
      "\u001b[0;36m  Input \u001b[0;32mIn [2]\u001b[0;36m\u001b[0m\n\u001b[0;31m    (P(A)) = 6/10\u001b[0m\n\u001b[0m     ^\u001b[0m\n\u001b[0;31mSyntaxError\u001b[0m\u001b[0;31m:\u001b[0m cannot assign to function call\n"
     ]
    }
   ],
   "source": [
    "# From an imaginary survey...\n",
    "# P(A) = 6/10"
   ]
  },
  {
   "cell_type": "markdown",
   "id": "34858231",
   "metadata": {},
   "source": [
    "## Calculate the Normalizing Factor `P(B)`\n",
    "\n",
    "> could guess, use known data, or...\n",
    "\n",
    "**Use a Standard `P(B)`setup:**\n",
    "> - 0.05\n",
    "> - 0.01\n",
    "> - 0.005\n",
    "> - 0.001\n",
    "\n",
    ">_NOTE: the smaller the `P(B)`, the larger the **posterior probability** (end result) is!_"
   ]
  },
  {
   "cell_type": "markdown",
   "id": "53b3e407",
   "metadata": {},
   "source": [
    "## Calculate the _Posterior_ (end result)"
   ]
  },
  {
   "cell_type": "code",
   "execution_count": 3,
   "id": "08ac3e12",
   "metadata": {},
   "outputs": [
    {
     "ename": "SyntaxError",
     "evalue": "cannot assign to function call (4218117710.py, line 1)",
     "output_type": "error",
     "traceback": [
      "\u001b[0;36m  Input \u001b[0;32mIn [3]\u001b[0;36m\u001b[0m\n\u001b[0;31m    P(A|B) = (P(B|A) * P(A)) / P(B)\u001b[0m\n\u001b[0m    ^\u001b[0m\n\u001b[0;31mSyntaxError\u001b[0m\u001b[0;31m:\u001b[0m cannot assign to function call\n"
     ]
    }
   ],
   "source": [
    "P(A|B) = (P(B|A) * P(A)) / P(B)\n",
    "P(A|B) = (.8 * .6) / .000065\n",
    "P(A|B) = .3 / .000065\n",
    "P(A|B) = 4,615.38"
   ]
  },
  {
   "cell_type": "code",
   "execution_count": null,
   "id": "3d8f4037",
   "metadata": {},
   "outputs": [],
   "source": []
  }
 ],
 "metadata": {
  "kernelspec": {
   "display_name": "Python 3 (ipykernel)",
   "language": "python",
   "name": "python3"
  },
  "language_info": {
   "codemirror_mode": {
    "name": "ipython",
    "version": 3
   },
   "file_extension": ".py",
   "mimetype": "text/x-python",
   "name": "python",
   "nbconvert_exporter": "python",
   "pygments_lexer": "ipython3",
   "version": "3.9.12"
  }
 },
 "nbformat": 4,
 "nbformat_minor": 5
}
