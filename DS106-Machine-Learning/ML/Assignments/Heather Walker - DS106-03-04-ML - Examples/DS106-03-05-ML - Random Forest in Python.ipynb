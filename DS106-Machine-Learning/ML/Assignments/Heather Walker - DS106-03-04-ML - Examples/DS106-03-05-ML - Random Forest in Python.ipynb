{
 "cells": [
  {
   "cell_type": "markdown",
   "id": "f2dcaea0",
   "metadata": {},
   "source": [
    "# DS106-03-05-ML - Random Forest in Python\n",
    "---"
   ]
  },
  {
   "cell_type": "markdown",
   "id": "88844f2e",
   "metadata": {},
   "source": [
    "## Import Packages"
   ]
  },
  {
   "cell_type": "code",
   "execution_count": 1,
   "id": "16bd2b81",
   "metadata": {},
   "outputs": [],
   "source": [
    "import pandas as pd\n",
    "import numpy as np\n",
    "import matplotlib.pyplot as plt\n",
    "import seaborn as sns\n",
    "%matplotlib inline\n",
    "from sklearn.ensemble import RandomForestClassifier\n",
    "from sklearn.model_selection import train_test_split\n",
    "from sklearn.metrics import classification_report, confusion_matrix"
   ]
  },
  {
   "cell_type": "markdown",
   "id": "886eba53",
   "metadata": {},
   "source": [
    "## Load in Data"
   ]
  },
  {
   "cell_type": "code",
   "execution_count": 2,
   "id": "c97cf580",
   "metadata": {},
   "outputs": [],
   "source": [
    "iris = sns.load_dataset('iris')"
   ]
  },
  {
   "cell_type": "markdown",
   "id": "decea41b",
   "metadata": {},
   "source": [
    "## Data Wrangling"
   ]
  },
  {
   "cell_type": "code",
   "execution_count": 3,
   "id": "e7a703c3",
   "metadata": {},
   "outputs": [],
   "source": [
    "# `y` is target, `x` is predictor(s)\n",
    "x = iris.drop('species', axis=1)\n",
    "y = iris['species']"
   ]
  },
  {
   "cell_type": "markdown",
   "id": "a53bcf5f",
   "metadata": {},
   "source": [
    "---\n",
    "## Train Test Split"
   ]
  },
  {
   "cell_type": "code",
   "execution_count": 4,
   "id": "3f8f10f8",
   "metadata": {},
   "outputs": [],
   "source": [
    "x_train, x_test, y_train, y_test = train_test_split(x,y, test_size=0.3, random_state=76)"
   ]
  },
  {
   "cell_type": "markdown",
   "id": "0b64a4ef",
   "metadata": {},
   "source": [
    "---\n",
    "## Initial Random Forest Model\n",
    "And at last you are ready to kick it into high gear by creating your random forest model. \n",
    "\n",
    "You'll use the function `RandomForestClassifer()`, with the arguments `n_estimators=` to specify how many decision trees you want the random forest to stem from, and of course `random_state=` just to follow along with this content:"
   ]
  },
  {
   "cell_type": "code",
   "execution_count": 5,
   "id": "5ea27bd0",
   "metadata": {},
   "outputs": [
    {
     "data": {
      "text/plain": [
       "RandomForestClassifier(n_estimators=500, random_state=76)"
      ]
     },
     "execution_count": 5,
     "metadata": {},
     "output_type": "execute_result"
    }
   ],
   "source": [
    "forest = RandomForestClassifier(n_estimators=500, random_state=76)\n",
    "forest.fit(x_train, y_train)"
   ]
  },
  {
   "cell_type": "markdown",
   "id": "d3059a3f",
   "metadata": {},
   "source": [
    "---\n",
    "## Evaluate Model Fit"
   ]
  },
  {
   "cell_type": "code",
   "execution_count": 6,
   "id": "f00ae871",
   "metadata": {},
   "outputs": [
    {
     "name": "stdout",
     "output_type": "stream",
     "text": [
      "[[19  0  0]\n",
      " [ 0 11  2]\n",
      " [ 0  0 13]]\n",
      "              precision    recall  f1-score   support\n",
      "\n",
      "      setosa       1.00      1.00      1.00        19\n",
      "  versicolor       1.00      0.85      0.92        13\n",
      "   virginica       0.87      1.00      0.93        13\n",
      "\n",
      "    accuracy                           0.96        45\n",
      "   macro avg       0.96      0.95      0.95        45\n",
      "weighted avg       0.96      0.96      0.96        45\n",
      "\n"
     ]
    }
   ],
   "source": [
    "forestPredictions = forest.predict(x_test)\n",
    "print(confusion_matrix(y_test, forestPredictions))\n",
    "print(classification_report(y_test, forestPredictions))"
   ]
  },
  {
   "cell_type": "markdown",
   "id": "e41da627",
   "metadata": {},
   "source": [
    "---\n",
    "# Conclusion\n",
    "The new model is 96% accurate, and in general it will become more and more accurate the larger your dataset is. \n",
    "- 100% accuracy for both _setosa_ and _versicolor_ irises\n",
    "- only 87% accuracy for _virginica_"
   ]
  },
  {
   "cell_type": "code",
   "execution_count": null,
   "id": "78c71ae3",
   "metadata": {},
   "outputs": [],
   "source": []
  }
 ],
 "metadata": {
  "kernelspec": {
   "display_name": "Python 3 (ipykernel)",
   "language": "python",
   "name": "python3"
  },
  "language_info": {
   "codemirror_mode": {
    "name": "ipython",
    "version": 3
   },
   "file_extension": ".py",
   "mimetype": "text/x-python",
   "name": "python",
   "nbconvert_exporter": "python",
   "pygments_lexer": "ipython3",
   "version": "3.9.12"
  }
 },
 "nbformat": 4,
 "nbformat_minor": 5
}
