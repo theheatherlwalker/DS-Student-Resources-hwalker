{
 "cells": [
  {
   "cell_type": "markdown",
   "id": "a2bbaeed",
   "metadata": {},
   "source": [
    "# DS106-03-07-ML - Hyperparameter Tuning in Python\n",
    "---"
   ]
  },
  {
   "cell_type": "markdown",
   "id": "e305fdb8",
   "metadata": {},
   "source": [
    "## Import Packages"
   ]
  },
  {
   "cell_type": "code",
   "execution_count": 1,
   "id": "9a32f242",
   "metadata": {},
   "outputs": [],
   "source": [
    "import pandas as pd\n",
    "import numpy as np\n",
    "import matplotlib.pyplot as plt\n",
    "import seaborn as sns\n",
    "%matplotlib inline\n",
    "from sklearn.ensemble import RandomForestClassifier\n",
    "from sklearn.model_selection import train_test_split\n",
    "from sklearn.metrics import classification_report, confusion_matrix\n",
    "# This is the new one\n",
    "from sklearn.model_selection import RandomizedSearchCV\n",
    "# This was NOT included in the lesson!\n",
    "from sklearn.metrics import accuracy_score"
   ]
  },
  {
   "cell_type": "markdown",
   "id": "04d740e8",
   "metadata": {},
   "source": [
    "## Load in Data"
   ]
  },
  {
   "cell_type": "code",
   "execution_count": 2,
   "id": "87468658",
   "metadata": {},
   "outputs": [],
   "source": [
    "iris = sns.load_dataset('iris')"
   ]
  },
  {
   "cell_type": "markdown",
   "id": "ea8ec64f",
   "metadata": {},
   "source": [
    "## Data Wrangling"
   ]
  },
  {
   "cell_type": "code",
   "execution_count": 3,
   "id": "b9f2b8fa",
   "metadata": {},
   "outputs": [],
   "source": [
    "# `y` is target, `x` is predictor(s)\n",
    "x = iris.drop('species', axis=1)\n",
    "y = iris['species']"
   ]
  },
  {
   "cell_type": "markdown",
   "id": "4d147199",
   "metadata": {},
   "source": [
    "---\n",
    "## Train Test Split"
   ]
  },
  {
   "cell_type": "code",
   "execution_count": 4,
   "id": "4471fc06",
   "metadata": {},
   "outputs": [],
   "source": [
    "x_train, x_test, y_train, y_test = train_test_split(x,y, test_size=0.3, random_state=76)"
   ]
  },
  {
   "cell_type": "markdown",
   "id": "be826923",
   "metadata": {},
   "source": [
    "---\n",
    "## Determine how many trees (number of estimators) you need\n",
    "- The code below will help you find the best number of estimators\n",
    "- based on the accuracy of the model. \n",
    "- Remember that an accuracy of 1 is the highest you can get"
   ]
  },
  {
   "cell_type": "code",
   "execution_count": 5,
   "id": "75390481",
   "metadata": {},
   "outputs": [
    {
     "name": "stdout",
     "output_type": "stream",
     "text": [
      "1 : 0.9111111111111111\n",
      "4 : 0.9555555555555556\n",
      "5 : 0.9333333333333333\n",
      "8 : 0.9555555555555556\n",
      "10 : 0.9777777777777777\n",
      "20 : 0.9555555555555556\n",
      "50 : 0.9555555555555556\n",
      "75 : 0.9555555555555556\n",
      "100 : 0.9555555555555556\n",
      "250 : 0.9555555555555556\n",
      "500 : 0.9555555555555556\n"
     ]
    }
   ],
   "source": [
    "n_estimators_array = [1, 4, 5, 8, 10, 20, 50, 75, 100, 250, 500]\n",
    "results = []\n",
    "for n in n_estimators_array:\n",
    "    forest = RandomForestClassifier(n_estimators=n, random_state=76)\n",
    "    forest.fit(x_train, y_train)\n",
    "    result = accuracy_score(y_test, forest.predict(x_test))\n",
    "    results.append(result) \n",
    "    print(n, ':', result)"
   ]
  },
  {
   "cell_type": "markdown",
   "id": "fb4684e7",
   "metadata": {},
   "source": [
    "##### So it looks like the best accuracy arises when you use only 10 trees instead of the standard 500! Good to know."
   ]
  },
  {
   "cell_type": "markdown",
   "id": "a1e149d0",
   "metadata": {},
   "source": [
    "### Visual representation of the number of estimators"
   ]
  },
  {
   "cell_type": "code",
   "execution_count": 6,
   "id": "6f6c84f3",
   "metadata": {},
   "outputs": [
    {
     "data": {
      "text/plain": [
       "[<matplotlib.lines.Line2D at 0x7fb9ba596220>]"
      ]
     },
     "execution_count": 6,
     "metadata": {},
     "output_type": "execute_result"
    },
    {
     "data": {
      "image/png": "[encoded data removed]",
      "text/plain": [
       "<Figure size 432x288 with 1 Axes>"
      ]
     },
     "metadata": {
      "needs_background": "light"
     },
     "output_type": "display_data"
    }
   ],
   "source": [
    "plt.plot(n_estimators_array, results)"
   ]
  },
  {
   "cell_type": "markdown",
   "id": "6e5c23b2",
   "metadata": {},
   "source": [
    "---\n",
    "## Tuning the Remaining Three\n",
    "Below you are creating lists with all the hyperparameter values you want to trial. There is one for each of the remaining three features, named: `max_features`, `max_depth`, and `min_samples_leaf`. Then, you'll create a dictionary with the hyperparameter names as the keys and the list variables as the values. This is called a _grid_ and is aptly named `random_grid`."
   ]
  },
  {
   "cell_type": "code",
   "execution_count": 7,
   "id": "7e278e32",
   "metadata": {},
   "outputs": [
    {
     "name": "stdout",
     "output_type": "stream",
     "text": [
      "{'max_features': ['auto', None, 'log2'], 'max_depth': [10, 20, 30, 40, 50, 60, 70, 80, 90, None], 'min_samples_leaf': [1, 2, 4]}\n"
     ]
    }
   ],
   "source": [
    "# Number of features to consider at every split\n",
    "max_features = ['auto', None, 'log2']\n",
    "# Maximum number of levels in tree\n",
    "max_depth = [10, 20, 30, 40, 50, 60, 70, 80, 90, None]\n",
    "# Minimum number of samples required at each leaf node\n",
    "min_samples_leaf = [1, 2, 4]\n",
    "# Method of selecting samples for training each tree\n",
    "random_grid = {'max_features': max_features,\n",
    "               'max_depth': max_depth,\n",
    "               'min_samples_leaf': min_samples_leaf}\n",
    "print(random_grid)"
   ]
  },
  {
   "cell_type": "markdown",
   "id": "6ffe898e",
   "metadata": {},
   "source": [
    "> The next line of code gives you a random search of the `random_grid` you created using the function `RandomizedSearchCV()`. The arguments for that function include the `estimator=`, which is what you've named your latest iteration of the random forest with only ten estimators, the `param_distributions=` argument, which is where you plug in the `random_grid` dictionary, `n_iter=`, which is the number of iterations, or times to complete the random forest, and lastly, the `cv=` argument, which allows you to choose how many folds you'd like in your cross validation. The `random_state=` argument is not required to run code, but including it means that your results should be the same as those in the lesson."
   ]
  },
  {
   "cell_type": "code",
   "execution_count": 10,
   "id": "e10b904f",
   "metadata": {},
   "outputs": [],
   "source": [
    "rf = RandomForestClassifier(n_estimators=10)\n",
    "rf_random = RandomizedSearchCV(estimator = rf, param_distributions = random_grid, n_iter = 90, cv = 3, random_state=42)"
   ]
  },
  {
   "cell_type": "markdown",
   "id": "d1b8f21b",
   "metadata": {},
   "source": [
    "> With that created, it's time to fit!"
   ]
  },
  {
   "cell_type": "code",
   "execution_count": 11,
   "id": "d3c16ea5",
   "metadata": {},
   "outputs": [
    {
     "data": {
      "text/plain": [
       "RandomizedSearchCV(cv=3, estimator=RandomForestClassifier(n_estimators=10),\n",
       "                   n_iter=90,\n",
       "                   param_distributions={'max_depth': [10, 20, 30, 40, 50, 60,\n",
       "                                                      70, 80, 90, None],\n",
       "                                        'max_features': ['auto', None, 'log2'],\n",
       "                                        'min_samples_leaf': [1, 2, 4]},\n",
       "                   random_state=42)"
      ]
     },
     "execution_count": 11,
     "metadata": {},
     "output_type": "execute_result"
    }
   ],
   "source": [
    "rf_random.fit(x_train, y_train)"
   ]
  },
  {
   "cell_type": "markdown",
   "id": "d9950115",
   "metadata": {},
   "source": [
    "> It basically just tells you what it did, which is not particularly helpful. What would be helpful is knowing which hyperparameter produced the best accuracy. But that isn't possible, is it?\n",
    "\n",
    "> It is! Try this line of code out!"
   ]
  },
  {
   "cell_type": "code",
   "execution_count": 12,
   "id": "032b84d8",
   "metadata": {},
   "outputs": [
    {
     "data": {
      "text/plain": [
       "{'min_samples_leaf': 4, 'max_features': 'log2', 'max_depth': 80}"
      ]
     },
     "execution_count": 12,
     "metadata": {},
     "output_type": "execute_result"
    }
   ],
   "source": [
    "rf_random.best_params_"
   ]
  },
  {
   "cell_type": "markdown",
   "id": "5f3444d2",
   "metadata": {},
   "source": [
    "> This means that the model with the best accuracy \n",
    "> - has at least 4 samples per leaf\n",
    "> - leaves the max features setting on auto\n",
    "> - has a maximum depth of 30 decision points. \n",
    "\n",
    "> Pretty nifty! Now all you need to do is run one last random forest that actually has those parameters! This is relatively plug-and-play here, since in your random grid search code, you used approximately the same names."
   ]
  },
  {
   "cell_type": "code",
   "execution_count": 13,
   "id": "b8b46afd",
   "metadata": {},
   "outputs": [
    {
     "data": {
      "text/plain": [
       "RandomForestClassifier(max_depth=30, min_samples_leaf=4, n_estimators=10)"
      ]
     },
     "execution_count": 13,
     "metadata": {},
     "output_type": "execute_result"
    }
   ],
   "source": [
    "forest = RandomForestClassifier(n_estimators=10, min_samples_leaf=4, max_features=\"auto\", max_depth=30)\n",
    "forest.fit(x_train, y_train)"
   ]
  },
  {
   "cell_type": "markdown",
   "id": "4572e6e9",
   "metadata": {},
   "source": [
    "> But if you want the details (and of course you want the details!) you can use the same prediction and classification report info as before, but with your new and improved model:"
   ]
  },
  {
   "cell_type": "code",
   "execution_count": 14,
   "id": "dbf378c7",
   "metadata": {},
   "outputs": [
    {
     "name": "stdout",
     "output_type": "stream",
     "text": [
      "[[19  0  0]\n",
      " [ 0 11  2]\n",
      " [ 0  0 13]]\n",
      "              precision    recall  f1-score   support\n",
      "\n",
      "      setosa       1.00      1.00      1.00        19\n",
      "  versicolor       1.00      0.85      0.92        13\n",
      "   virginica       0.87      1.00      0.93        13\n",
      "\n",
      "    accuracy                           0.96        45\n",
      "   macro avg       0.96      0.95      0.95        45\n",
      "weighted avg       0.96      0.96      0.96        45\n",
      "\n"
     ]
    }
   ],
   "source": [
    "forestPredictions = forest.predict(x_test)\n",
    "print(confusion_matrix(y_test, forestPredictions))\n",
    "print(classification_report(y_test, forestPredictions))"
   ]
  },
  {
   "cell_type": "markdown",
   "id": "0eadcf27",
   "metadata": {},
   "source": [
    "---\n",
    "# Conclusion\n",
    "Looking good here! Overall accuracy is 95% weighted."
   ]
  },
  {
   "cell_type": "markdown",
   "id": "0036f863",
   "metadata": {},
   "source": [
    "---\n",
    "---\n",
    "# DS106-03-08-ML - Feature Importance\n",
    "---"
   ]
  },
  {
   "cell_type": "markdown",
   "id": "5668ad8a",
   "metadata": {},
   "source": [
    "## Feature Importance in Python\n",
    "It's a pretty quick and easy line of code to get feature importance! They are outputs of your model, and so you just need to call them in a format that is useful. \n",
    "\n",
    "1. You'll create a new variable called `feature_importances` that is formatted as a pandas series, using the function `pd.Series()`. \n",
    "2. Then, you can call `forest.feature_importances_`, which by default is created when you run `forest`. \n",
    "3. Lastly, for readability, you can index it with the argument `index=` and put in `x.columns` so that the name of the column names in your dataset show on the left."
   ]
  },
  {
   "cell_type": "code",
   "execution_count": 15,
   "id": "74ad1bea",
   "metadata": {},
   "outputs": [
    {
     "data": {
      "text/plain": [
       "sepal_length    0.077038\n",
       "sepal_width     0.013760\n",
       "petal_length    0.436861\n",
       "petal_width     0.472342\n",
       "dtype: float64"
      ]
     },
     "execution_count": 15,
     "metadata": {},
     "output_type": "execute_result"
    }
   ],
   "source": [
    "feature_importances = pd.Series(forest.feature_importances_, index=x.columns)\n",
    "feature_importances"
   ]
  },
  {
   "cell_type": "markdown",
   "id": "fdd28e85",
   "metadata": {},
   "source": [
    "> The bigger, the better for feature importance. Wouldn't it be nice to see each of them in order of feature importance, rather than in column order? Well, that can be arranged! The `sort_values()` function will sort them. The `inplace=True` argument, like always, makes this change permanent, and `ascending=False` means that this goes from largest to smallest, which is exactly what you'd like to see! Then all you need to do is print it out and do a little happy dance."
   ]
  },
  {
   "cell_type": "code",
   "execution_count": 16,
   "id": "b35b1c1b",
   "metadata": {},
   "outputs": [
    {
     "name": "stdout",
     "output_type": "stream",
     "text": [
      "petal_width     0.472342\n",
      "petal_length    0.436861\n",
      "sepal_length    0.077038\n",
      "sepal_width     0.013760\n",
      "dtype: float64\n"
     ]
    }
   ],
   "source": [
    "feature_importances.sort_values(inplace=True, ascending=False)\n",
    "print(feature_importances)"
   ]
  },
  {
   "cell_type": "markdown",
   "id": "7dfc6397",
   "metadata": {},
   "source": [
    "> But wait! There's more! If you're someone visual, you can also graph this. A simple bar graph will do if you aren't showing it off to anyone:"
   ]
  },
  {
   "cell_type": "code",
   "execution_count": 17,
   "id": "0aa9c42b",
   "metadata": {},
   "outputs": [
    {
     "data": {
      "text/plain": [
       "<AxesSubplot:>"
      ]
     },
     "execution_count": 17,
     "metadata": {},
     "output_type": "execute_result"
    },
    {
     "data": {
      "image/png": "[encoded data removed]",
      "text/plain": [
       "<Figure size 504x432 with 1 Axes>"
      ]
     },
     "metadata": {
      "needs_background": "light"
     },
     "output_type": "display_data"
    }
   ],
   "source": [
    "feature_importances.plot(kind='barh', figsize=(7,6))"
   ]
  },
  {
   "cell_type": "code",
   "execution_count": null,
   "id": "732601e3",
   "metadata": {},
   "outputs": [],
   "source": []
  }
 ],
 "metadata": {
  "kernelspec": {
   "display_name": "Python 3 (ipykernel)",
   "language": "python",
   "name": "python3"
  },
  "language_info": {
   "codemirror_mode": {
    "name": "ipython",
    "version": 3
   },
   "file_extension": ".py",
   "mimetype": "text/x-python",
   "name": "python",
   "nbconvert_exporter": "python",
   "pygments_lexer": "ipython3",
   "version": "3.9.12"
  }
 },
 "nbformat": 4,
 "nbformat_minor": 5
}
