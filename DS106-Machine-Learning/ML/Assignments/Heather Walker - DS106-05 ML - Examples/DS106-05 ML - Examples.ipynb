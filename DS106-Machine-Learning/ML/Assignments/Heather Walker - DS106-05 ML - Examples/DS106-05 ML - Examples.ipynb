{
 "cells": [
  {
   "cell_type": "markdown",
   "id": "da769f56",
   "metadata": {},
   "source": [
    "# DS106-05 ML - Examples\n",
    "Natural Language Processing\n",
    "\n",
    "---"
   ]
  },
  {
   "cell_type": "markdown",
   "id": "82633317",
   "metadata": {},
   "source": [
    "## Import Packages\n",
    "- `requests` -> read in data from a webpage\n",
    "- `BeautifulSoup` -> process raw data\n",
    "- `nltk` -> as the definitive natural language processing package \n",
    "- `RegexpTokenizer` -> to break down data into words. \n",
    "- `matplotlib` and `seaborn` -> to visualize the frequency counts of words at the end"
   ]
  },
  {
   "cell_type": "markdown",
   "id": "443b2153",
   "metadata": {},
   "source": [
    "---\n",
    "<font color=red>\n",
    "    <h4>Correcting for <code>nltk</code> LookupError</h4></font>\n",
    "\n",
    "Got a LookupError that `nltk` was not not found;<br>\n",
    "Followed suggestion from documentation at [nltk.org](https://www.nltk.org/data.html):\n",
    "> `import nltk`<br>\n",
    "> `nltk.download()`"
   ]
  },
  {
   "cell_type": "code",
   "execution_count": 1,
   "id": "214d79f1",
   "metadata": {},
   "outputs": [],
   "source": [
    "# import nltk"
   ]
  },
  {
   "cell_type": "code",
   "execution_count": 2,
   "id": "171d0d3e",
   "metadata": {},
   "outputs": [],
   "source": [
    "# nltk.download()"
   ]
  },
  {
   "cell_type": "markdown",
   "id": "2e3b3bf3",
   "metadata": {},
   "source": [
    "---"
   ]
  },
  {
   "cell_type": "code",
   "execution_count": 3,
   "id": "dfd4bd37",
   "metadata": {},
   "outputs": [],
   "source": [
    "import requests\n",
    "from bs4 import BeautifulSoup\n",
    "import nltk\n",
    "\n",
    "from nltk.tokenize import RegexpTokenizer\n",
    "import matplotlib.pyplot as plt\n",
    "import seaborn as sns\n",
    "%matplotlib inline"
   ]
  },
  {
   "cell_type": "markdown",
   "id": "328b0b1c",
   "metadata": {},
   "source": [
    "---\n",
    "## Read In Text Data\n",
    "Start by taking a URL to a webpage and assigning it a variable name, in this case, `url`.\n",
    "</br>This particular URL above goes to an e-book, _The Count of Monte Cristo_, by Alexander Dumas."
   ]
  },
  {
   "cell_type": "code",
   "execution_count": 4,
   "id": "a5508b57",
   "metadata": {},
   "outputs": [],
   "source": [
    "url = 'http://www.gutenberg.org/files/1184/1184-h/1184-h.htm'"
   ]
  },
  {
   "cell_type": "markdown",
   "id": "6f688eec",
   "metadata": {},
   "source": [
    "#### Request Data\n",
    "Make a request to get data from the specified URL.</br>This will use the function `requests.get()`, and you are making it to the `url` webpage you just saved:"
   ]
  },
  {
   "cell_type": "code",
   "execution_count": 5,
   "id": "5bcece1c",
   "metadata": {},
   "outputs": [],
   "source": [
    "r = requests.get(url)"
   ]
  },
  {
   "cell_type": "markdown",
   "id": "aa69555c",
   "metadata": {},
   "source": [
    "#### Request Type\n",
    "Find out the type of that request if you like by using the function `type()`:"
   ]
  },
  {
   "cell_type": "code",
   "execution_count": 21,
   "id": "997a730d",
   "metadata": {},
   "outputs": [
    {
     "data": {
      "text/plain": [
       "requests.models.Response"
      ]
     },
     "execution_count": 21,
     "metadata": {},
     "output_type": "execute_result"
    }
   ],
   "source": [
    "type(r)"
   ]
  },
  {
   "cell_type": "markdown",
   "id": "fcf7ee2c",
   "metadata": {},
   "source": [
    "---\n",
    "## Convert Text to Soup\n",
    "The next few lines take the data off the webpage and extract the text, then use the `html5lib` to convert it into something you'll be able to process and better understand, called _soup_."
   ]
  },
  {
   "cell_type": "code",
   "execution_count": 7,
   "id": "e680ecd7",
   "metadata": {},
   "outputs": [
    {
     "data": {
      "text/plain": [
       "bs4.BeautifulSoup"
      ]
     },
     "execution_count": 7,
     "metadata": {},
     "output_type": "execute_result"
    }
   ],
   "source": [
    "html = r.text\n",
    "soup = BeautifulSoup(html,\"html.parser\")\n",
    "type(soup)"
   ]
  },
  {
   "cell_type": "markdown",
   "id": "7593c02a",
   "metadata": {},
   "source": [
    "#### Soup Type\n",
    "You know the first two lines worked, because when you determine the type with that `type()` function, it will give you back: `bs4.BeautifulSoup`"
   ]
  },
  {
   "cell_type": "code",
   "execution_count": 8,
   "id": "377a83dc",
   "metadata": {},
   "outputs": [
    {
     "data": {
      "text/plain": [
       "bs4.BeautifulSoup"
      ]
     },
     "execution_count": 8,
     "metadata": {},
     "output_type": "execute_result"
    }
   ],
   "source": [
    "type(soup)"
   ]
  },
  {
   "cell_type": "markdown",
   "id": "4eb8cf03",
   "metadata": {},
   "source": [
    "---\n",
    "## Use HTML Tags to Extract Useful Info\n",
    "If you know your HTML, and the website is designed well, you can then call out certain pieces of this text. For instance, the title.</br>\n",
    "`soup` is the name of the webpage broken into HTML, then you are calling the `title` tag from the HTML and asking for Python to give it back as `.string`. The result should be this:"
   ]
  },
  {
   "cell_type": "code",
   "execution_count": 9,
   "id": "7e54b40a",
   "metadata": {},
   "outputs": [
    {
     "data": {
      "text/plain": [
       "'The Project Gutenberg eBook of The Count of Monte Cristo, by Alexandre Dumas, pÃ¨re'"
      ]
     },
     "execution_count": 9,
     "metadata": {},
     "output_type": "execute_result"
    }
   ],
   "source": [
    "soup.title.string"
   ]
  },
  {
   "cell_type": "markdown",
   "id": "48b16662",
   "metadata": {},
   "source": [
    "---\n",
    "<font color=green>\n",
    "<h4>Fun Fact!</h4></br>\n",
    "There are many other HTML tags, and you make use of them to get all sorts of information out of a webpage. The problem is, each website is typically set up a little differently, and you'll actually need to peek at the structure of the webpage to make the right HTML tag calls.\n",
    "</br></br>If you happen to already know HTML, this will be a great place to play around. If not, don't worry - there are other ways to play with soup that aren't so messy.\n",
    "</font>"
   ]
  },
  {
   "cell_type": "markdown",
   "id": "bf6a8503",
   "metadata": {},
   "source": [
    "--- \n",
    "# Tokenize the Data\n",
    "_tokens_ are the text broken down into words.\n",
    "1. function `get_text()` to retrieves your text\n",
    "2. function `RegexpTokenizer()` breaks it down into words, separated by spaces. (in the language RegEx, `\\w+` is the symbol for space)\n",
    "3. function `tokenize()` will actually perform the operation, and you will get the first five words with argument `[:5]`:"
   ]
  },
  {
   "cell_type": "code",
   "execution_count": 10,
   "id": "bc4a8dd9",
   "metadata": {},
   "outputs": [
    {
     "data": {
      "text/plain": [
       "['The', 'Project', 'Gutenberg', 'eBook', 'of']"
      ]
     },
     "execution_count": 10,
     "metadata": {},
     "output_type": "execute_result"
    }
   ],
   "source": [
    "text = soup.get_text()\n",
    "tokenizer = RegexpTokenizer('\\w+')\n",
    "tokens = tokenizer.tokenize(text)\n",
    "tokens[:5]"
   ]
  },
  {
   "cell_type": "markdown",
   "id": "b5e7971d",
   "metadata": {},
   "source": [
    "---\n",
    "## Remove Capitalization\n",
    "\n",
    "Remove capitalization with a `for` loop:\n",
    "1. creates a `for` loop\n",
    "2. function `lower()` strips caps\n",
    "3. assigns the results to a dictionary called `words`"
   ]
  },
  {
   "cell_type": "code",
   "execution_count": 11,
   "id": "dffb5dd7",
   "metadata": {},
   "outputs": [],
   "source": [
    "words = []\n",
    "for word in tokens:\n",
    "    words.append(word.lower())"
   ]
  },
  {
   "cell_type": "markdown",
   "id": "17c06f1e",
   "metadata": {},
   "source": [
    "#### Look at Dictionary\n",
    "Look at the first 5 entries in the dictionary:"
   ]
  },
  {
   "cell_type": "code",
   "execution_count": 12,
   "id": "dd1ab4bd",
   "metadata": {},
   "outputs": [
    {
     "data": {
      "text/plain": [
       "['the', 'project', 'gutenberg', 'ebook', 'of']"
      ]
     },
     "execution_count": 12,
     "metadata": {},
     "output_type": "execute_result"
    }
   ],
   "source": [
    "words[:5]"
   ]
  },
  {
   "cell_type": "markdown",
   "id": "920d919f",
   "metadata": {},
   "source": [
    "---\n",
    "### Note on _Text Preprocessing_\n",
    "> _**text preprocessing**_ - To preprocess your text simply means to bring your text into a form that is predictable and analyzable for your task.\n",
    "\n",
    "Removing captilazation is part of _**text preprocessing**_ along with other actions like **lowercasing**, **stemming**, **stopword removing**, etc.\n",
    "\n",
    "If you'd like to learn about other text pre-processing, check out **[this article](https://www.kdnuggets.com/2019/04/text-preprocessing-nlp-machine-learning.html)**."
   ]
  },
  {
   "cell_type": "markdown",
   "id": "5405782f",
   "metadata": {},
   "source": [
    "---\n",
    "## Remove _Stopwords_\n",
    "_**Stopwords**_ are a set of commonly used words in a language. Examples of stopwords in English are `a`, `the`, `is`, `are` and etc. \n",
    "\n",
    "These words don't have any emotional context, descriptive information, or tell you anything about the subject. So you'll want to filter these out, and others like them, so they don't clutter up your analysis.\n",
    "\n",
    "The intuition behind using _stopwords_ is that, by removing low information words from text, we can focus on the important words instead.\n",
    "\n",
    "---\n",
    "\n",
    "`nltk` has a list of common _stopwords_.<br>\n",
    "Make a usable list for filtering your text:"
   ]
  },
  {
   "cell_type": "code",
   "execution_count": 13,
   "id": "b449d413",
   "metadata": {},
   "outputs": [],
   "source": [
    "stopwords = nltk.corpus.stopwords.words('english')"
   ]
  },
  {
   "cell_type": "markdown",
   "id": "1d5f76dd",
   "metadata": {},
   "source": [
    "#### Look at Stopwords\n",
    "Look at the first 10 stopwords from your text:"
   ]
  },
  {
   "cell_type": "code",
   "execution_count": 14,
   "id": "e19f31e2",
   "metadata": {},
   "outputs": [
    {
     "data": {
      "text/plain": [
       "['i', 'me', 'my', 'myself', 'we', 'our', 'ours', 'ourselves', 'you', \"you're\"]"
      ]
     },
     "execution_count": 14,
     "metadata": {},
     "output_type": "execute_result"
    }
   ],
   "source": [
    "stopwords[:10]"
   ]
  },
  {
   "cell_type": "markdown",
   "id": "3422f53f",
   "metadata": {},
   "source": [
    "#### Filter out the stopwords\n",
    "Remove _stopwords_ with a for loop:\n",
    "\n",
    "1. creates a `for` loop\n",
    "2. makes a dictionary named `wordsWithoutStops` that filters out all the stopwords"
   ]
  },
  {
   "cell_type": "code",
   "execution_count": 15,
   "id": "243efc96",
   "metadata": {},
   "outputs": [],
   "source": [
    "wordsWithoutStops = []\n",
    "for word in words:\n",
    "    if word not in stopwords:\n",
    "        wordsWithoutStops.append(word)"
   ]
  },
  {
   "cell_type": "markdown",
   "id": "8eac02ab",
   "metadata": {},
   "source": [
    "#### Look at resulting words without stops\n",
    "Look at the first 5 words without stops:"
   ]
  },
  {
   "cell_type": "code",
   "execution_count": 16,
   "id": "f4c8bf06",
   "metadata": {},
   "outputs": [
    {
     "data": {
      "text/plain": [
       "['project', 'gutenberg', 'ebook', 'count', 'monte']"
      ]
     },
     "execution_count": 16,
     "metadata": {},
     "output_type": "execute_result"
    }
   ],
   "source": [
    "wordsWithoutStops[:5]"
   ]
  },
  {
   "cell_type": "markdown",
   "id": "bcd630b6",
   "metadata": {},
   "source": [
    "---\n",
    "## Count and Plot Words\n",
    "\n",
    "#### Count frequency of words\n",
    "Function `nltk.FreqDist()` returns frequence counts for all words in the `wordsWithoutStops` dictionary:"
   ]
  },
  {
   "cell_type": "code",
   "execution_count": 17,
   "id": "49976e9d",
   "metadata": {},
   "outputs": [],
   "source": [
    "frequencyDis = nltk.FreqDist(wordsWithoutStops)"
   ]
  },
  {
   "cell_type": "markdown",
   "id": "18bfb78a",
   "metadata": {},
   "source": [
    "#### Plot frequency of words\n",
    "Plot the word freqency counts with `.plot()` command from `matplotlib`. <br>The argument `25` specifies plotting only the top 25 words."
   ]
  },
  {
   "cell_type": "code",
   "execution_count": 20,
   "id": "b128f7ae",
   "metadata": {},
   "outputs": [
    {
     "data": {
      "image/png": "[encoded data removed]",
      "text/plain": [
       "<Figure size 432x288 with 1 Axes>"
      ]
     },
     "metadata": {},
     "output_type": "display_data"
    },
    {
     "data": {
      "text/plain": [
       "<AxesSubplot:xlabel='Samples', ylabel='Counts'>"
      ]
     },
     "execution_count": 20,
     "metadata": {},
     "output_type": "execute_result"
    }
   ],
   "source": [
    "# Apply the default seaborn theme, scaling, and color palette.\n",
    "sns.set()\n",
    "frequencyDis.plot(25)"
   ]
  },
  {
   "cell_type": "markdown",
   "id": "55be59c6",
   "metadata": {},
   "source": [
    "---\n",
    "# ☙ Fin. ❧"
   ]
  },
  {
   "cell_type": "code",
   "execution_count": null,
   "id": "0f960706",
   "metadata": {},
   "outputs": [],
   "source": []
  }
 ],
 "metadata": {
  "kernelspec": {
   "display_name": "Python 3 (ipykernel)",
   "language": "python",
   "name": "python3"
  },
  "language_info": {
   "codemirror_mode": {
    "name": "ipython",
    "version": 3
   },
   "file_extension": ".py",
   "mimetype": "text/x-python",
   "name": "python",
   "nbconvert_exporter": "python",
   "pygments_lexer": "ipython3",
   "version": "3.9.12"
  }
 },
 "nbformat": 4,
 "nbformat_minor": 5
}
