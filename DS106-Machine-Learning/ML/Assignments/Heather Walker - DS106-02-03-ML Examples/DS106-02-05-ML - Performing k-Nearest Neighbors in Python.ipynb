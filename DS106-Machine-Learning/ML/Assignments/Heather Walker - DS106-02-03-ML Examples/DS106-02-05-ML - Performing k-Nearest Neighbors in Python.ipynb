{
 "cells": [
  {
   "cell_type": "markdown",
   "id": "613045ec",
   "metadata": {},
   "source": [
    "# DS106-02-03-ML - k-Means Clustering in Python\n",
    "---"
   ]
  },
  {
   "cell_type": "markdown",
   "id": "682597fb",
   "metadata": {},
   "source": [
    "## Import Packages"
   ]
  },
  {
   "cell_type": "code",
   "execution_count": 1,
   "id": "62e88fee",
   "metadata": {},
   "outputs": [],
   "source": [
    "# import packages\n",
    "import pandas as pd\n",
    "import numpy as np\n",
    "import matplotlib.pyplot as plt\n",
    "import seaborn as sns\n",
    "%matplotlib inline\n",
    "from sklearn.preprocessing import StandardScaler\n",
    "from sklearn.model_selection import train_test_split\n",
    "from sklearn.neighbors import KNeighborsClassifier\n",
    "from sklearn.metrics import classification_report, confusion_matrix"
   ]
  },
  {
   "cell_type": "markdown",
   "id": "57d06531",
   "metadata": {},
   "source": [
    "---\n",
    "## Load in Data"
   ]
  },
  {
   "cell_type": "code",
   "execution_count": 2,
   "id": "d9292284",
   "metadata": {},
   "outputs": [],
   "source": [
    "# load data -> seaborn dataset `iris`\n",
    "iris = sns.load_dataset('iris')"
   ]
  },
  {
   "cell_type": "markdown",
   "id": "3c0afe1a",
   "metadata": {},
   "source": [
    "---\n",
    "## Question Setup\n",
    "With this analysis, you are trying to predict which type of iris (`species`) a flower will be based on the other variables in the dataset - `length` and `width` of the various flower parts."
   ]
  },
  {
   "cell_type": "markdown",
   "id": "ed460cd8",
   "metadata": {},
   "source": [
    "---\n",
    "## Data Wrangling"
   ]
  },
  {
   "cell_type": "markdown",
   "id": "176a8511",
   "metadata": {},
   "source": [
    "#### Scaling Your Data\n",
    "- KNN is based completely on distance from one point to another, so you need to make sure that all of the data is on the same scale. \n",
    "- If some of the variables were in inches and some of it was in yards, it could do some funky things to your results. \n",
    "- Luckily, `sklearn` has the `StandardScaler()` tool just for such a happenstance!"
   ]
  },
  {
   "cell_type": "code",
   "execution_count": 3,
   "id": "85c9d992",
   "metadata": {},
   "outputs": [
    {
     "data": {
      "text/plain": [
       "StandardScaler()"
      ]
     },
     "execution_count": 3,
     "metadata": {},
     "output_type": "execute_result"
    }
   ],
   "source": [
    "# fit the StandardScaler function to your predictive data\n",
    "# leaving out target variable `species`\n",
    "scaler = StandardScaler()\n",
    "scaler.fit(iris.drop('species', axis=1))"
   ]
  },
  {
   "cell_type": "code",
   "execution_count": 4,
   "id": "febbbcdb",
   "metadata": {},
   "outputs": [],
   "source": [
    "# Transform the data, save to variable, and turn into dataframe\n",
    "scaledVariables = scaler.transform(iris.drop('species',axis=1))\n",
    "irisScaled = pd.DataFrame(scaledVariables, columns=iris.columns[:-1])"
   ]
  },
  {
   "cell_type": "code",
   "execution_count": 5,
   "id": "f8aaaf87",
   "metadata": {},
   "outputs": [
    {
     "data": {
      "text/html": [
       "<div>\n",
       "<style scoped>\n",
       "    .dataframe tbody tr th:only-of-type {\n",
       "        vertical-align: middle;\n",
       "    }\n",
       "\n",
       "    .dataframe tbody tr th {\n",
       "        vertical-align: top;\n",
       "    }\n",
       "\n",
       "    .dataframe thead th {\n",
       "        text-align: right;\n",
       "    }\n",
       "</style>\n",
       "<table border=\"1\" class=\"dataframe\">\n",
       "  <thead>\n",
       "    <tr style=\"text-align: right;\">\n",
       "      <th></th>\n",
       "      <th>sepal_length</th>\n",
       "      <th>sepal_width</th>\n",
       "      <th>petal_length</th>\n",
       "      <th>petal_width</th>\n",
       "    </tr>\n",
       "  </thead>\n",
       "  <tbody>\n",
       "    <tr>\n",
       "      <th>0</th>\n",
       "      <td>-0.900681</td>\n",
       "      <td>1.019004</td>\n",
       "      <td>-1.340227</td>\n",
       "      <td>-1.315444</td>\n",
       "    </tr>\n",
       "    <tr>\n",
       "      <th>1</th>\n",
       "      <td>-1.143017</td>\n",
       "      <td>-0.131979</td>\n",
       "      <td>-1.340227</td>\n",
       "      <td>-1.315444</td>\n",
       "    </tr>\n",
       "    <tr>\n",
       "      <th>2</th>\n",
       "      <td>-1.385353</td>\n",
       "      <td>0.328414</td>\n",
       "      <td>-1.397064</td>\n",
       "      <td>-1.315444</td>\n",
       "    </tr>\n",
       "    <tr>\n",
       "      <th>3</th>\n",
       "      <td>-1.506521</td>\n",
       "      <td>0.098217</td>\n",
       "      <td>-1.283389</td>\n",
       "      <td>-1.315444</td>\n",
       "    </tr>\n",
       "    <tr>\n",
       "      <th>4</th>\n",
       "      <td>-1.021849</td>\n",
       "      <td>1.249201</td>\n",
       "      <td>-1.340227</td>\n",
       "      <td>-1.315444</td>\n",
       "    </tr>\n",
       "  </tbody>\n",
       "</table>\n",
       "</div>"
      ],
      "text/plain": [
       "   sepal_length  sepal_width  petal_length  petal_width\n",
       "0     -0.900681     1.019004     -1.340227    -1.315444\n",
       "1     -1.143017    -0.131979     -1.340227    -1.315444\n",
       "2     -1.385353     0.328414     -1.397064    -1.315444\n",
       "3     -1.506521     0.098217     -1.283389    -1.315444\n",
       "4     -1.021849     1.249201     -1.340227    -1.315444"
      ]
     },
     "execution_count": 5,
     "metadata": {},
     "output_type": "execute_result"
    }
   ],
   "source": [
    "# view result\n",
    "irisScaled.head()"
   ]
  },
  {
   "cell_type": "markdown",
   "id": "cad807d5",
   "metadata": {},
   "source": [
    "#### Creating x and y Datasets\n",
    "Now you'll need to subset your x and y data:"
   ]
  },
  {
   "cell_type": "code",
   "execution_count": 6,
   "id": "1a16d425",
   "metadata": {},
   "outputs": [],
   "source": [
    "x = irisScaled\n",
    "y = iris['species']"
   ]
  },
  {
   "cell_type": "markdown",
   "id": "73603819",
   "metadata": {},
   "source": [
    "---\n",
    "## Train Test Split\n",
    "- The next step is to do the train/test split. \n",
    "- The basis of train_test_split() is just to separate your data, and you can apply many different machine learning techniques to the data once you’ve used train_test_split.\n",
    "> - `x` is the dataset you have scaled and are testing (independent variables) \n",
    "> - and `y` is the thing you are predicting (dependent variables). \n",
    "> - The argument `random_state=` does not usually have to be set, but, in this case, it will make your results line up with the example."
   ]
  },
  {
   "cell_type": "code",
   "execution_count": 7,
   "id": "17387d9a",
   "metadata": {},
   "outputs": [],
   "source": [
    "x_train, x_test, y_train, y_test = train_test_split(x,y,test_size=0.3, random_state=101)"
   ]
  },
  {
   "cell_type": "markdown",
   "id": "66307594",
   "metadata": {},
   "source": [
    "---\n",
    "# KNN Analysis\n",
    "Now that you've taken care of the setup, it is time to take a trial run and actually perform KNN!\n",
    "> - use `KNeighborsClassifier()` function \n",
    "> - specifying the number of neighbors with the argument `n_neighbors=`\n",
    "> - fitting it to your model and predicting \n",
    "\n",
    "> In this case the number of neighbors is one to start with."
   ]
  },
  {
   "cell_type": "code",
   "execution_count": 8,
   "id": "189d2fc7",
   "metadata": {},
   "outputs": [],
   "source": [
    "knn = KNeighborsClassifier(n_neighbors=1)\n",
    "knn.fit(x_train, y_train)\n",
    "pred = knn.predict(x_test)"
   ]
  },
  {
   "cell_type": "markdown",
   "id": "76da7703",
   "metadata": {},
   "source": [
    "---\n",
    "## Interpret KNN Predictions\n",
    "You can look at pred by itself, as shown below, but it is hard to understand:"
   ]
  },
  {
   "cell_type": "code",
   "execution_count": 9,
   "id": "187fcb9f",
   "metadata": {},
   "outputs": [
    {
     "data": {
      "text/plain": [
       "array(['setosa', 'setosa', 'setosa', 'virginica', 'versicolor',\n",
       "       'virginica', 'virginica', 'versicolor', 'virginica', 'setosa',\n",
       "       'virginica', 'setosa', 'setosa', 'virginica', 'virginica',\n",
       "       'versicolor', 'versicolor', 'versicolor', 'setosa', 'versicolor',\n",
       "       'versicolor', 'setosa', 'versicolor', 'versicolor', 'versicolor',\n",
       "       'versicolor', 'versicolor', 'virginica', 'setosa', 'setosa',\n",
       "       'virginica', 'versicolor', 'virginica', 'versicolor', 'virginica',\n",
       "       'versicolor', 'versicolor', 'versicolor', 'versicolor',\n",
       "       'virginica', 'setosa', 'setosa', 'setosa', 'versicolor',\n",
       "       'versicolor'], dtype=object)"
      ]
     },
     "execution_count": 9,
     "metadata": {},
     "output_type": "execute_result"
    }
   ],
   "source": [
    "pred"
   ]
  },
  {
   "cell_type": "markdown",
   "id": "59d5c24f",
   "metadata": {},
   "source": [
    "You can use some other `sklearn` tools to make this pretty and usable. \n",
    "- use function `confusion_matrix()` \n",
    "- and function `classification_report()`"
   ]
  },
  {
   "cell_type": "code",
   "execution_count": 10,
   "id": "c9eebf12",
   "metadata": {},
   "outputs": [
    {
     "name": "stdout",
     "output_type": "stream",
     "text": [
      "[[13  0  0]\n",
      " [ 0 19  1]\n",
      " [ 0  1 11]]\n"
     ]
    }
   ],
   "source": [
    "# look at confusion matrix\n",
    "print(confusion_matrix(y_test, pred))"
   ]
  },
  {
   "cell_type": "markdown",
   "id": "08e9e291",
   "metadata": {},
   "source": [
    "To verify the accuracy, use function `classification_report()`:"
   ]
  },
  {
   "cell_type": "code",
   "execution_count": 11,
   "id": "daaf88b2",
   "metadata": {},
   "outputs": [
    {
     "name": "stdout",
     "output_type": "stream",
     "text": [
      "              precision    recall  f1-score   support\n",
      "\n",
      "      setosa       1.00      1.00      1.00        13\n",
      "  versicolor       0.95      0.95      0.95        20\n",
      "   virginica       0.92      0.92      0.92        12\n",
      "\n",
      "    accuracy                           0.96        45\n",
      "   macro avg       0.96      0.96      0.96        45\n",
      "weighted avg       0.96      0.96      0.96        45\n",
      "\n"
     ]
    }
   ],
   "source": [
    "# verify accuracy with classification report\n",
    "print(classification_report(y_test,pred))"
   ]
  },
  {
   "cell_type": "markdown",
   "id": "a286fe4a",
   "metadata": {},
   "source": [
    "You want to focus on the `precision` column here.\n",
    "> The KNN algorithm was...\n",
    "> - 100% correct about predicting which iris plants will be of the setosa species\n",
    "> - 95% accurate in predicting the versicolor species\n",
    "> - 92% accurate in predicting the virginica species. \n",
    "\n",
    "Awesome! You can also look at the weighted avg row for precision, which gives an overall value of 96%."
   ]
  },
  {
   "cell_type": "markdown",
   "id": "d4705f09",
   "metadata": {},
   "source": [
    "---\n",
    "## Choose the Best Model\n",
    "What if you wanted to get that accuracy level just a bit higher?\n",
    "You could try using the _Elbow Method_, which is a way to plot error to see which number of neighbors is best."
   ]
  },
  {
   "cell_type": "code",
   "execution_count": 12,
   "id": "7616c145",
   "metadata": {},
   "outputs": [],
   "source": [
    "errorRate = []\n",
    "for i in range(1,40):\n",
    "    knn = KNeighborsClassifier(n_neighbors=i)\n",
    "    knn.fit(x_train, y_train)\n",
    "    predI = knn.predict(x_test)\n",
    "    errorRate.append(np.mean(predI != y_test))"
   ]
  },
  {
   "cell_type": "markdown",
   "id": "123af84b",
   "metadata": {},
   "source": [
    "- The first line of this creates an empty list called `errorRate`\n",
    "- Then you set up a for loop that will run the test on every `k` between 1 and 40 with the `range()` function. \n",
    "- Finally, it adds the `mean` of the error rate to the empty list. \n",
    "\n",
    "You can look at the list now, but it is a little hard to understand:"
   ]
  },
  {
   "cell_type": "code",
   "execution_count": 13,
   "id": "613806f2",
   "metadata": {},
   "outputs": [
    {
     "data": {
      "text/plain": [
       "[0.044444444444444446,\n",
       " 0.044444444444444446,\n",
       " 0.022222222222222223,\n",
       " 0.044444444444444446,\n",
       " 0.022222222222222223,\n",
       " 0.044444444444444446,\n",
       " 0.0,\n",
       " 0.0,\n",
       " 0.0,\n",
       " 0.022222222222222223,\n",
       " 0.0,\n",
       " 0.0,\n",
       " 0.022222222222222223,\n",
       " 0.044444444444444446,\n",
       " 0.044444444444444446,\n",
       " 0.044444444444444446,\n",
       " 0.022222222222222223,\n",
       " 0.044444444444444446,\n",
       " 0.06666666666666667,\n",
       " 0.06666666666666667,\n",
       " 0.06666666666666667,\n",
       " 0.06666666666666667,\n",
       " 0.06666666666666667,\n",
       " 0.06666666666666667,\n",
       " 0.06666666666666667,\n",
       " 0.06666666666666667,\n",
       " 0.06666666666666667,\n",
       " 0.08888888888888889,\n",
       " 0.08888888888888889,\n",
       " 0.1111111111111111,\n",
       " 0.1111111111111111,\n",
       " 0.15555555555555556,\n",
       " 0.15555555555555556,\n",
       " 0.15555555555555556,\n",
       " 0.13333333333333333,\n",
       " 0.15555555555555556,\n",
       " 0.13333333333333333,\n",
       " 0.13333333333333333,\n",
       " 0.1111111111111111]"
      ]
     },
     "execution_count": 13,
     "metadata": {},
     "output_type": "execute_result"
    }
   ],
   "source": [
    "errorRate"
   ]
  },
  {
   "cell_type": "markdown",
   "id": "5c1df3eb",
   "metadata": {},
   "source": [
    "#### Plot to visualize the results"
   ]
  },
  {
   "cell_type": "code",
   "execution_count": 14,
   "id": "9d121766",
   "metadata": {},
   "outputs": [
    {
     "data": {
      "text/plain": [
       "Text(0, 0.5, 'Error Rate')"
      ]
     },
     "execution_count": 14,
     "metadata": {},
     "output_type": "execute_result"
    },
    {
     "data": {
      "image/png": "[encoded data removed]",
      "text/plain": [
       "<Figure size 720x432 with 1 Axes>"
      ]
     },
     "metadata": {
      "needs_background": "light"
     },
     "output_type": "display_data"
    }
   ],
   "source": [
    "# plot the results\n",
    "plt.figure(figsize=(10,6))\n",
    "plt.plot(range(1,40), errorRate, color='blue', linestyle='dashed', marker='o', markerfacecolor='red', markersize=10)\n",
    "plt.title('Error Rate vs K Value')\n",
    "plt.xlabel('K')\n",
    "plt.ylabel('Error Rate')"
   ]
  },
  {
   "cell_type": "markdown",
   "id": "74e7d76b",
   "metadata": {},
   "source": [
    "#### In this case, 7, 8, 9, 11, and 12 are all k values that are equally low. Almost no error there!"
   ]
  },
  {
   "cell_type": "markdown",
   "id": "edb3af84",
   "metadata": {},
   "source": [
    "## Run the Final Model\n",
    "The final step is simply to use one of these _k_ values in the model:"
   ]
  },
  {
   "cell_type": "code",
   "execution_count": 15,
   "id": "11b41f1f",
   "metadata": {},
   "outputs": [],
   "source": [
    "# run the model using one of the k values\n",
    "knn = KNeighborsClassifier(n_neighbors=8)\n",
    "knn.fit(x_train, y_train)\n",
    "pred = knn.predict(x_test)"
   ]
  },
  {
   "cell_type": "code",
   "execution_count": 16,
   "id": "22a10fbb",
   "metadata": {},
   "outputs": [
    {
     "name": "stdout",
     "output_type": "stream",
     "text": [
      "[[13  0  0]\n",
      " [ 0 20  0]\n",
      " [ 0  0 12]]\n"
     ]
    }
   ],
   "source": [
    "# look at confusion matrix again\n",
    "print(confusion_matrix(y_test, pred))"
   ]
  },
  {
   "cell_type": "code",
   "execution_count": 17,
   "id": "bd760f18",
   "metadata": {},
   "outputs": [
    {
     "name": "stdout",
     "output_type": "stream",
     "text": [
      "              precision    recall  f1-score   support\n",
      "\n",
      "      setosa       1.00      1.00      1.00        13\n",
      "  versicolor       1.00      1.00      1.00        20\n",
      "   virginica       1.00      1.00      1.00        12\n",
      "\n",
      "    accuracy                           1.00        45\n",
      "   macro avg       1.00      1.00      1.00        45\n",
      "weighted avg       1.00      1.00      1.00        45\n",
      "\n"
     ]
    }
   ],
   "source": [
    "# verify accuracy with classification report\n",
    "print(classification_report(y_test,pred))"
   ]
  },
  {
   "cell_type": "markdown",
   "id": "b90e9135",
   "metadata": {},
   "source": [
    "#### When you ran the KNN again with k=8, you were able to predict the species of iris with 100% accuracy! Excellent work!"
   ]
  }
 ],
 "metadata": {
  "kernelspec": {
   "display_name": "Python 3 (ipykernel)",
   "language": "python",
   "name": "python3"
  },
  "language_info": {
   "codemirror_mode": {
    "name": "ipython",
    "version": 3
   },
   "file_extension": ".py",
   "mimetype": "text/x-python",
   "name": "python",
   "nbconvert_exporter": "python",
   "pygments_lexer": "ipython3",
   "version": "3.9.12"
  }
 },
 "nbformat": 4,
 "nbformat_minor": 5
}
