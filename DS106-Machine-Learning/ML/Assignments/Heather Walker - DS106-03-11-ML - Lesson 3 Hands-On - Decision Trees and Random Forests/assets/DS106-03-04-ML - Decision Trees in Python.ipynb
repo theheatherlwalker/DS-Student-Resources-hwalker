{
 "cells": [
  {
   "cell_type": "markdown",
   "id": "7d9d8ab2",
   "metadata": {},
   "source": [
    "# DS106-03-04-ML - Decision Trees in Python\n",
    "---"
   ]
  },
  {
   "cell_type": "markdown",
   "id": "bf3fb741",
   "metadata": {},
   "source": [
    "## Import Packages"
   ]
  },
  {
   "cell_type": "code",
   "execution_count": 1,
   "id": "2ea6159e",
   "metadata": {},
   "outputs": [],
   "source": [
    "import pandas as pd\n",
    "import numpy as np\n",
    "import matplotlib.pyplot as plt\n",
    "import seaborn as sns\n",
    "%matplotlib inline\n",
    "from sklearn.model_selection import train_test_split\n",
    "from sklearn.tree import DecisionTreeClassifier\n",
    "from sklearn.metrics import classification_report, confusion_matrix, accuracy_score"
   ]
  },
  {
   "cell_type": "markdown",
   "id": "e846a693",
   "metadata": {},
   "source": [
    "## Load in Data"
   ]
  },
  {
   "cell_type": "code",
   "execution_count": 2,
   "id": "db77a799",
   "metadata": {},
   "outputs": [],
   "source": [
    "iris = sns.load_dataset('iris')"
   ]
  },
  {
   "cell_type": "markdown",
   "id": "bc31ca37",
   "metadata": {},
   "source": [
    "## Data Wrangling"
   ]
  },
  {
   "cell_type": "code",
   "execution_count": 3,
   "id": "21fbe59e",
   "metadata": {},
   "outputs": [],
   "source": [
    "# `y` is what you are predicting\n",
    "# `x` is everything you're using to predict it.\n",
    "x = iris.drop('species', axis=1)\n",
    "y = iris['species']"
   ]
  },
  {
   "cell_type": "markdown",
   "id": "69e1620d",
   "metadata": {},
   "source": [
    "---\n",
    "## Train Test Split\n",
    "- Split the data into training and testing sets.\n",
    "The train variables are creating your initial model, and the test variables are what you'll use to determine the fit of the model. Note that just for following along, you will set the `random_state` to 76, which is not necessary, but it will give you the same split as the example."
   ]
  },
  {
   "cell_type": "code",
   "execution_count": 4,
   "id": "28bef7f4",
   "metadata": {},
   "outputs": [],
   "source": [
    "x_train, x_test, y_train, y_test = train_test_split(x,y, test_size=0.3, random_state=76)"
   ]
  },
  {
   "cell_type": "markdown",
   "id": "79a84b3a",
   "metadata": {},
   "source": [
    "---\n",
    "## Create Initial Decision Tree\n",
    "Before you jump into the Random Forest, try a single decision tree. To do this, utilize the `DecisionTreeClassifier()` function and then `fit()` the model. Once more, to keep everyone on the same page, the random_state is 76."
   ]
  },
  {
   "cell_type": "code",
   "execution_count": 5,
   "id": "5f35cc00",
   "metadata": {},
   "outputs": [
    {
     "data": {
      "text/plain": [
       "DecisionTreeClassifier(random_state=76)"
      ]
     },
     "execution_count": 5,
     "metadata": {},
     "output_type": "execute_result"
    }
   ],
   "source": [
    "decisionTree = DecisionTreeClassifier(random_state=76)\n",
    "decisionTree.fit(x_train, y_train)"
   ]
  },
  {
   "cell_type": "markdown",
   "id": "f9a9129c",
   "metadata": {},
   "source": [
    "---\n",
    "## Assess the Model\n",
    "Now that the data is fit, the next step is to create a set of predictions and interpret the results. You can start by using the `predict()` function, and then you'll utilize the same confusion matrix and classification report coding as you did last lesson."
   ]
  },
  {
   "cell_type": "code",
   "execution_count": 6,
   "id": "27d6f1a9",
   "metadata": {},
   "outputs": [
    {
     "name": "stdout",
     "output_type": "stream",
     "text": [
      "[[19  0  0]\n",
      " [ 0 10  3]\n",
      " [ 0  2 11]]\n",
      "              precision    recall  f1-score   support\n",
      "\n",
      "      setosa       1.00      1.00      1.00        19\n",
      "  versicolor       0.83      0.77      0.80        13\n",
      "   virginica       0.79      0.85      0.81        13\n",
      "\n",
      "    accuracy                           0.89        45\n",
      "   macro avg       0.87      0.87      0.87        45\n",
      "weighted avg       0.89      0.89      0.89        45\n",
      "\n"
     ]
    }
   ],
   "source": [
    "treePredictions = decisionTree.predict(x_test)\n",
    "from sklearn.metrics import classification_report, confusion_matrix\n",
    "print(confusion_matrix(y_test, treePredictions))\n",
    "print(classification_report(y_test, treePredictions))"
   ]
  },
  {
   "cell_type": "markdown",
   "id": "87d6bf96",
   "metadata": {},
   "source": [
    "### Reading the Confusion Matrix"
   ]
  },
  {
   "cell_type": "code",
   "execution_count": 7,
   "id": "0281ba83",
   "metadata": {},
   "outputs": [
    {
     "name": "stdout",
     "output_type": "stream",
     "text": [
      "[[19  0  0]\n",
      " [ 0 10  3]\n",
      " [ 0  2 11]]\n"
     ]
    }
   ],
   "source": [
    "# (the confusion matrix by itself)\n",
    "print(confusion_matrix(y_test, treePredictions))"
   ]
  },
  {
   "cell_type": "markdown",
   "id": "0c92fc9e",
   "metadata": {},
   "source": [
    "### How Well Does your Model Fit?"
   ]
  },
  {
   "cell_type": "code",
   "execution_count": 8,
   "id": "bf496786",
   "metadata": {},
   "outputs": [
    {
     "name": "stdout",
     "output_type": "stream",
     "text": [
      "              precision    recall  f1-score   support\n",
      "\n",
      "      setosa       1.00      1.00      1.00        19\n",
      "  versicolor       0.83      0.77      0.80        13\n",
      "   virginica       0.79      0.85      0.81        13\n",
      "\n",
      "    accuracy                           0.89        45\n",
      "   macro avg       0.87      0.87      0.87        45\n",
      "weighted avg       0.89      0.89      0.89        45\n",
      "\n"
     ]
    }
   ],
   "source": [
    "# (the classification report by itself)\n",
    "print(classification_report(y_test, treePredictions))"
   ]
  },
  {
   "cell_type": "markdown",
   "id": "58702455",
   "metadata": {},
   "source": [
    "### Conclusion\n",
    "- _setosa_ was predicted with 100% precision/accuracy\n",
    "- _versicolor_ was predicted with 83% precision/accuracy\n",
    "- _virginica_ was predicted with 79% precision/accuracy"
   ]
  },
  {
   "cell_type": "code",
   "execution_count": null,
   "id": "28f86952",
   "metadata": {},
   "outputs": [],
   "source": []
  }
 ],
 "metadata": {
  "kernelspec": {
   "display_name": "Python 3 (ipykernel)",
   "language": "python",
   "name": "python3"
  },
  "language_info": {
   "codemirror_mode": {
    "name": "ipython",
    "version": 3
   },
   "file_extension": ".py",
   "mimetype": "text/x-python",
   "name": "python",
   "nbconvert_exporter": "python",
   "pygments_lexer": "ipython3",
   "version": "3.9.12"
  }
 },
 "nbformat": 4,
 "nbformat_minor": 5
}
