{
 "cells": [
  {
   "cell_type": "markdown",
   "id": "73615afe",
   "metadata": {},
   "source": [
    "# DS106-03-11-ML - Lesson 3 Hands-On\n",
    "Decision Trees and Random Forests\n",
    "\n",
    "---"
   ]
  },
  {
   "cell_type": "markdown",
   "id": "bded71b0",
   "metadata": {},
   "source": [
    "# Part 1\n",
    "- use `Titanic` dataset from `seaborn`\n",
    "- to predict survival\n",
    "---\n",
    "- recode or remove string data\n",
    "- remove missing data\n",
    "- drop redundant variables\n",
    "- create a decision tree model\n",
    "---\n",
    "- interpret confusion matrix\n",
    "- intrepret classification report"
   ]
  },
  {
   "cell_type": "markdown",
   "id": "5ded1d0c",
   "metadata": {},
   "source": [
    "---\n",
    "\n",
    "## Import Packages"
   ]
  },
  {
   "cell_type": "code",
   "execution_count": 1,
   "id": "b7b51551",
   "metadata": {},
   "outputs": [],
   "source": [
    "import pandas as pd\n",
    "import numpy as np\n",
    "import matplotlib.pyplot as plt\n",
    "import seaborn as sns\n",
    "%matplotlib inline\n",
    "from sklearn.model_selection import train_test_split\n",
    "from sklearn.tree import DecisionTreeClassifier\n",
    "from sklearn.ensemble import RandomForestClassifier\n",
    "from sklearn.metrics import classification_report, confusion_matrix, accuracy_score"
   ]
  },
  {
   "cell_type": "markdown",
   "id": "4d786ce8",
   "metadata": {},
   "source": [
    "---\n",
    "## Load in Data"
   ]
  },
  {
   "cell_type": "code",
   "execution_count": 2,
   "id": "2a49881d",
   "metadata": {},
   "outputs": [],
   "source": [
    "Titanic = sns.load_dataset('titanic')"
   ]
  },
  {
   "cell_type": "markdown",
   "id": "1557cf6d",
   "metadata": {},
   "source": [
    "---\n",
    "## View Data"
   ]
  },
  {
   "cell_type": "code",
   "execution_count": 3,
   "id": "8705932b",
   "metadata": {},
   "outputs": [
    {
     "data": {
      "text/html": [
       "<div>\n",
       "<style scoped>\n",
       "    .dataframe tbody tr th:only-of-type {\n",
       "        vertical-align: middle;\n",
       "    }\n",
       "\n",
       "    .dataframe tbody tr th {\n",
       "        vertical-align: top;\n",
       "    }\n",
       "\n",
       "    .dataframe thead th {\n",
       "        text-align: right;\n",
       "    }\n",
       "</style>\n",
       "<table border=\"1\" class=\"dataframe\">\n",
       "  <thead>\n",
       "    <tr style=\"text-align: right;\">\n",
       "      <th></th>\n",
       "      <th>survived</th>\n",
       "      <th>pclass</th>\n",
       "      <th>sex</th>\n",
       "      <th>age</th>\n",
       "      <th>sibsp</th>\n",
       "      <th>parch</th>\n",
       "      <th>fare</th>\n",
       "      <th>embarked</th>\n",
       "      <th>class</th>\n",
       "      <th>who</th>\n",
       "      <th>adult_male</th>\n",
       "      <th>deck</th>\n",
       "      <th>embark_town</th>\n",
       "      <th>alive</th>\n",
       "      <th>alone</th>\n",
       "    </tr>\n",
       "  </thead>\n",
       "  <tbody>\n",
       "    <tr>\n",
       "      <th>0</th>\n",
       "      <td>0</td>\n",
       "      <td>3</td>\n",
       "      <td>male</td>\n",
       "      <td>22.0</td>\n",
       "      <td>1</td>\n",
       "      <td>0</td>\n",
       "      <td>7.2500</td>\n",
       "      <td>S</td>\n",
       "      <td>Third</td>\n",
       "      <td>man</td>\n",
       "      <td>True</td>\n",
       "      <td>NaN</td>\n",
       "      <td>Southampton</td>\n",
       "      <td>no</td>\n",
       "      <td>False</td>\n",
       "    </tr>\n",
       "    <tr>\n",
       "      <th>1</th>\n",
       "      <td>1</td>\n",
       "      <td>1</td>\n",
       "      <td>female</td>\n",
       "      <td>38.0</td>\n",
       "      <td>1</td>\n",
       "      <td>0</td>\n",
       "      <td>71.2833</td>\n",
       "      <td>C</td>\n",
       "      <td>First</td>\n",
       "      <td>woman</td>\n",
       "      <td>False</td>\n",
       "      <td>C</td>\n",
       "      <td>Cherbourg</td>\n",
       "      <td>yes</td>\n",
       "      <td>False</td>\n",
       "    </tr>\n",
       "    <tr>\n",
       "      <th>2</th>\n",
       "      <td>1</td>\n",
       "      <td>3</td>\n",
       "      <td>female</td>\n",
       "      <td>26.0</td>\n",
       "      <td>0</td>\n",
       "      <td>0</td>\n",
       "      <td>7.9250</td>\n",
       "      <td>S</td>\n",
       "      <td>Third</td>\n",
       "      <td>woman</td>\n",
       "      <td>False</td>\n",
       "      <td>NaN</td>\n",
       "      <td>Southampton</td>\n",
       "      <td>yes</td>\n",
       "      <td>True</td>\n",
       "    </tr>\n",
       "    <tr>\n",
       "      <th>3</th>\n",
       "      <td>1</td>\n",
       "      <td>1</td>\n",
       "      <td>female</td>\n",
       "      <td>35.0</td>\n",
       "      <td>1</td>\n",
       "      <td>0</td>\n",
       "      <td>53.1000</td>\n",
       "      <td>S</td>\n",
       "      <td>First</td>\n",
       "      <td>woman</td>\n",
       "      <td>False</td>\n",
       "      <td>C</td>\n",
       "      <td>Southampton</td>\n",
       "      <td>yes</td>\n",
       "      <td>False</td>\n",
       "    </tr>\n",
       "    <tr>\n",
       "      <th>4</th>\n",
       "      <td>0</td>\n",
       "      <td>3</td>\n",
       "      <td>male</td>\n",
       "      <td>35.0</td>\n",
       "      <td>0</td>\n",
       "      <td>0</td>\n",
       "      <td>8.0500</td>\n",
       "      <td>S</td>\n",
       "      <td>Third</td>\n",
       "      <td>man</td>\n",
       "      <td>True</td>\n",
       "      <td>NaN</td>\n",
       "      <td>Southampton</td>\n",
       "      <td>no</td>\n",
       "      <td>True</td>\n",
       "    </tr>\n",
       "  </tbody>\n",
       "</table>\n",
       "</div>"
      ],
      "text/plain": [
       "   survived  pclass     sex   age  sibsp  parch     fare embarked  class  \\\n",
       "0         0       3    male  22.0      1      0   7.2500        S  Third   \n",
       "1         1       1  female  38.0      1      0  71.2833        C  First   \n",
       "2         1       3  female  26.0      0      0   7.9250        S  Third   \n",
       "3         1       1  female  35.0      1      0  53.1000        S  First   \n",
       "4         0       3    male  35.0      0      0   8.0500        S  Third   \n",
       "\n",
       "     who  adult_male deck  embark_town alive  alone  \n",
       "0    man        True  NaN  Southampton    no  False  \n",
       "1  woman       False    C    Cherbourg   yes  False  \n",
       "2  woman       False  NaN  Southampton   yes   True  \n",
       "3  woman       False    C  Southampton   yes  False  \n",
       "4    man        True  NaN  Southampton    no   True  "
      ]
     },
     "execution_count": 3,
     "metadata": {},
     "output_type": "execute_result"
    }
   ],
   "source": [
    "Titanic.head()"
   ]
  },
  {
   "cell_type": "markdown",
   "id": "cc0cd2c3",
   "metadata": {},
   "source": [
    "---\n",
    "## Data Wrangling\n",
    "Decision trees and random forests cannot have any string or missing data;\n",
    "- Recode string variables \n",
    "- use the `.dropna` function for missing values"
   ]
  },
  {
   "cell_type": "markdown",
   "id": "36eba77f",
   "metadata": {},
   "source": [
    "---\n",
    "## Data Dictionary\n",
    "[[link to information on dataset]](https://www.kaggle.com/c/titanic/data)\n",
    "\n",
    "\n",
    "| **Variable** | **Definition** | **Key** |\n",
    "| --- | --- | --- |\n",
    "| survival | Survival | 0 = No, 1 = Yes |\n",
    "| pclass | Ticket class | 1 = 1st, 2 = 2nd, 3 = 3rd |\n",
    "| sex | Sex |  |\n",
    "| Age | Age in years |  |\n",
    "| sibsp | # of siblings / spouses aboard the Titanic |  |\n",
    "| parch | # of parents / children aboard the Titanic |  |\n",
    "| ticket | Ticket number |  |\n",
    "| fare | Passenger fare |  |\n",
    "| cabin | Cabin number |  |\n",
    "| embarked | Port of Embarkation | C = Cherbourg, Q = Queenstown, S = Southampton |"
   ]
  },
  {
   "cell_type": "markdown",
   "id": "766f3591",
   "metadata": {},
   "source": [
    "### What kind of data do we have?"
   ]
  },
  {
   "cell_type": "code",
   "execution_count": 4,
   "id": "be20dc9d",
   "metadata": {},
   "outputs": [
    {
     "name": "stdout",
     "output_type": "stream",
     "text": [
      "<class 'pandas.core.frame.DataFrame'>\n",
      "RangeIndex: 891 entries, 0 to 890\n",
      "Data columns (total 15 columns):\n",
      " #   Column       Non-Null Count  Dtype   \n",
      "---  ------       --------------  -----   \n",
      " 0   survived     891 non-null    int64   \n",
      " 1   pclass       891 non-null    int64   \n",
      " 2   sex          891 non-null    object  \n",
      " 3   age          714 non-null    float64 \n",
      " 4   sibsp        891 non-null    int64   \n",
      " 5   parch        891 non-null    int64   \n",
      " 6   fare         891 non-null    float64 \n",
      " 7   embarked     889 non-null    object  \n",
      " 8   class        891 non-null    category\n",
      " 9   who          891 non-null    object  \n",
      " 10  adult_male   891 non-null    bool    \n",
      " 11  deck         203 non-null    category\n",
      " 12  embark_town  889 non-null    object  \n",
      " 13  alive        891 non-null    object  \n",
      " 14  alone        891 non-null    bool    \n",
      "dtypes: bool(2), category(2), float64(2), int64(4), object(5)\n",
      "memory usage: 80.7+ KB\n"
     ]
    }
   ],
   "source": [
    "Titanic.info()"
   ]
  },
  {
   "cell_type": "markdown",
   "id": "9d955dac",
   "metadata": {},
   "source": [
    "### Drop the missing data"
   ]
  },
  {
   "cell_type": "code",
   "execution_count": 5,
   "id": "dc0384ff",
   "metadata": {},
   "outputs": [
    {
     "name": "stdout",
     "output_type": "stream",
     "text": [
      "<class 'pandas.core.frame.DataFrame'>\n",
      "Int64Index: 182 entries, 1 to 889\n",
      "Data columns (total 15 columns):\n",
      " #   Column       Non-Null Count  Dtype   \n",
      "---  ------       --------------  -----   \n",
      " 0   survived     182 non-null    int64   \n",
      " 1   pclass       182 non-null    int64   \n",
      " 2   sex          182 non-null    object  \n",
      " 3   age          182 non-null    float64 \n",
      " 4   sibsp        182 non-null    int64   \n",
      " 5   parch        182 non-null    int64   \n",
      " 6   fare         182 non-null    float64 \n",
      " 7   embarked     182 non-null    object  \n",
      " 8   class        182 non-null    category\n",
      " 9   who          182 non-null    object  \n",
      " 10  adult_male   182 non-null    bool    \n",
      " 11  deck         182 non-null    category\n",
      " 12  embark_town  182 non-null    object  \n",
      " 13  alive        182 non-null    object  \n",
      " 14  alone        182 non-null    bool    \n",
      "dtypes: bool(2), category(2), float64(2), int64(4), object(5)\n",
      "memory usage: 18.2+ KB\n"
     ]
    }
   ],
   "source": [
    "Titanic.dropna(inplace = True)\n",
    "Titanic.info()"
   ]
  },
  {
   "cell_type": "markdown",
   "id": "5b0b0e87",
   "metadata": {},
   "source": [
    "### Check for redundant variables"
   ]
  },
  {
   "cell_type": "code",
   "execution_count": 6,
   "id": "4f212bde",
   "metadata": {},
   "outputs": [
    {
     "data": {
      "text/plain": [
       "array(['woman', 'man', 'child'], dtype=object)"
      ]
     },
     "execution_count": 6,
     "metadata": {},
     "output_type": "execute_result"
    }
   ],
   "source": [
    "Titanic.who.unique()"
   ]
  },
  {
   "cell_type": "code",
   "execution_count": 7,
   "id": "5d3675a1",
   "metadata": {},
   "outputs": [
    {
     "data": {
      "text/plain": [
       "array([False,  True])"
      ]
     },
     "execution_count": 7,
     "metadata": {},
     "output_type": "execute_result"
    }
   ],
   "source": [
    "Titanic.adult_male.unique()"
   ]
  },
  {
   "cell_type": "code",
   "execution_count": 8,
   "id": "776d4efc",
   "metadata": {},
   "outputs": [
    {
     "data": {
      "text/plain": [
       "array([1, 3, 2])"
      ]
     },
     "execution_count": 8,
     "metadata": {},
     "output_type": "execute_result"
    }
   ],
   "source": [
    "Titanic.pclass.unique()"
   ]
  },
  {
   "cell_type": "code",
   "execution_count": 9,
   "id": "1a870ac7",
   "metadata": {},
   "outputs": [
    {
     "data": {
      "text/plain": [
       "1    123\n",
       "0     59\n",
       "Name: survived, dtype: int64"
      ]
     },
     "execution_count": 9,
     "metadata": {},
     "output_type": "execute_result"
    }
   ],
   "source": [
    "Titanic.survived.value_counts()"
   ]
  },
  {
   "cell_type": "code",
   "execution_count": 10,
   "id": "21aee709",
   "metadata": {},
   "outputs": [
    {
     "data": {
      "text/plain": [
       "yes    123\n",
       "no      59\n",
       "Name: alive, dtype: int64"
      ]
     },
     "execution_count": 10,
     "metadata": {},
     "output_type": "execute_result"
    }
   ],
   "source": [
    "Titanic.alive.value_counts()"
   ]
  },
  {
   "cell_type": "markdown",
   "id": "a4fe7e53",
   "metadata": {},
   "source": [
    "### Drop unneeded features (aka variables)\n",
    "- remove `who` -> this is covered by `sex` and `age`\n",
    "- remove `adult_male` -> covered by `sex` and `age`\n",
    "- remove `embark_town` -> same as `embarked`\n",
    "- remove `class` -> covered by `pclass` and `class` is causing issues in Python (possibly because that is a reserved vocabulary for Python?)\n",
    "- remove `alive` -> covered by `survived`"
   ]
  },
  {
   "cell_type": "code",
   "execution_count": 11,
   "id": "e4735bd2",
   "metadata": {},
   "outputs": [
    {
     "data": {
      "text/html": [
       "<div>\n",
       "<style scoped>\n",
       "    .dataframe tbody tr th:only-of-type {\n",
       "        vertical-align: middle;\n",
       "    }\n",
       "\n",
       "    .dataframe tbody tr th {\n",
       "        vertical-align: top;\n",
       "    }\n",
       "\n",
       "    .dataframe thead th {\n",
       "        text-align: right;\n",
       "    }\n",
       "</style>\n",
       "<table border=\"1\" class=\"dataframe\">\n",
       "  <thead>\n",
       "    <tr style=\"text-align: right;\">\n",
       "      <th></th>\n",
       "      <th>survived</th>\n",
       "      <th>pclass</th>\n",
       "      <th>sex</th>\n",
       "      <th>age</th>\n",
       "      <th>sibsp</th>\n",
       "      <th>parch</th>\n",
       "      <th>fare</th>\n",
       "      <th>embarked</th>\n",
       "      <th>deck</th>\n",
       "    </tr>\n",
       "  </thead>\n",
       "  <tbody>\n",
       "    <tr>\n",
       "      <th>1</th>\n",
       "      <td>1</td>\n",
       "      <td>1</td>\n",
       "      <td>female</td>\n",
       "      <td>38.0</td>\n",
       "      <td>1</td>\n",
       "      <td>0</td>\n",
       "      <td>71.2833</td>\n",
       "      <td>C</td>\n",
       "      <td>C</td>\n",
       "    </tr>\n",
       "    <tr>\n",
       "      <th>3</th>\n",
       "      <td>1</td>\n",
       "      <td>1</td>\n",
       "      <td>female</td>\n",
       "      <td>35.0</td>\n",
       "      <td>1</td>\n",
       "      <td>0</td>\n",
       "      <td>53.1000</td>\n",
       "      <td>S</td>\n",
       "      <td>C</td>\n",
       "    </tr>\n",
       "    <tr>\n",
       "      <th>6</th>\n",
       "      <td>0</td>\n",
       "      <td>1</td>\n",
       "      <td>male</td>\n",
       "      <td>54.0</td>\n",
       "      <td>0</td>\n",
       "      <td>0</td>\n",
       "      <td>51.8625</td>\n",
       "      <td>S</td>\n",
       "      <td>E</td>\n",
       "    </tr>\n",
       "    <tr>\n",
       "      <th>10</th>\n",
       "      <td>1</td>\n",
       "      <td>3</td>\n",
       "      <td>female</td>\n",
       "      <td>4.0</td>\n",
       "      <td>1</td>\n",
       "      <td>1</td>\n",
       "      <td>16.7000</td>\n",
       "      <td>S</td>\n",
       "      <td>G</td>\n",
       "    </tr>\n",
       "    <tr>\n",
       "      <th>11</th>\n",
       "      <td>1</td>\n",
       "      <td>1</td>\n",
       "      <td>female</td>\n",
       "      <td>58.0</td>\n",
       "      <td>0</td>\n",
       "      <td>0</td>\n",
       "      <td>26.5500</td>\n",
       "      <td>S</td>\n",
       "      <td>C</td>\n",
       "    </tr>\n",
       "  </tbody>\n",
       "</table>\n",
       "</div>"
      ],
      "text/plain": [
       "    survived  pclass     sex   age  sibsp  parch     fare embarked deck\n",
       "1          1       1  female  38.0      1      0  71.2833        C    C\n",
       "3          1       1  female  35.0      1      0  53.1000        S    C\n",
       "6          0       1    male  54.0      0      0  51.8625        S    E\n",
       "10         1       3  female   4.0      1      1  16.7000        S    G\n",
       "11         1       1  female  58.0      0      0  26.5500        S    C"
      ]
     },
     "execution_count": 11,
     "metadata": {},
     "output_type": "execute_result"
    }
   ],
   "source": [
    "Titanic.drop(['who', 'adult_male', 'embark_town', 'class', 'alive', 'alone'], axis = 1, inplace = True)\n",
    "Titanic.head()"
   ]
  },
  {
   "cell_type": "markdown",
   "id": "b2634f6e",
   "metadata": {},
   "source": [
    "### Variables must be numeric"
   ]
  },
  {
   "cell_type": "code",
   "execution_count": 12,
   "id": "29829b1e",
   "metadata": {},
   "outputs": [
    {
     "name": "stdout",
     "output_type": "stream",
     "text": [
      "<class 'pandas.core.frame.DataFrame'>\n",
      "Int64Index: 182 entries, 1 to 889\n",
      "Data columns (total 9 columns):\n",
      " #   Column    Non-Null Count  Dtype   \n",
      "---  ------    --------------  -----   \n",
      " 0   survived  182 non-null    int64   \n",
      " 1   pclass    182 non-null    int64   \n",
      " 2   sex       182 non-null    object  \n",
      " 3   age       182 non-null    float64 \n",
      " 4   sibsp     182 non-null    int64   \n",
      " 5   parch     182 non-null    int64   \n",
      " 6   fare      182 non-null    float64 \n",
      " 7   embarked  182 non-null    object  \n",
      " 8   deck      182 non-null    category\n",
      "dtypes: category(1), float64(2), int64(4), object(2)\n",
      "memory usage: 13.3+ KB\n"
     ]
    }
   ],
   "source": [
    "Titanic.info()"
   ]
  },
  {
   "cell_type": "markdown",
   "id": "cb54e4c4",
   "metadata": {},
   "source": [
    "#### Convert `age` and `fare` to integers"
   ]
  },
  {
   "cell_type": "code",
   "execution_count": 13,
   "id": "5621d236",
   "metadata": {},
   "outputs": [],
   "source": [
    "Titanic.age = Titanic.age.astype(int)\n",
    "Titanic.fare = Titanic.fare.astype(int)"
   ]
  },
  {
   "cell_type": "markdown",
   "id": "777673a8",
   "metadata": {},
   "source": [
    "#### Recode `sex`"
   ]
  },
  {
   "cell_type": "code",
   "execution_count": 14,
   "id": "cf5d1d3f",
   "metadata": {},
   "outputs": [
    {
     "data": {
      "text/plain": [
       "array(['female', 'male'], dtype=object)"
      ]
     },
     "execution_count": 14,
     "metadata": {},
     "output_type": "execute_result"
    }
   ],
   "source": [
    "Titanic.sex.unique()"
   ]
  },
  {
   "cell_type": "code",
   "execution_count": 15,
   "id": "ccc4715b",
   "metadata": {},
   "outputs": [],
   "source": [
    "def Sex (series):\n",
    "    if series == 'female':\n",
    "        return 0\n",
    "    if series == 'male':\n",
    "        return 1\n",
    "   \n",
    "Titanic['sexR'] = Titanic['sex'].apply(Sex)\n",
    "Titanic.drop('sex', axis = 1, inplace = True)\n",
    "Titanic.sexR = Titanic.sexR.astype(int)"
   ]
  },
  {
   "cell_type": "markdown",
   "id": "170ac3a8",
   "metadata": {},
   "source": [
    "#### Recode `embarked`"
   ]
  },
  {
   "cell_type": "code",
   "execution_count": 16,
   "id": "11ad86d0",
   "metadata": {},
   "outputs": [
    {
     "data": {
      "text/plain": [
       "S    115\n",
       "C     65\n",
       "Q      2\n",
       "Name: embarked, dtype: int64"
      ]
     },
     "execution_count": 16,
     "metadata": {},
     "output_type": "execute_result"
    }
   ],
   "source": [
    "Titanic.embarked.value_counts()"
   ]
  },
  {
   "cell_type": "code",
   "execution_count": 17,
   "id": "876337e2",
   "metadata": {},
   "outputs": [],
   "source": [
    "def Embarked (series):\n",
    "    if series == 'S':\n",
    "        return 0\n",
    "    if series == 'C':\n",
    "        return 1\n",
    "    if series == 'Q':\n",
    "        return 2\n",
    "   \n",
    "Titanic['embarkedR'] = Titanic['embarked'].apply(Embarked)\n",
    "Titanic.drop('embarked', axis = 1, inplace = True)\n",
    "Titanic.embarkedR = Titanic.embarkedR.astype(int)"
   ]
  },
  {
   "cell_type": "markdown",
   "id": "78b5c302",
   "metadata": {},
   "source": [
    "#### Recode `deck`"
   ]
  },
  {
   "cell_type": "code",
   "execution_count": 18,
   "id": "10b2e1e9",
   "metadata": {},
   "outputs": [],
   "source": [
    "def Deck (series):\n",
    "    if series == 'A':\n",
    "        return 0\n",
    "    if series == 'B':\n",
    "        return 1\n",
    "    if series == 'C':\n",
    "        return 2\n",
    "    if series == 'D':\n",
    "        return 3\n",
    "    if series == 'E':\n",
    "        return 4\n",
    "    if series == 'F':\n",
    "        return 5\n",
    "    if series == 'G':\n",
    "        return 6\n",
    "\n",
    "Titanic['deckR'] = Titanic['deck'].apply(Deck)\n",
    "Titanic.drop('deck', axis = 1, inplace = True)\n",
    "Titanic.deckR = Titanic.deckR.astype(int)"
   ]
  },
  {
   "cell_type": "markdown",
   "id": "56cd37d2",
   "metadata": {},
   "source": [
    "### View Results"
   ]
  },
  {
   "cell_type": "code",
   "execution_count": 19,
   "id": "d944b16f",
   "metadata": {},
   "outputs": [
    {
     "data": {
      "text/html": [
       "<div>\n",
       "<style scoped>\n",
       "    .dataframe tbody tr th:only-of-type {\n",
       "        vertical-align: middle;\n",
       "    }\n",
       "\n",
       "    .dataframe tbody tr th {\n",
       "        vertical-align: top;\n",
       "    }\n",
       "\n",
       "    .dataframe thead th {\n",
       "        text-align: right;\n",
       "    }\n",
       "</style>\n",
       "<table border=\"1\" class=\"dataframe\">\n",
       "  <thead>\n",
       "    <tr style=\"text-align: right;\">\n",
       "      <th></th>\n",
       "      <th>survived</th>\n",
       "      <th>pclass</th>\n",
       "      <th>age</th>\n",
       "      <th>sibsp</th>\n",
       "      <th>parch</th>\n",
       "      <th>fare</th>\n",
       "      <th>sexR</th>\n",
       "      <th>embarkedR</th>\n",
       "      <th>deckR</th>\n",
       "    </tr>\n",
       "  </thead>\n",
       "  <tbody>\n",
       "    <tr>\n",
       "      <th>1</th>\n",
       "      <td>1</td>\n",
       "      <td>1</td>\n",
       "      <td>38</td>\n",
       "      <td>1</td>\n",
       "      <td>0</td>\n",
       "      <td>71</td>\n",
       "      <td>0</td>\n",
       "      <td>1</td>\n",
       "      <td>2</td>\n",
       "    </tr>\n",
       "    <tr>\n",
       "      <th>3</th>\n",
       "      <td>1</td>\n",
       "      <td>1</td>\n",
       "      <td>35</td>\n",
       "      <td>1</td>\n",
       "      <td>0</td>\n",
       "      <td>53</td>\n",
       "      <td>0</td>\n",
       "      <td>0</td>\n",
       "      <td>2</td>\n",
       "    </tr>\n",
       "    <tr>\n",
       "      <th>6</th>\n",
       "      <td>0</td>\n",
       "      <td>1</td>\n",
       "      <td>54</td>\n",
       "      <td>0</td>\n",
       "      <td>0</td>\n",
       "      <td>51</td>\n",
       "      <td>1</td>\n",
       "      <td>0</td>\n",
       "      <td>4</td>\n",
       "    </tr>\n",
       "    <tr>\n",
       "      <th>10</th>\n",
       "      <td>1</td>\n",
       "      <td>3</td>\n",
       "      <td>4</td>\n",
       "      <td>1</td>\n",
       "      <td>1</td>\n",
       "      <td>16</td>\n",
       "      <td>0</td>\n",
       "      <td>0</td>\n",
       "      <td>6</td>\n",
       "    </tr>\n",
       "    <tr>\n",
       "      <th>11</th>\n",
       "      <td>1</td>\n",
       "      <td>1</td>\n",
       "      <td>58</td>\n",
       "      <td>0</td>\n",
       "      <td>0</td>\n",
       "      <td>26</td>\n",
       "      <td>0</td>\n",
       "      <td>0</td>\n",
       "      <td>2</td>\n",
       "    </tr>\n",
       "  </tbody>\n",
       "</table>\n",
       "</div>"
      ],
      "text/plain": [
       "    survived  pclass  age  sibsp  parch  fare  sexR  embarkedR  deckR\n",
       "1          1       1   38      1      0    71     0          1      2\n",
       "3          1       1   35      1      0    53     0          0      2\n",
       "6          0       1   54      0      0    51     1          0      4\n",
       "10         1       3    4      1      1    16     0          0      6\n",
       "11         1       1   58      0      0    26     0          0      2"
      ]
     },
     "execution_count": 19,
     "metadata": {},
     "output_type": "execute_result"
    }
   ],
   "source": [
    "Titanic.head()"
   ]
  },
  {
   "cell_type": "code",
   "execution_count": 20,
   "id": "d57efe62",
   "metadata": {},
   "outputs": [
    {
     "name": "stdout",
     "output_type": "stream",
     "text": [
      "<class 'pandas.core.frame.DataFrame'>\n",
      "Int64Index: 182 entries, 1 to 889\n",
      "Data columns (total 9 columns):\n",
      " #   Column     Non-Null Count  Dtype\n",
      "---  ------     --------------  -----\n",
      " 0   survived   182 non-null    int64\n",
      " 1   pclass     182 non-null    int64\n",
      " 2   age        182 non-null    int64\n",
      " 3   sibsp      182 non-null    int64\n",
      " 4   parch      182 non-null    int64\n",
      " 5   fare       182 non-null    int64\n",
      " 6   sexR       182 non-null    int64\n",
      " 7   embarkedR  182 non-null    int64\n",
      " 8   deckR      182 non-null    int64\n",
      "dtypes: int64(9)\n",
      "memory usage: 14.2 KB\n"
     ]
    }
   ],
   "source": [
    "Titanic.info()"
   ]
  },
  {
   "cell_type": "markdown",
   "id": "5a83d130",
   "metadata": {},
   "source": [
    "### Define `x` and `y`"
   ]
  },
  {
   "cell_type": "code",
   "execution_count": 21,
   "id": "f7cfd6fa",
   "metadata": {},
   "outputs": [],
   "source": [
    "# `y` is target, `x` is predictor(s)\n",
    "x = Titanic.drop('survived', axis=1)\n",
    "y = Titanic['survived']"
   ]
  },
  {
   "cell_type": "markdown",
   "id": "2d365420",
   "metadata": {},
   "source": [
    "---\n",
    "## Train Test Split"
   ]
  },
  {
   "cell_type": "code",
   "execution_count": 22,
   "id": "c3874140",
   "metadata": {},
   "outputs": [],
   "source": [
    "x_train, x_test, y_train, y_test = train_test_split(x,y, test_size=0.3, random_state=76)"
   ]
  },
  {
   "cell_type": "markdown",
   "id": "cc4f4c60",
   "metadata": {},
   "source": [
    "---\n",
    "## Create Initial Decision Tree"
   ]
  },
  {
   "cell_type": "code",
   "execution_count": 23,
   "id": "04637944",
   "metadata": {},
   "outputs": [
    {
     "data": {
      "text/plain": [
       "DecisionTreeClassifier(random_state=76)"
      ]
     },
     "execution_count": 23,
     "metadata": {},
     "output_type": "execute_result"
    }
   ],
   "source": [
    "decisionTree = DecisionTreeClassifier(random_state=76)\n",
    "decisionTree.fit(x_train, y_train)"
   ]
  },
  {
   "cell_type": "markdown",
   "id": "b2bb7d56",
   "metadata": {},
   "source": [
    "---\n",
    "## Assess the Model"
   ]
  },
  {
   "cell_type": "code",
   "execution_count": 24,
   "id": "4855d0cd",
   "metadata": {},
   "outputs": [
    {
     "name": "stdout",
     "output_type": "stream",
     "text": [
      "[[17  2]\n",
      " [ 9 27]]\n",
      "              precision    recall  f1-score   support\n",
      "\n",
      "           0       0.65      0.89      0.76        19\n",
      "           1       0.93      0.75      0.83        36\n",
      "\n",
      "    accuracy                           0.80        55\n",
      "   macro avg       0.79      0.82      0.79        55\n",
      "weighted avg       0.84      0.80      0.80        55\n",
      "\n"
     ]
    }
   ],
   "source": [
    "treePredictions = decisionTree.predict(x_test)\n",
    "print(confusion_matrix(y_test, treePredictions))\n",
    "print(classification_report(y_test, treePredictions))"
   ]
  },
  {
   "cell_type": "markdown",
   "id": "ae1a1d28",
   "metadata": {},
   "source": [
    "---\n",
    "# Conclusion:\n",
    "- Model is 84% precise (`weighted average`)\n",
    "- death prediction: 65% accurate\n",
    "- survival prediction: 93% accurate"
   ]
  },
  {
   "cell_type": "markdown",
   "id": "cdeba7f6",
   "metadata": {},
   "source": [
    "---\n",
    "---\n",
    "# Part 2\n",
    "- create random forest model of `Titanic` dataset to predict survival\n",
    "- interpret `confusion_matrix`\n",
    "- interpret `classification_report`"
   ]
  },
  {
   "cell_type": "markdown",
   "id": "04467f79",
   "metadata": {},
   "source": [
    "## Create Random Forest Model"
   ]
  },
  {
   "cell_type": "code",
   "execution_count": 25,
   "id": "56a1881b",
   "metadata": {},
   "outputs": [
    {
     "data": {
      "text/plain": [
       "RandomForestClassifier(n_estimators=500, random_state=76)"
      ]
     },
     "execution_count": 25,
     "metadata": {},
     "output_type": "execute_result"
    }
   ],
   "source": [
    "forest = RandomForestClassifier(n_estimators=500, random_state=76)\n",
    "forest.fit(x_train, y_train)"
   ]
  },
  {
   "cell_type": "markdown",
   "id": "73d58b14",
   "metadata": {},
   "source": [
    "## Evaluate Model Fit"
   ]
  },
  {
   "cell_type": "code",
   "execution_count": 26,
   "id": "5751ae8e",
   "metadata": {},
   "outputs": [
    {
     "name": "stdout",
     "output_type": "stream",
     "text": [
      "[[14  5]\n",
      " [ 7 29]]\n",
      "              precision    recall  f1-score   support\n",
      "\n",
      "           0       0.67      0.74      0.70        19\n",
      "           1       0.85      0.81      0.83        36\n",
      "\n",
      "    accuracy                           0.78        55\n",
      "   macro avg       0.76      0.77      0.76        55\n",
      "weighted avg       0.79      0.78      0.78        55\n",
      "\n"
     ]
    }
   ],
   "source": [
    "forestPredictions = forest.predict(x_test)\n",
    "print(confusion_matrix(y_test, forestPredictions))\n",
    "print(classification_report(y_test, forestPredictions))"
   ]
  },
  {
   "cell_type": "markdown",
   "id": "5e25a761",
   "metadata": {},
   "source": [
    "---\n",
    "# Conclusion:\n",
    "- This model is <span style=\"color:red\"> less accurate <span>, at 79% (vs. 84%)(`weighted average`)\n",
    "- death prediction: <span style=\"color:green\">67% accurate (vs. previous 65%)</span>\n",
    "- survival prediction: <span style=\"color:red\">85% accurate (vs. previous 93%)</span>\n",
    "    \n",
    "#### The Random Forest Model is  worse in overall accuracy, but is better at predicting death specifically."
   ]
  },
  {
   "cell_type": "code",
   "execution_count": null,
   "id": "25c3553a",
   "metadata": {},
   "outputs": [],
   "source": []
  }
 ],
 "metadata": {
  "kernelspec": {
   "display_name": "Python 3 (ipykernel)",
   "language": "python",
   "name": "python3"
  },
  "language_info": {
   "codemirror_mode": {
    "name": "ipython",
    "version": 3
   },
   "file_extension": ".py",
   "mimetype": "text/x-python",
   "name": "python",
   "nbconvert_exporter": "python",
   "pygments_lexer": "ipython3",
   "version": "3.9.12"
  }
 },
 "nbformat": 4,
 "nbformat_minor": 5
}
