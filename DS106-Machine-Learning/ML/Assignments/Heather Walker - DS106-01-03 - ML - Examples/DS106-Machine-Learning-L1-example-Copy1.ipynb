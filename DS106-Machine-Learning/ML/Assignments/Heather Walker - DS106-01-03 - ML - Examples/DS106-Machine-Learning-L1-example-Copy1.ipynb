{
 "cells": [
  {
   "cell_type": "markdown",
   "id": "79886eb2",
   "metadata": {},
   "source": [
    "# DS0106 MachineLearn L1"
   ]
  },
  {
   "cell_type": "code",
   "execution_count": 1,
   "id": "7e4e1aec",
   "metadata": {},
   "outputs": [],
   "source": [
    "import pandas as pd\n",
    "from sklearn.linear_model import LinearRegression\n",
    "from sklearn.model_selection import train_test_split\n",
    "import matplotlib.pyplot as plt\n",
    "%matplotlib inline\n",
    "from sklearn import metrics\n",
    "import numpy as np\n",
    "from sklearn.model_selection import KFold\n",
    "from sklearn.model_selection import cross_val_score"
   ]
  },
  {
   "cell_type": "markdown",
   "id": "02342517",
   "metadata": {},
   "source": [
    "# Load in the data"
   ]
  },
  {
   "cell_type": "code",
   "execution_count": 2,
   "id": "5dd1c3b0",
   "metadata": {},
   "outputs": [],
   "source": [
    "realestate = pd.read_csv('data/realestate.csv')"
   ]
  },
  {
   "cell_type": "code",
   "execution_count": 3,
   "id": "a6167d25",
   "metadata": {},
   "outputs": [
    {
     "data": {
      "text/html": [
       "<div>\n",
       "<style scoped>\n",
       "    .dataframe tbody tr th:only-of-type {\n",
       "        vertical-align: middle;\n",
       "    }\n",
       "\n",
       "    .dataframe tbody tr th {\n",
       "        vertical-align: top;\n",
       "    }\n",
       "\n",
       "    .dataframe thead th {\n",
       "        text-align: right;\n",
       "    }\n",
       "</style>\n",
       "<table border=\"1\" class=\"dataframe\">\n",
       "  <thead>\n",
       "    <tr style=\"text-align: right;\">\n",
       "      <th></th>\n",
       "      <th>No</th>\n",
       "      <th>X1 transaction date</th>\n",
       "      <th>X2 house age</th>\n",
       "      <th>X3 distance to the nearest MRT station</th>\n",
       "      <th>X4 number of convenience stores</th>\n",
       "      <th>X5 latitude</th>\n",
       "      <th>X6 longitude</th>\n",
       "      <th>Y house price of unit area</th>\n",
       "    </tr>\n",
       "  </thead>\n",
       "  <tbody>\n",
       "    <tr>\n",
       "      <th>0</th>\n",
       "      <td>1</td>\n",
       "      <td>2012.917</td>\n",
       "      <td>32.0</td>\n",
       "      <td>84.87882</td>\n",
       "      <td>10</td>\n",
       "      <td>24.98298</td>\n",
       "      <td>121.54024</td>\n",
       "      <td>37.9</td>\n",
       "    </tr>\n",
       "    <tr>\n",
       "      <th>1</th>\n",
       "      <td>2</td>\n",
       "      <td>2012.917</td>\n",
       "      <td>19.5</td>\n",
       "      <td>306.59470</td>\n",
       "      <td>9</td>\n",
       "      <td>24.98034</td>\n",
       "      <td>121.53951</td>\n",
       "      <td>42.2</td>\n",
       "    </tr>\n",
       "    <tr>\n",
       "      <th>2</th>\n",
       "      <td>3</td>\n",
       "      <td>2013.583</td>\n",
       "      <td>13.3</td>\n",
       "      <td>561.98450</td>\n",
       "      <td>5</td>\n",
       "      <td>24.98746</td>\n",
       "      <td>121.54391</td>\n",
       "      <td>47.3</td>\n",
       "    </tr>\n",
       "    <tr>\n",
       "      <th>3</th>\n",
       "      <td>4</td>\n",
       "      <td>2013.500</td>\n",
       "      <td>13.3</td>\n",
       "      <td>561.98450</td>\n",
       "      <td>5</td>\n",
       "      <td>24.98746</td>\n",
       "      <td>121.54391</td>\n",
       "      <td>54.8</td>\n",
       "    </tr>\n",
       "    <tr>\n",
       "      <th>4</th>\n",
       "      <td>5</td>\n",
       "      <td>2012.833</td>\n",
       "      <td>5.0</td>\n",
       "      <td>390.56840</td>\n",
       "      <td>5</td>\n",
       "      <td>24.97937</td>\n",
       "      <td>121.54245</td>\n",
       "      <td>43.1</td>\n",
       "    </tr>\n",
       "  </tbody>\n",
       "</table>\n",
       "</div>"
      ],
      "text/plain": [
       "   No  X1 transaction date  X2 house age  \\\n",
       "0   1             2012.917          32.0   \n",
       "1   2             2012.917          19.5   \n",
       "2   3             2013.583          13.3   \n",
       "3   4             2013.500          13.3   \n",
       "4   5             2012.833           5.0   \n",
       "\n",
       "   X3 distance to the nearest MRT station  X4 number of convenience stores  \\\n",
       "0                                84.87882                               10   \n",
       "1                               306.59470                                9   \n",
       "2                               561.98450                                5   \n",
       "3                               561.98450                                5   \n",
       "4                               390.56840                                5   \n",
       "\n",
       "   X5 latitude  X6 longitude  Y house price of unit area  \n",
       "0     24.98298     121.54024                        37.9  \n",
       "1     24.98034     121.53951                        42.2  \n",
       "2     24.98746     121.54391                        47.3  \n",
       "3     24.98746     121.54391                        54.8  \n",
       "4     24.97937     121.54245                        43.1  "
      ]
     },
     "execution_count": 3,
     "metadata": {},
     "output_type": "execute_result"
    }
   ],
   "source": [
    "realestate.head()"
   ]
  },
  {
   "cell_type": "markdown",
   "id": "cc318a19",
   "metadata": {},
   "source": [
    "# Data Wrangling"
   ]
  },
  {
   "cell_type": "code",
   "execution_count": 4,
   "id": "99190fae",
   "metadata": {},
   "outputs": [],
   "source": [
    "x = realestate[['X2 house age', 'X3 distance to the nearest MRT station', 'X4 number of convenience stores', 'X5 latitude', 'X6 longitude']]"
   ]
  },
  {
   "cell_type": "markdown",
   "id": "6e63dc65",
   "metadata": {},
   "source": [
    "# The Y data will be the target variable, what I am trying to predict"
   ]
  },
  {
   "cell_type": "code",
   "execution_count": 5,
   "id": "24465eb8",
   "metadata": {},
   "outputs": [],
   "source": [
    "y = realestate['Y house price of unit area']"
   ]
  },
  {
   "cell_type": "markdown",
   "id": "f2694b38",
   "metadata": {},
   "source": [
    "# Train Test Split"
   ]
  },
  {
   "cell_type": "code",
   "execution_count": 6,
   "id": "13731a6e",
   "metadata": {},
   "outputs": [],
   "source": [
    "x_train, x_test, y_train, y_test = train_test_split(x,y, test_size = .4, random_state=101)"
   ]
  },
  {
   "cell_type": "code",
   "execution_count": 7,
   "id": "187d4fb0",
   "metadata": {},
   "outputs": [
    {
     "name": "stdout",
     "output_type": "stream",
     "text": [
      "(248, 5) (248,)\n",
      "(166, 5) (166,)\n"
     ]
    }
   ],
   "source": [
    "print(x_train.shape, y_train.shape)\n",
    "print(x_test.shape, y_test.shape)"
   ]
  },
  {
   "cell_type": "code",
   "execution_count": 8,
   "id": "1a03c989",
   "metadata": {},
   "outputs": [],
   "source": [
    "lm = LinearRegression()"
   ]
  },
  {
   "cell_type": "code",
   "execution_count": 9,
   "id": "06062998",
   "metadata": {},
   "outputs": [
    {
     "data": {
      "text/plain": [
       "LinearRegression()"
      ]
     },
     "execution_count": 9,
     "metadata": {},
     "output_type": "execute_result"
    }
   ],
   "source": [
    "lm.fit(x_train, y_train)"
   ]
  },
  {
   "cell_type": "markdown",
   "id": "4960ea26",
   "metadata": {},
   "source": [
    "# The above code is not giving proper output according to curriculum "
   ]
  },
  {
   "cell_type": "markdown",
   "id": "3596ddf2",
   "metadata": {},
   "source": [
    "# Examine Predictions"
   ]
  },
  {
   "cell_type": "code",
   "execution_count": 10,
   "id": "05f91fdb",
   "metadata": {},
   "outputs": [
    {
     "data": {
      "text/plain": [
       "array([14.77852916,  8.35848599, 23.1113017 , 47.67384657, 30.05251015,\n",
       "       37.468435  , 38.01762284, 41.08294225, 46.50080685, 40.34536509,\n",
       "       43.87818623, 33.77279613, 40.08116941, 37.31066596, 46.15211908,\n",
       "       48.22093568, 39.48594154, 46.43844951, 49.94962395, 47.552992  ,\n",
       "       41.60580876, 52.60152777, 47.16226231, 37.48194878, 32.40811002,\n",
       "       50.67597957, 39.35917038, 47.99287312, 45.4694465 , 39.33112551,\n",
       "       49.61736207, 42.53188577, 42.96261018, 46.15577268, 44.94124757,\n",
       "        7.13730951, 39.15074038, 39.77497805,  7.07979164, 54.43242047,\n",
       "       31.26660065, 46.90435905, 24.89017208, 48.80711134, 42.6710441 ,\n",
       "       50.08982154, 41.0044385 , 37.39701978, 44.86394799, 36.76558821,\n",
       "       46.8133099 , 35.89912014, 42.35933217, 14.7421879 , 38.74428879,\n",
       "       47.50157796, 43.06612319, 45.44985241, 43.77496083, 39.48259244,\n",
       "       34.31225036, 45.52392252, 42.44560897, 42.0625614 , 51.89857656,\n",
       "       42.74806676, 24.28752167, 48.68058491, 31.25018334, 40.06346133,\n",
       "       43.6178354 , 48.68240545, 14.21653961, 35.23519914, 14.76427345,\n",
       "       43.25900943, 33.7425475 , 44.18683365, 42.22275082, 11.21376847,\n",
       "       45.59819933, 36.51146884, 42.35933217, 29.6210743 , 52.1620338 ,\n",
       "       14.75338445, 35.2064402 , 33.2566497 , 40.22496408, 14.09152523,\n",
       "       47.50926438, 34.37096962, 45.11380117, 25.01302325, 33.54177669,\n",
       "       30.06022011, 23.53156264, 46.64460151, 27.77120309, 37.6169996 ,\n",
       "       47.67413156, 30.23443112, 38.67231057, 40.81568301, 48.46849393,\n",
       "       27.3840657 , 28.40540026, 30.66691363, 32.9788148 , 42.56064471,\n",
       "       46.55832471, 46.09825481, 49.45208001, 33.9117351 , 47.53802332,\n",
       "       42.53188577, 42.46357723, 46.50080685, 43.96908151, 44.54806893,\n",
       "       51.11916869, 42.91232964, 32.24698686, 14.78214338, 35.89873172,\n",
       "       33.94049403, 14.38904544, 42.79542479, 49.39456214, 43.94751443,\n",
       "       28.31477818, 39.86164578, 45.17199505, 48.46849393, 52.57276884,\n",
       "       38.23919165, 36.23935025, 45.52392252, 42.3923762 , 39.99498272,\n",
       "       34.53964756, 48.84883348, 32.83255357, 45.68510943, 33.27573801,\n",
       "       39.69163345, 15.22305451, 33.74403719, 39.2721091 , 24.77513635,\n",
       "       46.01197801, 45.95357381, 31.62887841, 31.20555338, 46.55832471,\n",
       "       33.73827309, 46.82193446, 29.9451677 , 46.78249532, 11.76318638,\n",
       "       52.77408137, 46.49381411, 47.21978018, 54.51869727, 40.81742848,\n",
       "       52.86035817])"
      ]
     },
     "execution_count": 10,
     "metadata": {},
     "output_type": "execute_result"
    }
   ],
   "source": [
    "predictions = lm.predict(x_test)\n",
    "predictions"
   ]
  },
  {
   "cell_type": "markdown",
   "id": "15f70d56",
   "metadata": {},
   "source": [
    "# Graph the y_test against the predictions"
   ]
  },
  {
   "cell_type": "code",
   "execution_count": 11,
   "id": "d153b5d2",
   "metadata": {},
   "outputs": [
    {
     "data": {
      "text/plain": [
       "<matplotlib.collections.PathCollection at 0x7fc2b83c0790>"
      ]
     },
     "execution_count": 11,
     "metadata": {},
     "output_type": "execute_result"
    },
    {
     "data": {
      "image/png": "[encoded data removed]",
      "text/plain": [
       "<Figure size 432x288 with 1 Axes>"
      ]
     },
     "metadata": {
      "needs_background": "light"
     },
     "output_type": "display_data"
    }
   ],
   "source": [
    "plt.scatter(y_test, predictions)"
   ]
  },
  {
   "cell_type": "markdown",
   "id": "ee76264b",
   "metadata": {},
   "source": [
    "# Accuracy Score"
   ]
  },
  {
   "cell_type": "code",
   "execution_count": 12,
   "id": "30e91e07",
   "metadata": {},
   "outputs": [
    {
     "name": "stdout",
     "output_type": "stream",
     "text": [
      "Score: 0.6442380845121716\n"
     ]
    }
   ],
   "source": [
    "print(\"Score:\", lm.score(x_test, y_test))"
   ]
  },
  {
   "cell_type": "markdown",
   "id": "93479b1d",
   "metadata": {},
   "source": [
    "# Examining Error"
   ]
  },
  {
   "cell_type": "markdown",
   "id": "dc9791cc",
   "metadata": {},
   "source": [
    "# Mean Absolute Error (MAE)"
   ]
  },
  {
   "cell_type": "markdown",
   "id": "65ddc31c",
   "metadata": {},
   "source": [
    "# the average amount of error between the prediction and the real data"
   ]
  },
  {
   "cell_type": "code",
   "execution_count": 13,
   "id": "435a0330",
   "metadata": {},
   "outputs": [
    {
     "data": {
      "text/plain": [
       "5.550201321415488"
      ]
     },
     "execution_count": 13,
     "metadata": {},
     "output_type": "execute_result"
    }
   ],
   "source": [
    "metrics.mean_absolute_error(y_test, predictions)"
   ]
  },
  {
   "cell_type": "markdown",
   "id": "de8b35c6",
   "metadata": {},
   "source": [
    "# Mean Squared Error (MSE)"
   ]
  },
  {
   "cell_type": "markdown",
   "id": "0a8e4f7f",
   "metadata": {},
   "source": [
    "# square of the absolute error from above"
   ]
  },
  {
   "cell_type": "code",
   "execution_count": 14,
   "id": "a8d1773b",
   "metadata": {},
   "outputs": [
    {
     "data": {
      "text/plain": [
       "54.3757285449222"
      ]
     },
     "execution_count": 14,
     "metadata": {},
     "output_type": "execute_result"
    }
   ],
   "source": [
    "metrics.mean_squared_error(y_test, predictions)"
   ]
  },
  {
   "cell_type": "markdown",
   "id": "1ece0fd6",
   "metadata": {},
   "source": [
    "# Root Mean Squared Error (RMSE)"
   ]
  },
  {
   "cell_type": "markdown",
   "id": "c0f886cb",
   "metadata": {},
   "source": [
    "# square root of the mean squared error you saw above"
   ]
  },
  {
   "cell_type": "code",
   "execution_count": 15,
   "id": "159cc8f2",
   "metadata": {},
   "outputs": [
    {
     "data": {
      "text/plain": [
       "7.373990001683091"
      ]
     },
     "execution_count": 15,
     "metadata": {},
     "output_type": "execute_result"
    }
   ],
   "source": [
    "np.sqrt(metrics.mean_squared_error(y_test, predictions))"
   ]
  },
  {
   "cell_type": "markdown",
   "id": "ec67ad90",
   "metadata": {},
   "source": [
    "# K-fold cross validation"
   ]
  },
  {
   "cell_type": "code",
   "execution_count": 16,
   "id": "06e4b41f",
   "metadata": {},
   "outputs": [
    {
     "ename": "TypeError",
     "evalue": "__init__() takes from 1 to 2 positional arguments but 4 were given",
     "output_type": "error",
     "traceback": [
      "\u001b[0;31m---------------------------------------------------------------------------\u001b[0m",
      "\u001b[0;31mTypeError\u001b[0m                                 Traceback (most recent call last)",
      "Input \u001b[0;32mIn [16]\u001b[0m, in \u001b[0;36m<cell line: 1>\u001b[0;34m()\u001b[0m\n\u001b[0;32m----> 1\u001b[0m kfold \u001b[38;5;241m=\u001b[39m \u001b[43mKFold\u001b[49m\u001b[43m(\u001b[49m\u001b[38;5;241;43m3\u001b[39;49m\u001b[43m,\u001b[49m\u001b[43m \u001b[49m\u001b[38;5;28;43;01mTrue\u001b[39;49;00m\u001b[43m,\u001b[49m\u001b[43m \u001b[49m\u001b[38;5;241;43m1\u001b[39;49m\u001b[43m)\u001b[49m\n\u001b[1;32m      2\u001b[0m \u001b[38;5;28;01mfor\u001b[39;00m train, test \u001b[38;5;129;01min\u001b[39;00m kfold\u001b[38;5;241m.\u001b[39msplit(x,y):\n\u001b[1;32m      3\u001b[0m     \u001b[38;5;28mprint\u001b[39m(\u001b[38;5;124m'\u001b[39m\u001b[38;5;124mtrain: \u001b[39m\u001b[38;5;132;01m%s\u001b[39;00m\u001b[38;5;124m, test: \u001b[39m\u001b[38;5;132;01m%s\u001b[39;00m\u001b[38;5;124m'\u001b[39m \u001b[38;5;241m%\u001b[39m (train,test))\n",
      "\u001b[0;31mTypeError\u001b[0m: __init__() takes from 1 to 2 positional arguments but 4 were given"
     ]
    }
   ],
   "source": [
    "kfold = KFold(3, True, 1)\n",
    "for train, test in kfold.split(x,y):\n",
    "    print('train: %s, test: %s' % (train,test))"
   ]
  },
  {
   "cell_type": "code",
   "execution_count": 39,
   "id": "80ea43ff",
   "metadata": {},
   "outputs": [
    {
     "name": "stdout",
     "output_type": "stream",
     "text": [
      "[0.62051774 0.50393467 0.55970703]\n"
     ]
    }
   ],
   "source": [
    "print(cross_val_score(lm, x,y, cv=3))"
   ]
  },
  {
   "cell_type": "markdown",
   "id": "d1c9bca6-2afb-4cb8-8179-4c2baf12af3c",
   "metadata": {},
   "source": [
    "### Conclusion"
   ]
  },
  {
   "cell_type": "markdown",
   "id": "015f795f-c088-4142-ac6a-60bd62747e94",
   "metadata": {},
   "source": [
    "According to the cross-validation scores reviewing the accuracies, the first model, 62%, the second model, 50%, and the third model, 56%, state that these models are most likely sub-optimal. "
   ]
  },
  {
   "cell_type": "code",
   "execution_count": null,
   "id": "4f82175d",
   "metadata": {},
   "outputs": [],
   "source": []
  },
  {
   "cell_type": "code",
   "execution_count": null,
   "id": "03b66b63",
   "metadata": {},
   "outputs": [],
   "source": []
  },
  {
   "cell_type": "code",
   "execution_count": null,
   "id": "7e465ce4",
   "metadata": {},
   "outputs": [],
   "source": []
  }
 ],
 "metadata": {
  "kernelspec": {
   "display_name": "Python 3 (ipykernel)",
   "language": "python",
   "name": "python3"
  },
  "language_info": {
   "codemirror_mode": {
    "name": "ipython",
    "version": 3
   },
   "file_extension": ".py",
   "mimetype": "text/x-python",
   "name": "python",
   "nbconvert_exporter": "python",
   "pygments_lexer": "ipython3",
   "version": "3.9.12"
  }
 },
 "nbformat": 4,
 "nbformat_minor": 5
}
