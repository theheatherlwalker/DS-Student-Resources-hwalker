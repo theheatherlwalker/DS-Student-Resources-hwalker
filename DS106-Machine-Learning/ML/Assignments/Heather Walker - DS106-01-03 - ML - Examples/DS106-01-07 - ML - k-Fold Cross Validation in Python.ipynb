{
 "cells": [
  {
   "cell_type": "markdown",
   "id": "d9c1cd97",
   "metadata": {},
   "source": []
  },
  {
   "cell_type": "code",
   "execution_count": 14,
   "id": "60ae63ec",
   "metadata": {},
   "outputs": [],
   "source": []
  },
  {
   "cell_type": "code",
   "execution_count": 15,
   "id": "3047db4c",
   "metadata": {},
   "outputs": [],
   "source": [
    "# import the data\n",
    "realestate = pd.read_csv('data/realestate.csv')"
   ]
  },
  {
   "cell_type": "markdown",
   "id": "905836c5",
   "metadata": {},
   "source": [
    "## Goal\n",
    "With the above data, your goal is to accurately predict housing prices. To ensure this is the most accurate and rigorous model, you will be cross-validating it using the k-folds method."
   ]
  },
  {
   "cell_type": "markdown",
   "id": "01b650c7",
   "metadata": {},
   "source": [
    "## Create the Folds\n",
    "\n",
    "- You will use the `KFold()` function to create your different training and test sets. By inputting the `3`, you have chosen to have 3 iterations, a good number given the small number of cases in your dataset. \n",
    "- Then the argument `True` means that you want your data to be shuffled. - Lastly, if you choose to shuffle your data, then you can specify the randomization version - just like with `train_test_split()`. If you were doing this on your own, it wouldn't matter, but since you are following along, and you want your numbers to be the same, specify the `1` as done here so that everyone ends up with the same randomization."
   ]
  },
  {
   "cell_type": "code",
   "execution_count": 16,
   "id": "25aab717",
   "metadata": {},
   "outputs": [
    {
     "ename": "NameError",
     "evalue": "name 'x' is not defined",
     "output_type": "error",
     "traceback": [
      "\u001b[0;31m---------------------------------------------------------------------------\u001b[0m",
      "\u001b[0;31mNameError\u001b[0m                                 Traceback (most recent call last)",
      "Input \u001b[0;32mIn [16]\u001b[0m, in \u001b[0;36m<cell line: 2>\u001b[0;34m()\u001b[0m\n\u001b[1;32m      1\u001b[0m kfold \u001b[38;5;241m=\u001b[39m KFold(n_splits\u001b[38;5;241m=\u001b[39m\u001b[38;5;241m3\u001b[39m, shuffle\u001b[38;5;241m=\u001b[39m\u001b[38;5;28;01mTrue\u001b[39;00m, random_state\u001b[38;5;241m=\u001b[39m\u001b[38;5;241m1\u001b[39m)\n\u001b[0;32m----> 2\u001b[0m \u001b[38;5;28;01mfor\u001b[39;00m train, test \u001b[38;5;129;01min\u001b[39;00m kfold\u001b[38;5;241m.\u001b[39msplit(\u001b[43mx\u001b[49m,y):\n\u001b[1;32m      3\u001b[0m     \u001b[38;5;28mprint\u001b[39m(\u001b[38;5;124m'\u001b[39m\u001b[38;5;124mtrain: \u001b[39m\u001b[38;5;132;01m%s\u001b[39;00m\u001b[38;5;124m, test: \u001b[39m\u001b[38;5;132;01m%s\u001b[39;00m\u001b[38;5;124m'\u001b[39m \u001b[38;5;241m%\u001b[39m (train,test))\n",
      "\u001b[0;31mNameError\u001b[0m: name 'x' is not defined"
     ]
    }
   ],
   "source": [
    "kfold = KFold(n_splits=3, shuffle=True, random_state=1)\n",
    "for train, test in kfold.split(x,y):\n",
    "    print('train: %s, test: %s' % (train,test))"
   ]
  },
  {
   "cell_type": "code",
   "execution_count": null,
   "id": "15086ebc",
   "metadata": {},
   "outputs": [],
   "source": []
  }
 ],
 "metadata": {
  "kernelspec": {
   "display_name": "Python 3 (ipykernel)",
   "language": "python",
   "name": "python3"
  },
  "language_info": {
   "codemirror_mode": {
    "name": "ipython",
    "version": 3
   },
   "file_extension": ".py",
   "mimetype": "text/x-python",
   "name": "python",
   "nbconvert_exporter": "python",
   "pygments_lexer": "ipython3",
   "version": "3.9.12"
  }
 },
 "nbformat": 4,
 "nbformat_minor": 5
}
