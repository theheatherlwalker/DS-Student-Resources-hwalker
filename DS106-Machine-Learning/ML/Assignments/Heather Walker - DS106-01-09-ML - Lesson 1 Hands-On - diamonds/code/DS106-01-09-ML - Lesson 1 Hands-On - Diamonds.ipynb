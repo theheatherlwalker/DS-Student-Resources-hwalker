{
 "cells": [
  {
   "cell_type": "markdown",
   "id": "bd225c12",
   "metadata": {},
   "source": [
    "# DS106-01-09-ML - Lesson 1 Hands-On\n",
    "\n",
    "---"
   ]
  },
  {
   "cell_type": "markdown",
   "id": "2057fe69",
   "metadata": {},
   "source": [
    "### Import packages\n",
    "- `pandas` for loading in data\n",
    "- `numpy` for square-rooting your model estimates\n",
    "- `sklearn` for the bulk of the linear regression and modeling work \n",
    "- `matplotlib` to graph the model's residuals\n",
    "- `KFold` and `cross_val_score` for k-fold cross validation"
   ]
  },
  {
   "cell_type": "code",
   "execution_count": 1,
   "id": "fb898d07",
   "metadata": {},
   "outputs": [],
   "source": [
    "# import packages\n",
    "import pandas as pd\n",
    "from sklearn.linear_model import LinearRegression\n",
    "from sklearn.model_selection import train_test_split\n",
    "from sklearn.model_selection import KFold\n",
    "from sklearn.model_selection import cross_val_score\n",
    "import matplotlib.pyplot as plt\n",
    "%matplotlib inline\n",
    "from sklearn import metrics\n",
    "import numpy as np"
   ]
  },
  {
   "cell_type": "markdown",
   "id": "4fa7d54c",
   "metadata": {},
   "source": [
    "### Import data"
   ]
  },
  {
   "cell_type": "code",
   "execution_count": 2,
   "id": "797e9eb0",
   "metadata": {},
   "outputs": [],
   "source": [
    "# import `seaborn` data\n",
    "import seaborn as sns\n",
    "from sklearn.utils import shuffle\n",
    "Diamonds = shuffle(sns.load_dataset('diamonds'))"
   ]
  },
  {
   "cell_type": "code",
   "execution_count": 3,
   "id": "1141cc57",
   "metadata": {
    "scrolled": true
   },
   "outputs": [
    {
     "data": {
      "text/html": [
       "<div>\n",
       "<style scoped>\n",
       "    .dataframe tbody tr th:only-of-type {\n",
       "        vertical-align: middle;\n",
       "    }\n",
       "\n",
       "    .dataframe tbody tr th {\n",
       "        vertical-align: top;\n",
       "    }\n",
       "\n",
       "    .dataframe thead th {\n",
       "        text-align: right;\n",
       "    }\n",
       "</style>\n",
       "<table border=\"1\" class=\"dataframe\">\n",
       "  <thead>\n",
       "    <tr style=\"text-align: right;\">\n",
       "      <th></th>\n",
       "      <th>carat</th>\n",
       "      <th>cut</th>\n",
       "      <th>color</th>\n",
       "      <th>clarity</th>\n",
       "      <th>depth</th>\n",
       "      <th>table</th>\n",
       "      <th>price</th>\n",
       "      <th>x</th>\n",
       "      <th>y</th>\n",
       "      <th>z</th>\n",
       "    </tr>\n",
       "  </thead>\n",
       "  <tbody>\n",
       "    <tr>\n",
       "      <th>43173</th>\n",
       "      <td>0.54</td>\n",
       "      <td>Premium</td>\n",
       "      <td>I</td>\n",
       "      <td>VS1</td>\n",
       "      <td>61.5</td>\n",
       "      <td>58.0</td>\n",
       "      <td>1389</td>\n",
       "      <td>5.28</td>\n",
       "      <td>5.26</td>\n",
       "      <td>3.24</td>\n",
       "    </tr>\n",
       "    <tr>\n",
       "      <th>23375</th>\n",
       "      <td>0.33</td>\n",
       "      <td>Very Good</td>\n",
       "      <td>D</td>\n",
       "      <td>SI2</td>\n",
       "      <td>63.3</td>\n",
       "      <td>53.0</td>\n",
       "      <td>631</td>\n",
       "      <td>4.42</td>\n",
       "      <td>4.39</td>\n",
       "      <td>2.79</td>\n",
       "    </tr>\n",
       "    <tr>\n",
       "      <th>6542</th>\n",
       "      <td>1.01</td>\n",
       "      <td>Very Good</td>\n",
       "      <td>F</td>\n",
       "      <td>SI2</td>\n",
       "      <td>63.1</td>\n",
       "      <td>57.0</td>\n",
       "      <td>4072</td>\n",
       "      <td>6.37</td>\n",
       "      <td>6.30</td>\n",
       "      <td>4.00</td>\n",
       "    </tr>\n",
       "    <tr>\n",
       "      <th>35399</th>\n",
       "      <td>0.39</td>\n",
       "      <td>Very Good</td>\n",
       "      <td>E</td>\n",
       "      <td>VS1</td>\n",
       "      <td>60.0</td>\n",
       "      <td>59.0</td>\n",
       "      <td>900</td>\n",
       "      <td>4.76</td>\n",
       "      <td>4.80</td>\n",
       "      <td>2.87</td>\n",
       "    </tr>\n",
       "    <tr>\n",
       "      <th>27293</th>\n",
       "      <td>1.87</td>\n",
       "      <td>Ideal</td>\n",
       "      <td>H</td>\n",
       "      <td>VS1</td>\n",
       "      <td>59.7</td>\n",
       "      <td>60.0</td>\n",
       "      <td>17761</td>\n",
       "      <td>7.98</td>\n",
       "      <td>8.04</td>\n",
       "      <td>4.78</td>\n",
       "    </tr>\n",
       "  </tbody>\n",
       "</table>\n",
       "</div>"
      ],
      "text/plain": [
       "       carat        cut color clarity  depth  table  price     x     y     z\n",
       "43173   0.54    Premium     I     VS1   61.5   58.0   1389  5.28  5.26  3.24\n",
       "23375   0.33  Very Good     D     SI2   63.3   53.0    631  4.42  4.39  2.79\n",
       "6542    1.01  Very Good     F     SI2   63.1   57.0   4072  6.37  6.30  4.00\n",
       "35399   0.39  Very Good     E     VS1   60.0   59.0    900  4.76  4.80  2.87\n",
       "27293   1.87      Ideal     H     VS1   59.7   60.0  17761  7.98  8.04  4.78"
      ]
     },
     "execution_count": 3,
     "metadata": {},
     "output_type": "execute_result"
    }
   ],
   "source": [
    "# look at dataset\n",
    "Diamonds.head()"
   ]
  },
  {
   "cell_type": "markdown",
   "id": "8591ca66",
   "metadata": {},
   "source": [
    "---\n",
    "## Predict the price of diamonds with these variables:\n",
    "- `carat`\n",
    "- `cut`\n",
    "- `color`\n",
    "- `clarity`"
   ]
  },
  {
   "cell_type": "code",
   "execution_count": 4,
   "id": "4ac43173",
   "metadata": {},
   "outputs": [
    {
     "data": {
      "text/plain": [
       "carat       float64\n",
       "cut        category\n",
       "color      category\n",
       "clarity    category\n",
       "depth       float64\n",
       "table       float64\n",
       "price         int64\n",
       "x           float64\n",
       "y           float64\n",
       "z           float64\n",
       "dtype: object"
      ]
     },
     "execution_count": 4,
     "metadata": {},
     "output_type": "execute_result"
    }
   ],
   "source": [
    "# list the datatypes of all variables\n",
    "Diamonds.dtypes"
   ]
  },
  {
   "cell_type": "markdown",
   "id": "de07e5c1",
   "metadata": {},
   "source": [
    "## Recode variables\n",
    "For linear regression, you cannot have any non-number values in your dataset. Recode the categories to numbers.\n",
    "\n",
    "*_Note: `carat` is already numeric, so will not need to be recoded_"
   ]
  },
  {
   "cell_type": "markdown",
   "id": "2f2c5dbd",
   "metadata": {},
   "source": [
    "### Recode `cut`"
   ]
  },
  {
   "cell_type": "code",
   "execution_count": 5,
   "id": "438251c8",
   "metadata": {},
   "outputs": [
    {
     "data": {
      "text/plain": [
       "Ideal        21551\n",
       "Premium      13791\n",
       "Very Good    12082\n",
       "Good          4906\n",
       "Fair          1610\n",
       "Name: cut, dtype: int64"
      ]
     },
     "execution_count": 5,
     "metadata": {},
     "output_type": "execute_result"
    }
   ],
   "source": [
    "# list the value counts for 'cut'\n",
    "Diamonds.cut.value_counts()"
   ]
  },
  {
   "cell_type": "code",
   "execution_count": 6,
   "id": "da5732fd",
   "metadata": {},
   "outputs": [],
   "source": [
    "# recode function\n",
    "def cutRecode (series):\n",
    "    if series == \"Ideal\":\n",
    "        return 0\n",
    "    if series == \"Premium\":\n",
    "        return 1\n",
    "    if series == \"Very Good\":\n",
    "        return 2\n",
    "    if series == \"Good\":\n",
    "        return 3\n",
    "    if series == \"Fair\":\n",
    "        return 4\n",
    "Diamonds['cutRecode'] = Diamonds['cut'].apply(cutRecode)"
   ]
  },
  {
   "cell_type": "code",
   "execution_count": 7,
   "id": "bba2f2ac",
   "metadata": {},
   "outputs": [
    {
     "data": {
      "text/html": [
       "<div>\n",
       "<style scoped>\n",
       "    .dataframe tbody tr th:only-of-type {\n",
       "        vertical-align: middle;\n",
       "    }\n",
       "\n",
       "    .dataframe tbody tr th {\n",
       "        vertical-align: top;\n",
       "    }\n",
       "\n",
       "    .dataframe thead th {\n",
       "        text-align: right;\n",
       "    }\n",
       "</style>\n",
       "<table border=\"1\" class=\"dataframe\">\n",
       "  <thead>\n",
       "    <tr style=\"text-align: right;\">\n",
       "      <th></th>\n",
       "      <th>carat</th>\n",
       "      <th>cut</th>\n",
       "      <th>color</th>\n",
       "      <th>clarity</th>\n",
       "      <th>depth</th>\n",
       "      <th>table</th>\n",
       "      <th>price</th>\n",
       "      <th>x</th>\n",
       "      <th>y</th>\n",
       "      <th>z</th>\n",
       "      <th>cutRecode</th>\n",
       "    </tr>\n",
       "  </thead>\n",
       "  <tbody>\n",
       "    <tr>\n",
       "      <th>43173</th>\n",
       "      <td>0.54</td>\n",
       "      <td>Premium</td>\n",
       "      <td>I</td>\n",
       "      <td>VS1</td>\n",
       "      <td>61.5</td>\n",
       "      <td>58.0</td>\n",
       "      <td>1389</td>\n",
       "      <td>5.28</td>\n",
       "      <td>5.26</td>\n",
       "      <td>3.24</td>\n",
       "      <td>1</td>\n",
       "    </tr>\n",
       "    <tr>\n",
       "      <th>23375</th>\n",
       "      <td>0.33</td>\n",
       "      <td>Very Good</td>\n",
       "      <td>D</td>\n",
       "      <td>SI2</td>\n",
       "      <td>63.3</td>\n",
       "      <td>53.0</td>\n",
       "      <td>631</td>\n",
       "      <td>4.42</td>\n",
       "      <td>4.39</td>\n",
       "      <td>2.79</td>\n",
       "      <td>2</td>\n",
       "    </tr>\n",
       "    <tr>\n",
       "      <th>6542</th>\n",
       "      <td>1.01</td>\n",
       "      <td>Very Good</td>\n",
       "      <td>F</td>\n",
       "      <td>SI2</td>\n",
       "      <td>63.1</td>\n",
       "      <td>57.0</td>\n",
       "      <td>4072</td>\n",
       "      <td>6.37</td>\n",
       "      <td>6.30</td>\n",
       "      <td>4.00</td>\n",
       "      <td>2</td>\n",
       "    </tr>\n",
       "    <tr>\n",
       "      <th>35399</th>\n",
       "      <td>0.39</td>\n",
       "      <td>Very Good</td>\n",
       "      <td>E</td>\n",
       "      <td>VS1</td>\n",
       "      <td>60.0</td>\n",
       "      <td>59.0</td>\n",
       "      <td>900</td>\n",
       "      <td>4.76</td>\n",
       "      <td>4.80</td>\n",
       "      <td>2.87</td>\n",
       "      <td>2</td>\n",
       "    </tr>\n",
       "    <tr>\n",
       "      <th>27293</th>\n",
       "      <td>1.87</td>\n",
       "      <td>Ideal</td>\n",
       "      <td>H</td>\n",
       "      <td>VS1</td>\n",
       "      <td>59.7</td>\n",
       "      <td>60.0</td>\n",
       "      <td>17761</td>\n",
       "      <td>7.98</td>\n",
       "      <td>8.04</td>\n",
       "      <td>4.78</td>\n",
       "      <td>0</td>\n",
       "    </tr>\n",
       "  </tbody>\n",
       "</table>\n",
       "</div>"
      ],
      "text/plain": [
       "       carat        cut color clarity  depth  table  price     x     y     z  \\\n",
       "43173   0.54    Premium     I     VS1   61.5   58.0   1389  5.28  5.26  3.24   \n",
       "23375   0.33  Very Good     D     SI2   63.3   53.0    631  4.42  4.39  2.79   \n",
       "6542    1.01  Very Good     F     SI2   63.1   57.0   4072  6.37  6.30  4.00   \n",
       "35399   0.39  Very Good     E     VS1   60.0   59.0    900  4.76  4.80  2.87   \n",
       "27293   1.87      Ideal     H     VS1   59.7   60.0  17761  7.98  8.04  4.78   \n",
       "\n",
       "      cutRecode  \n",
       "43173         1  \n",
       "23375         2  \n",
       "6542          2  \n",
       "35399         2  \n",
       "27293         0  "
      ]
     },
     "execution_count": 7,
     "metadata": {},
     "output_type": "execute_result"
    }
   ],
   "source": [
    "# inspect result\n",
    "Diamonds.head()"
   ]
  },
  {
   "cell_type": "markdown",
   "id": "451318f0",
   "metadata": {},
   "source": [
    "### Recode `color`"
   ]
  },
  {
   "cell_type": "code",
   "execution_count": 8,
   "id": "55419ac4",
   "metadata": {},
   "outputs": [
    {
     "data": {
      "text/plain": [
       "G    11292\n",
       "E     9797\n",
       "F     9542\n",
       "H     8304\n",
       "D     6775\n",
       "I     5422\n",
       "J     2808\n",
       "Name: color, dtype: int64"
      ]
     },
     "execution_count": 8,
     "metadata": {},
     "output_type": "execute_result"
    }
   ],
   "source": [
    "# list the value counts for 'cut'\n",
    "Diamonds.color.value_counts()"
   ]
  },
  {
   "cell_type": "code",
   "execution_count": 9,
   "id": "7eae51ba",
   "metadata": {},
   "outputs": [],
   "source": [
    "# recode function\n",
    "def colorRecode (series):\n",
    "    if series == \"G\":\n",
    "        return 5\n",
    "    if series == \"E\":\n",
    "        return 6\n",
    "    if series == \"F\":\n",
    "        return 7\n",
    "    if series == \"H\":\n",
    "        return 8\n",
    "    if series == \"D\":\n",
    "        return 9\n",
    "    if series == \"I\":\n",
    "        return 10\n",
    "    if series == \"J\":\n",
    "        return 11\n",
    "Diamonds['colorRecode'] = Diamonds['color'].apply(colorRecode)"
   ]
  },
  {
   "cell_type": "code",
   "execution_count": 10,
   "id": "a49e1c59",
   "metadata": {},
   "outputs": [
    {
     "data": {
      "text/html": [
       "<div>\n",
       "<style scoped>\n",
       "    .dataframe tbody tr th:only-of-type {\n",
       "        vertical-align: middle;\n",
       "    }\n",
       "\n",
       "    .dataframe tbody tr th {\n",
       "        vertical-align: top;\n",
       "    }\n",
       "\n",
       "    .dataframe thead th {\n",
       "        text-align: right;\n",
       "    }\n",
       "</style>\n",
       "<table border=\"1\" class=\"dataframe\">\n",
       "  <thead>\n",
       "    <tr style=\"text-align: right;\">\n",
       "      <th></th>\n",
       "      <th>carat</th>\n",
       "      <th>cut</th>\n",
       "      <th>color</th>\n",
       "      <th>clarity</th>\n",
       "      <th>depth</th>\n",
       "      <th>table</th>\n",
       "      <th>price</th>\n",
       "      <th>x</th>\n",
       "      <th>y</th>\n",
       "      <th>z</th>\n",
       "      <th>cutRecode</th>\n",
       "      <th>colorRecode</th>\n",
       "    </tr>\n",
       "  </thead>\n",
       "  <tbody>\n",
       "    <tr>\n",
       "      <th>43173</th>\n",
       "      <td>0.54</td>\n",
       "      <td>Premium</td>\n",
       "      <td>I</td>\n",
       "      <td>VS1</td>\n",
       "      <td>61.5</td>\n",
       "      <td>58.0</td>\n",
       "      <td>1389</td>\n",
       "      <td>5.28</td>\n",
       "      <td>5.26</td>\n",
       "      <td>3.24</td>\n",
       "      <td>1</td>\n",
       "      <td>10</td>\n",
       "    </tr>\n",
       "    <tr>\n",
       "      <th>23375</th>\n",
       "      <td>0.33</td>\n",
       "      <td>Very Good</td>\n",
       "      <td>D</td>\n",
       "      <td>SI2</td>\n",
       "      <td>63.3</td>\n",
       "      <td>53.0</td>\n",
       "      <td>631</td>\n",
       "      <td>4.42</td>\n",
       "      <td>4.39</td>\n",
       "      <td>2.79</td>\n",
       "      <td>2</td>\n",
       "      <td>9</td>\n",
       "    </tr>\n",
       "    <tr>\n",
       "      <th>6542</th>\n",
       "      <td>1.01</td>\n",
       "      <td>Very Good</td>\n",
       "      <td>F</td>\n",
       "      <td>SI2</td>\n",
       "      <td>63.1</td>\n",
       "      <td>57.0</td>\n",
       "      <td>4072</td>\n",
       "      <td>6.37</td>\n",
       "      <td>6.30</td>\n",
       "      <td>4.00</td>\n",
       "      <td>2</td>\n",
       "      <td>7</td>\n",
       "    </tr>\n",
       "    <tr>\n",
       "      <th>35399</th>\n",
       "      <td>0.39</td>\n",
       "      <td>Very Good</td>\n",
       "      <td>E</td>\n",
       "      <td>VS1</td>\n",
       "      <td>60.0</td>\n",
       "      <td>59.0</td>\n",
       "      <td>900</td>\n",
       "      <td>4.76</td>\n",
       "      <td>4.80</td>\n",
       "      <td>2.87</td>\n",
       "      <td>2</td>\n",
       "      <td>6</td>\n",
       "    </tr>\n",
       "    <tr>\n",
       "      <th>27293</th>\n",
       "      <td>1.87</td>\n",
       "      <td>Ideal</td>\n",
       "      <td>H</td>\n",
       "      <td>VS1</td>\n",
       "      <td>59.7</td>\n",
       "      <td>60.0</td>\n",
       "      <td>17761</td>\n",
       "      <td>7.98</td>\n",
       "      <td>8.04</td>\n",
       "      <td>4.78</td>\n",
       "      <td>0</td>\n",
       "      <td>8</td>\n",
       "    </tr>\n",
       "  </tbody>\n",
       "</table>\n",
       "</div>"
      ],
      "text/plain": [
       "       carat        cut color clarity  depth  table  price     x     y     z  \\\n",
       "43173   0.54    Premium     I     VS1   61.5   58.0   1389  5.28  5.26  3.24   \n",
       "23375   0.33  Very Good     D     SI2   63.3   53.0    631  4.42  4.39  2.79   \n",
       "6542    1.01  Very Good     F     SI2   63.1   57.0   4072  6.37  6.30  4.00   \n",
       "35399   0.39  Very Good     E     VS1   60.0   59.0    900  4.76  4.80  2.87   \n",
       "27293   1.87      Ideal     H     VS1   59.7   60.0  17761  7.98  8.04  4.78   \n",
       "\n",
       "      cutRecode colorRecode  \n",
       "43173         1          10  \n",
       "23375         2           9  \n",
       "6542          2           7  \n",
       "35399         2           6  \n",
       "27293         0           8  "
      ]
     },
     "execution_count": 10,
     "metadata": {},
     "output_type": "execute_result"
    }
   ],
   "source": [
    "# inspect result\n",
    "Diamonds.head()"
   ]
  },
  {
   "cell_type": "markdown",
   "id": "514cca0b",
   "metadata": {},
   "source": [
    "### Recode `clarity`"
   ]
  },
  {
   "cell_type": "code",
   "execution_count": 11,
   "id": "5f6b0720",
   "metadata": {},
   "outputs": [
    {
     "data": {
      "text/plain": [
       "SI1     13065\n",
       "VS2     12258\n",
       "SI2      9194\n",
       "VS1      8171\n",
       "VVS2     5066\n",
       "VVS1     3655\n",
       "IF       1790\n",
       "I1        741\n",
       "Name: clarity, dtype: int64"
      ]
     },
     "execution_count": 11,
     "metadata": {},
     "output_type": "execute_result"
    }
   ],
   "source": [
    "# list the value counts for 'cut'\n",
    "Diamonds.clarity.value_counts()"
   ]
  },
  {
   "cell_type": "code",
   "execution_count": 12,
   "id": "7f65d035",
   "metadata": {},
   "outputs": [],
   "source": [
    "# recode function\n",
    "def clarityRecode (series):\n",
    "    if series == \"SI1\":\n",
    "        return 12\n",
    "    if series == \"VS2\":\n",
    "        return 13\n",
    "    if series == \"SI2\":\n",
    "        return 14\n",
    "    if series == \"VS1\":\n",
    "        return 15\n",
    "    if series == \"VVS2\":\n",
    "        return 16\n",
    "    if series == \"VVS1\":\n",
    "        return 17\n",
    "    if series == \"IF\":\n",
    "        return 18\n",
    "    if series == \"I1\":\n",
    "        return 19\n",
    "Diamonds['clarityRecode'] = Diamonds['clarity'].apply(clarityRecode)"
   ]
  },
  {
   "cell_type": "code",
   "execution_count": 13,
   "id": "79d67959",
   "metadata": {},
   "outputs": [
    {
     "data": {
      "text/html": [
       "<div>\n",
       "<style scoped>\n",
       "    .dataframe tbody tr th:only-of-type {\n",
       "        vertical-align: middle;\n",
       "    }\n",
       "\n",
       "    .dataframe tbody tr th {\n",
       "        vertical-align: top;\n",
       "    }\n",
       "\n",
       "    .dataframe thead th {\n",
       "        text-align: right;\n",
       "    }\n",
       "</style>\n",
       "<table border=\"1\" class=\"dataframe\">\n",
       "  <thead>\n",
       "    <tr style=\"text-align: right;\">\n",
       "      <th></th>\n",
       "      <th>carat</th>\n",
       "      <th>cut</th>\n",
       "      <th>color</th>\n",
       "      <th>clarity</th>\n",
       "      <th>depth</th>\n",
       "      <th>table</th>\n",
       "      <th>price</th>\n",
       "      <th>x</th>\n",
       "      <th>y</th>\n",
       "      <th>z</th>\n",
       "      <th>cutRecode</th>\n",
       "      <th>colorRecode</th>\n",
       "      <th>clarityRecode</th>\n",
       "    </tr>\n",
       "  </thead>\n",
       "  <tbody>\n",
       "    <tr>\n",
       "      <th>43173</th>\n",
       "      <td>0.54</td>\n",
       "      <td>Premium</td>\n",
       "      <td>I</td>\n",
       "      <td>VS1</td>\n",
       "      <td>61.5</td>\n",
       "      <td>58.0</td>\n",
       "      <td>1389</td>\n",
       "      <td>5.28</td>\n",
       "      <td>5.26</td>\n",
       "      <td>3.24</td>\n",
       "      <td>1</td>\n",
       "      <td>10</td>\n",
       "      <td>15</td>\n",
       "    </tr>\n",
       "    <tr>\n",
       "      <th>23375</th>\n",
       "      <td>0.33</td>\n",
       "      <td>Very Good</td>\n",
       "      <td>D</td>\n",
       "      <td>SI2</td>\n",
       "      <td>63.3</td>\n",
       "      <td>53.0</td>\n",
       "      <td>631</td>\n",
       "      <td>4.42</td>\n",
       "      <td>4.39</td>\n",
       "      <td>2.79</td>\n",
       "      <td>2</td>\n",
       "      <td>9</td>\n",
       "      <td>14</td>\n",
       "    </tr>\n",
       "    <tr>\n",
       "      <th>6542</th>\n",
       "      <td>1.01</td>\n",
       "      <td>Very Good</td>\n",
       "      <td>F</td>\n",
       "      <td>SI2</td>\n",
       "      <td>63.1</td>\n",
       "      <td>57.0</td>\n",
       "      <td>4072</td>\n",
       "      <td>6.37</td>\n",
       "      <td>6.30</td>\n",
       "      <td>4.00</td>\n",
       "      <td>2</td>\n",
       "      <td>7</td>\n",
       "      <td>14</td>\n",
       "    </tr>\n",
       "    <tr>\n",
       "      <th>35399</th>\n",
       "      <td>0.39</td>\n",
       "      <td>Very Good</td>\n",
       "      <td>E</td>\n",
       "      <td>VS1</td>\n",
       "      <td>60.0</td>\n",
       "      <td>59.0</td>\n",
       "      <td>900</td>\n",
       "      <td>4.76</td>\n",
       "      <td>4.80</td>\n",
       "      <td>2.87</td>\n",
       "      <td>2</td>\n",
       "      <td>6</td>\n",
       "      <td>15</td>\n",
       "    </tr>\n",
       "    <tr>\n",
       "      <th>27293</th>\n",
       "      <td>1.87</td>\n",
       "      <td>Ideal</td>\n",
       "      <td>H</td>\n",
       "      <td>VS1</td>\n",
       "      <td>59.7</td>\n",
       "      <td>60.0</td>\n",
       "      <td>17761</td>\n",
       "      <td>7.98</td>\n",
       "      <td>8.04</td>\n",
       "      <td>4.78</td>\n",
       "      <td>0</td>\n",
       "      <td>8</td>\n",
       "      <td>15</td>\n",
       "    </tr>\n",
       "  </tbody>\n",
       "</table>\n",
       "</div>"
      ],
      "text/plain": [
       "       carat        cut color clarity  depth  table  price     x     y     z  \\\n",
       "43173   0.54    Premium     I     VS1   61.5   58.0   1389  5.28  5.26  3.24   \n",
       "23375   0.33  Very Good     D     SI2   63.3   53.0    631  4.42  4.39  2.79   \n",
       "6542    1.01  Very Good     F     SI2   63.1   57.0   4072  6.37  6.30  4.00   \n",
       "35399   0.39  Very Good     E     VS1   60.0   59.0    900  4.76  4.80  2.87   \n",
       "27293   1.87      Ideal     H     VS1   59.7   60.0  17761  7.98  8.04  4.78   \n",
       "\n",
       "      cutRecode colorRecode clarityRecode  \n",
       "43173         1          10            15  \n",
       "23375         2           9            14  \n",
       "6542          2           7            14  \n",
       "35399         2           6            15  \n",
       "27293         0           8            15  "
      ]
     },
     "execution_count": 13,
     "metadata": {},
     "output_type": "execute_result"
    }
   ],
   "source": [
    "# inspect result\n",
    "Diamonds.head()"
   ]
  },
  {
   "cell_type": "markdown",
   "id": "4b1bdfb1",
   "metadata": {},
   "source": [
    "---\n",
    "## Set **predictive (`x`)** and **target (`y`) variables**"
   ]
  },
  {
   "cell_type": "code",
   "execution_count": 14,
   "id": "4b66895d",
   "metadata": {},
   "outputs": [],
   "source": [
    "# predictive variables\n",
    "x = Diamonds[['carat', 'cutRecode', 'colorRecode', 'clarityRecode']]\n",
    "\n",
    "# target variable (what you are trying to predict)\n",
    "y = Diamonds['price']"
   ]
  },
  {
   "cell_type": "markdown",
   "id": "c7703879",
   "metadata": {},
   "source": [
    "---\n",
    "## Modeling with `train_test_split()`"
   ]
  },
  {
   "cell_type": "code",
   "execution_count": 15,
   "id": "659e47f9",
   "metadata": {},
   "outputs": [],
   "source": [
    "# `test_size= .4` because you are using a 60/40 train/test split\n",
    "x_train, x_test, y_train, y_test = train_test_split(x,y, test_size = .4)"
   ]
  },
  {
   "cell_type": "code",
   "execution_count": 16,
   "id": "2f3d8cfa",
   "metadata": {},
   "outputs": [
    {
     "name": "stdout",
     "output_type": "stream",
     "text": [
      "(32364, 4) (32364,)\n",
      "(21576, 4) (21576,)\n"
     ]
    }
   ],
   "source": [
    "# to see the shape of the data\n",
    "print(x_train.shape, y_train.shape)\n",
    "print(x_test.shape, y_test.shape)"
   ]
  },
  {
   "cell_type": "markdown",
   "id": "93198b6d",
   "metadata": {},
   "source": [
    "---\n",
    "## Linear Regression Model"
   ]
  },
  {
   "cell_type": "code",
   "execution_count": 17,
   "id": "4a5fd7c7",
   "metadata": {},
   "outputs": [
    {
     "data": {
      "text/plain": [
       "LinearRegression()"
      ]
     },
     "execution_count": 17,
     "metadata": {},
     "output_type": "execute_result"
    }
   ],
   "source": [
    "# run linear regression model\n",
    "lm = LinearRegression()\n",
    "lm.fit(x_train, y_train)"
   ]
  },
  {
   "cell_type": "markdown",
   "id": "7011c1e1",
   "metadata": {},
   "source": [
    "---\n",
    "## Examine predictions"
   ]
  },
  {
   "cell_type": "code",
   "execution_count": 18,
   "id": "495a1c0a",
   "metadata": {},
   "outputs": [
    {
     "data": {
      "text/plain": [
       "array([2398.7786883 , 9580.85125486, 1409.24522519, ..., 4503.28759385,\n",
       "       3007.24852689, 3188.21138882])"
      ]
     },
     "execution_count": 18,
     "metadata": {},
     "output_type": "execute_result"
    }
   ],
   "source": [
    "# see predictions from model\n",
    "predictions = lm.predict(x_test)\n",
    "predictions"
   ]
  },
  {
   "cell_type": "markdown",
   "id": "b01c12ac",
   "metadata": {},
   "source": [
    "---\n",
    "## Plot predicitons for visual inspection"
   ]
  },
  {
   "cell_type": "code",
   "execution_count": 19,
   "id": "7b75b049",
   "metadata": {},
   "outputs": [
    {
     "data": {
      "text/plain": [
       "<matplotlib.collections.PathCollection at 0x7fc3580ec670>"
      ]
     },
     "execution_count": 19,
     "metadata": {},
     "output_type": "execute_result"
    },
    {
     "data": {
      "image/png": "[encoded data removed]",
      "text/plain": [
       "<Figure size 432x288 with 1 Axes>"
      ]
     },
     "metadata": {
      "needs_background": "light"
     },
     "output_type": "display_data"
    }
   ],
   "source": [
    "# plot the predictions\n",
    "plt.scatter(y_test, predictions)"
   ]
  },
  {
   "cell_type": "markdown",
   "id": "cb92173b",
   "metadata": {},
   "source": [
    "---\n",
    "## Accuracy score"
   ]
  },
  {
   "cell_type": "code",
   "execution_count": 20,
   "id": "c44cec46",
   "metadata": {},
   "outputs": [
    {
     "name": "stdout",
     "output_type": "stream",
     "text": [
      "Score: 0.8592208411049045\n"
     ]
    }
   ],
   "source": [
    "# Accuracy score\n",
    "print(\"Score:\", lm.score(x_test, y_test))"
   ]
  },
  {
   "cell_type": "markdown",
   "id": "59c96910",
   "metadata": {},
   "source": [
    "#### Conclusion: This model accurately predicts the price of diamonds about 86% of the time."
   ]
  },
  {
   "cell_type": "markdown",
   "id": "77a17a50",
   "metadata": {},
   "source": [
    "---\n",
    "## Mean Absolute Error (MAE)\n",
    "- the average amount of error between the prediction and the real data. "
   ]
  },
  {
   "cell_type": "code",
   "execution_count": 21,
   "id": "f2647f54",
   "metadata": {},
   "outputs": [
    {
     "data": {
      "text/plain": [
       "961.8211061977559"
      ]
     },
     "execution_count": 21,
     "metadata": {},
     "output_type": "execute_result"
    }
   ],
   "source": [
    "metrics.mean_absolute_error(y_test, predictions)"
   ]
  },
  {
   "cell_type": "markdown",
   "id": "475401f7",
   "metadata": {},
   "source": [
    "##### _Since the lowest you can have is 0, this value indicates the model is not very accurate._"
   ]
  },
  {
   "cell_type": "markdown",
   "id": "429f4ecd",
   "metadata": {},
   "source": [
    "---\n",
    "## Mean Squared Error (MSE)\n",
    "- the square of the absolute error from above. It's a good one to use because it takes into account large amounts of error, which often happens in the real world."
   ]
  },
  {
   "cell_type": "code",
   "execution_count": 22,
   "id": "99d0342f",
   "metadata": {},
   "outputs": [
    {
     "data": {
      "text/plain": [
       "2189439.1198597387"
      ]
     },
     "execution_count": 22,
     "metadata": {},
     "output_type": "execute_result"
    }
   ],
   "source": [
    "metrics.mean_squared_error(y_test, predictions)"
   ]
  },
  {
   "cell_type": "markdown",
   "id": "5cff50ab",
   "metadata": {},
   "source": [
    "---\n",
    "## Root Mean Squared Error (RMSE)\n",
    "- the square root of the mean squared error you saw above. It is probably the most popular."
   ]
  },
  {
   "cell_type": "code",
   "execution_count": 23,
   "id": "d627fa17",
   "metadata": {},
   "outputs": [
    {
     "data": {
      "text/plain": [
       "1479.6753427220915"
      ]
     },
     "execution_count": 23,
     "metadata": {},
     "output_type": "execute_result"
    }
   ],
   "source": [
    "np.sqrt(metrics.mean_squared_error(y_test, predictions))"
   ]
  },
  {
   "cell_type": "markdown",
   "id": "6fef1e21",
   "metadata": {},
   "source": [
    "##### _Since the lowest you can have is 0, this value indicates the model is not very accurate._"
   ]
  },
  {
   "cell_type": "markdown",
   "id": "880d8bab",
   "metadata": {},
   "source": [
    "---\n",
    "## `k`-fold cross validation"
   ]
  },
  {
   "cell_type": "code",
   "execution_count": 24,
   "id": "2c3a6385",
   "metadata": {},
   "outputs": [
    {
     "name": "stdout",
     "output_type": "stream",
     "text": [
      "train: [    0     1     2 ... 53934 53936 53939], test: [    8    11    13 ... 53935 53937 53938]\n",
      "train: [    2     3     4 ... 53937 53938 53939], test: [    0     1    10 ... 53921 53928 53936]\n",
      "train: [    0     1     2 ... 53937 53938 53939], test: [   14    19    20 ... 53929 53931 53933]\n",
      "train: [    0     1     2 ... 53937 53938 53939], test: [    3     4     5 ... 53917 53922 53930]\n",
      "train: [    0     1     3 ... 53936 53937 53938], test: [    2     7    18 ... 53926 53934 53939]\n"
     ]
    }
   ],
   "source": [
    "# code slightly modified from lesson - \n",
    "# found in DS Student Resources GitHub\n",
    "# k = 5, for 5 iterations\n",
    "kfold = KFold(n_splits= 5, shuffle=True)\n",
    "for train, test in kfold.split(x,y):\n",
    "    print('train: %s, test: %s' % (train,test))"
   ]
  },
  {
   "cell_type": "code",
   "execution_count": 25,
   "id": "0598af7d",
   "metadata": {},
   "outputs": [
    {
     "name": "stdout",
     "output_type": "stream",
     "text": [
      "[0.86623169 0.86149521 0.86424936 0.86581609 0.86208094]\n"
     ]
    }
   ],
   "source": [
    "# run cross-validation from `sklearn`\n",
    "# specifying 5 iterations\n",
    "print(cross_val_score(lm, x,y, cv=5))"
   ]
  },
  {
   "cell_type": "code",
   "execution_count": null,
   "id": "df556e50",
   "metadata": {},
   "outputs": [],
   "source": []
  }
 ],
 "metadata": {
  "kernelspec": {
   "display_name": "Python 3 (ipykernel)",
   "language": "python",
   "name": "python3"
  },
  "language_info": {
   "codemirror_mode": {
    "name": "ipython",
    "version": 3
   },
   "file_extension": ".py",
   "mimetype": "text/x-python",
   "name": "python",
   "nbconvert_exporter": "python",
   "pygments_lexer": "ipython3",
   "version": "3.9.12"
  }
 },
 "nbformat": 4,
 "nbformat_minor": 5
}
