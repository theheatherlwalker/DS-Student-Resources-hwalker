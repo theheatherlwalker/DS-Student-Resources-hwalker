{
 "cells": [
  {
   "cell_type": "markdown",
   "id": "613045ec",
   "metadata": {},
   "source": [
    "# DS106-02-08-ML - Lesson 2 Practice Hands-On\n",
    "---"
   ]
  },
  {
   "cell_type": "markdown",
   "id": "682597fb",
   "metadata": {},
   "source": [
    "## Import Packages"
   ]
  },
  {
   "cell_type": "code",
   "execution_count": 1,
   "id": "62e88fee",
   "metadata": {},
   "outputs": [],
   "source": [
    "# import packages\n",
    "import pandas as pd\n",
    "import numpy as np\n",
    "import matplotlib.pyplot as plt\n",
    "import seaborn as sns\n",
    "%matplotlib inline\n",
    "from sklearn.cluster import KMeans"
   ]
  },
  {
   "cell_type": "markdown",
   "id": "57d06531",
   "metadata": {},
   "source": [
    "---\n",
    "## Load in Data"
   ]
  },
  {
   "cell_type": "code",
   "execution_count": 2,
   "id": "d9292284",
   "metadata": {},
   "outputs": [],
   "source": [
    "# load data -> seaborn dataset `mpg`\n",
    "Mpg = sns.load_dataset('mpg')"
   ]
  },
  {
   "cell_type": "markdown",
   "id": "e4ca54da",
   "metadata": {},
   "source": [
    "---\n",
    "# Goal: determine how cars are grouped together."
   ]
  },
  {
   "cell_type": "markdown",
   "id": "ed460cd8",
   "metadata": {},
   "source": [
    "---\n",
    "## Data Wrangling\n",
    "- The `KMeans()` function cannot handle cells that are strings\n",
    "- If you want to use data in a string variable, you could instead re-code that variable numerically; \n",
    "- If you don't need the string variable, use `drop()`."
   ]
  },
  {
   "cell_type": "code",
   "execution_count": 3,
   "id": "79cd1d66",
   "metadata": {},
   "outputs": [
    {
     "data": {
      "text/html": [
       "<div>\n",
       "<style scoped>\n",
       "    .dataframe tbody tr th:only-of-type {\n",
       "        vertical-align: middle;\n",
       "    }\n",
       "\n",
       "    .dataframe tbody tr th {\n",
       "        vertical-align: top;\n",
       "    }\n",
       "\n",
       "    .dataframe thead th {\n",
       "        text-align: right;\n",
       "    }\n",
       "</style>\n",
       "<table border=\"1\" class=\"dataframe\">\n",
       "  <thead>\n",
       "    <tr style=\"text-align: right;\">\n",
       "      <th></th>\n",
       "      <th>mpg</th>\n",
       "      <th>cylinders</th>\n",
       "      <th>displacement</th>\n",
       "      <th>horsepower</th>\n",
       "      <th>weight</th>\n",
       "      <th>acceleration</th>\n",
       "      <th>model_year</th>\n",
       "      <th>origin</th>\n",
       "      <th>name</th>\n",
       "    </tr>\n",
       "  </thead>\n",
       "  <tbody>\n",
       "    <tr>\n",
       "      <th>0</th>\n",
       "      <td>18.0</td>\n",
       "      <td>8</td>\n",
       "      <td>307.0</td>\n",
       "      <td>130.0</td>\n",
       "      <td>3504</td>\n",
       "      <td>12.0</td>\n",
       "      <td>70</td>\n",
       "      <td>usa</td>\n",
       "      <td>chevrolet chevelle malibu</td>\n",
       "    </tr>\n",
       "    <tr>\n",
       "      <th>1</th>\n",
       "      <td>15.0</td>\n",
       "      <td>8</td>\n",
       "      <td>350.0</td>\n",
       "      <td>165.0</td>\n",
       "      <td>3693</td>\n",
       "      <td>11.5</td>\n",
       "      <td>70</td>\n",
       "      <td>usa</td>\n",
       "      <td>buick skylark 320</td>\n",
       "    </tr>\n",
       "    <tr>\n",
       "      <th>2</th>\n",
       "      <td>18.0</td>\n",
       "      <td>8</td>\n",
       "      <td>318.0</td>\n",
       "      <td>150.0</td>\n",
       "      <td>3436</td>\n",
       "      <td>11.0</td>\n",
       "      <td>70</td>\n",
       "      <td>usa</td>\n",
       "      <td>plymouth satellite</td>\n",
       "    </tr>\n",
       "    <tr>\n",
       "      <th>3</th>\n",
       "      <td>16.0</td>\n",
       "      <td>8</td>\n",
       "      <td>304.0</td>\n",
       "      <td>150.0</td>\n",
       "      <td>3433</td>\n",
       "      <td>12.0</td>\n",
       "      <td>70</td>\n",
       "      <td>usa</td>\n",
       "      <td>amc rebel sst</td>\n",
       "    </tr>\n",
       "    <tr>\n",
       "      <th>4</th>\n",
       "      <td>17.0</td>\n",
       "      <td>8</td>\n",
       "      <td>302.0</td>\n",
       "      <td>140.0</td>\n",
       "      <td>3449</td>\n",
       "      <td>10.5</td>\n",
       "      <td>70</td>\n",
       "      <td>usa</td>\n",
       "      <td>ford torino</td>\n",
       "    </tr>\n",
       "  </tbody>\n",
       "</table>\n",
       "</div>"
      ],
      "text/plain": [
       "    mpg  cylinders  displacement  horsepower  weight  acceleration  \\\n",
       "0  18.0          8         307.0       130.0    3504          12.0   \n",
       "1  15.0          8         350.0       165.0    3693          11.5   \n",
       "2  18.0          8         318.0       150.0    3436          11.0   \n",
       "3  16.0          8         304.0       150.0    3433          12.0   \n",
       "4  17.0          8         302.0       140.0    3449          10.5   \n",
       "\n",
       "   model_year origin                       name  \n",
       "0          70    usa  chevrolet chevelle malibu  \n",
       "1          70    usa          buick skylark 320  \n",
       "2          70    usa         plymouth satellite  \n",
       "3          70    usa              amc rebel sst  \n",
       "4          70    usa                ford torino  "
      ]
     },
     "execution_count": 3,
     "metadata": {},
     "output_type": "execute_result"
    }
   ],
   "source": [
    "# look at dataset\n",
    "Mpg.head()"
   ]
  },
  {
   "cell_type": "code",
   "execution_count": 4,
   "id": "5feb5267",
   "metadata": {},
   "outputs": [
    {
     "data": {
      "text/plain": [
       "mpg             float64\n",
       "cylinders         int64\n",
       "displacement    float64\n",
       "horsepower      float64\n",
       "weight            int64\n",
       "acceleration    float64\n",
       "model_year        int64\n",
       "origin           object\n",
       "name             object\n",
       "dtype: object"
      ]
     },
     "execution_count": 4,
     "metadata": {},
     "output_type": "execute_result"
    }
   ],
   "source": [
    "# list the datatypes of all variables\n",
    "Mpg.dtypes"
   ]
  },
  {
   "cell_type": "markdown",
   "id": "b9ea0dc1",
   "metadata": {},
   "source": [
    "### Drop string variable columns (dytpe: object)"
   ]
  },
  {
   "cell_type": "code",
   "execution_count": 5,
   "id": "6df2da7d",
   "metadata": {},
   "outputs": [
    {
     "data": {
      "text/html": [
       "<div>\n",
       "<style scoped>\n",
       "    .dataframe tbody tr th:only-of-type {\n",
       "        vertical-align: middle;\n",
       "    }\n",
       "\n",
       "    .dataframe tbody tr th {\n",
       "        vertical-align: top;\n",
       "    }\n",
       "\n",
       "    .dataframe thead th {\n",
       "        text-align: right;\n",
       "    }\n",
       "</style>\n",
       "<table border=\"1\" class=\"dataframe\">\n",
       "  <thead>\n",
       "    <tr style=\"text-align: right;\">\n",
       "      <th></th>\n",
       "      <th>mpg</th>\n",
       "      <th>cylinders</th>\n",
       "      <th>displacement</th>\n",
       "      <th>horsepower</th>\n",
       "      <th>weight</th>\n",
       "      <th>acceleration</th>\n",
       "      <th>model_year</th>\n",
       "    </tr>\n",
       "  </thead>\n",
       "  <tbody>\n",
       "    <tr>\n",
       "      <th>0</th>\n",
       "      <td>18.0</td>\n",
       "      <td>8</td>\n",
       "      <td>307.0</td>\n",
       "      <td>130.0</td>\n",
       "      <td>3504</td>\n",
       "      <td>12.0</td>\n",
       "      <td>70</td>\n",
       "    </tr>\n",
       "    <tr>\n",
       "      <th>1</th>\n",
       "      <td>15.0</td>\n",
       "      <td>8</td>\n",
       "      <td>350.0</td>\n",
       "      <td>165.0</td>\n",
       "      <td>3693</td>\n",
       "      <td>11.5</td>\n",
       "      <td>70</td>\n",
       "    </tr>\n",
       "    <tr>\n",
       "      <th>2</th>\n",
       "      <td>18.0</td>\n",
       "      <td>8</td>\n",
       "      <td>318.0</td>\n",
       "      <td>150.0</td>\n",
       "      <td>3436</td>\n",
       "      <td>11.0</td>\n",
       "      <td>70</td>\n",
       "    </tr>\n",
       "    <tr>\n",
       "      <th>3</th>\n",
       "      <td>16.0</td>\n",
       "      <td>8</td>\n",
       "      <td>304.0</td>\n",
       "      <td>150.0</td>\n",
       "      <td>3433</td>\n",
       "      <td>12.0</td>\n",
       "      <td>70</td>\n",
       "    </tr>\n",
       "    <tr>\n",
       "      <th>4</th>\n",
       "      <td>17.0</td>\n",
       "      <td>8</td>\n",
       "      <td>302.0</td>\n",
       "      <td>140.0</td>\n",
       "      <td>3449</td>\n",
       "      <td>10.5</td>\n",
       "      <td>70</td>\n",
       "    </tr>\n",
       "  </tbody>\n",
       "</table>\n",
       "</div>"
      ],
      "text/plain": [
       "    mpg  cylinders  displacement  horsepower  weight  acceleration  model_year\n",
       "0  18.0          8         307.0       130.0    3504          12.0          70\n",
       "1  15.0          8         350.0       165.0    3693          11.5          70\n",
       "2  18.0          8         318.0       150.0    3436          11.0          70\n",
       "3  16.0          8         304.0       150.0    3433          12.0          70\n",
       "4  17.0          8         302.0       140.0    3449          10.5          70"
      ]
     },
     "execution_count": 5,
     "metadata": {},
     "output_type": "execute_result"
    }
   ],
   "source": [
    "# KMeans() cannot use string values\n",
    "# Create a dataframe without column(s) with string variables\n",
    "# (columns with dtype: objects)\n",
    "MpgTrimmed = Mpg.drop(['origin', 'name'], axis=1)\n",
    "MpgTrimmed.head()"
   ]
  },
  {
   "cell_type": "markdown",
   "id": "f2ab5760",
   "metadata": {},
   "source": [
    "### Drop missing values"
   ]
  },
  {
   "cell_type": "code",
   "execution_count": 6,
   "id": "d62b20d1",
   "metadata": {},
   "outputs": [],
   "source": [
    "MpgTrimmed.dropna(inplace=True)"
   ]
  },
  {
   "cell_type": "markdown",
   "id": "2add07f4",
   "metadata": {},
   "source": [
    "### Convert `floats` to `integers`"
   ]
  },
  {
   "cell_type": "code",
   "execution_count": 7,
   "id": "70e412b7",
   "metadata": {},
   "outputs": [
    {
     "data": {
      "text/plain": [
       "mpg             float64\n",
       "cylinders         int64\n",
       "displacement    float64\n",
       "horsepower      float64\n",
       "weight            int64\n",
       "acceleration    float64\n",
       "model_year        int64\n",
       "dtype: object"
      ]
     },
     "execution_count": 7,
     "metadata": {},
     "output_type": "execute_result"
    }
   ],
   "source": [
    "# list the datatypes of all variables\n",
    "MpgTrimmed.dtypes"
   ]
  },
  {
   "cell_type": "code",
   "execution_count": 8,
   "id": "c1c5fd9e",
   "metadata": {},
   "outputs": [],
   "source": [
    "# convert floats to integers\n",
    "MpgTrimmed.mpg = MpgTrimmed.mpg.astype(int)\n",
    "MpgTrimmed.displacement = MpgTrimmed.displacement.astype(int)\n",
    "MpgTrimmed.horsepower = MpgTrimmed.horsepower.astype(int)\n",
    "MpgTrimmed.acceleration = MpgTrimmed.acceleration.astype(int)"
   ]
  },
  {
   "cell_type": "code",
   "execution_count": 9,
   "id": "6e65993b",
   "metadata": {},
   "outputs": [
    {
     "data": {
      "text/plain": [
       "mpg             int64\n",
       "cylinders       int64\n",
       "displacement    int64\n",
       "horsepower      int64\n",
       "weight          int64\n",
       "acceleration    int64\n",
       "model_year      int64\n",
       "dtype: object"
      ]
     },
     "execution_count": 9,
     "metadata": {},
     "output_type": "execute_result"
    }
   ],
   "source": [
    "# confirm conversion\n",
    "MpgTrimmed.dtypes"
   ]
  },
  {
   "cell_type": "markdown",
   "id": "3a9959eb",
   "metadata": {},
   "source": [
    "---\n",
    "## Perform k-Means Clustering\n",
    "Use the function `KMeans()` to specify the number of clusters, and then fit it using `fit()`."
   ]
  },
  {
   "cell_type": "markdown",
   "id": "e69eaacb",
   "metadata": {},
   "source": [
    "---\n",
    "### Testing 2 clusters"
   ]
  },
  {
   "cell_type": "code",
   "execution_count": 10,
   "id": "bd71766f",
   "metadata": {},
   "outputs": [
    {
     "data": {
      "text/plain": [
       "KMeans(n_clusters=2)"
      ]
     },
     "execution_count": 10,
     "metadata": {},
     "output_type": "execute_result"
    }
   ],
   "source": [
    "kmeans = KMeans(n_clusters=2)\n",
    "kmeans.fit(MpgTrimmed)"
   ]
  },
  {
   "cell_type": "markdown",
   "id": "561e0337",
   "metadata": {},
   "source": [
    "**Utilizing k-Means:** Find `kmeans` and add back to the dataframe."
   ]
  },
  {
   "cell_type": "code",
   "execution_count": 11,
   "id": "c7a66d38",
   "metadata": {},
   "outputs": [],
   "source": [
    "MpgTrimmed['Group'] = kmeans.labels_"
   ]
  },
  {
   "cell_type": "code",
   "execution_count": 12,
   "id": "85c9d992",
   "metadata": {},
   "outputs": [
    {
     "data": {
      "text/html": [
       "<div>\n",
       "<style scoped>\n",
       "    .dataframe tbody tr th:only-of-type {\n",
       "        vertical-align: middle;\n",
       "    }\n",
       "\n",
       "    .dataframe tbody tr th {\n",
       "        vertical-align: top;\n",
       "    }\n",
       "\n",
       "    .dataframe thead th {\n",
       "        text-align: right;\n",
       "    }\n",
       "</style>\n",
       "<table border=\"1\" class=\"dataframe\">\n",
       "  <thead>\n",
       "    <tr style=\"text-align: right;\">\n",
       "      <th></th>\n",
       "      <th>mpg</th>\n",
       "      <th>cylinders</th>\n",
       "      <th>displacement</th>\n",
       "      <th>horsepower</th>\n",
       "      <th>weight</th>\n",
       "      <th>acceleration</th>\n",
       "      <th>model_year</th>\n",
       "      <th>Group</th>\n",
       "    </tr>\n",
       "  </thead>\n",
       "  <tbody>\n",
       "    <tr>\n",
       "      <th>0</th>\n",
       "      <td>18</td>\n",
       "      <td>8</td>\n",
       "      <td>307</td>\n",
       "      <td>130</td>\n",
       "      <td>3504</td>\n",
       "      <td>12</td>\n",
       "      <td>70</td>\n",
       "      <td>1</td>\n",
       "    </tr>\n",
       "    <tr>\n",
       "      <th>1</th>\n",
       "      <td>15</td>\n",
       "      <td>8</td>\n",
       "      <td>350</td>\n",
       "      <td>165</td>\n",
       "      <td>3693</td>\n",
       "      <td>11</td>\n",
       "      <td>70</td>\n",
       "      <td>1</td>\n",
       "    </tr>\n",
       "    <tr>\n",
       "      <th>2</th>\n",
       "      <td>18</td>\n",
       "      <td>8</td>\n",
       "      <td>318</td>\n",
       "      <td>150</td>\n",
       "      <td>3436</td>\n",
       "      <td>11</td>\n",
       "      <td>70</td>\n",
       "      <td>1</td>\n",
       "    </tr>\n",
       "    <tr>\n",
       "      <th>3</th>\n",
       "      <td>16</td>\n",
       "      <td>8</td>\n",
       "      <td>304</td>\n",
       "      <td>150</td>\n",
       "      <td>3433</td>\n",
       "      <td>12</td>\n",
       "      <td>70</td>\n",
       "      <td>1</td>\n",
       "    </tr>\n",
       "    <tr>\n",
       "      <th>4</th>\n",
       "      <td>17</td>\n",
       "      <td>8</td>\n",
       "      <td>302</td>\n",
       "      <td>140</td>\n",
       "      <td>3449</td>\n",
       "      <td>10</td>\n",
       "      <td>70</td>\n",
       "      <td>1</td>\n",
       "    </tr>\n",
       "  </tbody>\n",
       "</table>\n",
       "</div>"
      ],
      "text/plain": [
       "   mpg  cylinders  displacement  horsepower  weight  acceleration  model_year  \\\n",
       "0   18          8           307         130    3504            12          70   \n",
       "1   15          8           350         165    3693            11          70   \n",
       "2   18          8           318         150    3436            11          70   \n",
       "3   16          8           304         150    3433            12          70   \n",
       "4   17          8           302         140    3449            10          70   \n",
       "\n",
       "   Group  \n",
       "0      1  \n",
       "1      1  \n",
       "2      1  \n",
       "3      1  \n",
       "4      1  "
      ]
     },
     "execution_count": 12,
     "metadata": {},
     "output_type": "execute_result"
    }
   ],
   "source": [
    "# view results\n",
    "MpgTrimmed.head()"
   ]
  },
  {
   "cell_type": "code",
   "execution_count": 13,
   "id": "8dce818d",
   "metadata": {},
   "outputs": [
    {
     "data": {
      "text/html": [
       "<div>\n",
       "<style scoped>\n",
       "    .dataframe tbody tr th:only-of-type {\n",
       "        vertical-align: middle;\n",
       "    }\n",
       "\n",
       "    .dataframe tbody tr th {\n",
       "        vertical-align: top;\n",
       "    }\n",
       "\n",
       "    .dataframe thead th {\n",
       "        text-align: right;\n",
       "    }\n",
       "</style>\n",
       "<table border=\"1\" class=\"dataframe\">\n",
       "  <thead>\n",
       "    <tr style=\"text-align: right;\">\n",
       "      <th></th>\n",
       "      <th>mpg</th>\n",
       "      <th>cylinders</th>\n",
       "      <th>displacement</th>\n",
       "      <th>horsepower</th>\n",
       "      <th>weight</th>\n",
       "      <th>acceleration</th>\n",
       "      <th>model_year</th>\n",
       "    </tr>\n",
       "    <tr>\n",
       "      <th>Group</th>\n",
       "      <th></th>\n",
       "      <th></th>\n",
       "      <th></th>\n",
       "      <th></th>\n",
       "      <th></th>\n",
       "      <th></th>\n",
       "      <th></th>\n",
       "    </tr>\n",
       "  </thead>\n",
       "  <tbody>\n",
       "    <tr>\n",
       "      <th>0</th>\n",
       "      <td>27.889831</td>\n",
       "      <td>4.305085</td>\n",
       "      <td>123.521186</td>\n",
       "      <td>82.593220</td>\n",
       "      <td>2381.381356</td>\n",
       "      <td>15.813559</td>\n",
       "      <td>76.783898</td>\n",
       "    </tr>\n",
       "    <tr>\n",
       "      <th>1</th>\n",
       "      <td>16.314103</td>\n",
       "      <td>7.237179</td>\n",
       "      <td>301.653846</td>\n",
       "      <td>137.564103</td>\n",
       "      <td>3879.532051</td>\n",
       "      <td>14.237179</td>\n",
       "      <td>74.762821</td>\n",
       "    </tr>\n",
       "  </tbody>\n",
       "</table>\n",
       "</div>"
      ],
      "text/plain": [
       "             mpg  cylinders  displacement  horsepower       weight  \\\n",
       "Group                                                                \n",
       "0      27.889831   4.305085    123.521186   82.593220  2381.381356   \n",
       "1      16.314103   7.237179    301.653846  137.564103  3879.532051   \n",
       "\n",
       "       acceleration  model_year  \n",
       "Group                            \n",
       "0         15.813559   76.783898  \n",
       "1         14.237179   74.762821  "
      ]
     },
     "execution_count": 13,
     "metadata": {},
     "output_type": "execute_result"
    }
   ],
   "source": [
    "# condensing the results\n",
    "MpgTrimmed.groupby('Group').mean()"
   ]
  },
  {
   "cell_type": "markdown",
   "id": "4d8cefa0",
   "metadata": {},
   "source": [
    "#### _Conclusion for 2 clusters:_ clear division on each variable."
   ]
  },
  {
   "cell_type": "markdown",
   "id": "79adc80c",
   "metadata": {},
   "source": [
    "---\n",
    "### Testing 2 clusters"
   ]
  },
  {
   "cell_type": "code",
   "execution_count": 14,
   "id": "34c5f39a",
   "metadata": {},
   "outputs": [
    {
     "data": {
      "text/plain": [
       "KMeans(n_clusters=3)"
      ]
     },
     "execution_count": 14,
     "metadata": {},
     "output_type": "execute_result"
    }
   ],
   "source": [
    "kmeans = KMeans(n_clusters=3)\n",
    "kmeans.fit(MpgTrimmed)"
   ]
  },
  {
   "cell_type": "code",
   "execution_count": 15,
   "id": "03762b92",
   "metadata": {},
   "outputs": [],
   "source": [
    "MpgTrimmed['Group'] = kmeans.labels_"
   ]
  },
  {
   "cell_type": "code",
   "execution_count": 16,
   "id": "fbc606ea",
   "metadata": {},
   "outputs": [
    {
     "data": {
      "text/html": [
       "<div>\n",
       "<style scoped>\n",
       "    .dataframe tbody tr th:only-of-type {\n",
       "        vertical-align: middle;\n",
       "    }\n",
       "\n",
       "    .dataframe tbody tr th {\n",
       "        vertical-align: top;\n",
       "    }\n",
       "\n",
       "    .dataframe thead th {\n",
       "        text-align: right;\n",
       "    }\n",
       "</style>\n",
       "<table border=\"1\" class=\"dataframe\">\n",
       "  <thead>\n",
       "    <tr style=\"text-align: right;\">\n",
       "      <th></th>\n",
       "      <th>mpg</th>\n",
       "      <th>cylinders</th>\n",
       "      <th>displacement</th>\n",
       "      <th>horsepower</th>\n",
       "      <th>weight</th>\n",
       "      <th>acceleration</th>\n",
       "      <th>model_year</th>\n",
       "    </tr>\n",
       "    <tr>\n",
       "      <th>Group</th>\n",
       "      <th></th>\n",
       "      <th></th>\n",
       "      <th></th>\n",
       "      <th></th>\n",
       "      <th></th>\n",
       "      <th></th>\n",
       "      <th></th>\n",
       "    </tr>\n",
       "  </thead>\n",
       "  <tbody>\n",
       "    <tr>\n",
       "      <th>0</th>\n",
       "      <td>20.590164</td>\n",
       "      <td>5.819672</td>\n",
       "      <td>212.614754</td>\n",
       "      <td>105.401639</td>\n",
       "      <td>3162.581967</td>\n",
       "      <td>15.516393</td>\n",
       "      <td>76.352459</td>\n",
       "    </tr>\n",
       "    <tr>\n",
       "      <th>1</th>\n",
       "      <td>14.533333</td>\n",
       "      <td>7.866667</td>\n",
       "      <td>344.144444</td>\n",
       "      <td>157.811111</td>\n",
       "      <td>4236.322222</td>\n",
       "      <td>13.200000</td>\n",
       "      <td>74.011111</td>\n",
       "    </tr>\n",
       "    <tr>\n",
       "      <th>2</th>\n",
       "      <td>29.483333</td>\n",
       "      <td>4.038889</td>\n",
       "      <td>107.205556</td>\n",
       "      <td>77.166667</td>\n",
       "      <td>2222.827778</td>\n",
       "      <td>15.955556</td>\n",
       "      <td>76.711111</td>\n",
       "    </tr>\n",
       "  </tbody>\n",
       "</table>\n",
       "</div>"
      ],
      "text/plain": [
       "             mpg  cylinders  displacement  horsepower       weight  \\\n",
       "Group                                                                \n",
       "0      20.590164   5.819672    212.614754  105.401639  3162.581967   \n",
       "1      14.533333   7.866667    344.144444  157.811111  4236.322222   \n",
       "2      29.483333   4.038889    107.205556   77.166667  2222.827778   \n",
       "\n",
       "       acceleration  model_year  \n",
       "Group                            \n",
       "0         15.516393   76.352459  \n",
       "1         13.200000   74.011111  \n",
       "2         15.955556   76.711111  "
      ]
     },
     "execution_count": 16,
     "metadata": {},
     "output_type": "execute_result"
    }
   ],
   "source": [
    "MpgTrimmed.groupby('Group').mean()"
   ]
  },
  {
   "cell_type": "markdown",
   "id": "fa3865b6",
   "metadata": {},
   "source": [
    "#### _Conclusion for 3 clusters:_ clear division in groups -> slow, middle, fast."
   ]
  },
  {
   "cell_type": "markdown",
   "id": "0be62338",
   "metadata": {},
   "source": [
    "---\n",
    "### Testing 2 clusters"
   ]
  },
  {
   "cell_type": "code",
   "execution_count": 17,
   "id": "a9e5603f",
   "metadata": {},
   "outputs": [
    {
     "data": {
      "text/plain": [
       "KMeans(n_clusters=4)"
      ]
     },
     "execution_count": 17,
     "metadata": {},
     "output_type": "execute_result"
    }
   ],
   "source": [
    "kmeans = KMeans(n_clusters=4)\n",
    "kmeans.fit(MpgTrimmed)"
   ]
  },
  {
   "cell_type": "code",
   "execution_count": 18,
   "id": "65a6c861",
   "metadata": {},
   "outputs": [],
   "source": [
    "MpgTrimmed['Group'] = kmeans.labels_"
   ]
  },
  {
   "cell_type": "code",
   "execution_count": 19,
   "id": "6cb0d1b3",
   "metadata": {},
   "outputs": [
    {
     "data": {
      "text/html": [
       "<div>\n",
       "<style scoped>\n",
       "    .dataframe tbody tr th:only-of-type {\n",
       "        vertical-align: middle;\n",
       "    }\n",
       "\n",
       "    .dataframe tbody tr th {\n",
       "        vertical-align: top;\n",
       "    }\n",
       "\n",
       "    .dataframe thead th {\n",
       "        text-align: right;\n",
       "    }\n",
       "</style>\n",
       "<table border=\"1\" class=\"dataframe\">\n",
       "  <thead>\n",
       "    <tr style=\"text-align: right;\">\n",
       "      <th></th>\n",
       "      <th>mpg</th>\n",
       "      <th>cylinders</th>\n",
       "      <th>displacement</th>\n",
       "      <th>horsepower</th>\n",
       "      <th>weight</th>\n",
       "      <th>acceleration</th>\n",
       "      <th>model_year</th>\n",
       "    </tr>\n",
       "    <tr>\n",
       "      <th>Group</th>\n",
       "      <th></th>\n",
       "      <th></th>\n",
       "      <th></th>\n",
       "      <th></th>\n",
       "      <th></th>\n",
       "      <th></th>\n",
       "      <th></th>\n",
       "    </tr>\n",
       "  </thead>\n",
       "  <tbody>\n",
       "    <tr>\n",
       "      <th>0</th>\n",
       "      <td>24.418367</td>\n",
       "      <td>4.704082</td>\n",
       "      <td>154.346939</td>\n",
       "      <td>94.295918</td>\n",
       "      <td>2746.438776</td>\n",
       "      <td>15.326531</td>\n",
       "      <td>77.112245</td>\n",
       "    </tr>\n",
       "    <tr>\n",
       "      <th>1</th>\n",
       "      <td>13.898551</td>\n",
       "      <td>8.000000</td>\n",
       "      <td>356.536232</td>\n",
       "      <td>165.130435</td>\n",
       "      <td>4366.594203</td>\n",
       "      <td>12.782609</td>\n",
       "      <td>73.608696</td>\n",
       "    </tr>\n",
       "    <tr>\n",
       "      <th>2</th>\n",
       "      <td>30.566176</td>\n",
       "      <td>3.977941</td>\n",
       "      <td>98.125000</td>\n",
       "      <td>72.948529</td>\n",
       "      <td>2107.705882</td>\n",
       "      <td>16.205882</td>\n",
       "      <td>76.625000</td>\n",
       "    </tr>\n",
       "    <tr>\n",
       "      <th>3</th>\n",
       "      <td>18.179775</td>\n",
       "      <td>6.640449</td>\n",
       "      <td>259.966292</td>\n",
       "      <td>116.808989</td>\n",
       "      <td>3484.483146</td>\n",
       "      <td>15.337079</td>\n",
       "      <td>75.584270</td>\n",
       "    </tr>\n",
       "  </tbody>\n",
       "</table>\n",
       "</div>"
      ],
      "text/plain": [
       "             mpg  cylinders  displacement  horsepower       weight  \\\n",
       "Group                                                                \n",
       "0      24.418367   4.704082    154.346939   94.295918  2746.438776   \n",
       "1      13.898551   8.000000    356.536232  165.130435  4366.594203   \n",
       "2      30.566176   3.977941     98.125000   72.948529  2107.705882   \n",
       "3      18.179775   6.640449    259.966292  116.808989  3484.483146   \n",
       "\n",
       "       acceleration  model_year  \n",
       "Group                            \n",
       "0         15.326531   77.112245  \n",
       "1         12.782609   73.608696  \n",
       "2         16.205882   76.625000  \n",
       "3         15.337079   75.584270  "
      ]
     },
     "execution_count": 19,
     "metadata": {},
     "output_type": "execute_result"
    }
   ],
   "source": [
    "MpgTrimmed.groupby('Group').mean()"
   ]
  },
  {
   "cell_type": "markdown",
   "id": "0a52bedf",
   "metadata": {},
   "source": [
    "#### _Conclusion for 4 clusters:_ losing clear division; seems 3 clusters is best."
   ]
  },
  {
   "cell_type": "markdown",
   "id": "d3e07423",
   "metadata": {},
   "source": [
    "---\n",
    "### Plotting 3 Clusters"
   ]
  },
  {
   "cell_type": "code",
   "execution_count": 20,
   "id": "095d3d4e",
   "metadata": {},
   "outputs": [
    {
     "data": {
      "image/png": "[encoded data removed]",
      "text/plain": [
       "<Figure size 720x720 with 1 Axes>"
      ]
     },
     "metadata": {
      "needs_background": "light"
     },
     "output_type": "display_data"
    }
   ],
   "source": [
    "plt.figure(figsize=(10,10))\n",
    "plt.title('K Means - 3 Clusters')\n",
    "plt.scatter(MpgTrimmed['mpg'], MpgTrimmed['cylinders'], c=kmeans.labels_)\n",
    "plt.scatter(MpgTrimmed['mpg'], MpgTrimmed['displacement'], c=kmeans.labels_)\n",
    "plt.scatter(MpgTrimmed['mpg'], MpgTrimmed['horsepower'], c=kmeans.labels_)\n",
    "plt.scatter(MpgTrimmed['mpg'], MpgTrimmed['weight'], c=kmeans.labels_)\n",
    "plt.scatter(MpgTrimmed['mpg'], MpgTrimmed['acceleration'], c=kmeans.labels_)\n",
    "plt.scatter(MpgTrimmed['mpg'], MpgTrimmed['model_year'], c=kmeans.labels_)"
   ]
  }
 ],
 "metadata": {
  "kernelspec": {
   "display_name": "Python 3 (ipykernel)",
   "language": "python",
   "name": "python3"
  },
  "language_info": {
   "codemirror_mode": {
    "name": "ipython",
    "version": 3
   },
   "file_extension": ".py",
   "mimetype": "text/x-python",
   "name": "python",
   "nbconvert_exporter": "python",
   "pygments_lexer": "ipython3",
   "version": "3.9.12"
  }
 },
 "nbformat": 4,
 "nbformat_minor": 5
}
