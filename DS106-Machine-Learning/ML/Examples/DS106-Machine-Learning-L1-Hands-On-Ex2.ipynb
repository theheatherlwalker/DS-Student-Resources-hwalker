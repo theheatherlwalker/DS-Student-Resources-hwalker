{
 "cells": [
  {
   "cell_type": "markdown",
   "metadata": {},
   "source": [
    "**Lesson 1 Hands-On**      30 points\n",
    "\n",
    "**Directions**\n",
    "\n",
    "Lesson 1 Hands-On\n",
    "This Hands-­On will be graded, so make sure you complete each part. When you are done, please submit one document with all of your findings for grading.\n",
    "\n",
    "Caution!\n",
    "Do not submit your project until you have completed all requirements, as you will not be able to resubmit.\n",
    "\n",
    "Now that you've learned your first machine learning algorithm, it's time to put that knowledge to work. In this Hands-On exercise you will create a project which will require you to take data, clean it so that it's usable, and finally create a linear model to predict unknown data. This Hands-On project should be completed using the browser for downloading data and Python for plotting and modeling the data.\n",
    "\n",
    "You should leverage what you have learned about machine learning and data modeling. Import the diamonds dataset from seaborn using this code:\n",
    "\n",
    "import seaborn as sns\n",
    "from sklearn.utils import shuffle\n",
    "Diamonds = shuffle(sns.load_dataset('diamonds'))\n",
    "If seaborn isn't working for you, click here to download the data.\n",
    "\n",
    "And use the following variables to predict the price of diamonds:\n",
    "\n",
    "carat\n",
    "cut\n",
    "color\n",
    "clarity\n",
    "You will need to utilize the train_test_split() method as well as LinearRegression() to train and test your algorithm. Then, leverage your knowledge of cross-validation and Python programming to cross-validate the work you did. Note the variation in model accuracy once you have cross-validated the model using 5 iterations.\n",
    "\n",
    "Your final product should be a slide presentation that explains the process you took to analyze the data and the conclusions you found. Make sure you can explain everything in the most basic of ways and that you have included visualizations. In addition, please attach your Python code for grading.\n",
    "\n"
   ]
  },
  {
   "cell_type": "markdown",
   "metadata": {},
   "source": [
    "Import Libraries"
   ]
  },
  {
   "cell_type": "code",
   "execution_count": 24,
   "metadata": {},
   "outputs": [],
   "source": [
    "import pandas as pd\n",
    "from sklearn.linear_model import LinearRegression\n",
    "from sklearn.model_selection import train_test_split\n",
    "import matplotlib.pyplot as plt\n",
    "%matplotlib inline\n",
    "from sklearn import metrics\n",
    "import numpy as np\n",
    "from sklearn.model_selection import KFold\n",
    "from sklearn.model_selection import cross_val_score\n"
   ]
  },
  {
   "cell_type": "markdown",
   "metadata": {},
   "source": [
    "Load the data"
   ]
  },
  {
   "cell_type": "code",
   "execution_count": 2,
   "metadata": {},
   "outputs": [],
   "source": [
    "import seaborn as sns\n",
    "from sklearn.utils import shuffle\n",
    "Diamonds = shuffle(sns.load_dataset('diamonds'))"
   ]
  },
  {
   "cell_type": "markdown",
   "metadata": {},
   "source": [
    "Explore the data"
   ]
  },
  {
   "cell_type": "code",
   "execution_count": 3,
   "metadata": {},
   "outputs": [
    {
     "data": {
      "text/html": [
       "<div>\n",
       "<style scoped>\n",
       "    .dataframe tbody tr th:only-of-type {\n",
       "        vertical-align: middle;\n",
       "    }\n",
       "\n",
       "    .dataframe tbody tr th {\n",
       "        vertical-align: top;\n",
       "    }\n",
       "\n",
       "    .dataframe thead th {\n",
       "        text-align: right;\n",
       "    }\n",
       "</style>\n",
       "<table border=\"1\" class=\"dataframe\">\n",
       "  <thead>\n",
       "    <tr style=\"text-align: right;\">\n",
       "      <th></th>\n",
       "      <th>carat</th>\n",
       "      <th>cut</th>\n",
       "      <th>color</th>\n",
       "      <th>clarity</th>\n",
       "      <th>depth</th>\n",
       "      <th>table</th>\n",
       "      <th>price</th>\n",
       "      <th>x</th>\n",
       "      <th>y</th>\n",
       "      <th>z</th>\n",
       "    </tr>\n",
       "  </thead>\n",
       "  <tbody>\n",
       "    <tr>\n",
       "      <th>10422</th>\n",
       "      <td>0.90</td>\n",
       "      <td>Ideal</td>\n",
       "      <td>H</td>\n",
       "      <td>VVS1</td>\n",
       "      <td>61.9</td>\n",
       "      <td>57.0</td>\n",
       "      <td>4783</td>\n",
       "      <td>6.19</td>\n",
       "      <td>6.24</td>\n",
       "      <td>3.85</td>\n",
       "    </tr>\n",
       "    <tr>\n",
       "      <th>1358</th>\n",
       "      <td>0.90</td>\n",
       "      <td>Good</td>\n",
       "      <td>F</td>\n",
       "      <td>SI2</td>\n",
       "      <td>64.2</td>\n",
       "      <td>62.0</td>\n",
       "      <td>2964</td>\n",
       "      <td>6.08</td>\n",
       "      <td>6.00</td>\n",
       "      <td>3.88</td>\n",
       "    </tr>\n",
       "    <tr>\n",
       "      <th>44866</th>\n",
       "      <td>0.73</td>\n",
       "      <td>Good</td>\n",
       "      <td>E</td>\n",
       "      <td>I1</td>\n",
       "      <td>56.9</td>\n",
       "      <td>60.0</td>\n",
       "      <td>1628</td>\n",
       "      <td>5.98</td>\n",
       "      <td>5.93</td>\n",
       "      <td>3.39</td>\n",
       "    </tr>\n",
       "    <tr>\n",
       "      <th>30241</th>\n",
       "      <td>0.33</td>\n",
       "      <td>Ideal</td>\n",
       "      <td>E</td>\n",
       "      <td>VS2</td>\n",
       "      <td>61.5</td>\n",
       "      <td>57.0</td>\n",
       "      <td>723</td>\n",
       "      <td>4.41</td>\n",
       "      <td>4.47</td>\n",
       "      <td>2.73</td>\n",
       "    </tr>\n",
       "    <tr>\n",
       "      <th>8825</th>\n",
       "      <td>1.12</td>\n",
       "      <td>Very Good</td>\n",
       "      <td>G</td>\n",
       "      <td>SI2</td>\n",
       "      <td>63.3</td>\n",
       "      <td>58.0</td>\n",
       "      <td>4478</td>\n",
       "      <td>6.70</td>\n",
       "      <td>6.63</td>\n",
       "      <td>4.22</td>\n",
       "    </tr>\n",
       "  </tbody>\n",
       "</table>\n",
       "</div>"
      ],
      "text/plain": [
       "       carat        cut color clarity  depth  table  price     x     y     z\n",
       "10422   0.90      Ideal     H    VVS1   61.9   57.0   4783  6.19  6.24  3.85\n",
       "1358    0.90       Good     F     SI2   64.2   62.0   2964  6.08  6.00  3.88\n",
       "44866   0.73       Good     E      I1   56.9   60.0   1628  5.98  5.93  3.39\n",
       "30241   0.33      Ideal     E     VS2   61.5   57.0    723  4.41  4.47  2.73\n",
       "8825    1.12  Very Good     G     SI2   63.3   58.0   4478  6.70  6.63  4.22"
      ]
     },
     "execution_count": 3,
     "metadata": {},
     "output_type": "execute_result"
    }
   ],
   "source": [
    "Diamonds.head()"
   ]
  },
  {
   "cell_type": "code",
   "execution_count": 15,
   "metadata": {},
   "outputs": [
    {
     "name": "stdout",
     "output_type": "stream",
     "text": [
      "<class 'pandas.core.frame.DataFrame'>\n",
      "Int64Index: 53940 entries, 10422 to 11006\n",
      "Data columns (total 10 columns):\n",
      " #   Column   Non-Null Count  Dtype   \n",
      "---  ------   --------------  -----   \n",
      " 0   carat    53940 non-null  float64 \n",
      " 1   cut      53940 non-null  category\n",
      " 2   color    53940 non-null  category\n",
      " 3   clarity  53940 non-null  category\n",
      " 4   depth    53940 non-null  float64 \n",
      " 5   table    53940 non-null  float64 \n",
      " 6   price    53940 non-null  int64   \n",
      " 7   x        53940 non-null  float64 \n",
      " 8   y        53940 non-null  float64 \n",
      " 9   z        53940 non-null  float64 \n",
      "dtypes: category(3), float64(6), int64(1)\n",
      "memory usage: 3.4 MB\n"
     ]
    }
   ],
   "source": [
    "Diamonds.info()"
   ]
  },
  {
   "cell_type": "code",
   "execution_count": 10,
   "metadata": {},
   "outputs": [
    {
     "data": {
      "text/plain": [
       "0.2"
      ]
     },
     "execution_count": 10,
     "metadata": {},
     "output_type": "execute_result"
    }
   ],
   "source": [
    "Diamonds['carat'].min()"
   ]
  },
  {
   "cell_type": "code",
   "execution_count": 11,
   "metadata": {},
   "outputs": [
    {
     "data": {
      "text/plain": [
       "5.01"
      ]
     },
     "execution_count": 11,
     "metadata": {},
     "output_type": "execute_result"
    }
   ],
   "source": [
    "Diamonds['carat'].max()"
   ]
  },
  {
   "cell_type": "code",
   "execution_count": 12,
   "metadata": {},
   "outputs": [
    {
     "data": {
      "text/plain": [
       "['Ideal', 'Good', 'Very Good', 'Premium', 'Fair']\n",
       "Categories (5, object): ['Ideal', 'Premium', 'Very Good', 'Good', 'Fair']"
      ]
     },
     "execution_count": 12,
     "metadata": {},
     "output_type": "execute_result"
    }
   ],
   "source": [
    "Diamonds['cut'].unique()"
   ]
  },
  {
   "cell_type": "code",
   "execution_count": 13,
   "metadata": {},
   "outputs": [
    {
     "data": {
      "text/plain": [
       "['H', 'F', 'E', 'G', 'I', 'D', 'J']\n",
       "Categories (7, object): ['D', 'E', 'F', 'G', 'H', 'I', 'J']"
      ]
     },
     "execution_count": 13,
     "metadata": {},
     "output_type": "execute_result"
    }
   ],
   "source": [
    "Diamonds['color'].unique()"
   ]
  },
  {
   "cell_type": "code",
   "execution_count": 14,
   "metadata": {},
   "outputs": [
    {
     "data": {
      "text/plain": [
       "['VVS1', 'SI2', 'I1', 'VS2', 'VS1', 'SI1', 'VVS2', 'IF']\n",
       "Categories (8, object): ['IF', 'VVS1', 'VVS2', 'VS1', 'VS2', 'SI1', 'SI2', 'I1']"
      ]
     },
     "execution_count": 14,
     "metadata": {},
     "output_type": "execute_result"
    }
   ],
   "source": [
    "Diamonds['clarity'].unique()"
   ]
  },
  {
   "cell_type": "markdown",
   "metadata": {},
   "source": [
    "**Carat Weight:** 0.2 - 5.01\n",
    "\n",
    "**Cut:** Fair, Good, Very Good, Premium, Ideal\n",
    "\n",
    "**Color:** from J (Worst) to D (Best)\n",
    "\n",
    "**Clarity:** I1 (Worst), SI2, SI1, VS2, VS1, VVS2, VVS1, IF (Best)\n",
    "\n",
    "\n"
   ]
  },
  {
   "cell_type": "markdown",
   "metadata": {},
   "source": [
    "We are going to use the cut, carat, color, and clarity variables to predict the price of diamonds. Those are our independent variables, and we have one dependent variable which is price. As it can be seen cut, color, and clarity are string variables. To move forward with the linear regression we have to convert them to numeric variables. "
   ]
  },
  {
   "cell_type": "markdown",
   "metadata": {},
   "source": [
    "**DATA WRANGLING**\n",
    "\n",
    "**CONVERT STRING VARIABLES TO NUMERIC VARIABLE**\n",
    "\n",
    "To perform this part of analysis, It is created dictionary for each of categorical variables then is mapped in Diamond dataset."
   ]
  },
  {
   "cell_type": "code",
   "execution_count": 16,
   "metadata": {},
   "outputs": [],
   "source": [
    "cut_dict ={\"Fair\":1,\"Good\":2,\"Very Good\":3,\"Premium\":4,\"Ideal\":5}\n",
    "color_dict = {\"J\": 1,\"I\": 2,\"H\": 3,\"G\": 4,\"F\": 5,\"E\": 6,\"D\": 7}\n",
    "clarity_dict = {\"I1\": 1, \"SI2\": 2, \"SI1\": 3, \"VS2\": 4, \"VS1\": 5, \"VVS2\": 6, \"VVS1\": 7, \"IF\": 8}\n"
   ]
  },
  {
   "cell_type": "markdown",
   "metadata": {},
   "source": [
    "Mapping in Diamond dataset"
   ]
  },
  {
   "cell_type": "code",
   "execution_count": 18,
   "metadata": {},
   "outputs": [],
   "source": [
    "Diamonds['cut'] = Diamonds['cut'].map(cut_dict)\n",
    "Diamonds['clarity'] = Diamonds['clarity'].map(clarity_dict)\n",
    "Diamonds['color'] = Diamonds['color'].map(color_dict)"
   ]
  },
  {
   "cell_type": "markdown",
   "metadata": {},
   "source": [
    "Let's look at our dataset again"
   ]
  },
  {
   "cell_type": "code",
   "execution_count": 19,
   "metadata": {},
   "outputs": [
    {
     "data": {
      "text/html": [
       "<div>\n",
       "<style scoped>\n",
       "    .dataframe tbody tr th:only-of-type {\n",
       "        vertical-align: middle;\n",
       "    }\n",
       "\n",
       "    .dataframe tbody tr th {\n",
       "        vertical-align: top;\n",
       "    }\n",
       "\n",
       "    .dataframe thead th {\n",
       "        text-align: right;\n",
       "    }\n",
       "</style>\n",
       "<table border=\"1\" class=\"dataframe\">\n",
       "  <thead>\n",
       "    <tr style=\"text-align: right;\">\n",
       "      <th></th>\n",
       "      <th>carat</th>\n",
       "      <th>cut</th>\n",
       "      <th>color</th>\n",
       "      <th>clarity</th>\n",
       "      <th>depth</th>\n",
       "      <th>table</th>\n",
       "      <th>price</th>\n",
       "      <th>x</th>\n",
       "      <th>y</th>\n",
       "      <th>z</th>\n",
       "    </tr>\n",
       "  </thead>\n",
       "  <tbody>\n",
       "    <tr>\n",
       "      <th>10422</th>\n",
       "      <td>0.90</td>\n",
       "      <td>5</td>\n",
       "      <td>3</td>\n",
       "      <td>7</td>\n",
       "      <td>61.9</td>\n",
       "      <td>57.0</td>\n",
       "      <td>4783</td>\n",
       "      <td>6.19</td>\n",
       "      <td>6.24</td>\n",
       "      <td>3.85</td>\n",
       "    </tr>\n",
       "    <tr>\n",
       "      <th>1358</th>\n",
       "      <td>0.90</td>\n",
       "      <td>2</td>\n",
       "      <td>5</td>\n",
       "      <td>2</td>\n",
       "      <td>64.2</td>\n",
       "      <td>62.0</td>\n",
       "      <td>2964</td>\n",
       "      <td>6.08</td>\n",
       "      <td>6.00</td>\n",
       "      <td>3.88</td>\n",
       "    </tr>\n",
       "    <tr>\n",
       "      <th>44866</th>\n",
       "      <td>0.73</td>\n",
       "      <td>2</td>\n",
       "      <td>6</td>\n",
       "      <td>1</td>\n",
       "      <td>56.9</td>\n",
       "      <td>60.0</td>\n",
       "      <td>1628</td>\n",
       "      <td>5.98</td>\n",
       "      <td>5.93</td>\n",
       "      <td>3.39</td>\n",
       "    </tr>\n",
       "    <tr>\n",
       "      <th>30241</th>\n",
       "      <td>0.33</td>\n",
       "      <td>5</td>\n",
       "      <td>6</td>\n",
       "      <td>4</td>\n",
       "      <td>61.5</td>\n",
       "      <td>57.0</td>\n",
       "      <td>723</td>\n",
       "      <td>4.41</td>\n",
       "      <td>4.47</td>\n",
       "      <td>2.73</td>\n",
       "    </tr>\n",
       "    <tr>\n",
       "      <th>8825</th>\n",
       "      <td>1.12</td>\n",
       "      <td>3</td>\n",
       "      <td>4</td>\n",
       "      <td>2</td>\n",
       "      <td>63.3</td>\n",
       "      <td>58.0</td>\n",
       "      <td>4478</td>\n",
       "      <td>6.70</td>\n",
       "      <td>6.63</td>\n",
       "      <td>4.22</td>\n",
       "    </tr>\n",
       "  </tbody>\n",
       "</table>\n",
       "</div>"
      ],
      "text/plain": [
       "       carat cut color clarity  depth  table  price     x     y     z\n",
       "10422   0.90   5     3       7   61.9   57.0   4783  6.19  6.24  3.85\n",
       "1358    0.90   2     5       2   64.2   62.0   2964  6.08  6.00  3.88\n",
       "44866   0.73   2     6       1   56.9   60.0   1628  5.98  5.93  3.39\n",
       "30241   0.33   5     6       4   61.5   57.0    723  4.41  4.47  2.73\n",
       "8825    1.12   3     4       2   63.3   58.0   4478  6.70  6.63  4.22"
      ]
     },
     "execution_count": 19,
     "metadata": {},
     "output_type": "execute_result"
    }
   ],
   "source": [
    "Diamonds.head()"
   ]
  },
  {
   "cell_type": "markdown",
   "metadata": {},
   "source": [
    "Mission Acomplished! Now we can define x and y variables to perform machine learning part. Since data is labeled, this part of the analysis leads Supervised Machine Learning part."
   ]
  },
  {
   "cell_type": "code",
   "execution_count": 20,
   "metadata": {},
   "outputs": [],
   "source": [
    "x = Diamonds[['carat','cut', 'color', 'clarity']]\n",
    "y = Diamonds['price']"
   ]
  },
  {
   "cell_type": "markdown",
   "metadata": {},
   "source": [
    "We are going to split data as test and trainee data using train_test_split() function. We are going to use 40-60 ratio for this analysis which means  40% of your data reserved for testing, and 60% of data for training."
   ]
  },
  {
   "cell_type": "code",
   "execution_count": 21,
   "metadata": {},
   "outputs": [],
   "source": [
    "x_train, x_test, y_train, y_test = train_test_split(x,y, test_size = .4, random_state=101)"
   ]
  },
  {
   "cell_type": "code",
   "execution_count": 22,
   "metadata": {},
   "outputs": [
    {
     "name": "stdout",
     "output_type": "stream",
     "text": [
      "(32364, 4) (32364,)\n",
      "(21576, 4) (21576,)\n"
     ]
    }
   ],
   "source": [
    "print(x_train.shape, y_train.shape)\n",
    "print(x_test.shape, y_test.shape)"
   ]
  },
  {
   "cell_type": "markdown",
   "metadata": {},
   "source": [
    "This outcomes showed us that our training data has 4 columns and 32364 rows and test data has 4 columns and 21576 rows."
   ]
  },
  {
   "cell_type": "markdown",
   "metadata": {},
   "source": [
    "**Create the Linear Regression Model**\n"
   ]
  },
  {
   "cell_type": "code",
   "execution_count": 27,
   "metadata": {},
   "outputs": [
    {
     "data": {
      "text/plain": [
       "LinearRegression()"
      ]
     },
     "execution_count": 27,
     "metadata": {},
     "output_type": "execute_result"
    }
   ],
   "source": [
    "lm = LinearRegression()\n",
    "lm.fit(x_train, y_train)\n",
    "LinearRegression()"
   ]
  },
  {
   "cell_type": "markdown",
   "metadata": {},
   "source": [
    "Now our model is created. It is time to check if it is good. Now we can see the predictions it has made about diamond price:"
   ]
  },
  {
   "cell_type": "code",
   "execution_count": 28,
   "metadata": {},
   "outputs": [
    {
     "data": {
      "text/plain": [
       "array([ 262.7573754 , 1584.6401556 , 3800.2413568 , ..., 1314.95482865,\n",
       "       6316.02883998, -600.24923928])"
      ]
     },
     "execution_count": 28,
     "metadata": {},
     "output_type": "execute_result"
    }
   ],
   "source": [
    "predictions = lm.predict(x_test)\n",
    "predictions"
   ]
  },
  {
   "cell_type": "code",
   "execution_count": 29,
   "metadata": {},
   "outputs": [
    {
     "data": {
      "text/plain": [
       "<matplotlib.collections.PathCollection at 0x1286ee4c0>"
      ]
     },
     "execution_count": 29,
     "metadata": {},
     "output_type": "execute_result"
    },
    {
     "data": {
      "image/png": "[encoded data removed]",
      "text/plain": [
       "<Figure size 432x288 with 1 Axes>"
      ]
     },
     "metadata": {
      "needs_background": "light"
     },
     "output_type": "display_data"
    }
   ],
   "source": [
    "plt.scatter(y_test, predictions)"
   ]
  },
  {
   "cell_type": "markdown",
   "metadata": {},
   "source": [
    "Accuracy looks very good to me with looking at this scatter plot.We can also check accuracy with .accuracy function."
   ]
  },
  {
   "cell_type": "code",
   "execution_count": 30,
   "metadata": {},
   "outputs": [
    {
     "name": "stdout",
     "output_type": "stream",
     "text": [
      "Score: 0.9042683884095138\n"
     ]
    }
   ],
   "source": [
    "print(\"Score:\", lm.score(x_test, y_test))"
   ]
  },
  {
   "cell_type": "markdown",
   "metadata": {},
   "source": [
    "This means our model is accurate approximately 90.4% of the time, which is really good to me:)"
   ]
  },
  {
   "cell_type": "markdown",
   "metadata": {},
   "source": [
    "Now It is time to examine errors and then apply k cross check validation to confirm our model's accuracy.\n",
    "\n",
    "**Examining Errors**\n",
    "\n",
    "**Mean Absolute Error (MAE)**\n",
    "\n",
    "**Definition:** The mean of the difference between the predicted value and the real value.\n",
    "\n"
   ]
  },
  {
   "cell_type": "code",
   "execution_count": 31,
   "metadata": {},
   "outputs": [
    {
     "data": {
      "text/plain": [
       "857.7246526552057"
      ]
     },
     "execution_count": 31,
     "metadata": {},
     "output_type": "execute_result"
    }
   ],
   "source": [
    "metrics.mean_absolute_error(y_test, predictions)"
   ]
  },
  {
   "cell_type": "markdown",
   "metadata": {},
   "source": [
    "This value looks good if we think the max value for y_test is around 20K and for prediction is around 34K. Because value is close to zero side."
   ]
  },
  {
   "cell_type": "markdown",
   "metadata": {},
   "source": [
    "**Mean Squared Error (MSE)**\n",
    "\n",
    "**Definition:**\tThe square of the mean absolute error.\n"
   ]
  },
  {
   "cell_type": "code",
   "execution_count": 32,
   "metadata": {},
   "outputs": [
    {
     "data": {
      "text/plain": [
       "1550930.3568738468"
      ]
     },
     "execution_count": 32,
     "metadata": {},
     "output_type": "execute_result"
    }
   ],
   "source": [
    "metrics.mean_squared_error(y_test, predictions)\n"
   ]
  },
  {
   "cell_type": "markdown",
   "metadata": {},
   "source": [
    "This error is too large to me. "
   ]
  },
  {
   "cell_type": "markdown",
   "metadata": {},
   "source": [
    "**Root Mean Squared Error (RMSE)**\n",
    "\n",
    "**Definition:** The square root of mean squared error."
   ]
  },
  {
   "cell_type": "code",
   "execution_count": 33,
   "metadata": {},
   "outputs": [
    {
     "data": {
      "text/plain": [
       "1245.3635440600656"
      ]
     },
     "execution_count": 33,
     "metadata": {},
     "output_type": "execute_result"
    }
   ],
   "source": [
    "np.sqrt(metrics.mean_squared_error(y_test, predictions))\n"
   ]
  },
  {
   "cell_type": "markdown",
   "metadata": {},
   "source": [
    "This error is also acceptable."
   ]
  },
  {
   "cell_type": "markdown",
   "metadata": {},
   "source": [
    "\n",
    "**K-Folds Cross Validation**\n",
    "\n",
    "**Definition:** Reserve additional data for train-test-split testing by repeating the process."
   ]
  },
  {
   "cell_type": "code",
   "execution_count": 34,
   "metadata": {},
   "outputs": [
    {
     "name": "stdout",
     "output_type": "stream",
     "text": [
      "train: [    0     1     4 ... 53937 53938 53939], test: [    2     3     8 ... 53932 53934 53935]\n",
      "train: [    1     2     3 ... 53935 53938 53939], test: [    0     4     6 ... 53933 53936 53937]\n",
      "train: [    0     2     3 ... 53935 53936 53937], test: [    1     5     9 ... 53931 53938 53939]\n"
     ]
    }
   ],
   "source": [
    "kfold = KFold(n_splits = 3, shuffle=True, random_state=1)\n",
    "for train, test in kfold.split(x,y):\n",
    "     print('train: %s, test: %s' % (train,test))"
   ]
  },
  {
   "cell_type": "markdown",
   "metadata": {},
   "source": [
    "Diamond data splitted 6 different data set (3 sets for training, 3 sets for tests) then our model applied 3 taining-test data sets then accuracy checked for 3 test-training data sets. Let's look at the result"
   ]
  },
  {
   "cell_type": "code",
   "execution_count": 35,
   "metadata": {},
   "outputs": [
    {
     "name": "stdout",
     "output_type": "stream",
     "text": [
      "[0.90364889 0.90505724 0.90359924]\n"
     ]
    }
   ],
   "source": [
    "print(cross_val_score(lm, x,y, cv=3))"
   ]
  },
  {
   "cell_type": "markdown",
   "metadata": {},
   "source": [
    "Accuracies are almost same with our previous result(90.4%). This shows that our model fits very well with data."
   ]
  }
 ],
 "metadata": {
  "interpreter": {
   "hash": "ac2eaa0ea0ebeafcc7822e65e46aa9d4f966f30b695406963e145ea4a91cd4fc"
  },
  "kernelspec": {
   "display_name": "Python 3 (ipykernel)",
   "language": "python",
   "name": "python3"
  },
  "language_info": {
   "codemirror_mode": {
    "name": "ipython",
    "version": 3
   },
   "file_extension": ".py",
   "mimetype": "text/x-python",
   "name": "python",
   "nbconvert_exporter": "python",
   "pygments_lexer": "ipython3",
   "version": "3.9.0"
  }
 },
 "nbformat": 4,
 "nbformat_minor": 4
}
