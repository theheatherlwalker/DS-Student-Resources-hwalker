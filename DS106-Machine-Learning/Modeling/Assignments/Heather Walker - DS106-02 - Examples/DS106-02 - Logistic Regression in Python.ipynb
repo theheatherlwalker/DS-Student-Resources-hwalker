{
 "cells": [
  {
   "cell_type": "markdown",
   "id": "50b89ee2",
   "metadata": {},
   "source": [
    "# DS106-02-06 - Logistic Regression in Python"
   ]
  },
  {
   "cell_type": "code",
   "execution_count": 1,
   "id": "8dea8026",
   "metadata": {},
   "outputs": [],
   "source": [
    "# IMPORT PACKAGES\n",
    "import pandas as pd\n",
    "import statsmodels.api as sm"
   ]
  },
  {
   "cell_type": "code",
   "execution_count": 4,
   "id": "993b117e",
   "metadata": {},
   "outputs": [],
   "source": [
    "# IMPORT DATA\n",
    "baseball = pd.read_csv('data/baseball.csv')"
   ]
  },
  {
   "cell_type": "code",
   "execution_count": 6,
   "id": "9ea79199",
   "metadata": {},
   "outputs": [],
   "source": [
    "# RECODE THE OUTCOME VARIABLE\n",
    "# The wins and losses column, `W/L`, will need to be recoded from string to numeric:\n",
    "\n",
    "def recode (series):\n",
    "    if series == \"W\":\n",
    "        return 1\n",
    "    if series == \"L\":\n",
    "        return 0\n",
    "baseball['WLr'] = baseball['W/L'].apply(recode)"
   ]
  },
  {
   "cell_type": "code",
   "execution_count": 7,
   "id": "e9e50cce",
   "metadata": {},
   "outputs": [],
   "source": [
    "# MAKE EACH VARIABLE A DATAFRAME\n",
    "# You can make your IV and DV into their own dataframes by subsetting. For convention's sake, you can call them x and y:\n",
    "\n",
    "x = baseball['HR Count']\n",
    "y = baseball['WLr']"
   ]
  },
  {
   "cell_type": "code",
   "execution_count": 9,
   "id": "1396cea8",
   "metadata": {},
   "outputs": [
    {
     "name": "stdout",
     "output_type": "stream",
     "text": [
      "Optimization terminated successfully.\n",
      "         Current function value: 0.667079\n",
      "         Iterations 5\n",
      "                         Results: Logit\n",
      "================================================================\n",
      "Model:              Logit            Pseudo R-squared: 0.038    \n",
      "Dependent Variable: WLr              AIC:              6486.0070\n",
      "Date:               2022-10-30 13:08 BIC:              6492.4958\n",
      "No. Observations:   4860             Log-Likelihood:   -3242.0  \n",
      "Df Model:           0                LL-Null:          -3368.7  \n",
      "Df Residuals:       4859             LLR p-value:      nan      \n",
      "Converged:          1.0000           Scale:            1.0000   \n",
      "No. Iterations:     5.0000                                      \n",
      "------------------------------------------------------------------\n",
      "            Coef.    Std.Err.      z      P>|z|    [0.025   0.975]\n",
      "------------------------------------------------------------------\n",
      "HR Count    0.2798     0.0184   15.2304   0.0000   0.2438   0.3158\n",
      "================================================================\n",
      "\n"
     ]
    }
   ],
   "source": [
    "# RUN THE ANALYSIS\n",
    "# Now you can run your logistic regression code, \n",
    "# using the function `Logit()` out of the `statsmodels` package. \n",
    "# You'll then fit the results, using `fit()`, and will lastly print out a summary:\n",
    "\n",
    "logit = sm.Logit(y,x)\n",
    "results = logit.fit()\n",
    "print(results.summary2())"
   ]
  },
  {
   "cell_type": "code",
   "execution_count": null,
   "id": "096bebdc",
   "metadata": {},
   "outputs": [],
   "source": []
  }
 ],
 "metadata": {
  "kernelspec": {
   "display_name": "Python 3 (ipykernel)",
   "language": "python",
   "name": "python3"
  },
  "language_info": {
   "codemirror_mode": {
    "name": "ipython",
    "version": 3
   },
   "file_extension": ".py",
   "mimetype": "text/x-python",
   "name": "python",
   "nbconvert_exporter": "python",
   "pygments_lexer": "ipython3",
   "version": "3.9.12"
  }
 },
 "nbformat": 4,
 "nbformat_minor": 5
}
