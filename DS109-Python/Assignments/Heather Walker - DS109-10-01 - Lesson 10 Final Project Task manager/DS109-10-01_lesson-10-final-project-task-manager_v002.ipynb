{
 "cells": [
  {
   "cell_type": "markdown",
   "id": "0def954a",
   "metadata": {},
   "source": [
    "# Lesson 10 Final Project: Task manager (v002)\n",
    "Heather Walker - 2022-10-02\n",
    "<br>\n",
    "v002: with some modest aesthetic additions to original directions!"
   ]
  },
  {
   "cell_type": "code",
   "execution_count": null,
   "id": "3f73bbe8",
   "metadata": {},
   "outputs": [],
   "source": [
    "tasks = [\n",
    "    {'name' : 'Write email to Jan', 'completed' : True},\n",
    "    {'name' : 'Sweep front porch', 'completed' : True},\n",
    "    {'name' : 'Call mom', 'completed' : False}\n",
    "]\n",
    "\n",
    "def list_tasks():\n",
    "    print('\\n', 'TASK LIST *************************')\n",
    "    for index, task in enumerate(tasks):\n",
    "        print(str.format('{}: {} (Completed: {})', index, task['name'], task['completed']))\n",
    "    print('************************************')\n",
    "\n",
    "def add_task():\n",
    "    task_text = input('Add a task: ')\n",
    "    new_task = {'name': task_text,'completed': False}\n",
    "    tasks.append(new_task)\n",
    "\n",
    "def remove_task():\n",
    "    list_tasks()\n",
    "    remove_task = int(input('Enter the number of the task to remove:'))\n",
    "    tasks.remove(tasks[remove_task])\n",
    "\n",
    "def complete_task():\n",
    "    list_tasks()\n",
    "    complete_task = int(input('Enter the number of the task to mark completed:'))\n",
    "    tasks[complete_task]['completed'] = True\n",
    "    tasks.remove(tasks[complete_task])\n",
    "    tasks.append(complete_task)\n",
    "    \n",
    "    \n",
    "menu_text = \"\"\"\n",
    "Heather's Task List\n",
    "======================\n",
    "1. List the tasks\n",
    "2. Add a task\n",
    "3. Remove a task\n",
    "4. Mark task complete\n",
    "5. Quit\n",
    "\n",
    "What would you like to do? \"\"\"\n",
    "\n",
    "program_is_running = True\n",
    "\n",
    "while program_is_running:\n",
    "    decision = input(menu_text)\n",
    "    if decision == '1':\n",
    "        list_tasks()\n",
    "\n",
    "    elif decision == '2':\n",
    "        add_task()\n",
    "        \n",
    "    elif decision == '3':\n",
    "        remove_task()\n",
    "        \n",
    "    elif decision == '4':\n",
    "        complete_task()\n",
    "\n",
    "    elif decision == '5':\n",
    "        program_is_running = False\n",
    "        \n",
    "    else:\n",
    "        print('Please choose a valid option.')"
   ]
  }
 ],
 "metadata": {
  "kernelspec": {
   "display_name": "Python 3 (ipykernel)",
   "language": "python",
   "name": "python3"
  },
  "language_info": {
   "codemirror_mode": {
    "name": "ipython",
    "version": 3
   },
   "file_extension": ".py",
   "mimetype": "text/x-python",
   "name": "python",
   "nbconvert_exporter": "python",
   "pygments_lexer": "ipython3",
   "version": "3.9.12"
  }
 },
 "nbformat": 4,
 "nbformat_minor": 5
}
