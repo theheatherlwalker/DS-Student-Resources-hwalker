{
 "cells": [
  {
   "cell_type": "markdown",
   "id": "8db74fc1",
   "metadata": {},
   "source": [
    "# DS109-08-11 Jupyter and Pandas Hands-On\n",
    "You are working for an ecology company, and they have been tracking bison throughout North America. They've collected data in the `BisonTracking.csv` on the location, number, genus, and species of bison. They'd like to know some basic information about the bison, to determine whether the species is still in danger or whether it is recovering."
   ]
  },
  {
   "cell_type": "markdown",
   "id": "4e52eace",
   "metadata": {},
   "source": [
    "## 1.  Data Exploration\n",
    "1. Read in your data as a CSV file\n",
    "2. Look at the first seven rows of your data\n",
    "3. Look at the last ten rows of your data\n",
    "4. Determine the number of rows and columns your dataset has"
   ]
  },
  {
   "cell_type": "code",
   "execution_count": 1,
   "id": "72031054",
   "metadata": {},
   "outputs": [],
   "source": [
    "# Must import data science package `Pandas`\n",
    "import pandas as pd"
   ]
  },
  {
   "cell_type": "markdown",
   "id": "4dff23f2",
   "metadata": {},
   "source": [
    "### 1.1.   Read in the data as a CSV file"
   ]
  },
  {
   "cell_type": "code",
   "execution_count": 2,
   "id": "e3d88f19",
   "metadata": {},
   "outputs": [],
   "source": [
    "bisonData = pd.read_csv('BisonTracking.csv')"
   ]
  },
  {
   "cell_type": "markdown",
   "id": "e5641ac0",
   "metadata": {},
   "source": [
    "### 1.2.  Look at the first 7 rows of the data"
   ]
  },
  {
   "cell_type": "code",
   "execution_count": 3,
   "id": "f144aad2",
   "metadata": {},
   "outputs": [
    {
     "data": {
      "text/html": [
       "<div>\n",
       "<style scoped>\n",
       "    .dataframe tbody tr th:only-of-type {\n",
       "        vertical-align: middle;\n",
       "    }\n",
       "\n",
       "    .dataframe tbody tr th {\n",
       "        vertical-align: top;\n",
       "    }\n",
       "\n",
       "    .dataframe thead th {\n",
       "        text-align: right;\n",
       "    }\n",
       "</style>\n",
       "<table border=\"1\" class=\"dataframe\">\n",
       "  <thead>\n",
       "    <tr style=\"text-align: right;\">\n",
       "      <th></th>\n",
       "      <th>Collection/Population Locality</th>\n",
       "      <th>SpecimenNumber</th>\n",
       "      <th>Genus</th>\n",
       "      <th>Species</th>\n",
       "      <th>Length</th>\n",
       "    </tr>\n",
       "  </thead>\n",
       "  <tbody>\n",
       "    <tr>\n",
       "      <th>0</th>\n",
       "      <td>12 Mile Creek</td>\n",
       "      <td>112916</td>\n",
       "      <td>Bison</td>\n",
       "      <td>antiquus</td>\n",
       "      <td>8</td>\n",
       "    </tr>\n",
       "    <tr>\n",
       "      <th>1</th>\n",
       "      <td>12 Mile Creek</td>\n",
       "      <td>112917</td>\n",
       "      <td>Bison</td>\n",
       "      <td>antiquus</td>\n",
       "      <td>7</td>\n",
       "    </tr>\n",
       "    <tr>\n",
       "      <th>2</th>\n",
       "      <td>12 Mile Creek</td>\n",
       "      <td>112918</td>\n",
       "      <td>Bison</td>\n",
       "      <td>antiquus</td>\n",
       "      <td>7</td>\n",
       "    </tr>\n",
       "    <tr>\n",
       "      <th>3</th>\n",
       "      <td>12 Mile Creek</td>\n",
       "      <td>112919</td>\n",
       "      <td>Bison</td>\n",
       "      <td>antiquus</td>\n",
       "      <td>8</td>\n",
       "    </tr>\n",
       "    <tr>\n",
       "      <th>4</th>\n",
       "      <td>12 Mile Creek</td>\n",
       "      <td>112921</td>\n",
       "      <td>Bison</td>\n",
       "      <td>antiquus</td>\n",
       "      <td>9</td>\n",
       "    </tr>\n",
       "    <tr>\n",
       "      <th>5</th>\n",
       "      <td>12 Mile Creek</td>\n",
       "      <td>112925</td>\n",
       "      <td>Bison</td>\n",
       "      <td>antiquus</td>\n",
       "      <td>9</td>\n",
       "    </tr>\n",
       "    <tr>\n",
       "      <th>6</th>\n",
       "      <td>Agate Basin-Agate Basin</td>\n",
       "      <td>458</td>\n",
       "      <td>Bison</td>\n",
       "      <td>antiquus</td>\n",
       "      <td>7</td>\n",
       "    </tr>\n",
       "  </tbody>\n",
       "</table>\n",
       "</div>"
      ],
      "text/plain": [
       "  Collection/Population Locality SpecimenNumber  Genus   Species  Length\n",
       "0                  12 Mile Creek         112916  Bison  antiquus       8\n",
       "1                  12 Mile Creek         112917  Bison  antiquus       7\n",
       "2                  12 Mile Creek         112918  Bison  antiquus       7\n",
       "3                  12 Mile Creek         112919  Bison  antiquus       8\n",
       "4                  12 Mile Creek         112921  Bison  antiquus       9\n",
       "5                  12 Mile Creek         112925  Bison  antiquus       9\n",
       "6        Agate Basin-Agate Basin            458  Bison  antiquus       7"
      ]
     },
     "execution_count": 3,
     "metadata": {},
     "output_type": "execute_result"
    }
   ],
   "source": [
    "bisonData.head(7)"
   ]
  },
  {
   "cell_type": "markdown",
   "id": "dadb0d11",
   "metadata": {},
   "source": [
    "### 1.3.   Look at the last 10 rows of your data"
   ]
  },
  {
   "cell_type": "code",
   "execution_count": 4,
   "id": "47d5cbd6",
   "metadata": {},
   "outputs": [
    {
     "data": {
      "text/html": [
       "<div>\n",
       "<style scoped>\n",
       "    .dataframe tbody tr th:only-of-type {\n",
       "        vertical-align: middle;\n",
       "    }\n",
       "\n",
       "    .dataframe tbody tr th {\n",
       "        vertical-align: top;\n",
       "    }\n",
       "\n",
       "    .dataframe thead th {\n",
       "        text-align: right;\n",
       "    }\n",
       "</style>\n",
       "<table border=\"1\" class=\"dataframe\">\n",
       "  <thead>\n",
       "    <tr style=\"text-align: right;\">\n",
       "      <th></th>\n",
       "      <th>Collection/Population Locality</th>\n",
       "      <th>SpecimenNumber</th>\n",
       "      <th>Genus</th>\n",
       "      <th>Species</th>\n",
       "      <th>Length</th>\n",
       "    </tr>\n",
       "  </thead>\n",
       "  <tbody>\n",
       "    <tr>\n",
       "      <th>1097</th>\n",
       "      <td>Simonsen</td>\n",
       "      <td>SEC. 8, 30\", E2, #bb</td>\n",
       "      <td>Bison</td>\n",
       "      <td>antiquus</td>\n",
       "      <td>8</td>\n",
       "    </tr>\n",
       "    <tr>\n",
       "      <th>1098</th>\n",
       "      <td>Simonsen</td>\n",
       "      <td>SW15 #3</td>\n",
       "      <td>Bison</td>\n",
       "      <td>antiquus</td>\n",
       "      <td>8</td>\n",
       "    </tr>\n",
       "    <tr>\n",
       "      <th>1099</th>\n",
       "      <td>Simonsen</td>\n",
       "      <td>SW15 #3</td>\n",
       "      <td>Bison</td>\n",
       "      <td>antiquus</td>\n",
       "      <td>7</td>\n",
       "    </tr>\n",
       "    <tr>\n",
       "      <th>1100</th>\n",
       "      <td>Simonsen</td>\n",
       "      <td>SW37 #9</td>\n",
       "      <td>Bison</td>\n",
       "      <td>antiquus</td>\n",
       "      <td>9</td>\n",
       "    </tr>\n",
       "    <tr>\n",
       "      <th>1101</th>\n",
       "      <td>Simonsen</td>\n",
       "      <td>SW37 #9</td>\n",
       "      <td>Bison</td>\n",
       "      <td>antiquus</td>\n",
       "      <td>8</td>\n",
       "    </tr>\n",
       "    <tr>\n",
       "      <th>1102</th>\n",
       "      <td>Terapa</td>\n",
       "      <td>TERA 403</td>\n",
       "      <td>Bison</td>\n",
       "      <td>antiquus</td>\n",
       "      <td>7</td>\n",
       "    </tr>\n",
       "    <tr>\n",
       "      <th>1103</th>\n",
       "      <td>Terapa</td>\n",
       "      <td>TERA 404</td>\n",
       "      <td>Bison</td>\n",
       "      <td>antiquus</td>\n",
       "      <td>8</td>\n",
       "    </tr>\n",
       "    <tr>\n",
       "      <th>1104</th>\n",
       "      <td>Terapa</td>\n",
       "      <td>TERA 426</td>\n",
       "      <td>Bison</td>\n",
       "      <td>antiquus</td>\n",
       "      <td>9</td>\n",
       "    </tr>\n",
       "    <tr>\n",
       "      <th>1105</th>\n",
       "      <td>WICA</td>\n",
       "      <td>422F7A5179</td>\n",
       "      <td>Bison</td>\n",
       "      <td>bison</td>\n",
       "      <td>7</td>\n",
       "    </tr>\n",
       "    <tr>\n",
       "      <th>1106</th>\n",
       "      <td>WICA</td>\n",
       "      <td>AVID*074*597*636</td>\n",
       "      <td>Bison</td>\n",
       "      <td>bison</td>\n",
       "      <td>7</td>\n",
       "    </tr>\n",
       "  </tbody>\n",
       "</table>\n",
       "</div>"
      ],
      "text/plain": [
       "     Collection/Population Locality        SpecimenNumber  Genus   Species  \\\n",
       "1097                       Simonsen  SEC. 8, 30\", E2, #bb  Bison  antiquus   \n",
       "1098                       Simonsen               SW15 #3  Bison  antiquus   \n",
       "1099                       Simonsen               SW15 #3  Bison  antiquus   \n",
       "1100                       Simonsen               SW37 #9  Bison  antiquus   \n",
       "1101                       Simonsen               SW37 #9  Bison  antiquus   \n",
       "1102                         Terapa              TERA 403  Bison  antiquus   \n",
       "1103                         Terapa              TERA 404  Bison  antiquus   \n",
       "1104                         Terapa              TERA 426  Bison  antiquus   \n",
       "1105                           WICA            422F7A5179  Bison     bison   \n",
       "1106                           WICA      AVID*074*597*636  Bison     bison   \n",
       "\n",
       "      Length  \n",
       "1097       8  \n",
       "1098       8  \n",
       "1099       7  \n",
       "1100       9  \n",
       "1101       8  \n",
       "1102       7  \n",
       "1103       8  \n",
       "1104       9  \n",
       "1105       7  \n",
       "1106       7  "
      ]
     },
     "execution_count": 4,
     "metadata": {},
     "output_type": "execute_result"
    }
   ],
   "source": [
    "bisonData.tail(10)"
   ]
  },
  {
   "cell_type": "markdown",
   "id": "aa135cc3",
   "metadata": {},
   "source": [
    "### 1.4b.  Determine the number of _rows_ in your dataset"
   ]
  },
  {
   "cell_type": "code",
   "execution_count": 5,
   "id": "1dab42d0",
   "metadata": {},
   "outputs": [
    {
     "data": {
      "text/plain": [
       "1107"
      ]
     },
     "execution_count": 5,
     "metadata": {},
     "output_type": "execute_result"
    }
   ],
   "source": [
    "len(bisonData)"
   ]
  },
  {
   "cell_type": "markdown",
   "id": "61708fff",
   "metadata": {},
   "source": [
    "### 1.4b.   Determine the number of _columns_ in your dataset"
   ]
  },
  {
   "cell_type": "code",
   "execution_count": 6,
   "id": "e813fb0b",
   "metadata": {},
   "outputs": [
    {
     "data": {
      "text/plain": [
       "5"
      ]
     },
     "execution_count": 6,
     "metadata": {},
     "output_type": "execute_result"
    }
   ],
   "source": [
    "len(bisonData.columns)"
   ]
  },
  {
   "cell_type": "markdown",
   "id": "92ebc618",
   "metadata": {},
   "source": [
    "---\n",
    "\n",
    "## 2. Analysis"
   ]
  },
  {
   "cell_type": "markdown",
   "id": "61dfb340",
   "metadata": {},
   "source": [
    "### 2.1.  How many bison are of the species `antiquus`?"
   ]
  },
  {
   "cell_type": "code",
   "execution_count": 7,
   "id": "ffb6fe8b",
   "metadata": {},
   "outputs": [
    {
     "data": {
      "text/plain": [
       "Index(['Collection/Population Locality', 'SpecimenNumber', 'Genus', 'Species',\n",
       "       'Length'],\n",
       "      dtype='object')"
      ]
     },
     "execution_count": 7,
     "metadata": {},
     "output_type": "execute_result"
    }
   ],
   "source": [
    "# Get the columns to specify variable you want to count\n",
    "bisonData.columns"
   ]
  },
  {
   "cell_type": "code",
   "execution_count": 8,
   "id": "beb350c5",
   "metadata": {},
   "outputs": [
    {
     "data": {
      "text/plain": [
       "antiquus        633\n",
       "bison           435\n",
       "occidentalis     39\n",
       "Name: Species, dtype: int64"
      ]
     },
     "execution_count": 8,
     "metadata": {},
     "output_type": "execute_result"
    }
   ],
   "source": [
    "# Use `value_counts()` to count species: antiquus\n",
    "bisonData.Species.value_counts()"
   ]
  },
  {
   "cell_type": "markdown",
   "id": "4a456ddc",
   "metadata": {},
   "source": [
    "### 2.2.   What is the mean and standard deviation of `Length`?"
   ]
  },
  {
   "cell_type": "code",
   "execution_count": 9,
   "id": "f7c3bac0",
   "metadata": {},
   "outputs": [
    {
     "data": {
      "text/plain": [
       "count    1107.000000\n",
       "mean        7.981030\n",
       "std         0.808299\n",
       "min         7.000000\n",
       "25%         7.000000\n",
       "50%         8.000000\n",
       "75%         9.000000\n",
       "max         9.000000\n",
       "Name: Length, dtype: float64"
      ]
     },
     "execution_count": 9,
     "metadata": {},
     "output_type": "execute_result"
    }
   ],
   "source": [
    "# Use `.describe()` on `Length` variable\n",
    "bisonData.Length.describe()"
   ]
  },
  {
   "cell_type": "markdown",
   "id": "12373983",
   "metadata": {},
   "source": [
    "### 2.3.   What is the median `Length` of the bison?"
   ]
  },
  {
   "cell_type": "code",
   "execution_count": 10,
   "id": "20a85dbc",
   "metadata": {},
   "outputs": [
    {
     "data": {
      "text/plain": [
       "8.0"
      ]
     },
     "execution_count": 10,
     "metadata": {},
     "output_type": "execute_result"
    }
   ],
   "source": [
    "# Use `.median()` on `Length` variable\n",
    "bisonData.Length.median()"
   ]
  }
 ],
 "metadata": {
  "kernelspec": {
   "display_name": "Python 3 (ipykernel)",
   "language": "python",
   "name": "python3"
  },
  "language_info": {
   "codemirror_mode": {
    "name": "ipython",
    "version": 3
   },
   "file_extension": ".py",
   "mimetype": "text/x-python",
   "name": "python",
   "nbconvert_exporter": "python",
   "pygments_lexer": "ipython3",
   "version": "3.9.12"
  }
 },
 "nbformat": 4,
 "nbformat_minor": 5
}
