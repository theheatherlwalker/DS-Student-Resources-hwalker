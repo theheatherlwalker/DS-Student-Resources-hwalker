{
 "cells": [
  {
   "cell_type": "markdown",
   "metadata": {},
   "source": [
    "# Part 1\n",
    "1.  Create a program that imports the `datetime` module from the Python standard library and creates a variable that is set to today's date.\n",
    "\n",
    "2.  Print out the full date.\n",
    "\n",
    "3.  Separately, print out only the time: hour and minute."
   ]
  },
  {
   "cell_type": "code",
   "execution_count": 23,
   "metadata": {},
   "outputs": [
    {
     "name": "stdout",
     "output_type": "stream",
     "text": [
      "2022-09-25 14:09:05.660691\n",
      "Today's Date:  Sunday 2022-09-25 14:09:05.660691\n",
      "Current Time:  14:09\n"
     ]
    }
   ],
   "source": [
    "# 1.1  Import `datetime` module\n",
    "from datetime import datetime\n",
    "\n",
    "# 1.1 (cont'd) create a variable that is set to today's date\n",
    "nowDate = datetime.now()\n",
    "\n",
    "# 1.2 Print out the full date\n",
    "print(nowDate)\n",
    "\n",
    "# 1.2 Extra! Print out the full date with Day of Week string\n",
    "print(\"Today's Date: \", nowDate.strftime('%A'), nowDate)\n",
    "\n",
    "# 1.3 Print out the ONLY the time in format: hour and minutes\n",
    "nowTime = nowDate.strftime('%H:%M')\n",
    "print(\"Current Time: \", nowTime)\n"
   ]
  },
  {
   "cell_type": "markdown",
   "metadata": {},
   "source": [
    "# Part 2\n",
    "1. Create the following new string variable that is constructed over four lines: \n",
    "   \"Tiny little secrets Get buried in the dirt, And if they were dug up, Someone would probably get hurt.\"\n",
    "\n",
    "2. Create and open a new file object named `poem.txt` in _write_ mode.\n",
    "\n",
    "3. Write the above string to the `poem.txt` file.\n",
    "\n",
    "4. Close the `poem.txt` file.\n",
    "\n",
    "5. Re-open the `poem.txt` file in _read_ mode.\n",
    "\n",
    "6. Read the contents of the file and print to the console.\n",
    "\n",
    "7. Close the file once again."
   ]
  },
  {
   "cell_type": "code",
   "execution_count": 28,
   "metadata": {},
   "outputs": [
    {
     "name": "stdout",
     "output_type": "stream",
     "text": [
      "Tiny little secrets\n",
      "Get buried in the dirt,\n",
      "And if they were dug up,\n",
      "Someone would probably get hurt."
     ]
    }
   ],
   "source": [
    "#  2.1  Create new string variable `poem_string`\n",
    "poem_string = \"Tiny little secrets\\nGet buried in the dirt,\\nAnd if they were dug up,\\nSomeone would probably get hurt.\"\n",
    "\n",
    "# 2.2  Create and open new file object `poem.txt` in \"write\" mode\n",
    "poem_file = open('poem.txt', 'w')\n",
    "# 2.3  write `poem_string` to `poem.txt`\n",
    "poem_file.write(poem_string)\n",
    "# 2.4  close the `poem.txt' file\n",
    "poem_file.close()\n",
    "\n",
    "# 2.5  Re-open `poem.txt` in \"read\" mode\n",
    "poem_file = open('poem.txt', 'r')\n",
    "# 2.6  Read and print the contents of the `poem.txt` file\n",
    "for line in poem_file:\n",
    "    print(line, end = '') # by specifying end = ' ', you get rid of the default extra `\\n`\n",
    "    \n",
    "# 2.7  Close the file again\n",
    "poem_file.close()\n"
   ]
  }
 ],
 "metadata": {
  "kernelspec": {
   "display_name": "Python 3.10.6 64-bit",
   "language": "python",
   "name": "python3"
  },
  "language_info": {
   "codemirror_mode": {
    "name": "ipython",
    "version": 3
   },
   "file_extension": ".py",
   "mimetype": "text/x-python",
   "name": "python",
   "nbconvert_exporter": "python",
   "pygments_lexer": "ipython3",
   "version": "3.10.6"
  },
  "orig_nbformat": 4,
  "vscode": {
   "interpreter": {
    "hash": "b0fa6594d8f4cbf19f97940f81e996739fb7646882a419484c72d19e05852a7e"
   }
  }
 },
 "nbformat": 4,
 "nbformat_minor": 2
}
