{
 "cells": [
  {
   "cell_type": "markdown",
   "id": "1216f38c-0431-446d-90ca-3dbb7fd36522",
   "metadata": {},
   "source": [
    "# Python Classes"
   ]
  },
  {
   "cell_type": "code",
   "execution_count": 1,
   "id": "ec267e1c-4f18-4f8d-8cbc-b8d4fed6358b",
   "metadata": {},
   "outputs": [],
   "source": [
    "class Stadium:\n",
    "    \"\"\" This is the Stadium class \"\"\"\n",
    "\n",
    "    # Initialize the properties/attribures\n",
    "    def __init__(self, name, city_state, capacity):\n",
    "        \"\"\" Initialize the properties/attributes \"\"\"\n",
    "        self.name = name\n",
    "        self.city_state = city_state\n",
    "        self.capacity = capacity\n",
    "\n",
    "    # Method to describe stadium, uses all properties\n",
    "    def describe_stadium(self):\n",
    "        \"\"\" Method to describe stadium, uses all properties \"\"\"\n",
    "        print(\"The \" + self.name + \" is located in \" + self.city_state + \" and holds \" + self.capacity + \" fans.\")\n",
    "        \n",
    "### Part 2\n",
    "        \n",
    "    def sport_played(self, sport):\n",
    "        \"\"\" Method accepts the sport played \"\"\"\n",
    "        print(\"The following sport is mainly played in this stadium: \" + sport)\n",
    "\n",
    "    def seats_available(self, seats):\n",
    "        \"\"\" Method accepts the number of seats available \"\"\"\n",
    "        print(\"There are \" + seats + \" still available for tonight's game.\")"
   ]
  },
  {
   "cell_type": "code",
   "execution_count": 2,
   "id": "159e9cc6-8049-4406-a104-abf5efdc4a0f",
   "metadata": {},
   "outputs": [],
   "source": [
    "stadium1 = Stadium('Nissan Stadium', 'Nashville, TN', '69,143')"
   ]
  },
  {
   "cell_type": "code",
   "execution_count": 3,
   "id": "33b99184-7b56-4e7d-988c-5d50b32cd51d",
   "metadata": {},
   "outputs": [
    {
     "name": "stdout",
     "output_type": "stream",
     "text": [
      "The Nissan Stadium is located in Nashville, TN and holds 69,143 fans.\n"
     ]
    }
   ],
   "source": [
    "stadium1.describe_stadium()"
   ]
  },
  {
   "cell_type": "code",
   "execution_count": 4,
   "id": "133c2bbe-c794-4460-8a36-7fa3805e4dc8",
   "metadata": {},
   "outputs": [
    {
     "name": "stdout",
     "output_type": "stream",
     "text": [
      "The following sport is mainly played in this stadium: American Football\n"
     ]
    }
   ],
   "source": [
    "stadium1.sport_played('American Football')"
   ]
  },
  {
   "cell_type": "code",
   "execution_count": 5,
   "id": "00de8170-b211-4fd4-84ee-cfe715461d1c",
   "metadata": {},
   "outputs": [
    {
     "name": "stdout",
     "output_type": "stream",
     "text": [
      "There are 4,356 still available for tonight's game.\n"
     ]
    }
   ],
   "source": [
    "stadium1.seats_available('4,356')"
   ]
  },
  {
   "cell_type": "code",
   "execution_count": null,
   "id": "4c410f31-43c5-430e-9552-f315ee5be0eb",
   "metadata": {},
   "outputs": [],
   "source": []
  }
 ],
 "metadata": {
  "kernelspec": {
   "display_name": "Python 3.10.6 64-bit",
   "language": "python",
   "name": "python3"
  },
  "language_info": {
   "codemirror_mode": {
    "name": "ipython",
    "version": 3
   },
   "file_extension": ".py",
   "mimetype": "text/x-python",
   "name": "python",
   "nbconvert_exporter": "python",
   "pygments_lexer": "ipython3",
   "version": "3.10.6"
  },
  "vscode": {
   "interpreter": {
    "hash": "b0fa6594d8f4cbf19f97940f81e996739fb7646882a419484c72d19e05852a7e"
   }
  }
 },
 "nbformat": 4,
 "nbformat_minor": 5
}
