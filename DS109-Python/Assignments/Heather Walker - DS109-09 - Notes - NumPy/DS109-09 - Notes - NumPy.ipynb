{
 "cells": [
  {
   "cell_type": "code",
   "execution_count": 1,
   "id": "4277f297",
   "metadata": {},
   "outputs": [],
   "source": [
    "# Import the data science package `NumPy` as `np`\n",
    "import numpy as np"
   ]
  },
  {
   "cell_type": "markdown",
   "id": "400cc729",
   "metadata": {},
   "source": [
    "# DS109-09 - Notes - Numpy\n",
    "\n",
    "\n",
    "## DS109-09-02 - NumPy Arrays"
   ]
  },
  {
   "cell_type": "code",
   "execution_count": 2,
   "id": "62979d84",
   "metadata": {},
   "outputs": [],
   "source": [
    "# create an array\n",
    "my_first_array = np.array([7,2,1])"
   ]
  },
  {
   "cell_type": "code",
   "execution_count": 3,
   "id": "f25201b1",
   "metadata": {},
   "outputs": [
    {
     "data": {
      "text/plain": [
       "array([7, 2, 1])"
      ]
     },
     "execution_count": 3,
     "metadata": {},
     "output_type": "execute_result"
    }
   ],
   "source": [
    "# call the array\n",
    "my_first_array"
   ]
  },
  {
   "cell_type": "code",
   "execution_count": 4,
   "id": "5a3a388e",
   "metadata": {},
   "outputs": [
    {
     "name": "stdout",
     "output_type": "stream",
     "text": [
      "[7 2 1]\n"
     ]
    }
   ],
   "source": [
    "# print the array\n",
    "print(my_first_array)"
   ]
  },
  {
   "cell_type": "markdown",
   "id": "a456455b",
   "metadata": {},
   "source": [
    "---\n",
    "## DS109-09-03 - Aggregate Functions on Arrays"
   ]
  },
  {
   "cell_type": "code",
   "execution_count": 5,
   "id": "51f99454",
   "metadata": {},
   "outputs": [
    {
     "data": {
      "text/plain": [
       "7"
      ]
     },
     "execution_count": 5,
     "metadata": {},
     "output_type": "execute_result"
    }
   ],
   "source": [
    "# find the max value in the array\n",
    "my_first_array.max()"
   ]
  },
  {
   "cell_type": "code",
   "execution_count": 6,
   "id": "2e61196f",
   "metadata": {},
   "outputs": [
    {
     "data": {
      "text/plain": [
       "1"
      ]
     },
     "execution_count": 6,
     "metadata": {},
     "output_type": "execute_result"
    }
   ],
   "source": [
    "# find the minimum value in the array\n",
    "my_first_array.min()"
   ]
  },
  {
   "cell_type": "code",
   "execution_count": 7,
   "id": "8be25dab",
   "metadata": {},
   "outputs": [
    {
     "data": {
      "text/plain": [
       "3.3333333333333335"
      ]
     },
     "execution_count": 7,
     "metadata": {},
     "output_type": "execute_result"
    }
   ],
   "source": [
    "# find the mean of the array\n",
    "my_first_array.mean()"
   ]
  },
  {
   "cell_type": "code",
   "execution_count": 8,
   "id": "f4e25fd1",
   "metadata": {},
   "outputs": [
    {
     "data": {
      "text/plain": [
       "2.6246692913372702"
      ]
     },
     "execution_count": 8,
     "metadata": {},
     "output_type": "execute_result"
    }
   ],
   "source": [
    "# find the standard deviation of the array\n",
    "my_first_array.std()"
   ]
  },
  {
   "cell_type": "code",
   "execution_count": 9,
   "id": "dc85aad3",
   "metadata": {},
   "outputs": [
    {
     "data": {
      "text/plain": [
       "10"
      ]
     },
     "execution_count": 9,
     "metadata": {},
     "output_type": "execute_result"
    }
   ],
   "source": [
    "# find the sum of the array\n",
    "my_first_array.sum()"
   ]
  },
  {
   "cell_type": "markdown",
   "id": "3987d687",
   "metadata": {},
   "source": [
    "---\n",
    "## DS109-09-04 - Data Generation with NumPy"
   ]
  },
  {
   "cell_type": "code",
   "execution_count": 10,
   "id": "24d0fe99",
   "metadata": {},
   "outputs": [],
   "source": [
    "# generate an array with named `RandomNumbers` that is only 1 digit long\n",
    "RandomNumbers = np.random.random(1)"
   ]
  },
  {
   "cell_type": "code",
   "execution_count": 11,
   "id": "b526bb0d",
   "metadata": {},
   "outputs": [
    {
     "data": {
      "text/plain": [
       "array([0.32704722])"
      ]
     },
     "execution_count": 11,
     "metadata": {},
     "output_type": "execute_result"
    }
   ],
   "source": [
    "# call the array to output it\n",
    "RandomNumbers"
   ]
  },
  {
   "cell_type": "code",
   "execution_count": 12,
   "id": "865a1837",
   "metadata": {},
   "outputs": [],
   "source": [
    "# generate an array of all 1's\n",
    "allOnes = np.ones(7)"
   ]
  },
  {
   "cell_type": "code",
   "execution_count": 13,
   "id": "2e09a3a2",
   "metadata": {},
   "outputs": [
    {
     "data": {
      "text/plain": [
       "array([1., 1., 1., 1., 1., 1., 1.])"
      ]
     },
     "execution_count": 13,
     "metadata": {},
     "output_type": "execute_result"
    }
   ],
   "source": [
    "# output the array\n",
    "allOnes"
   ]
  },
  {
   "cell_type": "code",
   "execution_count": 14,
   "id": "68261d9b",
   "metadata": {},
   "outputs": [],
   "source": [
    "# generate an array of all 0's\n",
    "allZeros = np.zeros(2)"
   ]
  },
  {
   "cell_type": "code",
   "execution_count": 15,
   "id": "870a1003",
   "metadata": {},
   "outputs": [
    {
     "data": {
      "text/plain": [
       "array([0., 0.])"
      ]
     },
     "execution_count": 15,
     "metadata": {},
     "output_type": "execute_result"
    }
   ],
   "source": [
    "# output the array\n",
    "allZeros"
   ]
  },
  {
   "cell_type": "markdown",
   "id": "a044ff81",
   "metadata": {},
   "source": [
    "---\n",
    "\n",
    "## DS109-09-05 - Arithmetic with Arrays"
   ]
  },
  {
   "cell_type": "code",
   "execution_count": 17,
   "id": "1539e60f",
   "metadata": {},
   "outputs": [],
   "source": [
    "my_second_array = np.array([1,2,7])"
   ]
  },
  {
   "cell_type": "markdown",
   "id": "603ecbfd",
   "metadata": {},
   "source": [
    "### Adding"
   ]
  },
  {
   "cell_type": "code",
   "execution_count": 18,
   "id": "e6832584",
   "metadata": {},
   "outputs": [
    {
     "data": {
      "text/plain": [
       "array([8, 4, 8])"
      ]
     },
     "execution_count": 18,
     "metadata": {},
     "output_type": "execute_result"
    }
   ],
   "source": [
    "# The result is a 3rd array where\n",
    "# every number is the su of the 1st and 2nd array\n",
    "my_first_array + my_second_array"
   ]
  },
  {
   "cell_type": "code",
   "execution_count": 19,
   "id": "87666af3",
   "metadata": {},
   "outputs": [],
   "source": [
    "# Assigning the resulting array to a variable\n",
    "ArraySummed = my_first_array + my_second_array"
   ]
  },
  {
   "cell_type": "code",
   "execution_count": 20,
   "id": "22acba02",
   "metadata": {},
   "outputs": [
    {
     "data": {
      "text/plain": [
       "array([8, 4, 8])"
      ]
     },
     "execution_count": 20,
     "metadata": {},
     "output_type": "execute_result"
    }
   ],
   "source": [
    "# Call the variable to output\n",
    "ArraySummed"
   ]
  },
  {
   "cell_type": "markdown",
   "id": "d7d22ed1",
   "metadata": {},
   "source": [
    "### Subtracting"
   ]
  },
  {
   "cell_type": "code",
   "execution_count": 21,
   "id": "00793490",
   "metadata": {},
   "outputs": [],
   "source": [
    "# Subtract the 2nd array from the 1st array\n",
    "ArraySubtracted = my_first_array - my_second_array"
   ]
  },
  {
   "cell_type": "code",
   "execution_count": 22,
   "id": "05e06c89",
   "metadata": {},
   "outputs": [
    {
     "data": {
      "text/plain": [
       "array([ 6,  0, -6])"
      ]
     },
     "execution_count": 22,
     "metadata": {},
     "output_type": "execute_result"
    }
   ],
   "source": [
    "# Call the variable to output\n",
    "ArraySubtracted"
   ]
  },
  {
   "cell_type": "markdown",
   "id": "e236d9be",
   "metadata": {},
   "source": [
    "### Multiplying"
   ]
  },
  {
   "cell_type": "code",
   "execution_count": 24,
   "id": "16c053a4",
   "metadata": {},
   "outputs": [],
   "source": [
    "# Mutiplying the 2 arrays\n",
    "ArrayMultiplied = my_first_array * my_second_array"
   ]
  },
  {
   "cell_type": "code",
   "execution_count": 25,
   "id": "b6ccfaa3",
   "metadata": {},
   "outputs": [
    {
     "data": {
      "text/plain": [
       "array([7, 4, 7])"
      ]
     },
     "execution_count": 25,
     "metadata": {},
     "output_type": "execute_result"
    }
   ],
   "source": [
    "# Call the variable to output\n",
    "ArrayMultiplied"
   ]
  },
  {
   "cell_type": "markdown",
   "id": "8b9ec950",
   "metadata": {},
   "source": [
    "### Dividing"
   ]
  },
  {
   "cell_type": "code",
   "execution_count": 26,
   "id": "94884724",
   "metadata": {},
   "outputs": [],
   "source": [
    "# Divide the arrays\n",
    "ArrayDivided = my_first_array / my_second_array"
   ]
  },
  {
   "cell_type": "code",
   "execution_count": 27,
   "id": "9f2f14bc",
   "metadata": {},
   "outputs": [
    {
     "data": {
      "text/plain": [
       "array([7.        , 1.        , 0.14285714])"
      ]
     },
     "execution_count": 27,
     "metadata": {},
     "output_type": "execute_result"
    }
   ],
   "source": [
    "# Call the variable to output\n",
    "ArrayDivided"
   ]
  },
  {
   "cell_type": "markdown",
   "id": "9414271e",
   "metadata": {},
   "source": [
    "---\n",
    "## Arithmetic on an Array\n",
    "\n",
    "### Multiplying"
   ]
  },
  {
   "cell_type": "code",
   "execution_count": 28,
   "id": "b957d6cf",
   "metadata": {},
   "outputs": [],
   "source": [
    "# Multiply the array by 4\n",
    "TimesFour = my_first_array * 4"
   ]
  },
  {
   "cell_type": "code",
   "execution_count": 29,
   "id": "7e1ddfdc",
   "metadata": {},
   "outputs": [
    {
     "data": {
      "text/plain": [
       "array([28,  8,  4])"
      ]
     },
     "execution_count": 29,
     "metadata": {},
     "output_type": "execute_result"
    }
   ],
   "source": [
    "# Call to output\n",
    "TimesFour"
   ]
  },
  {
   "cell_type": "markdown",
   "id": "c1341f1f",
   "metadata": {},
   "source": [
    "### Dividing"
   ]
  },
  {
   "cell_type": "code",
   "execution_count": 30,
   "id": "8e798852",
   "metadata": {},
   "outputs": [],
   "source": [
    "# Divide the array by 4\n",
    "DividedFour = my_first_array / 4"
   ]
  },
  {
   "cell_type": "code",
   "execution_count": 31,
   "id": "30429122",
   "metadata": {},
   "outputs": [
    {
     "data": {
      "text/plain": [
       "array([1.75, 0.5 , 0.25])"
      ]
     },
     "execution_count": 31,
     "metadata": {},
     "output_type": "execute_result"
    }
   ],
   "source": [
    "# Call to output\n",
    "DividedFour"
   ]
  },
  {
   "cell_type": "markdown",
   "id": "456937df",
   "metadata": {},
   "source": [
    "### Adding"
   ]
  },
  {
   "cell_type": "code",
   "execution_count": 32,
   "id": "f8e97875",
   "metadata": {},
   "outputs": [],
   "source": [
    "# Add 4 to every number in the array\n",
    "PlusFour = my_first_array + 4"
   ]
  },
  {
   "cell_type": "code",
   "execution_count": 33,
   "id": "9996874d",
   "metadata": {},
   "outputs": [
    {
     "data": {
      "text/plain": [
       "array([11,  6,  5])"
      ]
     },
     "execution_count": 33,
     "metadata": {},
     "output_type": "execute_result"
    }
   ],
   "source": [
    "# Call to output\n",
    "PlusFour"
   ]
  },
  {
   "cell_type": "markdown",
   "id": "d70659dc",
   "metadata": {},
   "source": [
    "### Subtracting"
   ]
  },
  {
   "cell_type": "code",
   "execution_count": 34,
   "id": "bc062186",
   "metadata": {},
   "outputs": [],
   "source": [
    "# Subtract 4 from every number\n",
    "MinusFour = my_first_array - 4"
   ]
  },
  {
   "cell_type": "code",
   "execution_count": 35,
   "id": "8aedcc28",
   "metadata": {},
   "outputs": [
    {
     "data": {
      "text/plain": [
       "array([ 3, -2, -3])"
      ]
     },
     "execution_count": 35,
     "metadata": {},
     "output_type": "execute_result"
    }
   ],
   "source": [
    "# Call to output\n",
    "MinusFour"
   ]
  },
  {
   "cell_type": "markdown",
   "id": "9c7f2e07",
   "metadata": {},
   "source": [
    "---\n",
    "## DS109-09-06 - Indexing on Arrays"
   ]
  },
  {
   "cell_type": "code",
   "execution_count": 37,
   "id": "3a924868",
   "metadata": {},
   "outputs": [
    {
     "data": {
      "text/plain": [
       "array([7, 2, 1])"
      ]
     },
     "execution_count": 37,
     "metadata": {},
     "output_type": "execute_result"
    }
   ],
   "source": [
    "# call the array\n",
    "my_first_array"
   ]
  },
  {
   "cell_type": "code",
   "execution_count": 38,
   "id": "41f76e35",
   "metadata": {},
   "outputs": [
    {
     "data": {
      "text/plain": [
       "7"
      ]
     },
     "execution_count": 38,
     "metadata": {},
     "output_type": "execute_result"
    }
   ],
   "source": [
    "# Get the first place item in the array\n",
    "my_first_array[0]"
   ]
  },
  {
   "cell_type": "markdown",
   "id": "ef7c2c0a",
   "metadata": {},
   "source": [
    "### Accessing multiple numbers in an array"
   ]
  },
  {
   "cell_type": "code",
   "execution_count": 39,
   "id": "f36d6357",
   "metadata": {},
   "outputs": [
    {
     "data": {
      "text/plain": [
       "array([7, 2, 1])"
      ]
     },
     "execution_count": 39,
     "metadata": {},
     "output_type": "execute_result"
    }
   ],
   "source": [
    "# Access everything in the current array\n",
    "my_first_array[0:3]"
   ]
  },
  {
   "cell_type": "code",
   "execution_count": 40,
   "id": "ab59b84d",
   "metadata": {},
   "outputs": [
    {
     "data": {
      "text/plain": [
       "array([2, 1])"
      ]
     },
     "execution_count": 40,
     "metadata": {},
     "output_type": "execute_result"
    }
   ],
   "source": [
    "# When you want everything after index position (here index 1)\n",
    "my_first_array[1:]"
   ]
  },
  {
   "cell_type": "markdown",
   "id": "b548b767",
   "metadata": {},
   "source": [
    "---\n",
    "## DS109-09-07 - Creating Matrices with Arrays"
   ]
  },
  {
   "cell_type": "code",
   "execution_count": 41,
   "id": "320b726b",
   "metadata": {},
   "outputs": [],
   "source": [
    "# Make a matrix out of arrays by listing them separated by comma\n",
    "my_first_matrix = np.array([[8,9], [5,4]])"
   ]
  },
  {
   "cell_type": "code",
   "execution_count": 42,
   "id": "17238774",
   "metadata": {},
   "outputs": [
    {
     "data": {
      "text/plain": [
       "array([[8, 9],\n",
       "       [5, 4]])"
      ]
     },
     "execution_count": 42,
     "metadata": {},
     "output_type": "execute_result"
    }
   ],
   "source": [
    "# call the new matrix\n",
    "my_first_matrix"
   ]
  },
  {
   "cell_type": "markdown",
   "id": "27bc6ce7",
   "metadata": {},
   "source": [
    "### Matrix of all 1s"
   ]
  },
  {
   "cell_type": "code",
   "execution_count": 43,
   "id": "b0ffb3c5",
   "metadata": {},
   "outputs": [],
   "source": [
    "# Create a matrix filled with ones, 7 rows by 2 columns\n",
    "AllOnesMatrix = np.ones((7,2))"
   ]
  },
  {
   "cell_type": "code",
   "execution_count": 44,
   "id": "b9d185c5",
   "metadata": {},
   "outputs": [
    {
     "data": {
      "text/plain": [
       "array([[1., 1.],\n",
       "       [1., 1.],\n",
       "       [1., 1.],\n",
       "       [1., 1.],\n",
       "       [1., 1.],\n",
       "       [1., 1.],\n",
       "       [1., 1.]])"
      ]
     },
     "execution_count": 44,
     "metadata": {},
     "output_type": "execute_result"
    }
   ],
   "source": [
    "# call the new matrix\n",
    "AllOnesMatrix"
   ]
  },
  {
   "cell_type": "markdown",
   "id": "7ea17cc0",
   "metadata": {},
   "source": [
    "### Matrix of all 0s"
   ]
  },
  {
   "cell_type": "code",
   "execution_count": 45,
   "id": "97ee9f43",
   "metadata": {},
   "outputs": [],
   "source": [
    "# create a matrix of 0s\n",
    "AllZerosMatrix = np.zeros((7,2))"
   ]
  },
  {
   "cell_type": "code",
   "execution_count": 46,
   "id": "5fc83c90",
   "metadata": {},
   "outputs": [
    {
     "data": {
      "text/plain": [
       "array([[0., 0.],\n",
       "       [0., 0.],\n",
       "       [0., 0.],\n",
       "       [0., 0.],\n",
       "       [0., 0.],\n",
       "       [0., 0.],\n",
       "       [0., 0.]])"
      ]
     },
     "execution_count": 46,
     "metadata": {},
     "output_type": "execute_result"
    }
   ],
   "source": [
    "# call the new matrix\n",
    "AllZerosMatrix"
   ]
  },
  {
   "cell_type": "markdown",
   "id": "c2921b2b",
   "metadata": {},
   "source": [
    "### Random Matrix"
   ]
  },
  {
   "cell_type": "code",
   "execution_count": 47,
   "id": "2e01f109",
   "metadata": {},
   "outputs": [],
   "source": [
    "# create a matrix random numbers\n",
    "RandomMatrix = np.random.random((7,2))"
   ]
  },
  {
   "cell_type": "code",
   "execution_count": 48,
   "id": "3c2d9b71",
   "metadata": {},
   "outputs": [
    {
     "data": {
      "text/plain": [
       "array([[0.10049432, 0.16144798],\n",
       "       [0.65019041, 0.61006861],\n",
       "       [0.20943249, 0.27021337],\n",
       "       [0.6038384 , 0.29365857],\n",
       "       [0.93799553, 0.87735896],\n",
       "       [0.53369877, 0.61493779],\n",
       "       [0.95410618, 0.87647426]])"
      ]
     },
     "execution_count": 48,
     "metadata": {},
     "output_type": "execute_result"
    }
   ],
   "source": [
    "# call the new matrix\n",
    "RandomMatrix"
   ]
  },
  {
   "cell_type": "markdown",
   "id": "95a014c1",
   "metadata": {},
   "source": [
    "---\n",
    "## DS109-09-08 - Matrix Arithmetic and Aggregation\n",
    "\n",
    "### Arithmetic"
   ]
  },
  {
   "cell_type": "code",
   "execution_count": 49,
   "id": "c05b369f",
   "metadata": {},
   "outputs": [
    {
     "data": {
      "text/plain": [
       "array([[1.10049432, 1.16144798],\n",
       "       [1.65019041, 1.61006861],\n",
       "       [1.20943249, 1.27021337],\n",
       "       [1.6038384 , 1.29365857],\n",
       "       [1.93799553, 1.87735896],\n",
       "       [1.53369877, 1.61493779],\n",
       "       [1.95410618, 1.87647426]])"
      ]
     },
     "execution_count": 49,
     "metadata": {},
     "output_type": "execute_result"
    }
   ],
   "source": [
    "# Add the randomly generated matrix and other matrix\n",
    "RandomMatrix + AllOnesMatrix"
   ]
  },
  {
   "cell_type": "markdown",
   "id": "336c028f",
   "metadata": {},
   "source": [
    "### Aggregation"
   ]
  },
  {
   "cell_type": "code",
   "execution_count": 50,
   "id": "69a0c782",
   "metadata": {},
   "outputs": [
    {
     "data": {
      "text/plain": [
       "4"
      ]
     },
     "execution_count": 50,
     "metadata": {},
     "output_type": "execute_result"
    }
   ],
   "source": [
    "# Call the aggregation functions on a matrix too\n",
    "my_first_matrix.min()"
   ]
  },
  {
   "cell_type": "code",
   "execution_count": 53,
   "id": "0e8cc52d",
   "metadata": {},
   "outputs": [
    {
     "data": {
      "text/plain": [
       "9"
      ]
     },
     "execution_count": 53,
     "metadata": {},
     "output_type": "execute_result"
    }
   ],
   "source": [
    "my_first_matrix.max()"
   ]
  },
  {
   "cell_type": "code",
   "execution_count": 54,
   "id": "927e2573",
   "metadata": {},
   "outputs": [
    {
     "data": {
      "text/plain": [
       "26"
      ]
     },
     "execution_count": 54,
     "metadata": {},
     "output_type": "execute_result"
    }
   ],
   "source": [
    "my_first_matrix.sum()"
   ]
  },
  {
   "cell_type": "code",
   "execution_count": 55,
   "id": "e3b25d2a",
   "metadata": {},
   "outputs": [
    {
     "data": {
      "text/plain": [
       "6.5"
      ]
     },
     "execution_count": 55,
     "metadata": {},
     "output_type": "execute_result"
    }
   ],
   "source": [
    "my_first_matrix.mean()"
   ]
  },
  {
   "cell_type": "code",
   "execution_count": 56,
   "id": "1bde0aef",
   "metadata": {},
   "outputs": [
    {
     "data": {
      "text/plain": [
       "2.0615528128088303"
      ]
     },
     "execution_count": 56,
     "metadata": {},
     "output_type": "execute_result"
    }
   ],
   "source": [
    "my_first_matrix.std()"
   ]
  },
  {
   "cell_type": "markdown",
   "id": "659b52fa",
   "metadata": {},
   "source": [
    "---\n",
    "## DS109-09-09 - Matrix Indexing"
   ]
  },
  {
   "cell_type": "code",
   "execution_count": 57,
   "id": "33af0f4c",
   "metadata": {},
   "outputs": [
    {
     "data": {
      "text/plain": [
       "9"
      ]
     },
     "execution_count": 57,
     "metadata": {},
     "output_type": "execute_result"
    }
   ],
   "source": [
    "# Access the `9` in the `my_first_matrix`\n",
    "my_first_matrix[0,1]"
   ]
  },
  {
   "cell_type": "markdown",
   "id": "96940357",
   "metadata": {},
   "source": [
    "---\n",
    "## DS109-09-10 - Aggregating Matrix Values Across Columns and Rows"
   ]
  },
  {
   "cell_type": "code",
   "execution_count": 59,
   "id": "657ade4e",
   "metadata": {},
   "outputs": [
    {
     "data": {
      "text/plain": [
       "array([8, 9])"
      ]
     },
     "execution_count": 59,
     "metadata": {},
     "output_type": "execute_result"
    }
   ],
   "source": [
    "# Find the largest number in the COLUMNS\n",
    "my_first_matrix.max(axis=0)"
   ]
  },
  {
   "cell_type": "code",
   "execution_count": 60,
   "id": "979965d9",
   "metadata": {},
   "outputs": [
    {
     "data": {
      "text/plain": [
       "array([9, 5])"
      ]
     },
     "execution_count": 60,
     "metadata": {},
     "output_type": "execute_result"
    }
   ],
   "source": [
    "# Find the largest numbers in the ROWS\n",
    "my_first_matrix.max(axis=1)"
   ]
  },
  {
   "cell_type": "markdown",
   "id": "fc40eac3",
   "metadata": {},
   "source": [
    "---\n",
    "## DS109-09-11 - Manipulating Matrics\n",
    "### Transposing"
   ]
  },
  {
   "cell_type": "code",
   "execution_count": 61,
   "id": "48c317b4",
   "metadata": {},
   "outputs": [
    {
     "data": {
      "text/plain": [
       "array([[1., 1.],\n",
       "       [1., 1.],\n",
       "       [1., 1.],\n",
       "       [1., 1.],\n",
       "       [1., 1.],\n",
       "       [1., 1.],\n",
       "       [1., 1.]])"
      ]
     },
     "execution_count": 61,
     "metadata": {},
     "output_type": "execute_result"
    }
   ],
   "source": [
    "# The AllOnesMatrix before transposing\n",
    "AllOnesMatrix"
   ]
  },
  {
   "cell_type": "code",
   "execution_count": 62,
   "id": "a77ce18f",
   "metadata": {},
   "outputs": [
    {
     "data": {
      "text/plain": [
       "array([[1., 1., 1., 1., 1., 1., 1.],\n",
       "       [1., 1., 1., 1., 1., 1., 1.]])"
      ]
     },
     "execution_count": 62,
     "metadata": {},
     "output_type": "execute_result"
    }
   ],
   "source": [
    "# Transpose the AllOnesMatrix\n",
    "AllOnesMatrix.T"
   ]
  },
  {
   "cell_type": "markdown",
   "id": "b44e5424",
   "metadata": {},
   "source": [
    "### Reshaping"
   ]
  },
  {
   "cell_type": "code",
   "execution_count": 63,
   "id": "69e4df3c",
   "metadata": {},
   "outputs": [
    {
     "data": {
      "text/plain": [
       "array([[1.],\n",
       "       [1.],\n",
       "       [1.],\n",
       "       [1.],\n",
       "       [1.],\n",
       "       [1.],\n",
       "       [1.],\n",
       "       [1.],\n",
       "       [1.],\n",
       "       [1.],\n",
       "       [1.],\n",
       "       [1.],\n",
       "       [1.],\n",
       "       [1.]])"
      ]
     },
     "execution_count": 63,
     "metadata": {},
     "output_type": "execute_result"
    }
   ],
   "source": [
    "# Reshape this matrix to a single column with 14 rows\n",
    "AllOnesMatrix.reshape(14,1)"
   ]
  }
 ],
 "metadata": {
  "kernelspec": {
   "display_name": "Python 3 (ipykernel)",
   "language": "python",
   "name": "python3"
  },
  "language_info": {
   "codemirror_mode": {
    "name": "ipython",
    "version": 3
   },
   "file_extension": ".py",
   "mimetype": "text/x-python",
   "name": "python",
   "nbconvert_exporter": "python",
   "pygments_lexer": "ipython3",
   "version": "3.9.12"
  }
 },
 "nbformat": 4,
 "nbformat_minor": 5
}
