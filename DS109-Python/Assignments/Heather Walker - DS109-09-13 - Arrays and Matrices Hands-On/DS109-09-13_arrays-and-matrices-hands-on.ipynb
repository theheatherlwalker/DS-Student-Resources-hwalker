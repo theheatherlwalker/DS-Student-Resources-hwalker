{
 "cells": [
  {
   "cell_type": "markdown",
   "id": "e194d414",
   "metadata": {},
   "source": [
    "#### Heather Walker - 2022-09-28\n",
    "# DS109-09-13 - Arrays and Matrices Hands-On\n",
    "---\n",
    "#### Directions\n",
    "For your Hands-On, you will be practicing your new skills with arrays and matrices! This Hands-On **will** be graded, so be sure you complete all requirements. The best way to become a data scientist is to practice!\n",
    "</br></br>\n",
    "Please complete the following tasks in a Jupyter Notebook file, using the `numpy` package:\n",
    "\n",
    "---"
   ]
  },
  {
   "cell_type": "code",
   "execution_count": 1,
   "id": "6dad2a26",
   "metadata": {},
   "outputs": [],
   "source": [
    "# import NumPy to start\n",
    "import numpy as np"
   ]
  },
  {
   "cell_type": "markdown",
   "id": "93eeda9e",
   "metadata": {},
   "source": [
    "---\n",
    "### 1. Create a five element array using your favorite numbers named `myFavorites`. "
   ]
  },
  {
   "cell_type": "code",
   "execution_count": 2,
   "id": "876e3f74",
   "metadata": {},
   "outputs": [],
   "source": [
    "myFavorites = np.array([2,3,5,12,22])"
   ]
  },
  {
   "cell_type": "markdown",
   "id": "f650e707",
   "metadata": {},
   "source": [
    "---\n",
    "### 2. Perform each of the five aggregate functions on your array.\n",
    ".max()\n",
    ".min()\n",
    ".mean()\n",
    ".std()\n",
    ".sum()"
   ]
  },
  {
   "cell_type": "code",
   "execution_count": 3,
   "id": "c37d7eb7",
   "metadata": {},
   "outputs": [
    {
     "data": {
      "text/plain": [
       "22"
      ]
     },
     "execution_count": 3,
     "metadata": {},
     "output_type": "execute_result"
    }
   ],
   "source": [
    "# .max()\n",
    "myFavorites.max()"
   ]
  },
  {
   "cell_type": "code",
   "execution_count": 4,
   "id": "4bb0806f",
   "metadata": {},
   "outputs": [
    {
     "data": {
      "text/plain": [
       "2"
      ]
     },
     "execution_count": 4,
     "metadata": {},
     "output_type": "execute_result"
    }
   ],
   "source": [
    "# .min()\n",
    "myFavorites.min()"
   ]
  },
  {
   "cell_type": "code",
   "execution_count": 5,
   "id": "19a9fce3",
   "metadata": {},
   "outputs": [
    {
     "data": {
      "text/plain": [
       "8.8"
      ]
     },
     "execution_count": 5,
     "metadata": {},
     "output_type": "execute_result"
    }
   ],
   "source": [
    "# .mean()\n",
    "myFavorites.mean()"
   ]
  },
  {
   "cell_type": "code",
   "execution_count": 6,
   "id": "2fca1eba",
   "metadata": {},
   "outputs": [
    {
     "data": {
      "text/plain": [
       "7.467261881037788"
      ]
     },
     "execution_count": 6,
     "metadata": {},
     "output_type": "execute_result"
    }
   ],
   "source": [
    "# .std()\n",
    "myFavorites.std()"
   ]
  },
  {
   "cell_type": "code",
   "execution_count": 7,
   "id": "acf380f9",
   "metadata": {},
   "outputs": [
    {
     "data": {
      "text/plain": [
       "44"
      ]
     },
     "execution_count": 7,
     "metadata": {},
     "output_type": "execute_result"
    }
   ],
   "source": [
    "# .sum()\n",
    "myFavorites.sum()"
   ]
  },
  {
   "cell_type": "markdown",
   "id": "af70ab94",
   "metadata": {},
   "source": [
    "---\n",
    "### 3. Create a five element array containing only ones named `OneArrayToRuleThemAll`."
   ]
  },
  {
   "cell_type": "code",
   "execution_count": 8,
   "id": "f16d07e5",
   "metadata": {},
   "outputs": [],
   "source": [
    "# use `.ones()` to create a matrix of ones\n",
    "OneArrayToRuleThemAll = np.ones(5)"
   ]
  },
  {
   "cell_type": "code",
   "execution_count": 9,
   "id": "cfccb3c1",
   "metadata": {},
   "outputs": [
    {
     "data": {
      "text/plain": [
       "array([1., 1., 1., 1., 1.])"
      ]
     },
     "execution_count": 9,
     "metadata": {},
     "output_type": "execute_result"
    }
   ],
   "source": [
    "# call to output\n",
    "OneArrayToRuleThemAll"
   ]
  },
  {
   "cell_type": "markdown",
   "id": "324bf276",
   "metadata": {},
   "source": [
    "---\n",
    "### 4.  Add `myFavorites` and `OneArrayToRuleThemAll`."
   ]
  },
  {
   "cell_type": "code",
   "execution_count": 10,
   "id": "a3fefd9d",
   "metadata": {},
   "outputs": [],
   "source": [
    "# add the 2 arrays and assign result to variable\n",
    "ArraySummed = myFavorites + OneArrayToRuleThemAll"
   ]
  },
  {
   "cell_type": "code",
   "execution_count": 11,
   "id": "a9d35a40",
   "metadata": {},
   "outputs": [
    {
     "data": {
      "text/plain": [
       "array([ 3.,  4.,  6., 13., 23.])"
      ]
     },
     "execution_count": 11,
     "metadata": {},
     "output_type": "execute_result"
    }
   ],
   "source": [
    "# call to output\n",
    "ArraySummed"
   ]
  },
  {
   "cell_type": "markdown",
   "id": "ac58651c",
   "metadata": {},
   "source": [
    "---\n",
    "### 5.  Multiply every element in myFavorites by two."
   ]
  },
  {
   "cell_type": "code",
   "execution_count": 12,
   "id": "fa7a6547",
   "metadata": {},
   "outputs": [],
   "source": [
    "# multiply myFavorites by 2 and assign result to variable\n",
    "MultiplyBy2 = myFavorites * 2"
   ]
  },
  {
   "cell_type": "code",
   "execution_count": 13,
   "id": "f682af40",
   "metadata": {},
   "outputs": [
    {
     "data": {
      "text/plain": [
       "array([ 4,  6, 10, 24, 44])"
      ]
     },
     "execution_count": 13,
     "metadata": {},
     "output_type": "execute_result"
    }
   ],
   "source": [
    "# call to output\n",
    "MultiplyBy2"
   ]
  },
  {
   "cell_type": "markdown",
   "id": "bb8b97c0",
   "metadata": {},
   "source": [
    "---\n",
    "### 6.  Call the third element in `myFavorites` using indexing."
   ]
  },
  {
   "cell_type": "code",
   "execution_count": 14,
   "id": "efe83a07",
   "metadata": {},
   "outputs": [
    {
     "data": {
      "text/plain": [
       "5"
      ]
     },
     "execution_count": 14,
     "metadata": {},
     "output_type": "execute_result"
    }
   ],
   "source": [
    "# call the 3rd element or [2] in `myFavorites`\n",
    "myFavorites[2]"
   ]
  },
  {
   "cell_type": "markdown",
   "id": "f78380b0",
   "metadata": {},
   "source": [
    "---\n",
    "### 7. Create a four element, two-by-two matrix of numbers named `TheMatrixHasYou`."
   ]
  },
  {
   "cell_type": "code",
   "execution_count": 15,
   "id": "04e8798a",
   "metadata": {},
   "outputs": [],
   "source": [
    "# create a 2x2 matrix\n",
    "TheMatrixHasYou = np.random.random((2,2))"
   ]
  },
  {
   "cell_type": "code",
   "execution_count": 16,
   "id": "d4c94330",
   "metadata": {},
   "outputs": [
    {
     "data": {
      "text/plain": [
       "array([[0.05473249, 0.16981207],\n",
       "       [0.05157497, 0.64880269]])"
      ]
     },
     "execution_count": 16,
     "metadata": {},
     "output_type": "execute_result"
    }
   ],
   "source": [
    "# call to output\n",
    "TheMatrixHasYou"
   ]
  },
  {
   "cell_type": "markdown",
   "id": "ae21e130",
   "metadata": {},
   "source": [
    "---\n",
    "### 8.  Access the upper left element in `TheMatrixHasYou` using indexing."
   ]
  },
  {
   "cell_type": "code",
   "execution_count": 17,
   "id": "aac42762",
   "metadata": {},
   "outputs": [
    {
     "data": {
      "text/plain": [
       "0.054732492867833216"
      ]
     },
     "execution_count": 17,
     "metadata": {},
     "output_type": "execute_result"
    }
   ],
   "source": [
    "# acces the upper left element or row 0, column 0\n",
    "TheMatrixHasYou[0,0]"
   ]
  },
  {
   "cell_type": "markdown",
   "id": "35a714f6",
   "metadata": {},
   "source": [
    "---\n",
    "### 9.  Find the largest number in each row for `TheMatrixHasYou`."
   ]
  },
  {
   "cell_type": "code",
   "execution_count": 18,
   "id": "96e74b2c",
   "metadata": {},
   "outputs": [
    {
     "data": {
      "text/plain": [
       "array([0.16981207, 0.64880269])"
      ]
     },
     "execution_count": 18,
     "metadata": {},
     "output_type": "execute_result"
    }
   ],
   "source": [
    "# use `.max()` and `axis=1' to specify ROWS\n",
    "TheMatrixHasYou.max(axis=1)"
   ]
  },
  {
   "cell_type": "markdown",
   "id": "9a882bed",
   "metadata": {},
   "source": [
    "---\n",
    "### 10. Reshape `TheMatrixHasYou` into a matrix with one row and four columns."
   ]
  },
  {
   "cell_type": "code",
   "execution_count": 19,
   "id": "f3bf39db",
   "metadata": {},
   "outputs": [
    {
     "data": {
      "text/plain": [
       "array([[0.05473249],\n",
       "       [0.16981207],\n",
       "       [0.05157497],\n",
       "       [0.64880269]])"
      ]
     },
     "execution_count": 19,
     "metadata": {},
     "output_type": "execute_result"
    }
   ],
   "source": [
    "# use `.reshape()`\n",
    "TheMatrixHasYou.reshape(4,1)"
   ]
  }
 ],
 "metadata": {
  "kernelspec": {
   "display_name": "Python 3 (ipykernel)",
   "language": "python",
   "name": "python3"
  },
  "language_info": {
   "codemirror_mode": {
    "name": "ipython",
    "version": 3
   },
   "file_extension": ".py",
   "mimetype": "text/x-python",
   "name": "python",
   "nbconvert_exporter": "python",
   "pygments_lexer": "ipython3",
   "version": "3.9.12"
  }
 },
 "nbformat": 4,
 "nbformat_minor": 5
}
