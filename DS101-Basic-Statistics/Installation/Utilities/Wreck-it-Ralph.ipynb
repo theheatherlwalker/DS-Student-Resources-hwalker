{
 "cells": [
  {
   "cell_type": "markdown",
   "id": "dd9f05a3-6cdc-4eec-8751-bffc6c5fa922",
   "metadata": {},
   "source": [
    "# Wreck it Ralph"
   ]
  },
  {
   "cell_type": "markdown",
   "id": "afde0843-8c16-4021-b50e-f56630e94b51",
   "metadata": {},
   "source": [
    "Let's wreck this notebook with multiple edits..."
   ]
  },
  {
   "cell_type": "markdown",
   "id": "98b3aa3b-cc82-4a2b-80ef-6c87fccd77e1",
   "metadata": {},
   "source": [
    "Matthew Is Updating"
   ]
  },
  {
   "cell_type": "code",
   "execution_count": null,
   "id": "a6cea337-f9fa-413a-9728-817b80bb05bc",
   "metadata": {},
   "outputs": [],
   "source": []
  }
 ],
 "metadata": {
  "kernelspec": {
   "display_name": "Python 3 (ipykernel)",
   "language": "python",
   "name": "python3"
  },
  "language_info": {
   "codemirror_mode": {
    "name": "ipython",
    "version": 3
   },
   "file_extension": ".py",
   "mimetype": "text/x-python",
   "name": "python",
   "nbconvert_exporter": "python",
   "pygments_lexer": "ipython3",
   "version": "3.10.4"
  }
 },
 "nbformat": 4,
 "nbformat_minor": 5
}
Holy fork. Save yourselves!!!!
