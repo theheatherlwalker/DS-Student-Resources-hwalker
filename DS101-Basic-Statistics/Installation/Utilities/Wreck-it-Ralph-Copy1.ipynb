{
 "cells": [
  {
   "cell_type": "markdown",
   "id": "dd9f05a3-6cdc-4eec-8751-bffc6c5fa922",
   "metadata": {},
   "source": [
    "# Wreck it Ralph"
   ]
  },
  {
   "cell_type": "markdown",
   "id": "afde0843-8c16-4021-b50e-f56630e94b51",
   "metadata": {},
   "source": [
    "Let's wreck this notebook with multiple edits..."
   ]
  },
  {
   "cell_type": "code",
   "execution_count": null,
   "id": "197b67b2-b531-4bff-9b21-12304debcfed",
   "metadata": {},
   "outputs": [],
   "source": []
  }
 ],
 "metadata": {
  "kernelspec": {
   "display_name": "Python 3 (ipykernel)",
   "language": "python",
   "name": "python3"
  },
  "language_info": {
   "codemirror_mode": {
    "name": "ipython",
    "version": 3
   },
   "file_extension": ".py",
   "mimetype": "text/x-python",
   "name": "python",
   "nbconvert_exporter": "python",
   "pygments_lexer": "ipython3",
   "version": "3.9.13"
  }
 },
 "nbformat": 4,
 "nbformat_minor": 5
}
