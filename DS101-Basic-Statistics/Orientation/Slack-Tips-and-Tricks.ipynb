{
 "cells": [
  {
   "cell_type": "code",
   "execution_count": 1,
   "id": "c1f4730f-917a-4727-b779-32aca970e0a4",
   "metadata": {},
   "outputs": [
    {
     "data": {
      "text/html": [
       "\n",
       "        <iframe\n",
       "            width=\"720\"\n",
       "            height=\"480\"\n",
       "            src=\"https://player.vimeo.com/video/734518012\"\n",
       "            frameborder=\"0\"\n",
       "            allowfullscreen\n",
       "            \n",
       "        ></iframe>\n",
       "        "
      ],
      "text/plain": [
       "<IPython.lib.display.VimeoVideo at 0x1dd106880>"
      ]
     },
     "execution_count": 1,
     "metadata": {},
     "output_type": "execute_result"
    }
   ],
   "source": [
    "from IPython.display import VimeoVideo\n",
    "# Tutorial Video Name: Set Slack Notifications\n",
    "VimeoVideo('734518012', width=720, height=480)"
   ]
  },
  {
   "cell_type": "markdown",
   "id": "2e19927d-8d76-412a-9c4e-809724e2940b",
   "metadata": {},
   "source": [
    "https://vimeo.com/734518012"
   ]
  },
  {
   "cell_type": "markdown",
   "id": "f4e491cf-7407-46e0-84c5-586792f0edfb",
   "metadata": {},
   "source": [
    "[transcript](Media/slack-tips-and-tricks.pdf)"
   ]
  },
  {
   "cell_type": "code",
   "execution_count": null,
   "id": "c43689cc-e4a5-47de-b25d-1c6f40071229",
   "metadata": {},
   "outputs": [],
   "source": []
  }
 ],
 "metadata": {
  "kernelspec": {
   "display_name": "Python 3 (ipykernel)",
   "language": "python",
   "name": "python3"
  },
  "language_info": {
   "codemirror_mode": {
    "name": "ipython",
    "version": 3
   },
   "file_extension": ".py",
   "mimetype": "text/x-python",
   "name": "python",
   "nbconvert_exporter": "python",
   "pygments_lexer": "ipython3",
   "version": "3.9.13"
  }
 },
 "nbformat": 4,
 "nbformat_minor": 5
}
