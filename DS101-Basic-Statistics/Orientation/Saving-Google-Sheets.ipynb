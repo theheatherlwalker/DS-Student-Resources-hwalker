{
 "cells": [
  {
   "cell_type": "code",
   "execution_count": 1,
   "id": "7cc24bdb-0045-4f49-a5f7-69b3e0ef5b65",
   "metadata": {},
   "outputs": [
    {
     "data": {
      "text/html": [
       "\n",
       "        <iframe\n",
       "            width=\"720\"\n",
       "            height=\"480\"\n",
       "            src=\"https://player.vimeo.com/video/734522228\"\n",
       "            frameborder=\"0\"\n",
       "            allowfullscreen\n",
       "            \n",
       "        ></iframe>\n",
       "        "
      ],
      "text/plain": [
       "<IPython.lib.display.VimeoVideo at 0x1e36f88b0>"
      ]
     },
     "execution_count": 1,
     "metadata": {},
     "output_type": "execute_result"
    }
   ],
   "source": [
    "from IPython.display import VimeoVideo\n",
    "# Tutorial Video Name: Set Slack Notifications\n",
    "VimeoVideo('734522228', width=720, height=480)"
   ]
  },
  {
   "cell_type": "markdown",
   "id": "1afee8ff-a6de-4f3c-9903-f90bd7a1a0b4",
   "metadata": {},
   "source": [
    "https://vimeo.com/734522228"
   ]
  },
  {
   "cell_type": "markdown",
   "id": "b05eb5b5-5ab3-434a-a173-52b89276b6b5",
   "metadata": {},
   "source": [
    "[transcript](Media/Save-Googlesheet.pdf)"
   ]
  },
  {
   "cell_type": "code",
   "execution_count": null,
   "id": "b8defe83-1cab-4aaf-a3be-e718ef452d0b",
   "metadata": {},
   "outputs": [],
   "source": []
  }
 ],
 "metadata": {
  "kernelspec": {
   "display_name": "Python 3 (ipykernel)",
   "language": "python",
   "name": "python3"
  },
  "language_info": {
   "codemirror_mode": {
    "name": "ipython",
    "version": 3
   },
   "file_extension": ".py",
   "mimetype": "text/x-python",
   "name": "python",
   "nbconvert_exporter": "python",
   "pygments_lexer": "ipython3",
   "version": "3.9.13"
  }
 },
 "nbformat": 4,
 "nbformat_minor": 5
}
