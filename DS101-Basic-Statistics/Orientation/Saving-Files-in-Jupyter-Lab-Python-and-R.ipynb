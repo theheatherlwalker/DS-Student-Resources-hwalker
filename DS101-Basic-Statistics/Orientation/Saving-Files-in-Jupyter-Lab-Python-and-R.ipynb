{
 "cells": [
  {
   "cell_type": "code",
   "execution_count": 1,
   "id": "80fdddb2-8b92-4fee-847b-190029259df9",
   "metadata": {},
   "outputs": [
    {
     "data": {
      "text/html": [
       "\n",
       "        <iframe\n",
       "            width=\"720\"\n",
       "            height=\"480\"\n",
       "            src=\"https://player.vimeo.com/video/734528591\"\n",
       "            frameborder=\"0\"\n",
       "            allowfullscreen\n",
       "            \n",
       "        ></iframe>\n",
       "        "
      ],
      "text/plain": [
       "<IPython.lib.display.VimeoVideo at 0x1153f3880>"
      ]
     },
     "execution_count": 1,
     "metadata": {},
     "output_type": "execute_result"
    }
   ],
   "source": [
    "from IPython.display import VimeoVideo\n",
    "# Tutorial Video Name: Set Slack Notifications\n",
    "VimeoVideo('734528591', width=720, height=480)"
   ]
  },
  {
   "cell_type": "markdown",
   "id": "67a17a6b-a163-4a8b-a3c5-bea0f0ca3ab6",
   "metadata": {},
   "source": [
    "https://vimeo.com/734528591"
   ]
  },
  {
   "cell_type": "markdown",
   "id": "ee178ae5-b6cc-4660-b85a-245d33a73a39",
   "metadata": {},
   "source": [
    "[transcript](Media/Jupyter-python-r-save-file.pdf)"
   ]
  },
  {
   "cell_type": "code",
   "execution_count": null,
   "id": "79edcc2a-2110-4aff-bd28-7e2280047f00",
   "metadata": {},
   "outputs": [],
   "source": []
  }
 ],
 "metadata": {
  "kernelspec": {
   "display_name": "Python 3 (ipykernel)",
   "language": "python",
   "name": "python3"
  },
  "language_info": {
   "codemirror_mode": {
    "name": "ipython",
    "version": 3
   },
   "file_extension": ".py",
   "mimetype": "text/x-python",
   "name": "python",
   "nbconvert_exporter": "python",
   "pygments_lexer": "ipython3",
   "version": "3.9.13"
  }
 },
 "nbformat": 4,
 "nbformat_minor": 5
}
