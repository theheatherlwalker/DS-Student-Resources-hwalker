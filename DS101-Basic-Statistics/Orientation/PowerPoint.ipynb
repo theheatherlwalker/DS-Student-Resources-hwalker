{
 "cells": [
  {
   "cell_type": "markdown",
   "id": "088d57ba-3093-487f-9043-00933a17afb2",
   "metadata": {},
   "source": [
    "---\n",
    "#### Check this out\n",
    "\n",
    "Code version"
   ]
  },
  {
   "cell_type": "code",
   "execution_count": 3,
   "id": "175d503b-3015-4d5f-9189-35796bf5b744",
   "metadata": {},
   "outputs": [
    {
     "data": {
      "text/html": [
       "<a href='./Media/helpers.pdf' target='_blank'>./Media/helpers.pdf</a><br>"
      ],
      "text/plain": [
       "C:\\Users\\matth\\Documents\\GitHub\\DS-Student-Resources\\DS101-Basic-Statistics\\Orientation\\Media\\helpers.pdf"
      ]
     },
     "execution_count": 3,
     "metadata": {},
     "output_type": "execute_result"
    }
   ],
   "source": [
    "from IPython.display import FileLink, FileLinks\n",
    "FileLink(\"./Media/helpers.pdf\")"
   ]
  },
  {
   "cell_type": "markdown",
   "id": "d56feeee-daa4-4f41-80ad-3dc3842b4ecc",
   "metadata": {},
   "source": [
    "---\n",
    "HTML Version"
   ]
  },
  {
   "cell_type": "markdown",
   "id": "c556e3ee-0746-4a49-8c1c-21c7aaf10f56",
   "metadata": {},
   "source": [
    "<a href=\"./Media/helpers.pdf\">Also this link</a>"
   ]
  }
 ],
 "metadata": {
  "kernelspec": {
   "display_name": "Python 3 (ipykernel)",
   "language": "python",
   "name": "python3"
  },
  "language_info": {
   "codemirror_mode": {
    "name": "ipython",
    "version": 3
   },
   "file_extension": ".py",
   "mimetype": "text/x-python",
   "name": "python",
   "nbconvert_exporter": "python",
   "pygments_lexer": "ipython3",
   "version": "3.9.10"
  }
 },
 "nbformat": 4,
 "nbformat_minor": 5
}
