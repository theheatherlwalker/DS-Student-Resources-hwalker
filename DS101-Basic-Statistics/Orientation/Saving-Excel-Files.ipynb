{
 "cells": [
  {
   "cell_type": "code",
   "execution_count": 1,
   "id": "70393223-a7dc-4825-9aab-33f70eadf565",
   "metadata": {},
   "outputs": [
    {
     "data": {
      "text/html": [
       "\n",
       "        <iframe\n",
       "            width=\"720\"\n",
       "            height=\"480\"\n",
       "            src=\"https://player.vimeo.com/video/734520562\"\n",
       "            frameborder=\"0\"\n",
       "            allowfullscreen\n",
       "            \n",
       "        ></iframe>\n",
       "        "
      ],
      "text/plain": [
       "<IPython.lib.display.VimeoVideo at 0x1e107a8b0>"
      ]
     },
     "execution_count": 1,
     "metadata": {},
     "output_type": "execute_result"
    }
   ],
   "source": [
    "from IPython.display import VimeoVideo\n",
    "# Tutorial Video Name: Set Slack Notifications\n",
    "VimeoVideo('734520562', width=720, height=480)"
   ]
  },
  {
   "cell_type": "markdown",
   "id": "c798078d-715f-4ce8-96fb-0327771d797f",
   "metadata": {},
   "source": [
    "https://vimeo.com/734520562"
   ]
  },
  {
   "cell_type": "markdown",
   "id": "e0a2e6ee-589a-439d-baa4-fa3ab2249729",
   "metadata": {},
   "source": [
    "[transcript](Media/Excel-save.pdf)"
   ]
  },
  {
   "cell_type": "code",
   "execution_count": null,
   "id": "819391e9-eca2-401f-8b88-d4c5f7b76e85",
   "metadata": {},
   "outputs": [],
   "source": []
  }
 ],
 "metadata": {
  "kernelspec": {
   "display_name": "Python 3 (ipykernel)",
   "language": "python",
   "name": "python3"
  },
  "language_info": {
   "codemirror_mode": {
    "name": "ipython",
    "version": 3
   },
   "file_extension": ".py",
   "mimetype": "text/x-python",
   "name": "python",
   "nbconvert_exporter": "python",
   "pygments_lexer": "ipython3",
   "version": "3.9.13"
  }
 },
 "nbformat": 4,
 "nbformat_minor": 5
}
