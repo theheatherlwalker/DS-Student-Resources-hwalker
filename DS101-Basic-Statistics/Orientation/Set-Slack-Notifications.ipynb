{
 "cells": [
  {
   "cell_type": "code",
   "execution_count": 2,
   "id": "00bbade6-daac-4e83-9d0e-3b80e37e152b",
   "metadata": {},
   "outputs": [
    {
     "data": {
      "text/html": [
       "\n",
       "        <iframe\n",
       "            width=\"720\"\n",
       "            height=\"480\"\n",
       "            src=\"https://player.vimeo.com/video/734515479\"\n",
       "            frameborder=\"0\"\n",
       "            allowfullscreen\n",
       "            \n",
       "        ></iframe>\n",
       "        "
      ],
      "text/plain": [
       "<IPython.lib.display.VimeoVideo at 0x1e16273d0>"
      ]
     },
     "execution_count": 2,
     "metadata": {},
     "output_type": "execute_result"
    }
   ],
   "source": [
    "from IPython.display import VimeoVideo\n",
    "# Tutorial Video Name: Set Slack Notifications\n",
    "VimeoVideo('734515479', width=720, height=480)"
   ]
  },
  {
   "cell_type": "markdown",
   "id": "3678b0c3-7fc6-4e78-a4f2-51e81c726bcb",
   "metadata": {},
   "source": [
    "https://vimeo.com/734515479"
   ]
  },
  {
   "cell_type": "markdown",
   "id": "c4b1a3da-81ad-473d-976e-070fa44fac55",
   "metadata": {},
   "source": [
    "[Transcript](Media/Turn-on-slack-notifactions.pdf)"
   ]
  },
  {
   "cell_type": "code",
   "execution_count": null,
   "id": "e9757095-eee9-4b0f-954f-437174856170",
   "metadata": {},
   "outputs": [],
   "source": []
  }
 ],
 "metadata": {
  "kernelspec": {
   "display_name": "Python 3 (ipykernel)",
   "language": "python",
   "name": "python3"
  },
  "language_info": {
   "codemirror_mode": {
    "name": "ipython",
    "version": 3
   },
   "file_extension": ".py",
   "mimetype": "text/x-python",
   "name": "python",
   "nbconvert_exporter": "python",
   "pygments_lexer": "ipython3",
   "version": "3.9.13"
  }
 },
 "nbformat": 4,
 "nbformat_minor": 5
}
