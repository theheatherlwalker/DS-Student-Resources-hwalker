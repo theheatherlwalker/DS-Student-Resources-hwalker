{
 "cells": [
  {
   "cell_type": "markdown",
   "id": "f1119d86-81e3-4344-be76-424bf0dd5533",
   "metadata": {},
   "source": [
    "# DS101- BASIC STATISTICS:   "
   ]
  },
  {
   "cell_type": "markdown",
   "id": "8b8f9b3b-1e57-46dd-a53c-f258368f6754",
   "metadata": {},
   "source": [
    "- Lesson 7 \n",
    "- Lesson 7 helper link here\n",
    "- How do I attach my Excel Helpers here?"
   ]
  },
  {
   "cell_type": "markdown",
   "id": "d90c86e7-0e3b-496b-9ff5-ce8f87058f29",
   "metadata": {},
   "source": [
    "# DS102- STATISTICAL PROGRAMING IN R:"
   ]
  },
  {
   "cell_type": "markdown",
   "id": "1ca2b9b8-68ba-494a-83cc-d1b5a477d149",
   "metadata": {
    "tags": []
   },
   "source": [
    "## Restart or Update R:\n",
    "\n",
    "#### First Save your work!!! \n",
    "\n",
    "1. Here's what to do....\n",
    "    - Clear our your R:\n",
    "    - clear out the entire R console, environment and plot section with that broom's\n",
    "2. Restart R:\n",
    "    - click session at the top menu bar\n",
    "    - restart R\n",
    "3. Update R:\n",
    "    - click Help on the menu bar\n",
    "    - check for updates\n",
    "    - update\n",
    "    - Exit out of R in order to install the upgrade\n",
    "4.  It will navigate you to the website\n",
    "    - choose the free version\n",
    "    - download to you type of computer\n",
    "    - once downloaded, go back to R\n",
    "    - double check that it upgraded by clicking help and check for updates, it will say you have the latest version if done correctly"
   ]
  },
  {
   "cell_type": "markdown",
   "id": "2b717d9d-700a-4e70-b6e3-1aeffbfc51a4",
   "metadata": {},
   "source": [
    "- Lesson 3 For Loops\n",
    "- Helper Link here"
   ]
  },
  {
   "cell_type": "markdown",
   "id": "e42a96e3-ccc1-4dba-ba5a-0f38f3dccd61",
   "metadata": {},
   "source": [
    "- Lesson 7: \n",
    "    - Subset the vectors and use the vector in `t-test`, not `datasetName$columnName`"
   ]
  },
  {
   "cell_type": "markdown",
   "id": "c1e07e55-cabf-4352-a908-d3edbd5edba9",
   "metadata": {},
   "source": [
    "- Lesson 8:\n",
    "    - Get Mos' video"
   ]
  },
  {
   "cell_type": "markdown",
   "id": "92f48713-9a5f-4ce6-885c-a1cb243f7df4",
   "metadata": {},
   "source": [
    "# DS108- DATABASES:"
   ]
  },
  {
   "cell_type": "markdown",
   "id": "aa789a17-73fb-48b2-a689-becb2ec0940e",
   "metadata": {},
   "source": [
    "- SQL:\n",
    "    - where, like and order by video (https://vimeo.com/415351814)\n",
    "    - Joins (https://vimeo.com/showcase/5252343/video/561034501) \n",
    "    - Put photos in Media and Upload Jessenia's photos on left and right joins\n",
    "    - Create Tables"
   ]
  },
  {
   "cell_type": "markdown",
   "id": "b9aea507-bc2c-4ee9-bd24-0d1c116fdeeb",
   "metadata": {},
   "source": [
    "- NoSQL:\n",
    "    - Connecting mongo VIDEO\n",
    "    - embedding \n",
    "    - NoSQL syntax"
   ]
  },
  {
   "cell_type": "markdown",
   "id": "5734d98f-6d89-4d9e-8c70-054677e7eded",
   "metadata": {},
   "source": [
    "# DS109- PROGRAMING IN PYTHON:"
   ]
  },
  {
   "cell_type": "markdown",
   "id": "6cbf0258-73af-4fb2-92fa-5e59a20efc57",
   "metadata": {},
   "source": [
    "- Python syntax's \n",
    "    - dictionary\n",
    "    - etc"
   ]
  },
  {
   "cell_type": "markdown",
   "id": "b91d7f58-aca0-4ce7-bf7e-4df81d9bceb0",
   "metadata": {},
   "source": [
    "- How to run Python Code correctly in VScode"
   ]
  },
  {
   "cell_type": "markdown",
   "id": "3ad82a9c-c06c-4371-8bcd-8542fcb45dd8",
   "metadata": {},
   "source": [
    "- Final\n",
    "    - needs better instructions or new video"
   ]
  },
  {
   "cell_type": "markdown",
   "id": "aa65b9f0-bed9-455a-a7d8-126a2e9bee98",
   "metadata": {},
   "source": [
    "# DS104- DATA WRANGLING AND VISUALIZATIONS:"
   ]
  },
  {
   "cell_type": "markdown",
   "id": "baa38286-eedc-4f54-9ecb-7c337a671817",
   "metadata": {},
   "source": [
    "## Import Data"
   ]
  },
  {
   "cell_type": "markdown",
   "id": "f0f44c17-50bc-461f-a25d-20949bdf727a",
   "metadata": {},
   "source": [
    "#### Python: "
   ]
  },
  {
   "cell_type": "code",
   "execution_count": null,
   "id": "280264d8-cfbf-4fab-b762-1f32ebefdf91",
   "metadata": {},
   "outputs": [],
   "source": [
    "# Only 1 time, will not have to do this again if pandas is not working\n",
    "pip install pandas\n",
    "\n",
    "# Import packages:\n",
    "import pandas as pd\n",
    "\n",
    "# Import data:\n",
    "# CSV:\n",
    "DatasetName = pd.read_csv(\"pathway.csv\")\n",
    "# EXCEL:\n",
    "DatasetName = pd.read_excel(\"pathway.xlsx\")\n",
    "\n",
    "# Look at data:\n",
    "DatasetName.head()"
   ]
  },
  {
   "cell_type": "markdown",
   "id": "d9c93a3e-94d9-4374-8964-ce082ef8063a",
   "metadata": {},
   "source": [
    "#### R:"
   ]
  },
  {
   "cell_type": "code",
   "execution_count": null,
   "id": "bd73240a-26bf-409a-85fa-d2a5e226fe11",
   "metadata": {},
   "outputs": [],
   "source": [
    "# Import Packages:\n",
    "install.packages(“readr”)\n",
    "install.packages(“readxl”)\n",
    "library(readr)\n",
    "library(readxl)\n",
    "\n",
    "# Import Data:\n",
    "# CSV:\n",
    "DatasetName <- read_csv(\"pathway.csv\")\n",
    "# EXCEL:\n",
    "DatasetName <- read_excel(\"pathway.xlsx\")\n",
    "\n",
    "# Look at Dataset:\n",
    "View(DatasetName)\n",
    "head(DatasetName)"
   ]
  },
  {
   "cell_type": "markdown",
   "id": "7a8daac9-7096-4edd-a370-d0cce0630b6a",
   "metadata": {},
   "source": [
    "## Looking at the Datasets:"
   ]
  },
  {
   "cell_type": "markdown",
   "id": "84c1f645-6cc6-49aa-b785-27c163d7eef3",
   "metadata": {},
   "source": [
    "#### Python:"
   ]
  },
  {
   "cell_type": "code",
   "execution_count": null,
   "id": "eb663f9d-9d6e-4c1b-ba1d-92d4b639bb92",
   "metadata": {},
   "outputs": [],
   "source": [
    "# Looking at Entire Dataset:\n",
    "datasetName()\n",
    "\n",
    "# Looking at top 5 columns:\n",
    "DatasetName.head()"
   ]
  },
  {
   "cell_type": "markdown",
   "id": "a7abc7d7-604a-4394-a7e0-add604d64c66",
   "metadata": {},
   "source": [
    "#### R:"
   ]
  },
  {
   "cell_type": "code",
   "execution_count": null,
   "id": "cba6ffcc-eb5d-4b11-9d47-fab6725936ac",
   "metadata": {},
   "outputs": [],
   "source": [
    "# Look at Entire Dataset:\n",
    "View(DatasetName)\n",
    "\n",
    "# Looking at top 5 columns:\n",
    "head(DatasetName)"
   ]
  },
  {
   "cell_type": "markdown",
   "id": "cc640bb6-6ea7-408e-b651-e9b44c474abb",
   "metadata": {},
   "source": [
    "## Column Names"
   ]
  },
  {
   "cell_type": "markdown",
   "id": "6d222fc3-4e7a-412e-a532-d78e07645487",
   "metadata": {},
   "source": [
    "#### Python:"
   ]
  },
  {
   "cell_type": "code",
   "execution_count": null,
   "id": "4eb481fe-db40-4bf5-9874-d0ddec7626a5",
   "metadata": {},
   "outputs": [],
   "source": [
    "datasetName.columns"
   ]
  },
  {
   "cell_type": "markdown",
   "id": "bda4ad05-9961-46f7-94c7-6a11823fe758",
   "metadata": {},
   "source": [
    "#### R:"
   ]
  },
  {
   "cell_type": "code",
   "execution_count": null,
   "id": "76f1955d-e038-44ce-8e01-50554e101080",
   "metadata": {},
   "outputs": [],
   "source": [
    "names(dataFrame)"
   ]
  },
  {
   "cell_type": "markdown",
   "id": "ce5b8cb5-541a-4b83-87a4-0df327ee4305",
   "metadata": {},
   "source": [
    "## Column Variables"
   ]
  },
  {
   "cell_type": "markdown",
   "id": "03906940-99e3-4455-89e2-2dbd9b5bbd1a",
   "metadata": {},
   "source": [
    "#### Python:"
   ]
  },
  {
   "cell_type": "code",
   "execution_count": null,
   "id": "ea4065df-3ad4-42e2-bef1-d74d11882253",
   "metadata": {},
   "outputs": [],
   "source": [
    "df.column.value_counts()"
   ]
  },
  {
   "cell_type": "markdown",
   "id": "449c58ef-9a36-4d89-941d-7a85ee636e96",
   "metadata": {},
   "source": [
    "#### R:"
   ]
  },
  {
   "cell_type": "code",
   "execution_count": null,
   "id": "98b2153f-f045-4f57-a856-b9b3150307b8",
   "metadata": {},
   "outputs": [],
   "source": [
    "unique(Dataset$column)"
   ]
  },
  {
   "cell_type": "markdown",
   "id": "47fa690f-784f-4c95-b1b4-476479189af4",
   "metadata": {},
   "source": [
    "## Dataset Structure: "
   ]
  },
  {
   "cell_type": "markdown",
   "id": "5c3f3b94-4809-4c26-a324-fdc4cc4cd932",
   "metadata": {},
   "source": [
    "#### Python:"
   ]
  },
  {
   "cell_type": "code",
   "execution_count": null,
   "id": "9f4be8b4-a427-4999-9141-48c0d5a96ba4",
   "metadata": {},
   "outputs": [],
   "source": [
    "# looks at data types\n",
    "Dataset.info()\n",
    "\n",
    "# count, max, min, quartiles, std, mean\n",
    "Dataset.describe()"
   ]
  },
  {
   "cell_type": "markdown",
   "id": "796a0c91-b1ec-4c3c-b723-58b715513147",
   "metadata": {},
   "source": [
    "#### R:"
   ]
  },
  {
   "cell_type": "code",
   "execution_count": null,
   "id": "e50e8780-5679-4ec8-a606-f9ac460dee48",
   "metadata": {},
   "outputs": [],
   "source": [
    "str(datasetName)"
   ]
  },
  {
   "cell_type": "markdown",
   "id": "3e7d3b8e-255e-484d-a2af-f2fb56880bdf",
   "metadata": {},
   "source": [
    "## Removing Missing Data"
   ]
  },
  {
   "cell_type": "markdown",
   "id": "0c8fd8ec-eeae-4138-b5ed-344a0e7f6efc",
   "metadata": {},
   "source": [
    "#### Python:"
   ]
  },
  {
   "cell_type": "code",
   "execution_count": null,
   "id": "396c22bc-6f05-4823-8b15-df81bb550175",
   "metadata": {},
   "outputs": [],
   "source": [
    "dataset.dropna(inplace=True)"
   ]
  },
  {
   "cell_type": "markdown",
   "id": "ed95a34c-f0ff-4108-bec1-a4839ec39a23",
   "metadata": {},
   "source": [
    "#### R:"
   ]
  },
  {
   "cell_type": "code",
   "execution_count": null,
   "id": "2a766228-9caa-432d-ab2b-4aab906b4ed1",
   "metadata": {},
   "outputs": [],
   "source": [
    "newdatasetName <- na.omit(\"OriginalDataset\")\n",
    "newdatasetName <- NaRV.omit(\"OriginalDataset\")"
   ]
  },
  {
   "cell_type": "markdown",
   "id": "866e372c-68e6-4b22-a234-177fb0ec76c4",
   "metadata": {},
   "source": [
    "## Dropping Columns"
   ]
  },
  {
   "cell_type": "markdown",
   "id": "8fc11ece-3142-40a9-9233-23286ee00807",
   "metadata": {},
   "source": [
    "#### Python:"
   ]
  },
  {
   "cell_type": "code",
   "execution_count": null,
   "id": "915dc795-7bbc-43dc-8a85-78a29f74e5a3",
   "metadata": {},
   "outputs": [],
   "source": [
    "datasetName.drop(['Column1', 'Column2', 'Column3'], axis=1, inplace=True)"
   ]
  },
  {
   "cell_type": "markdown",
   "id": "4132b8d1-9abc-455b-918a-54647dfc2cc3",
   "metadata": {},
   "source": [
    "#### R:"
   ]
  },
  {
   "cell_type": "code",
   "execution_count": null,
   "id": "2722b7f0-a00d-4216-a1e4-a35a61be84b0",
   "metadata": {},
   "outputs": [],
   "source": [
    "# Filtering and Keeping the column you want, While removing the other: \n",
    "newDSname <- na.omit(ogDS %>% filter(ColumnName %in% c(“keep”, “these”, “categories” ,“ within this column”)))"
   ]
  },
  {
   "cell_type": "markdown",
   "id": "c954f606-e8c1-4396-9b47-9c40111cdc0b",
   "metadata": {},
   "source": [
    "## Renaming Columns"
   ]
  },
  {
   "cell_type": "markdown",
   "id": "59b789b3-8020-463d-922a-b2ba3eb9d563",
   "metadata": {},
   "source": [
    "#### Python"
   ]
  },
  {
   "cell_type": "code",
   "execution_count": null,
   "id": "a0a8d65d-1c1a-4b1a-8ebe-411456b06672",
   "metadata": {},
   "outputs": [],
   "source": [
    "# Example 1\n",
    "DS[\"New Column Name\"].(Old Column Name)\n",
    "\n",
    "# Example 2\n",
    "datasetName.rename(columns={\"old column name 1\":\"new column name 1\", \"old column name 2\":\"new column name 2\"}, inplace=True)"
   ]
  },
  {
   "cell_type": "markdown",
   "id": "ff7cfa2c-e509-46e8-a5bd-fd8c6e0569fc",
   "metadata": {},
   "source": [
    "#### R"
   ]
  },
  {
   "cell_type": "code",
   "execution_count": null,
   "id": "2338344b-3a5a-46e7-8c86-03b6ca3a31a7",
   "metadata": {},
   "outputs": [],
   "source": [
    "# Example 1\n",
    "names(DS)[names(DS) == \"old column name\"]  <- \"New Column Name\" "
   ]
  },
  {
   "cell_type": "markdown",
   "id": "d34f5740-ec40-40d8-b47e-5dec48c560fb",
   "metadata": {},
   "source": [
    "## Recoding"
   ]
  },
  {
   "cell_type": "markdown",
   "id": "e4d1829b-f6a3-40f5-9ac8-9f3b7c5d82a6",
   "metadata": {},
   "source": [
    "#### Python:"
   ]
  },
  {
   "cell_type": "code",
   "execution_count": null,
   "id": "7968cfef-ada7-4514-ba00-ada9fbffdbdf",
   "metadata": {},
   "outputs": [],
   "source": [
    "# Python: Recoding/ Replacing:\n",
    "# 4 different ways to recode:\n",
    "\n",
    "# Find the Columns you need to recode\n",
    "dataset.unique()\n",
    "\n",
    "# Look and see what variables are inside your column. And see what variables you need to recode. \n",
    "\n",
    "dataSetName.ColumnName.value_counts()\n",
    "dataset.ColumnName.unique()"
   ]
  },
  {
   "cell_type": "code",
   "execution_count": null,
   "id": "fe8a5694-59cb-46e1-881c-1264e3e7b864",
   "metadata": {
    "tags": []
   },
   "outputs": [],
   "source": [
    "# Step 1: \n",
    "# 1 way to recode 1 column and the variables\n",
    "\n",
    "def NewFunctionName (series):\n",
    "  if series == \"Original Column Category Name\":\n",
    "    return \"0\"\n",
    "  if series == \"OG column category\": \n",
    "    return \"1\"\n",
    "  if series == \"OG column category\": \n",
    "    return \"2\"\n",
    "  if series == \"OG column category\": \n",
    "    return \"3\"\n",
    "\n",
    "DataSetName[\"RecodeColName\"] = DataSetName[\"OriginalColName\"].apply(NewFunctionName)"
   ]
  },
  {
   "cell_type": "code",
   "execution_count": null,
   "id": "f5ab5805-af1f-4fdd-abea-84175178c24a",
   "metadata": {},
   "outputs": [],
   "source": [
    "# Step 2:\n",
    "# 2nd Way: If you don't want to type all that code above. You can just replace the variables instead of recoding. Using the .replace() function and correct syntax format. Keep in mind the numbers are numeric, bc your changing the original variables to it's new numeric values.\n",
    "\n",
    "dataFrame['NewColumnName'] = dataFrame['OriginalColumnName'].replace(['Variable0', 'Variable1, 'Variable2'],[0,1,2])\n",
    "\n",
    "dataFrame = dataFrame['NewColumnName']\n"
   ]
  },
  {
   "cell_type": "code",
   "execution_count": null,
   "id": "6e208f08-854f-4cae-b5a5-1ad7c5aaa62c",
   "metadata": {},
   "outputs": [],
   "source": [
    "# Step 3:\n",
    "# 3rd Way: you can just entirely replace the variables inside the column ADD do multiple columns at once. Using the .replace() function and correct syntax format. \n",
    "\n",
    "NewVariableName = {\n",
    "\"ColumnName\": {\"variable\": 0, \"variable1\": 1,\"variable2\": 2},\n",
    "\"ColumnName1\": {\"variable\": 0, \"variable1\": 1, \"variable2\": 2},  \n",
    "\"ColumnName2\": {\"variable\": 0, \"variable1\": 1, \"variable2\": 2}}     \n",
    "\n",
    "DatasetName.replace(NewVariableName , inplace=True)"
   ]
  },
  {
   "cell_type": "code",
   "execution_count": null,
   "id": "442af8f8-ec18-4098-b07b-d2e6ad2fbf02",
   "metadata": {},
   "outputs": [],
   "source": [
    "# Step 4:\n",
    "#recode using replace() function\n",
    "df.replace(['Manga', '4-koma manga', 'Web manga', 'Digital manga'], 'Manga', inplace =True)\n",
    "df.replace(['Light novel', 'Novel', 'Visual novel', 'Picture book', 'Book'], 'Book', inplace =True)\n",
    "df.replace(['Game', 'Card game'], 'Game', inplace =True)\n",
    "df.replace(['Original', 'Other', 'Music', 'Radio'], 'Listening', inplace =True)"
   ]
  },
  {
   "cell_type": "markdown",
   "id": "077d57c2-aab6-45d3-b7c8-f33614fb27d4",
   "metadata": {},
   "source": [
    "#### R:"
   ]
  },
  {
   "cell_type": "code",
   "execution_count": null,
   "id": "035c7474-5bed-4cd4-b26f-89d63f164c52",
   "metadata": {},
   "outputs": [],
   "source": [
    "df$columnNameRecode <- NA\n",
    "df$columnNameRecode[df$columnName <= variables] <- 0\n",
    "df$columnNameRecode[df$columnName > variables] <- 1\n",
    "\n",
    "df$columnNameRecode[df$columnName == 'variables'] <- 0\n",
    "df$columnNameRecode[df$columnName == 'variables'] <- 1"
   ]
  },
  {
   "cell_type": "markdown",
   "id": "8ae9a921-cb1a-4139-a55b-424d87dac649",
   "metadata": {},
   "source": [
    "## Changing Data Types:"
   ]
  },
  {
   "cell_type": "markdown",
   "id": "e584f209-76ef-470c-9b6b-ebe5a4dae1e2",
   "metadata": {},
   "source": [
    "#### Python:"
   ]
  },
  {
   "cell_type": "code",
   "execution_count": null,
   "id": "aad0a8dc-7e64-4840-916a-d0d2307dc4c3",
   "metadata": {},
   "outputs": [],
   "source": [
    "ds.column = ds.column.astype(int)\n",
    "ds.column = ds.column.astype(str)"
   ]
  },
  {
   "cell_type": "markdown",
   "id": "6df4bcfa-7d15-4ea3-8152-c361abc36363",
   "metadata": {},
   "source": [
    "#### R:"
   ]
  },
  {
   "cell_type": "code",
   "execution_count": null,
   "id": "3f78c596-9764-44e2-96dd-f1aac661657b",
   "metadata": {},
   "outputs": [],
   "source": [
    "ds$column <- as.numeric(ds$column) "
   ]
  },
  {
   "cell_type": "markdown",
   "id": "96aaf6ca-7c4a-40dc-a176-f282209842cd",
   "metadata": {},
   "source": [
    "## Aggregating:"
   ]
  },
  {
   "cell_type": "markdown",
   "id": "8ace29be-9553-431b-9937-100d6f75ceb1",
   "metadata": {},
   "source": [
    "#### Python:"
   ]
  },
  {
   "cell_type": "code",
   "execution_count": null,
   "id": "49adac5d-e788-4512-b834-9a469e13ca63",
   "metadata": {},
   "outputs": [],
   "source": [
    "datasetName.groupby('CagitoricalColumnName')['ContinousColumnName'].sum() "
   ]
  },
  {
   "cell_type": "code",
   "execution_count": null,
   "id": "d7f37c86-cc9e-45ec-9b79-5c06a798a8b8",
   "metadata": {},
   "outputs": [],
   "source": [
    "Dataset.groupby(\"ColumnName\").mean( )"
   ]
  },
  {
   "cell_type": "markdown",
   "id": "e63f35b4-6007-4531-bc6a-dec59471ffb1",
   "metadata": {},
   "source": [
    "#### R:"
   ]
  },
  {
   "cell_type": "code",
   "execution_count": null,
   "id": "46224363-e7da-443c-95dd-d1df8989f4b1",
   "metadata": {},
   "outputs": [],
   "source": [
    "datasetName <- aggregate(ContinousColumnName ~ CagitoricalColumnName, originaldatasetName, sum)"
   ]
  },
  {
   "cell_type": "markdown",
   "id": "c11dbfbf-372b-49f2-9031-89d76cc8efa4",
   "metadata": {},
   "source": [
    "## Joining Dataset by Common Columns: "
   ]
  },
  {
   "cell_type": "markdown",
   "id": "fd2d1abc-6100-4c83-9525-a0f6fe4bd718",
   "metadata": {},
   "source": [
    "#### Python:"
   ]
  },
  {
   "cell_type": "code",
   "execution_count": null,
   "id": "97e5a817-0ed6-4adb-bc1d-6f76e46e67d3",
   "metadata": {},
   "outputs": [],
   "source": [
    "datasetName = pd.merge(datasetName1, datasetName2, on='CommonColumn')\n",
    "datasetName.head()"
   ]
  },
  {
   "cell_type": "markdown",
   "id": "2eeb1994-563f-48dc-a152-0369dd35ef50",
   "metadata": {},
   "source": [
    "#### R:"
   ]
  },
  {
   "cell_type": "code",
   "execution_count": null,
   "id": "bde200a1-95c5-4876-97c3-22f43ba05145",
   "metadata": {},
   "outputs": [],
   "source": [
    "datasetName <- merge(datasetName1, datasetName2, by=c(\"CommonColumn\"))"
   ]
  },
  {
   "cell_type": "markdown",
   "id": "c573d81c-0f1f-42fb-b0fa-e07fb888eff9",
   "metadata": {},
   "source": [
    "## Appending Datasets: \n",
    "- Adding two datasets together"
   ]
  },
  {
   "cell_type": "markdown",
   "id": "f333c418-cb3a-467c-8565-7eb2e2791bf8",
   "metadata": {},
   "source": [
    "#### Python:"
   ]
  },
  {
   "cell_type": "code",
   "execution_count": null,
   "id": "2845c03a-a013-4b7e-9c83-1a6c3596ccc1",
   "metadata": {},
   "outputs": [],
   "source": [
    "datasetName3 = pd.concat([datasetName1, datasetName2])"
   ]
  },
  {
   "cell_type": "markdown",
   "id": "873ff5eb-f238-45ad-8a23-d27b1a07a5b4",
   "metadata": {},
   "source": [
    "#### R:"
   ]
  },
  {
   "cell_type": "code",
   "execution_count": null,
   "id": "86a8ac11-3611-4ecf-8de8-66db232fbf2c",
   "metadata": {},
   "outputs": [],
   "source": [
    "datasetName3 <- rbind(datasetName1, datasetName2)"
   ]
  },
  {
   "cell_type": "markdown",
   "id": "2af03f40-1c5e-42a3-870d-5253fcc71227",
   "metadata": {},
   "source": [
    "# Graphing:"
   ]
  },
  {
   "cell_type": "markdown",
   "id": "1ac76c30-dd56-491b-bf9a-f16099c12cec",
   "metadata": {},
   "source": [
    "## Histograms"
   ]
  },
  {
   "cell_type": "markdown",
   "id": "f818920b-e96f-4b41-9cdf-5296e76b96e7",
   "metadata": {},
   "source": [
    "#### Python:"
   ]
  },
  {
   "cell_type": "code",
   "execution_count": null,
   "id": "9368e45a-dfa2-4721-8ec4-caf4f8e9b91a",
   "metadata": {},
   "outputs": [],
   "source": [
    "# Basic Histogram:\n",
    "datasetName['columnName'].hist()\n",
    "\n",
    "# Basic Histogram:\n",
    "# Comparing Columns (continious data vs categorical data)\n",
    "datasetName.columnName1[datasetName.columnName2 == \"Column Variable from Column 2\"].hist()"
   ]
  },
  {
   "cell_type": "markdown",
   "id": "a72aa301-6b36-458f-ad95-f3e8e4f2fdff",
   "metadata": {},
   "source": [
    "#### R:"
   ]
  },
  {
   "cell_type": "code",
   "execution_count": null,
   "id": "9217c307-0d7d-42b7-8c73-b3e7496ff5ce",
   "metadata": {},
   "outputs": [],
   "source": [
    "# library(ggplot2)\n",
    "# Basic Histogram:\n",
    "ggplot(dataframe, aes(columnName)) + geom_histogram( ) \n",
    "\n",
    "# Labeled Histogram:\n",
    "ggplot(dataframe, aes(columnName)) +\n",
    "geom_bar( ) +\n",
    "ggtitle(\"Title\") +\n",
    "xlab(\"X Label\") +\n",
    "ylab(\"Y Label / Frequency\") \n",
    "\n",
    "# library(lattice)\n",
    "barchart(dataFrame$columnName, main= \"Title\", ylab= \"Y Label\" , xlab= \"X Label / Frequency\")\n",
    "\n",
    "# (By default x and y are switched in lattice)"
   ]
  },
  {
   "cell_type": "markdown",
   "id": "b86353e7-fc49-41a5-be77-9a4b550a6b43",
   "metadata": {},
   "source": [
    "## Box Plots"
   ]
  },
  {
   "cell_type": "markdown",
   "id": "95fd826d-8115-4f34-bddc-fef8ae197292",
   "metadata": {},
   "source": [
    "#### Python:"
   ]
  },
  {
   "cell_type": "code",
   "execution_count": null,
   "id": "048011c5-4198-40b8-b7fb-4dbc015aa662",
   "metadata": {},
   "outputs": [],
   "source": [
    "HR.satisfaction_level.hist()"
   ]
  },
  {
   "cell_type": "code",
   "execution_count": null,
   "id": "ead710e3-6c34-4c48-9175-455614b5b001",
   "metadata": {},
   "outputs": [],
   "source": [
    "import matplotlib.mlab as mlab\n",
    "import matplotlib.pyplot as plt\n",
    "\n",
    "n, bins, patches = plt.hist(HR[\"satisfaction_level\"], num_bins, facecolor=\"blue\", alpha=.05)"
   ]
  },
  {
   "cell_type": "markdown",
   "id": "dc6c404c-e80f-4bb8-b3c5-e69c36e4a8c4",
   "metadata": {},
   "source": [
    "#### R:"
   ]
  },
  {
   "cell_type": "code",
   "execution_count": null,
   "id": "989be510-a4f1-4a0b-809c-2f349cd8445f",
   "metadata": {},
   "outputs": [],
   "source": [
    "num_bins = 5\n",
    "n, bins, patches = plt.hist(HR['satisfaction_level'], num_bins, facecolor='blue', alpha=.05)\n",
    "plt.xlabel('Satisfaction Level')\n",
    "plt.ylabel('Frequency')\n",
    "plt.title('Histogram of Satisfaction Level')\n",
    "plt.show()"
   ]
  },
  {
   "cell_type": "code",
   "execution_count": null,
   "id": "40cf7d10-aae4-4798-9195-af2d32017c18",
   "metadata": {},
   "outputs": [],
   "source": [
    "newName <- ggplot(datasetName, aes(x = \" \", y = columnName))\n",
    "newName + geom_boxplot() + xlab(\" \")"
   ]
  },
  {
   "cell_type": "markdown",
   "id": "2ef01757-d7e3-4628-ba8d-c9db1e9ac3d2",
   "metadata": {},
   "source": [
    "## Line Plots:"
   ]
  },
  {
   "cell_type": "markdown",
   "id": "d7b88d54-e268-49a2-adc6-901eeeb96993",
   "metadata": {},
   "source": [
    "#### Python:"
   ]
  },
  {
   "cell_type": "code",
   "execution_count": null,
   "id": "668ec3d4-6d8e-4f1d-ac52-0018214f91d9",
   "metadata": {},
   "outputs": [],
   "source": [
    "matplotlib(package)\n",
    "plt.plot(Earthquakes['Date'], Earthquakes['M'])"
   ]
  },
  {
   "cell_type": "markdown",
   "id": "cbd18b06-42f2-4b4d-aeeb-66e0a5d47f0f",
   "metadata": {},
   "source": [
    "#### R:"
   ]
  },
  {
   "cell_type": "code",
   "execution_count": null,
   "id": "502ff380-68d1-4d00-8e05-49013a9b2e51",
   "metadata": {},
   "outputs": [],
   "source": [
    "# (needs to all be numeric, refer to page 14)\n",
    "# syntax Example\n",
    "ggplot(earthquakes, aes(as.Date(Date, \"%j-%b-%y\"), M)) +\n",
    "    geom_line() + \n",
    "    xlab(\"Date of Earthquake\") + \n",
    "    ylab(\"Earthquake Magnitude\") + \n",
    "    ggtitle(\"Magnitude of Earthquakes over Time\")\n",
    "\n",
    "# syntax \n",
    "library(ggplot2)\n",
    "ggplot(dataFrame, aes(as.Date(DateVariable, \"SpecifyDateFormat\"), Yvariable)) +\n",
    "    geom_line() +\n",
    "    xlab(\"X Label\") +\n",
    "    ylab(\"Y Label\") +\n",
    "    ggtitle(\"Title\") "
   ]
  },
  {
   "cell_type": "markdown",
   "id": "a5e9221e-48db-471b-a16a-daa942251b0d",
   "metadata": {},
   "source": [
    "## Scatter Plots:"
   ]
  },
  {
   "cell_type": "markdown",
   "id": "e65acb35-a3b0-4f36-bf4c-f0419c504adc",
   "metadata": {},
   "source": [
    "#### Python:"
   ]
  },
  {
   "cell_type": "code",
   "execution_count": null,
   "id": "5c30e71a-61e5-46d5-8f98-96de5760a821",
   "metadata": {},
   "outputs": [],
   "source": [
    "Plot = nutrition.plot.scatter(x= \"fats\", y= \"sat fats\")\n",
    "Plot.set_title(\"Fats by Saturated Fats\")\n",
    "Plot.set_xlabel(\"Fats\")\n",
    "Plot.set_ylabel(\"Saturated Fats\")"
   ]
  },
  {
   "cell_type": "markdown",
   "id": "ca8b7d3e-68b2-4ad7-83a5-78fd5ca686a0",
   "metadata": {},
   "source": [
    "#### R:"
   ]
  },
  {
   "cell_type": "code",
   "execution_count": null,
   "id": "94e5d957-e9c5-43e5-8ecb-697cbb15d23c",
   "metadata": {},
   "outputs": [],
   "source": []
  },
  {
   "cell_type": "markdown",
   "id": "fc44560e-08b9-4b17-ba1e-4520f6cba3ff",
   "metadata": {},
   "source": [
    "## Normal Distributions Plots: "
   ]
  },
  {
   "cell_type": "markdown",
   "id": "2a9b2b3a-db20-4102-8c10-f273a38dfb5f",
   "metadata": {},
   "source": [
    "#### Python:"
   ]
  },
  {
   "cell_type": "code",
   "execution_count": null,
   "id": "27c9eec2-df12-473c-9bee-9af4c136d4d1",
   "metadata": {},
   "outputs": [],
   "source": []
  },
  {
   "cell_type": "markdown",
   "id": "0f9d429b-4a9d-4863-8361-bf3c29cc511b",
   "metadata": {},
   "source": [
    "#### R:"
   ]
  },
  {
   "cell_type": "code",
   "execution_count": null,
   "id": "e04c27dd-e3f9-4afe-93ed-030c766524d3",
   "metadata": {},
   "outputs": [],
   "source": [
    "ggplot(datasetName, aes(sample = columnName)) + geom_qq()\n",
    "\n",
    "plotNormalHistogram(ds$column)"
   ]
  },
  {
   "cell_type": "markdown",
   "id": "bf080103-8140-428d-b159-cde21a670c3e",
   "metadata": {},
   "source": [
    "# Bar Charts: "
   ]
  },
  {
   "cell_type": "markdown",
   "id": "5b5e48d2-a564-44ee-bc39-988b00c8dcb5",
   "metadata": {},
   "source": [
    "#### Python:"
   ]
  },
  {
   "cell_type": "code",
   "execution_count": null,
   "id": "b192fe16-a256-4a3c-93c5-9a560ec09e56",
   "metadata": {},
   "outputs": [],
   "source": [
    "HR['salary'].value_counts().plot(kind='bar')"
   ]
  },
  {
   "cell_type": "markdown",
   "id": "7bd22930-fc93-4709-9bd8-6b619fc2d8d5",
   "metadata": {},
   "source": [
    "#### R:"
   ]
  },
  {
   "cell_type": "code",
   "execution_count": null,
   "id": "ce35a8de-cb4a-4049-8645-930b4f4085e7",
   "metadata": {},
   "outputs": [],
   "source": [
    "library (ggplot) \n",
    "library (lattice )\n",
    "\n",
    "barchart(HR_data$salary)\n",
    "# OR\n",
    "barchart(HR_data$salary, main=\"Frequency of Salary\", ylab = \"Salary Category\", xlab = \"Frequency\", col=\"green\")"
   ]
  },
  {
   "cell_type": "markdown",
   "id": "2e3d57b5-8537-405c-ab18-70b86fcccbfc",
   "metadata": {},
   "source": [
    "## Stacked Bar Chart: "
   ]
  },
  {
   "cell_type": "markdown",
   "id": "a2670d70-49c7-424e-92d2-c403c665e3d9",
   "metadata": {},
   "source": [
    "#### Python:"
   ]
  },
  {
   "cell_type": "code",
   "execution_count": null,
   "id": "dcb5e75c-7cb6-41e0-a938-9accb054e394",
   "metadata": {},
   "outputs": [],
   "source": [
    "crosstab_df = pd.crosstab(HR_data['sales'], HR_data['salary'])\n",
    "crosstab_df.plot.bar(stacked=True)"
   ]
  },
  {
   "cell_type": "markdown",
   "id": "480a4e84-1b0f-45a8-9adb-d233edc55aac",
   "metadata": {},
   "source": [
    "#### R:"
   ]
  },
  {
   "cell_type": "code",
   "execution_count": null,
   "id": "8a03ad4c-0f5d-43b6-9d0a-70a53ab170cc",
   "metadata": {},
   "outputs": [],
   "source": [
    "ggplot(data=HR_data) +\n",
    "    geom_bar(mapping = aes(x = sales, fill=salary)) + \n",
    "    ggtitle(\"Sales Categories by Salary Level\") +\n",
    "    xlab(\"Sales Category\") +\n",
    "    ylab(\"Frequency\") "
   ]
  },
  {
   "cell_type": "markdown",
   "id": "1bc5485c-64d9-4d07-8375-6b7e2d81e37f",
   "metadata": {},
   "source": [
    "# DS106- MACHINE LEARNING AND MODELING:"
   ]
  },
  {
   "cell_type": "code",
   "execution_count": null,
   "id": "b7dad604-5d68-4664-8bc7-f86e7f9d46ea",
   "metadata": {},
   "outputs": [],
   "source": [
    "pip install numpy\n",
    "pip install sklearn\n",
    "pip install scipy\n",
    "pip install matplotlib\n",
    "pip install ntlk"
   ]
  },
  {
   "cell_type": "markdown",
   "id": "53b30892-88ca-434d-88de-912c6696eb46",
   "metadata": {},
   "source": [
    "### Lesson 1 - Diamonds Handson\n",
    "\n",
    "1. When you are doing ANY type of modeling or ML, your dataset must be cleaned up and most of the time needs to be numeric. \n",
    "\n",
    "2. That means recoding any categorical variables to numeric variables and dropping columns you do not need, you dont know what they mean, or are repetitive. Remove missing data\n",
    "\n",
    "\t\tDrop unwanted columns\n",
    "\t\tRemove missing data\n",
    "\t\tRecode categorical to numeric\n",
    "\n",
    "\n",
    "3. Drop Columns:\n",
    "    - Python:\n",
    "        - `datasetName.drop([\"Column1\", \"Column2\", \"Column3\"], axis=1, inplace=True)`\n",
    "    - R: (Filtering and Keeping the column you want, While removing the other) \n",
    "        - `newDSname <- na.omit(OrginalDataset %>% filter(ColumnName %in% c(\"keep\", \"these\", \"categories\", \"within this column\")))`\n",
    "\n",
    "\n",
    "4. Remove missing Data: \n",
    "    - Python:\n",
    "        - `dataset.dropna(inplace=True)`\n",
    "    - R:\n",
    "        - `newdatasetName <- na.omit(\"OriginalDataset\")`\n",
    "        - `newdatasetName <- NaRV.omit(\"OriginalDataset\")`\n",
    "\n",
    "\n",
    "5. Check Data Type:\n",
    "    - Python:\n",
    "        - `info()`\n",
    "    - R:\n",
    "        - `str()`\n",
    "\n",
    "\n",
    "6. Change Data Type to numeric:\n",
    "    - Python:\n",
    "        - `ds.column = ds.column.astype(int)`\n",
    "     - R: \n",
    "         - `ds$column <- as.numeric(ds$column)` \n",
    "\n",
    "\n",
    "7. Look at your Columns variables:\n",
    "    - Python:\n",
    "        - `dataset.value_counts(\"ColumnName\")`\n",
    "    - R:\n",
    "        - `unique(Dataset$column)`\n",
    "\n",
    "8. Recode:\n",
    "    - Python:\n",
    "    - R: \n",
    "\n",
    "9. These are the steps you need to take in order to Data Wrangle and Transform your data in order to run ML or Modeling.\n"
   ]
  },
  {
   "cell_type": "markdown",
   "id": "e2ba8964-8922-4e82-b9cb-a34256885a0f",
   "metadata": {},
   "source": [
    "### Lesson 1 - Page 6\n",
    "1. When you are testing for outliers in the X space and you are using Jupyter notebook, the code from the lesson `CookD(lmMod, group=NULL, plot=TRUE, idn=3, newwd=TRUE)`\n",
    "will not populate due to `newwd=TRUE`. \n",
    "\n",
    "2. This only works in RStudio as it opens a new window. If using Jupyter notebook, use the code `CookD(lmMod, group=NULL, plot=TRUE, idn=3, newwd=FALSE)` for a perfectly populated graph. Happy Coding!"
   ]
  },
  {
   "cell_type": "markdown",
   "id": "78057d0b-e91b-44ae-8bae-9c60f6131bcd",
   "metadata": {
    "tags": []
   },
   "source": [
    "### Lesson 1 - Page 7\n",
    "1. For my fellow learners doing k-Folds, if you are using the newest version of sklearn, the code\n",
    "    - `kfold = KFold(3, True, 1) for train, test in kfold.split(x,y):\n",
    "    print('train: %s, test: %s' % (train,test))`"
   ]
  },
  {
   "cell_type": "markdown",
   "id": "3bf37c3f-df1d-45d0-adc0-e1112da570c2",
   "metadata": {},
   "source": [
    "### Lesson 2:"
   ]
  },
  {
   "cell_type": "markdown",
   "id": "295563e1-0aa6-4b9a-b4c9-45ea29c505c5",
   "metadata": {},
   "source": [
    "`tidyverse` or `dpylr` packages not working:\n",
    "1. Here's what to do....\n",
    "    - Clear our your R:\n",
    "    - clear out the entire R console, environment and plot section with that broom's\n",
    "2. Restart R:\n",
    "    - click session at the top menu bar\n",
    "    - restart R\n",
    "3. Update R:\n",
    "    - click Help on the menu bar\n",
    "    - check for updates\n",
    "    - update\n",
    "    - Exit out of R in order to install the upgrade\n",
    "4.  It will navigate you to the website\n",
    "    - choose the free version\n",
    "    - download to you type of computer\n",
    "    - once downloaded, go back to R\n",
    "    - double check that it upgraded by clicking help and check for updates, it will say you have the latest version if done correctly\n",
    "5. Install tidyverse and dpylr \n",
    "6. Then once the R has restarted/upgraded go to the bottom a directly type inside the console\n",
    "    - `install.packages(\"tidyverse\")`\n",
    "    - `install.packages(\"dpylr\")`\n",
    "7. That should do the trick. The function `%<%` is not working be your `dyplr` package. Im not sure why, but it's touchy."
   ]
  },
  {
   "cell_type": "markdown",
   "id": "993c569f-9a8a-48e0-a03c-30e8e027e3e7",
   "metadata": {},
   "source": [
    "### Lesson 3\n",
    "- Expontential and Quadratic graphs "
   ]
  },
  {
   "cell_type": "markdown",
   "id": "ad93123a-e3b7-4ad6-9a2b-631933bc45d3",
   "metadata": {},
   "source": [
    "# DS105- INTERMEDIATE STATISTICS:"
   ]
  },
  {
   "cell_type": "code",
   "execution_count": null,
   "id": "3fa4c611-cc7a-45d6-b9d9-86359d0f807b",
   "metadata": {},
   "outputs": [],
   "source": [
    "pip install seaborn"
   ]
  },
  {
   "cell_type": "markdown",
   "id": "002b3cd0-45e4-48de-bf6e-467504c4030d",
   "metadata": {},
   "source": [
    "### Lesson 8\n",
    "\n",
    "Error in:\n",
    "- `leveneTest(trestbps~sex, data=heartAttacks)`\n",
    "- Error in `leveneTest.formula(trestbps ~ sex, data = heartAttacks)`\n",
    "\n",
    "Fix it:\n",
    "- Run this first\n",
    "- `heartAttacks$sex = as.factor(heartAttacks$sex)`"
   ]
  },
  {
   "cell_type": "markdown",
   "id": "f44900a9-5f0d-4e6d-b875-84acd53bc840",
   "metadata": {},
   "source": [
    "# DS107- INTRODUCTION TO BIG DATA:"
   ]
  },
  {
   "cell_type": "markdown",
   "id": "9e2e4006-3553-4f5a-8318-02a68f61f013",
   "metadata": {},
   "source": [
    "### Slack Reminders:"
   ]
  },
  {
   "cell_type": "markdown",
   "id": "7e23bd69-134f-445f-8a04-fe2579e342d8",
   "metadata": {},
   "source": [
    "#### Message 1:\n",
    "1. Hello everyone and Welcome to DSO107\n",
    " - If you have ONLY 8 GB ram of memory please just do the alternate assignments instead of hortonworks. \n",
    " - Do not download anything!!! The download and running of the Virtual Machine which takes a lot of resources to run. \n",
    " - If you have more than 8 GB ram on your computer, feel free to try it out...\n",
    "2. HOWEVER... We’re working on alternate AWS Academy courses instead of the Hortonworks. The Instructor has sent out and email Invitation to AWS Academy. If you have not received it please let \n",
    "- @Joseph Raetano\n",
    "- @Dr. Mohamad Saleh "
   ]
  },
  {
   "cell_type": "markdown",
   "id": "948f2188-080d-4c11-93fb-e2f8e028ed7f",
   "metadata": {},
   "source": [
    "#### Message 2:\n",
    "1. Hello everyone and welcome to DSO107. If you have only 8 GB of memory please just do the alternate assignments instead of hortonworks. If you have more feel free to try it out, but know that we’re working on alternate AWS Academy courses instead of the Hortonworks download and running of the Virtual Machine which takes a lot of resources to run. I’ll send out AWS Academy invites out soon to the email you have on file."
   ]
  },
  {
   "cell_type": "markdown",
   "id": "3ba72d69-2876-4c55-8a2c-43b19599620c",
   "metadata": {},
   "source": [
    "# DS103- METRICS AND PROCESSING:"
   ]
  },
  {
   "cell_type": "markdown",
   "id": "fe826c67-c41e-4fb9-b285-8aa7db0605e5",
   "metadata": {},
   "source": [
    "### Lesson 5: Reliability and Validity Hands On\n",
    "- https://woz-u.slack.com/archives/C0293SYRP8A/p1634662296032200"
   ]
  },
  {
   "cell_type": "markdown",
   "id": "93c626d7-635f-40f1-bbc3-e60364934eef",
   "metadata": {},
   "source": [
    "Project Management: `Prep for Final Project`\n",
    "   - Scrum/Trello Videos and walk throughs\n",
    "   - Waterfall Examples and Videos\n",
    "   - Monkey Survey\n",
    "    "
   ]
  }
 ],
 "metadata": {
  "kernelspec": {
   "display_name": "Python 3 (ipykernel)",
   "language": "python",
   "name": "python3"
  },
  "language_info": {
   "codemirror_mode": {
    "name": "ipython",
    "version": 3
   },
   "file_extension": ".py",
   "mimetype": "text/x-python",
   "name": "python",
   "nbconvert_exporter": "python",
   "pygments_lexer": "ipython3",
   "version": "3.9.10"
  }
 },
 "nbformat": 4,
 "nbformat_minor": 5
}
