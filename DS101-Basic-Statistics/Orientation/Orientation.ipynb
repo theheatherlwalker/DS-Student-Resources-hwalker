{
 "cells": [
  {
   "cell_type": "markdown",
   "id": "85e15993-addb-49fd-a0a5-c3f54264e6f3",
   "metadata": {},
   "source": [
    "# Embedding Orientation into 101 "
   ]
  },
  {
   "cell_type": "markdown",
   "id": "d77f2447-3592-424e-b2e2-2ce7c85cdb39",
   "metadata": {},
   "source": [
    "## Welcome video from the whole DSO team\n",
    "\n",
    "choreograph steps\n",
    "1.\n",
    "2.\n",
    "3.\n",
    "4.\n",
    "next Wednesday let's do the Team video"
   ]
  },
  {
   "cell_type": "markdown",
   "id": "09cefb24-a035-47b7-b93b-c00dcdd62035",
   "metadata": {},
   "source": [
    "ORIENTATION:\n",
    "1. Welcome Video from Data Science Team\n",
    "\n",
    "\n",
    "2. Let's start with Program Installations\n",
    "    - All the applications you need for the Program.\n",
    "    - At the beginning of each lesson, there will be instructions to reinstall the programs. Please `DO NOT` re-install, do a update!!!\n",
    "        - [Windows/Chocolatey](https://nbviewer.org/github/woz-u/DS-Student-Resources/blob/main/DS101-Basic-Statistics/Installation/Chocolatey.ipynb)\n",
    "        - [Mac/Homebrew](https://nbviewer.org/github/woz-u/DS-Student-Resources/blob/main/DS101-Basic-Statistics/Installation/Homebrew.ipynb)\n",
    "\n",
    "\n",
    "3. Stay Organized\n",
    "    - Learn to organize school work and use modern software and techniques.\n",
    "        - Watch and Follow [GitHub Desktop](https://nbviewer.org/github/woz-u/DS-Student-Resources/blob/main/DS101-Basic-Statistics/Examples/1-Github-Basics.ipynb)\n",
    "\n",
    "\n",
    "4. Learn Companion Notebooks Basics\n",
    "    - Let's walk through some Jupyter Notebooks AKA Companion Notebooks Series AKA DS-Students Resources. This is a series made in Jupyterlab. These were specifically made to provide you with extra resources, what we call Example Notebooks, to help you with Hands-on assignments and more. Given how fast technology updates, the example notebooks, or companion notebooks, are our way of keeping up with new information in the world of data analysis. \n",
    "        - [Navigate the Companion Noteboooks Series](../Examples/0-Navigating-the-Companion-Notebook-Series.ipynb)\n",
    "\n",
    "\n",
    "5. Turning in assignments, follow these steps: Save, Zip, Send to LMS, Save to GitHub\n",
    "    - Windows\n",
    "        - Save files:\n",
    "            - [Excel & Google Sheets]()\n",
    "            - [Document and Screen Shots]() \n",
    "            - [Python & R Jupyter]()\n",
    "            - [Python VScode]()\n",
    "            - [R Studio]()   \n",
    "        - [Unzipping and Zipping files on Windows](https://vimeo.com/718457259)\n",
    "        - Save to GitHub\n",
    "    - Mac\n",
    "        - Save files:\n",
    "            - [Excel & Google Sheets]()\n",
    "            - [Document and Screen Shots]() \n",
    "            - [Python & R Jupyter]()\n",
    "            - [Python VScode]()\n",
    "            - [R Studio]()\n",
    "        - Unzipping and Zipping Files on Mac\n",
    "        - Save to GitHub\n",
    "\n",
    "\n",
    "\n",
    "6. Proper Communication\n",
    "    - Slack Basics\n",
    "        - [Turn on Notifications](https://vimeo.com/734515479)\n",
    "        - [How to create a help ticket]()\n",
    "        - [Slack tips like huddle, screen-sharing, etc]()\n",
    "    - Zoom Basics\n",
    "        - Download on computer\n",
    "        - Zoom etiquette\n",
    "            - If you have a question, please be ready on your computer, at the scheduled time, and ready to start working\n",
    "            - Please have camera on to have face to face interaction\n",
    "            - Please be clothed \n",
    "            - Please be ready to share your screen\n",
    "            - Students need to be ready on computer or RESCHEDULE AHEAD OF TIME\n",
    "            - Quiet Place\n",
    "\n",
    "\n",
    "7. Key Board Basics\n",
    "    - Common Key board shortcuts:\n",
    "        - copying: \n",
    "            - `Windows(CTRL + C)` \n",
    "            - `Mac(CMD + C)`\n",
    "        - pasting: \n",
    "            - `Windows(CTRL + V)` \n",
    "            - `Mac(CMD + V)`\n",
    "        - undo: \n",
    "            - `Windows(CTRL + Z)` \n",
    "            - `Mac(CMD + Z)`\n",
    "        - screen shots: \n",
    "            - `Windows(Windows + shift + s)` \n",
    "            - `Mac(CMD + shift + 3,4,5)`\n",
    "        - shows all open applications: \n",
    "            - `Windows(alt+ tab)` \n",
    "            - `Mac(3 fingers on track pad and swipe up)` \n",
    "\n",
    "\n",
    "8. How to Problem Solve!\n",
    "    - Google\n",
    "    - YouTube\n",
    "    - Various Forums such as StackOverflow\n",
    "    - Using code validators\n",
    "        - [Python](https://extendsclass.com/python-tester.html)\n",
    "        - [SQL](https://www.eversql.com/sql-syntax-check-validator/)\n",
    "        - [Markdown](https://codebeautify.org/markdown-viewer)\n"
   ]
  },
  {
   "cell_type": "markdown",
   "id": "53e50c1a-c313-4614-ae48-1723d410076c",
   "metadata": {},
   "source": [
    "---"
   ]
  },
  {
   "cell_type": "markdown",
   "id": "585f092d-098e-4b44-9847-3ac5acfa19c2",
   "metadata": {},
   "source": [
    "[load notebook](Loading-Data-Archiving-Walk-through-R-Python.ipynb)"
   ]
  },
  {
   "cell_type": "markdown",
   "id": "ae8abba5-1493-409b-ae98-852e3882eefc",
   "metadata": {},
   "source": [
    "[load DS101](../DS101-L1-Introduction-to-Data-Science.ipynb)"
   ]
  },
  {
   "cell_type": "markdown",
   "id": "900e483d-385b-4786-b312-46e98e092199",
   "metadata": {},
   "source": [
    "NEED TO WORK ON:\n",
    "\n",
    "10. Added an Assignments folder to DS-Student-Resources, next have the students fork it and have them work from those folders. This serves as a backup and organizational objective for the student and gives them the ability to share their work with mentors to analyze their code in real-time on Github."
   ]
  },
  {
   "cell_type": "code",
   "execution_count": null,
   "id": "c44f583a-873c-4a9c-84bb-5e413c8f442c",
   "metadata": {},
   "outputs": [],
   "source": []
  }
 ],
 "metadata": {
  "kernelspec": {
   "display_name": "Python 3 (ipykernel)",
   "language": "python",
   "name": "python3"
  },
  "language_info": {
   "codemirror_mode": {
    "name": "ipython",
    "version": 3
   },
   "file_extension": ".py",
   "mimetype": "text/x-python",
   "name": "python",
   "nbconvert_exporter": "python",
   "pygments_lexer": "ipython3",
   "version": "3.9.13"
  }
 },
 "nbformat": 4,
 "nbformat_minor": 5
}
