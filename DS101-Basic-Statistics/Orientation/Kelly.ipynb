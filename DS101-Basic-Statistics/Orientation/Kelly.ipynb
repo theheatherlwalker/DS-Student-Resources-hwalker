{
 "cells": [
  {
   "cell_type": "markdown",
   "id": "6c84a7f5-ccd2-4c74-b6a7-3605244e1b18",
   "metadata": {},
   "source": [
    "# Welcome Students"
   ]
  },
  {
   "cell_type": "markdown",
   "id": "da604a88-2fe0-4182-aaba-119847ed6248",
   "metadata": {},
   "source": [
    "#### Call:\n",
    "\n",
    "1. Course Starts: \n",
    "2. Time Zone: \n",
    "3. Schedule: \n",
    "4. Internet:\n",
    "5. Comp Specs: \n",
    "6. 1on1: \n",
    "- ( Is orientation done? )\n",
    "- ( 33 weeks long, 8 months, final project 6 weeks )\n",
    "- ( Due dates, 2 lessons due every Wed and Sun )\n",
    "- ( Attendance: 5/7, or every other day, 20 min ) \n",
    "- ( Do you have slack and zoom on your computer? )\n",
    "- ( Add them to #datascience channel ) \n",
    "- ( Tell them office hours Mon-Fri 4-5 MT )"
   ]
  },
  {
   "cell_type": "markdown",
   "id": "246cc011-5665-4ca2-86be-ed39ea18fdc4",
   "metadata": {},
   "source": [
    "#### Email:\n",
    "    \n",
    "    Hello,\n",
    " ",
    "Welcome to the Data Science Program! \n",
    "\n",
    "My name is Julie Boucher, your Data Science Mentor! My hours are Sunday 10 am - 9 pm MT and Monday-Wednesday 9 am - 8 pm MT. \n",
    "\n",
    "My calendar is posted at the end of this email. Please choose a good time to set up a 10-30 min call, if we have not spoken already. I just need to ask a few questions before you start the program. \n",
    "\n",
    "Please attempt and follow the following instructions step-by-step below. \n",
    "\n",
    "Step 1. \n",
    "Identifying your computer: \n",
    "What are your Computer specs? Here's how you check... \n",
    "\n",
    "Mac: \n",
    "- Apple Icon top left - About this Mac ",
    "- GB rams? ",
    "- icore processor? \n",
    "- Need to have the newest OS system Monterey, or we can also get by with BigSur\n",
    "\n",
    "Windows: \n",
    "- Search Bar ",
    "- Type “About this PC” ",
    "- Click on “About this PC” \n",
    "- GB rams? ",
    "- icore processor? \n",
    "- Need to have the newest Windows 11 system, or we can get by with Windows 10\n",
    "\n",
    "Minimum Requirement: \n",
    "- 8 GB Ram ",
    "- icore 5 processor ",
    "- 2018 newer\n",
    "\n",
    "Recommended: \n",
    "- 16 GB Ram ",
    "- icore 7 processor ",
    "- 2019 newer\n",
    "\n",
    "Step 2. \n",
    "If your computer does meet the computer specs please continue to Step 3. ",
    "Otherwise, if your computer does not meet computer specs, please let me know right away so I can notify my managers and schedule a meeting with me to figure out the next steps. (My calendar is at the end of this email, schedule a time). \n",
    "\n",
    "Step 3. \n",
    "Installing Programs: \n",
    "Throughout your data science program, you will use a few programs to learn to code. Using the applicable link below, please attempt this installation and follow these steps carefully. There are videos that walk through how to install the programs. Please follow along with the video and the step-by-step instructions. \n",
    "\n",
    "Paying attention to detail is very important! Good Luck =) \n",
    "\n",
    "Windows: Chocolatey Installation \n",
    "OR ",
    "Mac: Home-brew Installation \n",
    "\n",
    "Windows: https://github.com/woz-u/DS-Student-Resources/blob/main/DS101-Basic-Statistics/Installation/Chocolatey.ipynb\n",
    " ",
    "Macs: https://github.com/woz-u/DS-Student-Resources/blob/main/DS101-Basic-Statistics/Installation/Homebrew.ipynb \n",
    "\n",
    "Note.\n",
    "Try to complete installations by yourself first. ",
    " If you cannot download the programs and need further assistance, please schedule a time with me on my calendar below this email. \n",
    "\n",
    "Step 4. \n",
    "Complete Orientation: \n",
    "When You are finished installing your Programs. Complete your orientation. \n",
    "Download/Sign-in to Slack/Zoom on your computer (not in the browser) \n",
    "Sign in through the links in the emails that were sent to you. ( the Exeter LMS, Slack, and Zoom) \n",
    "Create an account if you have not already \n",
    "For the slack account please use your real name for the user name. We need to know whom we are talking to based on the name we have in the system. \n",
    "\n",
    "Step 5. \n",
    "Set up your 1st Weekly meeting:\n",
    "The last thing, we need to set up our 1st meeting. Please schedule a time to virtually meet the first week of when your course begins. My schedule is Sun-Wed. It will have to be on that Mon-Wed when you begin the course. If none of the available times work for you, let me know through email and we can coordinate something manually. \n",
    "\n",
    "My Calendar: \n",
    "https://calendly.com/julie-boucher-1/30min \n",
    "\n",
    "\n",
    "Thank you and looking forward to meeting you, \n",
    "Julie Boucher\n",
    "\n",
    "\n",
    "\n",
    "\n",
    "\n"
   ]
  },
  {
   "cell_type": "markdown",
   "id": "f4595d37-9bac-4c10-a8a1-cd5e8115af09",
   "metadata": {},
   "source": [
    "#### Checking Installations\n",
    "Setup 1on1\n",
    "1. Check the applications and see which ones installed\n",
    "    - Visual Studio Code\n",
    "    - Rstudio\n",
    "    - Rconsole\n",
    "    - Tableau\n",
    "    - My SQL\n",
    "    - Github Desktop\n",
    "    - Gpower\n",
    "2. Check Repo by opeing Github Desktop\n",
    "    - Want to see if DS-student-Resources is in Repo\n",
    "    - Walk them through how to pull latest changes\n",
    "3. Open Jupyter Lab\n",
    "    - open up terminal(mac)/command prompt(windows) \n",
    "    - type `jupyter lab`, run \n",
    "    - Checking the interface for the Python Kernel, R Kernel and Julia Kernel\n",
    "    - Check Documnets, Github, DS-students-resources\n",
    "        - Walk through the 1st module\n",
    "        - Walk throught the Example Folder"
   ]
  },
  {
   "cell_type": "code",
   "execution_count": null,
   "id": "4d4cb567-193f-43d1-9d65-5ef083558fc1",
   "metadata": {},
   "outputs": [],
   "source": []
  }
 ],
 "metadata": {
  "kernelspec": {
   "display_name": "Python 3 (ipykernel)",
   "language": "python",
   "name": "python3"
  },
  "language_info": {
   "codemirror_mode": {
    "name": "ipython",
    "version": 3
   },
   "file_extension": ".py",
   "mimetype": "text/x-python",
   "name": "python",
   "nbconvert_exporter": "python",
   "pygments_lexer": "ipython3",
   "version": "3.9.10"
  }
 },
 "nbformat": 4,
 "nbformat_minor": 5
}
