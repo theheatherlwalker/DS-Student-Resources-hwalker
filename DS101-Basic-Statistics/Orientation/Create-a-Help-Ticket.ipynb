{
 "cells": [
  {
   "cell_type": "code",
   "execution_count": 2,
   "id": "184a067a-facc-4fd8-b9ae-b8fc9bc32256",
   "metadata": {},
   "outputs": [
    {
     "data": {
      "text/html": [
       "\n",
       "        <iframe\n",
       "            width=\"720\"\n",
       "            height=\"480\"\n",
       "            src=\"https://player.vimeo.com/video/734512203\"\n",
       "            frameborder=\"0\"\n",
       "            allowfullscreen\n",
       "            \n",
       "        ></iframe>\n",
       "        "
      ],
      "text/plain": [
       "<IPython.lib.display.VimeoVideo at 0x1d5f19430>"
      ]
     },
     "execution_count": 2,
     "metadata": {},
     "output_type": "execute_result"
    }
   ],
   "source": [
    "from IPython.display import VimeoVideo\n",
    "# Tutorial Video Name: Create a Help Ticket\n",
    "VimeoVideo('734512203', width=720, height=480)"
   ]
  },
  {
   "cell_type": "markdown",
   "id": "7103e15e-2c56-4c01-82a4-71754d106a7e",
   "metadata": {},
   "source": [
    "https://vimeo.com/734512203"
   ]
  },
  {
   "cell_type": "markdown",
   "id": "f990b799-0b3e-41fd-b9e2-356aea1094ec",
   "metadata": {},
   "source": [
    "[transcript](Media/Transcipt-Create-Help-Ticket.pdf)"
   ]
  },
  {
   "cell_type": "code",
   "execution_count": null,
   "id": "25a3cca8-3643-4489-aa7a-43a906a82f7f",
   "metadata": {},
   "outputs": [],
   "source": []
  }
 ],
 "metadata": {
  "kernelspec": {
   "display_name": "Python 3 (ipykernel)",
   "language": "python",
   "name": "python3"
  },
  "language_info": {
   "codemirror_mode": {
    "name": "ipython",
    "version": 3
   },
   "file_extension": ".py",
   "mimetype": "text/x-python",
   "name": "python",
   "nbconvert_exporter": "python",
   "pygments_lexer": "ipython3",
   "version": "3.9.13"
  }
 },
 "nbformat": 4,
 "nbformat_minor": 5
}
