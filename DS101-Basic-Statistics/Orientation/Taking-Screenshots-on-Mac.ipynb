{
 "cells": [
  {
   "cell_type": "code",
   "execution_count": 2,
   "id": "296e40e8-975d-470d-b53e-431ebfc43a35",
   "metadata": {},
   "outputs": [
    {
     "data": {
      "text/html": [
       "\n",
       "        <iframe\n",
       "            width=\"720\"\n",
       "            height=\"480\"\n",
       "            src=\"https://player.vimeo.com/video/734525628\"\n",
       "            frameborder=\"0\"\n",
       "            allowfullscreen\n",
       "            \n",
       "        ></iframe>\n",
       "        "
      ],
      "text/plain": [
       "<IPython.lib.display.VimeoVideo at 0x1e4028dc0>"
      ]
     },
     "execution_count": 2,
     "metadata": {},
     "output_type": "execute_result"
    }
   ],
   "source": [
    "from IPython.display import VimeoVideo\n",
    "# Tutorial Video Name: Set Slack Notifications\n",
    "VimeoVideo('734525628', width=720, height=480)"
   ]
  },
  {
   "cell_type": "markdown",
   "id": "48884b96-6fec-445e-9c64-f187b69ced4c",
   "metadata": {},
   "source": [
    "https://vimeo.com/734525628"
   ]
  },
  {
   "cell_type": "markdown",
   "id": "e8e4fdad-bb6c-4786-b4f6-65d88738fd43",
   "metadata": {},
   "source": [
    "[transcript](Media/save-screenshot-to-document.pdf)"
   ]
  },
  {
   "cell_type": "code",
   "execution_count": null,
   "id": "5ed7dc48-401b-4aa1-906f-a178654d2c9f",
   "metadata": {},
   "outputs": [],
   "source": []
  }
 ],
 "metadata": {
  "kernelspec": {
   "display_name": "Python 3 (ipykernel)",
   "language": "python",
   "name": "python3"
  },
  "language_info": {
   "codemirror_mode": {
    "name": "ipython",
    "version": 3
   },
   "file_extension": ".py",
   "mimetype": "text/x-python",
   "name": "python",
   "nbconvert_exporter": "python",
   "pygments_lexer": "ipython3",
   "version": "3.9.13"
  }
 },
 "nbformat": 4,
 "nbformat_minor": 5
}
