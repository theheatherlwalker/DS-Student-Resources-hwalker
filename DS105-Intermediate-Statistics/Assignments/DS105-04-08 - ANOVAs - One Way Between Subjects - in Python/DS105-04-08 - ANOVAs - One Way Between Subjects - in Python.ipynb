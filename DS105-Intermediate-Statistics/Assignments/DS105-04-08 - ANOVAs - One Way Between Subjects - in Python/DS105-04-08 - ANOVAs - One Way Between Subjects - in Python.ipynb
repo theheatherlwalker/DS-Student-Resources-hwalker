{
 "cells": [
  {
   "cell_type": "markdown",
   "id": "0031a10d",
   "metadata": {},
   "source": [
    "# DS105-04-08 - ANOVAs - One Way Between Subjects - in Python"
   ]
  },
  {
   "cell_type": "markdown",
   "id": "5fa0ad00",
   "metadata": {},
   "source": [
    "---\n",
    "## Load Libraries"
   ]
  },
  {
   "cell_type": "code",
   "execution_count": 1,
   "id": "b8188375",
   "metadata": {},
   "outputs": [],
   "source": [
    "import pandas as pd\n",
    "import numpy as np\n",
    "import scipy\n",
    "from scipy import stats\n",
    "from statsmodels.stats.multicomp import pairwise_tukeyhsd\n",
    "from statsmodels.stats.multicomp import MultiComparison"
   ]
  },
  {
   "cell_type": "markdown",
   "id": "ec9cbf27",
   "metadata": {},
   "source": [
    "___\n",
    "## Load Data"
   ]
  },
  {
   "cell_type": "code",
   "execution_count": 2,
   "id": "383a1106",
   "metadata": {},
   "outputs": [],
   "source": [
    "apps = pd.read_csv('./assets/NEWgoogleplaystore.csv')"
   ]
  },
  {
   "cell_type": "code",
   "execution_count": 3,
   "id": "17f68a2c",
   "metadata": {},
   "outputs": [
    {
     "data": {
      "text/html": [
       "<div>\n",
       "<style scoped>\n",
       "    .dataframe tbody tr th:only-of-type {\n",
       "        vertical-align: middle;\n",
       "    }\n",
       "\n",
       "    .dataframe tbody tr th {\n",
       "        vertical-align: top;\n",
       "    }\n",
       "\n",
       "    .dataframe thead th {\n",
       "        text-align: right;\n",
       "    }\n",
       "</style>\n",
       "<table border=\"1\" class=\"dataframe\">\n",
       "  <thead>\n",
       "    <tr style=\"text-align: right;\">\n",
       "      <th></th>\n",
       "      <th>Unnamed: 0</th>\n",
       "      <th>App</th>\n",
       "      <th>Category</th>\n",
       "      <th>Rating</th>\n",
       "      <th>Reviews</th>\n",
       "      <th>Size</th>\n",
       "      <th>Installs</th>\n",
       "      <th>Type</th>\n",
       "      <th>Price</th>\n",
       "      <th>Content.Rating</th>\n",
       "      <th>Genres</th>\n",
       "      <th>Last.Updated</th>\n",
       "      <th>Current.Ver</th>\n",
       "      <th>Android.Ver</th>\n",
       "    </tr>\n",
       "  </thead>\n",
       "  <tbody>\n",
       "    <tr>\n",
       "      <th>0</th>\n",
       "      <td>1</td>\n",
       "      <td>Photo Editor &amp; Candy Camera &amp; Grid &amp; ScrapBook</td>\n",
       "      <td>ART_AND_DESIGN</td>\n",
       "      <td>4.1</td>\n",
       "      <td>159</td>\n",
       "      <td>19M</td>\n",
       "      <td>10,000+</td>\n",
       "      <td>Free</td>\n",
       "      <td>0</td>\n",
       "      <td>Everyone</td>\n",
       "      <td>Art &amp; Design</td>\n",
       "      <td>7-Jan-18</td>\n",
       "      <td>1.0.0</td>\n",
       "      <td>4.0.3 and up</td>\n",
       "    </tr>\n",
       "    <tr>\n",
       "      <th>1</th>\n",
       "      <td>2</td>\n",
       "      <td>Coloring book moana</td>\n",
       "      <td>ART_AND_DESIGN</td>\n",
       "      <td>3.9</td>\n",
       "      <td>967</td>\n",
       "      <td>14M</td>\n",
       "      <td>500,000+</td>\n",
       "      <td>Free</td>\n",
       "      <td>0</td>\n",
       "      <td>Everyone</td>\n",
       "      <td>Art &amp; Design;Pretend Play</td>\n",
       "      <td>15-Jan-18</td>\n",
       "      <td>2.0.0</td>\n",
       "      <td>4.0.3 and up</td>\n",
       "    </tr>\n",
       "  </tbody>\n",
       "</table>\n",
       "</div>"
      ],
      "text/plain": [
       "   Unnamed: 0                                             App        Category  \\\n",
       "0           1  Photo Editor & Candy Camera & Grid & ScrapBook  ART_AND_DESIGN   \n",
       "1           2                             Coloring book moana  ART_AND_DESIGN   \n",
       "\n",
       "   Rating Reviews Size  Installs  Type Price Content.Rating  \\\n",
       "0     4.1     159  19M   10,000+  Free     0       Everyone   \n",
       "1     3.9     967  14M  500,000+  Free     0       Everyone   \n",
       "\n",
       "                      Genres Last.Updated Current.Ver   Android.Ver  \n",
       "0               Art & Design     7-Jan-18       1.0.0  4.0.3 and up  \n",
       "1  Art & Design;Pretend Play    15-Jan-18       2.0.0  4.0.3 and up  "
      ]
     },
     "execution_count": 3,
     "metadata": {},
     "output_type": "execute_result"
    }
   ],
   "source": [
    "apps.head(2)"
   ]
  },
  {
   "cell_type": "markdown",
   "id": "b383a15d",
   "metadata": {},
   "source": [
    "___\n",
    "## Question Setup\n",
    "Is there a difference in the number of reviews among the three app categories of `beauty`, `food and drink`, and `photography`? "
   ]
  },
  {
   "cell_type": "markdown",
   "id": "c473a869",
   "metadata": {},
   "source": [
    "___\n",
    "## Data Wrangling"
   ]
  },
  {
   "cell_type": "markdown",
   "id": "467e01bd",
   "metadata": {},
   "source": [
    "### Filtering the data\n",
    "The data has many more categories than three, so you will need to filter the dataset by the categories you want: beauty, food and drink, and photography.\n",
    "\n",
    "The code below makes a list of the categories you want to keep, then searching through the `Category` column using the `isin()` function to keep only those that match. \n",
    "\n",
    "Then, you can apply that list to your actually data frame, being sure to you use the `.copy()` function to change this from a slice into a data frame."
   ]
  },
  {
   "cell_type": "code",
   "execution_count": 4,
   "id": "8d8807b0",
   "metadata": {},
   "outputs": [],
   "source": [
    "categories = ['BEAUTY', 'FOOD_AND_DRINK','PHOTOGRAPHY']\n",
    "apps1 = apps['Category'].isin(categories)\n",
    "apps2 = apps[apps1].copy()"
   ]
  },
  {
   "cell_type": "markdown",
   "id": "a9fe173a",
   "metadata": {},
   "source": [
    "### Subsetting only the variables you need\n",
    "You only want to keep the two variables you'll need in your test: `Category` and `Reviews`."
   ]
  },
  {
   "cell_type": "code",
   "execution_count": 5,
   "id": "5a0f5ac6",
   "metadata": {},
   "outputs": [],
   "source": [
    "apps3 = apps2[['Category','Reviews']]"
   ]
  },
  {
   "cell_type": "markdown",
   "id": "cd8f8d80",
   "metadata": {},
   "source": [
    "### Changing `Reviews` to an integer\n",
    "Your dependent variable will need to be an integer. You can check what format it is in by using the `.info()` function:"
   ]
  },
  {
   "cell_type": "code",
   "execution_count": 6,
   "id": "aff16734",
   "metadata": {},
   "outputs": [
    {
     "name": "stdout",
     "output_type": "stream",
     "text": [
      "<class 'pandas.core.frame.DataFrame'>\n",
      "Int64Index: 515 entries, 98 to 10740\n",
      "Data columns (total 2 columns):\n",
      " #   Column    Non-Null Count  Dtype \n",
      "---  ------    --------------  ----- \n",
      " 0   Category  515 non-null    object\n",
      " 1   Reviews   515 non-null    object\n",
      "dtypes: object(2)\n",
      "memory usage: 12.1+ KB\n"
     ]
    }
   ],
   "source": [
    "apps3.info()"
   ]
  },
  {
   "cell_type": "markdown",
   "id": "fa9d6b91",
   "metadata": {},
   "source": [
    "Note that both `Category` and `Reviews` is a non-null object (string). You'll want to convert `Reviews` to an integer:\n",
    "\n",
    "NOTE: It will give you a warning, because you still technically have a slice masquerading as a data frame.\n",
    "\n",
    "But it's ok, because the command has still worked just fine (see next 2 cells)"
   ]
  },
  {
   "cell_type": "code",
   "execution_count": 7,
   "id": "5c2e29bf",
   "metadata": {},
   "outputs": [
    {
     "name": "stderr",
     "output_type": "stream",
     "text": [
      "/var/folders/p_/8z_nx_rn7hjgm91fg71774ym0000gn/T/ipykernel_10003/1171526474.py:1: SettingWithCopyWarning: \n",
      "A value is trying to be set on a copy of a slice from a DataFrame.\n",
      "Try using .loc[row_indexer,col_indexer] = value instead\n",
      "\n",
      "See the caveats in the documentation: https://pandas.pydata.org/pandas-docs/stable/user_guide/indexing.html#returning-a-view-versus-a-copy\n",
      "  apps3.Reviews = apps3.Reviews.astype(int)\n"
     ]
    }
   ],
   "source": [
    "apps3.Reviews = apps3.Reviews.astype(int)"
   ]
  },
  {
   "cell_type": "code",
   "execution_count": 8,
   "id": "077ba3a9",
   "metadata": {},
   "outputs": [
    {
     "name": "stdout",
     "output_type": "stream",
     "text": [
      "<class 'pandas.core.frame.DataFrame'>\n",
      "Int64Index: 515 entries, 98 to 10740\n",
      "Data columns (total 2 columns):\n",
      " #   Column    Non-Null Count  Dtype \n",
      "---  ------    --------------  ----- \n",
      " 0   Category  515 non-null    object\n",
      " 1   Reviews   515 non-null    int64 \n",
      "dtypes: int64(1), object(1)\n",
      "memory usage: 12.1+ KB\n"
     ]
    }
   ],
   "source": [
    "apps3.info()"
   ]
  },
  {
   "cell_type": "markdown",
   "id": "a20793b7",
   "metadata": {},
   "source": [
    "### Recoding `Category` as a Number\n",
    "The post-hocs and assumptions won't take any string values, so you'll need to recode `Category` as well:"
   ]
  },
  {
   "cell_type": "code",
   "execution_count": 9,
   "id": "2d1ecdd1",
   "metadata": {},
   "outputs": [
    {
     "name": "stderr",
     "output_type": "stream",
     "text": [
      "/var/folders/p_/8z_nx_rn7hjgm91fg71774ym0000gn/T/ipykernel_10003/1837445721.py:9: SettingWithCopyWarning: \n",
      "A value is trying to be set on a copy of a slice from a DataFrame.\n",
      "Try using .loc[row_indexer,col_indexer] = value instead\n",
      "\n",
      "See the caveats in the documentation: https://pandas.pydata.org/pandas-docs/stable/user_guide/indexing.html#returning-a-view-versus-a-copy\n",
      "  apps3['CategoryR'] = apps3['Category'].apply(recode)\n"
     ]
    }
   ],
   "source": [
    "def recode (series):\n",
    "    if series == \"BEAUTY\": \n",
    "        return 0\n",
    "    if series == \"FOOD_AND_DRINK\": \n",
    "        return 1\n",
    "    if series == \"PHOTOGRAPHY\": \n",
    "        return 2\n",
    "\n",
    "apps3['CategoryR'] = apps3['Category'].apply(recode)"
   ]
  },
  {
   "cell_type": "markdown",
   "id": "347a997c",
   "metadata": {},
   "source": [
    "You get the same warning as above, but again, if you use .head() to examine the data, you see that things have worked ok, so you can proceed."
   ]
  },
  {
   "cell_type": "code",
   "execution_count": 10,
   "id": "2cf64c86",
   "metadata": {},
   "outputs": [
    {
     "data": {
      "text/html": [
       "<div>\n",
       "<style scoped>\n",
       "    .dataframe tbody tr th:only-of-type {\n",
       "        vertical-align: middle;\n",
       "    }\n",
       "\n",
       "    .dataframe tbody tr th {\n",
       "        vertical-align: top;\n",
       "    }\n",
       "\n",
       "    .dataframe thead th {\n",
       "        text-align: right;\n",
       "    }\n",
       "</style>\n",
       "<table border=\"1\" class=\"dataframe\">\n",
       "  <thead>\n",
       "    <tr style=\"text-align: right;\">\n",
       "      <th></th>\n",
       "      <th>Category</th>\n",
       "      <th>Reviews</th>\n",
       "      <th>CategoryR</th>\n",
       "    </tr>\n",
       "  </thead>\n",
       "  <tbody>\n",
       "    <tr>\n",
       "      <th>98</th>\n",
       "      <td>BEAUTY</td>\n",
       "      <td>18900</td>\n",
       "      <td>0</td>\n",
       "    </tr>\n",
       "    <tr>\n",
       "      <th>99</th>\n",
       "      <td>BEAUTY</td>\n",
       "      <td>49790</td>\n",
       "      <td>0</td>\n",
       "    </tr>\n",
       "    <tr>\n",
       "      <th>100</th>\n",
       "      <td>BEAUTY</td>\n",
       "      <td>1150</td>\n",
       "      <td>0</td>\n",
       "    </tr>\n",
       "    <tr>\n",
       "      <th>101</th>\n",
       "      <td>BEAUTY</td>\n",
       "      <td>1739</td>\n",
       "      <td>0</td>\n",
       "    </tr>\n",
       "    <tr>\n",
       "      <th>102</th>\n",
       "      <td>BEAUTY</td>\n",
       "      <td>32090</td>\n",
       "      <td>0</td>\n",
       "    </tr>\n",
       "  </tbody>\n",
       "</table>\n",
       "</div>"
      ],
      "text/plain": [
       "    Category  Reviews  CategoryR\n",
       "98    BEAUTY    18900          0\n",
       "99    BEAUTY    49790          0\n",
       "100   BEAUTY     1150          0\n",
       "101   BEAUTY     1739          0\n",
       "102   BEAUTY    32090          0"
      ]
     },
     "execution_count": 10,
     "metadata": {},
     "output_type": "execute_result"
    }
   ],
   "source": [
    "apps3.head()"
   ]
  },
  {
   "cell_type": "markdown",
   "id": "ec97ae56",
   "metadata": {},
   "source": [
    "### Dropping the Original Category Variable\n",
    "But wait! You now have three variables again! Go ahead and drop the original `Category` variable out, since it's mere presence will throw off the work you'll do later."
   ]
  },
  {
   "cell_type": "code",
   "execution_count": 11,
   "id": "960ebbd4",
   "metadata": {},
   "outputs": [],
   "source": [
    "apps4 = apps3[['CategoryR','Reviews']]"
   ]
  },
  {
   "cell_type": "markdown",
   "id": "a7747ae5",
   "metadata": {},
   "source": [
    "And finally, eons later, you are all prepared to run a one-way ANOVA and all it's assumptions and post-hoc tests. Phew! R required a lot less wrangling, because it is specifically meant for advanced statistics."
   ]
  },
  {
   "cell_type": "markdown",
   "id": "b5c815c7",
   "metadata": {},
   "source": [
    "___\n",
    "## Test Assumptions\n",
    "\n",
    "Before you go any further, it's important to test for assumptions. If the assumptions are not met for ANOVA, but you proceeded anyway, you run the risk of biasing your results."
   ]
  },
  {
   "cell_type": "markdown",
   "id": "c611319a",
   "metadata": {},
   "source": [
    "### Assumption: Normality\n",
    "You only need to test for the normality of the dependent variable, since the IV is categorical."
   ]
  },
  {
   "cell_type": "code",
   "execution_count": 12,
   "id": "2d4f5ab4",
   "metadata": {},
   "outputs": [
    {
     "ename": "NameError",
     "evalue": "name 'sns' is not defined",
     "output_type": "error",
     "traceback": [
      "\u001b[0;31m---------------------------------------------------------------------------\u001b[0m",
      "\u001b[0;31mNameError\u001b[0m                                 Traceback (most recent call last)",
      "Input \u001b[0;32mIn [12]\u001b[0m, in \u001b[0;36m<cell line: 1>\u001b[0;34m()\u001b[0m\n\u001b[0;32m----> 1\u001b[0m \u001b[43msns\u001b[49m\u001b[38;5;241m.\u001b[39mdistplot(apps4[\u001b[38;5;124m'\u001b[39m\u001b[38;5;124mReviews\u001b[39m\u001b[38;5;124m'\u001b[39m])\n",
      "\u001b[0;31mNameError\u001b[0m: name 'sns' is not defined"
     ]
    }
   ],
   "source": [
    "sns.distplot(apps4['Reviews'])"
   ]
  },
  {
   "cell_type": "markdown",
   "id": "240f4ec2",
   "metadata": {},
   "source": [
    "Looks like that isn't normal in any way - it is very highly positively skewed. So, you'll need to transform price by taking the square root or the log."
   ]
  },
  {
   "cell_type": "code",
   "execution_count": null,
   "id": "ef889747",
   "metadata": {},
   "outputs": [],
   "source": [
    "apps4['ReviewsSQRT'] = np.sqrt(apps4['Reviews'])"
   ]
  },
  {
   "cell_type": "markdown",
   "id": "f9a3ccd9",
   "metadata": {},
   "source": [
    "That looks relatively normal, so keep it there:"
   ]
  },
  {
   "cell_type": "markdown",
   "id": "e18f3dca",
   "metadata": {},
   "source": [
    "### Assumption: Homogeneity of Variance\n",
    "Just like in R, you can test for homogeneity of variance easily using either Bartlett's test or Fligner's Test. Bartlett's test is for when your data is normally distributed, and Fligner's test is for when your data is non-parametric. No matter which test you are using, you are looking for a non-significant test. The null hypothesis for both of these is that the data has equal variance, so you'd like to have a p value of > .05. Since you have corrected your data, you can use Bartlett's test, but just for learning purposes, you'll try both here."
   ]
  },
  {
   "cell_type": "markdown",
   "id": "f843042b",
   "metadata": {},
   "source": [
    "#### Bartlett's Test\n",
    "To do Bartlett's test, use the function `scipy.stats.bartlett()`, with the argument of the y data, followed by the x data."
   ]
  },
  {
   "cell_type": "code",
   "execution_count": null,
   "id": "bc2ff77e",
   "metadata": {},
   "outputs": [],
   "source": [
    "scipy.stats.bartlett(apps4['ReviewsSQRT'], apps4['CategoryR'])"
   ]
  },
  {
   "cell_type": "markdown",
   "id": "f9044e93",
   "metadata": {},
   "source": [
    "The *p* value associated with this test is < .05, which means that unfortunately, you have violated the assumption of homogeneity of variance."
   ]
  },
  {
   "cell_type": "markdown",
   "id": "9bd0d2bd",
   "metadata": {},
   "source": [
    "#### Fligner's Test\n",
    "To perform Fligner's test, use the function `scipy.stats.fligner()`, with the argument of the y data, followed by the x data."
   ]
  },
  {
   "cell_type": "code",
   "execution_count": null,
   "id": "fad86df1",
   "metadata": {},
   "outputs": [],
   "source": [
    "scipy.stats.fligner(apps4['ReviewsSQRT'], apps4['CategoryR'])"
   ]
  },
  {
   "cell_type": "markdown",
   "id": "eb1aa61d",
   "metadata": {},
   "source": [
    "The p value is still < .05, which means you have violated the assumption of homogeneity of variance."
   ]
  },
  {
   "cell_type": "markdown",
   "id": "460b543d",
   "metadata": {},
   "source": [
    "### Correcting for Violations of Homogeneity of Variance\n",
    "As you know, there are many different ways to correct for this violation in the general field of statistics. However, Python does not support any of them! Which means that you can run the ANOVA, but there is a good chance it will be inaccurate. If you do choose to proceed with the analysis in Python, ensure that all parties consuming your results understand that there could be inaccuracies with the data analysis!\n",
    "\n",
    "It is recommended, however, that if you violate the assumption of homogeneity of variance that you switch over to R, and proceed from there. You are becoming a guru in both languages for a reason!"
   ]
  },
  {
   "cell_type": "markdown",
   "id": "84b53fbf",
   "metadata": {},
   "source": [
    "### Assumption: Sample Size\n",
    "An ANOVA requires a sample size of at least 20 per independent variable. In this case, you only have one independent variable, so as long as you have at least 20 cases, you are fine. Looking at the data, the n is 515, so you are fine to proceed with this assumption!"
   ]
  },
  {
   "cell_type": "markdown",
   "id": "2a53f557",
   "metadata": {},
   "source": [
    "### Assumption: Independence\n",
    "There is no statistical test for the assumption of independence, so you can proceed!"
   ]
  },
  {
   "cell_type": "markdown",
   "id": "ad2ab8e6",
   "metadata": {},
   "source": [
    "---\n",
    "## Computing ANOVAs with Equal Variance (Met Homogeneity of Variance Assumption)\n",
    "In this case, your data did not meet this assumption, but for the purposes of learning, you'll be shown what to do if you had.\n",
    "\n",
    "Below is the code to run a one-way ANOVA in Python. It uses the function `stats.f_oneway()` and the arguments are the three categories, crossed with your dependent variable. So here your DV is listed out, followed by the first level of your IV. Each level is separated by a comma:"
   ]
  },
  {
   "cell_type": "code",
   "execution_count": null,
   "id": "96dbf86c",
   "metadata": {},
   "outputs": [],
   "source": [
    "stats.f_oneway(apps['Reviews'][apps['Category']=='BEAUTY'],\n",
    "                    apps['Reviews'][apps['Category']=='FOOD_AND_DRINK'],\n",
    "                    apps['Reviews'][apps['Category']=='PHOTOGRAPHY'])"
   ]
  },
  {
   "cell_type": "markdown",
   "id": "6c87f482",
   "metadata": {},
   "source": [
    "Not much here, is there? Just the F value, under the name `statistic`, and the p value. Since the p value is less than .05, there is a significant difference in Reviews between these three categories."
   ]
  },
  {
   "cell_type": "markdown",
   "id": "280529ac",
   "metadata": {},
   "source": [
    "___\n",
    "## Computing ANOVAs with Unequal Variance (Violated Homogeneity of Variance Assumption)\n",
    "There is NO WAY to compute ANOVAs with unequal variance in Python! Either switch over to R or be VERY CAUTIOUS when interpreting your results and don't use for anything high stakes!"
   ]
  },
  {
   "cell_type": "markdown",
   "id": "604f5954",
   "metadata": {},
   "source": [
    "___\n",
    "## Post Hocs\n",
    "It's important to run post-hocs to figure out what groups significantly differed from each other. In Python, the only automatically coding for post-hocs that is available is the Tukey post hoc, so that is what you will learn."
   ]
  },
  {
   "cell_type": "markdown",
   "id": "753430a1",
   "metadata": {},
   "source": [
    "### Computing Post Hocs with Tukey's\n",
    "Here is the code for computing a Tukey's post hoc in Python:"
   ]
  },
  {
   "cell_type": "code",
   "execution_count": null,
   "id": "f65f0974",
   "metadata": {},
   "outputs": [],
   "source": [
    "postHoc = MultiComparison(apps4['ReviewsSQRT'], apps4['CategoryR'])\n",
    "postHocResults = postHoc.tukeyhsd()\n",
    "print(postHocResults)"
   ]
  },
  {
   "cell_type": "markdown",
   "id": "64434ae2",
   "metadata": {},
   "source": [
    "First you use the `MultiComparison()` function to specify the variables to use. Then, you call the `tukeyhsd()` function to run the Tukey's correction on the data. Finally, you can print the results.\n",
    "\n",
    "Interpreting this is a little harder than in R, because you've been forced to recode your categorical IV to have numbers instead. So, make sure you refer back to that recode command to remember which number is which. 0 stands for beauty apps, 1 stands for food and drink apps, and 2 stands for photography apps. This output provides you with the mean difference in the number of reviews per comparison, plus the confidence interval (`lower` and `upper` columns), and whether or not you can reject the null hypothesis. If the value in the `reject` column is `True`, then this means there was a significant difference in the means between those groups. So, there is a significant difference between the number of reviews between photography and both beauty and food and drink apps. What is that difference? Well, you will have to examine the means."
   ]
  },
  {
   "cell_type": "markdown",
   "id": "e0f1ee82",
   "metadata": {},
   "source": [
    "### Computing Post Hocs When You've Violated the Assumption of Homogeneity of Variance\n",
    "There is NO WAY to compute post hocs with unequal variance in Python! Either switch over to R or be VERY CAUTIOUS when interpreting your results and don't use for anything high stakes!"
   ]
  },
  {
   "cell_type": "markdown",
   "id": "7a09cec7",
   "metadata": {},
   "source": [
    "___\n",
    "## Determine Means and Draw Conclusions\n",
    "The last step is just to examine the means, to determine which apps had the highest and lowest number of reviews."
   ]
  },
  {
   "cell_type": "code",
   "execution_count": null,
   "id": "3f83f5da",
   "metadata": {},
   "outputs": [],
   "source": [
    "apps4.groupby('CategoryR').mean()"
   ]
  },
  {
   "cell_type": "markdown",
   "id": "66536c37",
   "metadata": {},
   "source": [
    "The `groupby()` function allows you to specify a grouping variable for an entire dataset, and you can then call the `.mean()` function on top of it.\n",
    "\n",
    "Looking at the reviews column, which has the means, you can say that photography apps had significantly more reviews than both beauty and food and drink apps."
   ]
  },
  {
   "cell_type": "code",
   "execution_count": null,
   "id": "3ef2af5d",
   "metadata": {},
   "outputs": [],
   "source": []
  }
 ],
 "metadata": {
  "kernelspec": {
   "display_name": "Python 3 (ipykernel)",
   "language": "python",
   "name": "python3"
  },
  "language_info": {
   "codemirror_mode": {
    "name": "ipython",
    "version": 3
   },
   "file_extension": ".py",
   "mimetype": "text/x-python",
   "name": "python",
   "nbconvert_exporter": "python",
   "pygments_lexer": "ipython3",
   "version": "3.9.12"
  }
 },
 "nbformat": 4,
 "nbformat_minor": 5
}
