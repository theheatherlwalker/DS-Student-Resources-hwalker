{
 "cells": [
  {
   "cell_type": "markdown",
   "id": "a467ed74",
   "metadata": {},
   "source": [
    "# McNemar Chi-Square Python\n",
    "You will now learn how to conduct McNemar Chi-Squares in Python. The process is much the same, but the output leaves something to be desired."
   ]
  },
  {
   "cell_type": "markdown",
   "id": "3768ed8c",
   "metadata": {},
   "source": [
    "## Load in Packages\n",
    "n order to run McNemar Chi-Squares in Python, you will need `pandas` to read in your data, and `statsmodels` to analyze it:"
   ]
  },
  {
   "cell_type": "code",
   "execution_count": 1,
   "id": "4cbc1410",
   "metadata": {},
   "outputs": [],
   "source": [
    "import pandas as pd\n",
    "import statsmodels as sm\n",
    "from statsmodels.stats.contingency_tables import mcnemar"
   ]
  },
  {
   "cell_type": "markdown",
   "id": "ea61795d",
   "metadata": {},
   "source": [
    "---\n",
    "## Load in Data"
   ]
  },
  {
   "cell_type": "code",
   "execution_count": 5,
   "id": "c77a33ed",
   "metadata": {},
   "outputs": [],
   "source": [
    "bakery = pd.read_csv('./assets/bakery_sales.csv')"
   ]
  },
  {
   "cell_type": "code",
   "execution_count": 6,
   "id": "0e1bf6b6",
   "metadata": {},
   "outputs": [
    {
     "data": {
      "text/html": [
       "<div>\n",
       "<style scoped>\n",
       "    .dataframe tbody tr th:only-of-type {\n",
       "        vertical-align: middle;\n",
       "    }\n",
       "\n",
       "    .dataframe tbody tr th {\n",
       "        vertical-align: top;\n",
       "    }\n",
       "\n",
       "    .dataframe thead th {\n",
       "        text-align: right;\n",
       "    }\n",
       "</style>\n",
       "<table border=\"1\" class=\"dataframe\">\n",
       "  <thead>\n",
       "    <tr style=\"text-align: right;\">\n",
       "      <th></th>\n",
       "      <th>Date</th>\n",
       "      <th>Time</th>\n",
       "      <th>Transaction</th>\n",
       "      <th>Item</th>\n",
       "    </tr>\n",
       "  </thead>\n",
       "  <tbody>\n",
       "    <tr>\n",
       "      <th>0</th>\n",
       "      <td>10/30/2016</td>\n",
       "      <td>9:58:11 AM</td>\n",
       "      <td>1</td>\n",
       "      <td>Bread</td>\n",
       "    </tr>\n",
       "    <tr>\n",
       "      <th>1</th>\n",
       "      <td>10/30/2016</td>\n",
       "      <td>10:05:34 AM</td>\n",
       "      <td>2</td>\n",
       "      <td>Scandinavian</td>\n",
       "    </tr>\n",
       "  </tbody>\n",
       "</table>\n",
       "</div>"
      ],
      "text/plain": [
       "         Date         Time  Transaction          Item\n",
       "0  10/30/2016   9:58:11 AM            1         Bread\n",
       "1  10/30/2016  10:05:34 AM            2  Scandinavian"
      ]
     },
     "execution_count": 6,
     "metadata": {},
     "output_type": "execute_result"
    }
   ],
   "source": [
    "bakery.head(2)"
   ]
  },
  {
   "cell_type": "markdown",
   "id": "1fc297a2",
   "metadata": {},
   "source": [
    "---\n",
    "## Question Set Up\n",
    "You will be answering the following question:<br>\n",
    "`Do the sales of coffee change from the beginning of the month to the end of the month?`"
   ]
  },
  {
   "cell_type": "markdown",
   "id": "3994c258",
   "metadata": {},
   "source": [
    "---\n",
    "## Data Wrangling\n",
    "Just like with R, you will need to do some data wrangling."
   ]
  },
  {
   "cell_type": "markdown",
   "id": "db56fb91",
   "metadata": {},
   "source": [
    "#### Separating the pieces of the Date Variable\n",
    "The first order of business is to separate out your `Date` column. You can do this with the function `str.split()`:"
   ]
  },
  {
   "cell_type": "code",
   "execution_count": 7,
   "id": "79a353a8",
   "metadata": {},
   "outputs": [],
   "source": [
    "bakery1 = bakery['Date'].str.split('/', expand=True).rename(columns = lambda x: \"Date\" + str(x +1))"
   ]
  },
  {
   "cell_type": "markdown",
   "id": "4ad7ffb8",
   "metadata": {},
   "source": [
    "And then of course you'll need to put your data back together again:"
   ]
  },
  {
   "cell_type": "code",
   "execution_count": 8,
   "id": "98e10b62",
   "metadata": {},
   "outputs": [],
   "source": [
    "bakery3 = pd.concat([bakery, bakery1], axis=1)"
   ]
  },
  {
   "cell_type": "markdown",
   "id": "d68ba59e",
   "metadata": {},
   "source": [
    "#### Changing Day to an Integer\n",
    "Next you'll need to recode the `Date2` variable so that it provides information about beginning or ending of the month. To do this, your `Date2` variable will need to be an integer. You can double check that it is with the function `info()`:"
   ]
  },
  {
   "cell_type": "code",
   "execution_count": 9,
   "id": "efbf43d0",
   "metadata": {},
   "outputs": [
    {
     "name": "stdout",
     "output_type": "stream",
     "text": [
      "<class 'pandas.core.frame.DataFrame'>\n",
      "RangeIndex: 21293 entries, 0 to 21292\n",
      "Data columns (total 7 columns):\n",
      " #   Column       Non-Null Count  Dtype \n",
      "---  ------       --------------  ----- \n",
      " 0   Date         21293 non-null  object\n",
      " 1   Time         21293 non-null  object\n",
      " 2   Transaction  21293 non-null  int64 \n",
      " 3   Item         21293 non-null  object\n",
      " 4   Date1        21293 non-null  object\n",
      " 5   Date2        21293 non-null  object\n",
      " 6   Date3        21293 non-null  object\n",
      "dtypes: int64(1), object(6)\n",
      "memory usage: 1.1+ MB\n"
     ]
    }
   ],
   "source": [
    "bakery3.info()"
   ]
  },
  {
   "cell_type": "markdown",
   "id": "d42f4fb7",
   "metadata": {},
   "source": [
    "So it looks like `Date2` is currently string data, which is common after doing the `str.split()` function - after all, it literally translates into \"string split!\" However, this is an easy fix - you can use the `astype(int)` function:"
   ]
  },
  {
   "cell_type": "code",
   "execution_count": 10,
   "id": "57b3f43b",
   "metadata": {},
   "outputs": [],
   "source": [
    "bakery3.Date2 = bakery3.Date2.astype(int)"
   ]
  },
  {
   "cell_type": "markdown",
   "id": "7482880c",
   "metadata": {},
   "source": [
    "And now if you run `info()` again, you will find that `Date2` is now an integer!"
   ]
  },
  {
   "cell_type": "code",
   "execution_count": 11,
   "id": "dbd03479",
   "metadata": {},
   "outputs": [
    {
     "name": "stdout",
     "output_type": "stream",
     "text": [
      "<class 'pandas.core.frame.DataFrame'>\n",
      "RangeIndex: 21293 entries, 0 to 21292\n",
      "Data columns (total 7 columns):\n",
      " #   Column       Non-Null Count  Dtype \n",
      "---  ------       --------------  ----- \n",
      " 0   Date         21293 non-null  object\n",
      " 1   Time         21293 non-null  object\n",
      " 2   Transaction  21293 non-null  int64 \n",
      " 3   Item         21293 non-null  object\n",
      " 4   Date1        21293 non-null  object\n",
      " 5   Date2        21293 non-null  int64 \n",
      " 6   Date3        21293 non-null  object\n",
      "dtypes: int64(2), object(5)\n",
      "memory usage: 1.1+ MB\n"
     ]
    }
   ],
   "source": [
    "bakery3.info()"
   ]
  },
  {
   "cell_type": "markdown",
   "id": "f31f453d",
   "metadata": {},
   "source": [
    "#### Recoding to beginning or end of Month\n",
    "Now that your variable is numeric, you are good to do a recode using the greater than and less than operands. You can recode using a function with some if statements, and then apply that function to your data:"
   ]
  },
  {
   "cell_type": "code",
   "execution_count": 12,
   "id": "24f9629e",
   "metadata": {},
   "outputs": [],
   "source": [
    "def month (series): \n",
    "    if series <= 15: \n",
    "        return 0\n",
    "    if series > 16: \n",
    "        return 1\n",
    "bakery3['DayR'] = bakery3[\"Date2\"].apply(month)"
   ]
  },
  {
   "cell_type": "markdown",
   "id": "7ce76527",
   "metadata": {},
   "source": [
    "#### Recoding to `Coffee` or `Other`\n",
    "Next, you will recode the `Item` variable into something that is Coffee or Not Coffee. You will use the same format as the recode above:"
   ]
  },
  {
   "cell_type": "code",
   "execution_count": 13,
   "id": "b495a498",
   "metadata": {},
   "outputs": [],
   "source": [
    "def item (series): \n",
    "    if series == \"Coffee\": \n",
    "        return 1\n",
    "    if series != \"Coffee\": \n",
    "        return 0\n",
    "bakery3['CoffeeYN'] = bakery3[\"Item\"].apply(item)"
   ]
  },
  {
   "cell_type": "markdown",
   "id": "03232a57",
   "metadata": {},
   "source": [
    "#### Make a Contingency Table\n",
    "Next, you will need to make a contingency table, since the function for McNemar Chi-Squares in Python will not accept raw data. Happily, the `pd.crosstab()` function you learned earlier will do this job easily for you:"
   ]
  },
  {
   "cell_type": "code",
   "execution_count": 14,
   "id": "f8df4e01",
   "metadata": {},
   "outputs": [
    {
     "data": {
      "text/html": [
       "<div>\n",
       "<style scoped>\n",
       "    .dataframe tbody tr th:only-of-type {\n",
       "        vertical-align: middle;\n",
       "    }\n",
       "\n",
       "    .dataframe tbody tr th {\n",
       "        vertical-align: top;\n",
       "    }\n",
       "\n",
       "    .dataframe thead th {\n",
       "        text-align: right;\n",
       "    }\n",
       "</style>\n",
       "<table border=\"1\" class=\"dataframe\">\n",
       "  <thead>\n",
       "    <tr style=\"text-align: right;\">\n",
       "      <th>CoffeeYN</th>\n",
       "      <th>0</th>\n",
       "      <th>1</th>\n",
       "    </tr>\n",
       "    <tr>\n",
       "      <th>DayR</th>\n",
       "      <th></th>\n",
       "      <th></th>\n",
       "    </tr>\n",
       "  </thead>\n",
       "  <tbody>\n",
       "    <tr>\n",
       "      <th>0.0</th>\n",
       "      <td>8238</td>\n",
       "      <td>2841</td>\n",
       "    </tr>\n",
       "    <tr>\n",
       "      <th>1.0</th>\n",
       "      <td>7126</td>\n",
       "      <td>2491</td>\n",
       "    </tr>\n",
       "  </tbody>\n",
       "</table>\n",
       "</div>"
      ],
      "text/plain": [
       "CoffeeYN     0     1\n",
       "DayR                \n",
       "0.0       8238  2841\n",
       "1.0       7126  2491"
      ]
     },
     "execution_count": 14,
     "metadata": {},
     "output_type": "execute_result"
    }
   ],
   "source": [
    "bakery_crosstab = pd.crosstab(bakery3['DayR'], bakery3['CoffeeYN'])\n",
    "bakery_crosstab"
   ]
  },
  {
   "cell_type": "markdown",
   "id": "845df4d7",
   "metadata": {},
   "source": [
    "---\n",
    "## Test assumptions and run analysis\n",
    "In Python, there is no way to test the assumption of at least five expected per cell, which means that if you are analyzing high stakes data, where accuracy really matters, Python is NOT the program for you to run a McNemar Chi-Square in.\n",
    "\n",
    "You will use the function `sm.stats.contingency_tables.mcnemar()` to run your McNemar Chi-Square. It takes the arguments of the crosstab you just created, `exact=`, which you can set to `False`, and `correction=`, which will be set to `True`."
   ]
  },
  {
   "cell_type": "code",
   "execution_count": 15,
   "id": "7a21e87b",
   "metadata": {},
   "outputs": [],
   "source": [
    "result = sm.stats.contingency_tables.mcnemar(bakery_crosstab, exact=False, correction=True)"
   ]
  },
  {
   "cell_type": "markdown",
   "id": "a960527b",
   "metadata": {},
   "source": [
    "If you just run the code above, you may end up confused - nothing happened! That's because this particular function requires you to actually print your results out yourself:"
   ]
  },
  {
   "cell_type": "code",
   "execution_count": 16,
   "id": "8ee65c94",
   "metadata": {},
   "outputs": [
    {
     "name": "stdout",
     "output_type": "stream",
     "text": [
      "pvalue      0.0\n",
      "statistic   1841.3420286946925\n"
     ]
    }
   ],
   "source": [
    "print(result)"
   ]
  },
  {
   "cell_type": "markdown",
   "id": "bc620e88",
   "metadata": {},
   "source": [
    "---\n",
    "## Interpret Results\n",
    "Alright! You now have results, and they are significant - the p value is less than .05, so it looks like different amounts of coffee is sold in the morning and afternoon! How does it differ? With Python, you'll NEVER KNOW! It does not provide the ability to look at standardized residuals, so you can't look at post hocs."
   ]
  },
  {
   "cell_type": "code",
   "execution_count": null,
   "id": "93003020",
   "metadata": {},
   "outputs": [],
   "source": []
  },
  {
   "cell_type": "code",
   "execution_count": null,
   "id": "7f23fa03",
   "metadata": {},
   "outputs": [],
   "source": []
  }
 ],
 "metadata": {
  "kernelspec": {
   "display_name": "Python 3 (ipykernel)",
   "language": "python",
   "name": "python3"
  },
  "language_info": {
   "codemirror_mode": {
    "name": "ipython",
    "version": 3
   },
   "file_extension": ".py",
   "mimetype": "text/x-python",
   "name": "python",
   "nbconvert_exporter": "python",
   "pygments_lexer": "ipython3",
   "version": "3.9.12"
  }
 },
 "nbformat": 4,
 "nbformat_minor": 5
}
