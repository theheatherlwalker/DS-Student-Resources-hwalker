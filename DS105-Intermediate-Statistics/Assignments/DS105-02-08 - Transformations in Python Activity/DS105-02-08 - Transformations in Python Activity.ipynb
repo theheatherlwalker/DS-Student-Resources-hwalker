{
 "cells": [
  {
   "cell_type": "markdown",
   "id": "51a59621",
   "metadata": {},
   "source": [
    "# DS105-02-08 - Transformations in Python Activity"
   ]
  },
  {
   "cell_type": "markdown",
   "id": "3768ed8c",
   "metadata": {},
   "source": [
    "## Import Packages"
   ]
  },
  {
   "cell_type": "code",
   "execution_count": 1,
   "id": "4cbc1410",
   "metadata": {},
   "outputs": [],
   "source": [
    "import pandas as pd\n",
    "import numpy as np\n",
    "import seaborn as sns\n",
    "from scipy import stats\n",
    "from scipy.stats import boxcox"
   ]
  },
  {
   "cell_type": "markdown",
   "id": "ea61795d",
   "metadata": {},
   "source": [
    "## Load Data"
   ]
  },
  {
   "cell_type": "code",
   "execution_count": 2,
   "id": "c77a33ed",
   "metadata": {},
   "outputs": [],
   "source": [
    "cruise_ship = pd.read_excel('./assets/cruise_ship.xlsx')"
   ]
  },
  {
   "cell_type": "code",
   "execution_count": 3,
   "id": "e6cb2983",
   "metadata": {
    "scrolled": false
   },
   "outputs": [
    {
     "data": {
      "text/html": [
       "<div>\n",
       "<style scoped>\n",
       "    .dataframe tbody tr th:only-of-type {\n",
       "        vertical-align: middle;\n",
       "    }\n",
       "\n",
       "    .dataframe tbody tr th {\n",
       "        vertical-align: top;\n",
       "    }\n",
       "\n",
       "    .dataframe thead th {\n",
       "        text-align: right;\n",
       "    }\n",
       "</style>\n",
       "<table border=\"1\" class=\"dataframe\">\n",
       "  <thead>\n",
       "    <tr style=\"text-align: right;\">\n",
       "      <th></th>\n",
       "      <th>Ship</th>\n",
       "      <th>Line</th>\n",
       "      <th>YearBlt</th>\n",
       "      <th>Tonnage</th>\n",
       "      <th>passngrs</th>\n",
       "      <th>Length</th>\n",
       "      <th>Cabins</th>\n",
       "      <th>Crew</th>\n",
       "      <th>PassSpcR</th>\n",
       "      <th>outcab</th>\n",
       "    </tr>\n",
       "  </thead>\n",
       "  <tbody>\n",
       "    <tr>\n",
       "      <th>0</th>\n",
       "      <td>Journey</td>\n",
       "      <td>Azamara</td>\n",
       "      <td>2007</td>\n",
       "      <td>30277</td>\n",
       "      <td>694</td>\n",
       "      <td>594</td>\n",
       "      <td>355</td>\n",
       "      <td>355</td>\n",
       "      <td>42.64</td>\n",
       "      <td>329</td>\n",
       "    </tr>\n",
       "    <tr>\n",
       "      <th>1</th>\n",
       "      <td>Quest</td>\n",
       "      <td>Azamara</td>\n",
       "      <td>2007</td>\n",
       "      <td>30277</td>\n",
       "      <td>694</td>\n",
       "      <td>594</td>\n",
       "      <td>355</td>\n",
       "      <td>355</td>\n",
       "      <td>42.64</td>\n",
       "      <td>329</td>\n",
       "    </tr>\n",
       "    <tr>\n",
       "      <th>2</th>\n",
       "      <td>Celebration</td>\n",
       "      <td>Carnival</td>\n",
       "      <td>1987</td>\n",
       "      <td>47262</td>\n",
       "      <td>1486</td>\n",
       "      <td>722</td>\n",
       "      <td>743</td>\n",
       "      <td>670</td>\n",
       "      <td>31.80</td>\n",
       "      <td>453</td>\n",
       "    </tr>\n",
       "    <tr>\n",
       "      <th>3</th>\n",
       "      <td>Conquest</td>\n",
       "      <td>Carnival</td>\n",
       "      <td>2002</td>\n",
       "      <td>110000</td>\n",
       "      <td>2974</td>\n",
       "      <td>953</td>\n",
       "      <td>1488</td>\n",
       "      <td>1910</td>\n",
       "      <td>36.99</td>\n",
       "      <td>892</td>\n",
       "    </tr>\n",
       "    <tr>\n",
       "      <th>4</th>\n",
       "      <td>Destiny</td>\n",
       "      <td>Carnival</td>\n",
       "      <td>1996</td>\n",
       "      <td>101353</td>\n",
       "      <td>2642</td>\n",
       "      <td>892</td>\n",
       "      <td>1321</td>\n",
       "      <td>1000</td>\n",
       "      <td>38.36</td>\n",
       "      <td>740</td>\n",
       "    </tr>\n",
       "  </tbody>\n",
       "</table>\n",
       "</div>"
      ],
      "text/plain": [
       "          Ship      Line  YearBlt  Tonnage  passngrs  Length  Cabins  Crew  \\\n",
       "0      Journey   Azamara     2007    30277       694     594     355   355   \n",
       "1        Quest   Azamara     2007    30277       694     594     355   355   \n",
       "2  Celebration  Carnival     1987    47262      1486     722     743   670   \n",
       "3     Conquest  Carnival     2002   110000      2974     953    1488  1910   \n",
       "4      Destiny  Carnival     1996   101353      2642     892    1321  1000   \n",
       "\n",
       "   PassSpcR  outcab  \n",
       "0     42.64     329  \n",
       "1     42.64     329  \n",
       "2     31.80     453  \n",
       "3     36.99     892  \n",
       "4     38.36     740  "
      ]
     },
     "execution_count": 3,
     "metadata": {},
     "output_type": "execute_result"
    }
   ],
   "source": [
    "cruise_ship.head()"
   ]
  },
  {
   "cell_type": "markdown",
   "id": "6cfdf370",
   "metadata": {},
   "source": [
    "# Activity Instructions\n",
    "Using the **[cruise ship data](https://repo.exeterlms.com/documents/V2/DataScience/Intermediate-Stats/cruise_ship.zip)**, determine whether each continuous variable is: \n",
    "> <mark style=\"background: #ABF7F7A6;\">positively skewed</mark><br>\n",
    "> <mark style=\"background: #FFB86CA6;\">negatively skewed</mark><br>\n",
    "> <mark style=\"background: #D2B3FFA6;\">normally distributed</mark><br>\n",
    "\n",
    "Then perform the correct transformations to get as close to the normal distribution as possible for each variable."
   ]
  },
  {
   "cell_type": "markdown",
   "id": "48fbb736",
   "metadata": {},
   "source": [
    "---\n",
    "# VARIABLE: `YearBlt`\n",
    "<mark style=\"background: #FFB86CA6;\">negatively skewed</mark>"
   ]
  },
  {
   "cell_type": "code",
   "execution_count": 4,
   "id": "bc753836",
   "metadata": {},
   "outputs": [
    {
     "data": {
      "text/plain": [
       "<AxesSubplot:>"
      ]
     },
     "execution_count": 4,
     "metadata": {},
     "output_type": "execute_result"
    },
    {
     "data": {
      "image/png": "[encoded data removed]",
      "text/plain": [
       "<Figure size 432x288 with 1 Axes>"
      ]
     },
     "metadata": {
      "needs_background": "light"
     },
     "output_type": "display_data"
    }
   ],
   "source": [
    "cruise_ship.YearBlt.hist()"
   ]
  },
  {
   "cell_type": "code",
   "execution_count": 5,
   "id": "70ab2db2",
   "metadata": {},
   "outputs": [],
   "source": [
    "cruise_ship['YearBltSQ'] = cruise_ship['YearBlt']**2"
   ]
  },
  {
   "cell_type": "code",
   "execution_count": 6,
   "id": "cd166d84",
   "metadata": {},
   "outputs": [
    {
     "data": {
      "text/html": [
       "<div>\n",
       "<style scoped>\n",
       "    .dataframe tbody tr th:only-of-type {\n",
       "        vertical-align: middle;\n",
       "    }\n",
       "\n",
       "    .dataframe tbody tr th {\n",
       "        vertical-align: top;\n",
       "    }\n",
       "\n",
       "    .dataframe thead th {\n",
       "        text-align: right;\n",
       "    }\n",
       "</style>\n",
       "<table border=\"1\" class=\"dataframe\">\n",
       "  <thead>\n",
       "    <tr style=\"text-align: right;\">\n",
       "      <th></th>\n",
       "      <th>Ship</th>\n",
       "      <th>Line</th>\n",
       "      <th>YearBlt</th>\n",
       "      <th>Tonnage</th>\n",
       "      <th>passngrs</th>\n",
       "      <th>Length</th>\n",
       "      <th>Cabins</th>\n",
       "      <th>Crew</th>\n",
       "      <th>PassSpcR</th>\n",
       "      <th>outcab</th>\n",
       "      <th>YearBltSQ</th>\n",
       "    </tr>\n",
       "  </thead>\n",
       "  <tbody>\n",
       "    <tr>\n",
       "      <th>0</th>\n",
       "      <td>Journey</td>\n",
       "      <td>Azamara</td>\n",
       "      <td>2007</td>\n",
       "      <td>30277</td>\n",
       "      <td>694</td>\n",
       "      <td>594</td>\n",
       "      <td>355</td>\n",
       "      <td>355</td>\n",
       "      <td>42.64</td>\n",
       "      <td>329</td>\n",
       "      <td>4028049</td>\n",
       "    </tr>\n",
       "    <tr>\n",
       "      <th>1</th>\n",
       "      <td>Quest</td>\n",
       "      <td>Azamara</td>\n",
       "      <td>2007</td>\n",
       "      <td>30277</td>\n",
       "      <td>694</td>\n",
       "      <td>594</td>\n",
       "      <td>355</td>\n",
       "      <td>355</td>\n",
       "      <td>42.64</td>\n",
       "      <td>329</td>\n",
       "      <td>4028049</td>\n",
       "    </tr>\n",
       "  </tbody>\n",
       "</table>\n",
       "</div>"
      ],
      "text/plain": [
       "      Ship     Line  YearBlt  Tonnage  passngrs  Length  Cabins  Crew  \\\n",
       "0  Journey  Azamara     2007    30277       694     594     355   355   \n",
       "1    Quest  Azamara     2007    30277       694     594     355   355   \n",
       "\n",
       "   PassSpcR  outcab  YearBltSQ  \n",
       "0     42.64     329    4028049  \n",
       "1     42.64     329    4028049  "
      ]
     },
     "execution_count": 6,
     "metadata": {},
     "output_type": "execute_result"
    }
   ],
   "source": [
    "cruise_ship.head(2)"
   ]
  },
  {
   "cell_type": "code",
   "execution_count": 7,
   "id": "d7fa9c60",
   "metadata": {},
   "outputs": [],
   "source": [
    "cruise_ship['YearBltCUBE'] = cruise_ship['YearBlt']**3"
   ]
  },
  {
   "cell_type": "code",
   "execution_count": 8,
   "id": "b3fb49b8",
   "metadata": {},
   "outputs": [
    {
     "data": {
      "text/html": [
       "<div>\n",
       "<style scoped>\n",
       "    .dataframe tbody tr th:only-of-type {\n",
       "        vertical-align: middle;\n",
       "    }\n",
       "\n",
       "    .dataframe tbody tr th {\n",
       "        vertical-align: top;\n",
       "    }\n",
       "\n",
       "    .dataframe thead th {\n",
       "        text-align: right;\n",
       "    }\n",
       "</style>\n",
       "<table border=\"1\" class=\"dataframe\">\n",
       "  <thead>\n",
       "    <tr style=\"text-align: right;\">\n",
       "      <th></th>\n",
       "      <th>Ship</th>\n",
       "      <th>Line</th>\n",
       "      <th>YearBlt</th>\n",
       "      <th>Tonnage</th>\n",
       "      <th>passngrs</th>\n",
       "      <th>Length</th>\n",
       "      <th>Cabins</th>\n",
       "      <th>Crew</th>\n",
       "      <th>PassSpcR</th>\n",
       "      <th>outcab</th>\n",
       "      <th>YearBltSQ</th>\n",
       "      <th>YearBltCUBE</th>\n",
       "    </tr>\n",
       "  </thead>\n",
       "  <tbody>\n",
       "    <tr>\n",
       "      <th>0</th>\n",
       "      <td>Journey</td>\n",
       "      <td>Azamara</td>\n",
       "      <td>2007</td>\n",
       "      <td>30277</td>\n",
       "      <td>694</td>\n",
       "      <td>594</td>\n",
       "      <td>355</td>\n",
       "      <td>355</td>\n",
       "      <td>42.64</td>\n",
       "      <td>329</td>\n",
       "      <td>4028049</td>\n",
       "      <td>8084294343</td>\n",
       "    </tr>\n",
       "    <tr>\n",
       "      <th>1</th>\n",
       "      <td>Quest</td>\n",
       "      <td>Azamara</td>\n",
       "      <td>2007</td>\n",
       "      <td>30277</td>\n",
       "      <td>694</td>\n",
       "      <td>594</td>\n",
       "      <td>355</td>\n",
       "      <td>355</td>\n",
       "      <td>42.64</td>\n",
       "      <td>329</td>\n",
       "      <td>4028049</td>\n",
       "      <td>8084294343</td>\n",
       "    </tr>\n",
       "  </tbody>\n",
       "</table>\n",
       "</div>"
      ],
      "text/plain": [
       "      Ship     Line  YearBlt  Tonnage  passngrs  Length  Cabins  Crew  \\\n",
       "0  Journey  Azamara     2007    30277       694     594     355   355   \n",
       "1    Quest  Azamara     2007    30277       694     594     355   355   \n",
       "\n",
       "   PassSpcR  outcab  YearBltSQ  YearBltCUBE  \n",
       "0     42.64     329    4028049   8084294343  \n",
       "1     42.64     329    4028049   8084294343  "
      ]
     },
     "execution_count": 8,
     "metadata": {},
     "output_type": "execute_result"
    }
   ],
   "source": [
    "cruise_ship.head(2)"
   ]
  },
  {
   "cell_type": "code",
   "execution_count": 9,
   "id": "114a97aa",
   "metadata": {},
   "outputs": [
    {
     "data": {
      "text/plain": [
       "<AxesSubplot:>"
      ]
     },
     "execution_count": 9,
     "metadata": {},
     "output_type": "execute_result"
    },
    {
     "data": {
      "image/png": "[encoded data removed]",
      "text/plain": [
       "<Figure size 432x288 with 1 Axes>"
      ]
     },
     "metadata": {
      "needs_background": "light"
     },
     "output_type": "display_data"
    }
   ],
   "source": [
    "cruise_ship.YearBltCUBE.hist()"
   ]
  },
  {
   "cell_type": "markdown",
   "id": "0147dee1",
   "metadata": {},
   "source": [
    "---\n",
    "# VARIABLE: `Tonnage`\n",
    "<mark style=\"background: #ABF7F7A6;\">positively skewed</mark>"
   ]
  },
  {
   "cell_type": "code",
   "execution_count": 10,
   "id": "6724b4d5",
   "metadata": {},
   "outputs": [
    {
     "data": {
      "text/plain": [
       "<AxesSubplot:>"
      ]
     },
     "execution_count": 10,
     "metadata": {},
     "output_type": "execute_result"
    },
    {
     "data": {
      "image/png": "[encoded data removed]",
      "text/plain": [
       "<Figure size 432x288 with 1 Axes>"
      ]
     },
     "metadata": {
      "needs_background": "light"
     },
     "output_type": "display_data"
    }
   ],
   "source": [
    "cruise_ship.Tonnage.hist()"
   ]
  },
  {
   "cell_type": "code",
   "execution_count": 11,
   "id": "05f74c04",
   "metadata": {},
   "outputs": [],
   "source": [
    "cruise_ship['TonnageSQRT'] = np.sqrt(cruise_ship['Tonnage'])"
   ]
  },
  {
   "cell_type": "code",
   "execution_count": 12,
   "id": "af5af716",
   "metadata": {},
   "outputs": [
    {
     "data": {
      "text/html": [
       "<div>\n",
       "<style scoped>\n",
       "    .dataframe tbody tr th:only-of-type {\n",
       "        vertical-align: middle;\n",
       "    }\n",
       "\n",
       "    .dataframe tbody tr th {\n",
       "        vertical-align: top;\n",
       "    }\n",
       "\n",
       "    .dataframe thead th {\n",
       "        text-align: right;\n",
       "    }\n",
       "</style>\n",
       "<table border=\"1\" class=\"dataframe\">\n",
       "  <thead>\n",
       "    <tr style=\"text-align: right;\">\n",
       "      <th></th>\n",
       "      <th>Ship</th>\n",
       "      <th>Line</th>\n",
       "      <th>YearBlt</th>\n",
       "      <th>Tonnage</th>\n",
       "      <th>passngrs</th>\n",
       "      <th>Length</th>\n",
       "      <th>Cabins</th>\n",
       "      <th>Crew</th>\n",
       "      <th>PassSpcR</th>\n",
       "      <th>outcab</th>\n",
       "      <th>YearBltSQ</th>\n",
       "      <th>YearBltCUBE</th>\n",
       "      <th>TonnageSQRT</th>\n",
       "    </tr>\n",
       "  </thead>\n",
       "  <tbody>\n",
       "    <tr>\n",
       "      <th>0</th>\n",
       "      <td>Journey</td>\n",
       "      <td>Azamara</td>\n",
       "      <td>2007</td>\n",
       "      <td>30277</td>\n",
       "      <td>694</td>\n",
       "      <td>594</td>\n",
       "      <td>355</td>\n",
       "      <td>355</td>\n",
       "      <td>42.64</td>\n",
       "      <td>329</td>\n",
       "      <td>4028049</td>\n",
       "      <td>8084294343</td>\n",
       "      <td>174.002874</td>\n",
       "    </tr>\n",
       "    <tr>\n",
       "      <th>1</th>\n",
       "      <td>Quest</td>\n",
       "      <td>Azamara</td>\n",
       "      <td>2007</td>\n",
       "      <td>30277</td>\n",
       "      <td>694</td>\n",
       "      <td>594</td>\n",
       "      <td>355</td>\n",
       "      <td>355</td>\n",
       "      <td>42.64</td>\n",
       "      <td>329</td>\n",
       "      <td>4028049</td>\n",
       "      <td>8084294343</td>\n",
       "      <td>174.002874</td>\n",
       "    </tr>\n",
       "  </tbody>\n",
       "</table>\n",
       "</div>"
      ],
      "text/plain": [
       "      Ship     Line  YearBlt  Tonnage  passngrs  Length  Cabins  Crew  \\\n",
       "0  Journey  Azamara     2007    30277       694     594     355   355   \n",
       "1    Quest  Azamara     2007    30277       694     594     355   355   \n",
       "\n",
       "   PassSpcR  outcab  YearBltSQ  YearBltCUBE  TonnageSQRT  \n",
       "0     42.64     329    4028049   8084294343   174.002874  \n",
       "1     42.64     329    4028049   8084294343   174.002874  "
      ]
     },
     "execution_count": 12,
     "metadata": {},
     "output_type": "execute_result"
    }
   ],
   "source": [
    "cruise_ship.head(2)"
   ]
  },
  {
   "cell_type": "code",
   "execution_count": 13,
   "id": "1074e405",
   "metadata": {},
   "outputs": [
    {
     "data": {
      "text/plain": [
       "<AxesSubplot:>"
      ]
     },
     "execution_count": 13,
     "metadata": {},
     "output_type": "execute_result"
    },
    {
     "data": {
      "image/png": "[encoded data removed]",
      "text/plain": [
       "<Figure size 432x288 with 1 Axes>"
      ]
     },
     "metadata": {
      "needs_background": "light"
     },
     "output_type": "display_data"
    }
   ],
   "source": [
    "cruise_ship.TonnageSQRT.hist()"
   ]
  },
  {
   "cell_type": "markdown",
   "id": "f9078a0b",
   "metadata": {},
   "source": [
    "---\n",
    "# VARIABLE: `passngrs`\n",
    "<mark style=\"background: #ABF7F7A6;\">positively skewed</mark>"
   ]
  },
  {
   "cell_type": "code",
   "execution_count": 14,
   "id": "b01653f8",
   "metadata": {},
   "outputs": [
    {
     "data": {
      "text/plain": [
       "<AxesSubplot:>"
      ]
     },
     "execution_count": 14,
     "metadata": {},
     "output_type": "execute_result"
    },
    {
     "data": {
      "image/png": "[encoded data removed]",
      "text/plain": [
       "<Figure size 432x288 with 1 Axes>"
      ]
     },
     "metadata": {
      "needs_background": "light"
     },
     "output_type": "display_data"
    }
   ],
   "source": [
    "cruise_ship.passngrs.hist()"
   ]
  },
  {
   "cell_type": "code",
   "execution_count": 15,
   "id": "1852be9c",
   "metadata": {},
   "outputs": [],
   "source": [
    "cruise_ship['passngrsSQRT'] = np.sqrt(cruise_ship['passngrs'])"
   ]
  },
  {
   "cell_type": "code",
   "execution_count": 16,
   "id": "3e147720",
   "metadata": {},
   "outputs": [
    {
     "data": {
      "text/html": [
       "<div>\n",
       "<style scoped>\n",
       "    .dataframe tbody tr th:only-of-type {\n",
       "        vertical-align: middle;\n",
       "    }\n",
       "\n",
       "    .dataframe tbody tr th {\n",
       "        vertical-align: top;\n",
       "    }\n",
       "\n",
       "    .dataframe thead th {\n",
       "        text-align: right;\n",
       "    }\n",
       "</style>\n",
       "<table border=\"1\" class=\"dataframe\">\n",
       "  <thead>\n",
       "    <tr style=\"text-align: right;\">\n",
       "      <th></th>\n",
       "      <th>Ship</th>\n",
       "      <th>Line</th>\n",
       "      <th>YearBlt</th>\n",
       "      <th>Tonnage</th>\n",
       "      <th>passngrs</th>\n",
       "      <th>Length</th>\n",
       "      <th>Cabins</th>\n",
       "      <th>Crew</th>\n",
       "      <th>PassSpcR</th>\n",
       "      <th>outcab</th>\n",
       "      <th>YearBltSQ</th>\n",
       "      <th>YearBltCUBE</th>\n",
       "      <th>TonnageSQRT</th>\n",
       "      <th>passngrsSQRT</th>\n",
       "    </tr>\n",
       "  </thead>\n",
       "  <tbody>\n",
       "    <tr>\n",
       "      <th>0</th>\n",
       "      <td>Journey</td>\n",
       "      <td>Azamara</td>\n",
       "      <td>2007</td>\n",
       "      <td>30277</td>\n",
       "      <td>694</td>\n",
       "      <td>594</td>\n",
       "      <td>355</td>\n",
       "      <td>355</td>\n",
       "      <td>42.64</td>\n",
       "      <td>329</td>\n",
       "      <td>4028049</td>\n",
       "      <td>8084294343</td>\n",
       "      <td>174.002874</td>\n",
       "      <td>26.34388</td>\n",
       "    </tr>\n",
       "    <tr>\n",
       "      <th>1</th>\n",
       "      <td>Quest</td>\n",
       "      <td>Azamara</td>\n",
       "      <td>2007</td>\n",
       "      <td>30277</td>\n",
       "      <td>694</td>\n",
       "      <td>594</td>\n",
       "      <td>355</td>\n",
       "      <td>355</td>\n",
       "      <td>42.64</td>\n",
       "      <td>329</td>\n",
       "      <td>4028049</td>\n",
       "      <td>8084294343</td>\n",
       "      <td>174.002874</td>\n",
       "      <td>26.34388</td>\n",
       "    </tr>\n",
       "  </tbody>\n",
       "</table>\n",
       "</div>"
      ],
      "text/plain": [
       "      Ship     Line  YearBlt  Tonnage  passngrs  Length  Cabins  Crew  \\\n",
       "0  Journey  Azamara     2007    30277       694     594     355   355   \n",
       "1    Quest  Azamara     2007    30277       694     594     355   355   \n",
       "\n",
       "   PassSpcR  outcab  YearBltSQ  YearBltCUBE  TonnageSQRT  passngrsSQRT  \n",
       "0     42.64     329    4028049   8084294343   174.002874      26.34388  \n",
       "1     42.64     329    4028049   8084294343   174.002874      26.34388  "
      ]
     },
     "execution_count": 16,
     "metadata": {},
     "output_type": "execute_result"
    }
   ],
   "source": [
    "cruise_ship.head(2)"
   ]
  },
  {
   "cell_type": "code",
   "execution_count": 17,
   "id": "897b0525",
   "metadata": {},
   "outputs": [
    {
     "data": {
      "text/plain": [
       "<AxesSubplot:>"
      ]
     },
     "execution_count": 17,
     "metadata": {},
     "output_type": "execute_result"
    },
    {
     "data": {
      "image/png": "[encoded data removed]",
      "text/plain": [
       "<Figure size 432x288 with 1 Axes>"
      ]
     },
     "metadata": {
      "needs_background": "light"
     },
     "output_type": "display_data"
    }
   ],
   "source": [
    "cruise_ship.passngrsSQRT.hist()"
   ]
  },
  {
   "cell_type": "markdown",
   "id": "143fff18",
   "metadata": {},
   "source": [
    "---\n",
    "# VARIABLE: `Length`\n",
    "<mark style=\"background: #FFB86CA6;\">negatively skewed</mark>"
   ]
  },
  {
   "cell_type": "code",
   "execution_count": 18,
   "id": "b6c06898",
   "metadata": {},
   "outputs": [
    {
     "data": {
      "text/plain": [
       "<AxesSubplot:>"
      ]
     },
     "execution_count": 18,
     "metadata": {},
     "output_type": "execute_result"
    },
    {
     "data": {
      "image/png": "[encoded data removed]",
      "text/plain": [
       "<Figure size 432x288 with 1 Axes>"
      ]
     },
     "metadata": {
      "needs_background": "light"
     },
     "output_type": "display_data"
    }
   ],
   "source": [
    "cruise_ship.Length.hist()"
   ]
  },
  {
   "cell_type": "code",
   "execution_count": 19,
   "id": "277e50fa",
   "metadata": {},
   "outputs": [],
   "source": [
    "cruise_ship['LengthSQ'] = cruise_ship['Length']**2"
   ]
  },
  {
   "cell_type": "code",
   "execution_count": 20,
   "id": "112b71ee",
   "metadata": {},
   "outputs": [
    {
     "data": {
      "text/html": [
       "<div>\n",
       "<style scoped>\n",
       "    .dataframe tbody tr th:only-of-type {\n",
       "        vertical-align: middle;\n",
       "    }\n",
       "\n",
       "    .dataframe tbody tr th {\n",
       "        vertical-align: top;\n",
       "    }\n",
       "\n",
       "    .dataframe thead th {\n",
       "        text-align: right;\n",
       "    }\n",
       "</style>\n",
       "<table border=\"1\" class=\"dataframe\">\n",
       "  <thead>\n",
       "    <tr style=\"text-align: right;\">\n",
       "      <th></th>\n",
       "      <th>Ship</th>\n",
       "      <th>Line</th>\n",
       "      <th>YearBlt</th>\n",
       "      <th>Tonnage</th>\n",
       "      <th>passngrs</th>\n",
       "      <th>Length</th>\n",
       "      <th>Cabins</th>\n",
       "      <th>Crew</th>\n",
       "      <th>PassSpcR</th>\n",
       "      <th>outcab</th>\n",
       "      <th>YearBltSQ</th>\n",
       "      <th>YearBltCUBE</th>\n",
       "      <th>TonnageSQRT</th>\n",
       "      <th>passngrsSQRT</th>\n",
       "      <th>LengthSQ</th>\n",
       "    </tr>\n",
       "  </thead>\n",
       "  <tbody>\n",
       "    <tr>\n",
       "      <th>0</th>\n",
       "      <td>Journey</td>\n",
       "      <td>Azamara</td>\n",
       "      <td>2007</td>\n",
       "      <td>30277</td>\n",
       "      <td>694</td>\n",
       "      <td>594</td>\n",
       "      <td>355</td>\n",
       "      <td>355</td>\n",
       "      <td>42.64</td>\n",
       "      <td>329</td>\n",
       "      <td>4028049</td>\n",
       "      <td>8084294343</td>\n",
       "      <td>174.002874</td>\n",
       "      <td>26.34388</td>\n",
       "      <td>352836</td>\n",
       "    </tr>\n",
       "    <tr>\n",
       "      <th>1</th>\n",
       "      <td>Quest</td>\n",
       "      <td>Azamara</td>\n",
       "      <td>2007</td>\n",
       "      <td>30277</td>\n",
       "      <td>694</td>\n",
       "      <td>594</td>\n",
       "      <td>355</td>\n",
       "      <td>355</td>\n",
       "      <td>42.64</td>\n",
       "      <td>329</td>\n",
       "      <td>4028049</td>\n",
       "      <td>8084294343</td>\n",
       "      <td>174.002874</td>\n",
       "      <td>26.34388</td>\n",
       "      <td>352836</td>\n",
       "    </tr>\n",
       "  </tbody>\n",
       "</table>\n",
       "</div>"
      ],
      "text/plain": [
       "      Ship     Line  YearBlt  Tonnage  passngrs  Length  Cabins  Crew  \\\n",
       "0  Journey  Azamara     2007    30277       694     594     355   355   \n",
       "1    Quest  Azamara     2007    30277       694     594     355   355   \n",
       "\n",
       "   PassSpcR  outcab  YearBltSQ  YearBltCUBE  TonnageSQRT  passngrsSQRT  \\\n",
       "0     42.64     329    4028049   8084294343   174.002874      26.34388   \n",
       "1     42.64     329    4028049   8084294343   174.002874      26.34388   \n",
       "\n",
       "   LengthSQ  \n",
       "0    352836  \n",
       "1    352836  "
      ]
     },
     "execution_count": 20,
     "metadata": {},
     "output_type": "execute_result"
    }
   ],
   "source": [
    "cruise_ship.head(2)"
   ]
  },
  {
   "cell_type": "code",
   "execution_count": 21,
   "id": "79e006f9",
   "metadata": {},
   "outputs": [
    {
     "data": {
      "text/plain": [
       "<AxesSubplot:>"
      ]
     },
     "execution_count": 21,
     "metadata": {},
     "output_type": "execute_result"
    },
    {
     "data": {
      "image/png": "[encoded data removed]",
      "text/plain": [
       "<Figure size 432x288 with 1 Axes>"
      ]
     },
     "metadata": {
      "needs_background": "light"
     },
     "output_type": "display_data"
    }
   ],
   "source": [
    "cruise_ship.LengthSQ.hist()"
   ]
  },
  {
   "cell_type": "markdown",
   "id": "26c13485",
   "metadata": {},
   "source": [
    "---\n",
    "# VARIABLE: `Cabins`\n",
    "<mark style=\"background: #ABF7F7A6;\">positively skewed</mark>"
   ]
  },
  {
   "cell_type": "code",
   "execution_count": 22,
   "id": "50c1f6be",
   "metadata": {},
   "outputs": [
    {
     "data": {
      "text/plain": [
       "<AxesSubplot:>"
      ]
     },
     "execution_count": 22,
     "metadata": {},
     "output_type": "execute_result"
    },
    {
     "data": {
      "image/png": "[encoded data removed]",
      "text/plain": [
       "<Figure size 432x288 with 1 Axes>"
      ]
     },
     "metadata": {
      "needs_background": "light"
     },
     "output_type": "display_data"
    }
   ],
   "source": [
    "cruise_ship.Cabins.hist()"
   ]
  },
  {
   "cell_type": "code",
   "execution_count": 23,
   "id": "01a64d90",
   "metadata": {},
   "outputs": [],
   "source": [
    "cruise_ship['CabinsSQRT'] = np.sqrt(cruise_ship['Cabins'])"
   ]
  },
  {
   "cell_type": "code",
   "execution_count": 24,
   "id": "cb45b526",
   "metadata": {},
   "outputs": [
    {
     "data": {
      "text/html": [
       "<div>\n",
       "<style scoped>\n",
       "    .dataframe tbody tr th:only-of-type {\n",
       "        vertical-align: middle;\n",
       "    }\n",
       "\n",
       "    .dataframe tbody tr th {\n",
       "        vertical-align: top;\n",
       "    }\n",
       "\n",
       "    .dataframe thead th {\n",
       "        text-align: right;\n",
       "    }\n",
       "</style>\n",
       "<table border=\"1\" class=\"dataframe\">\n",
       "  <thead>\n",
       "    <tr style=\"text-align: right;\">\n",
       "      <th></th>\n",
       "      <th>Ship</th>\n",
       "      <th>Line</th>\n",
       "      <th>YearBlt</th>\n",
       "      <th>Tonnage</th>\n",
       "      <th>passngrs</th>\n",
       "      <th>Length</th>\n",
       "      <th>Cabins</th>\n",
       "      <th>Crew</th>\n",
       "      <th>PassSpcR</th>\n",
       "      <th>outcab</th>\n",
       "      <th>YearBltSQ</th>\n",
       "      <th>YearBltCUBE</th>\n",
       "      <th>TonnageSQRT</th>\n",
       "      <th>passngrsSQRT</th>\n",
       "      <th>LengthSQ</th>\n",
       "      <th>CabinsSQRT</th>\n",
       "    </tr>\n",
       "  </thead>\n",
       "  <tbody>\n",
       "    <tr>\n",
       "      <th>0</th>\n",
       "      <td>Journey</td>\n",
       "      <td>Azamara</td>\n",
       "      <td>2007</td>\n",
       "      <td>30277</td>\n",
       "      <td>694</td>\n",
       "      <td>594</td>\n",
       "      <td>355</td>\n",
       "      <td>355</td>\n",
       "      <td>42.64</td>\n",
       "      <td>329</td>\n",
       "      <td>4028049</td>\n",
       "      <td>8084294343</td>\n",
       "      <td>174.002874</td>\n",
       "      <td>26.34388</td>\n",
       "      <td>352836</td>\n",
       "      <td>18.841444</td>\n",
       "    </tr>\n",
       "    <tr>\n",
       "      <th>1</th>\n",
       "      <td>Quest</td>\n",
       "      <td>Azamara</td>\n",
       "      <td>2007</td>\n",
       "      <td>30277</td>\n",
       "      <td>694</td>\n",
       "      <td>594</td>\n",
       "      <td>355</td>\n",
       "      <td>355</td>\n",
       "      <td>42.64</td>\n",
       "      <td>329</td>\n",
       "      <td>4028049</td>\n",
       "      <td>8084294343</td>\n",
       "      <td>174.002874</td>\n",
       "      <td>26.34388</td>\n",
       "      <td>352836</td>\n",
       "      <td>18.841444</td>\n",
       "    </tr>\n",
       "  </tbody>\n",
       "</table>\n",
       "</div>"
      ],
      "text/plain": [
       "      Ship     Line  YearBlt  Tonnage  passngrs  Length  Cabins  Crew  \\\n",
       "0  Journey  Azamara     2007    30277       694     594     355   355   \n",
       "1    Quest  Azamara     2007    30277       694     594     355   355   \n",
       "\n",
       "   PassSpcR  outcab  YearBltSQ  YearBltCUBE  TonnageSQRT  passngrsSQRT  \\\n",
       "0     42.64     329    4028049   8084294343   174.002874      26.34388   \n",
       "1     42.64     329    4028049   8084294343   174.002874      26.34388   \n",
       "\n",
       "   LengthSQ  CabinsSQRT  \n",
       "0    352836   18.841444  \n",
       "1    352836   18.841444  "
      ]
     },
     "execution_count": 24,
     "metadata": {},
     "output_type": "execute_result"
    }
   ],
   "source": [
    "cruise_ship.head(2)"
   ]
  },
  {
   "cell_type": "code",
   "execution_count": 25,
   "id": "426ac07f",
   "metadata": {},
   "outputs": [
    {
     "data": {
      "text/plain": [
       "<AxesSubplot:>"
      ]
     },
     "execution_count": 25,
     "metadata": {},
     "output_type": "execute_result"
    },
    {
     "data": {
      "image/png": "[encoded data removed]",
      "text/plain": [
       "<Figure size 432x288 with 1 Axes>"
      ]
     },
     "metadata": {
      "needs_background": "light"
     },
     "output_type": "display_data"
    }
   ],
   "source": [
    "cruise_ship.CabinsSQRT.hist()"
   ]
  },
  {
   "cell_type": "markdown",
   "id": "ac381363",
   "metadata": {},
   "source": [
    "---\n",
    "# VARIABLE: `Crew`\n",
    "<mark style=\"background: #ABF7F7A6;\">positively skewed</mark>"
   ]
  },
  {
   "cell_type": "code",
   "execution_count": 26,
   "id": "1b7f8d9b",
   "metadata": {},
   "outputs": [
    {
     "data": {
      "text/plain": [
       "<AxesSubplot:>"
      ]
     },
     "execution_count": 26,
     "metadata": {},
     "output_type": "execute_result"
    },
    {
     "data": {
      "image/png": "[encoded data removed]",
      "text/plain": [
       "<Figure size 432x288 with 1 Axes>"
      ]
     },
     "metadata": {
      "needs_background": "light"
     },
     "output_type": "display_data"
    }
   ],
   "source": [
    "cruise_ship.Crew.hist()"
   ]
  },
  {
   "cell_type": "code",
   "execution_count": 27,
   "id": "fe3f57d3",
   "metadata": {},
   "outputs": [],
   "source": [
    "cruise_ship['CrewSQRT'] = np.sqrt(cruise_ship['Crew'])"
   ]
  },
  {
   "cell_type": "code",
   "execution_count": 28,
   "id": "7ba04a5b",
   "metadata": {},
   "outputs": [
    {
     "data": {
      "text/html": [
       "<div>\n",
       "<style scoped>\n",
       "    .dataframe tbody tr th:only-of-type {\n",
       "        vertical-align: middle;\n",
       "    }\n",
       "\n",
       "    .dataframe tbody tr th {\n",
       "        vertical-align: top;\n",
       "    }\n",
       "\n",
       "    .dataframe thead th {\n",
       "        text-align: right;\n",
       "    }\n",
       "</style>\n",
       "<table border=\"1\" class=\"dataframe\">\n",
       "  <thead>\n",
       "    <tr style=\"text-align: right;\">\n",
       "      <th></th>\n",
       "      <th>Ship</th>\n",
       "      <th>Line</th>\n",
       "      <th>YearBlt</th>\n",
       "      <th>Tonnage</th>\n",
       "      <th>passngrs</th>\n",
       "      <th>Length</th>\n",
       "      <th>Cabins</th>\n",
       "      <th>Crew</th>\n",
       "      <th>PassSpcR</th>\n",
       "      <th>outcab</th>\n",
       "      <th>YearBltSQ</th>\n",
       "      <th>YearBltCUBE</th>\n",
       "      <th>TonnageSQRT</th>\n",
       "      <th>passngrsSQRT</th>\n",
       "      <th>LengthSQ</th>\n",
       "      <th>CabinsSQRT</th>\n",
       "      <th>CrewSQRT</th>\n",
       "    </tr>\n",
       "  </thead>\n",
       "  <tbody>\n",
       "    <tr>\n",
       "      <th>0</th>\n",
       "      <td>Journey</td>\n",
       "      <td>Azamara</td>\n",
       "      <td>2007</td>\n",
       "      <td>30277</td>\n",
       "      <td>694</td>\n",
       "      <td>594</td>\n",
       "      <td>355</td>\n",
       "      <td>355</td>\n",
       "      <td>42.64</td>\n",
       "      <td>329</td>\n",
       "      <td>4028049</td>\n",
       "      <td>8084294343</td>\n",
       "      <td>174.002874</td>\n",
       "      <td>26.34388</td>\n",
       "      <td>352836</td>\n",
       "      <td>18.841444</td>\n",
       "      <td>18.841444</td>\n",
       "    </tr>\n",
       "    <tr>\n",
       "      <th>1</th>\n",
       "      <td>Quest</td>\n",
       "      <td>Azamara</td>\n",
       "      <td>2007</td>\n",
       "      <td>30277</td>\n",
       "      <td>694</td>\n",
       "      <td>594</td>\n",
       "      <td>355</td>\n",
       "      <td>355</td>\n",
       "      <td>42.64</td>\n",
       "      <td>329</td>\n",
       "      <td>4028049</td>\n",
       "      <td>8084294343</td>\n",
       "      <td>174.002874</td>\n",
       "      <td>26.34388</td>\n",
       "      <td>352836</td>\n",
       "      <td>18.841444</td>\n",
       "      <td>18.841444</td>\n",
       "    </tr>\n",
       "  </tbody>\n",
       "</table>\n",
       "</div>"
      ],
      "text/plain": [
       "      Ship     Line  YearBlt  Tonnage  passngrs  Length  Cabins  Crew  \\\n",
       "0  Journey  Azamara     2007    30277       694     594     355   355   \n",
       "1    Quest  Azamara     2007    30277       694     594     355   355   \n",
       "\n",
       "   PassSpcR  outcab  YearBltSQ  YearBltCUBE  TonnageSQRT  passngrsSQRT  \\\n",
       "0     42.64     329    4028049   8084294343   174.002874      26.34388   \n",
       "1     42.64     329    4028049   8084294343   174.002874      26.34388   \n",
       "\n",
       "   LengthSQ  CabinsSQRT   CrewSQRT  \n",
       "0    352836   18.841444  18.841444  \n",
       "1    352836   18.841444  18.841444  "
      ]
     },
     "execution_count": 28,
     "metadata": {},
     "output_type": "execute_result"
    }
   ],
   "source": [
    "cruise_ship.head(2)"
   ]
  },
  {
   "cell_type": "code",
   "execution_count": 29,
   "id": "f6d68174",
   "metadata": {},
   "outputs": [
    {
     "data": {
      "text/plain": [
       "<AxesSubplot:>"
      ]
     },
     "execution_count": 29,
     "metadata": {},
     "output_type": "execute_result"
    },
    {
     "data": {
      "image/png": "[encoded data removed]",
      "text/plain": [
       "<Figure size 432x288 with 1 Axes>"
      ]
     },
     "metadata": {
      "needs_background": "light"
     },
     "output_type": "display_data"
    }
   ],
   "source": [
    "cruise_ship.CrewSQRT.hist()"
   ]
  },
  {
   "cell_type": "markdown",
   "id": "09083a4c",
   "metadata": {},
   "source": [
    "---\n",
    "# VARIABLE: `PassSpcR`\n",
    "<mark style=\"background: #ABF7F7A6;\">positively skewed</mark>"
   ]
  },
  {
   "cell_type": "code",
   "execution_count": 30,
   "id": "b5d6e0aa",
   "metadata": {},
   "outputs": [
    {
     "data": {
      "text/plain": [
       "<AxesSubplot:>"
      ]
     },
     "execution_count": 30,
     "metadata": {},
     "output_type": "execute_result"
    },
    {
     "data": {
      "image/png": "[encoded data removed]",
      "text/plain": [
       "<Figure size 432x288 with 1 Axes>"
      ]
     },
     "metadata": {
      "needs_background": "light"
     },
     "output_type": "display_data"
    }
   ],
   "source": [
    "cruise_ship.PassSpcR.hist()"
   ]
  },
  {
   "cell_type": "code",
   "execution_count": 31,
   "id": "3662faa9",
   "metadata": {},
   "outputs": [],
   "source": [
    "cruise_ship['PassSpcRSQRT'] = np.sqrt(cruise_ship['PassSpcR'])"
   ]
  },
  {
   "cell_type": "code",
   "execution_count": 32,
   "id": "b2bee8ba",
   "metadata": {},
   "outputs": [
    {
     "data": {
      "text/html": [
       "<div>\n",
       "<style scoped>\n",
       "    .dataframe tbody tr th:only-of-type {\n",
       "        vertical-align: middle;\n",
       "    }\n",
       "\n",
       "    .dataframe tbody tr th {\n",
       "        vertical-align: top;\n",
       "    }\n",
       "\n",
       "    .dataframe thead th {\n",
       "        text-align: right;\n",
       "    }\n",
       "</style>\n",
       "<table border=\"1\" class=\"dataframe\">\n",
       "  <thead>\n",
       "    <tr style=\"text-align: right;\">\n",
       "      <th></th>\n",
       "      <th>Ship</th>\n",
       "      <th>Line</th>\n",
       "      <th>YearBlt</th>\n",
       "      <th>Tonnage</th>\n",
       "      <th>passngrs</th>\n",
       "      <th>Length</th>\n",
       "      <th>Cabins</th>\n",
       "      <th>Crew</th>\n",
       "      <th>PassSpcR</th>\n",
       "      <th>outcab</th>\n",
       "      <th>YearBltSQ</th>\n",
       "      <th>YearBltCUBE</th>\n",
       "      <th>TonnageSQRT</th>\n",
       "      <th>passngrsSQRT</th>\n",
       "      <th>LengthSQ</th>\n",
       "      <th>CabinsSQRT</th>\n",
       "      <th>CrewSQRT</th>\n",
       "      <th>PassSpcRSQRT</th>\n",
       "    </tr>\n",
       "  </thead>\n",
       "  <tbody>\n",
       "    <tr>\n",
       "      <th>0</th>\n",
       "      <td>Journey</td>\n",
       "      <td>Azamara</td>\n",
       "      <td>2007</td>\n",
       "      <td>30277</td>\n",
       "      <td>694</td>\n",
       "      <td>594</td>\n",
       "      <td>355</td>\n",
       "      <td>355</td>\n",
       "      <td>42.64</td>\n",
       "      <td>329</td>\n",
       "      <td>4028049</td>\n",
       "      <td>8084294343</td>\n",
       "      <td>174.002874</td>\n",
       "      <td>26.34388</td>\n",
       "      <td>352836</td>\n",
       "      <td>18.841444</td>\n",
       "      <td>18.841444</td>\n",
       "      <td>6.529931</td>\n",
       "    </tr>\n",
       "    <tr>\n",
       "      <th>1</th>\n",
       "      <td>Quest</td>\n",
       "      <td>Azamara</td>\n",
       "      <td>2007</td>\n",
       "      <td>30277</td>\n",
       "      <td>694</td>\n",
       "      <td>594</td>\n",
       "      <td>355</td>\n",
       "      <td>355</td>\n",
       "      <td>42.64</td>\n",
       "      <td>329</td>\n",
       "      <td>4028049</td>\n",
       "      <td>8084294343</td>\n",
       "      <td>174.002874</td>\n",
       "      <td>26.34388</td>\n",
       "      <td>352836</td>\n",
       "      <td>18.841444</td>\n",
       "      <td>18.841444</td>\n",
       "      <td>6.529931</td>\n",
       "    </tr>\n",
       "  </tbody>\n",
       "</table>\n",
       "</div>"
      ],
      "text/plain": [
       "      Ship     Line  YearBlt  Tonnage  passngrs  Length  Cabins  Crew  \\\n",
       "0  Journey  Azamara     2007    30277       694     594     355   355   \n",
       "1    Quest  Azamara     2007    30277       694     594     355   355   \n",
       "\n",
       "   PassSpcR  outcab  YearBltSQ  YearBltCUBE  TonnageSQRT  passngrsSQRT  \\\n",
       "0     42.64     329    4028049   8084294343   174.002874      26.34388   \n",
       "1     42.64     329    4028049   8084294343   174.002874      26.34388   \n",
       "\n",
       "   LengthSQ  CabinsSQRT   CrewSQRT  PassSpcRSQRT  \n",
       "0    352836   18.841444  18.841444      6.529931  \n",
       "1    352836   18.841444  18.841444      6.529931  "
      ]
     },
     "execution_count": 32,
     "metadata": {},
     "output_type": "execute_result"
    }
   ],
   "source": [
    "cruise_ship.head(2)"
   ]
  },
  {
   "cell_type": "code",
   "execution_count": 33,
   "id": "d921e4f8",
   "metadata": {},
   "outputs": [
    {
     "data": {
      "text/plain": [
       "<AxesSubplot:>"
      ]
     },
     "execution_count": 33,
     "metadata": {},
     "output_type": "execute_result"
    },
    {
     "data": {
      "image/png": "[encoded data removed]",
      "text/plain": [
       "<Figure size 432x288 with 1 Axes>"
      ]
     },
     "metadata": {
      "needs_background": "light"
     },
     "output_type": "display_data"
    }
   ],
   "source": [
    "cruise_ship.PassSpcRSQRT.hist()"
   ]
  },
  {
   "cell_type": "markdown",
   "id": "f3be8690",
   "metadata": {},
   "source": [
    "---\n",
    "# VARIABLE: `outcab`\n",
    "<mark style=\"background: #ABF7F7A6;\">positively skewed</mark>"
   ]
  },
  {
   "cell_type": "code",
   "execution_count": 34,
   "id": "3a8694bf",
   "metadata": {},
   "outputs": [
    {
     "data": {
      "text/plain": [
       "<AxesSubplot:>"
      ]
     },
     "execution_count": 34,
     "metadata": {},
     "output_type": "execute_result"
    },
    {
     "data": {
      "image/png": "[encoded data removed]",
      "text/plain": [
       "<Figure size 432x288 with 1 Axes>"
      ]
     },
     "metadata": {
      "needs_background": "light"
     },
     "output_type": "display_data"
    }
   ],
   "source": [
    "cruise_ship.outcab.hist()"
   ]
  },
  {
   "cell_type": "code",
   "execution_count": 35,
   "id": "489a4125",
   "metadata": {},
   "outputs": [],
   "source": [
    "cruise_ship['outcabSQRT'] = np.sqrt(cruise_ship['outcab'])"
   ]
  },
  {
   "cell_type": "code",
   "execution_count": 36,
   "id": "9186f816",
   "metadata": {},
   "outputs": [
    {
     "data": {
      "text/html": [
       "<div>\n",
       "<style scoped>\n",
       "    .dataframe tbody tr th:only-of-type {\n",
       "        vertical-align: middle;\n",
       "    }\n",
       "\n",
       "    .dataframe tbody tr th {\n",
       "        vertical-align: top;\n",
       "    }\n",
       "\n",
       "    .dataframe thead th {\n",
       "        text-align: right;\n",
       "    }\n",
       "</style>\n",
       "<table border=\"1\" class=\"dataframe\">\n",
       "  <thead>\n",
       "    <tr style=\"text-align: right;\">\n",
       "      <th></th>\n",
       "      <th>Ship</th>\n",
       "      <th>Line</th>\n",
       "      <th>YearBlt</th>\n",
       "      <th>Tonnage</th>\n",
       "      <th>passngrs</th>\n",
       "      <th>Length</th>\n",
       "      <th>Cabins</th>\n",
       "      <th>Crew</th>\n",
       "      <th>PassSpcR</th>\n",
       "      <th>outcab</th>\n",
       "      <th>YearBltSQ</th>\n",
       "      <th>YearBltCUBE</th>\n",
       "      <th>TonnageSQRT</th>\n",
       "      <th>passngrsSQRT</th>\n",
       "      <th>LengthSQ</th>\n",
       "      <th>CabinsSQRT</th>\n",
       "      <th>CrewSQRT</th>\n",
       "      <th>PassSpcRSQRT</th>\n",
       "      <th>outcabSQRT</th>\n",
       "    </tr>\n",
       "  </thead>\n",
       "  <tbody>\n",
       "    <tr>\n",
       "      <th>0</th>\n",
       "      <td>Journey</td>\n",
       "      <td>Azamara</td>\n",
       "      <td>2007</td>\n",
       "      <td>30277</td>\n",
       "      <td>694</td>\n",
       "      <td>594</td>\n",
       "      <td>355</td>\n",
       "      <td>355</td>\n",
       "      <td>42.64</td>\n",
       "      <td>329</td>\n",
       "      <td>4028049</td>\n",
       "      <td>8084294343</td>\n",
       "      <td>174.002874</td>\n",
       "      <td>26.34388</td>\n",
       "      <td>352836</td>\n",
       "      <td>18.841444</td>\n",
       "      <td>18.841444</td>\n",
       "      <td>6.529931</td>\n",
       "      <td>18.138357</td>\n",
       "    </tr>\n",
       "    <tr>\n",
       "      <th>1</th>\n",
       "      <td>Quest</td>\n",
       "      <td>Azamara</td>\n",
       "      <td>2007</td>\n",
       "      <td>30277</td>\n",
       "      <td>694</td>\n",
       "      <td>594</td>\n",
       "      <td>355</td>\n",
       "      <td>355</td>\n",
       "      <td>42.64</td>\n",
       "      <td>329</td>\n",
       "      <td>4028049</td>\n",
       "      <td>8084294343</td>\n",
       "      <td>174.002874</td>\n",
       "      <td>26.34388</td>\n",
       "      <td>352836</td>\n",
       "      <td>18.841444</td>\n",
       "      <td>18.841444</td>\n",
       "      <td>6.529931</td>\n",
       "      <td>18.138357</td>\n",
       "    </tr>\n",
       "  </tbody>\n",
       "</table>\n",
       "</div>"
      ],
      "text/plain": [
       "      Ship     Line  YearBlt  Tonnage  passngrs  Length  Cabins  Crew  \\\n",
       "0  Journey  Azamara     2007    30277       694     594     355   355   \n",
       "1    Quest  Azamara     2007    30277       694     594     355   355   \n",
       "\n",
       "   PassSpcR  outcab  YearBltSQ  YearBltCUBE  TonnageSQRT  passngrsSQRT  \\\n",
       "0     42.64     329    4028049   8084294343   174.002874      26.34388   \n",
       "1     42.64     329    4028049   8084294343   174.002874      26.34388   \n",
       "\n",
       "   LengthSQ  CabinsSQRT   CrewSQRT  PassSpcRSQRT  outcabSQRT  \n",
       "0    352836   18.841444  18.841444      6.529931   18.138357  \n",
       "1    352836   18.841444  18.841444      6.529931   18.138357  "
      ]
     },
     "execution_count": 36,
     "metadata": {},
     "output_type": "execute_result"
    }
   ],
   "source": [
    "cruise_ship.head(2)"
   ]
  },
  {
   "cell_type": "code",
   "execution_count": 37,
   "id": "a91fba2c",
   "metadata": {},
   "outputs": [
    {
     "data": {
      "text/plain": [
       "<AxesSubplot:>"
      ]
     },
     "execution_count": 37,
     "metadata": {},
     "output_type": "execute_result"
    },
    {
     "data": {
      "image/png": "[encoded data removed]",
      "text/plain": [
       "<Figure size 432x288 with 1 Axes>"
      ]
     },
     "metadata": {
      "needs_background": "light"
     },
     "output_type": "display_data"
    }
   ],
   "source": [
    "cruise_ship.outcabSQRT.hist()"
   ]
  },
  {
   "cell_type": "markdown",
   "id": "800498a4",
   "metadata": {},
   "source": [
    "### END"
   ]
  }
 ],
 "metadata": {
  "kernelspec": {
   "display_name": "Python 3 (ipykernel)",
   "language": "python",
   "name": "python3"
  },
  "language_info": {
   "codemirror_mode": {
    "name": "ipython",
    "version": 3
   },
   "file_extension": ".py",
   "mimetype": "text/x-python",
   "name": "python",
   "nbconvert_exporter": "python",
   "pygments_lexer": "ipython3",
   "version": "3.9.12"
  }
 },
 "nbformat": 4,
 "nbformat_minor": 5
}
