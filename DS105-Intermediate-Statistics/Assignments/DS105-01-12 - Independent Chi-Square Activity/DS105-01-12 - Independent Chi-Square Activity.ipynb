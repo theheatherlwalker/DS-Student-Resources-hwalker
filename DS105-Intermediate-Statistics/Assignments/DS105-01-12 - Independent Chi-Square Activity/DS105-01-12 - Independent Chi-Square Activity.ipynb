{
 "cells": [
  {
   "cell_type": "markdown",
   "id": "a4884013",
   "metadata": {},
   "source": [
    "<div class=\"alert alert-block alert-warning\">\n",
    "An independent Chi-Square is used when you want to determine whether two categorical variables influence each other.\n",
    "<br>\n",
    "<b>Requires:</b><br>\n",
    "    - 2 independent <i>categorical</i> variables<br>\n",
    "</div>"
   ]
  },
  {
   "cell_type": "markdown",
   "id": "e44190b9",
   "metadata": {},
   "source": [
    "## QUESTION:\n",
    "Are the `shade` of `lipstick` and the `price` of `lipstick` related? \n",
    "\n",
    "> <b>Activity Notes</b>\n",
    "> 1. Create a contingency table\n",
    "> 2. Test for the assumption of 5 per cell in the expected contingency table\n",
    "> 3. Compute an independent Chi-Square"
   ]
  },
  {
   "cell_type": "markdown",
   "id": "3768ed8c",
   "metadata": {},
   "source": [
    "## Import Packages"
   ]
  },
  {
   "cell_type": "code",
   "execution_count": 1,
   "id": "4cbc1410",
   "metadata": {},
   "outputs": [],
   "source": [
    "import pandas as pd\n",
    "from scipy import stats"
   ]
  },
  {
   "cell_type": "markdown",
   "id": "ea61795d",
   "metadata": {},
   "source": [
    "## Load Data"
   ]
  },
  {
   "cell_type": "code",
   "execution_count": 2,
   "id": "c77a33ed",
   "metadata": {},
   "outputs": [],
   "source": [
    "lead_lipstick = pd.read_csv('./assets/lead_lipstick.csv')"
   ]
  },
  {
   "cell_type": "code",
   "execution_count": 3,
   "id": "e6cb2983",
   "metadata": {},
   "outputs": [
    {
     "data": {
      "text/html": [
       "<div>\n",
       "<style scoped>\n",
       "    .dataframe tbody tr th:only-of-type {\n",
       "        vertical-align: middle;\n",
       "    }\n",
       "\n",
       "    .dataframe tbody tr th {\n",
       "        vertical-align: top;\n",
       "    }\n",
       "\n",
       "    .dataframe thead th {\n",
       "        text-align: right;\n",
       "    }\n",
       "</style>\n",
       "<table border=\"1\" class=\"dataframe\">\n",
       "  <thead>\n",
       "    <tr style=\"text-align: right;\">\n",
       "      <th></th>\n",
       "      <th>JRC_code</th>\n",
       "      <th>purchCntry</th>\n",
       "      <th>prodCntry</th>\n",
       "      <th>Pb</th>\n",
       "      <th>sdPb</th>\n",
       "      <th>shade</th>\n",
       "      <th>prodType</th>\n",
       "      <th>priceCatgry</th>\n",
       "    </tr>\n",
       "  </thead>\n",
       "  <tbody>\n",
       "    <tr>\n",
       "      <th>0</th>\n",
       "      <td>C135</td>\n",
       "      <td>NL</td>\n",
       "      <td>NL</td>\n",
       "      <td>3.75</td>\n",
       "      <td>0.24</td>\n",
       "      <td>Red</td>\n",
       "      <td>LP</td>\n",
       "      <td>2</td>\n",
       "    </tr>\n",
       "    <tr>\n",
       "      <th>1</th>\n",
       "      <td>C18</td>\n",
       "      <td>FI</td>\n",
       "      <td>FI</td>\n",
       "      <td>2.29</td>\n",
       "      <td>0.07</td>\n",
       "      <td>Red</td>\n",
       "      <td>LP</td>\n",
       "      <td>2</td>\n",
       "    </tr>\n",
       "    <tr>\n",
       "      <th>2</th>\n",
       "      <td>C20</td>\n",
       "      <td>FI</td>\n",
       "      <td>IT</td>\n",
       "      <td>1.27</td>\n",
       "      <td>0.06</td>\n",
       "      <td>Red</td>\n",
       "      <td>LP</td>\n",
       "      <td>2</td>\n",
       "    </tr>\n",
       "    <tr>\n",
       "      <th>3</th>\n",
       "      <td>C164</td>\n",
       "      <td>DE</td>\n",
       "      <td>FR</td>\n",
       "      <td>1.21</td>\n",
       "      <td>0.06</td>\n",
       "      <td>Red</td>\n",
       "      <td>LP</td>\n",
       "      <td>2</td>\n",
       "    </tr>\n",
       "    <tr>\n",
       "      <th>4</th>\n",
       "      <td>C71</td>\n",
       "      <td>MT</td>\n",
       "      <td>UK</td>\n",
       "      <td>0.85</td>\n",
       "      <td>0.04</td>\n",
       "      <td>Red</td>\n",
       "      <td>LP</td>\n",
       "      <td>2</td>\n",
       "    </tr>\n",
       "  </tbody>\n",
       "</table>\n",
       "</div>"
      ],
      "text/plain": [
       "  JRC_code purchCntry prodCntry    Pb  sdPb shade prodType  priceCatgry\n",
       "0     C135         NL        NL  3.75  0.24   Red       LP            2\n",
       "1      C18         FI        FI  2.29  0.07   Red       LP            2\n",
       "2      C20         FI        IT  1.27  0.06   Red       LP            2\n",
       "3     C164         DE        FR  1.21  0.06   Red       LP            2\n",
       "4      C71         MT        UK  0.85  0.04   Red       LP            2"
      ]
     },
     "execution_count": 3,
     "metadata": {},
     "output_type": "execute_result"
    }
   ],
   "source": [
    "lead_lipstick.head()"
   ]
  },
  {
   "cell_type": "markdown",
   "id": "f12a0e3e",
   "metadata": {},
   "source": [
    "## Find Categorical Variable Levels"
   ]
  },
  {
   "cell_type": "code",
   "execution_count": 4,
   "id": "fd332293",
   "metadata": {},
   "outputs": [
    {
     "data": {
      "text/plain": [
       "array(['Red', 'Purple', 'Pink', 'Brown'], dtype=object)"
      ]
     },
     "execution_count": 4,
     "metadata": {},
     "output_type": "execute_result"
    }
   ],
   "source": [
    "lead_lipstick.shade.unique()"
   ]
  },
  {
   "cell_type": "code",
   "execution_count": 8,
   "id": "1e3d5f7f",
   "metadata": {},
   "outputs": [
    {
     "data": {
      "text/plain": [
       "array([2, 3, 1])"
      ]
     },
     "execution_count": 8,
     "metadata": {},
     "output_type": "execute_result"
    }
   ],
   "source": [
    "lead_lipstick.priceCatgry.unique()"
   ]
  },
  {
   "cell_type": "markdown",
   "id": "8aec3599",
   "metadata": {},
   "source": [
    "<b>Product Shades (`shade`)</b> has 4 levels<br>\n",
    "   - 'Red'\n",
    "   - 'Purple'\n",
    "   - 'Pink'\n",
    "   - 'Brown'\n",
    "\n",
    "<b>Price category (`priceCatgry`)</b>  has 3 levels:\n",
    "   - <b>1</b> : < 5 euros\n",
    "   - <b>2</b> : 5 - 15 euros\n",
    "   - <b>3</b> : > 15 euros"
   ]
  },
  {
   "cell_type": "markdown",
   "id": "85eb65db",
   "metadata": {},
   "source": [
    "<div class=\"alert alert-block alert-danger\">\n",
    "<b>Phrasing?<br></b> The activity instructions specified <b>lipstick</b>.<br>However, the term <i>lipstick</i> is seems to be used here as an inclusive term to include both <i>lipstick</i> and <i>lipgloss</i>.\n",
    "</div>"
   ]
  },
  {
   "cell_type": "markdown",
   "id": "fada05f9",
   "metadata": {},
   "source": [
    "## Test Assumptions\n",
    "> 1. Create a contingency table\n",
    "> 2. Test for the assumption of 5 per cell in the expected contingency table\n",
    "> 3. Compute an independent Chi-Square"
   ]
  },
  {
   "cell_type": "markdown",
   "id": "2b25c3ae",
   "metadata": {},
   "source": [
    "### Create a Contingency Table (aka `crosstab`)"
   ]
  },
  {
   "cell_type": "markdown",
   "id": "5a751086",
   "metadata": {},
   "source": [
    "Create a contingency table, sometimes called a crosstab, which shows how each level of each variable crosses with the other variable levels.<br>Use `pandas` function `crosstab()`:"
   ]
  },
  {
   "cell_type": "code",
   "execution_count": 9,
   "id": "20a32b50",
   "metadata": {},
   "outputs": [],
   "source": [
    "lipstick_crosstab = pd.crosstab(lead_lipstick['shade'], lead_lipstick['priceCatgry'])"
   ]
  },
  {
   "cell_type": "code",
   "execution_count": 10,
   "id": "e8e54ecd",
   "metadata": {},
   "outputs": [
    {
     "data": {
      "text/html": [
       "<div>\n",
       "<style scoped>\n",
       "    .dataframe tbody tr th:only-of-type {\n",
       "        vertical-align: middle;\n",
       "    }\n",
       "\n",
       "    .dataframe tbody tr th {\n",
       "        vertical-align: top;\n",
       "    }\n",
       "\n",
       "    .dataframe thead th {\n",
       "        text-align: right;\n",
       "    }\n",
       "</style>\n",
       "<table border=\"1\" class=\"dataframe\">\n",
       "  <thead>\n",
       "    <tr style=\"text-align: right;\">\n",
       "      <th>priceCatgry</th>\n",
       "      <th>1</th>\n",
       "      <th>2</th>\n",
       "      <th>3</th>\n",
       "    </tr>\n",
       "    <tr>\n",
       "      <th>shade</th>\n",
       "      <th></th>\n",
       "      <th></th>\n",
       "      <th></th>\n",
       "    </tr>\n",
       "  </thead>\n",
       "  <tbody>\n",
       "    <tr>\n",
       "      <th>Brown</th>\n",
       "      <td>20</td>\n",
       "      <td>30</td>\n",
       "      <td>10</td>\n",
       "    </tr>\n",
       "    <tr>\n",
       "      <th>Pink</th>\n",
       "      <td>20</td>\n",
       "      <td>49</td>\n",
       "      <td>12</td>\n",
       "    </tr>\n",
       "    <tr>\n",
       "      <th>Purple</th>\n",
       "      <td>8</td>\n",
       "      <td>23</td>\n",
       "      <td>6</td>\n",
       "    </tr>\n",
       "    <tr>\n",
       "      <th>Red</th>\n",
       "      <td>5</td>\n",
       "      <td>33</td>\n",
       "      <td>7</td>\n",
       "    </tr>\n",
       "  </tbody>\n",
       "</table>\n",
       "</div>"
      ],
      "text/plain": [
       "priceCatgry   1   2   3\n",
       "shade                  \n",
       "Brown        20  30  10\n",
       "Pink         20  49  12\n",
       "Purple        8  23   6\n",
       "Red           5  33   7"
      ]
     },
     "execution_count": 10,
     "metadata": {},
     "output_type": "execute_result"
    }
   ],
   "source": [
    "lipstick_crosstab"
   ]
  },
  {
   "cell_type": "markdown",
   "id": "4738f296",
   "metadata": {},
   "source": [
    "The three price categories are on the top, and the two different product types are along the side.<br>What is shown in the cells are how many products fit in both categories."
   ]
  },
  {
   "cell_type": "markdown",
   "id": "46d2b627",
   "metadata": {},
   "source": [
    "### Running the Independent Chi-Square"
   ]
  },
  {
   "cell_type": "markdown",
   "id": "a8a8f308",
   "metadata": {},
   "source": [
    "Once you have the contingency table, then you can run the function `stats.chi2_contingency` on the contingency table you have created:"
   ]
  },
  {
   "cell_type": "code",
   "execution_count": 11,
   "id": "25a73be9",
   "metadata": {},
   "outputs": [
    {
     "data": {
      "text/plain": [
       "(7.860569553614045,\n",
       " 0.2484973879479863,\n",
       " 6,\n",
       " array([[14.26008969, 36.32286996,  9.41704036],\n",
       "        [19.25112108, 49.03587444, 12.71300448],\n",
       "        [ 8.79372197, 22.39910314,  5.80717489],\n",
       "        [10.69506726, 27.24215247,  7.06278027]]))"
      ]
     },
     "execution_count": 11,
     "metadata": {},
     "output_type": "execute_result"
    }
   ],
   "source": [
    "stats.chi2_contingency(lipstick_crosstab)"
   ]
  },
  {
   "cell_type": "markdown",
   "id": "8823cb94",
   "metadata": {},
   "source": [
    "- <b>First value</b> is the Chi-Square statistic.\n",
    "- <b>Second value</b> is the `p` value is the one associated with the Chi-Square statistic.\n",
    "- `p` value is *not* significant at <b>`p > .05.`<b>"
   ]
  },
  {
   "cell_type": "markdown",
   "id": "d6b30ced",
   "metadata": {},
   "source": [
    "<mark>There is <i>not</i> a significant relationship between product shade and product price.</mark>"
   ]
  },
  {
   "cell_type": "markdown",
   "id": "8d6c8250",
   "metadata": {},
   "source": [
    "### Test the Assumption of 5 Cases per Expected Cell"
   ]
  },
  {
   "cell_type": "markdown",
   "id": "9de48729",
   "metadata": {},
   "source": [
    "- <b>`array`</b> is the expected count contingency table if there was <i>no relationship</i> between the two variables.\n",
    "\n",
    "#### <mark>Assumption <i>has been met</i> with expected counts per cell > 5.</mark>"
   ]
  }
 ],
 "metadata": {
  "kernelspec": {
   "display_name": "Python 3 (ipykernel)",
   "language": "python",
   "name": "python3"
  },
  "language_info": {
   "codemirror_mode": {
    "name": "ipython",
    "version": 3
   },
   "file_extension": ".py",
   "mimetype": "text/x-python",
   "name": "python",
   "nbconvert_exporter": "python",
   "pygments_lexer": "ipython3",
   "version": "3.9.12"
  }
 },
 "nbformat": 4,
 "nbformat_minor": 5
}
