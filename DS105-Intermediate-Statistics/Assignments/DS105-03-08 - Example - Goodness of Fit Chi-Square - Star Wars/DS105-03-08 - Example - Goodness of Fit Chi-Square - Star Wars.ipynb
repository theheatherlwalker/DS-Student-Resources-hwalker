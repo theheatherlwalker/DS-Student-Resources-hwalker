{
 "cells": [
  {
   "cell_type": "markdown",
   "id": "a467ed74",
   "metadata": {},
   "source": [
    "# Goodness of Fit Chi-Squares in Python\n",
    "Running a goodness of fit Chi-Square in Python is very similar to running a goodness of fit Chi-Square in R."
   ]
  },
  {
   "cell_type": "markdown",
   "id": "3768ed8c",
   "metadata": {},
   "source": [
    "## Import Packages"
   ]
  },
  {
   "cell_type": "code",
   "execution_count": 13,
   "id": "4cbc1410",
   "metadata": {},
   "outputs": [],
   "source": [
    "import pandas as pd\n",
    "import numpy as np\n",
    "import scipy, scipy.stats"
   ]
  },
  {
   "cell_type": "markdown",
   "id": "ea61795d",
   "metadata": {},
   "source": [
    "## Load Data"
   ]
  },
  {
   "cell_type": "code",
   "execution_count": 3,
   "id": "c77a33ed",
   "metadata": {},
   "outputs": [],
   "source": [
    "SW = pd.read_csv('./assets/SW_survey_renamed.csv')"
   ]
  },
  {
   "cell_type": "code",
   "execution_count": 6,
   "id": "0e1bf6b6",
   "metadata": {},
   "outputs": [
    {
     "data": {
      "text/html": [
       "<div>\n",
       "<style scoped>\n",
       "    .dataframe tbody tr th:only-of-type {\n",
       "        vertical-align: middle;\n",
       "    }\n",
       "\n",
       "    .dataframe tbody tr th {\n",
       "        vertical-align: top;\n",
       "    }\n",
       "\n",
       "    .dataframe thead th {\n",
       "        text-align: right;\n",
       "    }\n",
       "</style>\n",
       "<table border=\"1\" class=\"dataframe\">\n",
       "  <thead>\n",
       "    <tr style=\"text-align: right;\">\n",
       "      <th></th>\n",
       "      <th>RespondentID</th>\n",
       "      <th>SeenYN</th>\n",
       "      <th>FanYN</th>\n",
       "      <th>SeenIYN</th>\n",
       "      <th>SeenIIYN</th>\n",
       "      <th>SeenIIIYN</th>\n",
       "      <th>SeenIVYN</th>\n",
       "      <th>SeenVYN</th>\n",
       "      <th>SeenVIYN</th>\n",
       "      <th>RankI</th>\n",
       "      <th>...</th>\n",
       "      <th>Favorable_Yoda</th>\n",
       "      <th>ShotFirst</th>\n",
       "      <th>ExpandedUniverseYN</th>\n",
       "      <th>FanExpandedUniverseYN</th>\n",
       "      <th>StarTrekFanYN</th>\n",
       "      <th>Gender</th>\n",
       "      <th>Age</th>\n",
       "      <th>Household Income</th>\n",
       "      <th>Education</th>\n",
       "      <th>Location</th>\n",
       "    </tr>\n",
       "  </thead>\n",
       "  <tbody>\n",
       "    <tr>\n",
       "      <th>0</th>\n",
       "      <td>3292879998</td>\n",
       "      <td>Yes</td>\n",
       "      <td>Yes</td>\n",
       "      <td>Star Wars: Episode I  The Phantom Menace</td>\n",
       "      <td>Star Wars: Episode II  Attack of the Clones</td>\n",
       "      <td>Star Wars: Episode III  Revenge of the Sith</td>\n",
       "      <td>Star Wars: Episode IV  A New Hope</td>\n",
       "      <td>Star Wars: Episode V The Empire Strikes Back</td>\n",
       "      <td>Star Wars: Episode VI Return of the Jedi</td>\n",
       "      <td>3.0</td>\n",
       "      <td>...</td>\n",
       "      <td>Very favorably</td>\n",
       "      <td>I don't understand this question</td>\n",
       "      <td>Yes</td>\n",
       "      <td>No</td>\n",
       "      <td>No</td>\n",
       "      <td>Male</td>\n",
       "      <td>18-29</td>\n",
       "      <td>NaN</td>\n",
       "      <td>High school degree</td>\n",
       "      <td>South Atlantic</td>\n",
       "    </tr>\n",
       "    <tr>\n",
       "      <th>1</th>\n",
       "      <td>3292879538</td>\n",
       "      <td>No</td>\n",
       "      <td>NaN</td>\n",
       "      <td>NaN</td>\n",
       "      <td>NaN</td>\n",
       "      <td>NaN</td>\n",
       "      <td>NaN</td>\n",
       "      <td>NaN</td>\n",
       "      <td>NaN</td>\n",
       "      <td>NaN</td>\n",
       "      <td>...</td>\n",
       "      <td>NaN</td>\n",
       "      <td>NaN</td>\n",
       "      <td>NaN</td>\n",
       "      <td>NaN</td>\n",
       "      <td>Yes</td>\n",
       "      <td>Male</td>\n",
       "      <td>18-29</td>\n",
       "      <td>$0 - $24,999</td>\n",
       "      <td>Bachelor degree</td>\n",
       "      <td>West South Central</td>\n",
       "    </tr>\n",
       "  </tbody>\n",
       "</table>\n",
       "<p>2 rows × 38 columns</p>\n",
       "</div>"
      ],
      "text/plain": [
       "   RespondentID SeenYN FanYN                                   SeenIYN  \\\n",
       "0    3292879998    Yes   Yes  Star Wars: Episode I  The Phantom Menace   \n",
       "1    3292879538     No   NaN                                       NaN   \n",
       "\n",
       "                                      SeenIIYN  \\\n",
       "0  Star Wars: Episode II  Attack of the Clones   \n",
       "1                                          NaN   \n",
       "\n",
       "                                     SeenIIIYN  \\\n",
       "0  Star Wars: Episode III  Revenge of the Sith   \n",
       "1                                          NaN   \n",
       "\n",
       "                            SeenIVYN  \\\n",
       "0  Star Wars: Episode IV  A New Hope   \n",
       "1                                NaN   \n",
       "\n",
       "                                        SeenVYN  \\\n",
       "0  Star Wars: Episode V The Empire Strikes Back   \n",
       "1                                           NaN   \n",
       "\n",
       "                                   SeenVIYN  RankI  ...  Favorable_Yoda  \\\n",
       "0  Star Wars: Episode VI Return of the Jedi    3.0  ...  Very favorably   \n",
       "1                                       NaN    NaN  ...             NaN   \n",
       "\n",
       "                          ShotFirst  ExpandedUniverseYN  \\\n",
       "0  I don't understand this question                 Yes   \n",
       "1                               NaN                 NaN   \n",
       "\n",
       "   FanExpandedUniverseYN  StarTrekFanYN Gender    Age Household Income  \\\n",
       "0                     No             No   Male  18-29              NaN   \n",
       "1                    NaN            Yes   Male  18-29     $0 - $24,999   \n",
       "\n",
       "            Education            Location  \n",
       "0  High school degree      South Atlantic  \n",
       "1     Bachelor degree  West South Central  \n",
       "\n",
       "[2 rows x 38 columns]"
      ]
     },
     "execution_count": 6,
     "metadata": {},
     "output_type": "execute_result"
    }
   ],
   "source": [
    "SW.head(2)"
   ]
  },
  {
   "cell_type": "markdown",
   "id": "1fc297a2",
   "metadata": {},
   "source": [
    "## Question Set Up\n",
    "You will be testing the same premise as when you did a goodness of fit Chi-Square in R: You found something online that mentioned that 90% of people are Star Wars fans, and you want to see if that holds true in your own survey. In this way, you are comparing your sample (the survey) to the population at large (what you read online)."
   ]
  },
  {
   "cell_type": "markdown",
   "id": "3994c258",
   "metadata": {},
   "source": [
    "## Data Wrangling\n",
    "You will need to get the number of people who were and were not fans of Star Wars. Luckily, this is relatively easy to do with the `pandas` function `value_counts()`:"
   ]
  },
  {
   "cell_type": "code",
   "execution_count": 11,
   "id": "d3b83354",
   "metadata": {},
   "outputs": [
    {
     "data": {
      "text/plain": [
       "Yes    552\n",
       "No     284\n",
       "Name: FanYN, dtype: int64"
      ]
     },
     "execution_count": 11,
     "metadata": {},
     "output_type": "execute_result"
    }
   ],
   "source": [
    "SW.FanYN.value_counts()"
   ]
  },
  {
   "cell_type": "markdown",
   "id": "1aa69d13",
   "metadata": {},
   "source": [
    "## Run the Analysis\n",
    "Now you are ready to run your analysis! You will first create a variable that houses the observed values:"
   ]
  },
  {
   "cell_type": "code",
   "execution_count": 14,
   "id": "c756f7e9",
   "metadata": {},
   "outputs": [],
   "source": [
    "observed_values = np.array([552, 284])"
   ]
  },
  {
   "cell_type": "markdown",
   "id": "eae3b740",
   "metadata": {},
   "source": [
    "Then you will create a variable that houses the expected values.\n",
    "\n",
    "Unlike R, Python requires you to have raw numbers, not percentages here, so you will ned to calculate the values yourself.\n",
    "\n",
    "First, add up your expected values to get the total: `552 + 284 = 836`.\n",
    "\n",
    "Then, multiply that number by `.9` to get what percentage would be `90%`. \n",
    "\n",
    "The number is `752` - this becomes your first expected value.\n",
    "\n",
    "Then subtract hat number, `752`, from the total, and you will get your other value: `836-752 = 84`."
   ]
  },
  {
   "cell_type": "code",
   "execution_count": 15,
   "id": "283a3370",
   "metadata": {},
   "outputs": [],
   "source": [
    "expected_values = np.array([752, 84])"
   ]
  },
  {
   "cell_type": "markdown",
   "id": "a4c37e42",
   "metadata": {},
   "source": [
    "Once you have those two variables, it is simply a matter of plugging them into your chisquare() function that comes in scipy.stats:"
   ]
  },
  {
   "cell_type": "code",
   "execution_count": 16,
   "id": "1b7b6263",
   "metadata": {},
   "outputs": [
    {
     "data": {
      "text/plain": [
       "Power_divergenceResult(statistic=529.3819655521784, pvalue=3.849512370977756e-117)"
      ]
     },
     "execution_count": 16,
     "metadata": {},
     "output_type": "execute_result"
    }
   ],
   "source": [
    "scipy.stats.chisquare(observed_values, f_exp=expected_values)"
   ]
  },
  {
   "cell_type": "markdown",
   "id": "a912b398",
   "metadata": {},
   "source": [
    "The one labeled `statistic` is your Chi-Square value, and the one labeled `pvalue` is your p value!\n",
    "\n",
    "It will most likely be written in scientific notation. It is in this case, and so this means that this value is extremely significant - you are moving the decimal over to the left `117` times, which means that there are `116 zeros` in front of that 3! And remember that a significant goodness of fit Chi-Square means that your sample significantly differs from the population in some way."
   ]
  }
 ],
 "metadata": {
  "kernelspec": {
   "display_name": "Python 3 (ipykernel)",
   "language": "python",
   "name": "python3"
  },
  "language_info": {
   "codemirror_mode": {
    "name": "ipython",
    "version": 3
   },
   "file_extension": ".py",
   "mimetype": "text/x-python",
   "name": "python",
   "nbconvert_exporter": "python",
   "pygments_lexer": "ipython3",
   "version": "3.9.12"
  }
 },
 "nbformat": 4,
 "nbformat_minor": 5
}
