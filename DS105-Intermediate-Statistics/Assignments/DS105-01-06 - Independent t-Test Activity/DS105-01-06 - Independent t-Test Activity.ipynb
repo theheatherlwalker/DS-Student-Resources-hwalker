{
 "cells": [
  {
   "cell_type": "markdown",
   "id": "a4884013",
   "metadata": {},
   "source": [
    "<div class=\"alert alert-block alert-warning\">\n",
    "An independent t test is used when you have one independent variable that is categorical and a grouping variable, and one dependent continuous variable.<br><br>\n",
    "<b>Use an independent t-test when you want to determine whether the means of two different, unrelated groups are the same or different.</b>\n",
    "</div>"
   ]
  },
  {
   "cell_type": "markdown",
   "id": "e44190b9",
   "metadata": {},
   "source": [
    "## QUESTION:\n",
    "Do the means miles per gallon (MPG) rating for `compact cars` vs. `large cars` differ? "
   ]
  },
  {
   "cell_type": "markdown",
   "id": "3768ed8c",
   "metadata": {},
   "source": [
    "## Import Packages"
   ]
  },
  {
   "cell_type": "code",
   "execution_count": 1,
   "id": "4cbc1410",
   "metadata": {},
   "outputs": [],
   "source": [
    "import pandas as pd\n",
    "import numpy as np\n",
    "from scipy import stats\n",
    "from scipy.stats import ttest_ind"
   ]
  },
  {
   "cell_type": "markdown",
   "id": "ea61795d",
   "metadata": {},
   "source": [
    "## Load Data"
   ]
  },
  {
   "cell_type": "code",
   "execution_count": 2,
   "id": "c77a33ed",
   "metadata": {},
   "outputs": [],
   "source": [
    "hybrid2013 = pd.read_excel('./assets/hybrid2013.xlsx')"
   ]
  },
  {
   "cell_type": "code",
   "execution_count": 3,
   "id": "e6cb2983",
   "metadata": {},
   "outputs": [
    {
     "data": {
      "text/html": [
       "<div>\n",
       "<style scoped>\n",
       "    .dataframe tbody tr th:only-of-type {\n",
       "        vertical-align: middle;\n",
       "    }\n",
       "\n",
       "    .dataframe tbody tr th {\n",
       "        vertical-align: top;\n",
       "    }\n",
       "\n",
       "    .dataframe thead th {\n",
       "        text-align: right;\n",
       "    }\n",
       "</style>\n",
       "<table border=\"1\" class=\"dataframe\">\n",
       "  <thead>\n",
       "    <tr style=\"text-align: right;\">\n",
       "      <th></th>\n",
       "      <th>carid</th>\n",
       "      <th>vehicle</th>\n",
       "      <th>year</th>\n",
       "      <th>msrp</th>\n",
       "      <th>accelrate</th>\n",
       "      <th>mpg</th>\n",
       "      <th>mpgmpge</th>\n",
       "      <th>carclass</th>\n",
       "      <th>carclass_id</th>\n",
       "    </tr>\n",
       "  </thead>\n",
       "  <tbody>\n",
       "    <tr>\n",
       "      <th>0</th>\n",
       "      <td>111</td>\n",
       "      <td>Prius C</td>\n",
       "      <td>2013</td>\n",
       "      <td>19080</td>\n",
       "      <td>8.70</td>\n",
       "      <td>50</td>\n",
       "      <td>50</td>\n",
       "      <td>C</td>\n",
       "      <td>1</td>\n",
       "    </tr>\n",
       "    <tr>\n",
       "      <th>1</th>\n",
       "      <td>112</td>\n",
       "      <td>Jetta</td>\n",
       "      <td>2013</td>\n",
       "      <td>24995</td>\n",
       "      <td>12.66</td>\n",
       "      <td>45</td>\n",
       "      <td>45</td>\n",
       "      <td>C</td>\n",
       "      <td>1</td>\n",
       "    </tr>\n",
       "    <tr>\n",
       "      <th>2</th>\n",
       "      <td>113</td>\n",
       "      <td>Civic</td>\n",
       "      <td>2013</td>\n",
       "      <td>24360</td>\n",
       "      <td>10.20</td>\n",
       "      <td>44</td>\n",
       "      <td>44</td>\n",
       "      <td>C</td>\n",
       "      <td>1</td>\n",
       "    </tr>\n",
       "    <tr>\n",
       "      <th>3</th>\n",
       "      <td>114</td>\n",
       "      <td>Prius</td>\n",
       "      <td>2013</td>\n",
       "      <td>24200</td>\n",
       "      <td>10.20</td>\n",
       "      <td>50</td>\n",
       "      <td>50</td>\n",
       "      <td>M</td>\n",
       "      <td>3</td>\n",
       "    </tr>\n",
       "    <tr>\n",
       "      <th>4</th>\n",
       "      <td>115</td>\n",
       "      <td>Fusion FWD</td>\n",
       "      <td>2013</td>\n",
       "      <td>27200</td>\n",
       "      <td>11.72</td>\n",
       "      <td>47</td>\n",
       "      <td>47</td>\n",
       "      <td>M</td>\n",
       "      <td>3</td>\n",
       "    </tr>\n",
       "  </tbody>\n",
       "</table>\n",
       "</div>"
      ],
      "text/plain": [
       "   carid     vehicle  year   msrp  accelrate  mpg  mpgmpge carclass  \\\n",
       "0    111     Prius C  2013  19080       8.70   50       50        C   \n",
       "1    112       Jetta  2013  24995      12.66   45       45        C   \n",
       "2    113       Civic  2013  24360      10.20   44       44        C   \n",
       "3    114       Prius  2013  24200      10.20   50       50        M   \n",
       "4    115  Fusion FWD  2013  27200      11.72   47       47        M   \n",
       "\n",
       "   carclass_id  \n",
       "0            1  \n",
       "1            1  \n",
       "2            1  \n",
       "3            3  \n",
       "4            3  "
      ]
     },
     "execution_count": 3,
     "metadata": {},
     "output_type": "execute_result"
    }
   ],
   "source": [
    "hybrid2013.head()"
   ]
  },
  {
   "cell_type": "code",
   "execution_count": 8,
   "id": "77e58dc4",
   "metadata": {},
   "outputs": [
    {
     "data": {
      "text/plain": [
       "array(['C', 'M', 'L', 'SUV', 'PT'], dtype=object)"
      ]
     },
     "execution_count": 8,
     "metadata": {},
     "output_type": "execute_result"
    }
   ],
   "source": [
    "# What are the car class options? We're looking for *compact* and *large*\n",
    "hybrid2013.carclass.unique()"
   ]
  },
  {
   "cell_type": "markdown",
   "id": "fada05f9",
   "metadata": {},
   "source": [
    "## Test Assumptions\n",
    "Test for the assumption of normality for *both* groups."
   ]
  },
  {
   "cell_type": "markdown",
   "id": "2b25c3ae",
   "metadata": {},
   "source": [
    "<b>`C` for compact cars</b>"
   ]
  },
  {
   "cell_type": "code",
   "execution_count": 9,
   "id": "bd337ffc",
   "metadata": {},
   "outputs": [
    {
     "data": {
      "text/plain": [
       "<AxesSubplot:>"
      ]
     },
     "execution_count": 9,
     "metadata": {},
     "output_type": "execute_result"
    },
    {
     "data": {
      "image/png": "[encoded data removed]",
      "text/plain": [
       "<Figure size 432x288 with 1 Axes>"
      ]
     },
     "metadata": {
      "needs_background": "light"
     },
     "output_type": "display_data"
    }
   ],
   "source": [
    "hybrid2013.mpg[hybrid2013.carclass == 'C'].hist()"
   ]
  },
  {
   "cell_type": "markdown",
   "id": "73f41fc6",
   "metadata": {},
   "source": [
    "<b>`L` for mid-size hybrid cars</b>"
   ]
  },
  {
   "cell_type": "code",
   "execution_count": 10,
   "id": "20a32b50",
   "metadata": {},
   "outputs": [
    {
     "data": {
      "text/plain": [
       "<AxesSubplot:>"
      ]
     },
     "execution_count": 10,
     "metadata": {},
     "output_type": "execute_result"
    },
    {
     "data": {
      "image/png": "[encoded data removed]",
      "text/plain": [
       "<Figure size 432x288 with 1 Axes>"
      ]
     },
     "metadata": {
      "needs_background": "light"
     },
     "output_type": "display_data"
    }
   ],
   "source": [
    "hybrid2013.mpg[hybrid2013.carclass == 'L'].hist()"
   ]
  },
  {
   "cell_type": "markdown",
   "id": "dd74d581",
   "metadata": {},
   "source": [
    "## Run the Analysis"
   ]
  },
  {
   "cell_type": "markdown",
   "id": "a0300235",
   "metadata": {},
   "source": [
    "Use the function `ttest_ind()` to run an independent t test in Python."
   ]
  },
  {
   "cell_type": "code",
   "execution_count": 11,
   "id": "ae60741c",
   "metadata": {},
   "outputs": [
    {
     "data": {
      "text/plain": [
       "Ttest_indResult(statistic=2.598820461640718, pvalue=0.026545168887970098)"
      ]
     },
     "execution_count": 11,
     "metadata": {},
     "output_type": "execute_result"
    }
   ],
   "source": [
    "ttest_ind(hybrid2013.mpg[hybrid2013.carclass == 'C'], hybrid2013.mpg[hybrid2013.carclass == 'L'])"
   ]
  },
  {
   "cell_type": "markdown",
   "id": "2e2d7af6",
   "metadata": {},
   "source": [
    "- `p` value is the one associated with `t-test`\n",
    "- `p` value is *is significant* at <b>`p < .05`</b>\n",
    "\n",
    "## CONCLUSION:\n",
    "There is a <i>significant difference</i> between `compact cars` and `large cars` in terms of miles per gallon."
   ]
  }
 ],
 "metadata": {
  "kernelspec": {
   "display_name": "Python 3 (ipykernel)",
   "language": "python",
   "name": "python3"
  },
  "language_info": {
   "codemirror_mode": {
    "name": "ipython",
    "version": 3
   },
   "file_extension": ".py",
   "mimetype": "text/x-python",
   "name": "python",
   "nbconvert_exporter": "python",
   "pygments_lexer": "ipython3",
   "version": "3.9.12"
  }
 },
 "nbformat": 4,
 "nbformat_minor": 5
}
