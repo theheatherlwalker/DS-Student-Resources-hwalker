{
 "cells": [
  {
   "cell_type": "markdown",
   "id": "51a59621",
   "metadata": {},
   "source": [
    "# DS105-02-07 - Transformations in Python"
   ]
  },
  {
   "cell_type": "markdown",
   "id": "3768ed8c",
   "metadata": {},
   "source": [
    "## Import Packages"
   ]
  },
  {
   "cell_type": "code",
   "execution_count": 45,
   "id": "4cbc1410",
   "metadata": {},
   "outputs": [],
   "source": [
    "import pandas as pd\n",
    "import numpy as np\n",
    "import seaborn as sns\n",
    "from scipy import stats\n",
    "from scipy.stats import boxcox"
   ]
  },
  {
   "cell_type": "markdown",
   "id": "ea61795d",
   "metadata": {},
   "source": [
    "## Load Data"
   ]
  },
  {
   "cell_type": "code",
   "execution_count": 15,
   "id": "c77a33ed",
   "metadata": {},
   "outputs": [],
   "source": [
    "anime = pd.read_csv('./assets/anime.csv')"
   ]
  },
  {
   "cell_type": "code",
   "execution_count": 16,
   "id": "e6cb2983",
   "metadata": {
    "scrolled": false
   },
   "outputs": [
    {
     "data": {
      "text/html": [
       "<div>\n",
       "<style scoped>\n",
       "    .dataframe tbody tr th:only-of-type {\n",
       "        vertical-align: middle;\n",
       "    }\n",
       "\n",
       "    .dataframe tbody tr th {\n",
       "        vertical-align: top;\n",
       "    }\n",
       "\n",
       "    .dataframe thead th {\n",
       "        text-align: right;\n",
       "    }\n",
       "</style>\n",
       "<table border=\"1\" class=\"dataframe\">\n",
       "  <thead>\n",
       "    <tr style=\"text-align: right;\">\n",
       "      <th></th>\n",
       "      <th>anime_id</th>\n",
       "      <th>title</th>\n",
       "      <th>title_english</th>\n",
       "      <th>title_japanese</th>\n",
       "      <th>title_synonyms</th>\n",
       "      <th>image_url</th>\n",
       "      <th>type</th>\n",
       "      <th>source</th>\n",
       "      <th>episodes</th>\n",
       "      <th>status</th>\n",
       "      <th>...</th>\n",
       "      <th>broadcast</th>\n",
       "      <th>related</th>\n",
       "      <th>producer</th>\n",
       "      <th>licensor</th>\n",
       "      <th>studio</th>\n",
       "      <th>genre</th>\n",
       "      <th>opening_theme</th>\n",
       "      <th>ending_theme</th>\n",
       "      <th>duration_min</th>\n",
       "      <th>aired_from_year</th>\n",
       "    </tr>\n",
       "  </thead>\n",
       "  <tbody>\n",
       "    <tr>\n",
       "      <th>0</th>\n",
       "      <td>11013</td>\n",
       "      <td>Inu x Boku SS</td>\n",
       "      <td>Inu X Boku Secret Service</td>\n",
       "      <td>妖狐×僕SS</td>\n",
       "      <td>Youko x Boku SS</td>\n",
       "      <td>https://myanimelist.cdn-dena.com/images/anime/...</td>\n",
       "      <td>TV</td>\n",
       "      <td>Manga</td>\n",
       "      <td>12</td>\n",
       "      <td>Finished Airing</td>\n",
       "      <td>...</td>\n",
       "      <td>Fridays at Unknown</td>\n",
       "      <td>{'Adaptation': [{'mal_id': 17207, 'type': 'man...</td>\n",
       "      <td>Aniplex, Square Enix, Mainichi Broadcasting Sy...</td>\n",
       "      <td>Sentai Filmworks</td>\n",
       "      <td>David Production</td>\n",
       "      <td>Comedy, Supernatural, Romance, Shounen</td>\n",
       "      <td>['\"Nirvana\" by MUCC']</td>\n",
       "      <td>['#1: \"Nirvana\" by MUCC (eps 1, 11-12)', '#2: ...</td>\n",
       "      <td>24.0</td>\n",
       "      <td>2012</td>\n",
       "    </tr>\n",
       "    <tr>\n",
       "      <th>1</th>\n",
       "      <td>2104</td>\n",
       "      <td>Seto no Hanayome</td>\n",
       "      <td>My Bride is a Mermaid</td>\n",
       "      <td>瀬戸の花嫁</td>\n",
       "      <td>The Inland Sea Bride</td>\n",
       "      <td>https://myanimelist.cdn-dena.com/images/anime/...</td>\n",
       "      <td>TV</td>\n",
       "      <td>Manga</td>\n",
       "      <td>26</td>\n",
       "      <td>Finished Airing</td>\n",
       "      <td>...</td>\n",
       "      <td>Unknown</td>\n",
       "      <td>{'Adaptation': [{'mal_id': 759, 'type': 'manga...</td>\n",
       "      <td>TV Tokyo, AIC, Square Enix, Sotsu</td>\n",
       "      <td>Funimation</td>\n",
       "      <td>Gonzo</td>\n",
       "      <td>Comedy, Parody, Romance, School, Shounen</td>\n",
       "      <td>['\"Romantic summer\" by SUN&amp;LUNAR']</td>\n",
       "      <td>['#1: \"Ashita e no Hikari (明日への光)\" by Asuka Hi...</td>\n",
       "      <td>24.0</td>\n",
       "      <td>2007</td>\n",
       "    </tr>\n",
       "    <tr>\n",
       "      <th>2</th>\n",
       "      <td>5262</td>\n",
       "      <td>Shugo Chara!! Doki</td>\n",
       "      <td>Shugo Chara!! Doki</td>\n",
       "      <td>しゅごキャラ！！どきっ</td>\n",
       "      <td>Shugo Chara Ninenme, Shugo Chara! Second Year</td>\n",
       "      <td>https://myanimelist.cdn-dena.com/images/anime/...</td>\n",
       "      <td>TV</td>\n",
       "      <td>Manga</td>\n",
       "      <td>51</td>\n",
       "      <td>Finished Airing</td>\n",
       "      <td>...</td>\n",
       "      <td>Unknown</td>\n",
       "      <td>{'Adaptation': [{'mal_id': 101, 'type': 'manga...</td>\n",
       "      <td>TV Tokyo, Sotsu</td>\n",
       "      <td>NaN</td>\n",
       "      <td>Satelight</td>\n",
       "      <td>Comedy, Magic, School, Shoujo</td>\n",
       "      <td>['#1: \"Minna no Tamago (みんなのたまご)\" by Shugo Cha...</td>\n",
       "      <td>['#1: \"Rottara Rottara (ロッタラ ロッタラ)\" by Buono! ...</td>\n",
       "      <td>24.0</td>\n",
       "      <td>2008</td>\n",
       "    </tr>\n",
       "    <tr>\n",
       "      <th>3</th>\n",
       "      <td>721</td>\n",
       "      <td>Princess Tutu</td>\n",
       "      <td>Princess Tutu</td>\n",
       "      <td>プリンセスチュチュ</td>\n",
       "      <td>NaN</td>\n",
       "      <td>https://myanimelist.cdn-dena.com/images/anime/...</td>\n",
       "      <td>TV</td>\n",
       "      <td>Original</td>\n",
       "      <td>38</td>\n",
       "      <td>Finished Airing</td>\n",
       "      <td>...</td>\n",
       "      <td>Fridays at Unknown</td>\n",
       "      <td>{'Adaptation': [{'mal_id': 1581, 'type': 'mang...</td>\n",
       "      <td>Memory-Tech, GANSIS, Marvelous AQL</td>\n",
       "      <td>ADV Films</td>\n",
       "      <td>Hal Film Maker</td>\n",
       "      <td>Comedy, Drama, Magic, Romance, Fantasy</td>\n",
       "      <td>['\"Morning Grace\" by Ritsuko Okazaki']</td>\n",
       "      <td>['\"Watashi No Ai Wa Chiisaikeredo\" by Ritsuko ...</td>\n",
       "      <td>16.0</td>\n",
       "      <td>2002</td>\n",
       "    </tr>\n",
       "    <tr>\n",
       "      <th>4</th>\n",
       "      <td>12365</td>\n",
       "      <td>Bakuman. 3rd Season</td>\n",
       "      <td>Bakuman.</td>\n",
       "      <td>バクマン。</td>\n",
       "      <td>Bakuman Season 3</td>\n",
       "      <td>https://myanimelist.cdn-dena.com/images/anime/...</td>\n",
       "      <td>TV</td>\n",
       "      <td>Manga</td>\n",
       "      <td>25</td>\n",
       "      <td>Finished Airing</td>\n",
       "      <td>...</td>\n",
       "      <td>Unknown</td>\n",
       "      <td>{'Adaptation': [{'mal_id': 9711, 'type': 'mang...</td>\n",
       "      <td>NHK, Shueisha</td>\n",
       "      <td>NaN</td>\n",
       "      <td>J.C.Staff</td>\n",
       "      <td>Comedy, Drama, Romance, Shounen</td>\n",
       "      <td>['#1: \"Moshimo no Hanashi (もしもの話)\" by nano.RIP...</td>\n",
       "      <td>['#1: \"Pride on Everyday\" by Sphere (eps 1-13)...</td>\n",
       "      <td>24.0</td>\n",
       "      <td>2012</td>\n",
       "    </tr>\n",
       "  </tbody>\n",
       "</table>\n",
       "<p>5 rows × 33 columns</p>\n",
       "</div>"
      ],
      "text/plain": [
       "   anime_id                title              title_english title_japanese  \\\n",
       "0     11013        Inu x Boku SS  Inu X Boku Secret Service         妖狐×僕SS   \n",
       "1      2104     Seto no Hanayome      My Bride is a Mermaid          瀬戸の花嫁   \n",
       "2      5262   Shugo Chara!! Doki         Shugo Chara!! Doki    しゅごキャラ！！どきっ   \n",
       "3       721        Princess Tutu              Princess Tutu      プリンセスチュチュ   \n",
       "4     12365  Bakuman. 3rd Season                   Bakuman.          バクマン。   \n",
       "\n",
       "                                  title_synonyms  \\\n",
       "0                                Youko x Boku SS   \n",
       "1                           The Inland Sea Bride   \n",
       "2  Shugo Chara Ninenme, Shugo Chara! Second Year   \n",
       "3                                            NaN   \n",
       "4                               Bakuman Season 3   \n",
       "\n",
       "                                           image_url type    source  episodes  \\\n",
       "0  https://myanimelist.cdn-dena.com/images/anime/...   TV     Manga        12   \n",
       "1  https://myanimelist.cdn-dena.com/images/anime/...   TV     Manga        26   \n",
       "2  https://myanimelist.cdn-dena.com/images/anime/...   TV     Manga        51   \n",
       "3  https://myanimelist.cdn-dena.com/images/anime/...   TV  Original        38   \n",
       "4  https://myanimelist.cdn-dena.com/images/anime/...   TV     Manga        25   \n",
       "\n",
       "            status  ...           broadcast  \\\n",
       "0  Finished Airing  ...  Fridays at Unknown   \n",
       "1  Finished Airing  ...             Unknown   \n",
       "2  Finished Airing  ...             Unknown   \n",
       "3  Finished Airing  ...  Fridays at Unknown   \n",
       "4  Finished Airing  ...             Unknown   \n",
       "\n",
       "                                             related  \\\n",
       "0  {'Adaptation': [{'mal_id': 17207, 'type': 'man...   \n",
       "1  {'Adaptation': [{'mal_id': 759, 'type': 'manga...   \n",
       "2  {'Adaptation': [{'mal_id': 101, 'type': 'manga...   \n",
       "3  {'Adaptation': [{'mal_id': 1581, 'type': 'mang...   \n",
       "4  {'Adaptation': [{'mal_id': 9711, 'type': 'mang...   \n",
       "\n",
       "                                            producer          licensor  \\\n",
       "0  Aniplex, Square Enix, Mainichi Broadcasting Sy...  Sentai Filmworks   \n",
       "1                  TV Tokyo, AIC, Square Enix, Sotsu        Funimation   \n",
       "2                                    TV Tokyo, Sotsu               NaN   \n",
       "3                 Memory-Tech, GANSIS, Marvelous AQL         ADV Films   \n",
       "4                                      NHK, Shueisha               NaN   \n",
       "\n",
       "             studio                                     genre  \\\n",
       "0  David Production    Comedy, Supernatural, Romance, Shounen   \n",
       "1             Gonzo  Comedy, Parody, Romance, School, Shounen   \n",
       "2         Satelight             Comedy, Magic, School, Shoujo   \n",
       "3    Hal Film Maker    Comedy, Drama, Magic, Romance, Fantasy   \n",
       "4         J.C.Staff           Comedy, Drama, Romance, Shounen   \n",
       "\n",
       "                                       opening_theme  \\\n",
       "0                              ['\"Nirvana\" by MUCC']   \n",
       "1                 ['\"Romantic summer\" by SUN&LUNAR']   \n",
       "2  ['#1: \"Minna no Tamago (みんなのたまご)\" by Shugo Cha...   \n",
       "3             ['\"Morning Grace\" by Ritsuko Okazaki']   \n",
       "4  ['#1: \"Moshimo no Hanashi (もしもの話)\" by nano.RIP...   \n",
       "\n",
       "                                        ending_theme  duration_min  \\\n",
       "0  ['#1: \"Nirvana\" by MUCC (eps 1, 11-12)', '#2: ...          24.0   \n",
       "1  ['#1: \"Ashita e no Hikari (明日への光)\" by Asuka Hi...          24.0   \n",
       "2  ['#1: \"Rottara Rottara (ロッタラ ロッタラ)\" by Buono! ...          24.0   \n",
       "3  ['\"Watashi No Ai Wa Chiisaikeredo\" by Ritsuko ...          16.0   \n",
       "4  ['#1: \"Pride on Everyday\" by Sphere (eps 1-13)...          24.0   \n",
       "\n",
       "   aired_from_year  \n",
       "0             2012  \n",
       "1             2007  \n",
       "2             2008  \n",
       "3             2002  \n",
       "4             2012  \n",
       "\n",
       "[5 rows x 33 columns]"
      ]
     },
     "execution_count": 16,
     "metadata": {},
     "output_type": "execute_result"
    }
   ],
   "source": [
    "anime.head()"
   ]
  },
  {
   "cell_type": "markdown",
   "id": "b04712d6",
   "metadata": {},
   "source": [
    "## Data Wrangling\n",
    "To use `seaborn`'s best-fit curve, you must remove `null` values using `dropna`"
   ]
  },
  {
   "cell_type": "code",
   "execution_count": 17,
   "id": "7568cf33",
   "metadata": {},
   "outputs": [],
   "source": [
    "anime.dropna(inplace=True)"
   ]
  },
  {
   "cell_type": "markdown",
   "id": "f7cbda2f",
   "metadata": {},
   "source": [
    "## Visualizing Transformations\n",
    "`pandas` has a function called `.hist()` that works pretty well for data normalization visualization, because it just ignores missing values. That means that you don't need to do a whole lot of data cleaning."
   ]
  },
  {
   "cell_type": "code",
   "execution_count": 18,
   "id": "44ec3f05",
   "metadata": {},
   "outputs": [
    {
     "data": {
      "text/plain": [
       "<AxesSubplot:>"
      ]
     },
     "execution_count": 18,
     "metadata": {},
     "output_type": "execute_result"
    },
    {
     "data": {
      "image/png": "[encoded data removed]",
      "text/plain": [
       "<Figure size 432x288 with 1 Axes>"
      ]
     },
     "metadata": {
      "needs_background": "light"
     },
     "output_type": "display_data"
    }
   ],
   "source": [
    "anime.aired_from_year.hist()"
   ]
  },
  {
   "cell_type": "markdown",
   "id": "c8dc1d80",
   "metadata": {},
   "source": [
    "### Add best-fit curve\n",
    "If you want a fitted curve, you'll need to pull from `seaborn`, using the `distplot()` function."
   ]
  },
  {
   "cell_type": "code",
   "execution_count": 38,
   "id": "6dc8ee80",
   "metadata": {},
   "outputs": [
    {
     "name": "stderr",
     "output_type": "stream",
     "text": [
      "/Users/heather/opt/anaconda3/lib/python3.9/site-packages/seaborn/distributions.py:2619: FutureWarning: `distplot` is a deprecated function and will be removed in a future version. Please adapt your code to use either `displot` (a figure-level function with similar flexibility) or `histplot` (an axes-level function for histograms).\n",
      "  warnings.warn(msg, FutureWarning)\n"
     ]
    },
    {
     "data": {
      "text/plain": [
       "<AxesSubplot:xlabel='aired_from_year', ylabel='Density'>"
      ]
     },
     "execution_count": 38,
     "metadata": {},
     "output_type": "execute_result"
    },
    {
     "data": {
      "image/png": "[encoded data removed]",
      "text/plain": [
       "<Figure size 432x288 with 1 Axes>"
      ]
     },
     "metadata": {
      "needs_background": "light"
     },
     "output_type": "display_data"
    }
   ],
   "source": [
    "sns.distplot(anime['aired_from_year'])"
   ]
  },
  {
   "cell_type": "markdown",
   "id": "7b3b685e",
   "metadata": {},
   "source": [
    "## Transforming Postively Skewed Data\n",
    "### Variable: `scored_by` — positively skewed"
   ]
  },
  {
   "cell_type": "code",
   "execution_count": 20,
   "id": "53b53e97",
   "metadata": {},
   "outputs": [
    {
     "data": {
      "text/plain": [
       "<AxesSubplot:>"
      ]
     },
     "execution_count": 20,
     "metadata": {},
     "output_type": "execute_result"
    },
    {
     "data": {
      "image/png": "[encoded data removed]",
      "text/plain": [
       "<Figure size 432x288 with 1 Axes>"
      ]
     },
     "metadata": {
      "needs_background": "light"
     },
     "output_type": "display_data"
    }
   ],
   "source": [
    "anime.scored_by.hist()"
   ]
  },
  {
   "cell_type": "markdown",
   "id": "b4d19ba5",
   "metadata": {},
   "source": [
    "### Square Root Transformation using `np.sqrt()` from `numpy`"
   ]
  },
  {
   "cell_type": "code",
   "execution_count": 21,
   "id": "110cd2fd",
   "metadata": {},
   "outputs": [],
   "source": [
    "anime['scored_bySQRT'] = np.sqrt(anime['scored_by'])"
   ]
  },
  {
   "cell_type": "code",
   "execution_count": 22,
   "id": "1bb2ae22",
   "metadata": {},
   "outputs": [
    {
     "data": {
      "text/plain": [
       "<AxesSubplot:>"
      ]
     },
     "execution_count": 22,
     "metadata": {},
     "output_type": "execute_result"
    },
    {
     "data": {
      "image/png": "[encoded data removed]",
      "text/plain": [
       "<Figure size 432x288 with 1 Axes>"
      ]
     },
     "metadata": {
      "needs_background": "light"
     },
     "output_type": "display_data"
    }
   ],
   "source": [
    "anime.scored_bySQRT.hist()"
   ]
  },
  {
   "cell_type": "markdown",
   "id": "b5855ea0",
   "metadata": {},
   "source": [
    "### Log Transformation using `np.log()` from `numpy`"
   ]
  },
  {
   "cell_type": "code",
   "execution_count": 23,
   "id": "1a372fb7",
   "metadata": {},
   "outputs": [],
   "source": [
    "anime['scored_byLOG'] = np.log(anime['scored_by'])"
   ]
  },
  {
   "cell_type": "code",
   "execution_count": 24,
   "id": "6624d850",
   "metadata": {},
   "outputs": [
    {
     "data": {
      "text/plain": [
       "<AxesSubplot:>"
      ]
     },
     "execution_count": 24,
     "metadata": {},
     "output_type": "execute_result"
    },
    {
     "data": {
      "image/png": "[encoded data removed]",
      "text/plain": [
       "<Figure size 432x288 with 1 Axes>"
      ]
     },
     "metadata": {
      "needs_background": "light"
     },
     "output_type": "display_data"
    }
   ],
   "source": [
    "anime.scored_byLOG.hist()"
   ]
  },
  {
   "cell_type": "markdown",
   "id": "d05f5d80",
   "metadata": {},
   "source": [
    "## Transforming Negatively Skewed Data\n",
    "### Variable: `aired_from_year` — negatively skewed"
   ]
  },
  {
   "cell_type": "code",
   "execution_count": 25,
   "id": "a8a39478",
   "metadata": {},
   "outputs": [
    {
     "data": {
      "text/plain": [
       "<AxesSubplot:>"
      ]
     },
     "execution_count": 25,
     "metadata": {},
     "output_type": "execute_result"
    },
    {
     "data": {
      "image/png": "[encoded data removed]",
      "text/plain": [
       "<Figure size 432x288 with 1 Axes>"
      ]
     },
     "metadata": {
      "needs_background": "light"
     },
     "output_type": "display_data"
    }
   ],
   "source": [
    "anime.aired_from_year.hist()"
   ]
  },
  {
   "cell_type": "markdown",
   "id": "7126effa",
   "metadata": {},
   "source": [
    "### Square Transformation"
   ]
  },
  {
   "cell_type": "code",
   "execution_count": 26,
   "id": "fac68520",
   "metadata": {},
   "outputs": [],
   "source": [
    "anime['aired_from_yearSQ'] = anime['aired_from_year']**2"
   ]
  },
  {
   "cell_type": "code",
   "execution_count": 27,
   "id": "a509b433",
   "metadata": {},
   "outputs": [
    {
     "data": {
      "text/plain": [
       "<AxesSubplot:>"
      ]
     },
     "execution_count": 27,
     "metadata": {},
     "output_type": "execute_result"
    },
    {
     "data": {
      "image/png": "[encoded data removed]",
      "text/plain": [
       "<Figure size 432x288 with 1 Axes>"
      ]
     },
     "metadata": {
      "needs_background": "light"
     },
     "output_type": "display_data"
    }
   ],
   "source": [
    "anime.aired_from_yearSQ.hist()"
   ]
  },
  {
   "cell_type": "markdown",
   "id": "00ed3b40",
   "metadata": {},
   "source": [
    "### Cube Transformation"
   ]
  },
  {
   "cell_type": "code",
   "execution_count": 28,
   "id": "441c37f5",
   "metadata": {},
   "outputs": [],
   "source": [
    "anime['aired_from_yearCUBE'] = anime['aired_from_year']**3"
   ]
  },
  {
   "cell_type": "code",
   "execution_count": 29,
   "id": "2f45cd09",
   "metadata": {},
   "outputs": [
    {
     "data": {
      "text/plain": [
       "<AxesSubplot:>"
      ]
     },
     "execution_count": 29,
     "metadata": {},
     "output_type": "execute_result"
    },
    {
     "data": {
      "image/png": "[encoded data removed]",
      "text/plain": [
       "<Figure size 432x288 with 1 Axes>"
      ]
     },
     "metadata": {
      "needs_background": "light"
     },
     "output_type": "display_data"
    }
   ],
   "source": [
    "anime.aired_from_yearCUBE.hist()"
   ]
  },
  {
   "cell_type": "markdown",
   "id": "a1cafd65",
   "metadata": {},
   "source": [
    "## BoxCox Transformation\n",
    "Just like the Tukey's Ladder of Power Transformations in R, you can transform by power in Python as well. However, the Python version, called `boxcox()`, has limited functionality.\n",
    "\n",
    "It does not seem to work well for <i>negatively skewed data</i> (so check your results very carefully!), and it does not automatically transform your data, unlike R. It just runs off a power system.\n",
    "\n",
    "Requires:\n",
    "```\n",
    "from scipy import stats\n",
    "from scipy.stats import boxcox\n",
    "```\n",
    "\n",
    "Use the `boxcox()` function, and specify the variable.\n",
    "Then the last argument is the power value that you learned about at the beginning of this lesson. A power of `0` is a log transformation."
   ]
  },
  {
   "cell_type": "code",
   "execution_count": 33,
   "id": "e2c5a96d",
   "metadata": {},
   "outputs": [],
   "source": [
    "anime['scored_byLOG1'] = boxcox(anime['scored_by'],0)"
   ]
  },
  {
   "cell_type": "code",
   "execution_count": 34,
   "id": "e7014865",
   "metadata": {},
   "outputs": [
    {
     "data": {
      "text/plain": [
       "<AxesSubplot:>"
      ]
     },
     "execution_count": 34,
     "metadata": {},
     "output_type": "execute_result"
    },
    {
     "data": {
      "image/png": "[encoded data removed]",
      "text/plain": [
       "<Figure size 432x288 with 1 Axes>"
      ]
     },
     "metadata": {
      "needs_background": "light"
     },
     "output_type": "display_data"
    }
   ],
   "source": [
    "anime.scored_byLOG1.hist()"
   ]
  },
  {
   "cell_type": "markdown",
   "id": "800498a4",
   "metadata": {},
   "source": [
    "### END"
   ]
  }
 ],
 "metadata": {
  "kernelspec": {
   "display_name": "Python 3 (ipykernel)",
   "language": "python",
   "name": "python3"
  },
  "language_info": {
   "codemirror_mode": {
    "name": "ipython",
    "version": 3
   },
   "file_extension": ".py",
   "mimetype": "text/x-python",
   "name": "python",
   "nbconvert_exporter": "python",
   "pygments_lexer": "ipython3",
   "version": "3.9.12"
  }
 },
 "nbformat": 4,
 "nbformat_minor": 5
}
