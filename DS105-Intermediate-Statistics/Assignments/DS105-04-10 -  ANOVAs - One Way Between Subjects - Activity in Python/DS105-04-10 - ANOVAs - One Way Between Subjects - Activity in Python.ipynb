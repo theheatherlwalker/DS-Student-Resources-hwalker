{
 "cells": [
  {
   "cell_type": "markdown",
   "id": "0031a10d",
   "metadata": {},
   "source": [
    "# DS105-04-10 - ANOVAs - One Way Between Subjects - Activity in Python"
   ]
  },
  {
   "cell_type": "markdown",
   "id": "5fa0ad00",
   "metadata": {},
   "source": [
    "---\n",
    "## Load Libraries"
   ]
  },
  {
   "cell_type": "code",
   "execution_count": 1,
   "id": "b8188375",
   "metadata": {},
   "outputs": [],
   "source": [
    "import pandas as pd\n",
    "import numpy as np\n",
    "import scipy\n",
    "from scipy import stats\n",
    "from statsmodels.stats.multicomp import pairwise_tukeyhsd\n",
    "from statsmodels.stats.multicomp import MultiComparison\n",
    "import seaborn as sns"
   ]
  },
  {
   "cell_type": "markdown",
   "id": "ec9cbf27",
   "metadata": {},
   "source": [
    "___\n",
    "## Load Data"
   ]
  },
  {
   "cell_type": "code",
   "execution_count": 2,
   "id": "383a1106",
   "metadata": {},
   "outputs": [],
   "source": [
    "youtube = pd.read_csv('./assets/YouTubeChannels_Python.csv')"
   ]
  },
  {
   "cell_type": "code",
   "execution_count": 3,
   "id": "17f68a2c",
   "metadata": {},
   "outputs": [
    {
     "data": {
      "text/html": [
       "<div>\n",
       "<style scoped>\n",
       "    .dataframe tbody tr th:only-of-type {\n",
       "        vertical-align: middle;\n",
       "    }\n",
       "\n",
       "    .dataframe tbody tr th {\n",
       "        vertical-align: top;\n",
       "    }\n",
       "\n",
       "    .dataframe thead th {\n",
       "        text-align: right;\n",
       "    }\n",
       "</style>\n",
       "<table border=\"1\" class=\"dataframe\">\n",
       "  <thead>\n",
       "    <tr style=\"text-align: right;\">\n",
       "      <th></th>\n",
       "      <th>Rank</th>\n",
       "      <th>Gr2de</th>\n",
       "      <th>Channel name</th>\n",
       "      <th>Video Uploads</th>\n",
       "      <th>Subscribers</th>\n",
       "      <th>Video views</th>\n",
       "    </tr>\n",
       "  </thead>\n",
       "  <tbody>\n",
       "    <tr>\n",
       "      <th>0</th>\n",
       "      <td>1st</td>\n",
       "      <td>0</td>\n",
       "      <td>Zee TV</td>\n",
       "      <td>82757</td>\n",
       "      <td>18752951</td>\n",
       "      <td>20869786591</td>\n",
       "    </tr>\n",
       "    <tr>\n",
       "      <th>1</th>\n",
       "      <td>2nd</td>\n",
       "      <td>0</td>\n",
       "      <td>T-Series</td>\n",
       "      <td>12661</td>\n",
       "      <td>61196302</td>\n",
       "      <td>47548839843</td>\n",
       "    </tr>\n",
       "  </tbody>\n",
       "</table>\n",
       "</div>"
      ],
      "text/plain": [
       "  Rank  Gr2de Channel name Video Uploads Subscribers  Video views\n",
       "0  1st      0       Zee TV         82757    18752951  20869786591\n",
       "1  2nd      0     T-Series         12661    61196302  47548839843"
      ]
     },
     "execution_count": 3,
     "metadata": {},
     "output_type": "execute_result"
    }
   ],
   "source": [
    "youtube.head(2)"
   ]
  },
  {
   "cell_type": "markdown",
   "id": "b383a15d",
   "metadata": {},
   "source": [
    "___\n",
    "## Question Setup\n",
    "Is there a difference in the number of views `Video views` compared to all the different grade categories `Gr2de`?"
   ]
  },
  {
   "cell_type": "code",
   "execution_count": 4,
   "id": "589e635a",
   "metadata": {},
   "outputs": [
    {
     "data": {
      "text/plain": [
       "array([0, 1, 2, 3])"
      ]
     },
     "execution_count": 4,
     "metadata": {},
     "output_type": "execute_result"
    }
   ],
   "source": [
    "# What are the levels in `Gr2de`?\n",
    "youtube.Gr2de.unique()"
   ]
  },
  {
   "cell_type": "markdown",
   "id": "c473a869",
   "metadata": {},
   "source": [
    "___\n",
    "## Data Wrangling"
   ]
  },
  {
   "cell_type": "markdown",
   "id": "a9fe173a",
   "metadata": {},
   "source": [
    "### Subsetting needed variables\n",
    "Keep the variables needed: `Gr2de` and `Video views`."
   ]
  },
  {
   "cell_type": "code",
   "execution_count": 5,
   "id": "5a0f5ac6",
   "metadata": {},
   "outputs": [],
   "source": [
    "youtube1 = youtube[['Gr2de','Video views']]"
   ]
  },
  {
   "cell_type": "code",
   "execution_count": 6,
   "id": "0c31a918",
   "metadata": {},
   "outputs": [
    {
     "data": {
      "text/html": [
       "<div>\n",
       "<style scoped>\n",
       "    .dataframe tbody tr th:only-of-type {\n",
       "        vertical-align: middle;\n",
       "    }\n",
       "\n",
       "    .dataframe tbody tr th {\n",
       "        vertical-align: top;\n",
       "    }\n",
       "\n",
       "    .dataframe thead th {\n",
       "        text-align: right;\n",
       "    }\n",
       "</style>\n",
       "<table border=\"1\" class=\"dataframe\">\n",
       "  <thead>\n",
       "    <tr style=\"text-align: right;\">\n",
       "      <th></th>\n",
       "      <th>Gr2de</th>\n",
       "      <th>Video views</th>\n",
       "    </tr>\n",
       "  </thead>\n",
       "  <tbody>\n",
       "    <tr>\n",
       "      <th>0</th>\n",
       "      <td>0</td>\n",
       "      <td>20869786591</td>\n",
       "    </tr>\n",
       "    <tr>\n",
       "      <th>1</th>\n",
       "      <td>0</td>\n",
       "      <td>47548839843</td>\n",
       "    </tr>\n",
       "    <tr>\n",
       "      <th>2</th>\n",
       "      <td>0</td>\n",
       "      <td>9793305082</td>\n",
       "    </tr>\n",
       "    <tr>\n",
       "      <th>3</th>\n",
       "      <td>0</td>\n",
       "      <td>22675948293</td>\n",
       "    </tr>\n",
       "    <tr>\n",
       "      <th>4</th>\n",
       "      <td>0</td>\n",
       "      <td>26273668433</td>\n",
       "    </tr>\n",
       "  </tbody>\n",
       "</table>\n",
       "</div>"
      ],
      "text/plain": [
       "   Gr2de  Video views\n",
       "0      0  20869786591\n",
       "1      0  47548839843\n",
       "2      0   9793305082\n",
       "3      0  22675948293\n",
       "4      0  26273668433"
      ]
     },
     "execution_count": 6,
     "metadata": {},
     "output_type": "execute_result"
    }
   ],
   "source": [
    "youtube1.head()"
   ]
  },
  {
   "cell_type": "markdown",
   "id": "cd8f8d80",
   "metadata": {},
   "source": [
    "### Confirmging `Video views` is an integer\n",
    "The Dependent Variable must be in an integer format."
   ]
  },
  {
   "cell_type": "code",
   "execution_count": 7,
   "id": "aff16734",
   "metadata": {},
   "outputs": [
    {
     "name": "stdout",
     "output_type": "stream",
     "text": [
      "<class 'pandas.core.frame.DataFrame'>\n",
      "RangeIndex: 5000 entries, 0 to 4999\n",
      "Data columns (total 2 columns):\n",
      " #   Column       Non-Null Count  Dtype\n",
      "---  ------       --------------  -----\n",
      " 0   Gr2de        5000 non-null   int64\n",
      " 1   Video views  5000 non-null   int64\n",
      "dtypes: int64(2)\n",
      "memory usage: 78.2 KB\n"
     ]
    }
   ],
   "source": [
    "# Check current format\n",
    "youtube1.info()"
   ]
  },
  {
   "cell_type": "markdown",
   "id": "a20793b7",
   "metadata": {},
   "source": [
    "### Changing `Gr2de` to a string for ANOVA"
   ]
  },
  {
   "cell_type": "code",
   "execution_count": 8,
   "id": "2d1ecdd1",
   "metadata": {},
   "outputs": [
    {
     "name": "stderr",
     "output_type": "stream",
     "text": [
      "/var/folders/p_/8z_nx_rn7hjgm91fg71774ym0000gn/T/ipykernel_12396/170841646.py:11: SettingWithCopyWarning: \n",
      "A value is trying to be set on a copy of a slice from a DataFrame.\n",
      "Try using .loc[row_indexer,col_indexer] = value instead\n",
      "\n",
      "See the caveats in the documentation: https://pandas.pydata.org/pandas-docs/stable/user_guide/indexing.html#returning-a-view-versus-a-copy\n",
      "  youtube1['Gr2deR'] = youtube1['Gr2de'].apply(recode)\n"
     ]
    }
   ],
   "source": [
    "def recode (series):\n",
    "    if series == 0: \n",
    "        return \"A++\"\n",
    "    if series == 1: \n",
    "        return \"A+\"\n",
    "    if series == 2: \n",
    "        return \"A\"\n",
    "    if series == 3: \n",
    "        return \"B+\"\n",
    "\n",
    "youtube1['Gr2deR'] = youtube1['Gr2de'].apply(recode)\n",
    "#NOTE: Will get a warning for recode, but will still be successful."
   ]
  },
  {
   "cell_type": "code",
   "execution_count": 9,
   "id": "2cf64c86",
   "metadata": {},
   "outputs": [
    {
     "data": {
      "text/html": [
       "<div>\n",
       "<style scoped>\n",
       "    .dataframe tbody tr th:only-of-type {\n",
       "        vertical-align: middle;\n",
       "    }\n",
       "\n",
       "    .dataframe tbody tr th {\n",
       "        vertical-align: top;\n",
       "    }\n",
       "\n",
       "    .dataframe thead th {\n",
       "        text-align: right;\n",
       "    }\n",
       "</style>\n",
       "<table border=\"1\" class=\"dataframe\">\n",
       "  <thead>\n",
       "    <tr style=\"text-align: right;\">\n",
       "      <th></th>\n",
       "      <th>Gr2de</th>\n",
       "      <th>Video views</th>\n",
       "      <th>Gr2deR</th>\n",
       "    </tr>\n",
       "  </thead>\n",
       "  <tbody>\n",
       "    <tr>\n",
       "      <th>0</th>\n",
       "      <td>0</td>\n",
       "      <td>20869786591</td>\n",
       "      <td>A++</td>\n",
       "    </tr>\n",
       "    <tr>\n",
       "      <th>1</th>\n",
       "      <td>0</td>\n",
       "      <td>47548839843</td>\n",
       "      <td>A++</td>\n",
       "    </tr>\n",
       "    <tr>\n",
       "      <th>2</th>\n",
       "      <td>0</td>\n",
       "      <td>9793305082</td>\n",
       "      <td>A++</td>\n",
       "    </tr>\n",
       "    <tr>\n",
       "      <th>3</th>\n",
       "      <td>0</td>\n",
       "      <td>22675948293</td>\n",
       "      <td>A++</td>\n",
       "    </tr>\n",
       "    <tr>\n",
       "      <th>4</th>\n",
       "      <td>0</td>\n",
       "      <td>26273668433</td>\n",
       "      <td>A++</td>\n",
       "    </tr>\n",
       "  </tbody>\n",
       "</table>\n",
       "</div>"
      ],
      "text/plain": [
       "   Gr2de  Video views Gr2deR\n",
       "0      0  20869786591    A++\n",
       "1      0  47548839843    A++\n",
       "2      0   9793305082    A++\n",
       "3      0  22675948293    A++\n",
       "4      0  26273668433    A++"
      ]
     },
     "execution_count": 9,
     "metadata": {},
     "output_type": "execute_result"
    }
   ],
   "source": [
    "youtube1.head()"
   ]
  },
  {
   "cell_type": "markdown",
   "id": "b5c815c7",
   "metadata": {},
   "source": [
    "___\n",
    "## Test Assumptions\n",
    "\n",
    "Before you go any further, it's important to test for assumptions. If the assumptions are not met for ANOVA, but you proceeded anyway, you run the risk of biasing your results."
   ]
  },
  {
   "cell_type": "markdown",
   "id": "c611319a",
   "metadata": {},
   "source": [
    "### Assumption: Normality\n",
    "You only need to test for the normality of the dependent variable, since the IV is categorical."
   ]
  },
  {
   "cell_type": "code",
   "execution_count": 10,
   "id": "2d4f5ab4",
   "metadata": {},
   "outputs": [
    {
     "name": "stderr",
     "output_type": "stream",
     "text": [
      "/Users/heather/opt/anaconda3/lib/python3.9/site-packages/seaborn/distributions.py:2619: FutureWarning: `distplot` is a deprecated function and will be removed in a future version. Please adapt your code to use either `displot` (a figure-level function with similar flexibility) or `histplot` (an axes-level function for histograms).\n",
      "  warnings.warn(msg, FutureWarning)\n"
     ]
    },
    {
     "data": {
      "text/plain": [
       "<AxesSubplot:xlabel='Video views', ylabel='Density'>"
      ]
     },
     "execution_count": 10,
     "metadata": {},
     "output_type": "execute_result"
    },
    {
     "data": {
      "image/png": "[encoded data removed]",
      "text/plain": [
       "<Figure size 432x288 with 1 Axes>"
      ]
     },
     "metadata": {
      "needs_background": "light"
     },
     "output_type": "display_data"
    }
   ],
   "source": [
    "sns.distplot(youtube1['Video views'])"
   ]
  },
  {
   "cell_type": "markdown",
   "id": "240f4ec2",
   "metadata": {},
   "source": [
    "<div class=\"alert alert-block alert-danger\">\n",
    "Fails normal distribution; Positively skewed. Applying Square Root Transformation.\n",
    "</div>\n",
    "\n",
    "#### Transformation: Square Root"
   ]
  },
  {
   "cell_type": "code",
   "execution_count": 11,
   "id": "ef889747",
   "metadata": {},
   "outputs": [
    {
     "name": "stderr",
     "output_type": "stream",
     "text": [
      "/var/folders/p_/8z_nx_rn7hjgm91fg71774ym0000gn/T/ipykernel_12396/1646963793.py:1: SettingWithCopyWarning: \n",
      "A value is trying to be set on a copy of a slice from a DataFrame.\n",
      "Try using .loc[row_indexer,col_indexer] = value instead\n",
      "\n",
      "See the caveats in the documentation: https://pandas.pydata.org/pandas-docs/stable/user_guide/indexing.html#returning-a-view-versus-a-copy\n",
      "  youtube1['VideoViewsSQRT'] = np.sqrt(youtube1['Video views'])\n"
     ]
    }
   ],
   "source": [
    "youtube1['VideoViewsSQRT'] = np.sqrt(youtube1['Video views'])"
   ]
  },
  {
   "cell_type": "code",
   "execution_count": 12,
   "id": "68d9b07c",
   "metadata": {},
   "outputs": [
    {
     "data": {
      "text/html": [
       "<div>\n",
       "<style scoped>\n",
       "    .dataframe tbody tr th:only-of-type {\n",
       "        vertical-align: middle;\n",
       "    }\n",
       "\n",
       "    .dataframe tbody tr th {\n",
       "        vertical-align: top;\n",
       "    }\n",
       "\n",
       "    .dataframe thead th {\n",
       "        text-align: right;\n",
       "    }\n",
       "</style>\n",
       "<table border=\"1\" class=\"dataframe\">\n",
       "  <thead>\n",
       "    <tr style=\"text-align: right;\">\n",
       "      <th></th>\n",
       "      <th>Gr2de</th>\n",
       "      <th>Video views</th>\n",
       "      <th>Gr2deR</th>\n",
       "      <th>VideoViewsSQRT</th>\n",
       "    </tr>\n",
       "  </thead>\n",
       "  <tbody>\n",
       "    <tr>\n",
       "      <th>0</th>\n",
       "      <td>0</td>\n",
       "      <td>20869786591</td>\n",
       "      <td>A++</td>\n",
       "      <td>144463.789896</td>\n",
       "    </tr>\n",
       "    <tr>\n",
       "      <th>1</th>\n",
       "      <td>0</td>\n",
       "      <td>47548839843</td>\n",
       "      <td>A++</td>\n",
       "      <td>218056.964674</td>\n",
       "    </tr>\n",
       "    <tr>\n",
       "      <th>2</th>\n",
       "      <td>0</td>\n",
       "      <td>9793305082</td>\n",
       "      <td>A++</td>\n",
       "      <td>98961.129147</td>\n",
       "    </tr>\n",
       "    <tr>\n",
       "      <th>3</th>\n",
       "      <td>0</td>\n",
       "      <td>22675948293</td>\n",
       "      <td>A++</td>\n",
       "      <td>150585.352186</td>\n",
       "    </tr>\n",
       "    <tr>\n",
       "      <th>4</th>\n",
       "      <td>0</td>\n",
       "      <td>26273668433</td>\n",
       "      <td>A++</td>\n",
       "      <td>162091.543373</td>\n",
       "    </tr>\n",
       "  </tbody>\n",
       "</table>\n",
       "</div>"
      ],
      "text/plain": [
       "   Gr2de  Video views Gr2deR  VideoViewsSQRT\n",
       "0      0  20869786591    A++   144463.789896\n",
       "1      0  47548839843    A++   218056.964674\n",
       "2      0   9793305082    A++    98961.129147\n",
       "3      0  22675948293    A++   150585.352186\n",
       "4      0  26273668433    A++   162091.543373"
      ]
     },
     "execution_count": 12,
     "metadata": {},
     "output_type": "execute_result"
    }
   ],
   "source": [
    "youtube1.head()"
   ]
  },
  {
   "cell_type": "code",
   "execution_count": 13,
   "id": "893552d8",
   "metadata": {},
   "outputs": [
    {
     "name": "stderr",
     "output_type": "stream",
     "text": [
      "/Users/heather/opt/anaconda3/lib/python3.9/site-packages/seaborn/distributions.py:2619: FutureWarning: `distplot` is a deprecated function and will be removed in a future version. Please adapt your code to use either `displot` (a figure-level function with similar flexibility) or `histplot` (an axes-level function for histograms).\n",
      "  warnings.warn(msg, FutureWarning)\n"
     ]
    },
    {
     "data": {
      "text/plain": [
       "<AxesSubplot:xlabel='VideoViewsSQRT', ylabel='Density'>"
      ]
     },
     "execution_count": 13,
     "metadata": {},
     "output_type": "execute_result"
    },
    {
     "data": {
      "image/png": "[encoded data removed]",
      "text/plain": [
       "<Figure size 432x288 with 1 Axes>"
      ]
     },
     "metadata": {
      "needs_background": "light"
     },
     "output_type": "display_data"
    }
   ],
   "source": [
    "sns.distplot(youtube1['VideoViewsSQRT'])"
   ]
  },
  {
   "cell_type": "markdown",
   "id": "f8ba9cd1",
   "metadata": {},
   "source": [
    "<div class=\"alert alert-block alert-warning\">\n",
    "Looks more normal, but will proceed to LOG transformation to be sure. \n",
    "</div>"
   ]
  },
  {
   "cell_type": "markdown",
   "id": "3f431f46",
   "metadata": {},
   "source": [
    "### Transformation: LOG"
   ]
  },
  {
   "cell_type": "code",
   "execution_count": 14,
   "id": "22ed9061",
   "metadata": {},
   "outputs": [
    {
     "name": "stderr",
     "output_type": "stream",
     "text": [
      "/var/folders/p_/8z_nx_rn7hjgm91fg71774ym0000gn/T/ipykernel_12396/33976722.py:1: SettingWithCopyWarning: \n",
      "A value is trying to be set on a copy of a slice from a DataFrame.\n",
      "Try using .loc[row_indexer,col_indexer] = value instead\n",
      "\n",
      "See the caveats in the documentation: https://pandas.pydata.org/pandas-docs/stable/user_guide/indexing.html#returning-a-view-versus-a-copy\n",
      "  youtube1['VideoViewsLOG'] = np.log(youtube1['Video views'])\n"
     ]
    }
   ],
   "source": [
    "youtube1['VideoViewsLOG'] = np.log(youtube1['Video views'])"
   ]
  },
  {
   "cell_type": "code",
   "execution_count": 15,
   "id": "643bee86",
   "metadata": {},
   "outputs": [
    {
     "data": {
      "text/html": [
       "<div>\n",
       "<style scoped>\n",
       "    .dataframe tbody tr th:only-of-type {\n",
       "        vertical-align: middle;\n",
       "    }\n",
       "\n",
       "    .dataframe tbody tr th {\n",
       "        vertical-align: top;\n",
       "    }\n",
       "\n",
       "    .dataframe thead th {\n",
       "        text-align: right;\n",
       "    }\n",
       "</style>\n",
       "<table border=\"1\" class=\"dataframe\">\n",
       "  <thead>\n",
       "    <tr style=\"text-align: right;\">\n",
       "      <th></th>\n",
       "      <th>Gr2de</th>\n",
       "      <th>Video views</th>\n",
       "      <th>Gr2deR</th>\n",
       "      <th>VideoViewsSQRT</th>\n",
       "      <th>VideoViewsLOG</th>\n",
       "    </tr>\n",
       "  </thead>\n",
       "  <tbody>\n",
       "    <tr>\n",
       "      <th>0</th>\n",
       "      <td>0</td>\n",
       "      <td>20869786591</td>\n",
       "      <td>A++</td>\n",
       "      <td>144463.789896</td>\n",
       "      <td>23.761568</td>\n",
       "    </tr>\n",
       "    <tr>\n",
       "      <th>1</th>\n",
       "      <td>0</td>\n",
       "      <td>47548839843</td>\n",
       "      <td>A++</td>\n",
       "      <td>218056.964674</td>\n",
       "      <td>24.585023</td>\n",
       "    </tr>\n",
       "    <tr>\n",
       "      <th>2</th>\n",
       "      <td>0</td>\n",
       "      <td>9793305082</td>\n",
       "      <td>A++</td>\n",
       "      <td>98961.129147</td>\n",
       "      <td>23.004965</td>\n",
       "    </tr>\n",
       "    <tr>\n",
       "      <th>3</th>\n",
       "      <td>0</td>\n",
       "      <td>22675948293</td>\n",
       "      <td>A++</td>\n",
       "      <td>150585.352186</td>\n",
       "      <td>23.844571</td>\n",
       "    </tr>\n",
       "    <tr>\n",
       "      <th>4</th>\n",
       "      <td>0</td>\n",
       "      <td>26273668433</td>\n",
       "      <td>A++</td>\n",
       "      <td>162091.543373</td>\n",
       "      <td>23.991833</td>\n",
       "    </tr>\n",
       "  </tbody>\n",
       "</table>\n",
       "</div>"
      ],
      "text/plain": [
       "   Gr2de  Video views Gr2deR  VideoViewsSQRT  VideoViewsLOG\n",
       "0      0  20869786591    A++   144463.789896      23.761568\n",
       "1      0  47548839843    A++   218056.964674      24.585023\n",
       "2      0   9793305082    A++    98961.129147      23.004965\n",
       "3      0  22675948293    A++   150585.352186      23.844571\n",
       "4      0  26273668433    A++   162091.543373      23.991833"
      ]
     },
     "execution_count": 15,
     "metadata": {},
     "output_type": "execute_result"
    }
   ],
   "source": [
    "youtube1.head()"
   ]
  },
  {
   "cell_type": "code",
   "execution_count": 16,
   "id": "f24f0d52",
   "metadata": {},
   "outputs": [
    {
     "name": "stderr",
     "output_type": "stream",
     "text": [
      "/Users/heather/opt/anaconda3/lib/python3.9/site-packages/seaborn/distributions.py:2619: FutureWarning: `distplot` is a deprecated function and will be removed in a future version. Please adapt your code to use either `displot` (a figure-level function with similar flexibility) or `histplot` (an axes-level function for histograms).\n",
      "  warnings.warn(msg, FutureWarning)\n"
     ]
    },
    {
     "data": {
      "text/plain": [
       "<AxesSubplot:xlabel='VideoViewsLOG', ylabel='Density'>"
      ]
     },
     "execution_count": 16,
     "metadata": {},
     "output_type": "execute_result"
    },
    {
     "data": {
      "image/png": "[encoded data removed]",
      "text/plain": [
       "<Figure size 432x288 with 1 Axes>"
      ]
     },
     "metadata": {
      "needs_background": "light"
     },
     "output_type": "display_data"
    }
   ],
   "source": [
    "sns.distplot(youtube1['VideoViewsLOG'])"
   ]
  },
  {
   "cell_type": "markdown",
   "id": "cd545219",
   "metadata": {},
   "source": [
    "<div class=\"alert alert-block alert-success\">\n",
    "Seems more normal, with less of a drop off on the left.</div>"
   ]
  },
  {
   "cell_type": "markdown",
   "id": "e18f3dca",
   "metadata": {},
   "source": [
    "### Assumption: Homogeneity of Variance\n",
    "Using `Bartlett's test` since the data is now transformed close to normal distributed.Homogeneity of Variance is met if `p > .05` - *not significant*."
   ]
  },
  {
   "cell_type": "markdown",
   "id": "f843042b",
   "metadata": {},
   "source": [
    "#### Bartlett's Test\n",
    "To do Bartlett's test, use the function `scipy.stats.bartlett()`, with the argument of the `y data`, followed by the `x data`."
   ]
  },
  {
   "cell_type": "code",
   "execution_count": 17,
   "id": "bc2ff77e",
   "metadata": {},
   "outputs": [
    {
     "data": {
      "text/plain": [
       "BartlettResult(statistic=4642.606911455061, pvalue=0.0)"
      ]
     },
     "execution_count": 17,
     "metadata": {},
     "output_type": "execute_result"
    }
   ],
   "source": [
    "scipy.stats.bartlett(youtube1['VideoViewsLOG'], youtube1['Gr2de'])"
   ]
  },
  {
   "cell_type": "markdown",
   "id": "f9044e93",
   "metadata": {},
   "source": [
    "<div class=\"alert alert-block alert-danger\">\n",
    "Fails assumption of Homogeneity of Variance.<br>\n",
    "<i>p < .05</i>, which means that the data fails the assumption of Homogeneity of Variance.</div>"
   ]
  },
  {
   "cell_type": "markdown",
   "id": "84b53fbf",
   "metadata": {},
   "source": [
    "### Assumption: Sample Size\n",
    "*An ANOVA requires a sample size of at least 20 per independent variable.*<br>\n",
    "Number of independent variables: 1<br>Required number of cases: 20\n",
    "\n",
    "Number of cases: 5000"
   ]
  },
  {
   "cell_type": "code",
   "execution_count": 18,
   "id": "73552ec7",
   "metadata": {},
   "outputs": [
    {
     "name": "stdout",
     "output_type": "stream",
     "text": [
      "<class 'pandas.core.frame.DataFrame'>\n",
      "RangeIndex: 5000 entries, 0 to 4999\n",
      "Data columns (total 5 columns):\n",
      " #   Column          Non-Null Count  Dtype  \n",
      "---  ------          --------------  -----  \n",
      " 0   Gr2de           5000 non-null   int64  \n",
      " 1   Video views     5000 non-null   int64  \n",
      " 2   Gr2deR          5000 non-null   object \n",
      " 3   VideoViewsSQRT  5000 non-null   float64\n",
      " 4   VideoViewsLOG   5000 non-null   float64\n",
      "dtypes: float64(2), int64(2), object(1)\n",
      "memory usage: 195.4+ KB\n"
     ]
    }
   ],
   "source": [
    "youtube1.info()"
   ]
  },
  {
   "cell_type": "markdown",
   "id": "2a53f557",
   "metadata": {},
   "source": [
    "### Assumption: Independence\n",
    "There is no statistical test for the assumption of independence, so you can proceed!"
   ]
  },
  {
   "cell_type": "markdown",
   "id": "5a1c15c4",
   "metadata": {},
   "source": [
    "---\n",
    "## Computing ANOVAs with Equal Variance (Met Homogeneity of Variance Assumption)\n",
    "In this case, your data did not meet this assumption, but for the purposes of learning, you'll be shown what to do if you had:"
   ]
  },
  {
   "cell_type": "code",
   "execution_count": 19,
   "id": "78dc4d65",
   "metadata": {},
   "outputs": [
    {
     "data": {
      "text/plain": [
       "F_onewayResult(statistic=283.85148674568444, pvalue=3.895240835935201e-170)"
      ]
     },
     "execution_count": 19,
     "metadata": {},
     "output_type": "execute_result"
    }
   ],
   "source": [
    "stats.f_oneway(youtube1['VideoViewsLOG'][youtube1['Gr2deR']=='A++'],\n",
    "               youtube1['VideoViewsLOG'][youtube1['Gr2deR']=='A+'],\n",
    "               youtube1['VideoViewsLOG'][youtube1['Gr2deR']=='A'],\n",
    "               youtube1['VideoViewsLOG'][youtube1['Gr2deR']=='B+'])"
   ]
  },
  {
   "cell_type": "markdown",
   "id": "453376eb",
   "metadata": {},
   "source": [
    "<div class=\"alert alert-block alert-warning\">\n",
    "<b><i>p < .05</i></b>, which means there is a significant difference in `Video views` between grades `Gr2de`.</div>"
   ]
  },
  {
   "cell_type": "markdown",
   "id": "604f5954",
   "metadata": {},
   "source": [
    "___\n",
    "## Post Hocs\n",
    "Run post-hocs to figure out what groups significantly differed from each other. In Python, the only automatically coding for post-hocs that is available is the Tukey post hoc."
   ]
  },
  {
   "cell_type": "markdown",
   "id": "753430a1",
   "metadata": {},
   "source": [
    "### Computing Post Hocs with Tukey's"
   ]
  },
  {
   "cell_type": "code",
   "execution_count": 20,
   "id": "f65f0974",
   "metadata": {},
   "outputs": [
    {
     "name": "stdout",
     "output_type": "stream",
     "text": [
      "Multiple Comparison of Means - Tukey HSD, FWER=0.05 \n",
      "====================================================\n",
      "group1 group2 meandiff p-adj   lower   upper  reject\n",
      "----------------------------------------------------\n",
      "     0      1  -1.5233 0.0085   -2.76 -0.2865   True\n",
      "     0      2   -3.103    0.0 -4.2146 -1.9913   True\n",
      "     0      3  -4.1291   -0.0 -5.2399 -3.0184   True\n",
      "     1      2  -1.5797   -0.0  -2.133 -1.0264   True\n",
      "     1      3  -2.6059   -0.0 -3.1573 -2.0544   True\n",
      "     2      3  -1.0262   -0.0 -1.1278 -0.9245   True\n",
      "----------------------------------------------------\n"
     ]
    }
   ],
   "source": [
    "postHoc = MultiComparison(youtube1['VideoViewsLOG'], youtube1['Gr2de'])\n",
    "postHocResults = postHoc.tukeyhsd()\n",
    "print(postHocResults)"
   ]
  },
  {
   "cell_type": "markdown",
   "id": "64434ae2",
   "metadata": {},
   "source": [
    "This output provides the mean difference in variables, plus the confidence interval (`lower` and `upper` columns), and whether or not you can reject the null hypothesis.\n",
    "\n",
    "If the value in the `reject` column is `True`, then this means there was a significant difference in the means between those groups."
   ]
  },
  {
   "cell_type": "markdown",
   "id": "7a09cec7",
   "metadata": {},
   "source": [
    "___\n",
    "## Determine Means and Draw Conclusions\n",
    "Examine the means to determine what the difference is between variables."
   ]
  },
  {
   "cell_type": "code",
   "execution_count": 21,
   "id": "3f83f5da",
   "metadata": {},
   "outputs": [
    {
     "data": {
      "text/html": [
       "<div>\n",
       "<style scoped>\n",
       "    .dataframe tbody tr th:only-of-type {\n",
       "        vertical-align: middle;\n",
       "    }\n",
       "\n",
       "    .dataframe tbody tr th {\n",
       "        vertical-align: top;\n",
       "    }\n",
       "\n",
       "    .dataframe thead th {\n",
       "        text-align: right;\n",
       "    }\n",
       "</style>\n",
       "<table border=\"1\" class=\"dataframe\">\n",
       "  <thead>\n",
       "    <tr style=\"text-align: right;\">\n",
       "      <th></th>\n",
       "      <th>Gr2de</th>\n",
       "      <th>Video views</th>\n",
       "      <th>VideoViewsSQRT</th>\n",
       "      <th>VideoViewsLOG</th>\n",
       "    </tr>\n",
       "    <tr>\n",
       "      <th>Gr2deR</th>\n",
       "      <th></th>\n",
       "      <th></th>\n",
       "      <th></th>\n",
       "      <th></th>\n",
       "    </tr>\n",
       "  </thead>\n",
       "  <tbody>\n",
       "    <tr>\n",
       "      <th>A</th>\n",
       "      <td>2.0</td>\n",
       "      <td>1.676207e+09</td>\n",
       "      <td>34678.089608</td>\n",
       "      <td>20.475580</td>\n",
       "    </tr>\n",
       "    <tr>\n",
       "      <th>A+</th>\n",
       "      <td>1.0</td>\n",
       "      <td>6.053121e+09</td>\n",
       "      <td>70951.341638</td>\n",
       "      <td>22.055279</td>\n",
       "    </tr>\n",
       "    <tr>\n",
       "      <th>A++</th>\n",
       "      <td>0.0</td>\n",
       "      <td>2.119909e+10</td>\n",
       "      <td>139631.341341</td>\n",
       "      <td>23.578544</td>\n",
       "    </tr>\n",
       "    <tr>\n",
       "      <th>B+</th>\n",
       "      <td>3.0</td>\n",
       "      <td>5.265217e+08</td>\n",
       "      <td>19943.101566</td>\n",
       "      <td>19.449400</td>\n",
       "    </tr>\n",
       "  </tbody>\n",
       "</table>\n",
       "</div>"
      ],
      "text/plain": [
       "        Gr2de   Video views  VideoViewsSQRT  VideoViewsLOG\n",
       "Gr2deR                                                    \n",
       "A         2.0  1.676207e+09    34678.089608      20.475580\n",
       "A+        1.0  6.053121e+09    70951.341638      22.055279\n",
       "A++       0.0  2.119909e+10   139631.341341      23.578544\n",
       "B+        3.0  5.265217e+08    19943.101566      19.449400"
      ]
     },
     "execution_count": 21,
     "metadata": {},
     "output_type": "execute_result"
    }
   ],
   "source": [
    "youtube1.groupby('Gr2deR').mean()"
   ]
  },
  {
   "cell_type": "markdown",
   "id": "2903464b",
   "metadata": {},
   "source": [
    "<div class=\"alert alert-block alert-info\">\n",
    "<h1>Conclusion:</h1><br>\n",
    "The number of views for each `Gr2de` level varies significantly, with higher grades receiving more views and lower grades receiving fewer views.</div>"
   ]
  }
 ],
 "metadata": {
  "kernelspec": {
   "display_name": "Python 3 (ipykernel)",
   "language": "python",
   "name": "python3"
  },
  "language_info": {
   "codemirror_mode": {
    "name": "ipython",
    "version": 3
   },
   "file_extension": ".py",
   "mimetype": "text/x-python",
   "name": "python",
   "nbconvert_exporter": "python",
   "pygments_lexer": "ipython3",
   "version": "3.9.12"
  }
 },
 "nbformat": 4,
 "nbformat_minor": 5
}
