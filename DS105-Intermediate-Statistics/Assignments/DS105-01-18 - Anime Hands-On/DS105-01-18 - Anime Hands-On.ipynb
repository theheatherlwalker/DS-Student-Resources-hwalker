{
 "cells": [
  {
   "cell_type": "markdown",
   "id": "51a59621",
   "metadata": {},
   "source": [
    "# DS105-01-18 - Anime Hands-On"
   ]
  },
  {
   "cell_type": "markdown",
   "id": "86b6067c",
   "metadata": {},
   "source": [
    "## Acitivy Instructions\n",
    "> Using the `anime dataset`, perform the appropriate analyses and answer the following questions in your Python file.\n",
    "> 1. Is a Rating Score of 6.2 Different from the Mean in this Dataset?\n",
    "> 2. Does Anime that is Still Airing Differ in Popularity from Anime that is No Longer Airing?\n",
    "> 3. Does the Source of the Anime Influence the Type of Anime?\n",
    "> 4. How do the Variables about Popularity / Ranking Relate to Each Other?"
   ]
  },
  {
   "cell_type": "markdown",
   "id": "3768ed8c",
   "metadata": {},
   "source": [
    "### Import Packages"
   ]
  },
  {
   "cell_type": "code",
   "execution_count": 1,
   "id": "4cbc1410",
   "metadata": {},
   "outputs": [],
   "source": [
    "import pandas as pd\n",
    "import numpy as np\n",
    "from scipy.stats import norm\n",
    "from scipy import stats\n",
    "from scipy.stats import ttest_ind\n",
    "import matplotlib.pyplot as plt\n",
    "import seaborn as sns"
   ]
  },
  {
   "cell_type": "markdown",
   "id": "ea61795d",
   "metadata": {},
   "source": [
    "### Load Data"
   ]
  },
  {
   "cell_type": "code",
   "execution_count": 2,
   "id": "c77a33ed",
   "metadata": {},
   "outputs": [],
   "source": [
    "anime = pd.read_csv('./assets/anime.csv')"
   ]
  },
  {
   "cell_type": "code",
   "execution_count": 3,
   "id": "e6cb2983",
   "metadata": {
    "scrolled": false
   },
   "outputs": [
    {
     "data": {
      "text/html": [
       "<div>\n",
       "<style scoped>\n",
       "    .dataframe tbody tr th:only-of-type {\n",
       "        vertical-align: middle;\n",
       "    }\n",
       "\n",
       "    .dataframe tbody tr th {\n",
       "        vertical-align: top;\n",
       "    }\n",
       "\n",
       "    .dataframe thead th {\n",
       "        text-align: right;\n",
       "    }\n",
       "</style>\n",
       "<table border=\"1\" class=\"dataframe\">\n",
       "  <thead>\n",
       "    <tr style=\"text-align: right;\">\n",
       "      <th></th>\n",
       "      <th>anime_id</th>\n",
       "      <th>title</th>\n",
       "      <th>title_english</th>\n",
       "      <th>title_japanese</th>\n",
       "      <th>title_synonyms</th>\n",
       "      <th>image_url</th>\n",
       "      <th>type</th>\n",
       "      <th>source</th>\n",
       "      <th>episodes</th>\n",
       "      <th>status</th>\n",
       "      <th>...</th>\n",
       "      <th>broadcast</th>\n",
       "      <th>related</th>\n",
       "      <th>producer</th>\n",
       "      <th>licensor</th>\n",
       "      <th>studio</th>\n",
       "      <th>genre</th>\n",
       "      <th>opening_theme</th>\n",
       "      <th>ending_theme</th>\n",
       "      <th>duration_min</th>\n",
       "      <th>aired_from_year</th>\n",
       "    </tr>\n",
       "  </thead>\n",
       "  <tbody>\n",
       "    <tr>\n",
       "      <th>0</th>\n",
       "      <td>11013</td>\n",
       "      <td>Inu x Boku SS</td>\n",
       "      <td>Inu X Boku Secret Service</td>\n",
       "      <td>妖狐×僕SS</td>\n",
       "      <td>Youko x Boku SS</td>\n",
       "      <td>https://myanimelist.cdn-dena.com/images/anime/...</td>\n",
       "      <td>TV</td>\n",
       "      <td>Manga</td>\n",
       "      <td>12</td>\n",
       "      <td>Finished Airing</td>\n",
       "      <td>...</td>\n",
       "      <td>Fridays at Unknown</td>\n",
       "      <td>{'Adaptation': [{'mal_id': 17207, 'type': 'man...</td>\n",
       "      <td>Aniplex, Square Enix, Mainichi Broadcasting Sy...</td>\n",
       "      <td>Sentai Filmworks</td>\n",
       "      <td>David Production</td>\n",
       "      <td>Comedy, Supernatural, Romance, Shounen</td>\n",
       "      <td>['\"Nirvana\" by MUCC']</td>\n",
       "      <td>['#1: \"Nirvana\" by MUCC (eps 1, 11-12)', '#2: ...</td>\n",
       "      <td>24.0</td>\n",
       "      <td>2012</td>\n",
       "    </tr>\n",
       "    <tr>\n",
       "      <th>1</th>\n",
       "      <td>2104</td>\n",
       "      <td>Seto no Hanayome</td>\n",
       "      <td>My Bride is a Mermaid</td>\n",
       "      <td>瀬戸の花嫁</td>\n",
       "      <td>The Inland Sea Bride</td>\n",
       "      <td>https://myanimelist.cdn-dena.com/images/anime/...</td>\n",
       "      <td>TV</td>\n",
       "      <td>Manga</td>\n",
       "      <td>26</td>\n",
       "      <td>Finished Airing</td>\n",
       "      <td>...</td>\n",
       "      <td>Unknown</td>\n",
       "      <td>{'Adaptation': [{'mal_id': 759, 'type': 'manga...</td>\n",
       "      <td>TV Tokyo, AIC, Square Enix, Sotsu</td>\n",
       "      <td>Funimation</td>\n",
       "      <td>Gonzo</td>\n",
       "      <td>Comedy, Parody, Romance, School, Shounen</td>\n",
       "      <td>['\"Romantic summer\" by SUN&amp;LUNAR']</td>\n",
       "      <td>['#1: \"Ashita e no Hikari (明日への光)\" by Asuka Hi...</td>\n",
       "      <td>24.0</td>\n",
       "      <td>2007</td>\n",
       "    </tr>\n",
       "    <tr>\n",
       "      <th>2</th>\n",
       "      <td>5262</td>\n",
       "      <td>Shugo Chara!! Doki</td>\n",
       "      <td>Shugo Chara!! Doki</td>\n",
       "      <td>しゅごキャラ！！どきっ</td>\n",
       "      <td>Shugo Chara Ninenme, Shugo Chara! Second Year</td>\n",
       "      <td>https://myanimelist.cdn-dena.com/images/anime/...</td>\n",
       "      <td>TV</td>\n",
       "      <td>Manga</td>\n",
       "      <td>51</td>\n",
       "      <td>Finished Airing</td>\n",
       "      <td>...</td>\n",
       "      <td>Unknown</td>\n",
       "      <td>{'Adaptation': [{'mal_id': 101, 'type': 'manga...</td>\n",
       "      <td>TV Tokyo, Sotsu</td>\n",
       "      <td>NaN</td>\n",
       "      <td>Satelight</td>\n",
       "      <td>Comedy, Magic, School, Shoujo</td>\n",
       "      <td>['#1: \"Minna no Tamago (みんなのたまご)\" by Shugo Cha...</td>\n",
       "      <td>['#1: \"Rottara Rottara (ロッタラ ロッタラ)\" by Buono! ...</td>\n",
       "      <td>24.0</td>\n",
       "      <td>2008</td>\n",
       "    </tr>\n",
       "    <tr>\n",
       "      <th>3</th>\n",
       "      <td>721</td>\n",
       "      <td>Princess Tutu</td>\n",
       "      <td>Princess Tutu</td>\n",
       "      <td>プリンセスチュチュ</td>\n",
       "      <td>NaN</td>\n",
       "      <td>https://myanimelist.cdn-dena.com/images/anime/...</td>\n",
       "      <td>TV</td>\n",
       "      <td>Original</td>\n",
       "      <td>38</td>\n",
       "      <td>Finished Airing</td>\n",
       "      <td>...</td>\n",
       "      <td>Fridays at Unknown</td>\n",
       "      <td>{'Adaptation': [{'mal_id': 1581, 'type': 'mang...</td>\n",
       "      <td>Memory-Tech, GANSIS, Marvelous AQL</td>\n",
       "      <td>ADV Films</td>\n",
       "      <td>Hal Film Maker</td>\n",
       "      <td>Comedy, Drama, Magic, Romance, Fantasy</td>\n",
       "      <td>['\"Morning Grace\" by Ritsuko Okazaki']</td>\n",
       "      <td>['\"Watashi No Ai Wa Chiisaikeredo\" by Ritsuko ...</td>\n",
       "      <td>16.0</td>\n",
       "      <td>2002</td>\n",
       "    </tr>\n",
       "    <tr>\n",
       "      <th>4</th>\n",
       "      <td>12365</td>\n",
       "      <td>Bakuman. 3rd Season</td>\n",
       "      <td>Bakuman.</td>\n",
       "      <td>バクマン。</td>\n",
       "      <td>Bakuman Season 3</td>\n",
       "      <td>https://myanimelist.cdn-dena.com/images/anime/...</td>\n",
       "      <td>TV</td>\n",
       "      <td>Manga</td>\n",
       "      <td>25</td>\n",
       "      <td>Finished Airing</td>\n",
       "      <td>...</td>\n",
       "      <td>Unknown</td>\n",
       "      <td>{'Adaptation': [{'mal_id': 9711, 'type': 'mang...</td>\n",
       "      <td>NHK, Shueisha</td>\n",
       "      <td>NaN</td>\n",
       "      <td>J.C.Staff</td>\n",
       "      <td>Comedy, Drama, Romance, Shounen</td>\n",
       "      <td>['#1: \"Moshimo no Hanashi (もしもの話)\" by nano.RIP...</td>\n",
       "      <td>['#1: \"Pride on Everyday\" by Sphere (eps 1-13)...</td>\n",
       "      <td>24.0</td>\n",
       "      <td>2012</td>\n",
       "    </tr>\n",
       "  </tbody>\n",
       "</table>\n",
       "<p>5 rows × 33 columns</p>\n",
       "</div>"
      ],
      "text/plain": [
       "   anime_id                title              title_english title_japanese  \\\n",
       "0     11013        Inu x Boku SS  Inu X Boku Secret Service         妖狐×僕SS   \n",
       "1      2104     Seto no Hanayome      My Bride is a Mermaid          瀬戸の花嫁   \n",
       "2      5262   Shugo Chara!! Doki         Shugo Chara!! Doki    しゅごキャラ！！どきっ   \n",
       "3       721        Princess Tutu              Princess Tutu      プリンセスチュチュ   \n",
       "4     12365  Bakuman. 3rd Season                   Bakuman.          バクマン。   \n",
       "\n",
       "                                  title_synonyms  \\\n",
       "0                                Youko x Boku SS   \n",
       "1                           The Inland Sea Bride   \n",
       "2  Shugo Chara Ninenme, Shugo Chara! Second Year   \n",
       "3                                            NaN   \n",
       "4                               Bakuman Season 3   \n",
       "\n",
       "                                           image_url type    source  episodes  \\\n",
       "0  https://myanimelist.cdn-dena.com/images/anime/...   TV     Manga        12   \n",
       "1  https://myanimelist.cdn-dena.com/images/anime/...   TV     Manga        26   \n",
       "2  https://myanimelist.cdn-dena.com/images/anime/...   TV     Manga        51   \n",
       "3  https://myanimelist.cdn-dena.com/images/anime/...   TV  Original        38   \n",
       "4  https://myanimelist.cdn-dena.com/images/anime/...   TV     Manga        25   \n",
       "\n",
       "            status  ...           broadcast  \\\n",
       "0  Finished Airing  ...  Fridays at Unknown   \n",
       "1  Finished Airing  ...             Unknown   \n",
       "2  Finished Airing  ...             Unknown   \n",
       "3  Finished Airing  ...  Fridays at Unknown   \n",
       "4  Finished Airing  ...             Unknown   \n",
       "\n",
       "                                             related  \\\n",
       "0  {'Adaptation': [{'mal_id': 17207, 'type': 'man...   \n",
       "1  {'Adaptation': [{'mal_id': 759, 'type': 'manga...   \n",
       "2  {'Adaptation': [{'mal_id': 101, 'type': 'manga...   \n",
       "3  {'Adaptation': [{'mal_id': 1581, 'type': 'mang...   \n",
       "4  {'Adaptation': [{'mal_id': 9711, 'type': 'mang...   \n",
       "\n",
       "                                            producer          licensor  \\\n",
       "0  Aniplex, Square Enix, Mainichi Broadcasting Sy...  Sentai Filmworks   \n",
       "1                  TV Tokyo, AIC, Square Enix, Sotsu        Funimation   \n",
       "2                                    TV Tokyo, Sotsu               NaN   \n",
       "3                 Memory-Tech, GANSIS, Marvelous AQL         ADV Films   \n",
       "4                                      NHK, Shueisha               NaN   \n",
       "\n",
       "             studio                                     genre  \\\n",
       "0  David Production    Comedy, Supernatural, Romance, Shounen   \n",
       "1             Gonzo  Comedy, Parody, Romance, School, Shounen   \n",
       "2         Satelight             Comedy, Magic, School, Shoujo   \n",
       "3    Hal Film Maker    Comedy, Drama, Magic, Romance, Fantasy   \n",
       "4         J.C.Staff           Comedy, Drama, Romance, Shounen   \n",
       "\n",
       "                                       opening_theme  \\\n",
       "0                              ['\"Nirvana\" by MUCC']   \n",
       "1                 ['\"Romantic summer\" by SUN&LUNAR']   \n",
       "2  ['#1: \"Minna no Tamago (みんなのたまご)\" by Shugo Cha...   \n",
       "3             ['\"Morning Grace\" by Ritsuko Okazaki']   \n",
       "4  ['#1: \"Moshimo no Hanashi (もしもの話)\" by nano.RIP...   \n",
       "\n",
       "                                        ending_theme  duration_min  \\\n",
       "0  ['#1: \"Nirvana\" by MUCC (eps 1, 11-12)', '#2: ...          24.0   \n",
       "1  ['#1: \"Ashita e no Hikari (明日への光)\" by Asuka Hi...          24.0   \n",
       "2  ['#1: \"Rottara Rottara (ロッタラ ロッタラ)\" by Buono! ...          24.0   \n",
       "3  ['\"Watashi No Ai Wa Chiisaikeredo\" by Ritsuko ...          16.0   \n",
       "4  ['#1: \"Pride on Everyday\" by Sphere (eps 1-13)...          24.0   \n",
       "\n",
       "   aired_from_year  \n",
       "0             2012  \n",
       "1             2007  \n",
       "2             2008  \n",
       "3             2002  \n",
       "4             2012  \n",
       "\n",
       "[5 rows x 33 columns]"
      ]
     },
     "execution_count": 3,
     "metadata": {},
     "output_type": "execute_result"
    }
   ],
   "source": [
    "anime.head()"
   ]
  },
  {
   "cell_type": "markdown",
   "id": "2598ec9f",
   "metadata": {},
   "source": [
    "---\n",
    "## 1. Is a Rating Score of 6.2 Different from the Mean in this Dataset?\n",
    "Use the variable `score`."
   ]
  },
  {
   "cell_type": "markdown",
   "id": "45c0e9f7",
   "metadata": {},
   "source": [
    "### Test Assumptions"
   ]
  },
  {
   "cell_type": "code",
   "execution_count": 4,
   "id": "d21f433f",
   "metadata": {},
   "outputs": [
    {
     "data": {
      "text/plain": [
       "<AxesSubplot:>"
      ]
     },
     "execution_count": 4,
     "metadata": {},
     "output_type": "execute_result"
    },
    {
     "data": {
      "image/png": "[encoded data removed]",
      "text/plain": [
       "<Figure size 432x288 with 1 Axes>"
      ]
     },
     "metadata": {
      "needs_background": "light"
     },
     "output_type": "display_data"
    }
   ],
   "source": [
    "anime['score'].hist()"
   ]
  },
  {
   "cell_type": "markdown",
   "id": "f3829b2d",
   "metadata": {},
   "source": [
    "### Run Analysis"
   ]
  },
  {
   "cell_type": "code",
   "execution_count": 5,
   "id": "ccf1e95d",
   "metadata": {},
   "outputs": [
    {
     "data": {
      "text/plain": [
       "Ttest_1sampResult(statistic=57.14153988539698, pvalue=0.0)"
      ]
     },
     "execution_count": 5,
     "metadata": {},
     "output_type": "execute_result"
    }
   ],
   "source": [
    "stats.ttest_1samp(anime['score'], 6.2)"
   ]
  },
  {
   "cell_type": "markdown",
   "id": "b8579371",
   "metadata": {},
   "source": [
    "- `p` value is the one associated with `t-test`\n",
    "- `p` value is *is significant* at <b>`p < .05`</b>\n",
    "\n",
    "    <mark>A 6.2 Rating Score *is significantly* different from the population mean.</mark>"
   ]
  },
  {
   "cell_type": "markdown",
   "id": "308691ec",
   "metadata": {},
   "source": [
    "#### Comparing 6.2 rating score to population mean:"
   ]
  },
  {
   "cell_type": "code",
   "execution_count": 6,
   "id": "970aa7b9",
   "metadata": {},
   "outputs": [
    {
     "data": {
      "text/plain": [
       "6.848998200359939"
      ]
     },
     "execution_count": 6,
     "metadata": {},
     "output_type": "execute_result"
    }
   ],
   "source": [
    "anime.score.mean()"
   ]
  },
  {
   "cell_type": "markdown",
   "id": "c5fdc042",
   "metadata": {},
   "source": [
    "<b>Rating score mean `6.848.. > 6.2` rating score</b>.\n",
    "\n",
    "<div class=\"alert alert-block alert-success\">\n",
    "    \n",
    "## 1. Conclusion:\n",
    "A Rating Score of 6.2 is <i>significantly lower</i> than the mean of this dataset. \n",
    "    </div>"
   ]
  },
  {
   "cell_type": "markdown",
   "id": "1ebdf864",
   "metadata": {},
   "source": [
    "---\n",
    "## 2. Does Anime that is Still Airing Differ in Popularity from Anime that is No Longer Airing?\n",
    "Use the variables `status` and `popularity`."
   ]
  },
  {
   "cell_type": "code",
   "execution_count": 7,
   "id": "e1dd68eb",
   "metadata": {},
   "outputs": [
    {
     "data": {
      "text/plain": [
       "array(['Finished Airing', 'Currently Airing'], dtype=object)"
      ]
     },
     "execution_count": 7,
     "metadata": {},
     "output_type": "execute_result"
    }
   ],
   "source": [
    "anime.status.unique()"
   ]
  },
  {
   "cell_type": "markdown",
   "id": "61a6133c",
   "metadata": {},
   "source": [
    "### Test Assumptions"
   ]
  },
  {
   "cell_type": "markdown",
   "id": "95a83d9e",
   "metadata": {},
   "source": [
    "<b>`status == 'Finished Airing'` for shows no longer on the air.</b>"
   ]
  },
  {
   "cell_type": "code",
   "execution_count": 8,
   "id": "28f1e65b",
   "metadata": {},
   "outputs": [
    {
     "data": {
      "text/plain": [
       "<AxesSubplot:>"
      ]
     },
     "execution_count": 8,
     "metadata": {},
     "output_type": "execute_result"
    },
    {
     "data": {
      "image/png": "[encoded data removed]",
      "text/plain": [
       "<Figure size 432x288 with 1 Axes>"
      ]
     },
     "metadata": {
      "needs_background": "light"
     },
     "output_type": "display_data"
    }
   ],
   "source": [
    "anime.popularity[anime.status == 'Finished Airing'].hist()"
   ]
  },
  {
   "cell_type": "markdown",
   "id": "1e25cf90",
   "metadata": {},
   "source": [
    "<b>`status == 'Currently Airing'` for shows still airing.</b>"
   ]
  },
  {
   "cell_type": "code",
   "execution_count": 9,
   "id": "35507f0e",
   "metadata": {},
   "outputs": [
    {
     "data": {
      "text/plain": [
       "<AxesSubplot:>"
      ]
     },
     "execution_count": 9,
     "metadata": {},
     "output_type": "execute_result"
    },
    {
     "data": {
      "image/png": "[encoded data removed]",
      "text/plain": [
       "<Figure size 432x288 with 1 Axes>"
      ]
     },
     "metadata": {
      "needs_background": "light"
     },
     "output_type": "display_data"
    }
   ],
   "source": [
    "anime.popularity[anime.status == 'Currently Airing'].hist()"
   ]
  },
  {
   "cell_type": "markdown",
   "id": "26a19c85",
   "metadata": {},
   "source": [
    "### Run Analysis"
   ]
  },
  {
   "cell_type": "markdown",
   "id": "bfa40cee",
   "metadata": {},
   "source": [
    "Use the function `ttest_ind()` to run an independent t test in Python."
   ]
  },
  {
   "cell_type": "code",
   "execution_count": 10,
   "id": "0ba4ef4b",
   "metadata": {},
   "outputs": [
    {
     "data": {
      "text/plain": [
       "Ttest_indResult(statistic=-6.489071311277514, pvalue=9.256789141747445e-11)"
      ]
     },
     "execution_count": 10,
     "metadata": {},
     "output_type": "execute_result"
    }
   ],
   "source": [
    "ttest_ind(anime.popularity[anime.status == 'Finished Airing'], anime.popularity[anime.status == 'Currently Airing'])"
   ]
  },
  {
   "cell_type": "markdown",
   "id": "0c098e49",
   "metadata": {},
   "source": [
    "- `p` value is the one associated with `t-test`\n",
    "- `p` value (note: is in scientific notation) is *is significant* at <b>`p < .05`</b>\n",
    "\n",
    "There is a <i>significant difference</i> between anime that is still airing vs. those that are no longer airing."
   ]
  },
  {
   "cell_type": "markdown",
   "id": "564aebf0",
   "metadata": {},
   "source": [
    "#### Comparing means to find where the significant differences are:"
   ]
  },
  {
   "cell_type": "code",
   "execution_count": 11,
   "id": "f4dcb767",
   "metadata": {},
   "outputs": [
    {
     "data": {
      "text/plain": [
       "4433.558057054742"
      ]
     },
     "execution_count": 11,
     "metadata": {},
     "output_type": "execute_result"
    }
   ],
   "source": [
    "anime.popularity[anime.status == 'Finished Airing'].mean()"
   ]
  },
  {
   "cell_type": "code",
   "execution_count": 12,
   "id": "0741ddd3",
   "metadata": {},
   "outputs": [
    {
     "data": {
      "text/plain": [
       "6108.131147540984"
      ]
     },
     "execution_count": 12,
     "metadata": {},
     "output_type": "execute_result"
    }
   ],
   "source": [
    "anime.popularity[anime.status == 'Currently Airing'].mean()"
   ]
  },
  {
   "cell_type": "markdown",
   "id": "62798136",
   "metadata": {},
   "source": [
    "\n",
    "<b>No longer airing mean `4433.558.. < 6108.1311..` Still airing mean</b>\n",
    "    \n",
    "<div class=\"alert alert-block alert-success\">\n",
    "    \n",
    "## 2. Conclusion:\n",
    "Anime that is still airing is <i>significantly more popular</i> than anime that is no longer airing.\n",
    "</div>"
   ]
  },
  {
   "cell_type": "markdown",
   "id": "fa6d5866",
   "metadata": {},
   "source": [
    "---\n",
    "## 3. Does the Source of the Anime Influence the Type of Anime?\n",
    "Use the variable `source`, recoded to have four levels:\n",
    "- Manga\n",
    "- Book\n",
    "- Game\n",
    "- Listening<br>\n",
    "\n",
    "And use the variable `type`."
   ]
  },
  {
   "cell_type": "code",
   "execution_count": 13,
   "id": "950f6866",
   "metadata": {},
   "outputs": [
    {
     "data": {
      "text/plain": [
       "array(['Manga', 'Original', 'Light novel', '4-koma manga', 'Novel',\n",
       "       'Visual novel', 'Other', 'Game', 'Picture book', 'Card game',\n",
       "       'Web manga', 'Book', 'Music', 'Radio', 'Digital manga'],\n",
       "      dtype=object)"
      ]
     },
     "execution_count": 13,
     "metadata": {},
     "output_type": "execute_result"
    }
   ],
   "source": [
    "anime.source.unique()"
   ]
  },
  {
   "cell_type": "code",
   "execution_count": 14,
   "id": "4b442156",
   "metadata": {},
   "outputs": [],
   "source": [
    "recode = {'Manga':'Manga',\n",
    "                'Original':'Manga',\n",
    "                'Light novel':'Book',\n",
    "                '4-koma manga':'Manga',\n",
    "                'Novel':'Book',\n",
    "                'Visual novel':'Game',\n",
    "                'Other':'Other',\n",
    "                'Game':'Game',\n",
    "                'Picture book':'Book',\n",
    "                'Card game':'Game',\n",
    "                'Web manga':'Manga',\n",
    "                'Book':'Book',\n",
    "                'Music':'Listening',\n",
    "                'Radio':'Listening',\n",
    "                'Digital manga':'Manga'}"
   ]
  },
  {
   "cell_type": "code",
   "execution_count": 15,
   "id": "8e022681",
   "metadata": {},
   "outputs": [
    {
     "data": {
      "text/html": [
       "<div>\n",
       "<style scoped>\n",
       "    .dataframe tbody tr th:only-of-type {\n",
       "        vertical-align: middle;\n",
       "    }\n",
       "\n",
       "    .dataframe tbody tr th {\n",
       "        vertical-align: top;\n",
       "    }\n",
       "\n",
       "    .dataframe thead th {\n",
       "        text-align: right;\n",
       "    }\n",
       "</style>\n",
       "<table border=\"1\" class=\"dataframe\">\n",
       "  <thead>\n",
       "    <tr style=\"text-align: right;\">\n",
       "      <th></th>\n",
       "      <th>anime_id</th>\n",
       "      <th>title</th>\n",
       "      <th>title_english</th>\n",
       "      <th>title_japanese</th>\n",
       "      <th>title_synonyms</th>\n",
       "      <th>image_url</th>\n",
       "      <th>type</th>\n",
       "      <th>source</th>\n",
       "      <th>episodes</th>\n",
       "      <th>status</th>\n",
       "      <th>...</th>\n",
       "      <th>related</th>\n",
       "      <th>producer</th>\n",
       "      <th>licensor</th>\n",
       "      <th>studio</th>\n",
       "      <th>genre</th>\n",
       "      <th>opening_theme</th>\n",
       "      <th>ending_theme</th>\n",
       "      <th>duration_min</th>\n",
       "      <th>aired_from_year</th>\n",
       "      <th>TEST</th>\n",
       "    </tr>\n",
       "  </thead>\n",
       "  <tbody>\n",
       "    <tr>\n",
       "      <th>0</th>\n",
       "      <td>11013</td>\n",
       "      <td>Inu x Boku SS</td>\n",
       "      <td>Inu X Boku Secret Service</td>\n",
       "      <td>妖狐×僕SS</td>\n",
       "      <td>Youko x Boku SS</td>\n",
       "      <td>https://myanimelist.cdn-dena.com/images/anime/...</td>\n",
       "      <td>TV</td>\n",
       "      <td>Manga</td>\n",
       "      <td>12</td>\n",
       "      <td>Finished Airing</td>\n",
       "      <td>...</td>\n",
       "      <td>{'Adaptation': [{'mal_id': 17207, 'type': 'man...</td>\n",
       "      <td>Aniplex, Square Enix, Mainichi Broadcasting Sy...</td>\n",
       "      <td>Sentai Filmworks</td>\n",
       "      <td>David Production</td>\n",
       "      <td>Comedy, Supernatural, Romance, Shounen</td>\n",
       "      <td>['\"Nirvana\" by MUCC']</td>\n",
       "      <td>['#1: \"Nirvana\" by MUCC (eps 1, 11-12)', '#2: ...</td>\n",
       "      <td>24.0</td>\n",
       "      <td>2012</td>\n",
       "      <td>Manga</td>\n",
       "    </tr>\n",
       "    <tr>\n",
       "      <th>1</th>\n",
       "      <td>2104</td>\n",
       "      <td>Seto no Hanayome</td>\n",
       "      <td>My Bride is a Mermaid</td>\n",
       "      <td>瀬戸の花嫁</td>\n",
       "      <td>The Inland Sea Bride</td>\n",
       "      <td>https://myanimelist.cdn-dena.com/images/anime/...</td>\n",
       "      <td>TV</td>\n",
       "      <td>Manga</td>\n",
       "      <td>26</td>\n",
       "      <td>Finished Airing</td>\n",
       "      <td>...</td>\n",
       "      <td>{'Adaptation': [{'mal_id': 759, 'type': 'manga...</td>\n",
       "      <td>TV Tokyo, AIC, Square Enix, Sotsu</td>\n",
       "      <td>Funimation</td>\n",
       "      <td>Gonzo</td>\n",
       "      <td>Comedy, Parody, Romance, School, Shounen</td>\n",
       "      <td>['\"Romantic summer\" by SUN&amp;LUNAR']</td>\n",
       "      <td>['#1: \"Ashita e no Hikari (明日への光)\" by Asuka Hi...</td>\n",
       "      <td>24.0</td>\n",
       "      <td>2007</td>\n",
       "      <td>Manga</td>\n",
       "    </tr>\n",
       "    <tr>\n",
       "      <th>2</th>\n",
       "      <td>5262</td>\n",
       "      <td>Shugo Chara!! Doki</td>\n",
       "      <td>Shugo Chara!! Doki</td>\n",
       "      <td>しゅごキャラ！！どきっ</td>\n",
       "      <td>Shugo Chara Ninenme, Shugo Chara! Second Year</td>\n",
       "      <td>https://myanimelist.cdn-dena.com/images/anime/...</td>\n",
       "      <td>TV</td>\n",
       "      <td>Manga</td>\n",
       "      <td>51</td>\n",
       "      <td>Finished Airing</td>\n",
       "      <td>...</td>\n",
       "      <td>{'Adaptation': [{'mal_id': 101, 'type': 'manga...</td>\n",
       "      <td>TV Tokyo, Sotsu</td>\n",
       "      <td>NaN</td>\n",
       "      <td>Satelight</td>\n",
       "      <td>Comedy, Magic, School, Shoujo</td>\n",
       "      <td>['#1: \"Minna no Tamago (みんなのたまご)\" by Shugo Cha...</td>\n",
       "      <td>['#1: \"Rottara Rottara (ロッタラ ロッタラ)\" by Buono! ...</td>\n",
       "      <td>24.0</td>\n",
       "      <td>2008</td>\n",
       "      <td>Manga</td>\n",
       "    </tr>\n",
       "    <tr>\n",
       "      <th>3</th>\n",
       "      <td>721</td>\n",
       "      <td>Princess Tutu</td>\n",
       "      <td>Princess Tutu</td>\n",
       "      <td>プリンセスチュチュ</td>\n",
       "      <td>NaN</td>\n",
       "      <td>https://myanimelist.cdn-dena.com/images/anime/...</td>\n",
       "      <td>TV</td>\n",
       "      <td>Original</td>\n",
       "      <td>38</td>\n",
       "      <td>Finished Airing</td>\n",
       "      <td>...</td>\n",
       "      <td>{'Adaptation': [{'mal_id': 1581, 'type': 'mang...</td>\n",
       "      <td>Memory-Tech, GANSIS, Marvelous AQL</td>\n",
       "      <td>ADV Films</td>\n",
       "      <td>Hal Film Maker</td>\n",
       "      <td>Comedy, Drama, Magic, Romance, Fantasy</td>\n",
       "      <td>['\"Morning Grace\" by Ritsuko Okazaki']</td>\n",
       "      <td>['\"Watashi No Ai Wa Chiisaikeredo\" by Ritsuko ...</td>\n",
       "      <td>16.0</td>\n",
       "      <td>2002</td>\n",
       "      <td>Manga</td>\n",
       "    </tr>\n",
       "    <tr>\n",
       "      <th>4</th>\n",
       "      <td>12365</td>\n",
       "      <td>Bakuman. 3rd Season</td>\n",
       "      <td>Bakuman.</td>\n",
       "      <td>バクマン。</td>\n",
       "      <td>Bakuman Season 3</td>\n",
       "      <td>https://myanimelist.cdn-dena.com/images/anime/...</td>\n",
       "      <td>TV</td>\n",
       "      <td>Manga</td>\n",
       "      <td>25</td>\n",
       "      <td>Finished Airing</td>\n",
       "      <td>...</td>\n",
       "      <td>{'Adaptation': [{'mal_id': 9711, 'type': 'mang...</td>\n",
       "      <td>NHK, Shueisha</td>\n",
       "      <td>NaN</td>\n",
       "      <td>J.C.Staff</td>\n",
       "      <td>Comedy, Drama, Romance, Shounen</td>\n",
       "      <td>['#1: \"Moshimo no Hanashi (もしもの話)\" by nano.RIP...</td>\n",
       "      <td>['#1: \"Pride on Everyday\" by Sphere (eps 1-13)...</td>\n",
       "      <td>24.0</td>\n",
       "      <td>2012</td>\n",
       "      <td>Manga</td>\n",
       "    </tr>\n",
       "    <tr>\n",
       "      <th>...</th>\n",
       "      <td>...</td>\n",
       "      <td>...</td>\n",
       "      <td>...</td>\n",
       "      <td>...</td>\n",
       "      <td>...</td>\n",
       "      <td>...</td>\n",
       "      <td>...</td>\n",
       "      <td>...</td>\n",
       "      <td>...</td>\n",
       "      <td>...</td>\n",
       "      <td>...</td>\n",
       "      <td>...</td>\n",
       "      <td>...</td>\n",
       "      <td>...</td>\n",
       "      <td>...</td>\n",
       "      <td>...</td>\n",
       "      <td>...</td>\n",
       "      <td>...</td>\n",
       "      <td>...</td>\n",
       "      <td>...</td>\n",
       "      <td>...</td>\n",
       "    </tr>\n",
       "    <tr>\n",
       "      <th>6663</th>\n",
       "      <td>37405</td>\n",
       "      <td>Dokidoki Little Ooyasan</td>\n",
       "      <td>NaN</td>\n",
       "      <td>dokidokiりとる大家さん</td>\n",
       "      <td>NaN</td>\n",
       "      <td>https://myanimelist.cdn-dena.com/images/anime/...</td>\n",
       "      <td>OVA</td>\n",
       "      <td>Other</td>\n",
       "      <td>0</td>\n",
       "      <td>Currently Airing</td>\n",
       "      <td>...</td>\n",
       "      <td>[]</td>\n",
       "      <td>NaN</td>\n",
       "      <td>NaN</td>\n",
       "      <td>Collaboration Works</td>\n",
       "      <td>Hentai</td>\n",
       "      <td>[]</td>\n",
       "      <td>[]</td>\n",
       "      <td>30.0</td>\n",
       "      <td>2018</td>\n",
       "      <td>Other</td>\n",
       "    </tr>\n",
       "    <tr>\n",
       "      <th>6664</th>\n",
       "      <td>37886</td>\n",
       "      <td>Wo Shi Jiang Xiaobai (2018)</td>\n",
       "      <td>I&amp;#039;m Joybo OVA</td>\n",
       "      <td>我是江小白 小剧场</td>\n",
       "      <td>Wo Shi Jiang Xiao Bai: Xiao Ju Chang</td>\n",
       "      <td>https://myanimelist.cdn-dena.com/images/anime/...</td>\n",
       "      <td>ONA</td>\n",
       "      <td>Original</td>\n",
       "      <td>1</td>\n",
       "      <td>Finished Airing</td>\n",
       "      <td>...</td>\n",
       "      <td>{'Prequel': [{'mal_id': 36775, 'type': 'anime'...</td>\n",
       "      <td>NaN</td>\n",
       "      <td>NaN</td>\n",
       "      <td>2:10 Animation</td>\n",
       "      <td>Slice of Life, Drama, Romance</td>\n",
       "      <td>[]</td>\n",
       "      <td>[]</td>\n",
       "      <td>0.0</td>\n",
       "      <td>2018</td>\n",
       "      <td>Manga</td>\n",
       "    </tr>\n",
       "    <tr>\n",
       "      <th>6665</th>\n",
       "      <td>37255</td>\n",
       "      <td>Genki Genki Non-tan: Obake Mura Meiro</td>\n",
       "      <td>NaN</td>\n",
       "      <td>げんきげんきノンタン　おばけむらめいろ</td>\n",
       "      <td>NaN</td>\n",
       "      <td>https://myanimelist.cdn-dena.com/images/anime/...</td>\n",
       "      <td>OVA</td>\n",
       "      <td>Original</td>\n",
       "      <td>1</td>\n",
       "      <td>Finished Airing</td>\n",
       "      <td>...</td>\n",
       "      <td>{'Prequel': [{'mal_id': 25619, 'type': 'anime'...</td>\n",
       "      <td>NaN</td>\n",
       "      <td>NaN</td>\n",
       "      <td>Polygon Pictures</td>\n",
       "      <td>Music, Kids</td>\n",
       "      <td>[]</td>\n",
       "      <td>[]</td>\n",
       "      <td>35.0</td>\n",
       "      <td>2015</td>\n",
       "      <td>Manga</td>\n",
       "    </tr>\n",
       "    <tr>\n",
       "      <th>6666</th>\n",
       "      <td>35229</td>\n",
       "      <td>Mr. Men Little Miss</td>\n",
       "      <td>Mr. Men Little Miss</td>\n",
       "      <td>Mr. Men Little Miss / ミスターメン リトルミス</td>\n",
       "      <td>NaN</td>\n",
       "      <td>https://myanimelist.cdn-dena.com/images/anime/...</td>\n",
       "      <td>ONA</td>\n",
       "      <td>Picture book</td>\n",
       "      <td>0</td>\n",
       "      <td>Currently Airing</td>\n",
       "      <td>...</td>\n",
       "      <td>[]</td>\n",
       "      <td>NaN</td>\n",
       "      <td>NaN</td>\n",
       "      <td>Sanrio</td>\n",
       "      <td>Kids</td>\n",
       "      <td>[]</td>\n",
       "      <td>[]</td>\n",
       "      <td>2.0</td>\n",
       "      <td>2013</td>\n",
       "      <td>Book</td>\n",
       "    </tr>\n",
       "    <tr>\n",
       "      <th>6667</th>\n",
       "      <td>36315</td>\n",
       "      <td>Mushi Mushi Mura no Nakama-tachi: Minna Ii Tok...</td>\n",
       "      <td>NaN</td>\n",
       "      <td>むしむし村の仲間たち　みんないいとこあるんだよ</td>\n",
       "      <td>NaN</td>\n",
       "      <td>https://myanimelist.cdn-dena.com/images/anime/...</td>\n",
       "      <td>OVA</td>\n",
       "      <td>Original</td>\n",
       "      <td>1</td>\n",
       "      <td>Finished Airing</td>\n",
       "      <td>...</td>\n",
       "      <td>{'Alternative version': [{'mal_id': 28549, 'ty...</td>\n",
       "      <td>NaN</td>\n",
       "      <td>NaN</td>\n",
       "      <td>Toei Animation</td>\n",
       "      <td>Kids</td>\n",
       "      <td>[]</td>\n",
       "      <td>[]</td>\n",
       "      <td>13.0</td>\n",
       "      <td>2017</td>\n",
       "      <td>Manga</td>\n",
       "    </tr>\n",
       "  </tbody>\n",
       "</table>\n",
       "<p>6668 rows × 34 columns</p>\n",
       "</div>"
      ],
      "text/plain": [
       "      anime_id                                              title  \\\n",
       "0        11013                                      Inu x Boku SS   \n",
       "1         2104                                   Seto no Hanayome   \n",
       "2         5262                                 Shugo Chara!! Doki   \n",
       "3          721                                      Princess Tutu   \n",
       "4        12365                                Bakuman. 3rd Season   \n",
       "...        ...                                                ...   \n",
       "6663     37405                            Dokidoki Little Ooyasan   \n",
       "6664     37886                        Wo Shi Jiang Xiaobai (2018)   \n",
       "6665     37255              Genki Genki Non-tan: Obake Mura Meiro   \n",
       "6666     35229                                Mr. Men Little Miss   \n",
       "6667     36315  Mushi Mushi Mura no Nakama-tachi: Minna Ii Tok...   \n",
       "\n",
       "                  title_english                      title_japanese  \\\n",
       "0     Inu X Boku Secret Service                              妖狐×僕SS   \n",
       "1         My Bride is a Mermaid                               瀬戸の花嫁   \n",
       "2            Shugo Chara!! Doki                         しゅごキャラ！！どきっ   \n",
       "3                 Princess Tutu                           プリンセスチュチュ   \n",
       "4                      Bakuman.                               バクマン。   \n",
       "...                         ...                                 ...   \n",
       "6663                        NaN                     dokidokiりとる大家さん   \n",
       "6664         I&#039;m Joybo OVA                           我是江小白 小剧场   \n",
       "6665                        NaN                 げんきげんきノンタン　おばけむらめいろ   \n",
       "6666        Mr. Men Little Miss  Mr. Men Little Miss / ミスターメン リトルミス   \n",
       "6667                        NaN             むしむし村の仲間たち　みんないいとこあるんだよ   \n",
       "\n",
       "                                     title_synonyms  \\\n",
       "0                                   Youko x Boku SS   \n",
       "1                              The Inland Sea Bride   \n",
       "2     Shugo Chara Ninenme, Shugo Chara! Second Year   \n",
       "3                                               NaN   \n",
       "4                                  Bakuman Season 3   \n",
       "...                                             ...   \n",
       "6663                                            NaN   \n",
       "6664           Wo Shi Jiang Xiao Bai: Xiao Ju Chang   \n",
       "6665                                            NaN   \n",
       "6666                                            NaN   \n",
       "6667                                            NaN   \n",
       "\n",
       "                                              image_url type        source  \\\n",
       "0     https://myanimelist.cdn-dena.com/images/anime/...   TV         Manga   \n",
       "1     https://myanimelist.cdn-dena.com/images/anime/...   TV         Manga   \n",
       "2     https://myanimelist.cdn-dena.com/images/anime/...   TV         Manga   \n",
       "3     https://myanimelist.cdn-dena.com/images/anime/...   TV      Original   \n",
       "4     https://myanimelist.cdn-dena.com/images/anime/...   TV         Manga   \n",
       "...                                                 ...  ...           ...   \n",
       "6663  https://myanimelist.cdn-dena.com/images/anime/...  OVA         Other   \n",
       "6664  https://myanimelist.cdn-dena.com/images/anime/...  ONA      Original   \n",
       "6665  https://myanimelist.cdn-dena.com/images/anime/...  OVA      Original   \n",
       "6666  https://myanimelist.cdn-dena.com/images/anime/...  ONA  Picture book   \n",
       "6667  https://myanimelist.cdn-dena.com/images/anime/...  OVA      Original   \n",
       "\n",
       "      episodes            status  ...  \\\n",
       "0           12   Finished Airing  ...   \n",
       "1           26   Finished Airing  ...   \n",
       "2           51   Finished Airing  ...   \n",
       "3           38   Finished Airing  ...   \n",
       "4           25   Finished Airing  ...   \n",
       "...        ...               ...  ...   \n",
       "6663         0  Currently Airing  ...   \n",
       "6664         1   Finished Airing  ...   \n",
       "6665         1   Finished Airing  ...   \n",
       "6666         0  Currently Airing  ...   \n",
       "6667         1   Finished Airing  ...   \n",
       "\n",
       "                                                related  \\\n",
       "0     {'Adaptation': [{'mal_id': 17207, 'type': 'man...   \n",
       "1     {'Adaptation': [{'mal_id': 759, 'type': 'manga...   \n",
       "2     {'Adaptation': [{'mal_id': 101, 'type': 'manga...   \n",
       "3     {'Adaptation': [{'mal_id': 1581, 'type': 'mang...   \n",
       "4     {'Adaptation': [{'mal_id': 9711, 'type': 'mang...   \n",
       "...                                                 ...   \n",
       "6663                                                 []   \n",
       "6664  {'Prequel': [{'mal_id': 36775, 'type': 'anime'...   \n",
       "6665  {'Prequel': [{'mal_id': 25619, 'type': 'anime'...   \n",
       "6666                                                 []   \n",
       "6667  {'Alternative version': [{'mal_id': 28549, 'ty...   \n",
       "\n",
       "                                               producer          licensor  \\\n",
       "0     Aniplex, Square Enix, Mainichi Broadcasting Sy...  Sentai Filmworks   \n",
       "1                     TV Tokyo, AIC, Square Enix, Sotsu        Funimation   \n",
       "2                                       TV Tokyo, Sotsu               NaN   \n",
       "3                    Memory-Tech, GANSIS, Marvelous AQL         ADV Films   \n",
       "4                                         NHK, Shueisha               NaN   \n",
       "...                                                 ...               ...   \n",
       "6663                                                NaN               NaN   \n",
       "6664                                                NaN               NaN   \n",
       "6665                                                NaN               NaN   \n",
       "6666                                                NaN               NaN   \n",
       "6667                                                NaN               NaN   \n",
       "\n",
       "                   studio                                     genre  \\\n",
       "0        David Production    Comedy, Supernatural, Romance, Shounen   \n",
       "1                   Gonzo  Comedy, Parody, Romance, School, Shounen   \n",
       "2               Satelight             Comedy, Magic, School, Shoujo   \n",
       "3          Hal Film Maker    Comedy, Drama, Magic, Romance, Fantasy   \n",
       "4               J.C.Staff           Comedy, Drama, Romance, Shounen   \n",
       "...                   ...                                       ...   \n",
       "6663  Collaboration Works                                    Hentai   \n",
       "6664       2:10 Animation             Slice of Life, Drama, Romance   \n",
       "6665     Polygon Pictures                               Music, Kids   \n",
       "6666               Sanrio                                      Kids   \n",
       "6667       Toei Animation                                      Kids   \n",
       "\n",
       "                                          opening_theme  \\\n",
       "0                                 ['\"Nirvana\" by MUCC']   \n",
       "1                    ['\"Romantic summer\" by SUN&LUNAR']   \n",
       "2     ['#1: \"Minna no Tamago (みんなのたまご)\" by Shugo Cha...   \n",
       "3                ['\"Morning Grace\" by Ritsuko Okazaki']   \n",
       "4     ['#1: \"Moshimo no Hanashi (もしもの話)\" by nano.RIP...   \n",
       "...                                                 ...   \n",
       "6663                                                 []   \n",
       "6664                                                 []   \n",
       "6665                                                 []   \n",
       "6666                                                 []   \n",
       "6667                                                 []   \n",
       "\n",
       "                                           ending_theme  duration_min  \\\n",
       "0     ['#1: \"Nirvana\" by MUCC (eps 1, 11-12)', '#2: ...          24.0   \n",
       "1     ['#1: \"Ashita e no Hikari (明日への光)\" by Asuka Hi...          24.0   \n",
       "2     ['#1: \"Rottara Rottara (ロッタラ ロッタラ)\" by Buono! ...          24.0   \n",
       "3     ['\"Watashi No Ai Wa Chiisaikeredo\" by Ritsuko ...          16.0   \n",
       "4     ['#1: \"Pride on Everyday\" by Sphere (eps 1-13)...          24.0   \n",
       "...                                                 ...           ...   \n",
       "6663                                                 []          30.0   \n",
       "6664                                                 []           0.0   \n",
       "6665                                                 []          35.0   \n",
       "6666                                                 []           2.0   \n",
       "6667                                                 []          13.0   \n",
       "\n",
       "      aired_from_year   TEST  \n",
       "0                2012  Manga  \n",
       "1                2007  Manga  \n",
       "2                2008  Manga  \n",
       "3                2002  Manga  \n",
       "4                2012  Manga  \n",
       "...               ...    ...  \n",
       "6663             2018  Other  \n",
       "6664             2018  Manga  \n",
       "6665             2015  Manga  \n",
       "6666             2013   Book  \n",
       "6667             2017  Manga  \n",
       "\n",
       "[6668 rows x 34 columns]"
      ]
     },
     "execution_count": 15,
     "metadata": {},
     "output_type": "execute_result"
    }
   ],
   "source": [
    "anime.assign(TEST = anime.source.map(recode))"
   ]
  },
  {
   "cell_type": "code",
   "execution_count": 16,
   "id": "91c11248",
   "metadata": {},
   "outputs": [],
   "source": [
    "anime1 = anime.assign(source = anime.source.map(recode))"
   ]
  },
  {
   "cell_type": "code",
   "execution_count": 17,
   "id": "116d1484",
   "metadata": {},
   "outputs": [
    {
     "data": {
      "text/plain": [
       "array(['Manga', 'Book', 'Game', 'Other', 'Listening'], dtype=object)"
      ]
     },
     "execution_count": 17,
     "metadata": {},
     "output_type": "execute_result"
    }
   ],
   "source": [
    "anime1.source.unique()"
   ]
  },
  {
   "cell_type": "code",
   "execution_count": 18,
   "id": "f1ea9c17",
   "metadata": {},
   "outputs": [],
   "source": [
    "# Drop `source` value of 'Other'\n",
    "anime2 = anime1[anime1.source != 'Other']"
   ]
  },
  {
   "cell_type": "code",
   "execution_count": 19,
   "id": "6e778d8a",
   "metadata": {},
   "outputs": [
    {
     "data": {
      "text/plain": [
       "array(['Manga', 'Book', 'Game', 'Listening'], dtype=object)"
      ]
     },
     "execution_count": 19,
     "metadata": {},
     "output_type": "execute_result"
    }
   ],
   "source": [
    "anime2.source.unique()"
   ]
  },
  {
   "cell_type": "markdown",
   "id": "b66de247",
   "metadata": {},
   "source": [
    "### Test Assumptions\n",
    "> 1. Create a contingency table\n",
    "> 2. Test for the assumption of 5 per cell in the expected contingency table\n",
    "> 3. Compute an independent Chi-Square"
   ]
  },
  {
   "cell_type": "markdown",
   "id": "d539c551",
   "metadata": {},
   "source": [
    "#### Create a Contingency Table (aka `crosstab`)"
   ]
  },
  {
   "cell_type": "markdown",
   "id": "f61f7468",
   "metadata": {},
   "source": [
    "Create a contingency table, sometimes called a crosstab, which shows how each level of each variable crosses with the other variable levels.<br>Use `pandas` function `crosstab()`:"
   ]
  },
  {
   "cell_type": "code",
   "execution_count": 20,
   "id": "bae7991b",
   "metadata": {},
   "outputs": [],
   "source": [
    "anime2_crosstab = pd.crosstab(anime2['source'], anime2['type'])"
   ]
  },
  {
   "cell_type": "code",
   "execution_count": 21,
   "id": "dd1c0377",
   "metadata": {},
   "outputs": [
    {
     "data": {
      "text/html": [
       "<div>\n",
       "<style scoped>\n",
       "    .dataframe tbody tr th:only-of-type {\n",
       "        vertical-align: middle;\n",
       "    }\n",
       "\n",
       "    .dataframe tbody tr th {\n",
       "        vertical-align: top;\n",
       "    }\n",
       "\n",
       "    .dataframe thead th {\n",
       "        text-align: right;\n",
       "    }\n",
       "</style>\n",
       "<table border=\"1\" class=\"dataframe\">\n",
       "  <thead>\n",
       "    <tr style=\"text-align: right;\">\n",
       "      <th>type</th>\n",
       "      <th>Movie</th>\n",
       "      <th>Music</th>\n",
       "      <th>ONA</th>\n",
       "      <th>OVA</th>\n",
       "      <th>Special</th>\n",
       "      <th>TV</th>\n",
       "    </tr>\n",
       "    <tr>\n",
       "      <th>source</th>\n",
       "      <th></th>\n",
       "      <th></th>\n",
       "      <th></th>\n",
       "      <th></th>\n",
       "      <th></th>\n",
       "      <th></th>\n",
       "    </tr>\n",
       "  </thead>\n",
       "  <tbody>\n",
       "    <tr>\n",
       "      <th>Book</th>\n",
       "      <td>149</td>\n",
       "      <td>2</td>\n",
       "      <td>50</td>\n",
       "      <td>120</td>\n",
       "      <td>131</td>\n",
       "      <td>440</td>\n",
       "    </tr>\n",
       "    <tr>\n",
       "      <th>Game</th>\n",
       "      <td>97</td>\n",
       "      <td>9</td>\n",
       "      <td>51</td>\n",
       "      <td>326</td>\n",
       "      <td>115</td>\n",
       "      <td>354</td>\n",
       "    </tr>\n",
       "    <tr>\n",
       "      <th>Listening</th>\n",
       "      <td>2</td>\n",
       "      <td>42</td>\n",
       "      <td>0</td>\n",
       "      <td>1</td>\n",
       "      <td>1</td>\n",
       "      <td>14</td>\n",
       "    </tr>\n",
       "    <tr>\n",
       "      <th>Manga</th>\n",
       "      <td>633</td>\n",
       "      <td>44</td>\n",
       "      <td>285</td>\n",
       "      <td>875</td>\n",
       "      <td>659</td>\n",
       "      <td>2098</td>\n",
       "    </tr>\n",
       "  </tbody>\n",
       "</table>\n",
       "</div>"
      ],
      "text/plain": [
       "type       Movie  Music  ONA  OVA  Special    TV\n",
       "source                                          \n",
       "Book         149      2   50  120      131   440\n",
       "Game          97      9   51  326      115   354\n",
       "Listening      2     42    0    1        1    14\n",
       "Manga        633     44  285  875      659  2098"
      ]
     },
     "execution_count": 21,
     "metadata": {},
     "output_type": "execute_result"
    }
   ],
   "source": [
    "anime2_crosstab"
   ]
  },
  {
   "cell_type": "markdown",
   "id": "5bafedbb",
   "metadata": {},
   "source": [
    "### Running the Independent Chi-Square"
   ]
  },
  {
   "cell_type": "markdown",
   "id": "d019b352",
   "metadata": {},
   "source": [
    "Once you have the contingency table, then you can run the function `stats.chi2_contingency` on the contingency table you have created:"
   ]
  },
  {
   "cell_type": "code",
   "execution_count": 22,
   "id": "54192acc",
   "metadata": {},
   "outputs": [
    {
     "data": {
      "text/plain": [
       "(2089.251727608622,\n",
       " 0.0,\n",
       " 15,\n",
       " array([[1.20937519e+02, 1.33154817e+01, 5.29873807e+01, 1.81474915e+02,\n",
       "         1.24369344e+02, 3.98915359e+02],\n",
       "        [1.29072330e+02, 1.42111419e+01, 5.65515543e+01, 1.93681748e+02,\n",
       "         1.32734995e+02, 4.25748230e+02],\n",
       "        [8.13481071e+00, 8.95660203e-01, 3.56417359e+00, 1.22068329e+01,\n",
       "         8.36565097e+00, 2.68328717e+01],\n",
       "        [6.22855340e+02, 6.85777162e+01, 2.72896891e+02, 9.34636504e+02,\n",
       "         6.40530009e+02, 2.05450354e+03]]))"
      ]
     },
     "execution_count": 22,
     "metadata": {},
     "output_type": "execute_result"
    }
   ],
   "source": [
    "stats.chi2_contingency(anime2_crosstab)"
   ]
  },
  {
   "cell_type": "markdown",
   "id": "b7407441",
   "metadata": {},
   "source": [
    "- <b>First value</b> is the Chi-Square statistic.\n",
    "- <b>Second value</b> is the `p` value is the one associated with the Chi-Square statistic.\n",
    "- `p` value *is significant* at <b>`p < .05.`</b>"
   ]
  },
  {
   "cell_type": "markdown",
   "id": "ce6e876f",
   "metadata": {},
   "source": [
    "<b>There is a <i>significant relationship</i> between anime source and type.</b>"
   ]
  },
  {
   "cell_type": "markdown",
   "id": "a2ab63a4",
   "metadata": {},
   "source": [
    "### Test the Assumption of 5 Cases per Expected Cell"
   ]
  },
  {
   "cell_type": "markdown",
   "id": "9863128c",
   "metadata": {},
   "source": [
    "- <b>`array`</b> is the expected count contingency table if there was <i>no relationship</i> between the two variables.\n",
    "\n",
    "<b>Assumption <i>has NOT been met</i> with expected counts per cell > 5.</b>\n",
    "\n",
    "<div class=\"alert alert-block alert-success\">\n",
    "    \n",
    "## 3. Conclusion:\n",
    "There is a <i>significant relationship</i> between anime source and type. <b>However, the assumption has NOT been met, so these results should be considered with consideration.</b> \n",
    "</div>"
   ]
  },
  {
   "cell_type": "markdown",
   "id": "00d0c38c",
   "metadata": {},
   "source": [
    "---\n",
    "## 4. How do the Variables about Popularity / Ranking Relate to Each Other?\n",
    "Use the following variables:\n",
    "- `score`\n",
    "- `scored_by`\n",
    "- `rank`\n",
    "- `popularity`\n",
    "- `members`\n",
    "- `favorites`"
   ]
  },
  {
   "cell_type": "code",
   "execution_count": 23,
   "id": "082dbfa1",
   "metadata": {},
   "outputs": [],
   "source": [
    "anime_correlation = anime[['score', 'scored_by', 'rank', 'popularity', 'members', 'favorites']]"
   ]
  },
  {
   "cell_type": "markdown",
   "id": "99e05bda",
   "metadata": {},
   "source": [
    "#### Confirm resulting dataframe:"
   ]
  },
  {
   "cell_type": "code",
   "execution_count": 24,
   "id": "9be3e353",
   "metadata": {},
   "outputs": [
    {
     "data": {
      "text/html": [
       "<div>\n",
       "<style scoped>\n",
       "    .dataframe tbody tr th:only-of-type {\n",
       "        vertical-align: middle;\n",
       "    }\n",
       "\n",
       "    .dataframe tbody tr th {\n",
       "        vertical-align: top;\n",
       "    }\n",
       "\n",
       "    .dataframe thead th {\n",
       "        text-align: right;\n",
       "    }\n",
       "</style>\n",
       "<table border=\"1\" class=\"dataframe\">\n",
       "  <thead>\n",
       "    <tr style=\"text-align: right;\">\n",
       "      <th></th>\n",
       "      <th>score</th>\n",
       "      <th>scored_by</th>\n",
       "      <th>rank</th>\n",
       "      <th>popularity</th>\n",
       "      <th>members</th>\n",
       "      <th>favorites</th>\n",
       "    </tr>\n",
       "  </thead>\n",
       "  <tbody>\n",
       "    <tr>\n",
       "      <th>0</th>\n",
       "      <td>7.63</td>\n",
       "      <td>139250</td>\n",
       "      <td>1274.0</td>\n",
       "      <td>231</td>\n",
       "      <td>283882</td>\n",
       "      <td>2809</td>\n",
       "    </tr>\n",
       "    <tr>\n",
       "      <th>1</th>\n",
       "      <td>7.89</td>\n",
       "      <td>91206</td>\n",
       "      <td>727.0</td>\n",
       "      <td>366</td>\n",
       "      <td>204003</td>\n",
       "      <td>2579</td>\n",
       "    </tr>\n",
       "    <tr>\n",
       "      <th>2</th>\n",
       "      <td>7.55</td>\n",
       "      <td>37129</td>\n",
       "      <td>1508.0</td>\n",
       "      <td>1173</td>\n",
       "      <td>70127</td>\n",
       "      <td>802</td>\n",
       "    </tr>\n",
       "    <tr>\n",
       "      <th>3</th>\n",
       "      <td>8.21</td>\n",
       "      <td>36501</td>\n",
       "      <td>307.0</td>\n",
       "      <td>916</td>\n",
       "      <td>93312</td>\n",
       "      <td>3344</td>\n",
       "    </tr>\n",
       "    <tr>\n",
       "      <th>4</th>\n",
       "      <td>8.67</td>\n",
       "      <td>107767</td>\n",
       "      <td>50.0</td>\n",
       "      <td>426</td>\n",
       "      <td>182765</td>\n",
       "      <td>2082</td>\n",
       "    </tr>\n",
       "    <tr>\n",
       "      <th>...</th>\n",
       "      <td>...</td>\n",
       "      <td>...</td>\n",
       "      <td>...</td>\n",
       "      <td>...</td>\n",
       "      <td>...</td>\n",
       "      <td>...</td>\n",
       "    </tr>\n",
       "    <tr>\n",
       "      <th>6663</th>\n",
       "      <td>9.52</td>\n",
       "      <td>33</td>\n",
       "      <td>NaN</td>\n",
       "      <td>10273</td>\n",
       "      <td>357</td>\n",
       "      <td>21</td>\n",
       "    </tr>\n",
       "    <tr>\n",
       "      <th>6664</th>\n",
       "      <td>0.00</td>\n",
       "      <td>0</td>\n",
       "      <td>12719.0</td>\n",
       "      <td>10168</td>\n",
       "      <td>384</td>\n",
       "      <td>1</td>\n",
       "    </tr>\n",
       "    <tr>\n",
       "      <th>6665</th>\n",
       "      <td>4.20</td>\n",
       "      <td>5</td>\n",
       "      <td>10253.0</td>\n",
       "      <td>14257</td>\n",
       "      <td>37</td>\n",
       "      <td>0</td>\n",
       "    </tr>\n",
       "    <tr>\n",
       "      <th>6666</th>\n",
       "      <td>4.57</td>\n",
       "      <td>7</td>\n",
       "      <td>11396.0</td>\n",
       "      <td>14066</td>\n",
       "      <td>49</td>\n",
       "      <td>1</td>\n",
       "    </tr>\n",
       "    <tr>\n",
       "      <th>6667</th>\n",
       "      <td>7.00</td>\n",
       "      <td>4</td>\n",
       "      <td>11396.0</td>\n",
       "      <td>14191</td>\n",
       "      <td>40</td>\n",
       "      <td>0</td>\n",
       "    </tr>\n",
       "  </tbody>\n",
       "</table>\n",
       "<p>6668 rows × 6 columns</p>\n",
       "</div>"
      ],
      "text/plain": [
       "      score  scored_by     rank  popularity  members  favorites\n",
       "0      7.63     139250   1274.0         231   283882       2809\n",
       "1      7.89      91206    727.0         366   204003       2579\n",
       "2      7.55      37129   1508.0        1173    70127        802\n",
       "3      8.21      36501    307.0         916    93312       3344\n",
       "4      8.67     107767     50.0         426   182765       2082\n",
       "...     ...        ...      ...         ...      ...        ...\n",
       "6663   9.52         33      NaN       10273      357         21\n",
       "6664   0.00          0  12719.0       10168      384          1\n",
       "6665   4.20          5  10253.0       14257       37          0\n",
       "6666   4.57          7  11396.0       14066       49          1\n",
       "6667   7.00          4  11396.0       14191       40          0\n",
       "\n",
       "[6668 rows x 6 columns]"
      ]
     },
     "execution_count": 24,
     "metadata": {},
     "output_type": "execute_result"
    }
   ],
   "source": [
    "anime_correlation"
   ]
  },
  {
   "cell_type": "markdown",
   "id": "3298fa93",
   "metadata": {},
   "source": [
    "### Using .corr() on An Entire Dataset"
   ]
  },
  {
   "cell_type": "markdown",
   "id": "09bc1e72",
   "metadata": {},
   "source": [
    "Call the `.corr()` function, and specify `method='kendall'` for ranked data: "
   ]
  },
  {
   "cell_type": "code",
   "execution_count": 25,
   "id": "eb034a95",
   "metadata": {},
   "outputs": [
    {
     "data": {
      "text/html": [
       "<div>\n",
       "<style scoped>\n",
       "    .dataframe tbody tr th:only-of-type {\n",
       "        vertical-align: middle;\n",
       "    }\n",
       "\n",
       "    .dataframe tbody tr th {\n",
       "        vertical-align: top;\n",
       "    }\n",
       "\n",
       "    .dataframe thead th {\n",
       "        text-align: right;\n",
       "    }\n",
       "</style>\n",
       "<table border=\"1\" class=\"dataframe\">\n",
       "  <thead>\n",
       "    <tr style=\"text-align: right;\">\n",
       "      <th></th>\n",
       "      <th>score</th>\n",
       "      <th>scored_by</th>\n",
       "      <th>rank</th>\n",
       "      <th>popularity</th>\n",
       "      <th>members</th>\n",
       "      <th>favorites</th>\n",
       "    </tr>\n",
       "  </thead>\n",
       "  <tbody>\n",
       "    <tr>\n",
       "      <th>score</th>\n",
       "      <td>1.000000</td>\n",
       "      <td>0.498718</td>\n",
       "      <td>-0.958416</td>\n",
       "      <td>-0.507061</td>\n",
       "      <td>0.506881</td>\n",
       "      <td>0.551956</td>\n",
       "    </tr>\n",
       "    <tr>\n",
       "      <th>scored_by</th>\n",
       "      <td>0.498718</td>\n",
       "      <td>1.000000</td>\n",
       "      <td>-0.532556</td>\n",
       "      <td>-0.909989</td>\n",
       "      <td>0.909734</td>\n",
       "      <td>0.745917</td>\n",
       "    </tr>\n",
       "    <tr>\n",
       "      <th>rank</th>\n",
       "      <td>-0.958416</td>\n",
       "      <td>-0.532556</td>\n",
       "      <td>1.000000</td>\n",
       "      <td>0.535174</td>\n",
       "      <td>-0.535214</td>\n",
       "      <td>-0.579001</td>\n",
       "    </tr>\n",
       "    <tr>\n",
       "      <th>popularity</th>\n",
       "      <td>-0.507061</td>\n",
       "      <td>-0.909989</td>\n",
       "      <td>0.535174</td>\n",
       "      <td>1.000000</td>\n",
       "      <td>-0.999499</td>\n",
       "      <td>-0.776561</td>\n",
       "    </tr>\n",
       "    <tr>\n",
       "      <th>members</th>\n",
       "      <td>0.506881</td>\n",
       "      <td>0.909734</td>\n",
       "      <td>-0.535214</td>\n",
       "      <td>-0.999499</td>\n",
       "      <td>1.000000</td>\n",
       "      <td>0.776534</td>\n",
       "    </tr>\n",
       "    <tr>\n",
       "      <th>favorites</th>\n",
       "      <td>0.551956</td>\n",
       "      <td>0.745917</td>\n",
       "      <td>-0.579001</td>\n",
       "      <td>-0.776561</td>\n",
       "      <td>0.776534</td>\n",
       "      <td>1.000000</td>\n",
       "    </tr>\n",
       "  </tbody>\n",
       "</table>\n",
       "</div>"
      ],
      "text/plain": [
       "               score  scored_by      rank  popularity   members  favorites\n",
       "score       1.000000   0.498718 -0.958416   -0.507061  0.506881   0.551956\n",
       "scored_by   0.498718   1.000000 -0.532556   -0.909989  0.909734   0.745917\n",
       "rank       -0.958416  -0.532556  1.000000    0.535174 -0.535214  -0.579001\n",
       "popularity -0.507061  -0.909989  0.535174    1.000000 -0.999499  -0.776561\n",
       "members     0.506881   0.909734 -0.535214   -0.999499  1.000000   0.776534\n",
       "favorites   0.551956   0.745917 -0.579001   -0.776561  0.776534   1.000000"
      ]
     },
     "execution_count": 25,
     "metadata": {},
     "output_type": "execute_result"
    }
   ],
   "source": [
    "anime_correlation.corr(method='kendall')"
   ]
  },
  {
   "cell_type": "markdown",
   "id": "a457c0da",
   "metadata": {},
   "source": [
    "<mark>Remember that you read only the top right or bottom left of this matrix; everything repeats after the diagonal row of ones.</mark>"
   ]
  },
  {
   "cell_type": "code",
   "execution_count": 26,
   "id": "b875d705",
   "metadata": {},
   "outputs": [
    {
     "data": {
      "text/html": [
       "<style type=\"text/css\">\n",
       "#T_5c6dc_row0_col0, #T_5c6dc_row1_col1, #T_5c6dc_row2_col2, #T_5c6dc_row3_col3, #T_5c6dc_row4_col4, #T_5c6dc_row5_col5 {\n",
       "  background-color: #b40426;\n",
       "  color: #f1f1f1;\n",
       "}\n",
       "#T_5c6dc_row0_col1 {\n",
       "  background-color: #f59c7d;\n",
       "  color: #000000;\n",
       "}\n",
       "#T_5c6dc_row0_col2, #T_5c6dc_row1_col3, #T_5c6dc_row2_col0, #T_5c6dc_row3_col4, #T_5c6dc_row4_col3, #T_5c6dc_row5_col3 {\n",
       "  background-color: #3b4cc0;\n",
       "  color: #f1f1f1;\n",
       "}\n",
       "#T_5c6dc_row0_col3, #T_5c6dc_row4_col2 {\n",
       "  background-color: #86a9fc;\n",
       "  color: #f1f1f1;\n",
       "}\n",
       "#T_5c6dc_row0_col4, #T_5c6dc_row5_col0 {\n",
       "  background-color: #f49a7b;\n",
       "  color: #000000;\n",
       "}\n",
       "#T_5c6dc_row0_col5 {\n",
       "  background-color: #f29072;\n",
       "  color: #f1f1f1;\n",
       "}\n",
       "#T_5c6dc_row1_col0 {\n",
       "  background-color: #f59f80;\n",
       "  color: #000000;\n",
       "}\n",
       "#T_5c6dc_row1_col2 {\n",
       "  background-color: #7a9df8;\n",
       "  color: #f1f1f1;\n",
       "}\n",
       "#T_5c6dc_row1_col4 {\n",
       "  background-color: #c53334;\n",
       "  color: #f1f1f1;\n",
       "}\n",
       "#T_5c6dc_row1_col5 {\n",
       "  background-color: #e0654f;\n",
       "  color: #f1f1f1;\n",
       "}\n",
       "#T_5c6dc_row2_col1, #T_5c6dc_row2_col4 {\n",
       "  background-color: #81a4fb;\n",
       "  color: #f1f1f1;\n",
       "}\n",
       "#T_5c6dc_row2_col3 {\n",
       "  background-color: #f39475;\n",
       "  color: #000000;\n",
       "}\n",
       "#T_5c6dc_row2_col5 {\n",
       "  background-color: #799cf8;\n",
       "  color: #f1f1f1;\n",
       "}\n",
       "#T_5c6dc_row3_col0 {\n",
       "  background-color: #8caffe;\n",
       "  color: #000000;\n",
       "}\n",
       "#T_5c6dc_row3_col1 {\n",
       "  background-color: #485fd1;\n",
       "  color: #f1f1f1;\n",
       "}\n",
       "#T_5c6dc_row3_col2 {\n",
       "  background-color: #f29274;\n",
       "  color: #f1f1f1;\n",
       "}\n",
       "#T_5c6dc_row3_col5, #T_5c6dc_row5_col2 {\n",
       "  background-color: #5d7ce6;\n",
       "  color: #f1f1f1;\n",
       "}\n",
       "#T_5c6dc_row4_col0 {\n",
       "  background-color: #f4987a;\n",
       "  color: #000000;\n",
       "}\n",
       "#T_5c6dc_row4_col1 {\n",
       "  background-color: #c43032;\n",
       "  color: #f1f1f1;\n",
       "}\n",
       "#T_5c6dc_row4_col5 {\n",
       "  background-color: #d95847;\n",
       "  color: #f1f1f1;\n",
       "}\n",
       "#T_5c6dc_row5_col1 {\n",
       "  background-color: #e26952;\n",
       "  color: #f1f1f1;\n",
       "}\n",
       "#T_5c6dc_row5_col4 {\n",
       "  background-color: #de614d;\n",
       "  color: #f1f1f1;\n",
       "}\n",
       "</style>\n",
       "<table id=\"T_5c6dc\">\n",
       "  <thead>\n",
       "    <tr>\n",
       "      <th class=\"blank level0\" >&nbsp;</th>\n",
       "      <th id=\"T_5c6dc_level0_col0\" class=\"col_heading level0 col0\" >score</th>\n",
       "      <th id=\"T_5c6dc_level0_col1\" class=\"col_heading level0 col1\" >scored_by</th>\n",
       "      <th id=\"T_5c6dc_level0_col2\" class=\"col_heading level0 col2\" >rank</th>\n",
       "      <th id=\"T_5c6dc_level0_col3\" class=\"col_heading level0 col3\" >popularity</th>\n",
       "      <th id=\"T_5c6dc_level0_col4\" class=\"col_heading level0 col4\" >members</th>\n",
       "      <th id=\"T_5c6dc_level0_col5\" class=\"col_heading level0 col5\" >favorites</th>\n",
       "    </tr>\n",
       "  </thead>\n",
       "  <tbody>\n",
       "    <tr>\n",
       "      <th id=\"T_5c6dc_level0_row0\" class=\"row_heading level0 row0\" >score</th>\n",
       "      <td id=\"T_5c6dc_row0_col0\" class=\"data row0 col0\" >1.0</td>\n",
       "      <td id=\"T_5c6dc_row0_col1\" class=\"data row0 col1\" >0.5</td>\n",
       "      <td id=\"T_5c6dc_row0_col2\" class=\"data row0 col2\" >-0.96</td>\n",
       "      <td id=\"T_5c6dc_row0_col3\" class=\"data row0 col3\" >-0.51</td>\n",
       "      <td id=\"T_5c6dc_row0_col4\" class=\"data row0 col4\" >0.51</td>\n",
       "      <td id=\"T_5c6dc_row0_col5\" class=\"data row0 col5\" >0.55</td>\n",
       "    </tr>\n",
       "    <tr>\n",
       "      <th id=\"T_5c6dc_level0_row1\" class=\"row_heading level0 row1\" >scored_by</th>\n",
       "      <td id=\"T_5c6dc_row1_col0\" class=\"data row1 col0\" >0.5</td>\n",
       "      <td id=\"T_5c6dc_row1_col1\" class=\"data row1 col1\" >1.0</td>\n",
       "      <td id=\"T_5c6dc_row1_col2\" class=\"data row1 col2\" >-0.53</td>\n",
       "      <td id=\"T_5c6dc_row1_col3\" class=\"data row1 col3\" >-0.91</td>\n",
       "      <td id=\"T_5c6dc_row1_col4\" class=\"data row1 col4\" >0.91</td>\n",
       "      <td id=\"T_5c6dc_row1_col5\" class=\"data row1 col5\" >0.75</td>\n",
       "    </tr>\n",
       "    <tr>\n",
       "      <th id=\"T_5c6dc_level0_row2\" class=\"row_heading level0 row2\" >rank</th>\n",
       "      <td id=\"T_5c6dc_row2_col0\" class=\"data row2 col0\" >-0.96</td>\n",
       "      <td id=\"T_5c6dc_row2_col1\" class=\"data row2 col1\" >-0.53</td>\n",
       "      <td id=\"T_5c6dc_row2_col2\" class=\"data row2 col2\" >1.0</td>\n",
       "      <td id=\"T_5c6dc_row2_col3\" class=\"data row2 col3\" >0.54</td>\n",
       "      <td id=\"T_5c6dc_row2_col4\" class=\"data row2 col4\" >-0.54</td>\n",
       "      <td id=\"T_5c6dc_row2_col5\" class=\"data row2 col5\" >-0.58</td>\n",
       "    </tr>\n",
       "    <tr>\n",
       "      <th id=\"T_5c6dc_level0_row3\" class=\"row_heading level0 row3\" >popularity</th>\n",
       "      <td id=\"T_5c6dc_row3_col0\" class=\"data row3 col0\" >-0.51</td>\n",
       "      <td id=\"T_5c6dc_row3_col1\" class=\"data row3 col1\" >-0.91</td>\n",
       "      <td id=\"T_5c6dc_row3_col2\" class=\"data row3 col2\" >0.54</td>\n",
       "      <td id=\"T_5c6dc_row3_col3\" class=\"data row3 col3\" >1.0</td>\n",
       "      <td id=\"T_5c6dc_row3_col4\" class=\"data row3 col4\" >-1.0</td>\n",
       "      <td id=\"T_5c6dc_row3_col5\" class=\"data row3 col5\" >-0.78</td>\n",
       "    </tr>\n",
       "    <tr>\n",
       "      <th id=\"T_5c6dc_level0_row4\" class=\"row_heading level0 row4\" >members</th>\n",
       "      <td id=\"T_5c6dc_row4_col0\" class=\"data row4 col0\" >0.51</td>\n",
       "      <td id=\"T_5c6dc_row4_col1\" class=\"data row4 col1\" >0.91</td>\n",
       "      <td id=\"T_5c6dc_row4_col2\" class=\"data row4 col2\" >-0.54</td>\n",
       "      <td id=\"T_5c6dc_row4_col3\" class=\"data row4 col3\" >-1.0</td>\n",
       "      <td id=\"T_5c6dc_row4_col4\" class=\"data row4 col4\" >1.0</td>\n",
       "      <td id=\"T_5c6dc_row4_col5\" class=\"data row4 col5\" >0.78</td>\n",
       "    </tr>\n",
       "    <tr>\n",
       "      <th id=\"T_5c6dc_level0_row5\" class=\"row_heading level0 row5\" >favorites</th>\n",
       "      <td id=\"T_5c6dc_row5_col0\" class=\"data row5 col0\" >0.55</td>\n",
       "      <td id=\"T_5c6dc_row5_col1\" class=\"data row5 col1\" >0.75</td>\n",
       "      <td id=\"T_5c6dc_row5_col2\" class=\"data row5 col2\" >-0.58</td>\n",
       "      <td id=\"T_5c6dc_row5_col3\" class=\"data row5 col3\" >-0.78</td>\n",
       "      <td id=\"T_5c6dc_row5_col4\" class=\"data row5 col4\" >0.78</td>\n",
       "      <td id=\"T_5c6dc_row5_col5\" class=\"data row5 col5\" >1.0</td>\n",
       "    </tr>\n",
       "  </tbody>\n",
       "</table>\n"
      ],
      "text/plain": [
       "<pandas.io.formats.style.Styler at 0x7fcb0b919c70>"
      ]
     },
     "execution_count": 26,
     "metadata": {},
     "output_type": "execute_result"
    }
   ],
   "source": [
    "anime_correlation.corr(method='kendall').style.format(\"{:.2}\").background_gradient(cmap=plt.get_cmap('coolwarm'), axis=1)"
   ]
  },
  {
   "cell_type": "markdown",
   "id": "524b5c3f",
   "metadata": {},
   "source": [
    "# `###`"
   ]
  }
 ],
 "metadata": {
  "kernelspec": {
   "display_name": "Python 3 (ipykernel)",
   "language": "python",
   "name": "python3"
  },
  "language_info": {
   "codemirror_mode": {
    "name": "ipython",
    "version": 3
   },
   "file_extension": ".py",
   "mimetype": "text/x-python",
   "name": "python",
   "nbconvert_exporter": "python",
   "pygments_lexer": "ipython3",
   "version": "3.9.12"
  }
 },
 "nbformat": 4,
 "nbformat_minor": 5
}
