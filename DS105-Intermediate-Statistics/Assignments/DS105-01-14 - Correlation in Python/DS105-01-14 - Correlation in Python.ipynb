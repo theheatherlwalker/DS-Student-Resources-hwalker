{
 "cells": [
  {
   "cell_type": "markdown",
   "id": "a4884013",
   "metadata": {},
   "source": [
    "<div class=\"alert alert-block alert-warning\">\n",
    "Correlations can be done on two continuous variables, to determine the relationship between them. A correlation can be between zero and one, and either positive or negative. The larger it is, the more closely related the two variables are.\n",
    "<br>\n",
    "<b>Requires:</b><br>\n",
    "    - 2 <i>continuous</i> variables<br>\n",
    "</div>"
   ]
  },
  {
   "cell_type": "markdown",
   "id": "e44190b9",
   "metadata": {},
   "source": [
    "## QUESTION:\n",
    "Is there a relationship between `number of passengers` and `number of cabins` on cruise ships?"
   ]
  },
  {
   "cell_type": "markdown",
   "id": "3768ed8c",
   "metadata": {},
   "source": [
    "## Import Packages"
   ]
  },
  {
   "cell_type": "code",
   "execution_count": 1,
   "id": "4cbc1410",
   "metadata": {},
   "outputs": [],
   "source": [
    "import pandas as pd\n",
    "import matplotlib.pyplot as plt\n",
    "import seaborn as sns"
   ]
  },
  {
   "cell_type": "markdown",
   "id": "ea61795d",
   "metadata": {},
   "source": [
    "## Load Data"
   ]
  },
  {
   "cell_type": "code",
   "execution_count": 2,
   "id": "c77a33ed",
   "metadata": {},
   "outputs": [],
   "source": [
    "cruise_ship = pd.read_excel('./assets/cruise_ship.xlsx')"
   ]
  },
  {
   "cell_type": "code",
   "execution_count": 3,
   "id": "e6cb2983",
   "metadata": {},
   "outputs": [
    {
     "data": {
      "text/html": [
       "<div>\n",
       "<style scoped>\n",
       "    .dataframe tbody tr th:only-of-type {\n",
       "        vertical-align: middle;\n",
       "    }\n",
       "\n",
       "    .dataframe tbody tr th {\n",
       "        vertical-align: top;\n",
       "    }\n",
       "\n",
       "    .dataframe thead th {\n",
       "        text-align: right;\n",
       "    }\n",
       "</style>\n",
       "<table border=\"1\" class=\"dataframe\">\n",
       "  <thead>\n",
       "    <tr style=\"text-align: right;\">\n",
       "      <th></th>\n",
       "      <th>Ship</th>\n",
       "      <th>Line</th>\n",
       "      <th>YearBlt</th>\n",
       "      <th>Tonnage</th>\n",
       "      <th>passngrs</th>\n",
       "      <th>Length</th>\n",
       "      <th>Cabins</th>\n",
       "      <th>Crew</th>\n",
       "      <th>PassSpcR</th>\n",
       "      <th>outcab</th>\n",
       "    </tr>\n",
       "  </thead>\n",
       "  <tbody>\n",
       "    <tr>\n",
       "      <th>0</th>\n",
       "      <td>Journey</td>\n",
       "      <td>Azamara</td>\n",
       "      <td>2007</td>\n",
       "      <td>30277</td>\n",
       "      <td>694</td>\n",
       "      <td>594</td>\n",
       "      <td>355</td>\n",
       "      <td>355</td>\n",
       "      <td>42.64</td>\n",
       "      <td>329</td>\n",
       "    </tr>\n",
       "    <tr>\n",
       "      <th>1</th>\n",
       "      <td>Quest</td>\n",
       "      <td>Azamara</td>\n",
       "      <td>2007</td>\n",
       "      <td>30277</td>\n",
       "      <td>694</td>\n",
       "      <td>594</td>\n",
       "      <td>355</td>\n",
       "      <td>355</td>\n",
       "      <td>42.64</td>\n",
       "      <td>329</td>\n",
       "    </tr>\n",
       "    <tr>\n",
       "      <th>2</th>\n",
       "      <td>Celebration</td>\n",
       "      <td>Carnival</td>\n",
       "      <td>1987</td>\n",
       "      <td>47262</td>\n",
       "      <td>1486</td>\n",
       "      <td>722</td>\n",
       "      <td>743</td>\n",
       "      <td>670</td>\n",
       "      <td>31.80</td>\n",
       "      <td>453</td>\n",
       "    </tr>\n",
       "    <tr>\n",
       "      <th>3</th>\n",
       "      <td>Conquest</td>\n",
       "      <td>Carnival</td>\n",
       "      <td>2002</td>\n",
       "      <td>110000</td>\n",
       "      <td>2974</td>\n",
       "      <td>953</td>\n",
       "      <td>1488</td>\n",
       "      <td>1910</td>\n",
       "      <td>36.99</td>\n",
       "      <td>892</td>\n",
       "    </tr>\n",
       "    <tr>\n",
       "      <th>4</th>\n",
       "      <td>Destiny</td>\n",
       "      <td>Carnival</td>\n",
       "      <td>1996</td>\n",
       "      <td>101353</td>\n",
       "      <td>2642</td>\n",
       "      <td>892</td>\n",
       "      <td>1321</td>\n",
       "      <td>1000</td>\n",
       "      <td>38.36</td>\n",
       "      <td>740</td>\n",
       "    </tr>\n",
       "  </tbody>\n",
       "</table>\n",
       "</div>"
      ],
      "text/plain": [
       "          Ship      Line  YearBlt  Tonnage  passngrs  Length  Cabins  Crew  \\\n",
       "0      Journey   Azamara     2007    30277       694     594     355   355   \n",
       "1        Quest   Azamara     2007    30277       694     594     355   355   \n",
       "2  Celebration  Carnival     1987    47262      1486     722     743   670   \n",
       "3     Conquest  Carnival     2002   110000      2974     953    1488  1910   \n",
       "4      Destiny  Carnival     1996   101353      2642     892    1321  1000   \n",
       "\n",
       "   PassSpcR  outcab  \n",
       "0     42.64     329  \n",
       "1     42.64     329  \n",
       "2     31.80     453  \n",
       "3     36.99     892  \n",
       "4     38.36     740  "
      ]
     },
     "execution_count": 3,
     "metadata": {},
     "output_type": "execute_result"
    }
   ],
   "source": [
    "cruise_ship.head()"
   ]
  },
  {
   "cell_type": "markdown",
   "id": "f12a0e3e",
   "metadata": {},
   "source": [
    "## Run One Correlation"
   ]
  },
  {
   "cell_type": "markdown",
   "id": "31a12dcf",
   "metadata": {},
   "source": [
    "Using the function `.corr()`, it's easy to run a correlation on a selected two variables. For instance, do you think that the number of passengers and the number of cabins on a cruise ship would relate to each other?"
   ]
  },
  {
   "cell_type": "code",
   "execution_count": 4,
   "id": "fd332293",
   "metadata": {},
   "outputs": [
    {
     "data": {
      "text/plain": [
       "0.976341367984594"
      ]
     },
     "execution_count": 4,
     "metadata": {},
     "output_type": "execute_result"
    }
   ],
   "source": [
    "cruise_ship['passngrs'].corr(cruise_ship['Cabins'])"
   ]
  },
  {
   "cell_type": "markdown",
   "id": "0f34534a",
   "metadata": {},
   "source": [
    "It should not come as a surprise to you that the number of passengers and the number of cabins are very related. .97 is about as strong as a correlation gets! This correlation is also positive, which means that as the number of passengers increase, so does the number of cabins, and vice versa."
   ]
  },
  {
   "cell_type": "markdown",
   "id": "6a0c35c3",
   "metadata": {},
   "source": [
    "## Create a Correlation Matrix"
   ]
  },
  {
   "cell_type": "markdown",
   "id": "da5c7e9a",
   "metadata": {},
   "source": [
    "Running one correlation can be nice, but sometimes you'd like to know how all your data relates to each other! In that case, call in the big guns, and go for a correlation matrix!"
   ]
  },
  {
   "cell_type": "markdown",
   "id": "58e96a8e",
   "metadata": {},
   "source": [
    "### Drop Non-Continuous Variables"
   ]
  },
  {
   "cell_type": "markdown",
   "id": "3bd823e2",
   "metadata": {},
   "source": [
    "When you are creating a correlation matrix, you are feeding the code your entire data set. But you can only run Pearson's correlations on continuous variables! So it's important to drop anything that is categorical or a string first.<br><br>\n",
    "As you'll recall, the `.drop()` function will remove any columns specified in the square brackets, and the `axis=1` arguments tells Python that these are the names of columns (not rows). So you are getting rid of the `Ship` and `Line` columns here."
   ]
  },
  {
   "cell_type": "code",
   "execution_count": 5,
   "id": "60bd52de",
   "metadata": {},
   "outputs": [],
   "source": [
    "cruise_ship1 = cruise_ship.drop(['Ship', 'Line'], axis=1)"
   ]
  },
  {
   "cell_type": "markdown",
   "id": "c2427adc",
   "metadata": {},
   "source": [
    "#### You can confirm that everything worked as expected:"
   ]
  },
  {
   "cell_type": "code",
   "execution_count": 6,
   "id": "4d529feb",
   "metadata": {},
   "outputs": [
    {
     "data": {
      "text/html": [
       "<div>\n",
       "<style scoped>\n",
       "    .dataframe tbody tr th:only-of-type {\n",
       "        vertical-align: middle;\n",
       "    }\n",
       "\n",
       "    .dataframe tbody tr th {\n",
       "        vertical-align: top;\n",
       "    }\n",
       "\n",
       "    .dataframe thead th {\n",
       "        text-align: right;\n",
       "    }\n",
       "</style>\n",
       "<table border=\"1\" class=\"dataframe\">\n",
       "  <thead>\n",
       "    <tr style=\"text-align: right;\">\n",
       "      <th></th>\n",
       "      <th>YearBlt</th>\n",
       "      <th>Tonnage</th>\n",
       "      <th>passngrs</th>\n",
       "      <th>Length</th>\n",
       "      <th>Cabins</th>\n",
       "      <th>Crew</th>\n",
       "      <th>PassSpcR</th>\n",
       "      <th>outcab</th>\n",
       "    </tr>\n",
       "  </thead>\n",
       "  <tbody>\n",
       "    <tr>\n",
       "      <th>0</th>\n",
       "      <td>2007</td>\n",
       "      <td>30277</td>\n",
       "      <td>694</td>\n",
       "      <td>594</td>\n",
       "      <td>355</td>\n",
       "      <td>355</td>\n",
       "      <td>42.64</td>\n",
       "      <td>329</td>\n",
       "    </tr>\n",
       "    <tr>\n",
       "      <th>1</th>\n",
       "      <td>2007</td>\n",
       "      <td>30277</td>\n",
       "      <td>694</td>\n",
       "      <td>594</td>\n",
       "      <td>355</td>\n",
       "      <td>355</td>\n",
       "      <td>42.64</td>\n",
       "      <td>329</td>\n",
       "    </tr>\n",
       "    <tr>\n",
       "      <th>2</th>\n",
       "      <td>1987</td>\n",
       "      <td>47262</td>\n",
       "      <td>1486</td>\n",
       "      <td>722</td>\n",
       "      <td>743</td>\n",
       "      <td>670</td>\n",
       "      <td>31.80</td>\n",
       "      <td>453</td>\n",
       "    </tr>\n",
       "    <tr>\n",
       "      <th>3</th>\n",
       "      <td>2002</td>\n",
       "      <td>110000</td>\n",
       "      <td>2974</td>\n",
       "      <td>953</td>\n",
       "      <td>1488</td>\n",
       "      <td>1910</td>\n",
       "      <td>36.99</td>\n",
       "      <td>892</td>\n",
       "    </tr>\n",
       "    <tr>\n",
       "      <th>4</th>\n",
       "      <td>1996</td>\n",
       "      <td>101353</td>\n",
       "      <td>2642</td>\n",
       "      <td>892</td>\n",
       "      <td>1321</td>\n",
       "      <td>1000</td>\n",
       "      <td>38.36</td>\n",
       "      <td>740</td>\n",
       "    </tr>\n",
       "  </tbody>\n",
       "</table>\n",
       "</div>"
      ],
      "text/plain": [
       "   YearBlt  Tonnage  passngrs  Length  Cabins  Crew  PassSpcR  outcab\n",
       "0     2007    30277       694     594     355   355     42.64     329\n",
       "1     2007    30277       694     594     355   355     42.64     329\n",
       "2     1987    47262      1486     722     743   670     31.80     453\n",
       "3     2002   110000      2974     953    1488  1910     36.99     892\n",
       "4     1996   101353      2642     892    1321  1000     38.36     740"
      ]
     },
     "execution_count": 6,
     "metadata": {},
     "output_type": "execute_result"
    }
   ],
   "source": [
    "cruise_ship1.head()"
   ]
  },
  {
   "cell_type": "markdown",
   "id": "0af3fbd1",
   "metadata": {},
   "source": [
    "## Using .corr() on An Entire Dataset"
   ]
  },
  {
   "cell_type": "markdown",
   "id": "2055d276",
   "metadata": {},
   "source": [
    "You will not believe how easy it is to get all correlations at your fingertips!<br><br>\n",
    "Just put in the name of your cleaned up dataset, call the `.corr()` function, and specify `method='pearson'` and away you go!"
   ]
  },
  {
   "cell_type": "code",
   "execution_count": 7,
   "id": "e8c36bae",
   "metadata": {},
   "outputs": [
    {
     "data": {
      "text/html": [
       "<div>\n",
       "<style scoped>\n",
       "    .dataframe tbody tr th:only-of-type {\n",
       "        vertical-align: middle;\n",
       "    }\n",
       "\n",
       "    .dataframe tbody tr th {\n",
       "        vertical-align: top;\n",
       "    }\n",
       "\n",
       "    .dataframe thead th {\n",
       "        text-align: right;\n",
       "    }\n",
       "</style>\n",
       "<table border=\"1\" class=\"dataframe\">\n",
       "  <thead>\n",
       "    <tr style=\"text-align: right;\">\n",
       "      <th></th>\n",
       "      <th>YearBlt</th>\n",
       "      <th>Tonnage</th>\n",
       "      <th>passngrs</th>\n",
       "      <th>Length</th>\n",
       "      <th>Cabins</th>\n",
       "      <th>Crew</th>\n",
       "      <th>PassSpcR</th>\n",
       "      <th>outcab</th>\n",
       "    </tr>\n",
       "  </thead>\n",
       "  <tbody>\n",
       "    <tr>\n",
       "      <th>YearBlt</th>\n",
       "      <td>1.000000</td>\n",
       "      <td>0.606646</td>\n",
       "      <td>0.515542</td>\n",
       "      <td>0.532286</td>\n",
       "      <td>0.510019</td>\n",
       "      <td>0.530657</td>\n",
       "      <td>0.278830</td>\n",
       "      <td>0.547203</td>\n",
       "    </tr>\n",
       "    <tr>\n",
       "      <th>Tonnage</th>\n",
       "      <td>0.606646</td>\n",
       "      <td>1.000000</td>\n",
       "      <td>0.945061</td>\n",
       "      <td>0.922368</td>\n",
       "      <td>0.948764</td>\n",
       "      <td>0.927569</td>\n",
       "      <td>-0.040846</td>\n",
       "      <td>0.921931</td>\n",
       "    </tr>\n",
       "    <tr>\n",
       "      <th>passngrs</th>\n",
       "      <td>0.515542</td>\n",
       "      <td>0.945061</td>\n",
       "      <td>1.000000</td>\n",
       "      <td>0.883535</td>\n",
       "      <td>0.976341</td>\n",
       "      <td>0.915234</td>\n",
       "      <td>-0.294867</td>\n",
       "      <td>0.914551</td>\n",
       "    </tr>\n",
       "    <tr>\n",
       "      <th>Length</th>\n",
       "      <td>0.532286</td>\n",
       "      <td>0.922368</td>\n",
       "      <td>0.883535</td>\n",
       "      <td>1.000000</td>\n",
       "      <td>0.889798</td>\n",
       "      <td>0.895857</td>\n",
       "      <td>-0.090488</td>\n",
       "      <td>0.901047</td>\n",
       "    </tr>\n",
       "    <tr>\n",
       "      <th>Cabins</th>\n",
       "      <td>0.510019</td>\n",
       "      <td>0.948764</td>\n",
       "      <td>0.976341</td>\n",
       "      <td>0.889798</td>\n",
       "      <td>1.000000</td>\n",
       "      <td>0.950823</td>\n",
       "      <td>-0.253181</td>\n",
       "      <td>0.934136</td>\n",
       "    </tr>\n",
       "    <tr>\n",
       "      <th>Crew</th>\n",
       "      <td>0.530657</td>\n",
       "      <td>0.927569</td>\n",
       "      <td>0.915234</td>\n",
       "      <td>0.895857</td>\n",
       "      <td>0.950823</td>\n",
       "      <td>1.000000</td>\n",
       "      <td>-0.155509</td>\n",
       "      <td>0.900466</td>\n",
       "    </tr>\n",
       "    <tr>\n",
       "      <th>PassSpcR</th>\n",
       "      <td>0.278830</td>\n",
       "      <td>-0.040846</td>\n",
       "      <td>-0.294867</td>\n",
       "      <td>-0.090488</td>\n",
       "      <td>-0.253181</td>\n",
       "      <td>-0.155509</td>\n",
       "      <td>1.000000</td>\n",
       "      <td>-0.145602</td>\n",
       "    </tr>\n",
       "    <tr>\n",
       "      <th>outcab</th>\n",
       "      <td>0.547203</td>\n",
       "      <td>0.921931</td>\n",
       "      <td>0.914551</td>\n",
       "      <td>0.901047</td>\n",
       "      <td>0.934136</td>\n",
       "      <td>0.900466</td>\n",
       "      <td>-0.145602</td>\n",
       "      <td>1.000000</td>\n",
       "    </tr>\n",
       "  </tbody>\n",
       "</table>\n",
       "</div>"
      ],
      "text/plain": [
       "           YearBlt   Tonnage  passngrs    Length    Cabins      Crew  \\\n",
       "YearBlt   1.000000  0.606646  0.515542  0.532286  0.510019  0.530657   \n",
       "Tonnage   0.606646  1.000000  0.945061  0.922368  0.948764  0.927569   \n",
       "passngrs  0.515542  0.945061  1.000000  0.883535  0.976341  0.915234   \n",
       "Length    0.532286  0.922368  0.883535  1.000000  0.889798  0.895857   \n",
       "Cabins    0.510019  0.948764  0.976341  0.889798  1.000000  0.950823   \n",
       "Crew      0.530657  0.927569  0.915234  0.895857  0.950823  1.000000   \n",
       "PassSpcR  0.278830 -0.040846 -0.294867 -0.090488 -0.253181 -0.155509   \n",
       "outcab    0.547203  0.921931  0.914551  0.901047  0.934136  0.900466   \n",
       "\n",
       "          PassSpcR    outcab  \n",
       "YearBlt   0.278830  0.547203  \n",
       "Tonnage  -0.040846  0.921931  \n",
       "passngrs -0.294867  0.914551  \n",
       "Length   -0.090488  0.901047  \n",
       "Cabins   -0.253181  0.934136  \n",
       "Crew     -0.155509  0.900466  \n",
       "PassSpcR  1.000000 -0.145602  \n",
       "outcab   -0.145602  1.000000  "
      ]
     },
     "execution_count": 7,
     "metadata": {},
     "output_type": "execute_result"
    }
   ],
   "source": [
    "cruise_ship1.corr(method='pearson')"
   ]
  },
  {
   "cell_type": "markdown",
   "id": "c6d0ad62",
   "metadata": {},
   "source": [
    "<mark>Remember that you read only the top right or bottom left of this matrix; everything repeats after the diagonal row of ones.</mark>"
   ]
  },
  {
   "cell_type": "markdown",
   "id": "a70892e5",
   "metadata": {},
   "source": [
    "## Make `.corr()` Pretty!"
   ]
  },
  {
   "cell_type": "markdown",
   "id": "50606f00",
   "metadata": {},
   "source": [
    "Not pretty enough for you? Difficult to make sense of rows and rows of numbers? Well, you're in luck. Adding a couple arguments can help you interpret things and add a little visual interest.<br><br>\n",
    "Start by using the `.style.format()` function. In it, you will place `{:.2}` to specify the gradients. Then you can use `background_gradient()` to specify the colors. This pulls the `coolwarm` palette from `matplotlib pyplot`. `cmap=` stands for color map. Then lastly, you need the argument `axis=1` so that Python knows you are focused on columns."
   ]
  },
  {
   "cell_type": "code",
   "execution_count": 11,
   "id": "2cf1be1a",
   "metadata": {},
   "outputs": [
    {
     "data": {
      "text/html": [
       "<style type=\"text/css\">\n",
       "#T_59972_row0_col0, #T_59972_row1_col1, #T_59972_row2_col2, #T_59972_row3_col3, #T_59972_row4_col4, #T_59972_row5_col5, #T_59972_row6_col6, #T_59972_row7_col7 {\n",
       "  background-color: #b40426;\n",
       "  color: #f1f1f1;\n",
       "}\n",
       "#T_59972_row0_col1 {\n",
       "  background-color: #d1dae9;\n",
       "  color: #000000;\n",
       "}\n",
       "#T_59972_row0_col2 {\n",
       "  background-color: #a9c6fd;\n",
       "  color: #000000;\n",
       "}\n",
       "#T_59972_row0_col3, #T_59972_row0_col5 {\n",
       "  background-color: #afcafc;\n",
       "  color: #000000;\n",
       "}\n",
       "#T_59972_row0_col4 {\n",
       "  background-color: #a6c4fe;\n",
       "  color: #000000;\n",
       "}\n",
       "#T_59972_row0_col6, #T_59972_row1_col6, #T_59972_row2_col6, #T_59972_row3_col6, #T_59972_row4_col6, #T_59972_row5_col6, #T_59972_row6_col2, #T_59972_row7_col6 {\n",
       "  background-color: #3b4cc0;\n",
       "  color: #f1f1f1;\n",
       "}\n",
       "#T_59972_row0_col7 {\n",
       "  background-color: #b7cff9;\n",
       "  color: #000000;\n",
       "}\n",
       "#T_59972_row1_col0 {\n",
       "  background-color: #f4c5ad;\n",
       "  color: #000000;\n",
       "}\n",
       "#T_59972_row1_col2, #T_59972_row4_col7 {\n",
       "  background-color: #c73635;\n",
       "  color: #f1f1f1;\n",
       "}\n",
       "#T_59972_row1_col3, #T_59972_row1_col7, #T_59972_row7_col2 {\n",
       "  background-color: #cf453c;\n",
       "  color: #f1f1f1;\n",
       "}\n",
       "#T_59972_row1_col4 {\n",
       "  background-color: #c53334;\n",
       "  color: #f1f1f1;\n",
       "}\n",
       "#T_59972_row1_col5, #T_59972_row7_col1 {\n",
       "  background-color: #cc403a;\n",
       "  color: #f1f1f1;\n",
       "}\n",
       "#T_59972_row2_col0 {\n",
       "  background-color: #f5c4ac;\n",
       "  color: #000000;\n",
       "}\n",
       "#T_59972_row2_col1, #T_59972_row4_col1, #T_59972_row4_col5, #T_59972_row5_col4 {\n",
       "  background-color: #c32e31;\n",
       "  color: #f1f1f1;\n",
       "}\n",
       "#T_59972_row2_col3, #T_59972_row3_col7, #T_59972_row5_col3 {\n",
       "  background-color: #d44e41;\n",
       "  color: #f1f1f1;\n",
       "}\n",
       "#T_59972_row2_col4, #T_59972_row4_col2 {\n",
       "  background-color: #ba162b;\n",
       "  color: #f1f1f1;\n",
       "}\n",
       "#T_59972_row2_col5, #T_59972_row2_col7, #T_59972_row5_col1 {\n",
       "  background-color: #cb3e38;\n",
       "  color: #f1f1f1;\n",
       "}\n",
       "#T_59972_row3_col0 {\n",
       "  background-color: #edd1c2;\n",
       "  color: #000000;\n",
       "}\n",
       "#T_59972_row3_col1, #T_59972_row5_col2 {\n",
       "  background-color: #cd423b;\n",
       "  color: #f1f1f1;\n",
       "}\n",
       "#T_59972_row3_col2 {\n",
       "  background-color: #d85646;\n",
       "  color: #f1f1f1;\n",
       "}\n",
       "#T_59972_row3_col4 {\n",
       "  background-color: #d65244;\n",
       "  color: #f1f1f1;\n",
       "}\n",
       "#T_59972_row3_col5 {\n",
       "  background-color: #d55042;\n",
       "  color: #f1f1f1;\n",
       "}\n",
       "#T_59972_row4_col0 {\n",
       "  background-color: #f2c9b4;\n",
       "  color: #000000;\n",
       "}\n",
       "#T_59972_row4_col3, #T_59972_row5_col7, #T_59972_row7_col3, #T_59972_row7_col5 {\n",
       "  background-color: #d24b40;\n",
       "  color: #f1f1f1;\n",
       "}\n",
       "#T_59972_row5_col0 {\n",
       "  background-color: #f1ccb8;\n",
       "  color: #000000;\n",
       "}\n",
       "#T_59972_row6_col0 {\n",
       "  background-color: #cdd9ec;\n",
       "  color: #000000;\n",
       "}\n",
       "#T_59972_row6_col1 {\n",
       "  background-color: #7a9df8;\n",
       "  color: #f1f1f1;\n",
       "}\n",
       "#T_59972_row6_col3 {\n",
       "  background-color: #6c8ff1;\n",
       "  color: #f1f1f1;\n",
       "}\n",
       "#T_59972_row6_col4 {\n",
       "  background-color: #445acc;\n",
       "  color: #f1f1f1;\n",
       "}\n",
       "#T_59972_row6_col5 {\n",
       "  background-color: #5b7ae5;\n",
       "  color: #f1f1f1;\n",
       "}\n",
       "#T_59972_row6_col7 {\n",
       "  background-color: #5e7de7;\n",
       "  color: #f1f1f1;\n",
       "}\n",
       "#T_59972_row7_col0 {\n",
       "  background-color: #f2cab5;\n",
       "  color: #000000;\n",
       "}\n",
       "#T_59972_row7_col4 {\n",
       "  background-color: #c83836;\n",
       "  color: #f1f1f1;\n",
       "}\n",
       "</style>\n",
       "<table id=\"T_59972\">\n",
       "  <thead>\n",
       "    <tr>\n",
       "      <th class=\"blank level0\" >&nbsp;</th>\n",
       "      <th id=\"T_59972_level0_col0\" class=\"col_heading level0 col0\" >YearBlt</th>\n",
       "      <th id=\"T_59972_level0_col1\" class=\"col_heading level0 col1\" >Tonnage</th>\n",
       "      <th id=\"T_59972_level0_col2\" class=\"col_heading level0 col2\" >passngrs</th>\n",
       "      <th id=\"T_59972_level0_col3\" class=\"col_heading level0 col3\" >Length</th>\n",
       "      <th id=\"T_59972_level0_col4\" class=\"col_heading level0 col4\" >Cabins</th>\n",
       "      <th id=\"T_59972_level0_col5\" class=\"col_heading level0 col5\" >Crew</th>\n",
       "      <th id=\"T_59972_level0_col6\" class=\"col_heading level0 col6\" >PassSpcR</th>\n",
       "      <th id=\"T_59972_level0_col7\" class=\"col_heading level0 col7\" >outcab</th>\n",
       "    </tr>\n",
       "  </thead>\n",
       "  <tbody>\n",
       "    <tr>\n",
       "      <th id=\"T_59972_level0_row0\" class=\"row_heading level0 row0\" >YearBlt</th>\n",
       "      <td id=\"T_59972_row0_col0\" class=\"data row0 col0\" >1.0</td>\n",
       "      <td id=\"T_59972_row0_col1\" class=\"data row0 col1\" >0.61</td>\n",
       "      <td id=\"T_59972_row0_col2\" class=\"data row0 col2\" >0.52</td>\n",
       "      <td id=\"T_59972_row0_col3\" class=\"data row0 col3\" >0.53</td>\n",
       "      <td id=\"T_59972_row0_col4\" class=\"data row0 col4\" >0.51</td>\n",
       "      <td id=\"T_59972_row0_col5\" class=\"data row0 col5\" >0.53</td>\n",
       "      <td id=\"T_59972_row0_col6\" class=\"data row0 col6\" >0.28</td>\n",
       "      <td id=\"T_59972_row0_col7\" class=\"data row0 col7\" >0.55</td>\n",
       "    </tr>\n",
       "    <tr>\n",
       "      <th id=\"T_59972_level0_row1\" class=\"row_heading level0 row1\" >Tonnage</th>\n",
       "      <td id=\"T_59972_row1_col0\" class=\"data row1 col0\" >0.61</td>\n",
       "      <td id=\"T_59972_row1_col1\" class=\"data row1 col1\" >1.0</td>\n",
       "      <td id=\"T_59972_row1_col2\" class=\"data row1 col2\" >0.95</td>\n",
       "      <td id=\"T_59972_row1_col3\" class=\"data row1 col3\" >0.92</td>\n",
       "      <td id=\"T_59972_row1_col4\" class=\"data row1 col4\" >0.95</td>\n",
       "      <td id=\"T_59972_row1_col5\" class=\"data row1 col5\" >0.93</td>\n",
       "      <td id=\"T_59972_row1_col6\" class=\"data row1 col6\" >-0.041</td>\n",
       "      <td id=\"T_59972_row1_col7\" class=\"data row1 col7\" >0.92</td>\n",
       "    </tr>\n",
       "    <tr>\n",
       "      <th id=\"T_59972_level0_row2\" class=\"row_heading level0 row2\" >passngrs</th>\n",
       "      <td id=\"T_59972_row2_col0\" class=\"data row2 col0\" >0.52</td>\n",
       "      <td id=\"T_59972_row2_col1\" class=\"data row2 col1\" >0.95</td>\n",
       "      <td id=\"T_59972_row2_col2\" class=\"data row2 col2\" >1.0</td>\n",
       "      <td id=\"T_59972_row2_col3\" class=\"data row2 col3\" >0.88</td>\n",
       "      <td id=\"T_59972_row2_col4\" class=\"data row2 col4\" >0.98</td>\n",
       "      <td id=\"T_59972_row2_col5\" class=\"data row2 col5\" >0.92</td>\n",
       "      <td id=\"T_59972_row2_col6\" class=\"data row2 col6\" >-0.29</td>\n",
       "      <td id=\"T_59972_row2_col7\" class=\"data row2 col7\" >0.91</td>\n",
       "    </tr>\n",
       "    <tr>\n",
       "      <th id=\"T_59972_level0_row3\" class=\"row_heading level0 row3\" >Length</th>\n",
       "      <td id=\"T_59972_row3_col0\" class=\"data row3 col0\" >0.53</td>\n",
       "      <td id=\"T_59972_row3_col1\" class=\"data row3 col1\" >0.92</td>\n",
       "      <td id=\"T_59972_row3_col2\" class=\"data row3 col2\" >0.88</td>\n",
       "      <td id=\"T_59972_row3_col3\" class=\"data row3 col3\" >1.0</td>\n",
       "      <td id=\"T_59972_row3_col4\" class=\"data row3 col4\" >0.89</td>\n",
       "      <td id=\"T_59972_row3_col5\" class=\"data row3 col5\" >0.9</td>\n",
       "      <td id=\"T_59972_row3_col6\" class=\"data row3 col6\" >-0.09</td>\n",
       "      <td id=\"T_59972_row3_col7\" class=\"data row3 col7\" >0.9</td>\n",
       "    </tr>\n",
       "    <tr>\n",
       "      <th id=\"T_59972_level0_row4\" class=\"row_heading level0 row4\" >Cabins</th>\n",
       "      <td id=\"T_59972_row4_col0\" class=\"data row4 col0\" >0.51</td>\n",
       "      <td id=\"T_59972_row4_col1\" class=\"data row4 col1\" >0.95</td>\n",
       "      <td id=\"T_59972_row4_col2\" class=\"data row4 col2\" >0.98</td>\n",
       "      <td id=\"T_59972_row4_col3\" class=\"data row4 col3\" >0.89</td>\n",
       "      <td id=\"T_59972_row4_col4\" class=\"data row4 col4\" >1.0</td>\n",
       "      <td id=\"T_59972_row4_col5\" class=\"data row4 col5\" >0.95</td>\n",
       "      <td id=\"T_59972_row4_col6\" class=\"data row4 col6\" >-0.25</td>\n",
       "      <td id=\"T_59972_row4_col7\" class=\"data row4 col7\" >0.93</td>\n",
       "    </tr>\n",
       "    <tr>\n",
       "      <th id=\"T_59972_level0_row5\" class=\"row_heading level0 row5\" >Crew</th>\n",
       "      <td id=\"T_59972_row5_col0\" class=\"data row5 col0\" >0.53</td>\n",
       "      <td id=\"T_59972_row5_col1\" class=\"data row5 col1\" >0.93</td>\n",
       "      <td id=\"T_59972_row5_col2\" class=\"data row5 col2\" >0.92</td>\n",
       "      <td id=\"T_59972_row5_col3\" class=\"data row5 col3\" >0.9</td>\n",
       "      <td id=\"T_59972_row5_col4\" class=\"data row5 col4\" >0.95</td>\n",
       "      <td id=\"T_59972_row5_col5\" class=\"data row5 col5\" >1.0</td>\n",
       "      <td id=\"T_59972_row5_col6\" class=\"data row5 col6\" >-0.16</td>\n",
       "      <td id=\"T_59972_row5_col7\" class=\"data row5 col7\" >0.9</td>\n",
       "    </tr>\n",
       "    <tr>\n",
       "      <th id=\"T_59972_level0_row6\" class=\"row_heading level0 row6\" >PassSpcR</th>\n",
       "      <td id=\"T_59972_row6_col0\" class=\"data row6 col0\" >0.28</td>\n",
       "      <td id=\"T_59972_row6_col1\" class=\"data row6 col1\" >-0.041</td>\n",
       "      <td id=\"T_59972_row6_col2\" class=\"data row6 col2\" >-0.29</td>\n",
       "      <td id=\"T_59972_row6_col3\" class=\"data row6 col3\" >-0.09</td>\n",
       "      <td id=\"T_59972_row6_col4\" class=\"data row6 col4\" >-0.25</td>\n",
       "      <td id=\"T_59972_row6_col5\" class=\"data row6 col5\" >-0.16</td>\n",
       "      <td id=\"T_59972_row6_col6\" class=\"data row6 col6\" >1.0</td>\n",
       "      <td id=\"T_59972_row6_col7\" class=\"data row6 col7\" >-0.15</td>\n",
       "    </tr>\n",
       "    <tr>\n",
       "      <th id=\"T_59972_level0_row7\" class=\"row_heading level0 row7\" >outcab</th>\n",
       "      <td id=\"T_59972_row7_col0\" class=\"data row7 col0\" >0.55</td>\n",
       "      <td id=\"T_59972_row7_col1\" class=\"data row7 col1\" >0.92</td>\n",
       "      <td id=\"T_59972_row7_col2\" class=\"data row7 col2\" >0.91</td>\n",
       "      <td id=\"T_59972_row7_col3\" class=\"data row7 col3\" >0.9</td>\n",
       "      <td id=\"T_59972_row7_col4\" class=\"data row7 col4\" >0.93</td>\n",
       "      <td id=\"T_59972_row7_col5\" class=\"data row7 col5\" >0.9</td>\n",
       "      <td id=\"T_59972_row7_col6\" class=\"data row7 col6\" >-0.15</td>\n",
       "      <td id=\"T_59972_row7_col7\" class=\"data row7 col7\" >1.0</td>\n",
       "    </tr>\n",
       "  </tbody>\n",
       "</table>\n"
      ],
      "text/plain": [
       "<pandas.io.formats.style.Styler at 0x7fceb836c340>"
      ]
     },
     "execution_count": 11,
     "metadata": {},
     "output_type": "execute_result"
    }
   ],
   "source": [
    "cruise_ship1.corr(method='pearson').style.format(\"{:.2}\").background_gradient(cmap=plt.get_cmap('coolwarm'), axis=1)"
   ]
  },
  {
   "cell_type": "markdown",
   "id": "b3b74248",
   "metadata": {},
   "source": [
    "## Use sns.heatmap()"
   ]
  },
  {
   "cell_type": "markdown",
   "id": "cb01428a",
   "metadata": {},
   "source": [
    "You can also do a correlation matrix easily using the `seaborn` package.\n",
    "<br><br>\n",
    "Just put in your dataset name as an argument, then call the `.corr()` function again, and use the argument `annot=True` to have the values printed on the plot. There's a little less customization here, but it's also a little simpler, with fewer arguments."
   ]
  },
  {
   "cell_type": "code",
   "execution_count": 10,
   "id": "7073783f",
   "metadata": {},
   "outputs": [
    {
     "data": {
      "text/plain": [
       "<AxesSubplot:>"
      ]
     },
     "execution_count": 10,
     "metadata": {},
     "output_type": "execute_result"
    },
    {
     "data": {
      "image/png": "[encoded data removed]",
      "text/plain": [
       "<Figure size 432x288 with 2 Axes>"
      ]
     },
     "metadata": {
      "needs_background": "light"
     },
     "output_type": "display_data"
    }
   ],
   "source": [
    "sns.heatmap(cruise_ship1.corr(), annot=True)"
   ]
  },
  {
   "cell_type": "markdown",
   "id": "524b5c3f",
   "metadata": {},
   "source": [
    "# `###`"
   ]
  }
 ],
 "metadata": {
  "kernelspec": {
   "display_name": "Python 3 (ipykernel)",
   "language": "python",
   "name": "python3"
  },
  "language_info": {
   "codemirror_mode": {
    "name": "ipython",
    "version": 3
   },
   "file_extension": ".py",
   "mimetype": "text/x-python",
   "name": "python",
   "nbconvert_exporter": "python",
   "pygments_lexer": "ipython3",
   "version": "3.9.12"
  }
 },
 "nbformat": 4,
 "nbformat_minor": 5
}
