{
 "cells": [
  {
   "cell_type": "markdown",
   "id": "a4884013",
   "metadata": {},
   "source": [
    "<div class=\"alert alert-block alert-warning\">\n",
    "An independent Chi-Square is used when you want to determine whether two categorical variables influence each other.\n",
    "<br>\n",
    "<b>Requires:</b><br>\n",
    "    - 2 independent <i>categorical</i> variables<br>\n",
    "</div>"
   ]
  },
  {
   "cell_type": "markdown",
   "id": "e44190b9",
   "metadata": {},
   "source": [
    "## QUESTION:\n",
    "Does the price of the product depend on whether it is a `lip stick` or `lip gloss`?\n",
    "\n",
    "Categorical variables to use: \n",
    "- <b>Product category (`prodType`)</b>  has 2 levels<br>\n",
    "    - `LP` for lipstick\n",
    "    - `LG` for lipgloss<br><br>\n",
    "- <b>Price category (`priceCatgry`)</b>  has 3 levels:\n",
    "    - <b>1</b> : < 5 euros\n",
    "    - <b>2</b> : 5 - 15 euros\n",
    "    - <b>3</b> : > 15 euros"
   ]
  },
  {
   "cell_type": "markdown",
   "id": "3768ed8c",
   "metadata": {},
   "source": [
    "## Import Packages"
   ]
  },
  {
   "cell_type": "code",
   "execution_count": 2,
   "id": "4cbc1410",
   "metadata": {},
   "outputs": [],
   "source": [
    "import pandas as pd\n",
    "from scipy import stats"
   ]
  },
  {
   "cell_type": "markdown",
   "id": "ea61795d",
   "metadata": {},
   "source": [
    "## Load Data"
   ]
  },
  {
   "cell_type": "code",
   "execution_count": 3,
   "id": "c77a33ed",
   "metadata": {},
   "outputs": [],
   "source": [
    "lead_lipstick = pd.read_csv('./assets/lead_lipstick.csv')"
   ]
  },
  {
   "cell_type": "code",
   "execution_count": 4,
   "id": "e6cb2983",
   "metadata": {},
   "outputs": [
    {
     "data": {
      "text/html": [
       "<div>\n",
       "<style scoped>\n",
       "    .dataframe tbody tr th:only-of-type {\n",
       "        vertical-align: middle;\n",
       "    }\n",
       "\n",
       "    .dataframe tbody tr th {\n",
       "        vertical-align: top;\n",
       "    }\n",
       "\n",
       "    .dataframe thead th {\n",
       "        text-align: right;\n",
       "    }\n",
       "</style>\n",
       "<table border=\"1\" class=\"dataframe\">\n",
       "  <thead>\n",
       "    <tr style=\"text-align: right;\">\n",
       "      <th></th>\n",
       "      <th>JRC_code</th>\n",
       "      <th>purchCntry</th>\n",
       "      <th>prodCntry</th>\n",
       "      <th>Pb</th>\n",
       "      <th>sdPb</th>\n",
       "      <th>shade</th>\n",
       "      <th>prodType</th>\n",
       "      <th>priceCatgry</th>\n",
       "    </tr>\n",
       "  </thead>\n",
       "  <tbody>\n",
       "    <tr>\n",
       "      <th>0</th>\n",
       "      <td>C135</td>\n",
       "      <td>NL</td>\n",
       "      <td>NL</td>\n",
       "      <td>3.75</td>\n",
       "      <td>0.24</td>\n",
       "      <td>Red</td>\n",
       "      <td>LP</td>\n",
       "      <td>2</td>\n",
       "    </tr>\n",
       "    <tr>\n",
       "      <th>1</th>\n",
       "      <td>C18</td>\n",
       "      <td>FI</td>\n",
       "      <td>FI</td>\n",
       "      <td>2.29</td>\n",
       "      <td>0.07</td>\n",
       "      <td>Red</td>\n",
       "      <td>LP</td>\n",
       "      <td>2</td>\n",
       "    </tr>\n",
       "    <tr>\n",
       "      <th>2</th>\n",
       "      <td>C20</td>\n",
       "      <td>FI</td>\n",
       "      <td>IT</td>\n",
       "      <td>1.27</td>\n",
       "      <td>0.06</td>\n",
       "      <td>Red</td>\n",
       "      <td>LP</td>\n",
       "      <td>2</td>\n",
       "    </tr>\n",
       "    <tr>\n",
       "      <th>3</th>\n",
       "      <td>C164</td>\n",
       "      <td>DE</td>\n",
       "      <td>FR</td>\n",
       "      <td>1.21</td>\n",
       "      <td>0.06</td>\n",
       "      <td>Red</td>\n",
       "      <td>LP</td>\n",
       "      <td>2</td>\n",
       "    </tr>\n",
       "    <tr>\n",
       "      <th>4</th>\n",
       "      <td>C71</td>\n",
       "      <td>MT</td>\n",
       "      <td>UK</td>\n",
       "      <td>0.85</td>\n",
       "      <td>0.04</td>\n",
       "      <td>Red</td>\n",
       "      <td>LP</td>\n",
       "      <td>2</td>\n",
       "    </tr>\n",
       "  </tbody>\n",
       "</table>\n",
       "</div>"
      ],
      "text/plain": [
       "  JRC_code purchCntry prodCntry    Pb  sdPb shade prodType  priceCatgry\n",
       "0     C135         NL        NL  3.75  0.24   Red       LP            2\n",
       "1      C18         FI        FI  2.29  0.07   Red       LP            2\n",
       "2      C20         FI        IT  1.27  0.06   Red       LP            2\n",
       "3     C164         DE        FR  1.21  0.06   Red       LP            2\n",
       "4      C71         MT        UK  0.85  0.04   Red       LP            2"
      ]
     },
     "execution_count": 4,
     "metadata": {},
     "output_type": "execute_result"
    }
   ],
   "source": [
    "lead_lipstick.head()"
   ]
  },
  {
   "cell_type": "markdown",
   "id": "fada05f9",
   "metadata": {},
   "source": [
    "## Test Assumptions\n",
    "There is only one assumption for Chi-Square, and it is that when you are looking at the contingency tables, the expected frequencies for each cell need to have at least 5 entries per cell.<br><br>In Python, the only way to easily generate an expected frequencies table is actually to run the analysis. So, you will conduct your independent Chi-Square first, and then make sure it meets this assumption!"
   ]
  },
  {
   "cell_type": "markdown",
   "id": "2b25c3ae",
   "metadata": {},
   "source": [
    "### Create a Contingency Table"
   ]
  },
  {
   "cell_type": "markdown",
   "id": "2b7fef63",
   "metadata": {},
   "source": [
    "The first thing that needs to be done, before you can run the independent Chi-Square analysis, is to create a contingency table, sometimes called a crosstab, which shows how each level of each variable crosses with the other variable levels.<br>`pandas` saves the day with an easy to use function called `crosstab()`:"
   ]
  },
  {
   "cell_type": "code",
   "execution_count": 6,
   "id": "20a32b50",
   "metadata": {},
   "outputs": [],
   "source": [
    "lipstick_crosstab = pd.crosstab(lead_lipstick['prodType'], lead_lipstick['priceCatgry'])"
   ]
  },
  {
   "cell_type": "code",
   "execution_count": 7,
   "id": "e8e54ecd",
   "metadata": {},
   "outputs": [
    {
     "data": {
      "text/html": [
       "<div>\n",
       "<style scoped>\n",
       "    .dataframe tbody tr th:only-of-type {\n",
       "        vertical-align: middle;\n",
       "    }\n",
       "\n",
       "    .dataframe tbody tr th {\n",
       "        vertical-align: top;\n",
       "    }\n",
       "\n",
       "    .dataframe thead th {\n",
       "        text-align: right;\n",
       "    }\n",
       "</style>\n",
       "<table border=\"1\" class=\"dataframe\">\n",
       "  <thead>\n",
       "    <tr style=\"text-align: right;\">\n",
       "      <th>priceCatgry</th>\n",
       "      <th>1</th>\n",
       "      <th>2</th>\n",
       "      <th>3</th>\n",
       "    </tr>\n",
       "    <tr>\n",
       "      <th>prodType</th>\n",
       "      <th></th>\n",
       "      <th></th>\n",
       "      <th></th>\n",
       "    </tr>\n",
       "  </thead>\n",
       "  <tbody>\n",
       "    <tr>\n",
       "      <th>LG</th>\n",
       "      <td>19</td>\n",
       "      <td>43</td>\n",
       "      <td>12</td>\n",
       "    </tr>\n",
       "    <tr>\n",
       "      <th>LP</th>\n",
       "      <td>34</td>\n",
       "      <td>92</td>\n",
       "      <td>23</td>\n",
       "    </tr>\n",
       "  </tbody>\n",
       "</table>\n",
       "</div>"
      ],
      "text/plain": [
       "priceCatgry   1   2   3\n",
       "prodType               \n",
       "LG           19  43  12\n",
       "LP           34  92  23"
      ]
     },
     "execution_count": 7,
     "metadata": {},
     "output_type": "execute_result"
    }
   ],
   "source": [
    "lipstick_crosstab"
   ]
  },
  {
   "cell_type": "markdown",
   "id": "4738f296",
   "metadata": {},
   "source": [
    "The three price categories are on the top, and the two different product types are along the side.<br>What is shown in the cells are how many products fit in both categories.<br>For instance, there are 19 `lip glosses` less than `5 euros`."
   ]
  },
  {
   "cell_type": "markdown",
   "id": "46d2b627",
   "metadata": {},
   "source": [
    "### Running the Independent Chi-Square"
   ]
  },
  {
   "cell_type": "markdown",
   "id": "a8a8f308",
   "metadata": {},
   "source": [
    "Once you have the contingency table, then you can run the function `stats.chi2_contingency` on the contingency table you have created:"
   ]
  },
  {
   "cell_type": "code",
   "execution_count": 8,
   "id": "25a73be9",
   "metadata": {},
   "outputs": [
    {
     "data": {
      "text/plain": [
       "(0.2969891724608704,\n",
       " 0.8620046738525345,\n",
       " 2,\n",
       " array([[17.58744395, 44.79820628, 11.61434978],\n",
       "        [35.41255605, 90.20179372, 23.38565022]]))"
      ]
     },
     "execution_count": 8,
     "metadata": {},
     "output_type": "execute_result"
    }
   ],
   "source": [
    "stats.chi2_contingency(lipstick_crosstab)"
   ]
  },
  {
   "cell_type": "markdown",
   "id": "6e732e77",
   "metadata": {},
   "source": [
    "At first, it looks like a jumble of things. But the first value is your Chi-Square statistic.\n",
    "<br>The second value is your p value associated with that Chi-Square statistic.<br><br>Looking at this, it looks like there is not a significant relationship between product type and product price. Neither lipstick nor lip gloss is pricier or cheaper than the other."
   ]
  },
  {
   "cell_type": "markdown",
   "id": "8d6c8250",
   "metadata": {},
   "source": [
    "### Test the Assumption of 5 Cases per Expected Cell"
   ]
  },
  {
   "cell_type": "markdown",
   "id": "9de48729",
   "metadata": {},
   "source": [
    "The last piece of the output, labeled `array`, is your expected count contingency table, albeit not a very pretty one!<br><br>The expected count is what you would expect to happen if there was <i>no relationship</i> between the two variables.<br><br><b>Since all of these values are over 5, this means that the assumption has been met, and you are free to present and discuss these results without any limitations!</b>"
   ]
  }
 ],
 "metadata": {
  "kernelspec": {
   "display_name": "Python 3 (ipykernel)",
   "language": "python",
   "name": "python3"
  },
  "language_info": {
   "codemirror_mode": {
    "name": "ipython",
    "version": 3
   },
   "file_extension": ".py",
   "mimetype": "text/x-python",
   "name": "python",
   "nbconvert_exporter": "python",
   "pygments_lexer": "ipython3",
   "version": "3.9.12"
  }
 },
 "nbformat": 4,
 "nbformat_minor": 5
}
