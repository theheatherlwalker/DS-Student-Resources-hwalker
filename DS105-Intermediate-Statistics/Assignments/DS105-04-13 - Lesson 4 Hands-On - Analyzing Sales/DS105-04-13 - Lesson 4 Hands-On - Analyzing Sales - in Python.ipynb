{
 "cells": [
  {
   "cell_type": "markdown",
   "id": "0031a10d",
   "metadata": {},
   "source": [
    "# DS105-04-13 - Lesson 4 Hands-On - Analyzing Sales - in Python"
   ]
  },
  {
   "cell_type": "markdown",
   "id": "5fa0ad00",
   "metadata": {},
   "source": [
    "---\n",
    "## Load Libraries"
   ]
  },
  {
   "cell_type": "code",
   "execution_count": 1,
   "id": "b8188375",
   "metadata": {},
   "outputs": [],
   "source": [
    "import pandas as pd\n",
    "import numpy as np\n",
    "import scipy\n",
    "from scipy import stats\n",
    "from statsmodels.stats.multicomp import pairwise_tukeyhsd\n",
    "from statsmodels.stats.multicomp import MultiComparison\n",
    "import seaborn as sns"
   ]
  },
  {
   "cell_type": "markdown",
   "id": "ec9cbf27",
   "metadata": {},
   "source": [
    "___\n",
    "## Load Data"
   ]
  },
  {
   "cell_type": "code",
   "execution_count": 2,
   "id": "383a1106",
   "metadata": {},
   "outputs": [],
   "source": [
    "avocados = pd.read_csv('./assets/avocados.csv')"
   ]
  },
  {
   "cell_type": "code",
   "execution_count": 3,
   "id": "17f68a2c",
   "metadata": {},
   "outputs": [
    {
     "data": {
      "text/html": [
       "<div>\n",
       "<style scoped>\n",
       "    .dataframe tbody tr th:only-of-type {\n",
       "        vertical-align: middle;\n",
       "    }\n",
       "\n",
       "    .dataframe tbody tr th {\n",
       "        vertical-align: top;\n",
       "    }\n",
       "\n",
       "    .dataframe thead th {\n",
       "        text-align: right;\n",
       "    }\n",
       "</style>\n",
       "<table border=\"1\" class=\"dataframe\">\n",
       "  <thead>\n",
       "    <tr style=\"text-align: right;\">\n",
       "      <th></th>\n",
       "      <th>Unnamed: 0</th>\n",
       "      <th>Date</th>\n",
       "      <th>AveragePrice</th>\n",
       "      <th>Total Volume</th>\n",
       "      <th>4046</th>\n",
       "      <th>4225</th>\n",
       "      <th>4770</th>\n",
       "      <th>Total Bags</th>\n",
       "      <th>Small Bags</th>\n",
       "      <th>Large Bags</th>\n",
       "      <th>XLarge Bags</th>\n",
       "      <th>type</th>\n",
       "      <th>year</th>\n",
       "      <th>region</th>\n",
       "    </tr>\n",
       "  </thead>\n",
       "  <tbody>\n",
       "    <tr>\n",
       "      <th>0</th>\n",
       "      <td>0</td>\n",
       "      <td>12/27/2015</td>\n",
       "      <td>1.33</td>\n",
       "      <td>64236.62</td>\n",
       "      <td>1036.74</td>\n",
       "      <td>54454.85</td>\n",
       "      <td>48.16</td>\n",
       "      <td>8696.87</td>\n",
       "      <td>8603.62</td>\n",
       "      <td>93.25</td>\n",
       "      <td>0.0</td>\n",
       "      <td>conventional</td>\n",
       "      <td>2015</td>\n",
       "      <td>Albany</td>\n",
       "    </tr>\n",
       "    <tr>\n",
       "      <th>1</th>\n",
       "      <td>1</td>\n",
       "      <td>12/20/2015</td>\n",
       "      <td>1.35</td>\n",
       "      <td>54876.98</td>\n",
       "      <td>674.28</td>\n",
       "      <td>44638.81</td>\n",
       "      <td>58.33</td>\n",
       "      <td>9505.56</td>\n",
       "      <td>9408.07</td>\n",
       "      <td>97.49</td>\n",
       "      <td>0.0</td>\n",
       "      <td>conventional</td>\n",
       "      <td>2015</td>\n",
       "      <td>Albany</td>\n",
       "    </tr>\n",
       "  </tbody>\n",
       "</table>\n",
       "</div>"
      ],
      "text/plain": [
       "   Unnamed: 0        Date  AveragePrice  Total Volume     4046      4225  \\\n",
       "0           0  12/27/2015          1.33      64236.62  1036.74  54454.85   \n",
       "1           1  12/20/2015          1.35      54876.98   674.28  44638.81   \n",
       "\n",
       "    4770  Total Bags  Small Bags  Large Bags  XLarge Bags          type  year  \\\n",
       "0  48.16     8696.87     8603.62       93.25          0.0  conventional  2015   \n",
       "1  58.33     9505.56     9408.07       97.49          0.0  conventional  2015   \n",
       "\n",
       "   region  \n",
       "0  Albany  \n",
       "1  Albany  "
      ]
     },
     "execution_count": 3,
     "metadata": {},
     "output_type": "execute_result"
    }
   ],
   "source": [
    "avocados.head(2)"
   ]
  },
  {
   "cell_type": "markdown",
   "id": "b383a15d",
   "metadata": {},
   "source": [
    "___\n",
    "## Question Setup\n",
    "**Does the total volume of avocados sold differ between `Indianapolis`, `Orlando`, and `PhoenixTucson`?**"
   ]
  },
  {
   "cell_type": "code",
   "execution_count": 4,
   "id": "589e635a",
   "metadata": {},
   "outputs": [
    {
     "data": {
      "text/plain": [
       "array(['Albany', 'Atlanta', 'BaltimoreWashington', 'Boise', 'Boston',\n",
       "       'BuffaloRochester', 'California', 'Charlotte', 'Chicago',\n",
       "       'CincinnatiDayton', 'Columbus', 'DallasFtWorth', 'Denver',\n",
       "       'Detroit', 'GrandRapids', 'GreatLakes', 'HarrisburgScranton',\n",
       "       'HartfordSpringfield', 'Houston', 'Indianapolis', 'Jacksonville',\n",
       "       'LasVegas', 'LosAngeles', 'Louisville', 'MiamiFtLauderdale',\n",
       "       'Midsouth', 'Nashville', 'NewOrleansMobile', 'NewYork',\n",
       "       'Northeast', 'NorthernNewEngland', 'Orlando', 'Philadelphia',\n",
       "       'PhoenixTucson', 'Pittsburgh', 'Plains', 'Portland',\n",
       "       'RaleighGreensboro', 'RichmondNorfolk', 'Roanoke', 'Sacramento',\n",
       "       'SanDiego', 'SanFrancisco', 'Seattle', 'SouthCarolina',\n",
       "       'SouthCentral', 'Southeast', 'Spokane', 'StLouis', 'Syracuse',\n",
       "       'Tampa', 'TotalUS', 'West', 'WestTexNewMexico'], dtype=object)"
      ]
     },
     "execution_count": 4,
     "metadata": {},
     "output_type": "execute_result"
    }
   ],
   "source": [
    "# What are the unique entries in `region`?\n",
    "avocados.region.unique()"
   ]
  },
  {
   "cell_type": "markdown",
   "id": "c473a869",
   "metadata": {},
   "source": [
    "___\n",
    "## Data Wrangling"
   ]
  },
  {
   "cell_type": "markdown",
   "id": "a9fe173a",
   "metadata": {},
   "source": [
    "### Subsetting needed variables\n",
    "Keep the variables needed: `Gr2de` and `Video views`."
   ]
  },
  {
   "cell_type": "code",
   "execution_count": 5,
   "id": "492adb74",
   "metadata": {},
   "outputs": [],
   "source": [
    "regions = ['Indianapolis','Orlando','PhoenixTucson']"
   ]
  },
  {
   "cell_type": "code",
   "execution_count": 6,
   "id": "5a0f5ac6",
   "metadata": {},
   "outputs": [],
   "source": [
    "avocados1 = avocados[\"region\"].isin(regions)"
   ]
  },
  {
   "cell_type": "code",
   "execution_count": 7,
   "id": "0c31a918",
   "metadata": {},
   "outputs": [],
   "source": [
    "avocados2 = avocados[avocados1].copy()"
   ]
  },
  {
   "cell_type": "code",
   "execution_count": 8,
   "id": "7f67e6e6",
   "metadata": {},
   "outputs": [
    {
     "data": {
      "text/html": [
       "<div>\n",
       "<style scoped>\n",
       "    .dataframe tbody tr th:only-of-type {\n",
       "        vertical-align: middle;\n",
       "    }\n",
       "\n",
       "    .dataframe tbody tr th {\n",
       "        vertical-align: top;\n",
       "    }\n",
       "\n",
       "    .dataframe thead th {\n",
       "        text-align: right;\n",
       "    }\n",
       "</style>\n",
       "<table border=\"1\" class=\"dataframe\">\n",
       "  <thead>\n",
       "    <tr style=\"text-align: right;\">\n",
       "      <th></th>\n",
       "      <th>Unnamed: 0</th>\n",
       "      <th>Date</th>\n",
       "      <th>AveragePrice</th>\n",
       "      <th>Total Volume</th>\n",
       "      <th>4046</th>\n",
       "      <th>4225</th>\n",
       "      <th>4770</th>\n",
       "      <th>Total Bags</th>\n",
       "      <th>Small Bags</th>\n",
       "      <th>Large Bags</th>\n",
       "      <th>XLarge Bags</th>\n",
       "      <th>type</th>\n",
       "      <th>year</th>\n",
       "      <th>region</th>\n",
       "    </tr>\n",
       "  </thead>\n",
       "  <tbody>\n",
       "    <tr>\n",
       "      <th>988</th>\n",
       "      <td>0</td>\n",
       "      <td>12/27/2015</td>\n",
       "      <td>1.04</td>\n",
       "      <td>123096.09</td>\n",
       "      <td>4647.28</td>\n",
       "      <td>69384.73</td>\n",
       "      <td>11206.40</td>\n",
       "      <td>37857.68</td>\n",
       "      <td>20644.64</td>\n",
       "      <td>11524.06</td>\n",
       "      <td>5688.98</td>\n",
       "      <td>conventional</td>\n",
       "      <td>2015</td>\n",
       "      <td>Indianapolis</td>\n",
       "    </tr>\n",
       "    <tr>\n",
       "      <th>989</th>\n",
       "      <td>1</td>\n",
       "      <td>12/20/2015</td>\n",
       "      <td>1.10</td>\n",
       "      <td>116353.68</td>\n",
       "      <td>3702.20</td>\n",
       "      <td>67983.94</td>\n",
       "      <td>9327.71</td>\n",
       "      <td>35339.83</td>\n",
       "      <td>18144.63</td>\n",
       "      <td>12133.67</td>\n",
       "      <td>5061.53</td>\n",
       "      <td>conventional</td>\n",
       "      <td>2015</td>\n",
       "      <td>Indianapolis</td>\n",
       "    </tr>\n",
       "    <tr>\n",
       "      <th>990</th>\n",
       "      <td>2</td>\n",
       "      <td>12/13/2015</td>\n",
       "      <td>1.03</td>\n",
       "      <td>125342.89</td>\n",
       "      <td>4904.51</td>\n",
       "      <td>69984.32</td>\n",
       "      <td>11398.44</td>\n",
       "      <td>39055.62</td>\n",
       "      <td>21259.82</td>\n",
       "      <td>15580.08</td>\n",
       "      <td>2215.72</td>\n",
       "      <td>conventional</td>\n",
       "      <td>2015</td>\n",
       "      <td>Indianapolis</td>\n",
       "    </tr>\n",
       "    <tr>\n",
       "      <th>991</th>\n",
       "      <td>3</td>\n",
       "      <td>12/6/2015</td>\n",
       "      <td>0.92</td>\n",
       "      <td>145740.44</td>\n",
       "      <td>4067.00</td>\n",
       "      <td>89452.99</td>\n",
       "      <td>13570.12</td>\n",
       "      <td>38650.33</td>\n",
       "      <td>19365.92</td>\n",
       "      <td>17733.68</td>\n",
       "      <td>1550.73</td>\n",
       "      <td>conventional</td>\n",
       "      <td>2015</td>\n",
       "      <td>Indianapolis</td>\n",
       "    </tr>\n",
       "    <tr>\n",
       "      <th>992</th>\n",
       "      <td>4</td>\n",
       "      <td>11/29/2015</td>\n",
       "      <td>1.08</td>\n",
       "      <td>108444.41</td>\n",
       "      <td>3079.44</td>\n",
       "      <td>65254.08</td>\n",
       "      <td>10854.59</td>\n",
       "      <td>29256.30</td>\n",
       "      <td>17455.74</td>\n",
       "      <td>9975.21</td>\n",
       "      <td>1825.35</td>\n",
       "      <td>conventional</td>\n",
       "      <td>2015</td>\n",
       "      <td>Indianapolis</td>\n",
       "    </tr>\n",
       "  </tbody>\n",
       "</table>\n",
       "</div>"
      ],
      "text/plain": [
       "     Unnamed: 0        Date  AveragePrice  Total Volume     4046      4225  \\\n",
       "988           0  12/27/2015          1.04     123096.09  4647.28  69384.73   \n",
       "989           1  12/20/2015          1.10     116353.68  3702.20  67983.94   \n",
       "990           2  12/13/2015          1.03     125342.89  4904.51  69984.32   \n",
       "991           3   12/6/2015          0.92     145740.44  4067.00  89452.99   \n",
       "992           4  11/29/2015          1.08     108444.41  3079.44  65254.08   \n",
       "\n",
       "         4770  Total Bags  Small Bags  Large Bags  XLarge Bags          type  \\\n",
       "988  11206.40    37857.68    20644.64    11524.06      5688.98  conventional   \n",
       "989   9327.71    35339.83    18144.63    12133.67      5061.53  conventional   \n",
       "990  11398.44    39055.62    21259.82    15580.08      2215.72  conventional   \n",
       "991  13570.12    38650.33    19365.92    17733.68      1550.73  conventional   \n",
       "992  10854.59    29256.30    17455.74     9975.21      1825.35  conventional   \n",
       "\n",
       "     year        region  \n",
       "988  2015  Indianapolis  \n",
       "989  2015  Indianapolis  \n",
       "990  2015  Indianapolis  \n",
       "991  2015  Indianapolis  \n",
       "992  2015  Indianapolis  "
      ]
     },
     "execution_count": 8,
     "metadata": {},
     "output_type": "execute_result"
    }
   ],
   "source": [
    "avocados2.head()"
   ]
  },
  {
   "cell_type": "markdown",
   "id": "cd8f8d80",
   "metadata": {},
   "source": [
    "### Recode `region` is an integer\n",
    "The categorical variable must be in an integer format."
   ]
  },
  {
   "cell_type": "code",
   "execution_count": 9,
   "id": "aff16734",
   "metadata": {},
   "outputs": [
    {
     "data": {
      "text/plain": [
       "Unnamed: 0        int64\n",
       "Date             object\n",
       "AveragePrice    float64\n",
       "Total Volume    float64\n",
       "4046            float64\n",
       "4225            float64\n",
       "4770            float64\n",
       "Total Bags      float64\n",
       "Small Bags      float64\n",
       "Large Bags      float64\n",
       "XLarge Bags     float64\n",
       "type             object\n",
       "year              int64\n",
       "region           object\n",
       "dtype: object"
      ]
     },
     "execution_count": 9,
     "metadata": {},
     "output_type": "execute_result"
    }
   ],
   "source": [
    "# Check current format\n",
    "avocados2.dtypes"
   ]
  },
  {
   "cell_type": "code",
   "execution_count": 10,
   "id": "aec21eab",
   "metadata": {},
   "outputs": [],
   "source": [
    "dict = {'Indianapolis' : 0, 'Orlando' : 1, 'PhoenixTucson' : 2}"
   ]
  },
  {
   "cell_type": "code",
   "execution_count": 11,
   "id": "9df77ecf",
   "metadata": {},
   "outputs": [],
   "source": [
    "avocados2['regionR'] = avocados2.region.replace(dict)"
   ]
  },
  {
   "cell_type": "code",
   "execution_count": 12,
   "id": "e6c9d7f2",
   "metadata": {},
   "outputs": [
    {
     "data": {
      "text/html": [
       "<div>\n",
       "<style scoped>\n",
       "    .dataframe tbody tr th:only-of-type {\n",
       "        vertical-align: middle;\n",
       "    }\n",
       "\n",
       "    .dataframe tbody tr th {\n",
       "        vertical-align: top;\n",
       "    }\n",
       "\n",
       "    .dataframe thead th {\n",
       "        text-align: right;\n",
       "    }\n",
       "</style>\n",
       "<table border=\"1\" class=\"dataframe\">\n",
       "  <thead>\n",
       "    <tr style=\"text-align: right;\">\n",
       "      <th></th>\n",
       "      <th>Unnamed: 0</th>\n",
       "      <th>Date</th>\n",
       "      <th>AveragePrice</th>\n",
       "      <th>Total Volume</th>\n",
       "      <th>4046</th>\n",
       "      <th>4225</th>\n",
       "      <th>4770</th>\n",
       "      <th>Total Bags</th>\n",
       "      <th>Small Bags</th>\n",
       "      <th>Large Bags</th>\n",
       "      <th>XLarge Bags</th>\n",
       "      <th>type</th>\n",
       "      <th>year</th>\n",
       "      <th>region</th>\n",
       "      <th>regionR</th>\n",
       "    </tr>\n",
       "  </thead>\n",
       "  <tbody>\n",
       "    <tr>\n",
       "      <th>988</th>\n",
       "      <td>0</td>\n",
       "      <td>12/27/2015</td>\n",
       "      <td>1.04</td>\n",
       "      <td>123096.09</td>\n",
       "      <td>4647.28</td>\n",
       "      <td>69384.73</td>\n",
       "      <td>11206.40</td>\n",
       "      <td>37857.68</td>\n",
       "      <td>20644.64</td>\n",
       "      <td>11524.06</td>\n",
       "      <td>5688.98</td>\n",
       "      <td>conventional</td>\n",
       "      <td>2015</td>\n",
       "      <td>Indianapolis</td>\n",
       "      <td>0</td>\n",
       "    </tr>\n",
       "    <tr>\n",
       "      <th>989</th>\n",
       "      <td>1</td>\n",
       "      <td>12/20/2015</td>\n",
       "      <td>1.10</td>\n",
       "      <td>116353.68</td>\n",
       "      <td>3702.20</td>\n",
       "      <td>67983.94</td>\n",
       "      <td>9327.71</td>\n",
       "      <td>35339.83</td>\n",
       "      <td>18144.63</td>\n",
       "      <td>12133.67</td>\n",
       "      <td>5061.53</td>\n",
       "      <td>conventional</td>\n",
       "      <td>2015</td>\n",
       "      <td>Indianapolis</td>\n",
       "      <td>0</td>\n",
       "    </tr>\n",
       "    <tr>\n",
       "      <th>990</th>\n",
       "      <td>2</td>\n",
       "      <td>12/13/2015</td>\n",
       "      <td>1.03</td>\n",
       "      <td>125342.89</td>\n",
       "      <td>4904.51</td>\n",
       "      <td>69984.32</td>\n",
       "      <td>11398.44</td>\n",
       "      <td>39055.62</td>\n",
       "      <td>21259.82</td>\n",
       "      <td>15580.08</td>\n",
       "      <td>2215.72</td>\n",
       "      <td>conventional</td>\n",
       "      <td>2015</td>\n",
       "      <td>Indianapolis</td>\n",
       "      <td>0</td>\n",
       "    </tr>\n",
       "    <tr>\n",
       "      <th>991</th>\n",
       "      <td>3</td>\n",
       "      <td>12/6/2015</td>\n",
       "      <td>0.92</td>\n",
       "      <td>145740.44</td>\n",
       "      <td>4067.00</td>\n",
       "      <td>89452.99</td>\n",
       "      <td>13570.12</td>\n",
       "      <td>38650.33</td>\n",
       "      <td>19365.92</td>\n",
       "      <td>17733.68</td>\n",
       "      <td>1550.73</td>\n",
       "      <td>conventional</td>\n",
       "      <td>2015</td>\n",
       "      <td>Indianapolis</td>\n",
       "      <td>0</td>\n",
       "    </tr>\n",
       "    <tr>\n",
       "      <th>992</th>\n",
       "      <td>4</td>\n",
       "      <td>11/29/2015</td>\n",
       "      <td>1.08</td>\n",
       "      <td>108444.41</td>\n",
       "      <td>3079.44</td>\n",
       "      <td>65254.08</td>\n",
       "      <td>10854.59</td>\n",
       "      <td>29256.30</td>\n",
       "      <td>17455.74</td>\n",
       "      <td>9975.21</td>\n",
       "      <td>1825.35</td>\n",
       "      <td>conventional</td>\n",
       "      <td>2015</td>\n",
       "      <td>Indianapolis</td>\n",
       "      <td>0</td>\n",
       "    </tr>\n",
       "  </tbody>\n",
       "</table>\n",
       "</div>"
      ],
      "text/plain": [
       "     Unnamed: 0        Date  AveragePrice  Total Volume     4046      4225  \\\n",
       "988           0  12/27/2015          1.04     123096.09  4647.28  69384.73   \n",
       "989           1  12/20/2015          1.10     116353.68  3702.20  67983.94   \n",
       "990           2  12/13/2015          1.03     125342.89  4904.51  69984.32   \n",
       "991           3   12/6/2015          0.92     145740.44  4067.00  89452.99   \n",
       "992           4  11/29/2015          1.08     108444.41  3079.44  65254.08   \n",
       "\n",
       "         4770  Total Bags  Small Bags  Large Bags  XLarge Bags          type  \\\n",
       "988  11206.40    37857.68    20644.64    11524.06      5688.98  conventional   \n",
       "989   9327.71    35339.83    18144.63    12133.67      5061.53  conventional   \n",
       "990  11398.44    39055.62    21259.82    15580.08      2215.72  conventional   \n",
       "991  13570.12    38650.33    19365.92    17733.68      1550.73  conventional   \n",
       "992  10854.59    29256.30    17455.74     9975.21      1825.35  conventional   \n",
       "\n",
       "     year        region  regionR  \n",
       "988  2015  Indianapolis        0  \n",
       "989  2015  Indianapolis        0  \n",
       "990  2015  Indianapolis        0  \n",
       "991  2015  Indianapolis        0  \n",
       "992  2015  Indianapolis        0  "
      ]
     },
     "execution_count": 12,
     "metadata": {},
     "output_type": "execute_result"
    }
   ],
   "source": [
    "avocados2.head()"
   ]
  },
  {
   "cell_type": "code",
   "execution_count": 13,
   "id": "30852730",
   "metadata": {},
   "outputs": [
    {
     "data": {
      "text/plain": [
       "0    338\n",
       "1    338\n",
       "2    338\n",
       "Name: regionR, dtype: int64"
      ]
     },
     "execution_count": 13,
     "metadata": {},
     "output_type": "execute_result"
    }
   ],
   "source": [
    "avocados2.regionR.value_counts()"
   ]
  },
  {
   "cell_type": "markdown",
   "id": "b5c815c7",
   "metadata": {},
   "source": [
    "___\n",
    "## Test Assumptions\n",
    "\n",
    "Before you go any further, it's important to test for assumptions. If the assumptions are not met for ANOVA, but you proceeded anyway, you run the risk of biasing your results."
   ]
  },
  {
   "cell_type": "markdown",
   "id": "c611319a",
   "metadata": {},
   "source": [
    "### Assumption: Normality\n",
    "You only need to test for the normality of the dependent variable, since the IV is categorical."
   ]
  },
  {
   "cell_type": "code",
   "execution_count": 14,
   "id": "2d4f5ab4",
   "metadata": {},
   "outputs": [
    {
     "name": "stderr",
     "output_type": "stream",
     "text": [
      "/Users/heather/opt/anaconda3/lib/python3.9/site-packages/seaborn/distributions.py:2619: FutureWarning: `distplot` is a deprecated function and will be removed in a future version. Please adapt your code to use either `displot` (a figure-level function with similar flexibility) or `histplot` (an axes-level function for histograms).\n",
      "  warnings.warn(msg, FutureWarning)\n"
     ]
    },
    {
     "data": {
      "text/plain": [
       "<AxesSubplot:xlabel='Total Volume', ylabel='Density'>"
      ]
     },
     "execution_count": 14,
     "metadata": {},
     "output_type": "execute_result"
    },
    {
     "data": {
      "image/png": "[encoded data removed]",
      "text/plain": [
       "<Figure size 432x288 with 1 Axes>"
      ]
     },
     "metadata": {
      "needs_background": "light"
     },
     "output_type": "display_data"
    }
   ],
   "source": [
    "sns.distplot(avocados2['Total Volume'])"
   ]
  },
  {
   "cell_type": "markdown",
   "id": "240f4ec2",
   "metadata": {},
   "source": [
    "<div class=\"alert alert-block alert-danger\">\n",
    "Fails normal distribution; Positively skewed. Applying Square Root Transformation.\n",
    "</div>\n",
    "\n",
    "#### Transformation: Square Root"
   ]
  },
  {
   "cell_type": "code",
   "execution_count": 15,
   "id": "ef889747",
   "metadata": {},
   "outputs": [],
   "source": [
    "avocados2['TotalVolumeSQRT'] = np.sqrt(avocados2['Total Volume'])"
   ]
  },
  {
   "cell_type": "code",
   "execution_count": 16,
   "id": "68d9b07c",
   "metadata": {},
   "outputs": [
    {
     "name": "stderr",
     "output_type": "stream",
     "text": [
      "/Users/heather/opt/anaconda3/lib/python3.9/site-packages/seaborn/distributions.py:2619: FutureWarning: `distplot` is a deprecated function and will be removed in a future version. Please adapt your code to use either `displot` (a figure-level function with similar flexibility) or `histplot` (an axes-level function for histograms).\n",
      "  warnings.warn(msg, FutureWarning)\n"
     ]
    },
    {
     "data": {
      "text/plain": [
       "<AxesSubplot:xlabel='TotalVolumeSQRT', ylabel='Density'>"
      ]
     },
     "execution_count": 16,
     "metadata": {},
     "output_type": "execute_result"
    },
    {
     "data": {
      "image/png": "[encoded data removed]",
      "text/plain": [
       "<Figure size 432x288 with 1 Axes>"
      ]
     },
     "metadata": {
      "needs_background": "light"
     },
     "output_type": "display_data"
    }
   ],
   "source": [
    "sns.distplot(avocados2['TotalVolumeSQRT'])"
   ]
  },
  {
   "cell_type": "markdown",
   "id": "f8ba9cd1",
   "metadata": {},
   "source": [
    "<div class=\"alert alert-block alert-warning\">\n",
    "Looks more normal, but will proceed to LOG transformation to be sure. \n",
    "</div>"
   ]
  },
  {
   "cell_type": "markdown",
   "id": "3f431f46",
   "metadata": {},
   "source": [
    "### Transformation: LOG"
   ]
  },
  {
   "cell_type": "code",
   "execution_count": 17,
   "id": "22ed9061",
   "metadata": {},
   "outputs": [],
   "source": [
    "avocados2['TotalVolumeLOG'] = np.log(avocados2['Total Volume'])"
   ]
  },
  {
   "cell_type": "code",
   "execution_count": 18,
   "id": "643bee86",
   "metadata": {},
   "outputs": [
    {
     "name": "stderr",
     "output_type": "stream",
     "text": [
      "/Users/heather/opt/anaconda3/lib/python3.9/site-packages/seaborn/distributions.py:2619: FutureWarning: `distplot` is a deprecated function and will be removed in a future version. Please adapt your code to use either `displot` (a figure-level function with similar flexibility) or `histplot` (an axes-level function for histograms).\n",
      "  warnings.warn(msg, FutureWarning)\n"
     ]
    },
    {
     "data": {
      "text/plain": [
       "<AxesSubplot:xlabel='TotalVolumeLOG', ylabel='Density'>"
      ]
     },
     "execution_count": 18,
     "metadata": {},
     "output_type": "execute_result"
    },
    {
     "data": {
      "image/png": "[encoded data removed]",
      "text/plain": [
       "<Figure size 432x288 with 1 Axes>"
      ]
     },
     "metadata": {
      "needs_background": "light"
     },
     "output_type": "display_data"
    }
   ],
   "source": [
    "sns.distplot(avocados2['TotalVolumeLOG'])"
   ]
  },
  {
   "cell_type": "markdown",
   "id": "cd545219",
   "metadata": {},
   "source": [
    "<div class=\"alert alert-block alert-success\">\n",
    "Better, maybe? More parabolic... not quite normal...</div>"
   ]
  },
  {
   "cell_type": "markdown",
   "id": "e18f3dca",
   "metadata": {},
   "source": [
    "### Assumption: Homogeneity of Variance\n",
    "Using `Bartlett's test` since the data is now transformed close to normal distributed.Homogeneity of Variance is met if `p > .05` - *not significant*."
   ]
  },
  {
   "cell_type": "markdown",
   "id": "f843042b",
   "metadata": {},
   "source": [
    "#### Bartlett's Test\n",
    "To do Bartlett's test, use the function `scipy.stats.bartlett()`, with the argument of the `y data`, followed by the `x data`."
   ]
  },
  {
   "cell_type": "code",
   "execution_count": 19,
   "id": "bc2ff77e",
   "metadata": {},
   "outputs": [
    {
     "data": {
      "text/plain": [
       "BartlettResult(statistic=883.7919675933716, pvalue=3.275576009474301e-194)"
      ]
     },
     "execution_count": 19,
     "metadata": {},
     "output_type": "execute_result"
    }
   ],
   "source": [
    "scipy.stats.bartlett(avocados2['TotalVolumeLOG'], avocados2['regionR'])"
   ]
  },
  {
   "cell_type": "markdown",
   "id": "f9044e93",
   "metadata": {},
   "source": [
    "<div class=\"alert alert-block alert-danger\">\n",
    "Fails assumption of Homogeneity of Variance.<br>\n",
    "<i>p < .05</i>, which means that the data fails the assumption of Homogeneity of Variance.</div>"
   ]
  },
  {
   "cell_type": "markdown",
   "id": "84b53fbf",
   "metadata": {},
   "source": [
    "### Assumption: Sample Size\n",
    "*An ANOVA requires a sample size of at least 20 per independent variable.*<br>\n",
    "Number of independent variables: 1<br>Required number of cases: 20\n",
    "\n",
    "Number of cases: 1014"
   ]
  },
  {
   "cell_type": "code",
   "execution_count": 20,
   "id": "73552ec7",
   "metadata": {},
   "outputs": [
    {
     "name": "stdout",
     "output_type": "stream",
     "text": [
      "<class 'pandas.core.frame.DataFrame'>\n",
      "Int64Index: 1014 entries, 988 to 18008\n",
      "Data columns (total 17 columns):\n",
      " #   Column           Non-Null Count  Dtype  \n",
      "---  ------           --------------  -----  \n",
      " 0   Unnamed: 0       1014 non-null   int64  \n",
      " 1   Date             1014 non-null   object \n",
      " 2   AveragePrice     1014 non-null   float64\n",
      " 3   Total Volume     1014 non-null   float64\n",
      " 4   4046             1014 non-null   float64\n",
      " 5   4225             1014 non-null   float64\n",
      " 6   4770             1014 non-null   float64\n",
      " 7   Total Bags       1014 non-null   float64\n",
      " 8   Small Bags       1014 non-null   float64\n",
      " 9   Large Bags       1014 non-null   float64\n",
      " 10  XLarge Bags      1014 non-null   float64\n",
      " 11  type             1014 non-null   object \n",
      " 12  year             1014 non-null   int64  \n",
      " 13  region           1014 non-null   object \n",
      " 14  regionR          1014 non-null   int64  \n",
      " 15  TotalVolumeSQRT  1014 non-null   float64\n",
      " 16  TotalVolumeLOG   1014 non-null   float64\n",
      "dtypes: float64(11), int64(3), object(3)\n",
      "memory usage: 142.6+ KB\n"
     ]
    }
   ],
   "source": [
    "avocados2.info()"
   ]
  },
  {
   "cell_type": "markdown",
   "id": "2a53f557",
   "metadata": {},
   "source": [
    "### Assumption: Independence\n",
    "There is no statistical test for the assumption of independence, so you can proceed!"
   ]
  },
  {
   "cell_type": "markdown",
   "id": "5a1c15c4",
   "metadata": {},
   "source": [
    "---\n",
    "## Computing ANOVAs with Equal Variance (Met Homogeneity of Variance Assumption)\n",
    "In this case, your data did not meet this assumption, but for the purposes of learning, you'll be shown what to do if you had:"
   ]
  },
  {
   "cell_type": "code",
   "execution_count": 21,
   "id": "78dc4d65",
   "metadata": {},
   "outputs": [
    {
     "data": {
      "text/plain": [
       "F_onewayResult(statistic=174.05378837225294, pvalue=1.101276256457687e-65)"
      ]
     },
     "execution_count": 21,
     "metadata": {},
     "output_type": "execute_result"
    }
   ],
   "source": [
    "stats.f_oneway(avocados['Total Volume'][avocados['region']=='Indianapolis'],\n",
    "               avocados['Total Volume'][avocados['region']=='Orlando'],\n",
    "               avocados['Total Volume'][avocados['region']=='PhoenixTucson'])"
   ]
  },
  {
   "cell_type": "markdown",
   "id": "453376eb",
   "metadata": {},
   "source": [
    "<div class=\"alert alert-block alert-warning\">\n",
    "<b><i>p < .05</i></b>, which means there is a significant difference in <code>Total Volume</code> between <code>regions</code>.</div>"
   ]
  },
  {
   "cell_type": "markdown",
   "id": "604f5954",
   "metadata": {},
   "source": [
    "___\n",
    "## Post Hocs\n",
    "Run post-hocs to figure out what groups significantly differed from each other. In Python, the only automatically coding for post-hocs that is available is the Tukey post hoc."
   ]
  },
  {
   "cell_type": "markdown",
   "id": "753430a1",
   "metadata": {},
   "source": [
    "### Computing Post Hocs with Tukey's"
   ]
  },
  {
   "cell_type": "code",
   "execution_count": 22,
   "id": "f65f0974",
   "metadata": {},
   "outputs": [
    {
     "name": "stdout",
     "output_type": "stream",
     "text": [
      "Multiple Comparison of Means - Tukey HSD, FWER=0.05\n",
      "==================================================\n",
      "group1 group2 meandiff p-adj  lower  upper  reject\n",
      "--------------------------------------------------\n",
      "     0      1   0.4292 0.0253 0.0424  0.816   True\n",
      "     0      2   1.4766    0.0 1.0898 1.8634   True\n",
      "     1      2   1.0474    0.0 0.6606 1.4342   True\n",
      "--------------------------------------------------\n"
     ]
    }
   ],
   "source": [
    "postHoc = MultiComparison(avocados2['TotalVolumeLOG'], avocados2['regionR'])\n",
    "postHocResults = postHoc.tukeyhsd()\n",
    "print(postHocResults)"
   ]
  },
  {
   "cell_type": "markdown",
   "id": "64434ae2",
   "metadata": {},
   "source": [
    "This output provides the mean difference in variables, plus the confidence interval (`lower` and `upper` columns), and whether or not you can reject the null hypothesis.\n",
    "\n",
    "<b>If the value in the `reject` column is `True`, then this means there was a significant difference in the means between those groups.</b>"
   ]
  },
  {
   "cell_type": "markdown",
   "id": "7a09cec7",
   "metadata": {},
   "source": [
    "___\n",
    "## Determine Means and Draw Conclusions\n",
    "Examine the means to determine what the difference is between variables."
   ]
  },
  {
   "cell_type": "code",
   "execution_count": 23,
   "id": "a14999fb",
   "metadata": {},
   "outputs": [],
   "source": [
    "# isolate only the columns needed\n",
    "avocados3 = avocados2[['region', 'Total Volume']]"
   ]
  },
  {
   "cell_type": "code",
   "execution_count": 24,
   "id": "3f83f5da",
   "metadata": {},
   "outputs": [
    {
     "data": {
      "text/html": [
       "<div>\n",
       "<style scoped>\n",
       "    .dataframe tbody tr th:only-of-type {\n",
       "        vertical-align: middle;\n",
       "    }\n",
       "\n",
       "    .dataframe tbody tr th {\n",
       "        vertical-align: top;\n",
       "    }\n",
       "\n",
       "    .dataframe thead th {\n",
       "        text-align: right;\n",
       "    }\n",
       "</style>\n",
       "<table border=\"1\" class=\"dataframe\">\n",
       "  <thead>\n",
       "    <tr style=\"text-align: right;\">\n",
       "      <th></th>\n",
       "      <th>Total Volume</th>\n",
       "    </tr>\n",
       "    <tr>\n",
       "      <th>region</th>\n",
       "      <th></th>\n",
       "    </tr>\n",
       "  </thead>\n",
       "  <tbody>\n",
       "    <tr>\n",
       "      <th>Indianapolis</th>\n",
       "      <td>89536.661036</td>\n",
       "    </tr>\n",
       "    <tr>\n",
       "      <th>Orlando</th>\n",
       "      <td>173552.378373</td>\n",
       "    </tr>\n",
       "    <tr>\n",
       "      <th>PhoenixTucson</th>\n",
       "      <td>578826.368343</td>\n",
       "    </tr>\n",
       "  </tbody>\n",
       "</table>\n",
       "</div>"
      ],
      "text/plain": [
       "                Total Volume\n",
       "region                      \n",
       "Indianapolis    89536.661036\n",
       "Orlando        173552.378373\n",
       "PhoenixTucson  578826.368343"
      ]
     },
     "execution_count": 24,
     "metadata": {},
     "output_type": "execute_result"
    }
   ],
   "source": [
    "avocados3.groupby('region').mean()"
   ]
  },
  {
   "cell_type": "markdown",
   "id": "2903464b",
   "metadata": {},
   "source": [
    "<div class=\"alert alert-block alert-info\">\n",
    "<h1>Conclusion:</h1><br>\n",
    "The total volume of avocado sales between the 3 regions is significantly different, with PhoenixTucson having the highest total volume, and Indianapolis having the lowest total volume among the three.\n",
    "</div>"
   ]
  }
 ],
 "metadata": {
  "kernelspec": {
   "display_name": "Python 3 (ipykernel)",
   "language": "python",
   "name": "python3"
  },
  "language_info": {
   "codemirror_mode": {
    "name": "ipython",
    "version": 3
   },
   "file_extension": ".py",
   "mimetype": "text/x-python",
   "name": "python",
   "nbconvert_exporter": "python",
   "pygments_lexer": "ipython3",
   "version": "3.9.12"
  }
 },
 "nbformat": 4,
 "nbformat_minor": 5
}
